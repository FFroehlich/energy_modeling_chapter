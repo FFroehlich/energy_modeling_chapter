{
 "cells": [
  {
   "cell_type": "markdown",
   "metadata": {},
   "source": [
    "# A Practical Guide for the Efficient Formulation and Calibration of Large, Energy Rule-Based Models of Cellular Signal Transduction"
   ]
  },
  {
   "cell_type": "markdown",
   "metadata": {},
   "source": [
    "## Abstract"
   ]
  },
  {
   "cell_type": "markdown",
   "metadata": {},
   "source": [
    "Aberrant signal transduction leads to complex diseases such as cancer. To rationally design treatment strategies with small molecule inhibitors, computational models have to be employed. Energy Rule-based models allow the construction of mechanistic ordinary differential equation models based on structural insights. The detailed energy-based decription often generates large models, which are difficult to calibrate on experimental data. In this chapter, we provide a detailed, interactive protocol for the programmatic formulation and calibration of such large, energy rule-based models of cellular signal transduction."
   ]
  },
  {
   "cell_type": "markdown",
   "metadata": {
    "collapsed": true,
    "pycharm": {
     "name": "#%% \n"
    }
   },
   "source": [
    "## Introduction"
   ]
  },
  {
   "cell_type": "markdown",
   "metadata": {},
   "source": [
    "Cells use signal transduction to respond to extracellular cues, controlling a variety of different cellular processes such as proliferation, development and environmental adaption <cite data-cite=\"2754712/YK9CS8BY\"></cite>. Signal transduction is initiated by the binding of extracellular ligands bind to transmembrane receptors <cite data-cite=\"2754712/QR4JIKLV\"></cite> and then propagated through phosphorylation cascades <cite data-cite=\"2754712/B6ZP8LH6\"></cite> <cite data-cite=\"2754712/NPR437GQ\"></cite>, ultimately controlling gene expression through modulation of transcription factor activity. Mutations and changes in protein expression levels can dysregulate signal transduction leading to a variety of different diseases such as cancer <cite data-cite=\"2754712/L8NRTXRQ\"></cite>. Small molecule inhibitors can be used to target specific proteins that participate in aberrant signal transduction <cite data-cite=\"2754712/7ZXBI6XG\"></cite>. However, feedback mechanisms and cross-talk between signaling cascades, which are ubiquitous to cellular signal transduction lead to complex, non-linear responses to drug inhibition <cite data-cite=\"2754712/URVR5RD5\"></cite>, making it difficult to anticipate the phenotypic response or resistance to these inhibitors. Accordingly, computational models that describe signal transduction including the effect of drug perturbations are required for the rational selection and dosage of targeted inhibitors <cite data-cite=\"2754712/DUK5BLQ4\"></cite>. Mechanistic computational models of cellular signal transduction translate biological knowledge into executable mathematical formulations <cite data-cite=\"2754712/6JVZVNVK\"></cite>. To this end, ordinary differential equations (ODE) models are attractive model formats as they can describe temporal dynamics and feedback mechanisms <cite data-cite=\"2754712/X784IDZJ\"></cite>. Moreover, state variables and parameters correspond to biophysical entities, facilitating a direct interpretation of model simulations and predictions."
   ]
  },
  {
   "cell_type": "markdown",
   "metadata": {},
   "source": [
    "Formulation of such models is often a long labour intensive process, especially for large models. Instead of directly writing model equations, which can be tedious and error-prone, it is, thus, advisable to use some kind of abstraction when writing models. For example, the Systems Biology Markup Language (SBML) <cite data-cite=\"2754712/NF7FZULE\"></cite> encodes models using concepts such as reactions and events, which can then be translated in to differential equation models. Rule based formats such as Kappa <cite data-cite=\"2754712/NAKF6985\"></cite> or BioNetGen <cite data-cite=\"2754712/M82A4YPP\"></cite> employ even higher levels of abstractions through rules, which are generalizations of reactions <cite data-cite=\"2754712/MIF24GAE\"></cite>. While such abstractions limit the space of possible models, they also permit a more compact model description. A recent extension to rule based models are energy rule-based models <cite data-cite=\"2754712/6CAKFQQP\"></cite> <cite data-cite=\"2754712/QTNJGKHE\"></cite>, which provide an additional layer of abstraction, by specifying reaction rates in terms of energies. Conceptually, energies permit the theoretically sound formulation of reaction rates based on linear transition theory and provides a rigorous way of specifying context dependent reaction rates based on structural insights <cite data-cite=\"2754712/7TJH2IAK\"></cite> <cite data-cite=\"2754712/DI7IDWLV\"></cite>. Practically, energy based models enforce thermodynamic constraints such as the lewis-wegscheider cycle conditions <cite data-cite=\"2754712/VAJ8A9TA\"></cite>, which ensure the conservation of energy in oligomerization process. This is particularly relevant for the specification of context dependent inhibitor affinities. For example, many RAF inhibitors have different affinities for RAF monomers and dimers, which is responsible for the clinically observed phenomenon of \"paradoxical activation\" <cite data-cite=\"2754712/68C3KR4X\"></cite> <cite data-cite=\"2754712/GPZDY42G\"></cite> <cite data-cite=\"2754712/46UNKAAD\"></cite>."
   ]
  },
  {
   "cell_type": "markdown",
   "metadata": {},
   "source": [
    "Moreover, model calibration can be challenging for large models. During model calibration, parameter values are tuned such that model simulations agree with experimental data, which improves the predictive performance of models. Agreement between model simulations and experimental can be quantified using likelihood-based objective functions, in which case model calibration can be implemted through minimization of the respective objective function. For larger models, gradient-based optimization methods are known to perform well <cite data-cite=\"2754712/INKV577L\"></cite>. However, for non-linear models, analytical solutions to model equations are rarely available, which means that numerical integration is necessary for evaluation of the objective function and its derivatives. Gradient-based methods not only require integration of model equations, but also model sensitivities, which quantify the dependence of simulations on model parameters. For large models, adjoint sensitivity analysis is an effective way of computing these sensitivities, but also comes with it's drawbacks such as not permitting the computation of cheap approximations to the second order derivative which could boost optimizer efficiency <cite data-cite=\"2754712/MKPQ9727\"></cite>."
   ]
  },
  {
   "cell_type": "markdown",
   "metadata": {},
   "source": [
    "Model formulation and calibration for large models can be a challenging task <cite data-cite=\"2754712/C7C8DJNE\"></cite>, even when using specialized software tools. Input Formats such as SBML or PEtab <cite data-cite=\"2754712/86CV69R2\"></cite> permit the standardized problem formulation, which allows the automation of the majority of steps. However, manual interventions are still occasionally necessary to achieve optimal performance. Fixing these issues often requires substantial practical experience as well as theoretical background knowledge, which means that successful development and application of large models is often not possible without guidance from experts. To rectify this situation we here provide a detailed step-by-step protocol for the calibration of a large scale model introduced in <cite data-cite=\"2754712/I4JQ4DMV\"></cite>. In contrast to previous protocols for ODE model calibrations <cite data-cite=\"2754712/3DK88XY2\"></cite> , this protocol puts an emphasis on large scale models of intracellular signaling, focuses on practical aspects and includes executable code. As in other protocols, theoretical background is provided when appropriate. As  protocols and reviews that provide more details about additional analysis steps including identifiability, uncertainty analysis or model selection <cite data-cite=\"2754712/SP36R7LH\"></cite></cite><cite data-cite=\"2754712/HHEWVKQL\"></cite> <cite data-cite=\"2754712/NDTJEJ2U\"></cite> . The protocol uses the python toolboxes PySB <cite data-cite=\"2754712/7D6BBY4A\"></cite>, PEtab <cite data-cite=\"2754712/86CV69R2\"></cite>, AMICI <cite data-cite=\"2754712/HBAI2XHJ\"></cite>, pyPESTO and fides <cite data-cite=\"2754712/RUR9I9SQ\"></cite> and is accompanied by a jupyter notebook that permits the interactive reproduction of results."
   ]
  },
  {
   "cell_type": "markdown",
   "metadata": {},
   "source": [
    "## Mathematical Problem Formulation"
   ]
  },
  {
   "cell_type": "markdown",
   "metadata": {},
   "source": [
    "$\\newcommand{\\dims}[1]{{n_{#1}}}$ For ODE models, the temporal evolution of abundances of $\\dims{x}$ different molecular species $x_i$. The temporal evolution of $\\textbf{x}$ is determined by the vector field $f$ and the initial condition $\\textbf{x}_0$:\n",
    "\n",
    "\\begin{equation}\n",
    "\\dot{\\textbf{x}}=\\textbf{f}(t,\\textbf{x},\\boldsymbol{\\eta}),\\quad \\textbf{x}(t_0) = \\textbf{x}_0(\\boldsymbol{\\gamma}).\n",
    "\\label{eq:ode} \\tag{1}\n",
    "\\end{equation}\n",
    "\n",
    "Both $\\textbf{f}$ and $\\textbf{x}_0$ may depend on dynamic parameters $\\boldsymbol{\\gamma}$, which may include kinetic parameters such as catalytic or binding rates or condition parameters such as ligand or drug concentrations.\n",
    "\n",
    "Calibration is performed by comparing model simulations, i.e., solutions $\\textbf{x}$ that satisfy $\\eqref{eq:ode}$, to experimental data $\\bar{\\textbf{y}}$. As direct measurement of $\\textbf{x}$ is usually experimentally not possible, observables\n",
    "\n",
    "\\begin{equation}\n",
    "\\textbf{y}(t,\\boldsymbol{\\gamma},\\boldsymbol{\\xi}) = \\textbf{g}(\\textbf{x}(t,\\boldsymbol{\\gamma}),\\boldsymbol{\\xi})\n",
    "\\label{eq:observable}\n",
    "\\end{equation}\n",
    "\n",
    "are introduced, which may depend on abundances $\\textbf{x}$ as well as observable parameters $\\boldsymbol{\\xi}$ such as scaling parameters or offsets. The agreement between model observables $\\textbf{y}$ and experimental measurements $\\bar{\\textbf{y}}$ can be quantified according to the assumed noise model. A common assumption is that the measurement noise for $\\dims{y}$ observables $y_i$ is additive and independent, normally distributed:\n",
    "\n",
    "\\begin{equation}\n",
    "\\bar{y}_{i} = y_i(t,\\boldsymbol{\\gamma},\\boldsymbol{\\xi}) + \\epsilon_{i}, \\quad \\epsilon_{i} \\overset{id}{\\sim} \\mathcal{N}(0,\\sigma_{i}^2(\\boldsymbol{\\psi}))\n",
    "\\label{eq:noise}\n",
    "\\end{equation}\n",
    "\n",
    "where $\\boldsymbol{\\psi}$ are noise parameters that encode the standard deviations $\\boldsymbol{\\sigma}$. Using this noise model, the negative log-likelihood \n",
    "\n",
    "\\begin{equation}\n",
    "\\begin{aligned}\n",
    "J(\\boldsymbol{\\theta}) =&  \\frac{1}{2} \\sum_{i=k}^\\dims{k} \\sum_{(i,j) \\in T_k} \\log\\left(2\\pi\\sigma_{i}^2(\\boldsymbol{\\Psi}_{ijk}(\\boldsymbol{\\theta}))\\right) + \\left(\\frac{\\bar{y}_{ijk} - y_{i}(t_j,\\boldsymbol{\\Gamma}_k(\\boldsymbol{\\theta}),\\boldsymbol{\\Xi}_{ijk}(\\boldsymbol{\\theta}))}{\\sigma_{i}(\\boldsymbol{\\Psi}_{ijk}(\\boldsymbol{\\theta}))}\\right)^2\n",
    "\\label{eq:objective}\n",
    "\\end{aligned}\n",
    "\\end{equation}\n",
    "\n",
    "statistically rigorously quantifies the agreement between experimental data and model simulations, where $\\boldsymbol{\\theta}$ are the free, unknown parameters, $T_k$ is the set of timepoint $t_j$, observable $y_i$ index combinations that were measured in the $k$-th out of $\\dims{k}$ experimental conditions, $\\boldsymbol{\\Psi}_{ijk}$ is a function that maps free parameters $\\boldsymbol{\\theta}$ to observable, timepoint and condition specific noise parameters $\\boldsymbol{\\psi}$, $\\boldsymbol{\\Xi}_{ijk}$ is a function that maps free parameters $\\boldsymbol{\\theta}$ to observable, timepoint and condition specific observable parameters $\\boldsymbol{\\xi}$ and $\\boldsymbol{\\Gamma_{k}}$ is a function that maps free parameters $\\boldsymbol{\\theta}$ to condition specific dynamic parameters $\\boldsymbol{\\gamma}$ . As the logarithm is a strictly monotonously increasing function, the minimization of $ J(\\boldsymbol{\\theta})$ is equivalent to the maximization of the likelihood. Therefore, the corresponding minimization problem\n",
    "\n",
    "\\begin{equation}\n",
    "\\boldsymbol{\\theta}^* = \\arg \\min_{\\boldsymbol{\\theta} \\in \\Theta} J(\\boldsymbol{\\theta}),\n",
    "\\label{eq:mle}\n",
    "\\end{equation}\n",
    "\n",
    " will infer the Maximum Likelihood Estimate $\\boldsymbol{\\theta}^*$ for parameters $\\boldsymbol{\\theta}$, where the search domain $\\Theta\\subset{\\mathbb{R}}^{\\dims{\\theta}}$ restricts the free parameters $\\boldsymbol{\\theta}$ to values that are biologically reasonable and prevent numerical integration failures. For most problems, $\\Theta$ is chosen as tensor product of scalar search domains $(\\mathcal{L}_l,\\mathcal{U}_l)$ with $\\mathcal{L}_l < \\mathcal{U}_l $ and $\\mathcal{L}_l, \\mathcal{U}_l \\in \\mathbb{R}\\cup\\{-\\infty,\\infty\\}$ for every parameter $\\theta_l$."
   ]
  },
  {
   "cell_type": "markdown",
   "metadata": {},
   "source": [
    "## Formulating a Thermodynamic Model of RAF inhibition in PySB"
   ]
  },
  {
   "cell_type": "markdown",
   "metadata": {},
   "source": [
    "In the following, we will specify the model, which in turn defines the right hand side $\\textbf{f}$ and the initial conditions $\\textbf{x}_0$ of the model equations. We will specify the model using the rule-based modeling framework PySB, which instead of direct specification of $\\textbf{f}$, programmatically encodes model structure in a modular, object oriented way ensuring reusability, composability and extendability of models <cite data-cite=\"2754712/7D6BBY4A\"></cite>. To start model specification, we instantiate a PySB [`Model`](https://pysb.readthedocs.io/en/stable/modules/core.html#pysb.core.Model) with name `thermo_raf`."
   ]
  },
  {
   "cell_type": "code",
   "execution_count": 1,
   "metadata": {},
   "outputs": [],
   "source": [
    "from pysb import Model\n",
    "model = Model('thermo_raf');"
   ]
  },
  {
   "cell_type": "markdown",
   "metadata": {},
   "source": [
    "### Protein Species\n",
    "As first step of the model construction, we have to define all molecules that we want to account for. In PySB, this is done by using the `Monomer` class. Each monomer is initialized by a unique identifier, a list of site as well as, optionally, a list of states for each site. Sites typically correspond to binding domains or residues that can be mutated or modified post-translationally. All sites, independent of whether possible states were specified or not, can form a bond with another site, permitting the description of complex formation.\n",
    "\n",
    "Here, we we will define monomers `BRAF` and `CRAF` which both feature the interaction sites `RBD` (interaction domain with RAS), `mek` (interaction domain with MEK), `raf` (dimerization domain) and `rafi` (inhibitor binding site). For BRAF we also add a mutation sites for the 600th amino acid, which can take values `V` (valine, wildtype) or `E` (glutamic acid, oncogenic mutation)."
   ]
  },
  {
   "cell_type": "code",
   "execution_count": 2,
   "metadata": {},
   "outputs": [],
   "source": [
    "from pysb import Monomer\n",
    "Monomer('BRAF', ['AA600', 'RBD', 'mek', 'raf', 'rafi'], {'AA600': ['E', 'V']})\n",
    "Monomer('CRAF', ['RBD', 'mek', 'raf', 'rafi']);"
   ]
  },
  {
   "cell_type": "markdown",
   "metadata": {},
   "source": [
    "Next, we will specify initial concentrations. For this model, the concentration of all molecular species will be in $\\mu\\mathrm{M}$. However, we will use protein counts per cell derived from absolute proteomics to inform initial conditions. Accordingly, parameters that define initial concentrations have to be transformed from molecule per cell to $\\mu\\mathrm{M}$, which is achieved by dividing them by cell volume (here assumed to be $1pL = 10^{-12} L$) and the Avogadro constant ($6.022 10^{23}$ molecules) and multiplying with $10^{6}$ to account for the unit prefix $\\mu$.\n",
    "\n",
    "In the following code, we first introduce two PySB [`Expressions`](https://pysb.readthedocs.io/en/stable/modules/core.html#pysb.core.Expression) that define the avogadro constant and cell volume. PySB automatically creates workspace variables with the respective identifier, the first argument in the constructor call, which can then later be used as argument to functions or as part of more complex expressions. Next, we introduce two dynamic parameters ($\\boldsymbol{\\gamma}$, see $\\eqref{eq:ode}$) as PySB [`Parameter`](https://pysb.readthedocs.io/en/stable/modules/core.html#pysb.core.Parameter)s `BRAF_0` and `CRAF_0` that define initial abundances as molecules per cell and convert these abundances to concentrations in $\\mu\\mathrm{M}$ using the expressions `initBRAF` and `initCRAF`. These expressions are then used to define the initial abundances for the two monomer species `CRAF` and `BRAF` using the PySB `Initial` class, which specifies $\\textbf{x}_0$ for the respective molecular species $x_i$. In PySB, a molecular species is defined by a pattern, which is created by invoking the respective monomer with the state of each site as keyword argument. For initial conditions, the respective patterns have to be explicit, i.e., the states of all stites have to specified. Here, we specify that all sites are unbound (denoted by `None`), with the exception of the the `AA600` site. For the `AA600` we have to pick ony of the previously specified states, where we pick the oncogenic variant denoted by `E`. For all molecular species without an explicit instantiation of [`Initial`](https://pysb.readthedocs.io/en/stable/modules/core.html#pysb.core.Initial), the respective entry in $\\textbf{x}_0$ is set to $0$."
   ]
  },
  {
   "cell_type": "code",
   "execution_count": 3,
   "metadata": {},
   "outputs": [],
   "source": [
    "from pysb import Parameter, Expression, Initial\n",
    "import sympy as sp\n",
    "\n",
    "# define Avogadro constant and volume as hardcoded expressions\n",
    "Expression('N_Avogadro', sp.Float(6.02214076e+23))\n",
    "Expression('volume', sp.Float(1e-12))\n",
    "\n",
    "# define initial abundance parameters \n",
    "Parameter('BRAF_0', 0.0)\n",
    "Parameter('CRAF_0', 0.0)\n",
    "\n",
    "# convert initial abundances to concentrations\n",
    "Expression('initBRAF', 1000000.0*BRAF_0/(N_Avogadro*volume))\n",
    "Expression('initCRAF', 1000000.0*CRAF_0/(N_Avogadro*volume))\n",
    "\n",
    "# define initial molecular species\n",
    "Initial(BRAF(AA600='E', RBD=None, mek=None, raf=None, rafi=None), initBRAF)\n",
    "Initial(CRAF(RBD=None, mek=None, raf=None, rafi=None), initCRAF);"
   ]
  },
  {
   "cell_type": "markdown",
   "metadata": {},
   "source": [
    "### Protein Interactions\n",
    "In rule-based modeling, all dynamic interactions are specified as rules. PySB [`Rule`](https://pysb.readthedocs.io/en/stable/modules/core.html#pysb.core.Rule)s are generalizations of biochemical reactions and their action is defined by a reactant pattern and a product pattern. When applied to a molecular species, the action of the rule, i.e., the respective biochemical reaction, is implemented by replacing one occurence of the reactant pattern by the product pattern in a molecular species. The reactant pattern and product pattern do not have to be explicit and a single rule can define multiple different biochemical reactions, depending in how often and in how many molecular species the reactant pattern occurs.\n",
    "\n",
    "Non-thermodynamic rules additionally require forward $k_f$ and, if applicable, reverse reaction rates $k_r$. In contrast, thermodynamic rules are specified in terms of activation energy $E_a$ and the phenomenological constant $\\phi$, the convex combination parameter which encodes how much changes in free energy affect forwards and reverse rates. For thermodynamic rules, the reaction rate also depends the free energy difference between to reactants and products of the reaction. This is implemented by computing forward $k_f$ and reverse $k_r$ reaction rates using the Arrhenius theory of reaction rates\n",
    "\n",
    "$$k_f=\\exp( - (E_a + \\phi \\Delta G)), \\quad k_r=\\exp( - (E_a + (\\phi - 1) \\Delta G))$$\n",
    "\n",
    "with \n",
    "\n",
    "$$\\Delta G = - \\sum_{r \\in R} \\Delta \\Delta G_r + \\sum_{p \\in P} \\Delta \\Delta G_p$$\n",
    "\n",
    "where $E_a$ is the activation energy of the reaction, i.e., the free energy difference between the reactant state and the transition state, $\\Delta G$ is the free energy difference between the reactant and the product states  and $\\Delta \\Delta G_r$ and $\\Delta \\Delta G_p$ are the free energy modifiers that apply to the reactants in $R$ and the products in $P$ respectively. The $\\Delta \\Delta G_r$ and $\\Delta \\Delta G_p$ can be specified by using the PySB `EnergyPattern` class. When calculating reaciton rates, eBNG not only accounts for EnergyPatterns that apply to the reactant and product patterns specified in the rule, but also those EnergyPatterns that specifally apply to reactant and product species. Thus, `EnergyPattern`s provide a systematic approach to specify context dependent reaction rates, which in the case of non-thermodynamic rules could only be achieved through the use of local functions.\n",
    "\n",
    "In the following we will specify the dimerization of RAF molecules. We introduce three parameters, the activation energy for the binding reaction $E_a$ (Ea suffix), the Gibb's free energy of the formed bond $\\Delta G$ (dG suffix), and the thermodynamic parameter $\\phi$ (phi suffix)."
   ]
  },
  {
   "cell_type": "code",
   "execution_count": 4,
   "metadata": {},
   "outputs": [],
   "source": [
    "Parameter('bind_RAF_RAF_Ea', 10.0)\n",
    "Parameter('bind_RAF_RAF_dG', 0.01)\n",
    "Parameter('bind_RAF_RAF_phi', 1.0);"
   ]
  },
  {
   "cell_type": "markdown",
   "metadata": {},
   "source": [
    "To enforce that the actication energy $E_a = - \\log(k_f)$ encodes the forward reaction rate and $\\Delta G = - \\log(K) = -\\log \\left(\\frac{k_r}{k_f}\\right)$ encodes the affinity constant $K$ we will pass a specially crafted custom activation energy $E_{a0} = - \\phi \\Delta G - E_a$, for which we create a custom expression. To then construct homo- and heterodimerization rules for all RAF paralogs, we use itertools to loop over all combinations of BRAF and CRAF, assuming equal affinities and dynamics for all proteins. For every rule we pass the custom energy $Ea_0$ and then specify an `EnergyPattern` for the single product pattern (`pp`) with $\\Delta \\Delta G_p = \\Delta G$."
   ]
  },
  {
   "cell_type": "code",
   "execution_count": 5,
   "metadata": {
    "code_folding": []
   },
   "outputs": [],
   "source": [
    "from pysb import Rule, EnergyPattern\n",
    "import itertools as itt\n",
    "\n",
    "Expression('Ea0_bind_RAF_RAF', -bind_RAF_RAF_phi*bind_RAF_RAF_dG - bind_RAF_RAF_Ea);\n",
    "\n",
    "for RAF1, RAF2 in itt.combinations_with_replacement([BRAF, CRAF], 2):\n",
    "    pp = RAF1(raf=1) % RAF2(raf=1)\n",
    "    Rule(f'{RAF1.name}_and_{RAF2.name}_bind_and_dissociate', \n",
    "         RAF1(raf=None) + RAF2(raf=None) | pp, \n",
    "         bind_RAF_RAF_phi, Ea0_bind_RAF_RAF, energy=True)\n",
    "    EnergyPattern(f'ep_bind_{RAF1.name}_{RAF2.name}', pp, bind_RAF_RAF_dG);"
   ]
  },
  {
   "cell_type": "markdown",
   "metadata": {},
   "source": [
    "### RAF inhibitor\n",
    "Here we introduce a RAF inhibitor RAFi. We assume that the inhibitor is added to the cell medium at some point and quickly diffuses in and out of the cell. As extracellular space is much bigger than the volume of a cell, we can assume an infinite reservoir of molecules on the outside and assume that the intracellular inhibitors concentration will be unaffected by intracellular reactions. Accordingly, we specify the respective initial as constant, which means that the respective molecular species can participate in reactions, but it's concentration will remain constant."
   ]
  },
  {
   "cell_type": "code",
   "execution_count": 6,
   "metadata": {},
   "outputs": [],
   "source": [
    "Monomer('RAFi', ['raf'])\n",
    "\n",
    "Initial(RAFi(raf=None), Parameter('RAFi_0', 0.0), fixed=True);"
   ]
  },
  {
   "cell_type": "markdown",
   "metadata": {},
   "source": [
    "Next we define binding reactions for RAFi with both BRAF and CRAF, again assuming the same affinities and activation energies for both reactions."
   ]
  },
  {
   "cell_type": "code",
   "execution_count": 7,
   "metadata": {},
   "outputs": [],
   "source": [
    "Parameter('bind_RAFi_RAF_Ea', 10.0)\n",
    "Parameter('bind_RAFi_RAF_dG', 0.01)\n",
    "Parameter('bind_RAFi_RAF_phi', 1.0)\n",
    "Expression('Ea0_bind_RAFi_RAF', -bind_RAFi_RAF_phi*bind_RAFi_RAF_dG - bind_RAFi_RAF_Ea)\n",
    "\n",
    "for RAF in [BRAF, CRAF]:\n",
    "    Rule(f'RAFi_and_{RAF.name}_bind_and_dissociate', \n",
    "         RAFi(raf=None) + RAF(rafi=None) | RAFi(raf=1) % RAF(rafi=1), \n",
    "         bind_RAFi_RAF_phi, Ea0_bind_RAFi_RAF, energy=True)\n",
    "    EnergyPattern(f'ep_bind_{RAF.name}_RAFi', RAFi(raf=1) % RAF(rafi=1), bind_RAFi_RAF_dG);"
   ]
  },
  {
   "cell_type": "markdown",
   "metadata": {},
   "source": [
    "### Paradoxical Activation\n",
    "RAF inhibitors inhibit growth for BRAF mutants but promote growth for NRAS mutants. At the strucural level, this can be rationalized by assuming that RAF inhibitors have higher affinity towards drug-unbound RAF dimers and lower affinity towards drug bound RAF dimers. The symmetry, conveyed by energy conservation of molecular binding reactions, implies that RAF inhibitors, at low to medium concentrations, promote dimerization but incompletely inhibit signaling as they only bind to one of the two protomers in a dimer. As MAPK signaling in NRAS mutant cells is mediated by RAF dimers, respective signaling is amplified, leading to increased growth. In the thermodynamic models, this can be implemented by specifying additional `EnergyPattern`s  that controls the Gibbs free energy of RAF-RAF-RAFi trimers. Note that we do not specify how these trimers are formed, so the change in energy will equally apply to the rates of all reactions that either consume or produce these trimers. In this example, an decrease in energy would equally increase RAF dimerization and inhbitor binding, thus implementing the previously described symmetry."
   ]
  },
  {
   "cell_type": "code",
   "execution_count": 8,
   "metadata": {},
   "outputs": [],
   "source": [
    "Parameter('ep_RAF_RAF_mod_RAFi_single_ddG', 0.001)\n",
    "for RAF1, RAF2 in itt.product([BRAF, CRAF], repeat=2):\n",
    "    EnergyPattern(f'ep_{RAF1.name}_{RAF2.name}_mod_RAFi_single', \n",
    "                  RAF1(raf=1, rafi=None) % RAF2(raf=1, rafi=2) % RAFi(raf=2), ep_RAF_RAF_mod_RAFi_single_ddG);"
   ]
  },
  {
   "cell_type": "markdown",
   "metadata": {},
   "source": [
    "To implement the protection of the second dimer, we add an additional `EnergyPattern` that changes the Gibbs free energy of RAFi-RAF-RAF-RAFi quatramers."
   ]
  },
  {
   "cell_type": "code",
   "execution_count": 9,
   "metadata": {},
   "outputs": [],
   "source": [
    "Parameter('ep_RAF_RAF_mod_RAFi_double_ddG', 1000.0)\n",
    "for RAF1, RAF2 in itt.combinations_with_replacement([BRAF, CRAF], r=2):\n",
    "    EnergyPattern(f'ep_{RAF1.name}_{RAF2.name}_mod_RAFi_double', \n",
    "                  RAFi(raf=2) % BRAF(raf=1, rafi=2) % BRAF(raf=1, rafi=3) % RAFi(raf=3), \n",
    "                  ep_RAF_RAF_mod_RAFi_double_ddG);"
   ]
  },
  {
   "cell_type": "markdown",
   "metadata": {},
   "source": [
    "Here we note that these `EnergyPattern`s only specify that changes in affinity are permissible in the model. The nature of these changes has to be encoded in their values, where negative values lead to stabilization and positive values to destabilization of respective complexes."
   ]
  },
  {
   "cell_type": "markdown",
   "metadata": {},
   "source": [
    "We will now load the remainder of the model from a file. Briefly, the full model describes MEK and ERK phosphorylation downstream as well as EGF stimulatable EGFR signaling upstream of RAF signaling. Moreover, it incorporates negative feedback from ERK on both MAPK and EGFR signaling. A comprehensive description of this part of the model is available in <cite data-cite=\"2754712/I4JQ4DMV\"></cite>. Note however, that parts of the model were substantially simplified account for the reduced set of experimental data."
   ]
  },
  {
   "cell_type": "code",
   "execution_count": 10,
   "metadata": {
    "code_folding": [],
    "hide_input": false
   },
   "outputs": [],
   "source": [
    "from pysb import Observable, ANY\n",
    "def extend_model():\n",
    "    Monomer('RAS', ['raf', 'state'], {'state': ['gdp', 'gtp']})\n",
    "    Monomer('MEK', ['phospho'], {'phospho': ['p', 'u']})\n",
    "    Monomer('ERK', ['phospho'], {'phospho': ['p', 'u']})\n",
    "    Monomer('DUSP', [])\n",
    "\n",
    "    Parameter('ep_RAF_RAF_mod_RASstategtp_double_ddG', 1000.0)\n",
    "    Parameter('bind_RASstategtp_RAF_Ea', 10.0)\n",
    "    Parameter('bind_RASstategtp_RAF_dG', 0.01)\n",
    "    Parameter('bind_RASstategtp_RAF_phi', 1.0)\n",
    "    Parameter('catalyze_RAF_RAFrafiNone_MEK_p_kcat', 10.0)\n",
    "    Parameter('catalyze_RAFrafiNone_MEK_p_kcat', 10.0)\n",
    "    Parameter('catalyze_MEKmekiNone_phosphop_ERK_p_kcat', 10.0)\n",
    "    Parameter('synthesize_ERKphosphop_DUSP_ERK_gexpslope', 1000.0)\n",
    "    Parameter('synthesize_ERKphosphop_DUSP_kdeg', 10.0)\n",
    "    Parameter('synthesize_ERKphosphop_DUSP_ERK_kM', 0.0)\n",
    "    Parameter('inhibition_ERKphosphop_RAS_kM', 0.0)\n",
    "    Parameter('catalyze_PP2A_MEK_u_kcatr', 1.0)\n",
    "    Parameter('catalyze_DUSP_ERK_u_kcatr', 1.0)\n",
    "    Parameter('activation_RAS_kcat', 1.0)\n",
    "\n",
    "    Parameter('RAS_0', 0.0)\n",
    "    Parameter('MEK_0', 0.0)\n",
    "    Parameter('ERK_0', 0.0)\n",
    "    Parameter('EGF_0', 0.0)\n",
    "    Parameter('DUSP_eq', 10000.0)\n",
    "\n",
    "    Expression('Ea0_bind_RASstategtp_BRAF', \n",
    "               -bind_RASstategtp_RAF_phi*bind_RASstategtp_RAF_dG - bind_RASstategtp_RAF_Ea)\n",
    "    Expression('Ea0_bind_RASstategtp_CRAF', \n",
    "               -bind_RASstategtp_RAF_phi*bind_RASstategtp_RAF_dG - bind_RASstategtp_RAF_Ea)\n",
    "    \n",
    "    Expression('catalyze_PP2A_MEK_u_kcat', catalyze_PP2A_MEK_u_kcatr*catalyze_RAFrafiNone_MEK_p_kcat)\n",
    "    Expression('catalyze_DUSP_ERK_u_kcat', catalyze_DUSP_ERK_u_kcatr*catalyze_MEKmekiNone_phosphop_ERK_p_kcat)\n",
    "\n",
    "    Expression('initMEK', 1000000.0*MEK_0/(N_Avogadro*volume))\n",
    "    Expression('initERK', 1000000.0*ERK_0/(N_Avogadro*volume))\n",
    "    Expression('initRAS', 1000000.0*RAS_0/(N_Avogadro*volume))\n",
    "\n",
    "    Observable('modulation_ERKphosphop', ERK(phospho='p'))\n",
    "\n",
    "    Expression('synthesize_ERKphosphop_DUSP_ERK_kmod', modulation_ERKphosphop*synthesize_ERKphosphop_DUSP_ERK_gexpslope/(modulation_ERKphosphop + synthesize_ERKphosphop_DUSP_ERK_kM) + 1)\n",
    "    Expression('synthesize_ERKphosphop_DUSP_ksyn', 1.0*DUSP_eq*synthesize_ERKphosphop_DUSP_kdeg*synthesize_ERKphosphop_DUSP_ERK_kmod)\n",
    "    Expression('inhibition_ERKphosphop_RAS_kmod', activation_RAS_kcat/(1 + modulation_ERKphosphop/inhibition_ERKphosphop_RAS_kM)*EGF_0/100.0)\n",
    "\n",
    "\n",
    "    Rule('RASgtp_and_BRAF_bind_and_dissociate', \n",
    "         RAS(raf=None) + BRAF(RBD=None) | \n",
    "         RAS(raf=1) % BRAF(RBD=1), \n",
    "         bind_RASstategtp_RAF_phi, Ea0_bind_RASstategtp_BRAF, energy=True)\n",
    "    Rule('RASgtp_and_CRAF_bind_and_dissociate', \n",
    "         RAS(raf=None) + CRAF(RBD=None) | \n",
    "         RAS(raf=1) % CRAF(RBD=1), \n",
    "         bind_RASstategtp_RAF_phi, Ea0_bind_RASstategtp_CRAF, energy=True)\n",
    "    Rule('BRAF_BRAF_phosphorylates_MEK', \n",
    "         MEK(phospho='u') + BRAF(RBD=ANY, raf=2, rafi=None) % BRAF(RBD=ANY, raf=2) >> \n",
    "         MEK(phospho='p') + BRAF(RBD=ANY, raf=2, rafi=None) % BRAF(RBD=ANY, raf=2), \n",
    "         catalyze_RAF_RAFrafiNone_MEK_p_kcat)\n",
    "    Rule('CRAF_BRAF_phosphorylates_MEK', \n",
    "         MEK(phospho='u') + CRAF(RBD=ANY, raf=2, rafi=None) % BRAF(RBD=ANY, raf=2) >> \n",
    "         MEK(phospho='p') + CRAF(RBD=ANY, raf=2, rafi=None) % BRAF(RBD=ANY, raf=2), \n",
    "         catalyze_RAF_RAFrafiNone_MEK_p_kcat)\n",
    "    Rule('CRAF_CRAF_phosphorylates_MEK', \n",
    "         MEK(phospho='u') + CRAF(RBD=ANY, raf=2, rafi=None) % CRAF(RBD=ANY, raf=2) >> \n",
    "         MEK(phospho='p') + CRAF(RBD=ANY, raf=2, rafi=None) % CRAF(RBD=ANY, raf=2), \n",
    "         catalyze_RAF_RAFrafiNone_MEK_p_kcat)\n",
    "    Rule('BRAFV600E_phosphorylates_MEK_bound1', \n",
    "         MEK(phospho='u') + BRAF(AA600='E', raf=None, rafi=None) >> \n",
    "         MEK(phospho='p') + BRAF(AA600='E', raf=None, rafi=None), \n",
    "         catalyze_RAFrafiNone_MEK_p_kcat)\n",
    "    Rule('BRAFV600E_phosphorylates_MEK_bound2', \n",
    "         MEK(phospho='u') + BRAF(AA600='E', RBD=None, raf=ANY, rafi=None) >> \n",
    "         MEK(phospho='p') + BRAF(AA600='E', RBD=None, raf=ANY, rafi=None), \n",
    "         catalyze_RAFrafiNone_MEK_p_kcat)\n",
    "    Rule('BRAFV600E_phosphorylates_MEK_bound3', \n",
    "         MEK(phospho='u') + BRAF(AA600='E', RBD=ANY, raf=2, rafi=None) % BRAF(RBD=None, raf=2) >>\n",
    "         MEK(phospho='p') + BRAF(AA600='E', RBD=ANY, raf=2, rafi=None) % BRAF(RBD=None, raf=2), \n",
    "         catalyze_RAFrafiNone_MEK_p_kcat)\n",
    "    Rule('BRAFV600E_phosphorylates_MEK_bound4', \n",
    "         MEK(phospho='u') + BRAF(AA600='E', RBD=ANY, raf=2, rafi=None) % CRAF(RBD=None, raf=2) >> \n",
    "         MEK(phospho='p') + BRAF(AA600='E', RBD=ANY, raf=2, rafi=None) % CRAF(RBD=None, raf=2), \n",
    "         catalyze_RAFrafiNone_MEK_p_kcat)\n",
    "    Rule('MEK_is_dephosphorylated', \n",
    "         MEK(phospho='p') >> \n",
    "         MEK(phospho='u'), catalyze_PP2A_MEK_u_kcat)\n",
    "    Rule('pMEK_phosphorylates_ERK', \n",
    "         ERK(phospho='u') + MEK(phospho='p') >> \n",
    "         ERK(phospho='p') + MEK(phospho='p'), catalyze_MEKmekiNone_phosphop_ERK_p_kcat)\n",
    "    Rule('DUSP_dephosphorylates_ERK', \n",
    "         ERK(phospho='p') + DUSP() >> \n",
    "         ERK(phospho='u') + DUSP(), catalyze_DUSP_ERK_u_kcat)\n",
    "    Rule('synthesis_DUSP', \n",
    "         None >> DUSP(), \n",
    "         synthesize_ERKphosphop_DUSP_ksyn)\n",
    "    Rule('basal_degradation_DUSP', \n",
    "         DUSP() >> None, \n",
    "         synthesize_ERKphosphop_DUSP_kdeg, delete_molecules=True)\n",
    "    Rule('activation_RAS', \n",
    "         RAS(state='gdp') | RAS(state='gtp'), \n",
    "         inhibition_ERKphosphop_RAS_kmod, activation_RAS_kcat)\n",
    "\n",
    "    EnergyPattern('ep_BRAF_BRAF_mod_RAS_double', RAS(raf=2, state='gtp') % BRAF(RBD=2, raf=1) % BRAF(RBD=3, raf=1) % RAS(raf=3, state='gtp'), ep_RAF_RAF_mod_RASstategtp_double_ddG)\n",
    "    EnergyPattern('ep_BRAF_CRAF_mod_RAS_double', RAS(raf=2, state='gtp') % BRAF(RBD=2, raf=1) % CRAF(RBD=3, raf=1) % RAS(raf=3, state='gtp'), ep_RAF_RAF_mod_RASstategtp_double_ddG)\n",
    "    EnergyPattern('ep_CRAF_CRAF_mod_RAS_double', RAS(raf=2, state='gtp') % CRAF(RBD=2, raf=1) % CRAF(RBD=3, raf=1) % RAS(raf=3, state='gtp'), ep_RAF_RAF_mod_RASstategtp_double_ddG)\n",
    "    EnergyPattern('ep_bind_RASstategtp_BRAF', RAS(raf=1, state='gtp') % BRAF(RBD=1), bind_RASstategtp_RAF_dG)\n",
    "    EnergyPattern('ep_bind_RASstategtp_CRAF', RAS(raf=1, state='gtp') % CRAF(RBD=1), bind_RASstategtp_RAF_dG)\n",
    "\n",
    "    Initial(RAS(raf=None, state='gdp'), initRAS)\n",
    "    Initial(MEK(phospho='u'), initMEK)\n",
    "    Initial(ERK(phospho='u'), initERK)\n",
    "\n",
    "extend_model();"
   ]
  },
  {
   "cell_type": "markdown",
   "metadata": {},
   "source": [
    "## Importing data in PEtab Format"
   ]
  },
  {
   "cell_type": "markdown",
   "metadata": {},
   "source": [
    "With the model at hand, the next step for model calibration is specification of the objective function $\\eqref{eq:objective}$. We will specify the objective function using PEtab<cite data-cite=\"2754712/86CV69R2\"></cite>, which simplifies the definition of multiple experimental conditions. The petab specification of a calibration problem consists of the tables describing model observables, experimental measurements, experimental conditions and model parameters. Additionally, tables describing the visualization of simulations and data may also be included."
   ]
  },
  {
   "cell_type": "markdown",
   "metadata": {},
   "source": [
    "## Observables\n",
    "\n",
    "We will start the PEtab definition by specifying the model observables $\\textbf{y}$ (see $\\eqref{eq:observable}$). Observables define the the model quantities that were measured experimentally, here pMEK and pERK. First, we add respective observables to the model using PySB [`Observable`](https://pysb.readthedocs.io/en/stable/modules/core.html#pysb.core.Observable)s:"
   ]
  },
  {
   "cell_type": "code",
   "execution_count": 11,
   "metadata": {},
   "outputs": [],
   "source": [
    "Observable('pMEK_obs', MEK(phospho='p'))\n",
    "Observable('pERK_obs', ERK(phospho='p'));"
   ]
  },
  {
   "cell_type": "markdown",
   "metadata": {},
   "source": [
    "These observables quantify all MEK (MAP2K1 + MAP2K2) and ERK (MAPK1 + MAPK3) molecules that are phosphorylated on the site `phospho`, which accounts for phosphorylation on S218/S222 or S222/S226 on MEK and T185/Y187 or T202/Y204 on ERK. These PySB [`Observable`](https://pysb.readthedocs.io/en/stable/modules/core.html#pysb.core.Observable)s define linear sums of model species $\\sum_i w_i x_i$, where $w_i$ is an integer that quantifies how often the specified pattern matches the species $x_i$.\n",
    "\n",
    "Next, we construct the PEtab [`observables table`](https://petab.readthedocs.io/en/latest/documentation_data_format.html#observables-table) The model quantifies pMEK and pERK in concentrations, but measurements are noise corrupted, measured in fluorescence intensity and also include background fluorescence. As the scaling between concentrations and intensity and the amount of background signal is known, we include scaling and offset parameters in the PEtab observable definition `petab.OBSERVABLE_FORMULA`, which specifies the observable function $g_i$ (see $\\eqref{eq:observable}$). To account for noise corruption, we specify a single noise parameter $\\psi_i$ as PEtab noise formula `petab.NOISE_FORMULA`, which corresponds to Gaussian noise (default when no `petab.NOISE_DISTRIBUTION` is specified) distribution, with the respective parameter as standard deviation $\\sigma_i$ (see $\\eqref{eq:noise}$). The prefix `noiseParameter1` indicates that the value of the parameter will be provided in the respective column of the [`measurement table`](https://petab.readthedocs.io/en/latest/documentation_data_format.html#measurement-table), which permits the specification of timepoint and condition specific noise levels via $\\Psi_{ijk}$ (see $\\eqref{eq:objective fuction}$). Here, the specified observable formula $g_i$ does not include any explicit PEtab noise parameters. However, the scale and offset parameters for each observable could be replaced by `observableParameter[0-9]+` placeholders, which would enable the designation of timepoint and condition specific values in the [`measurement table`](https://petab.readthedocs.io/en/latest/documentation_data_format.html#measurement-table)."
   ]
  },
  {
   "cell_type": "code",
   "execution_count": 12,
   "metadata": {},
   "outputs": [
    {
     "data": {
      "text/html": [
       "<div>\n",
       "<style scoped>\n",
       "    .dataframe tbody tr th:only-of-type {\n",
       "        vertical-align: middle;\n",
       "    }\n",
       "\n",
       "    .dataframe tbody tr th {\n",
       "        vertical-align: top;\n",
       "    }\n",
       "\n",
       "    .dataframe thead th {\n",
       "        text-align: right;\n",
       "    }\n",
       "</style>\n",
       "<table border=\"1\" class=\"dataframe\">\n",
       "  <thead>\n",
       "    <tr style=\"text-align: right;\">\n",
       "      <th></th>\n",
       "      <th>observableFormula</th>\n",
       "      <th>noiseFormula</th>\n",
       "    </tr>\n",
       "    <tr>\n",
       "      <th>observableId</th>\n",
       "      <th></th>\n",
       "      <th></th>\n",
       "    </tr>\n",
       "  </thead>\n",
       "  <tbody>\n",
       "    <tr>\n",
       "      <th>pMEK</th>\n",
       "      <td>pMEK_scale*pMEK_obs + pMEK_offset</td>\n",
       "      <td>noiseParameter1_pMEK</td>\n",
       "    </tr>\n",
       "    <tr>\n",
       "      <th>pERK</th>\n",
       "      <td>pERK_scale*pERK_obs + pERK_offset</td>\n",
       "      <td>noiseParameter1_pERK</td>\n",
       "    </tr>\n",
       "  </tbody>\n",
       "</table>\n",
       "</div>"
      ],
      "text/plain": [
       "                              observableFormula          noiseFormula\n",
       "observableId                                                         \n",
       "pMEK          pMEK_scale*pMEK_obs + pMEK_offset  noiseParameter1_pMEK\n",
       "pERK          pERK_scale*pERK_obs + pERK_offset  noiseParameter1_pERK"
      ]
     },
     "execution_count": 12,
     "metadata": {},
     "output_type": "execute_result"
    }
   ],
   "source": [
    "import petab\n",
    "import pandas as pd\n",
    "observables_table = pd.DataFrame([\n",
    "    {\n",
    "        petab.OBSERVABLE_ID: obs_id,\n",
    "        petab.OBSERVABLE_FORMULA: f'{obs_id}_scale*{obs_id}_obs + {obs_id}_offset',\n",
    "        petab.NOISE_FORMULA: f'noiseParameter1_{obs_id}'\n",
    "    } for obs_id in ['pMEK', 'pERK']\n",
    "]).set_index(petab.OBSERVABLE_ID)\n",
    "observables_table"
   ]
  },
  {
   "cell_type": "markdown",
   "metadata": {},
   "source": [
    "## Measurements and Conditions\n",
    "As experimental measurement, we will load one of the datasets from REF, which contains the response of A375 cells cultured for 24h at different concentrations of multiple RAF and MEK inhibitors. The response is measured as normalized phospho-MEK (pMEK) and phospho-ERK (pERK) abundances in both EGF stimulated and unstimulated cells after 5 minutes."
   ]
  },
  {
   "cell_type": "code",
   "execution_count": 13,
   "metadata": {
    "scrolled": true
   },
   "outputs": [
    {
     "name": "stderr",
     "output_type": "stream",
     "text": [
      "\n",
      "UPGRADE AVAILABLE\n",
      "\n",
      "A more recent version of the Synapse Client (2.4.0) is available. Your version (2.3.1) can be upgraded by typing:\n",
      "    pip install --upgrade synapseclient\n",
      "\n",
      "Python Synapse Client version 2.4.0 release notes\n",
      "\n",
      "https://python-docs.synapse.org/build/html/news.html\n",
      "\n"
     ]
    },
    {
     "data": {
      "text/html": [
       "<div>\n",
       "<style scoped>\n",
       "    .dataframe tbody tr th:only-of-type {\n",
       "        vertical-align: middle;\n",
       "    }\n",
       "\n",
       "    .dataframe tbody tr th {\n",
       "        vertical-align: top;\n",
       "    }\n",
       "\n",
       "    .dataframe thead th {\n",
       "        text-align: right;\n",
       "    }\n",
       "</style>\n",
       "<table border=\"1\" class=\"dataframe\">\n",
       "  <thead>\n",
       "    <tr style=\"text-align: right;\">\n",
       "      <th></th>\n",
       "      <th>Cell_Line</th>\n",
       "      <th>Vemurafenib</th>\n",
       "      <th>Dabrafenib</th>\n",
       "      <th>...</th>\n",
       "      <th>Std.7</th>\n",
       "      <th>Std.8</th>\n",
       "      <th>Std.9</th>\n",
       "    </tr>\n",
       "  </thead>\n",
       "  <tbody>\n",
       "    <tr>\n",
       "      <th>0</th>\n",
       "      <td>A375</td>\n",
       "      <td>-1</td>\n",
       "      <td>0.0</td>\n",
       "      <td>...</td>\n",
       "      <td>0.009442</td>\n",
       "      <td>0.019582</td>\n",
       "      <td>0.007556</td>\n",
       "    </tr>\n",
       "    <tr>\n",
       "      <th>1</th>\n",
       "      <td>A375</td>\n",
       "      <td>-1</td>\n",
       "      <td>0.0</td>\n",
       "      <td>...</td>\n",
       "      <td>0.111256</td>\n",
       "      <td>0.079383</td>\n",
       "      <td>0.141893</td>\n",
       "    </tr>\n",
       "    <tr>\n",
       "      <th>...</th>\n",
       "      <td>...</td>\n",
       "      <td>...</td>\n",
       "      <td>...</td>\n",
       "      <td>...</td>\n",
       "      <td>...</td>\n",
       "      <td>...</td>\n",
       "      <td>...</td>\n",
       "    </tr>\n",
       "    <tr>\n",
       "      <th>54</th>\n",
       "      <td>A375</td>\n",
       "      <td>0</td>\n",
       "      <td>0.1</td>\n",
       "      <td>...</td>\n",
       "      <td>0.007028</td>\n",
       "      <td>0.018578</td>\n",
       "      <td>0.024706</td>\n",
       "    </tr>\n",
       "    <tr>\n",
       "      <th>55</th>\n",
       "      <td>A375</td>\n",
       "      <td>0</td>\n",
       "      <td>0.1</td>\n",
       "      <td>...</td>\n",
       "      <td>0.014206</td>\n",
       "      <td>0.046046</td>\n",
       "      <td>0.117991</td>\n",
       "    </tr>\n",
       "  </tbody>\n",
       "</table>\n",
       "<p>56 rows × 46 columns</p>\n",
       "</div>"
      ],
      "text/plain": [
       "   Cell_Line  Vemurafenib  Dabrafenib  ...     Std.7     Std.8     Std.9\n",
       "0       A375           -1         0.0  ...  0.009442  0.019582  0.007556\n",
       "1       A375           -1         0.0  ...  0.111256  0.079383  0.141893\n",
       "..       ...          ...         ...  ...       ...       ...       ...\n",
       "54      A375            0         0.1  ...  0.007028  0.018578  0.024706\n",
       "55      A375            0         0.1  ...  0.014206  0.046046  0.117991\n",
       "\n",
       "[56 rows x 46 columns]"
      ]
     },
     "execution_count": 13,
     "metadata": {},
     "output_type": "execute_result"
    }
   ],
   "source": [
    "import synapseclient as sc\n",
    "pd.set_option('display.max_rows', 5)\n",
    "pd.set_option('display.max_columns', 6)\n",
    "\n",
    "syn = sc.Synapse()\n",
    "syn.login(silent=True);\n",
    "data_df = pd.read_csv(syn.get('syn22804081').path)\n",
    "data_df"
   ]
  },
  {
   "cell_type": "markdown",
   "metadata": {},
   "source": [
    "The data contains the dose response to multiple RAF an MEK inhibitors as well as respective combinations. However, to minimize computation time requirements, we will only consider data involving the two RAFis vemurafenib and dabrafenib. The model itself only contains generic `RAFi` parameters and species, which we can now map to specific inhibitors using experimental conditions. This permits the simultaneous estimation of inhibitor specific kinetic rates in conjunction with all other model parameters. Such an multi-experiment setup can improve parameter identifiability. \n",
    "\n",
    "In the following, we will simulatenously generate the [`condition table`](https://petab.readthedocs.io/en/latest/documentation_data_format.html#condition-table), encoding the condition specific mapping $\\boldsymbol{\\Gamma}_k$ (see $\\eqref{eq:objective}$) of dynamic paramers $\\boldsymbol{\\gamma}$ (see $\\eqref{eq:ode}$), and [`measurement table`](https://petab.readthedocs.io/en/latest/documentation_data_format.html#measurement-table), econding measurements $\\bar{\\textbf{y}}\n",
    "_{ijk}$ and, potentially, respective mappings for observable parameters $\\boldsymbol{\\xi}$ (see $\\eqref{eq:observable}$) via $\\boldsymbol{\\Xi}_{ijk}$ (see $\\eqref{eq:objective}$) and noise parameters $\\boldsymbol{\\psi}$ (see $\\eqref{eq:noise}$) via $\\boldsymbol{\\Psi}_{ijk}$ (see $\\eqref{eq:objective}$). The [`condition table`](https://petab.readthedocs.io/en/latest/documentation_data_format.html#condition-table) describes the necessary information about experimentel conditions, i.e., what drug was used and what concentrations were applied. The [`measurement table`](https://petab.readthedocs.io/en/latest/documentation_data_format.html#measurement-table) describes the measurement itself as well as additional information such as under which experimental conditions the data was measured.\n",
    "\n",
    "The data we loaded above is in a matrix format, while PEtab requires the data a long format. Thus, additional processing is necessary. Briefly, the code below extracts all data points and sets what model observable they belong to, the value of the measurement, the time of measurement, the noise parameter, information about the experimental condition as well as a `petab.DATASET_ID`, which is only used for plotting.\n",
    "\n",
    "For the EGF stimulation condition, it is important to consider the experimental setup, as cells are subjected to 24h of pretreatment with drugs. We here assume that this is sufficient time for the system to reach a steady-state. To describe such an experimental setup in PEtab, it is necessary to reference the respective experimental condition in the [`condition table`](https://petab.readthedocs.io/en/latest/documentation_data_format.html#condition-table) by specifying the respective `petab.CONDITION_ID` in the `petab.PREEQUILIBRATION_CONDITION_ID` column. The condition for the actual experiment can then be specified in the `petab.SIMULATION_CONDITION_ID`.\n",
    "\n",
    "To enable the visualization of data and fitting results, we here also specify the `petab.DATASET_ID`. Contrary to what the name may suggests, this does not influence the actual fitting, but serves as grouping identifier during plotting."
   ]
  },
  {
   "cell_type": "code",
   "execution_count": 14,
   "metadata": {
    "code_folding": []
   },
   "outputs": [],
   "source": [
    "RAFis = ['Vemurafenib', 'Dabrafenib', 'PLX8394', 'LY3009120', 'AZ_628']\n",
    "MEKis = ['Cobimetinib', 'Trametinib', 'Selumetinib', 'Binimetinib', 'PD0325901']\n",
    "\n",
    "\n",
    "conditions = dict()\n",
    "\n",
    "\n",
    "def format_petab(row):\n",
    "    suffixes = [''] + [f'.{idx}' for idx in range(1,10)]\n",
    "    datapoints = []\n",
    "    if row[MEKis].any():\n",
    "        return datapoints\n",
    "    # loop over columns of the data matrix\n",
    "    for suffix in suffixes:\n",
    "        # extract data\n",
    "        datapoint = {\n",
    "            petab.OBSERVABLE_ID: 'pMEK' if row.pMEK else 'pERK',\n",
    "            petab.MEASUREMENT: row[f'Mean{suffix}'],\n",
    "            petab.TIME: row['Time_EGF'],\n",
    "            petab.NOISE_PARAMETERS: row[f'Std{suffix}'],\n",
    "        }\n",
    "        # extract condition information\n",
    "        if (row[RAFis] != 0).sum() != 1 or ((row['Vemurafenib'] == 0) and (row['Dabrafenib'] == 0)):\n",
    "            continue\n",
    "\n",
    "        # find first nonzero\n",
    "        rafi = RAFis[(row[RAFis] != 0).argmax()]\n",
    "\n",
    "        # extract drug concentration\n",
    "        drug_conc = row[f'Concentration (uM){suffix}'] if row[rafi] == -1 else row[rafi]\n",
    "        # condition id must be sanitzed, must match '^[a-zA-Z]+[\\w_]*$'\n",
    "        drug_str = f'{rafi}_{drug_conc}'.replace('.', '_').replace('-', '_')\n",
    "\n",
    "        condition_str = drug_str + (\n",
    "            f'__EGF_{row[\"EGF\"]}' if row['EGF'] > 0 else ''\n",
    "        )\n",
    "        condition = {\n",
    "            petab.CONDITION_ID: condition_str,'RAFi_0': drug_conc,\n",
    "            'EGF_0': row[\"EGF\"], 'bind_RAFi_RAF_Ea': f'bind_{rafi}_RAF_Ea',\n",
    "            'bind_RAFi_RAF_dG': f'bind_{rafi}_RAF_dG',\n",
    "            'ep_RAF_RAF_mod_RAFi_single_ddG': f'ep_RAF_RAF_mod_{rafi}_single_ddG',\n",
    "            'ep_RAF_RAF_mod_RAFi_double_ddG': f'ep_RAF_RAF_mod_{rafi}_double_ddG'\n",
    "        }\n",
    "        # set baseline for datapoint\n",
    "        datapoint[petab.PREEQUILIBRATION_CONDITION_ID] = drug_str\n",
    "        # set id for condition and datapoint\n",
    "        datapoint[petab.SIMULATION_CONDITION_ID] = condition_str\n",
    "        datapoint[petab.DATASET_ID] =  ('EGF__' if row['EGF'] > 0 else 'ctrl__') + rafi\n",
    "        condition[petab.CONDITION_ID] = condition_str\n",
    "        \n",
    "        datapoints.append(datapoint)\n",
    "        if condition_str not in conditions:\n",
    "            conditions[condition_str] = condition\n",
    "            \n",
    "    return datapoints\n",
    "\n",
    "measurement_table = pd.DataFrame([\n",
    "    d\n",
    "    for ir, row in data_df.iterrows()\n",
    "    for d in format_petab(row)\n",
    "])\n",
    "condition_table = pd.DataFrame(conditions.values()).set_index(petab.CONDITION_ID);"
   ]
  },
  {
   "cell_type": "markdown",
   "metadata": {},
   "source": [
    "In the above code we directly used experimentally measured standard deviations, which can be noisy as they are often computed from a small number of biological or technical replicates. As the magnitude of standard deviations determines the importance of datapoints during calibration, outliers can lead to overemphasis or ignorance of individual datapoints, resulting in poor fits to the overall data. To avoid such issues, we use the same averaged standard deviations for all datapoints of each observable. For averaging we compute the root mean square, as standard deviations are not additive, while variances are."
   ]
  },
  {
   "cell_type": "code",
   "execution_count": 15,
   "metadata": {},
   "outputs": [
    {
     "data": {
      "text/html": [
       "<div>\n",
       "<style scoped>\n",
       "    .dataframe tbody tr th:only-of-type {\n",
       "        vertical-align: middle;\n",
       "    }\n",
       "\n",
       "    .dataframe tbody tr th {\n",
       "        vertical-align: top;\n",
       "    }\n",
       "\n",
       "    .dataframe thead th {\n",
       "        text-align: right;\n",
       "    }\n",
       "</style>\n",
       "<table border=\"1\" class=\"dataframe\">\n",
       "  <thead>\n",
       "    <tr style=\"text-align: right;\">\n",
       "      <th></th>\n",
       "      <th>observableId</th>\n",
       "      <th>measurement</th>\n",
       "      <th>time</th>\n",
       "      <th>...</th>\n",
       "      <th>preequilibrationConditionId</th>\n",
       "      <th>simulationConditionId</th>\n",
       "      <th>datasetId</th>\n",
       "    </tr>\n",
       "  </thead>\n",
       "  <tbody>\n",
       "    <tr>\n",
       "      <th>0</th>\n",
       "      <td>pERK</td>\n",
       "      <td>0.969789</td>\n",
       "      <td>0.0833</td>\n",
       "      <td>...</td>\n",
       "      <td>Vemurafenib_0_000210819</td>\n",
       "      <td>Vemurafenib_0_000210819</td>\n",
       "      <td>ctrl__Vemurafenib</td>\n",
       "    </tr>\n",
       "    <tr>\n",
       "      <th>1</th>\n",
       "      <td>pERK</td>\n",
       "      <td>0.944607</td>\n",
       "      <td>0.0833</td>\n",
       "      <td>...</td>\n",
       "      <td>Vemurafenib_0_000666667</td>\n",
       "      <td>Vemurafenib_0_000666667</td>\n",
       "      <td>ctrl__Vemurafenib</td>\n",
       "    </tr>\n",
       "    <tr>\n",
       "      <th>...</th>\n",
       "      <td>...</td>\n",
       "      <td>...</td>\n",
       "      <td>...</td>\n",
       "      <td>...</td>\n",
       "      <td>...</td>\n",
       "      <td>...</td>\n",
       "      <td>...</td>\n",
       "    </tr>\n",
       "    <tr>\n",
       "      <th>78</th>\n",
       "      <td>pMEK</td>\n",
       "      <td>1.172071</td>\n",
       "      <td>0.0833</td>\n",
       "      <td>...</td>\n",
       "      <td>Dabrafenib_0_210818511</td>\n",
       "      <td>Dabrafenib_0_210818511__EGF_100</td>\n",
       "      <td>EGF__Dabrafenib</td>\n",
       "    </tr>\n",
       "    <tr>\n",
       "      <th>79</th>\n",
       "      <td>pMEK</td>\n",
       "      <td>1.091548</td>\n",
       "      <td>0.0833</td>\n",
       "      <td>...</td>\n",
       "      <td>Dabrafenib_0_666666667</td>\n",
       "      <td>Dabrafenib_0_666666667__EGF_100</td>\n",
       "      <td>EGF__Dabrafenib</td>\n",
       "    </tr>\n",
       "  </tbody>\n",
       "</table>\n",
       "<p>80 rows × 7 columns</p>\n",
       "</div>"
      ],
      "text/plain": [
       "   observableId  measurement    time  ...  preequilibrationConditionId  \\\n",
       "0          pERK     0.969789  0.0833  ...      Vemurafenib_0_000210819   \n",
       "1          pERK     0.944607  0.0833  ...      Vemurafenib_0_000666667   \n",
       "..          ...          ...     ...  ...                          ...   \n",
       "78         pMEK     1.172071  0.0833  ...       Dabrafenib_0_210818511   \n",
       "79         pMEK     1.091548  0.0833  ...       Dabrafenib_0_666666667   \n",
       "\n",
       "              simulationConditionId          datasetId  \n",
       "0           Vemurafenib_0_000210819  ctrl__Vemurafenib  \n",
       "1           Vemurafenib_0_000666667  ctrl__Vemurafenib  \n",
       "..                              ...                ...  \n",
       "78  Dabrafenib_0_210818511__EGF_100    EGF__Dabrafenib  \n",
       "79  Dabrafenib_0_666666667__EGF_100    EGF__Dabrafenib  \n",
       "\n",
       "[80 rows x 7 columns]"
      ]
     },
     "execution_count": 15,
     "metadata": {},
     "output_type": "execute_result"
    }
   ],
   "source": [
    "import numpy as np\n",
    "for group, frame in measurement_table.groupby(petab.OBSERVABLE_ID):\n",
    "    measurement_table.loc[measurement_table[petab.OBSERVABLE_ID]==group, petab.NOISE_PARAMETERS] = \\\n",
    "        np.sqrt(frame[petab.NOISE_PARAMETERS].apply(np.square).mean())\n",
    "measurement_table"
   ]
  },
  {
   "cell_type": "code",
   "execution_count": 16,
   "metadata": {},
   "outputs": [
    {
     "data": {
      "text/html": [
       "<div>\n",
       "<style scoped>\n",
       "    .dataframe tbody tr th:only-of-type {\n",
       "        vertical-align: middle;\n",
       "    }\n",
       "\n",
       "    .dataframe tbody tr th {\n",
       "        vertical-align: top;\n",
       "    }\n",
       "\n",
       "    .dataframe thead th {\n",
       "        text-align: right;\n",
       "    }\n",
       "</style>\n",
       "<table border=\"1\" class=\"dataframe\">\n",
       "  <thead>\n",
       "    <tr style=\"text-align: right;\">\n",
       "      <th></th>\n",
       "      <th>RAFi_0</th>\n",
       "      <th>EGF_0</th>\n",
       "      <th>bind_RAFi_RAF_Ea</th>\n",
       "      <th>bind_RAFi_RAF_dG</th>\n",
       "      <th>ep_RAF_RAF_mod_RAFi_single_ddG</th>\n",
       "      <th>ep_RAF_RAF_mod_RAFi_double_ddG</th>\n",
       "    </tr>\n",
       "    <tr>\n",
       "      <th>conditionId</th>\n",
       "      <th></th>\n",
       "      <th></th>\n",
       "      <th></th>\n",
       "      <th></th>\n",
       "      <th></th>\n",
       "      <th></th>\n",
       "    </tr>\n",
       "  </thead>\n",
       "  <tbody>\n",
       "    <tr>\n",
       "      <th>Vemurafenib_0_000210819</th>\n",
       "      <td>0.000211</td>\n",
       "      <td>0</td>\n",
       "      <td>bind_Vemurafenib_RAF_Ea</td>\n",
       "      <td>bind_Vemurafenib_RAF_dG</td>\n",
       "      <td>ep_RAF_RAF_mod_Vemurafenib_single_ddG</td>\n",
       "      <td>ep_RAF_RAF_mod_Vemurafenib_double_ddG</td>\n",
       "    </tr>\n",
       "    <tr>\n",
       "      <th>Vemurafenib_0_000666667</th>\n",
       "      <td>0.000667</td>\n",
       "      <td>0</td>\n",
       "      <td>bind_Vemurafenib_RAF_Ea</td>\n",
       "      <td>bind_Vemurafenib_RAF_dG</td>\n",
       "      <td>ep_RAF_RAF_mod_Vemurafenib_single_ddG</td>\n",
       "      <td>ep_RAF_RAF_mod_Vemurafenib_double_ddG</td>\n",
       "    </tr>\n",
       "    <tr>\n",
       "      <th>...</th>\n",
       "      <td>...</td>\n",
       "      <td>...</td>\n",
       "      <td>...</td>\n",
       "      <td>...</td>\n",
       "      <td>...</td>\n",
       "      <td>...</td>\n",
       "    </tr>\n",
       "    <tr>\n",
       "      <th>Dabrafenib_0_210818511__EGF_100</th>\n",
       "      <td>0.210819</td>\n",
       "      <td>100</td>\n",
       "      <td>bind_Dabrafenib_RAF_Ea</td>\n",
       "      <td>bind_Dabrafenib_RAF_dG</td>\n",
       "      <td>ep_RAF_RAF_mod_Dabrafenib_single_ddG</td>\n",
       "      <td>ep_RAF_RAF_mod_Dabrafenib_double_ddG</td>\n",
       "    </tr>\n",
       "    <tr>\n",
       "      <th>Dabrafenib_0_666666667__EGF_100</th>\n",
       "      <td>0.666667</td>\n",
       "      <td>100</td>\n",
       "      <td>bind_Dabrafenib_RAF_Ea</td>\n",
       "      <td>bind_Dabrafenib_RAF_dG</td>\n",
       "      <td>ep_RAF_RAF_mod_Dabrafenib_single_ddG</td>\n",
       "      <td>ep_RAF_RAF_mod_Dabrafenib_double_ddG</td>\n",
       "    </tr>\n",
       "  </tbody>\n",
       "</table>\n",
       "<p>40 rows × 6 columns</p>\n",
       "</div>"
      ],
      "text/plain": [
       "                                   RAFi_0  EGF_0         bind_RAFi_RAF_Ea  \\\n",
       "conditionId                                                                 \n",
       "Vemurafenib_0_000210819          0.000211      0  bind_Vemurafenib_RAF_Ea   \n",
       "Vemurafenib_0_000666667          0.000667      0  bind_Vemurafenib_RAF_Ea   \n",
       "...                                   ...    ...                      ...   \n",
       "Dabrafenib_0_210818511__EGF_100  0.210819    100   bind_Dabrafenib_RAF_Ea   \n",
       "Dabrafenib_0_666666667__EGF_100  0.666667    100   bind_Dabrafenib_RAF_Ea   \n",
       "\n",
       "                                        bind_RAFi_RAF_dG  \\\n",
       "conditionId                                                \n",
       "Vemurafenib_0_000210819          bind_Vemurafenib_RAF_dG   \n",
       "Vemurafenib_0_000666667          bind_Vemurafenib_RAF_dG   \n",
       "...                                                  ...   \n",
       "Dabrafenib_0_210818511__EGF_100   bind_Dabrafenib_RAF_dG   \n",
       "Dabrafenib_0_666666667__EGF_100   bind_Dabrafenib_RAF_dG   \n",
       "\n",
       "                                        ep_RAF_RAF_mod_RAFi_single_ddG  \\\n",
       "conditionId                                                              \n",
       "Vemurafenib_0_000210819          ep_RAF_RAF_mod_Vemurafenib_single_ddG   \n",
       "Vemurafenib_0_000666667          ep_RAF_RAF_mod_Vemurafenib_single_ddG   \n",
       "...                                                                ...   \n",
       "Dabrafenib_0_210818511__EGF_100   ep_RAF_RAF_mod_Dabrafenib_single_ddG   \n",
       "Dabrafenib_0_666666667__EGF_100   ep_RAF_RAF_mod_Dabrafenib_single_ddG   \n",
       "\n",
       "                                        ep_RAF_RAF_mod_RAFi_double_ddG  \n",
       "conditionId                                                             \n",
       "Vemurafenib_0_000210819          ep_RAF_RAF_mod_Vemurafenib_double_ddG  \n",
       "Vemurafenib_0_000666667          ep_RAF_RAF_mod_Vemurafenib_double_ddG  \n",
       "...                                                                ...  \n",
       "Dabrafenib_0_210818511__EGF_100   ep_RAF_RAF_mod_Dabrafenib_double_ddG  \n",
       "Dabrafenib_0_666666667__EGF_100   ep_RAF_RAF_mod_Dabrafenib_double_ddG  \n",
       "\n",
       "[40 rows x 6 columns]"
      ]
     },
     "execution_count": 16,
     "metadata": {},
     "output_type": "execute_result"
    }
   ],
   "source": [
    "condition_table"
   ]
  },
  {
   "cell_type": "markdown",
   "metadata": {},
   "source": [
    "## Parameters\n",
    "The last table necessary for model training is the [`parameter table`](https://petab.readthedocs.io/en/latest/documentation_data_format.html#parameter-table). This table describes all free parameters $\\boldsymbol{\\theta}$, whether they have to be estimated as well as, parameter scale, nominal values, boundary values $\\mathcal{L}_l$ and $\\mathcal{U}_l$ and information about priors.\n",
    "\n",
    "Both parameter boundaries and priors can be used to restrict the search space to biologically plausible parameter values, or prevent numerical issues in regions of parameter space where numerical integration of model equations is challenging. Parameter boundaries set hard threshold that cannot be exceeded, while parameter boundaries are soft constraints that also regularize the calibration. While priors are necessary for Bayesian analysis such as parameter sampling, they are not generally required for optimization based approaches.\n",
    "\n",
    "For most models, free parameters $\\boldsymbol{\\theta}$ will primarily occur in the model specification as dynamic parameters $\\boldsymbol{\\gamma}$. But, all of previously described tables may introduce new free parameters: noise parameters $\\boldsymbol{\\psi}$ in noise formulas $\\boldsymbol{\\sigma}$ or respective condition specific mappings $\\boldsymbol{\\Psi}_{ijk}$, observable paramers $\\boldsymbol{\\xi}$ in observable formulas $\\boldsymbol{g}$ or respective condition specific mappings $\\boldsymbol{\\Xi}_{ijk}$ as well as the condition specific dynamic parameter mappings $\\boldsymbol{\\Gamma}_{k}$. Moreover, the respective tables, i.e., the respective mappings $\\boldsymbol{\\Psi}_{ijk}$, $\\boldsymbol{\\Xi}_{ijk}$ and $\\boldsymbol{\\Gamma}_{k}$ may set numerical values for the noise, observable and dynamic parameters, rendering them non-free. As the parameter table must only describe free parameters $\\boldsymbol{\\theta}$, some processing is usually necessary to identify free and non-free parameters.\n",
    "\n",
    "In the following, we will construct a list of `condition_pars`, which are either mapped to free, condition-specific parameters, such as the generic RAFi energy parameters, or set to non-free parameters with fixed numeric values, such as the `RAFi_0` initial concentration. To construct the list of free parameters, we identify all dynamic parameters in the model that are not contained in these `condition_pars`, and add all newly introduced condition specific parameters in the [`condition table`](https://petab.readthedocs.io/en/latest/documentation_data_format.html#condition-table) as well as the four offset and scaling parameters we introduced in the [`observables table`](https://petab.readthedocs.io/en/latest/documentation_data_format.html#observables-table)."
   ]
  },
  {
   "cell_type": "code",
   "execution_count": 17,
   "metadata": {},
   "outputs": [],
   "source": [
    "import numpy as np\n",
    "condition_pars = [\n",
    "    par.name\n",
    "    for par in model.parameters\n",
    "    if par.name in condition_table.columns\n",
    "]\n",
    "\n",
    "free_parameters = [\n",
    "    par.name for par in model.parameters\n",
    "    if par.name not in condition_pars\n",
    "] + [\n",
    "    name\n",
    "    for par in condition_pars\n",
    "    for name in np.unique(condition_table[par])\n",
    "    if isinstance(name, str)\n",
    "] + [\n",
    "    'pMEK_offset','pMEK_scale', 'pERK_offset', 'pERK_scale'\n",
    "]"
   ]
  },
  {
   "cell_type": "markdown",
   "metadata": {},
   "source": [
    "All of the parameters in the model follow a consistent naming scheme, which makes it easier to programmatically specify parameter boundaries, scales and whether parameters are to be estimated. Multiple studies have demonstrated that parameter estimation is more efficient when estimating parmaters on a logarithmic scale <cite data-cite=\"2754712/INKV577L\"></cite><cite data-cite=\"2754712/FMD3RVCR\"></cite>. The thermodynamic formulation we employed for model construction relies on an exponential dependency between energies and kinetetic rates, which complements these practical insights with a theoretical foundation why model parameters live on a logarithmic scale. However, this also suggests that energetic parameters, in contrast to kinetic rates, should be estimated on a linear scale.\n",
    "\n",
    "The upper and lower boundaries should ideally be set to biologically plausible values. However, most models employ simplified descriptions of the underlying biochemical processes, which means that model parameters may no longer have a one-to-one correspondance to true biochemical constants and plausible parameter ranges may be difficult to derive. Moreover, plausible parameter ranges may not be known for all parameters. Therefore, in many applications parameter boundaries are initially based on educated guesses and then refined based on estimation results such that optima are contained in the specified ranges and integration failures are not too frequent. Therefore, the boundaries presented here are based on the values used in the original publication and where then refined to work with the simplified model.\n",
    "\n",
    "Similar to parameter boundaries, nominal values can be difficult to derive. However, the numerical values are only important for model calibration when respective parameters are not estimated. In this example, we do not estimate the initial concentrations and $\\phi$ parameters and only set the nominal parameter values of those parameters to non-trivial values. The initial concentrations are set to approximate molecular counts as measured in the original publication and $\\phi$ parameters are all set to 1, meaning that free energy differences only affect the reverse rate.\n"
   ]
  },
  {
   "cell_type": "code",
   "execution_count": 18,
   "metadata": {
    "scrolled": true
   },
   "outputs": [
    {
     "data": {
      "text/html": [
       "<div>\n",
       "<style scoped>\n",
       "    .dataframe tbody tr th:only-of-type {\n",
       "        vertical-align: middle;\n",
       "    }\n",
       "\n",
       "    .dataframe tbody tr th {\n",
       "        vertical-align: top;\n",
       "    }\n",
       "\n",
       "    .dataframe thead th {\n",
       "        text-align: right;\n",
       "    }\n",
       "</style>\n",
       "<table border=\"1\" class=\"dataframe\">\n",
       "  <thead>\n",
       "    <tr style=\"text-align: right;\">\n",
       "      <th></th>\n",
       "      <th>parameterScale</th>\n",
       "      <th>lowerBound</th>\n",
       "      <th>upperBound</th>\n",
       "      <th>nominalValue</th>\n",
       "      <th>estimate</th>\n",
       "    </tr>\n",
       "    <tr>\n",
       "      <th>parameterId</th>\n",
       "      <th></th>\n",
       "      <th></th>\n",
       "      <th></th>\n",
       "      <th></th>\n",
       "      <th></th>\n",
       "    </tr>\n",
       "  </thead>\n",
       "  <tbody>\n",
       "    <tr>\n",
       "      <th>BRAF_0</th>\n",
       "      <td>log10</td>\n",
       "      <td>1000.00</td>\n",
       "      <td>100000.0</td>\n",
       "      <td>1000.0</td>\n",
       "      <td>False</td>\n",
       "    </tr>\n",
       "    <tr>\n",
       "      <th>CRAF_0</th>\n",
       "      <td>log10</td>\n",
       "      <td>1000.00</td>\n",
       "      <td>100000.0</td>\n",
       "      <td>10000.0</td>\n",
       "      <td>False</td>\n",
       "    </tr>\n",
       "    <tr>\n",
       "      <th>...</th>\n",
       "      <td>...</td>\n",
       "      <td>...</td>\n",
       "      <td>...</td>\n",
       "      <td>...</td>\n",
       "      <td>...</td>\n",
       "    </tr>\n",
       "    <tr>\n",
       "      <th>pERK_offset</th>\n",
       "      <td>log10</td>\n",
       "      <td>0.05</td>\n",
       "      <td>0.2</td>\n",
       "      <td>1.0</td>\n",
       "      <td>True</td>\n",
       "    </tr>\n",
       "    <tr>\n",
       "      <th>pERK_scale</th>\n",
       "      <td>log10</td>\n",
       "      <td>1.00</td>\n",
       "      <td>1000000.0</td>\n",
       "      <td>1.0</td>\n",
       "      <td>True</td>\n",
       "    </tr>\n",
       "  </tbody>\n",
       "</table>\n",
       "<p>36 rows × 5 columns</p>\n",
       "</div>"
      ],
      "text/plain": [
       "            parameterScale  lowerBound  upperBound  nominalValue  estimate\n",
       "parameterId                                                               \n",
       "BRAF_0               log10     1000.00    100000.0        1000.0     False\n",
       "CRAF_0               log10     1000.00    100000.0       10000.0     False\n",
       "...                    ...         ...         ...           ...       ...\n",
       "pERK_offset          log10        0.05         0.2           1.0      True\n",
       "pERK_scale           log10        1.00   1000000.0           1.0      True\n",
       "\n",
       "[36 rows x 5 columns]"
      ]
     },
     "execution_count": 18,
     "metadata": {},
     "output_type": "execute_result"
    }
   ],
   "source": [
    "lbs = {\n",
    "    'Ea': -10, 'dG': -10, 'ddG': -10, 'phi': 0, 'offset': 5e-2,\n",
    "    'scale': 1e0, 'eq': 1e1, '0': 1e3, 'kcat': 1e-2, 'gexpslope': 1e0,\n",
    "    'kdeg': 1e-3, 'kM': 1e-3, 'kcatr': 1e-8, 'koff': 1e-5,\n",
    "}\n",
    "ubs = {\n",
    "    'Ea': 10, 'dG': 10, 'ddG': 10, 'phi': 1, 'offset': 2e-1,\n",
    "    'scale': 1e6, 'eq': 1e5, '0': 1e5, 'kcat': 1e5, 'gexpslope': 1e6,\n",
    "    'kdeg': 1e2, 'kM': 1e1, 'kcatr': 1e0, 'koff': 1e0,\n",
    "}\n",
    "\n",
    "initials = {\n",
    "    'BRAF_0': 1e3, 'CRAF_0': 1e4, 'MEK_0': 1e5, 'ERK_0': 1e5, 'RAS_0': 5e4,\n",
    "}\n",
    "\n",
    "\n",
    "parameter_table = pd.DataFrame([\n",
    "    {\n",
    "        petab.PARAMETER_ID: par,\n",
    "        petab.PARAMETER_SCALE: petab.LIN \n",
    "        if par.endswith(('_Ea', '_dG', '_ddG', '_phi')) else petab.LOG10,\n",
    "        petab.LOWER_BOUND: lbs[par.split('_')[-1]],\n",
    "        petab.UPPER_BOUND: ubs[par.split('_')[-1]],\n",
    "        petab.NOMINAL_VALUE: initials[par] if par.endswith('_0') else 1.0,\n",
    "        petab.ESTIMATE: False if par.endswith(('_phi', '_0')) else True,\n",
    "        \n",
    "    } for par in free_parameters\n",
    "]).set_index(petab.PARAMETER_ID)\n",
    "\n",
    "parameter_table"
   ]
  },
  {
   "cell_type": "markdown",
   "metadata": {},
   "source": [
    "## SBML export\n",
    "PEtab expects a model in SBML format, but we constructed the model in the pysb format. Therefore, we need to export the model in SBML format."
   ]
  },
  {
   "cell_type": "code",
   "execution_count": 19,
   "metadata": {},
   "outputs": [],
   "source": [
    "import libsbml\n",
    "from pysb.export import export\n",
    "sbml_reader = libsbml.SBMLReader()\n",
    "sbml_doc = sbml_reader.readSBMLFromString(export(model, 'sbml'))\n",
    "sbml_model = sbml_doc.getModel()"
   ]
  },
  {
   "cell_type": "markdown",
   "metadata": {},
   "source": [
    "In the SBML model, PySB [`Observable`](https://pysb.readthedocs.io/en/stable/modules/core.html#pysb.core.Observable)s are exported as SBML parameters with assignment rules, with programmatically generated identifiers that do not agree with the PySB [`Observable`](https://pysb.readthedocs.io/en/stable/modules/core.html#pysb.core.Observable) names. As we referenced these observable names when specifying the PEtab observables, we have to change the identifiers of these parameter to match the PySB names. These changes have to be applied to the SBML [`Parameter`](http://model.caltech.edu/software/libsbml/5.18.0/docs/formatted/python-api/classlibsbml_1_1_parameter.html) as well as the SBML [`AssignmentRule`](http://model.caltech.edu/software/libsbml/5.18.0/docs/formatted/python-api/classlibsbml_1_1_assignment_rule.html) that sets their value."
   ]
  },
  {
   "cell_type": "code",
   "execution_count": 20,
   "metadata": {},
   "outputs": [],
   "source": [
    "# rename pysb exported observables\n",
    "sbml_model.getParameter('__obs1').setId('pMEK_obs')\n",
    "sbml_model.getAssignmentRuleByVariable('__obs1').setVariable('pMEK_obs')\n",
    "sbml_model.getParameter('__obs2').setId('pERK_obs')\n",
    "sbml_model.getAssignmentRuleByVariable('__obs2').setVariable('pERK_obs');"
   ]
  },
  {
   "cell_type": "markdown",
   "metadata": {},
   "source": [
    "As last step, we create a PEtab [`Problem`](https://petab.readthedocs.io/projects/libpetab-python/en/latest/build/_autosummary/petab.problem.html#petab.problem.Problem) using all of the previously constructed table as well as the exported SBML model. As problem construction was a lengthy, error-prone process, we perform a static analysis of the petab problem using the petab library provided linter [`petab.lint_problem`](https://petab.readthedocs.io/projects/libpetab-python/en/latest/build/_autosummary/petab.html#petab.lint_problem)."
   ]
  },
  {
   "cell_type": "code",
   "execution_count": 21,
   "metadata": {},
   "outputs": [
    {
     "name": "stderr",
     "output_type": "stream",
     "text": [
      "libSBML Warning (Modeling practice): As a principle of best modeling practice, the <species> should set an initial value (amount or concentration) rather than be left undefined. Doing so improves the portability of models between different simulation and analysis systems, and helps make it easier to detect potential errors in models.\n",
      " The <species> with the id '__s6' does not have an 'initialConcentration' or 'initialAmount' attribute, nor is its initial value set by an <initialAssignment> or <assignmentRule>.\n",
      "\n",
      "libSBML Warning (Modeling practice): As a principle of best modeling practice, the <species> should set an initial value (amount or concentration) rather than be left undefined. Doing so improves the portability of models between different simulation and analysis systems, and helps make it easier to detect potential errors in models.\n",
      " The <species> with the id '__s7' does not have an 'initialConcentration' or 'initialAmount' attribute, nor is its initial value set by an <initialAssignment> or <assignmentRule>.\n",
      "\n",
      "libSBML Warning (Modeling practice): As a principle of best modeling practice, the <species> should set an initial value (amount or concentration) rather than be left undefined. Doing so improves the portability of models between different simulation and analysis systems, and helps make it easier to detect potential errors in models.\n",
      " The <species> with the id '__s8' does not have an 'initialConcentration' or 'initialAmount' attribute, nor is its initial value set by an <initialAssignment> or <assignmentRule>.\n",
      "\n",
      "libSBML Warning (Modeling practice): As a principle of best modeling practice, the <species> should set an initial value (amount or concentration) rather than be left undefined. Doing so improves the portability of models between different simulation and analysis systems, and helps make it easier to detect potential errors in models.\n",
      " The <species> with the id '__s9' does not have an 'initialConcentration' or 'initialAmount' attribute, nor is its initial value set by an <initialAssignment> or <assignmentRule>.\n",
      "\n",
      "libSBML Warning (Modeling practice): As a principle of best modeling practice, the <species> should set an initial value (amount or concentration) rather than be left undefined. Doing so improves the portability of models between different simulation and analysis systems, and helps make it easier to detect potential errors in models.\n",
      " The <species> with the id '__s10' does not have an 'initialConcentration' or 'initialAmount' attribute, nor is its initial value set by an <initialAssignment> or <assignmentRule>.\n",
      "\n",
      "libSBML Warning (Modeling practice): As a principle of best modeling practice, the <species> should set an initial value (amount or concentration) rather than be left undefined. Doing so improves the portability of models between different simulation and analysis systems, and helps make it easier to detect potential errors in models.\n",
      " The <species> with the id '__s11' does not have an 'initialConcentration' or 'initialAmount' attribute, nor is its initial value set by an <initialAssignment> or <assignmentRule>.\n",
      "\n",
      "libSBML Warning (Modeling practice): As a principle of best modeling practice, the <species> should set an initial value (amount or concentration) rather than be left undefined. Doing so improves the portability of models between different simulation and analysis systems, and helps make it easier to detect potential errors in models.\n",
      " The <species> with the id '__s12' does not have an 'initialConcentration' or 'initialAmount' attribute, nor is its initial value set by an <initialAssignment> or <assignmentRule>.\n",
      "\n",
      "libSBML Warning (Modeling practice): As a principle of best modeling practice, the <species> should set an initial value (amount or concentration) rather than be left undefined. Doing so improves the portability of models between different simulation and analysis systems, and helps make it easier to detect potential errors in models.\n",
      " The <species> with the id '__s13' does not have an 'initialConcentration' or 'initialAmount' attribute, nor is its initial value set by an <initialAssignment> or <assignmentRule>.\n",
      "\n",
      "libSBML Warning (Modeling practice): As a principle of best modeling practice, the <species> should set an initial value (amount or concentration) rather than be left undefined. Doing so improves the portability of models between different simulation and analysis systems, and helps make it easier to detect potential errors in models.\n",
      " The <species> with the id '__s14' does not have an 'initialConcentration' or 'initialAmount' attribute, nor is its initial value set by an <initialAssignment> or <assignmentRule>.\n",
      "\n",
      "libSBML Warning (Modeling practice): As a principle of best modeling practice, the <species> should set an initial value (amount or concentration) rather than be left undefined. Doing so improves the portability of models between different simulation and analysis systems, and helps make it easier to detect potential errors in models.\n",
      " The <species> with the id '__s15' does not have an 'initialConcentration' or 'initialAmount' attribute, nor is its initial value set by an <initialAssignment> or <assignmentRule>.\n",
      "\n",
      "libSBML Warning (Modeling practice): As a principle of best modeling practice, the <species> should set an initial value (amount or concentration) rather than be left undefined. Doing so improves the portability of models between different simulation and analysis systems, and helps make it easier to detect potential errors in models.\n",
      " The <species> with the id '__s16' does not have an 'initialConcentration' or 'initialAmount' attribute, nor is its initial value set by an <initialAssignment> or <assignmentRule>.\n",
      "\n",
      "libSBML Warning (Modeling practice): As a principle of best modeling practice, the <species> should set an initial value (amount or concentration) rather than be left undefined. Doing so improves the portability of models between different simulation and analysis systems, and helps make it easier to detect potential errors in models.\n",
      " The <species> with the id '__s17' does not have an 'initialConcentration' or 'initialAmount' attribute, nor is its initial value set by an <initialAssignment> or <assignmentRule>.\n",
      "\n",
      "libSBML Warning (Modeling practice): As a principle of best modeling practice, the <species> should set an initial value (amount or concentration) rather than be left undefined. Doing so improves the portability of models between different simulation and analysis systems, and helps make it easier to detect potential errors in models.\n",
      " The <species> with the id '__s18' does not have an 'initialConcentration' or 'initialAmount' attribute, nor is its initial value set by an <initialAssignment> or <assignmentRule>.\n",
      "\n",
      "libSBML Warning (Modeling practice): As a principle of best modeling practice, the <species> should set an initial value (amount or concentration) rather than be left undefined. Doing so improves the portability of models between different simulation and analysis systems, and helps make it easier to detect potential errors in models.\n",
      " The <species> with the id '__s19' does not have an 'initialConcentration' or 'initialAmount' attribute, nor is its initial value set by an <initialAssignment> or <assignmentRule>.\n",
      "\n",
      "libSBML Warning (Modeling practice): As a principle of best modeling practice, the <species> should set an initial value (amount or concentration) rather than be left undefined. Doing so improves the portability of models between different simulation and analysis systems, and helps make it easier to detect potential errors in models.\n",
      " The <species> with the id '__s20' does not have an 'initialConcentration' or 'initialAmount' attribute, nor is its initial value set by an <initialAssignment> or <assignmentRule>.\n",
      "\n",
      "libSBML Warning (Modeling practice): As a principle of best modeling practice, the <species> should set an initial value (amount or concentration) rather than be left undefined. Doing so improves the portability of models between different simulation and analysis systems, and helps make it easier to detect potential errors in models.\n",
      " The <species> with the id '__s21' does not have an 'initialConcentration' or 'initialAmount' attribute, nor is its initial value set by an <initialAssignment> or <assignmentRule>.\n",
      "\n"
     ]
    },
    {
     "name": "stderr",
     "output_type": "stream",
     "text": [
      "libSBML Warning (Modeling practice): As a principle of best modeling practice, the <species> should set an initial value (amount or concentration) rather than be left undefined. Doing so improves the portability of models between different simulation and analysis systems, and helps make it easier to detect potential errors in models.\n",
      " The <species> with the id '__s22' does not have an 'initialConcentration' or 'initialAmount' attribute, nor is its initial value set by an <initialAssignment> or <assignmentRule>.\n",
      "\n",
      "libSBML Warning (Modeling practice): As a principle of best modeling practice, the <species> should set an initial value (amount or concentration) rather than be left undefined. Doing so improves the portability of models between different simulation and analysis systems, and helps make it easier to detect potential errors in models.\n",
      " The <species> with the id '__s23' does not have an 'initialConcentration' or 'initialAmount' attribute, nor is its initial value set by an <initialAssignment> or <assignmentRule>.\n",
      "\n",
      "libSBML Warning (Modeling practice): As a principle of best modeling practice, the <species> should set an initial value (amount or concentration) rather than be left undefined. Doing so improves the portability of models between different simulation and analysis systems, and helps make it easier to detect potential errors in models.\n",
      " The <species> with the id '__s24' does not have an 'initialConcentration' or 'initialAmount' attribute, nor is its initial value set by an <initialAssignment> or <assignmentRule>.\n",
      "\n",
      "libSBML Warning (Modeling practice): As a principle of best modeling practice, the <species> should set an initial value (amount or concentration) rather than be left undefined. Doing so improves the portability of models between different simulation and analysis systems, and helps make it easier to detect potential errors in models.\n",
      " The <species> with the id '__s25' does not have an 'initialConcentration' or 'initialAmount' attribute, nor is its initial value set by an <initialAssignment> or <assignmentRule>.\n",
      "\n",
      "libSBML Warning (Modeling practice): As a principle of best modeling practice, the <species> should set an initial value (amount or concentration) rather than be left undefined. Doing so improves the portability of models between different simulation and analysis systems, and helps make it easier to detect potential errors in models.\n",
      " The <species> with the id '__s26' does not have an 'initialConcentration' or 'initialAmount' attribute, nor is its initial value set by an <initialAssignment> or <assignmentRule>.\n",
      "\n",
      "libSBML Warning (Modeling practice): As a principle of best modeling practice, the <species> should set an initial value (amount or concentration) rather than be left undefined. Doing so improves the portability of models between different simulation and analysis systems, and helps make it easier to detect potential errors in models.\n",
      " The <species> with the id '__s27' does not have an 'initialConcentration' or 'initialAmount' attribute, nor is its initial value set by an <initialAssignment> or <assignmentRule>.\n",
      "\n",
      "libSBML Warning (Modeling practice): As a principle of best modeling practice, the <species> should set an initial value (amount or concentration) rather than be left undefined. Doing so improves the portability of models between different simulation and analysis systems, and helps make it easier to detect potential errors in models.\n",
      " The <species> with the id '__s28' does not have an 'initialConcentration' or 'initialAmount' attribute, nor is its initial value set by an <initialAssignment> or <assignmentRule>.\n",
      "\n",
      "libSBML Warning (Modeling practice): As a principle of best modeling practice, the <species> should set an initial value (amount or concentration) rather than be left undefined. Doing so improves the portability of models between different simulation and analysis systems, and helps make it easier to detect potential errors in models.\n",
      " The <species> with the id '__s29' does not have an 'initialConcentration' or 'initialAmount' attribute, nor is its initial value set by an <initialAssignment> or <assignmentRule>.\n",
      "\n",
      "libSBML Warning (Modeling practice): As a principle of best modeling practice, the <species> should set an initial value (amount or concentration) rather than be left undefined. Doing so improves the portability of models between different simulation and analysis systems, and helps make it easier to detect potential errors in models.\n",
      " The <species> with the id '__s30' does not have an 'initialConcentration' or 'initialAmount' attribute, nor is its initial value set by an <initialAssignment> or <assignmentRule>.\n",
      "\n",
      "libSBML Warning (Modeling practice): As a principle of best modeling practice, the <species> should set an initial value (amount or concentration) rather than be left undefined. Doing so improves the portability of models between different simulation and analysis systems, and helps make it easier to detect potential errors in models.\n",
      " The <species> with the id '__s31' does not have an 'initialConcentration' or 'initialAmount' attribute, nor is its initial value set by an <initialAssignment> or <assignmentRule>.\n",
      "\n",
      "libSBML Warning (Modeling practice): As a principle of best modeling practice, the <species> should set an initial value (amount or concentration) rather than be left undefined. Doing so improves the portability of models between different simulation and analysis systems, and helps make it easier to detect potential errors in models.\n",
      " The <species> with the id '__s32' does not have an 'initialConcentration' or 'initialAmount' attribute, nor is its initial value set by an <initialAssignment> or <assignmentRule>.\n",
      "\n",
      "libSBML Warning (Modeling practice): As a principle of best modeling practice, the <species> should set an initial value (amount or concentration) rather than be left undefined. Doing so improves the portability of models between different simulation and analysis systems, and helps make it easier to detect potential errors in models.\n",
      " The <species> with the id '__s33' does not have an 'initialConcentration' or 'initialAmount' attribute, nor is its initial value set by an <initialAssignment> or <assignmentRule>.\n",
      "\n",
      "libSBML Warning (Modeling practice): As a principle of best modeling practice, the <species> should set an initial value (amount or concentration) rather than be left undefined. Doing so improves the portability of models between different simulation and analysis systems, and helps make it easier to detect potential errors in models.\n",
      " The <species> with the id '__s34' does not have an 'initialConcentration' or 'initialAmount' attribute, nor is its initial value set by an <initialAssignment> or <assignmentRule>.\n",
      "\n",
      "libSBML Warning (Modeling practice): As a principle of best modeling practice, the <species> should set an initial value (amount or concentration) rather than be left undefined. Doing so improves the portability of models between different simulation and analysis systems, and helps make it easier to detect potential errors in models.\n",
      " The <species> with the id '__s35' does not have an 'initialConcentration' or 'initialAmount' attribute, nor is its initial value set by an <initialAssignment> or <assignmentRule>.\n",
      "\n",
      "libSBML Warning (Modeling practice): As a principle of best modeling practice, the <species> should set an initial value (amount or concentration) rather than be left undefined. Doing so improves the portability of models between different simulation and analysis systems, and helps make it easier to detect potential errors in models.\n",
      " The <species> with the id '__s36' does not have an 'initialConcentration' or 'initialAmount' attribute, nor is its initial value set by an <initialAssignment> or <assignmentRule>.\n",
      "\n",
      "libSBML Warning (Modeling practice): As a principle of best modeling practice, the <species> should set an initial value (amount or concentration) rather than be left undefined. Doing so improves the portability of models between different simulation and analysis systems, and helps make it easier to detect potential errors in models.\n",
      " The <species> with the id '__s37' does not have an 'initialConcentration' or 'initialAmount' attribute, nor is its initial value set by an <initialAssignment> or <assignmentRule>.\n",
      "\n"
     ]
    },
    {
     "name": "stderr",
     "output_type": "stream",
     "text": [
      "libSBML Warning (Modeling practice): As a principle of best modeling practice, the <species> should set an initial value (amount or concentration) rather than be left undefined. Doing so improves the portability of models between different simulation and analysis systems, and helps make it easier to detect potential errors in models.\n",
      " The <species> with the id '__s38' does not have an 'initialConcentration' or 'initialAmount' attribute, nor is its initial value set by an <initialAssignment> or <assignmentRule>.\n",
      "\n",
      "libSBML Warning (Modeling practice): As a principle of best modeling practice, the <species> should set an initial value (amount or concentration) rather than be left undefined. Doing so improves the portability of models between different simulation and analysis systems, and helps make it easier to detect potential errors in models.\n",
      " The <species> with the id '__s39' does not have an 'initialConcentration' or 'initialAmount' attribute, nor is its initial value set by an <initialAssignment> or <assignmentRule>.\n",
      "\n",
      "libSBML Warning (Modeling practice): As a principle of best modeling practice, the <species> should set an initial value (amount or concentration) rather than be left undefined. Doing so improves the portability of models between different simulation and analysis systems, and helps make it easier to detect potential errors in models.\n",
      " The <species> with the id '__s40' does not have an 'initialConcentration' or 'initialAmount' attribute, nor is its initial value set by an <initialAssignment> or <assignmentRule>.\n",
      "\n",
      "libSBML Warning (Modeling practice): As a principle of best modeling practice, the <species> should set an initial value (amount or concentration) rather than be left undefined. Doing so improves the portability of models between different simulation and analysis systems, and helps make it easier to detect potential errors in models.\n",
      " The <species> with the id '__s41' does not have an 'initialConcentration' or 'initialAmount' attribute, nor is its initial value set by an <initialAssignment> or <assignmentRule>.\n",
      "\n",
      "libSBML Warning (Modeling practice): As a principle of best modeling practice, the <species> should set an initial value (amount or concentration) rather than be left undefined. Doing so improves the portability of models between different simulation and analysis systems, and helps make it easier to detect potential errors in models.\n",
      " The <species> with the id '__s42' does not have an 'initialConcentration' or 'initialAmount' attribute, nor is its initial value set by an <initialAssignment> or <assignmentRule>.\n",
      "\n",
      "libSBML Warning (Modeling practice): As a principle of best modeling practice, the <species> should set an initial value (amount or concentration) rather than be left undefined. Doing so improves the portability of models between different simulation and analysis systems, and helps make it easier to detect potential errors in models.\n",
      " The <species> with the id '__s43' does not have an 'initialConcentration' or 'initialAmount' attribute, nor is its initial value set by an <initialAssignment> or <assignmentRule>.\n",
      "\n",
      "libSBML Warning (Modeling practice): As a principle of best modeling practice, the <species> should set an initial value (amount or concentration) rather than be left undefined. Doing so improves the portability of models between different simulation and analysis systems, and helps make it easier to detect potential errors in models.\n",
      " The <species> with the id '__s44' does not have an 'initialConcentration' or 'initialAmount' attribute, nor is its initial value set by an <initialAssignment> or <assignmentRule>.\n",
      "\n",
      "libSBML Warning (Modeling practice): As a principle of best modeling practice, the <species> should set an initial value (amount or concentration) rather than be left undefined. Doing so improves the portability of models between different simulation and analysis systems, and helps make it easier to detect potential errors in models.\n",
      " The <species> with the id '__s45' does not have an 'initialConcentration' or 'initialAmount' attribute, nor is its initial value set by an <initialAssignment> or <assignmentRule>.\n",
      "\n",
      "libSBML Warning (Modeling practice): As a principle of best modeling practice, the <species> should set an initial value (amount or concentration) rather than be left undefined. Doing so improves the portability of models between different simulation and analysis systems, and helps make it easier to detect potential errors in models.\n",
      " The <species> with the id '__s46' does not have an 'initialConcentration' or 'initialAmount' attribute, nor is its initial value set by an <initialAssignment> or <assignmentRule>.\n",
      "\n",
      "libSBML Warning (Modeling practice): As a principle of best modeling practice, the <species> should set an initial value (amount or concentration) rather than be left undefined. Doing so improves the portability of models between different simulation and analysis systems, and helps make it easier to detect potential errors in models.\n",
      " The <species> with the id '__s47' does not have an 'initialConcentration' or 'initialAmount' attribute, nor is its initial value set by an <initialAssignment> or <assignmentRule>.\n",
      "\n",
      "libSBML Warning (Modeling practice): As a principle of best modeling practice, the <species> should set an initial value (amount or concentration) rather than be left undefined. Doing so improves the portability of models between different simulation and analysis systems, and helps make it easier to detect potential errors in models.\n",
      " The <species> with the id '__s48' does not have an 'initialConcentration' or 'initialAmount' attribute, nor is its initial value set by an <initialAssignment> or <assignmentRule>.\n",
      "\n",
      "libSBML Warning (Modeling practice): As a principle of best modeling practice, the <species> should set an initial value (amount or concentration) rather than be left undefined. Doing so improves the portability of models between different simulation and analysis systems, and helps make it easier to detect potential errors in models.\n",
      " The <species> with the id '__s49' does not have an 'initialConcentration' or 'initialAmount' attribute, nor is its initial value set by an <initialAssignment> or <assignmentRule>.\n",
      "\n",
      "libSBML Warning (Modeling practice): As a principle of best modeling practice, the <species> should set an initial value (amount or concentration) rather than be left undefined. Doing so improves the portability of models between different simulation and analysis systems, and helps make it easier to detect potential errors in models.\n",
      " The <species> with the id '__s50' does not have an 'initialConcentration' or 'initialAmount' attribute, nor is its initial value set by an <initialAssignment> or <assignmentRule>.\n",
      "\n",
      "libSBML Warning (Modeling practice): As a principle of best modeling practice, the <species> should set an initial value (amount or concentration) rather than be left undefined. Doing so improves the portability of models between different simulation and analysis systems, and helps make it easier to detect potential errors in models.\n",
      " The <species> with the id '__s51' does not have an 'initialConcentration' or 'initialAmount' attribute, nor is its initial value set by an <initialAssignment> or <assignmentRule>.\n",
      "\n",
      "libSBML Warning (Modeling practice): As a principle of best modeling practice, the <species> should set an initial value (amount or concentration) rather than be left undefined. Doing so improves the portability of models between different simulation and analysis systems, and helps make it easier to detect potential errors in models.\n",
      " The <species> with the id '__s52' does not have an 'initialConcentration' or 'initialAmount' attribute, nor is its initial value set by an <initialAssignment> or <assignmentRule>.\n",
      "\n",
      "libSBML Warning (Modeling practice): As a principle of best modeling practice, the <species> should set an initial value (amount or concentration) rather than be left undefined. Doing so improves the portability of models between different simulation and analysis systems, and helps make it easier to detect potential errors in models.\n",
      " The <species> with the id '__s53' does not have an 'initialConcentration' or 'initialAmount' attribute, nor is its initial value set by an <initialAssignment> or <assignmentRule>.\n",
      "\n"
     ]
    },
    {
     "name": "stderr",
     "output_type": "stream",
     "text": [
      "libSBML Warning (Modeling practice): As a principle of best modeling practice, the <species> should set an initial value (amount or concentration) rather than be left undefined. Doing so improves the portability of models between different simulation and analysis systems, and helps make it easier to detect potential errors in models.\n",
      " The <species> with the id '__s54' does not have an 'initialConcentration' or 'initialAmount' attribute, nor is its initial value set by an <initialAssignment> or <assignmentRule>.\n",
      "\n",
      "libSBML Warning (Modeling practice): As a principle of best modeling practice, the <species> should set an initial value (amount or concentration) rather than be left undefined. Doing so improves the portability of models between different simulation and analysis systems, and helps make it easier to detect potential errors in models.\n",
      " The <species> with the id '__s55' does not have an 'initialConcentration' or 'initialAmount' attribute, nor is its initial value set by an <initialAssignment> or <assignmentRule>.\n",
      "\n",
      "libSBML Warning (Modeling practice): As a principle of best modeling practice, the <species> should set an initial value (amount or concentration) rather than be left undefined. Doing so improves the portability of models between different simulation and analysis systems, and helps make it easier to detect potential errors in models.\n",
      " The <species> with the id '__s56' does not have an 'initialConcentration' or 'initialAmount' attribute, nor is its initial value set by an <initialAssignment> or <assignmentRule>.\n",
      "\n",
      "libSBML Warning (Modeling practice): As a principle of best modeling practice, the <species> should set an initial value (amount or concentration) rather than be left undefined. Doing so improves the portability of models between different simulation and analysis systems, and helps make it easier to detect potential errors in models.\n",
      " The <species> with the id '__s57' does not have an 'initialConcentration' or 'initialAmount' attribute, nor is its initial value set by an <initialAssignment> or <assignmentRule>.\n",
      "\n",
      "libSBML Warning (Modeling practice): As a principle of best modeling practice, the <species> should set an initial value (amount or concentration) rather than be left undefined. Doing so improves the portability of models between different simulation and analysis systems, and helps make it easier to detect potential errors in models.\n",
      " The <species> with the id '__s58' does not have an 'initialConcentration' or 'initialAmount' attribute, nor is its initial value set by an <initialAssignment> or <assignmentRule>.\n",
      "\n",
      "libSBML Warning (Modeling practice): As a principle of best modeling practice, the <species> should set an initial value (amount or concentration) rather than be left undefined. Doing so improves the portability of models between different simulation and analysis systems, and helps make it easier to detect potential errors in models.\n",
      " The <species> with the id '__s59' does not have an 'initialConcentration' or 'initialAmount' attribute, nor is its initial value set by an <initialAssignment> or <assignmentRule>.\n",
      "\n",
      "libSBML Warning (Modeling practice): As a principle of best modeling practice, the <species> should set an initial value (amount or concentration) rather than be left undefined. Doing so improves the portability of models between different simulation and analysis systems, and helps make it easier to detect potential errors in models.\n",
      " The <species> with the id '__s60' does not have an 'initialConcentration' or 'initialAmount' attribute, nor is its initial value set by an <initialAssignment> or <assignmentRule>.\n",
      "\n",
      "libSBML Warning (Modeling practice): As a principle of best modeling practice, the <species> should set an initial value (amount or concentration) rather than be left undefined. Doing so improves the portability of models between different simulation and analysis systems, and helps make it easier to detect potential errors in models.\n",
      " The <species> with the id '__s61' does not have an 'initialConcentration' or 'initialAmount' attribute, nor is its initial value set by an <initialAssignment> or <assignmentRule>.\n",
      "\n",
      "libSBML Warning (Modeling practice): As a principle of best modeling practice, the <species> should set an initial value (amount or concentration) rather than be left undefined. Doing so improves the portability of models between different simulation and analysis systems, and helps make it easier to detect potential errors in models.\n",
      " The <species> with the id '__s62' does not have an 'initialConcentration' or 'initialAmount' attribute, nor is its initial value set by an <initialAssignment> or <assignmentRule>.\n",
      "\n",
      "libSBML Warning (Modeling practice): As a principle of best modeling practice, the <species> should set an initial value (amount or concentration) rather than be left undefined. Doing so improves the portability of models between different simulation and analysis systems, and helps make it easier to detect potential errors in models.\n",
      " The <species> with the id '__s63' does not have an 'initialConcentration' or 'initialAmount' attribute, nor is its initial value set by an <initialAssignment> or <assignmentRule>.\n",
      "\n",
      "libSBML Warning (Modeling practice): As a principle of best modeling practice, the <species> should set an initial value (amount or concentration) rather than be left undefined. Doing so improves the portability of models between different simulation and analysis systems, and helps make it easier to detect potential errors in models.\n",
      " The <species> with the id '__s64' does not have an 'initialConcentration' or 'initialAmount' attribute, nor is its initial value set by an <initialAssignment> or <assignmentRule>.\n",
      "\n",
      "libSBML Warning (Modeling practice): As a principle of best modeling practice, the <species> should set an initial value (amount or concentration) rather than be left undefined. Doing so improves the portability of models between different simulation and analysis systems, and helps make it easier to detect potential errors in models.\n",
      " The <species> with the id '__s65' does not have an 'initialConcentration' or 'initialAmount' attribute, nor is its initial value set by an <initialAssignment> or <assignmentRule>.\n",
      "\n",
      "libSBML Warning (Modeling practice): As a principle of best modeling practice, the <species> should set an initial value (amount or concentration) rather than be left undefined. Doing so improves the portability of models between different simulation and analysis systems, and helps make it easier to detect potential errors in models.\n",
      " The <species> with the id '__s66' does not have an 'initialConcentration' or 'initialAmount' attribute, nor is its initial value set by an <initialAssignment> or <assignmentRule>.\n",
      "\n",
      "libSBML Warning (Modeling practice): As a principle of best modeling practice, the <species> should set an initial value (amount or concentration) rather than be left undefined. Doing so improves the portability of models between different simulation and analysis systems, and helps make it easier to detect potential errors in models.\n",
      " The <species> with the id '__s67' does not have an 'initialConcentration' or 'initialAmount' attribute, nor is its initial value set by an <initialAssignment> or <assignmentRule>.\n",
      "\n",
      "libSBML Warning (Modeling practice): As a principle of best modeling practice, the <species> should set an initial value (amount or concentration) rather than be left undefined. Doing so improves the portability of models between different simulation and analysis systems, and helps make it easier to detect potential errors in models.\n",
      " The <species> with the id '__s68' does not have an 'initialConcentration' or 'initialAmount' attribute, nor is its initial value set by an <initialAssignment> or <assignmentRule>.\n",
      "\n",
      "libSBML Warning (Modeling practice): As a principle of best modeling practice, the <species> should set an initial value (amount or concentration) rather than be left undefined. Doing so improves the portability of models between different simulation and analysis systems, and helps make it easier to detect potential errors in models.\n",
      " The <species> with the id '__s69' does not have an 'initialConcentration' or 'initialAmount' attribute, nor is its initial value set by an <initialAssignment> or <assignmentRule>.\n",
      "\n"
     ]
    },
    {
     "name": "stderr",
     "output_type": "stream",
     "text": [
      "libSBML Warning (Modeling practice): As a principle of best modeling practice, the <species> should set an initial value (amount or concentration) rather than be left undefined. Doing so improves the portability of models between different simulation and analysis systems, and helps make it easier to detect potential errors in models.\n",
      " The <species> with the id '__s70' does not have an 'initialConcentration' or 'initialAmount' attribute, nor is its initial value set by an <initialAssignment> or <assignmentRule>.\n",
      "\n",
      "libSBML Warning (Modeling practice): As a principle of best modeling practice, the <species> should set an initial value (amount or concentration) rather than be left undefined. Doing so improves the portability of models between different simulation and analysis systems, and helps make it easier to detect potential errors in models.\n",
      " The <species> with the id '__s71' does not have an 'initialConcentration' or 'initialAmount' attribute, nor is its initial value set by an <initialAssignment> or <assignmentRule>.\n",
      "\n",
      "libSBML Warning (Modeling practice): As a principle of best modeling practice, the <species> should set an initial value (amount or concentration) rather than be left undefined. Doing so improves the portability of models between different simulation and analysis systems, and helps make it easier to detect potential errors in models.\n",
      " The <species> with the id '__s72' does not have an 'initialConcentration' or 'initialAmount' attribute, nor is its initial value set by an <initialAssignment> or <assignmentRule>.\n",
      "\n",
      "libSBML Warning (Modeling practice): As a principle of best modeling practice, the <species> should set an initial value (amount or concentration) rather than be left undefined. Doing so improves the portability of models between different simulation and analysis systems, and helps make it easier to detect potential errors in models.\n",
      " The <species> with the id '__s73' does not have an 'initialConcentration' or 'initialAmount' attribute, nor is its initial value set by an <initialAssignment> or <assignmentRule>.\n",
      "\n",
      "libSBML Warning (Modeling practice): As a principle of best modeling practice, the <species> should set an initial value (amount or concentration) rather than be left undefined. Doing so improves the portability of models between different simulation and analysis systems, and helps make it easier to detect potential errors in models.\n",
      " The <species> with the id '__s74' does not have an 'initialConcentration' or 'initialAmount' attribute, nor is its initial value set by an <initialAssignment> or <assignmentRule>.\n",
      "\n",
      "libSBML Warning (Modeling practice): As a principle of best modeling practice, the <species> should set an initial value (amount or concentration) rather than be left undefined. Doing so improves the portability of models between different simulation and analysis systems, and helps make it easier to detect potential errors in models.\n",
      " The <species> with the id '__s75' does not have an 'initialConcentration' or 'initialAmount' attribute, nor is its initial value set by an <initialAssignment> or <assignmentRule>.\n",
      "\n",
      "libSBML Warning (Modeling practice): As a principle of best modeling practice, the <species> should set an initial value (amount or concentration) rather than be left undefined. Doing so improves the portability of models between different simulation and analysis systems, and helps make it easier to detect potential errors in models.\n",
      " The <species> with the id '__s76' does not have an 'initialConcentration' or 'initialAmount' attribute, nor is its initial value set by an <initialAssignment> or <assignmentRule>.\n",
      "\n",
      "libSBML Warning (Modeling practice): As a principle of best modeling practice, the <species> should set an initial value (amount or concentration) rather than be left undefined. Doing so improves the portability of models between different simulation and analysis systems, and helps make it easier to detect potential errors in models.\n",
      " The <species> with the id '__s77' does not have an 'initialConcentration' or 'initialAmount' attribute, nor is its initial value set by an <initialAssignment> or <assignmentRule>.\n",
      "\n",
      "libSBML Warning (Modeling practice): As a principle of best modeling practice, the <species> should set an initial value (amount or concentration) rather than be left undefined. Doing so improves the portability of models between different simulation and analysis systems, and helps make it easier to detect potential errors in models.\n",
      " The <species> with the id '__s78' does not have an 'initialConcentration' or 'initialAmount' attribute, nor is its initial value set by an <initialAssignment> or <assignmentRule>.\n",
      "\n",
      "libSBML Warning (Modeling practice): As a principle of best modeling practice, the <species> should set an initial value (amount or concentration) rather than be left undefined. Doing so improves the portability of models between different simulation and analysis systems, and helps make it easier to detect potential errors in models.\n",
      " The <species> with the id '__s79' does not have an 'initialConcentration' or 'initialAmount' attribute, nor is its initial value set by an <initialAssignment> or <assignmentRule>.\n",
      "\n",
      "libSBML Warning (Modeling practice): As a principle of best modeling practice, the <species> should set an initial value (amount or concentration) rather than be left undefined. Doing so improves the portability of models between different simulation and analysis systems, and helps make it easier to detect potential errors in models.\n",
      " The <species> with the id '__s80' does not have an 'initialConcentration' or 'initialAmount' attribute, nor is its initial value set by an <initialAssignment> or <assignmentRule>.\n",
      "\n",
      "libSBML Warning (Modeling practice): As a principle of best modeling practice, the <species> should set an initial value (amount or concentration) rather than be left undefined. Doing so improves the portability of models between different simulation and analysis systems, and helps make it easier to detect potential errors in models.\n",
      " The <species> with the id '__s81' does not have an 'initialConcentration' or 'initialAmount' attribute, nor is its initial value set by an <initialAssignment> or <assignmentRule>.\n",
      "\n",
      "libSBML Warning (Modeling practice): As a principle of best modeling practice, the <species> should set an initial value (amount or concentration) rather than be left undefined. Doing so improves the portability of models between different simulation and analysis systems, and helps make it easier to detect potential errors in models.\n",
      " The <species> with the id '__s82' does not have an 'initialConcentration' or 'initialAmount' attribute, nor is its initial value set by an <initialAssignment> or <assignmentRule>.\n",
      "\n",
      "libSBML Warning (Modeling practice): As a principle of best modeling practice, the <species> should set an initial value (amount or concentration) rather than be left undefined. Doing so improves the portability of models between different simulation and analysis systems, and helps make it easier to detect potential errors in models.\n",
      " The <species> with the id '__s83' does not have an 'initialConcentration' or 'initialAmount' attribute, nor is its initial value set by an <initialAssignment> or <assignmentRule>.\n",
      "\n",
      "libSBML Warning (Modeling practice): As a principle of best modeling practice, the <species> should set an initial value (amount or concentration) rather than be left undefined. Doing so improves the portability of models between different simulation and analysis systems, and helps make it easier to detect potential errors in models.\n",
      " The <species> with the id '__s84' does not have an 'initialConcentration' or 'initialAmount' attribute, nor is its initial value set by an <initialAssignment> or <assignmentRule>.\n",
      "\n",
      "libSBML Warning (Modeling practice): As a principle of best modeling practice, the <species> should set an initial value (amount or concentration) rather than be left undefined. Doing so improves the portability of models between different simulation and analysis systems, and helps make it easier to detect potential errors in models.\n",
      " The <species> with the id '__s85' does not have an 'initialConcentration' or 'initialAmount' attribute, nor is its initial value set by an <initialAssignment> or <assignmentRule>.\n",
      "\n"
     ]
    },
    {
     "name": "stderr",
     "output_type": "stream",
     "text": [
      "libSBML Warning (Modeling practice): As a principle of best modeling practice, the <species> should set an initial value (amount or concentration) rather than be left undefined. Doing so improves the portability of models between different simulation and analysis systems, and helps make it easier to detect potential errors in models.\n",
      " The <species> with the id '__s86' does not have an 'initialConcentration' or 'initialAmount' attribute, nor is its initial value set by an <initialAssignment> or <assignmentRule>.\n",
      "\n",
      "libSBML Warning (Modeling practice): As a principle of best modeling practice, the <species> should set an initial value (amount or concentration) rather than be left undefined. Doing so improves the portability of models between different simulation and analysis systems, and helps make it easier to detect potential errors in models.\n",
      " The <species> with the id '__s87' does not have an 'initialConcentration' or 'initialAmount' attribute, nor is its initial value set by an <initialAssignment> or <assignmentRule>.\n",
      "\n",
      "libSBML Warning (Modeling practice): As a principle of best modeling practice, the <species> should set an initial value (amount or concentration) rather than be left undefined. Doing so improves the portability of models between different simulation and analysis systems, and helps make it easier to detect potential errors in models.\n",
      " The <species> with the id '__s88' does not have an 'initialConcentration' or 'initialAmount' attribute, nor is its initial value set by an <initialAssignment> or <assignmentRule>.\n",
      "\n",
      "libSBML Warning (Modeling practice): As a principle of best modeling practice, the <species> should set an initial value (amount or concentration) rather than be left undefined. Doing so improves the portability of models between different simulation and analysis systems, and helps make it easier to detect potential errors in models.\n",
      " The <species> with the id '__s89' does not have an 'initialConcentration' or 'initialAmount' attribute, nor is its initial value set by an <initialAssignment> or <assignmentRule>.\n",
      "\n",
      "libSBML Warning (Modeling practice): As a principle of best modeling practice, the <species> should set an initial value (amount or concentration) rather than be left undefined. Doing so improves the portability of models between different simulation and analysis systems, and helps make it easier to detect potential errors in models.\n",
      " The <species> with the id '__s90' does not have an 'initialConcentration' or 'initialAmount' attribute, nor is its initial value set by an <initialAssignment> or <assignmentRule>.\n",
      "\n",
      "libSBML Warning (Modeling practice): As a principle of best modeling practice, the <species> should set an initial value (amount or concentration) rather than be left undefined. Doing so improves the portability of models between different simulation and analysis systems, and helps make it easier to detect potential errors in models.\n",
      " The <species> with the id '__s91' does not have an 'initialConcentration' or 'initialAmount' attribute, nor is its initial value set by an <initialAssignment> or <assignmentRule>.\n",
      "\n",
      "libSBML Warning (Modeling practice): As a principle of best modeling practice, the <species> should set an initial value (amount or concentration) rather than be left undefined. Doing so improves the portability of models between different simulation and analysis systems, and helps make it easier to detect potential errors in models.\n",
      " The <species> with the id '__s92' does not have an 'initialConcentration' or 'initialAmount' attribute, nor is its initial value set by an <initialAssignment> or <assignmentRule>.\n",
      "\n",
      "libSBML Warning (Modeling practice): As a principle of best modeling practice, the <species> should set an initial value (amount or concentration) rather than be left undefined. Doing so improves the portability of models between different simulation and analysis systems, and helps make it easier to detect potential errors in models.\n",
      " The <species> with the id '__s93' does not have an 'initialConcentration' or 'initialAmount' attribute, nor is its initial value set by an <initialAssignment> or <assignmentRule>.\n",
      "\n",
      "libSBML Warning (Modeling practice): As a principle of best modeling practice, the <species> should set an initial value (amount or concentration) rather than be left undefined. Doing so improves the portability of models between different simulation and analysis systems, and helps make it easier to detect potential errors in models.\n",
      " The <species> with the id '__s94' does not have an 'initialConcentration' or 'initialAmount' attribute, nor is its initial value set by an <initialAssignment> or <assignmentRule>.\n",
      "\n",
      "libSBML Warning (Modeling practice): As a principle of best modeling practice, the <species> should set an initial value (amount or concentration) rather than be left undefined. Doing so improves the portability of models between different simulation and analysis systems, and helps make it easier to detect potential errors in models.\n",
      " The <species> with the id '__s95' does not have an 'initialConcentration' or 'initialAmount' attribute, nor is its initial value set by an <initialAssignment> or <assignmentRule>.\n",
      "\n",
      "libSBML Warning (Modeling practice): As a principle of best modeling practice, the <species> should set an initial value (amount or concentration) rather than be left undefined. Doing so improves the portability of models between different simulation and analysis systems, and helps make it easier to detect potential errors in models.\n",
      " The <species> with the id '__s96' does not have an 'initialConcentration' or 'initialAmount' attribute, nor is its initial value set by an <initialAssignment> or <assignmentRule>.\n",
      "\n",
      "libSBML Warning (Modeling practice): As a principle of best modeling practice, the <species> should set an initial value (amount or concentration) rather than be left undefined. Doing so improves the portability of models between different simulation and analysis systems, and helps make it easier to detect potential errors in models.\n",
      " The <species> with the id '__s97' does not have an 'initialConcentration' or 'initialAmount' attribute, nor is its initial value set by an <initialAssignment> or <assignmentRule>.\n",
      "\n",
      "WARNING: Generated invalid SBML model. Check messages above.\n",
      "libSBML Warning (Modeling practice): As a principle of best modeling practice, the <species> should set an initial value (amount or concentration) rather than be left undefined. Doing so improves the portability of models between different simulation and analysis systems, and helps make it easier to detect potential errors in models.\n",
      " The <species> with the id '__s6' does not have an 'initialConcentration' or 'initialAmount' attribute, nor is its initial value set by an <initialAssignment> or <assignmentRule>.\n",
      "\n",
      "libSBML Warning (Modeling practice): As a principle of best modeling practice, the <species> should set an initial value (amount or concentration) rather than be left undefined. Doing so improves the portability of models between different simulation and analysis systems, and helps make it easier to detect potential errors in models.\n",
      " The <species> with the id '__s7' does not have an 'initialConcentration' or 'initialAmount' attribute, nor is its initial value set by an <initialAssignment> or <assignmentRule>.\n",
      "\n",
      "libSBML Warning (Modeling practice): As a principle of best modeling practice, the <species> should set an initial value (amount or concentration) rather than be left undefined. Doing so improves the portability of models between different simulation and analysis systems, and helps make it easier to detect potential errors in models.\n",
      " The <species> with the id '__s8' does not have an 'initialConcentration' or 'initialAmount' attribute, nor is its initial value set by an <initialAssignment> or <assignmentRule>.\n",
      "\n",
      "libSBML Warning (Modeling practice): As a principle of best modeling practice, the <species> should set an initial value (amount or concentration) rather than be left undefined. Doing so improves the portability of models between different simulation and analysis systems, and helps make it easier to detect potential errors in models.\n",
      " The <species> with the id '__s9' does not have an 'initialConcentration' or 'initialAmount' attribute, nor is its initial value set by an <initialAssignment> or <assignmentRule>.\n",
      "\n"
     ]
    },
    {
     "name": "stderr",
     "output_type": "stream",
     "text": [
      "libSBML Warning (Modeling practice): As a principle of best modeling practice, the <species> should set an initial value (amount or concentration) rather than be left undefined. Doing so improves the portability of models between different simulation and analysis systems, and helps make it easier to detect potential errors in models.\n",
      " The <species> with the id '__s10' does not have an 'initialConcentration' or 'initialAmount' attribute, nor is its initial value set by an <initialAssignment> or <assignmentRule>.\n",
      "\n",
      "libSBML Warning (Modeling practice): As a principle of best modeling practice, the <species> should set an initial value (amount or concentration) rather than be left undefined. Doing so improves the portability of models between different simulation and analysis systems, and helps make it easier to detect potential errors in models.\n",
      " The <species> with the id '__s11' does not have an 'initialConcentration' or 'initialAmount' attribute, nor is its initial value set by an <initialAssignment> or <assignmentRule>.\n",
      "\n",
      "libSBML Warning (Modeling practice): As a principle of best modeling practice, the <species> should set an initial value (amount or concentration) rather than be left undefined. Doing so improves the portability of models between different simulation and analysis systems, and helps make it easier to detect potential errors in models.\n",
      " The <species> with the id '__s12' does not have an 'initialConcentration' or 'initialAmount' attribute, nor is its initial value set by an <initialAssignment> or <assignmentRule>.\n",
      "\n",
      "libSBML Warning (Modeling practice): As a principle of best modeling practice, the <species> should set an initial value (amount or concentration) rather than be left undefined. Doing so improves the portability of models between different simulation and analysis systems, and helps make it easier to detect potential errors in models.\n",
      " The <species> with the id '__s13' does not have an 'initialConcentration' or 'initialAmount' attribute, nor is its initial value set by an <initialAssignment> or <assignmentRule>.\n",
      "\n",
      "libSBML Warning (Modeling practice): As a principle of best modeling practice, the <species> should set an initial value (amount or concentration) rather than be left undefined. Doing so improves the portability of models between different simulation and analysis systems, and helps make it easier to detect potential errors in models.\n",
      " The <species> with the id '__s14' does not have an 'initialConcentration' or 'initialAmount' attribute, nor is its initial value set by an <initialAssignment> or <assignmentRule>.\n",
      "\n",
      "libSBML Warning (Modeling practice): As a principle of best modeling practice, the <species> should set an initial value (amount or concentration) rather than be left undefined. Doing so improves the portability of models between different simulation and analysis systems, and helps make it easier to detect potential errors in models.\n",
      " The <species> with the id '__s15' does not have an 'initialConcentration' or 'initialAmount' attribute, nor is its initial value set by an <initialAssignment> or <assignmentRule>.\n",
      "\n",
      "libSBML Warning (Modeling practice): As a principle of best modeling practice, the <species> should set an initial value (amount or concentration) rather than be left undefined. Doing so improves the portability of models between different simulation and analysis systems, and helps make it easier to detect potential errors in models.\n",
      " The <species> with the id '__s16' does not have an 'initialConcentration' or 'initialAmount' attribute, nor is its initial value set by an <initialAssignment> or <assignmentRule>.\n",
      "\n",
      "libSBML Warning (Modeling practice): As a principle of best modeling practice, the <species> should set an initial value (amount or concentration) rather than be left undefined. Doing so improves the portability of models between different simulation and analysis systems, and helps make it easier to detect potential errors in models.\n",
      " The <species> with the id '__s17' does not have an 'initialConcentration' or 'initialAmount' attribute, nor is its initial value set by an <initialAssignment> or <assignmentRule>.\n",
      "\n",
      "libSBML Warning (Modeling practice): As a principle of best modeling practice, the <species> should set an initial value (amount or concentration) rather than be left undefined. Doing so improves the portability of models between different simulation and analysis systems, and helps make it easier to detect potential errors in models.\n",
      " The <species> with the id '__s18' does not have an 'initialConcentration' or 'initialAmount' attribute, nor is its initial value set by an <initialAssignment> or <assignmentRule>.\n",
      "\n",
      "libSBML Warning (Modeling practice): As a principle of best modeling practice, the <species> should set an initial value (amount or concentration) rather than be left undefined. Doing so improves the portability of models between different simulation and analysis systems, and helps make it easier to detect potential errors in models.\n",
      " The <species> with the id '__s19' does not have an 'initialConcentration' or 'initialAmount' attribute, nor is its initial value set by an <initialAssignment> or <assignmentRule>.\n",
      "\n",
      "libSBML Warning (Modeling practice): As a principle of best modeling practice, the <species> should set an initial value (amount or concentration) rather than be left undefined. Doing so improves the portability of models between different simulation and analysis systems, and helps make it easier to detect potential errors in models.\n",
      " The <species> with the id '__s20' does not have an 'initialConcentration' or 'initialAmount' attribute, nor is its initial value set by an <initialAssignment> or <assignmentRule>.\n",
      "\n",
      "libSBML Warning (Modeling practice): As a principle of best modeling practice, the <species> should set an initial value (amount or concentration) rather than be left undefined. Doing so improves the portability of models between different simulation and analysis systems, and helps make it easier to detect potential errors in models.\n",
      " The <species> with the id '__s21' does not have an 'initialConcentration' or 'initialAmount' attribute, nor is its initial value set by an <initialAssignment> or <assignmentRule>.\n",
      "\n",
      "libSBML Warning (Modeling practice): As a principle of best modeling practice, the <species> should set an initial value (amount or concentration) rather than be left undefined. Doing so improves the portability of models between different simulation and analysis systems, and helps make it easier to detect potential errors in models.\n",
      " The <species> with the id '__s22' does not have an 'initialConcentration' or 'initialAmount' attribute, nor is its initial value set by an <initialAssignment> or <assignmentRule>.\n",
      "\n",
      "libSBML Warning (Modeling practice): As a principle of best modeling practice, the <species> should set an initial value (amount or concentration) rather than be left undefined. Doing so improves the portability of models between different simulation and analysis systems, and helps make it easier to detect potential errors in models.\n",
      " The <species> with the id '__s23' does not have an 'initialConcentration' or 'initialAmount' attribute, nor is its initial value set by an <initialAssignment> or <assignmentRule>.\n",
      "\n",
      "libSBML Warning (Modeling practice): As a principle of best modeling practice, the <species> should set an initial value (amount or concentration) rather than be left undefined. Doing so improves the portability of models between different simulation and analysis systems, and helps make it easier to detect potential errors in models.\n",
      " The <species> with the id '__s24' does not have an 'initialConcentration' or 'initialAmount' attribute, nor is its initial value set by an <initialAssignment> or <assignmentRule>.\n",
      "\n",
      "libSBML Warning (Modeling practice): As a principle of best modeling practice, the <species> should set an initial value (amount or concentration) rather than be left undefined. Doing so improves the portability of models between different simulation and analysis systems, and helps make it easier to detect potential errors in models.\n",
      " The <species> with the id '__s25' does not have an 'initialConcentration' or 'initialAmount' attribute, nor is its initial value set by an <initialAssignment> or <assignmentRule>.\n",
      "\n"
     ]
    },
    {
     "name": "stderr",
     "output_type": "stream",
     "text": [
      "libSBML Warning (Modeling practice): As a principle of best modeling practice, the <species> should set an initial value (amount or concentration) rather than be left undefined. Doing so improves the portability of models between different simulation and analysis systems, and helps make it easier to detect potential errors in models.\n",
      " The <species> with the id '__s26' does not have an 'initialConcentration' or 'initialAmount' attribute, nor is its initial value set by an <initialAssignment> or <assignmentRule>.\n",
      "\n",
      "libSBML Warning (Modeling practice): As a principle of best modeling practice, the <species> should set an initial value (amount or concentration) rather than be left undefined. Doing so improves the portability of models between different simulation and analysis systems, and helps make it easier to detect potential errors in models.\n",
      " The <species> with the id '__s27' does not have an 'initialConcentration' or 'initialAmount' attribute, nor is its initial value set by an <initialAssignment> or <assignmentRule>.\n",
      "\n",
      "libSBML Warning (Modeling practice): As a principle of best modeling practice, the <species> should set an initial value (amount or concentration) rather than be left undefined. Doing so improves the portability of models between different simulation and analysis systems, and helps make it easier to detect potential errors in models.\n",
      " The <species> with the id '__s28' does not have an 'initialConcentration' or 'initialAmount' attribute, nor is its initial value set by an <initialAssignment> or <assignmentRule>.\n",
      "\n",
      "libSBML Warning (Modeling practice): As a principle of best modeling practice, the <species> should set an initial value (amount or concentration) rather than be left undefined. Doing so improves the portability of models between different simulation and analysis systems, and helps make it easier to detect potential errors in models.\n",
      " The <species> with the id '__s29' does not have an 'initialConcentration' or 'initialAmount' attribute, nor is its initial value set by an <initialAssignment> or <assignmentRule>.\n",
      "\n",
      "libSBML Warning (Modeling practice): As a principle of best modeling practice, the <species> should set an initial value (amount or concentration) rather than be left undefined. Doing so improves the portability of models between different simulation and analysis systems, and helps make it easier to detect potential errors in models.\n",
      " The <species> with the id '__s30' does not have an 'initialConcentration' or 'initialAmount' attribute, nor is its initial value set by an <initialAssignment> or <assignmentRule>.\n",
      "\n",
      "libSBML Warning (Modeling practice): As a principle of best modeling practice, the <species> should set an initial value (amount or concentration) rather than be left undefined. Doing so improves the portability of models between different simulation and analysis systems, and helps make it easier to detect potential errors in models.\n",
      " The <species> with the id '__s31' does not have an 'initialConcentration' or 'initialAmount' attribute, nor is its initial value set by an <initialAssignment> or <assignmentRule>.\n",
      "\n",
      "libSBML Warning (Modeling practice): As a principle of best modeling practice, the <species> should set an initial value (amount or concentration) rather than be left undefined. Doing so improves the portability of models between different simulation and analysis systems, and helps make it easier to detect potential errors in models.\n",
      " The <species> with the id '__s32' does not have an 'initialConcentration' or 'initialAmount' attribute, nor is its initial value set by an <initialAssignment> or <assignmentRule>.\n",
      "\n",
      "libSBML Warning (Modeling practice): As a principle of best modeling practice, the <species> should set an initial value (amount or concentration) rather than be left undefined. Doing so improves the portability of models between different simulation and analysis systems, and helps make it easier to detect potential errors in models.\n",
      " The <species> with the id '__s33' does not have an 'initialConcentration' or 'initialAmount' attribute, nor is its initial value set by an <initialAssignment> or <assignmentRule>.\n",
      "\n",
      "libSBML Warning (Modeling practice): As a principle of best modeling practice, the <species> should set an initial value (amount or concentration) rather than be left undefined. Doing so improves the portability of models between different simulation and analysis systems, and helps make it easier to detect potential errors in models.\n",
      " The <species> with the id '__s34' does not have an 'initialConcentration' or 'initialAmount' attribute, nor is its initial value set by an <initialAssignment> or <assignmentRule>.\n",
      "\n",
      "libSBML Warning (Modeling practice): As a principle of best modeling practice, the <species> should set an initial value (amount or concentration) rather than be left undefined. Doing so improves the portability of models between different simulation and analysis systems, and helps make it easier to detect potential errors in models.\n",
      " The <species> with the id '__s35' does not have an 'initialConcentration' or 'initialAmount' attribute, nor is its initial value set by an <initialAssignment> or <assignmentRule>.\n",
      "\n",
      "libSBML Warning (Modeling practice): As a principle of best modeling practice, the <species> should set an initial value (amount or concentration) rather than be left undefined. Doing so improves the portability of models between different simulation and analysis systems, and helps make it easier to detect potential errors in models.\n",
      " The <species> with the id '__s36' does not have an 'initialConcentration' or 'initialAmount' attribute, nor is its initial value set by an <initialAssignment> or <assignmentRule>.\n",
      "\n",
      "libSBML Warning (Modeling practice): As a principle of best modeling practice, the <species> should set an initial value (amount or concentration) rather than be left undefined. Doing so improves the portability of models between different simulation and analysis systems, and helps make it easier to detect potential errors in models.\n",
      " The <species> with the id '__s37' does not have an 'initialConcentration' or 'initialAmount' attribute, nor is its initial value set by an <initialAssignment> or <assignmentRule>.\n",
      "\n",
      "libSBML Warning (Modeling practice): As a principle of best modeling practice, the <species> should set an initial value (amount or concentration) rather than be left undefined. Doing so improves the portability of models between different simulation and analysis systems, and helps make it easier to detect potential errors in models.\n",
      " The <species> with the id '__s38' does not have an 'initialConcentration' or 'initialAmount' attribute, nor is its initial value set by an <initialAssignment> or <assignmentRule>.\n",
      "\n",
      "libSBML Warning (Modeling practice): As a principle of best modeling practice, the <species> should set an initial value (amount or concentration) rather than be left undefined. Doing so improves the portability of models between different simulation and analysis systems, and helps make it easier to detect potential errors in models.\n",
      " The <species> with the id '__s39' does not have an 'initialConcentration' or 'initialAmount' attribute, nor is its initial value set by an <initialAssignment> or <assignmentRule>.\n",
      "\n",
      "libSBML Warning (Modeling practice): As a principle of best modeling practice, the <species> should set an initial value (amount or concentration) rather than be left undefined. Doing so improves the portability of models between different simulation and analysis systems, and helps make it easier to detect potential errors in models.\n",
      " The <species> with the id '__s40' does not have an 'initialConcentration' or 'initialAmount' attribute, nor is its initial value set by an <initialAssignment> or <assignmentRule>.\n",
      "\n",
      "libSBML Warning (Modeling practice): As a principle of best modeling practice, the <species> should set an initial value (amount or concentration) rather than be left undefined. Doing so improves the portability of models between different simulation and analysis systems, and helps make it easier to detect potential errors in models.\n",
      " The <species> with the id '__s41' does not have an 'initialConcentration' or 'initialAmount' attribute, nor is its initial value set by an <initialAssignment> or <assignmentRule>.\n",
      "\n"
     ]
    },
    {
     "name": "stderr",
     "output_type": "stream",
     "text": [
      "libSBML Warning (Modeling practice): As a principle of best modeling practice, the <species> should set an initial value (amount or concentration) rather than be left undefined. Doing so improves the portability of models between different simulation and analysis systems, and helps make it easier to detect potential errors in models.\n",
      " The <species> with the id '__s42' does not have an 'initialConcentration' or 'initialAmount' attribute, nor is its initial value set by an <initialAssignment> or <assignmentRule>.\n",
      "\n",
      "libSBML Warning (Modeling practice): As a principle of best modeling practice, the <species> should set an initial value (amount or concentration) rather than be left undefined. Doing so improves the portability of models between different simulation and analysis systems, and helps make it easier to detect potential errors in models.\n",
      " The <species> with the id '__s43' does not have an 'initialConcentration' or 'initialAmount' attribute, nor is its initial value set by an <initialAssignment> or <assignmentRule>.\n",
      "\n",
      "libSBML Warning (Modeling practice): As a principle of best modeling practice, the <species> should set an initial value (amount or concentration) rather than be left undefined. Doing so improves the portability of models between different simulation and analysis systems, and helps make it easier to detect potential errors in models.\n",
      " The <species> with the id '__s44' does not have an 'initialConcentration' or 'initialAmount' attribute, nor is its initial value set by an <initialAssignment> or <assignmentRule>.\n",
      "\n",
      "libSBML Warning (Modeling practice): As a principle of best modeling practice, the <species> should set an initial value (amount or concentration) rather than be left undefined. Doing so improves the portability of models between different simulation and analysis systems, and helps make it easier to detect potential errors in models.\n",
      " The <species> with the id '__s45' does not have an 'initialConcentration' or 'initialAmount' attribute, nor is its initial value set by an <initialAssignment> or <assignmentRule>.\n",
      "\n",
      "libSBML Warning (Modeling practice): As a principle of best modeling practice, the <species> should set an initial value (amount or concentration) rather than be left undefined. Doing so improves the portability of models between different simulation and analysis systems, and helps make it easier to detect potential errors in models.\n",
      " The <species> with the id '__s46' does not have an 'initialConcentration' or 'initialAmount' attribute, nor is its initial value set by an <initialAssignment> or <assignmentRule>.\n",
      "\n",
      "libSBML Warning (Modeling practice): As a principle of best modeling practice, the <species> should set an initial value (amount or concentration) rather than be left undefined. Doing so improves the portability of models between different simulation and analysis systems, and helps make it easier to detect potential errors in models.\n",
      " The <species> with the id '__s47' does not have an 'initialConcentration' or 'initialAmount' attribute, nor is its initial value set by an <initialAssignment> or <assignmentRule>.\n",
      "\n",
      "libSBML Warning (Modeling practice): As a principle of best modeling practice, the <species> should set an initial value (amount or concentration) rather than be left undefined. Doing so improves the portability of models between different simulation and analysis systems, and helps make it easier to detect potential errors in models.\n",
      " The <species> with the id '__s48' does not have an 'initialConcentration' or 'initialAmount' attribute, nor is its initial value set by an <initialAssignment> or <assignmentRule>.\n",
      "\n",
      "libSBML Warning (Modeling practice): As a principle of best modeling practice, the <species> should set an initial value (amount or concentration) rather than be left undefined. Doing so improves the portability of models between different simulation and analysis systems, and helps make it easier to detect potential errors in models.\n",
      " The <species> with the id '__s49' does not have an 'initialConcentration' or 'initialAmount' attribute, nor is its initial value set by an <initialAssignment> or <assignmentRule>.\n",
      "\n",
      "libSBML Warning (Modeling practice): As a principle of best modeling practice, the <species> should set an initial value (amount or concentration) rather than be left undefined. Doing so improves the portability of models between different simulation and analysis systems, and helps make it easier to detect potential errors in models.\n",
      " The <species> with the id '__s50' does not have an 'initialConcentration' or 'initialAmount' attribute, nor is its initial value set by an <initialAssignment> or <assignmentRule>.\n",
      "\n",
      "libSBML Warning (Modeling practice): As a principle of best modeling practice, the <species> should set an initial value (amount or concentration) rather than be left undefined. Doing so improves the portability of models between different simulation and analysis systems, and helps make it easier to detect potential errors in models.\n",
      " The <species> with the id '__s51' does not have an 'initialConcentration' or 'initialAmount' attribute, nor is its initial value set by an <initialAssignment> or <assignmentRule>.\n",
      "\n",
      "libSBML Warning (Modeling practice): As a principle of best modeling practice, the <species> should set an initial value (amount or concentration) rather than be left undefined. Doing so improves the portability of models between different simulation and analysis systems, and helps make it easier to detect potential errors in models.\n",
      " The <species> with the id '__s52' does not have an 'initialConcentration' or 'initialAmount' attribute, nor is its initial value set by an <initialAssignment> or <assignmentRule>.\n",
      "\n",
      "libSBML Warning (Modeling practice): As a principle of best modeling practice, the <species> should set an initial value (amount or concentration) rather than be left undefined. Doing so improves the portability of models between different simulation and analysis systems, and helps make it easier to detect potential errors in models.\n",
      " The <species> with the id '__s53' does not have an 'initialConcentration' or 'initialAmount' attribute, nor is its initial value set by an <initialAssignment> or <assignmentRule>.\n",
      "\n",
      "libSBML Warning (Modeling practice): As a principle of best modeling practice, the <species> should set an initial value (amount or concentration) rather than be left undefined. Doing so improves the portability of models between different simulation and analysis systems, and helps make it easier to detect potential errors in models.\n",
      " The <species> with the id '__s54' does not have an 'initialConcentration' or 'initialAmount' attribute, nor is its initial value set by an <initialAssignment> or <assignmentRule>.\n",
      "\n",
      "libSBML Warning (Modeling practice): As a principle of best modeling practice, the <species> should set an initial value (amount or concentration) rather than be left undefined. Doing so improves the portability of models between different simulation and analysis systems, and helps make it easier to detect potential errors in models.\n",
      " The <species> with the id '__s55' does not have an 'initialConcentration' or 'initialAmount' attribute, nor is its initial value set by an <initialAssignment> or <assignmentRule>.\n",
      "\n",
      "libSBML Warning (Modeling practice): As a principle of best modeling practice, the <species> should set an initial value (amount or concentration) rather than be left undefined. Doing so improves the portability of models between different simulation and analysis systems, and helps make it easier to detect potential errors in models.\n",
      " The <species> with the id '__s56' does not have an 'initialConcentration' or 'initialAmount' attribute, nor is its initial value set by an <initialAssignment> or <assignmentRule>.\n",
      "\n",
      "libSBML Warning (Modeling practice): As a principle of best modeling practice, the <species> should set an initial value (amount or concentration) rather than be left undefined. Doing so improves the portability of models between different simulation and analysis systems, and helps make it easier to detect potential errors in models.\n",
      " The <species> with the id '__s57' does not have an 'initialConcentration' or 'initialAmount' attribute, nor is its initial value set by an <initialAssignment> or <assignmentRule>.\n",
      "\n"
     ]
    },
    {
     "name": "stderr",
     "output_type": "stream",
     "text": [
      "libSBML Warning (Modeling practice): As a principle of best modeling practice, the <species> should set an initial value (amount or concentration) rather than be left undefined. Doing so improves the portability of models between different simulation and analysis systems, and helps make it easier to detect potential errors in models.\n",
      " The <species> with the id '__s58' does not have an 'initialConcentration' or 'initialAmount' attribute, nor is its initial value set by an <initialAssignment> or <assignmentRule>.\n",
      "\n",
      "libSBML Warning (Modeling practice): As a principle of best modeling practice, the <species> should set an initial value (amount or concentration) rather than be left undefined. Doing so improves the portability of models between different simulation and analysis systems, and helps make it easier to detect potential errors in models.\n",
      " The <species> with the id '__s59' does not have an 'initialConcentration' or 'initialAmount' attribute, nor is its initial value set by an <initialAssignment> or <assignmentRule>.\n",
      "\n",
      "libSBML Warning (Modeling practice): As a principle of best modeling practice, the <species> should set an initial value (amount or concentration) rather than be left undefined. Doing so improves the portability of models between different simulation and analysis systems, and helps make it easier to detect potential errors in models.\n",
      " The <species> with the id '__s60' does not have an 'initialConcentration' or 'initialAmount' attribute, nor is its initial value set by an <initialAssignment> or <assignmentRule>.\n",
      "\n",
      "libSBML Warning (Modeling practice): As a principle of best modeling practice, the <species> should set an initial value (amount or concentration) rather than be left undefined. Doing so improves the portability of models between different simulation and analysis systems, and helps make it easier to detect potential errors in models.\n",
      " The <species> with the id '__s61' does not have an 'initialConcentration' or 'initialAmount' attribute, nor is its initial value set by an <initialAssignment> or <assignmentRule>.\n",
      "\n",
      "libSBML Warning (Modeling practice): As a principle of best modeling practice, the <species> should set an initial value (amount or concentration) rather than be left undefined. Doing so improves the portability of models between different simulation and analysis systems, and helps make it easier to detect potential errors in models.\n",
      " The <species> with the id '__s62' does not have an 'initialConcentration' or 'initialAmount' attribute, nor is its initial value set by an <initialAssignment> or <assignmentRule>.\n",
      "\n",
      "libSBML Warning (Modeling practice): As a principle of best modeling practice, the <species> should set an initial value (amount or concentration) rather than be left undefined. Doing so improves the portability of models between different simulation and analysis systems, and helps make it easier to detect potential errors in models.\n",
      " The <species> with the id '__s63' does not have an 'initialConcentration' or 'initialAmount' attribute, nor is its initial value set by an <initialAssignment> or <assignmentRule>.\n",
      "\n",
      "libSBML Warning (Modeling practice): As a principle of best modeling practice, the <species> should set an initial value (amount or concentration) rather than be left undefined. Doing so improves the portability of models between different simulation and analysis systems, and helps make it easier to detect potential errors in models.\n",
      " The <species> with the id '__s64' does not have an 'initialConcentration' or 'initialAmount' attribute, nor is its initial value set by an <initialAssignment> or <assignmentRule>.\n",
      "\n",
      "libSBML Warning (Modeling practice): As a principle of best modeling practice, the <species> should set an initial value (amount or concentration) rather than be left undefined. Doing so improves the portability of models between different simulation and analysis systems, and helps make it easier to detect potential errors in models.\n",
      " The <species> with the id '__s65' does not have an 'initialConcentration' or 'initialAmount' attribute, nor is its initial value set by an <initialAssignment> or <assignmentRule>.\n",
      "\n",
      "libSBML Warning (Modeling practice): As a principle of best modeling practice, the <species> should set an initial value (amount or concentration) rather than be left undefined. Doing so improves the portability of models between different simulation and analysis systems, and helps make it easier to detect potential errors in models.\n",
      " The <species> with the id '__s66' does not have an 'initialConcentration' or 'initialAmount' attribute, nor is its initial value set by an <initialAssignment> or <assignmentRule>.\n",
      "\n",
      "libSBML Warning (Modeling practice): As a principle of best modeling practice, the <species> should set an initial value (amount or concentration) rather than be left undefined. Doing so improves the portability of models between different simulation and analysis systems, and helps make it easier to detect potential errors in models.\n",
      " The <species> with the id '__s67' does not have an 'initialConcentration' or 'initialAmount' attribute, nor is its initial value set by an <initialAssignment> or <assignmentRule>.\n",
      "\n",
      "libSBML Warning (Modeling practice): As a principle of best modeling practice, the <species> should set an initial value (amount or concentration) rather than be left undefined. Doing so improves the portability of models between different simulation and analysis systems, and helps make it easier to detect potential errors in models.\n",
      " The <species> with the id '__s68' does not have an 'initialConcentration' or 'initialAmount' attribute, nor is its initial value set by an <initialAssignment> or <assignmentRule>.\n",
      "\n",
      "libSBML Warning (Modeling practice): As a principle of best modeling practice, the <species> should set an initial value (amount or concentration) rather than be left undefined. Doing so improves the portability of models between different simulation and analysis systems, and helps make it easier to detect potential errors in models.\n",
      " The <species> with the id '__s69' does not have an 'initialConcentration' or 'initialAmount' attribute, nor is its initial value set by an <initialAssignment> or <assignmentRule>.\n",
      "\n",
      "libSBML Warning (Modeling practice): As a principle of best modeling practice, the <species> should set an initial value (amount or concentration) rather than be left undefined. Doing so improves the portability of models between different simulation and analysis systems, and helps make it easier to detect potential errors in models.\n",
      " The <species> with the id '__s70' does not have an 'initialConcentration' or 'initialAmount' attribute, nor is its initial value set by an <initialAssignment> or <assignmentRule>.\n",
      "\n",
      "libSBML Warning (Modeling practice): As a principle of best modeling practice, the <species> should set an initial value (amount or concentration) rather than be left undefined. Doing so improves the portability of models between different simulation and analysis systems, and helps make it easier to detect potential errors in models.\n",
      " The <species> with the id '__s71' does not have an 'initialConcentration' or 'initialAmount' attribute, nor is its initial value set by an <initialAssignment> or <assignmentRule>.\n",
      "\n",
      "libSBML Warning (Modeling practice): As a principle of best modeling practice, the <species> should set an initial value (amount or concentration) rather than be left undefined. Doing so improves the portability of models between different simulation and analysis systems, and helps make it easier to detect potential errors in models.\n",
      " The <species> with the id '__s72' does not have an 'initialConcentration' or 'initialAmount' attribute, nor is its initial value set by an <initialAssignment> or <assignmentRule>.\n",
      "\n",
      "libSBML Warning (Modeling practice): As a principle of best modeling practice, the <species> should set an initial value (amount or concentration) rather than be left undefined. Doing so improves the portability of models between different simulation and analysis systems, and helps make it easier to detect potential errors in models.\n",
      " The <species> with the id '__s73' does not have an 'initialConcentration' or 'initialAmount' attribute, nor is its initial value set by an <initialAssignment> or <assignmentRule>.\n",
      "\n"
     ]
    },
    {
     "name": "stderr",
     "output_type": "stream",
     "text": [
      "libSBML Warning (Modeling practice): As a principle of best modeling practice, the <species> should set an initial value (amount or concentration) rather than be left undefined. Doing so improves the portability of models between different simulation and analysis systems, and helps make it easier to detect potential errors in models.\n",
      " The <species> with the id '__s74' does not have an 'initialConcentration' or 'initialAmount' attribute, nor is its initial value set by an <initialAssignment> or <assignmentRule>.\n",
      "\n",
      "libSBML Warning (Modeling practice): As a principle of best modeling practice, the <species> should set an initial value (amount or concentration) rather than be left undefined. Doing so improves the portability of models between different simulation and analysis systems, and helps make it easier to detect potential errors in models.\n",
      " The <species> with the id '__s75' does not have an 'initialConcentration' or 'initialAmount' attribute, nor is its initial value set by an <initialAssignment> or <assignmentRule>.\n",
      "\n",
      "libSBML Warning (Modeling practice): As a principle of best modeling practice, the <species> should set an initial value (amount or concentration) rather than be left undefined. Doing so improves the portability of models between different simulation and analysis systems, and helps make it easier to detect potential errors in models.\n",
      " The <species> with the id '__s76' does not have an 'initialConcentration' or 'initialAmount' attribute, nor is its initial value set by an <initialAssignment> or <assignmentRule>.\n",
      "\n",
      "libSBML Warning (Modeling practice): As a principle of best modeling practice, the <species> should set an initial value (amount or concentration) rather than be left undefined. Doing so improves the portability of models between different simulation and analysis systems, and helps make it easier to detect potential errors in models.\n",
      " The <species> with the id '__s77' does not have an 'initialConcentration' or 'initialAmount' attribute, nor is its initial value set by an <initialAssignment> or <assignmentRule>.\n",
      "\n",
      "libSBML Warning (Modeling practice): As a principle of best modeling practice, the <species> should set an initial value (amount or concentration) rather than be left undefined. Doing so improves the portability of models between different simulation and analysis systems, and helps make it easier to detect potential errors in models.\n",
      " The <species> with the id '__s78' does not have an 'initialConcentration' or 'initialAmount' attribute, nor is its initial value set by an <initialAssignment> or <assignmentRule>.\n",
      "\n",
      "libSBML Warning (Modeling practice): As a principle of best modeling practice, the <species> should set an initial value (amount or concentration) rather than be left undefined. Doing so improves the portability of models between different simulation and analysis systems, and helps make it easier to detect potential errors in models.\n",
      " The <species> with the id '__s79' does not have an 'initialConcentration' or 'initialAmount' attribute, nor is its initial value set by an <initialAssignment> or <assignmentRule>.\n",
      "\n",
      "libSBML Warning (Modeling practice): As a principle of best modeling practice, the <species> should set an initial value (amount or concentration) rather than be left undefined. Doing so improves the portability of models between different simulation and analysis systems, and helps make it easier to detect potential errors in models.\n",
      " The <species> with the id '__s80' does not have an 'initialConcentration' or 'initialAmount' attribute, nor is its initial value set by an <initialAssignment> or <assignmentRule>.\n",
      "\n",
      "libSBML Warning (Modeling practice): As a principle of best modeling practice, the <species> should set an initial value (amount or concentration) rather than be left undefined. Doing so improves the portability of models between different simulation and analysis systems, and helps make it easier to detect potential errors in models.\n",
      " The <species> with the id '__s81' does not have an 'initialConcentration' or 'initialAmount' attribute, nor is its initial value set by an <initialAssignment> or <assignmentRule>.\n",
      "\n",
      "libSBML Warning (Modeling practice): As a principle of best modeling practice, the <species> should set an initial value (amount or concentration) rather than be left undefined. Doing so improves the portability of models between different simulation and analysis systems, and helps make it easier to detect potential errors in models.\n",
      " The <species> with the id '__s82' does not have an 'initialConcentration' or 'initialAmount' attribute, nor is its initial value set by an <initialAssignment> or <assignmentRule>.\n",
      "\n",
      "libSBML Warning (Modeling practice): As a principle of best modeling practice, the <species> should set an initial value (amount or concentration) rather than be left undefined. Doing so improves the portability of models between different simulation and analysis systems, and helps make it easier to detect potential errors in models.\n",
      " The <species> with the id '__s83' does not have an 'initialConcentration' or 'initialAmount' attribute, nor is its initial value set by an <initialAssignment> or <assignmentRule>.\n",
      "\n",
      "libSBML Warning (Modeling practice): As a principle of best modeling practice, the <species> should set an initial value (amount or concentration) rather than be left undefined. Doing so improves the portability of models between different simulation and analysis systems, and helps make it easier to detect potential errors in models.\n",
      " The <species> with the id '__s84' does not have an 'initialConcentration' or 'initialAmount' attribute, nor is its initial value set by an <initialAssignment> or <assignmentRule>.\n",
      "\n",
      "libSBML Warning (Modeling practice): As a principle of best modeling practice, the <species> should set an initial value (amount or concentration) rather than be left undefined. Doing so improves the portability of models between different simulation and analysis systems, and helps make it easier to detect potential errors in models.\n",
      " The <species> with the id '__s85' does not have an 'initialConcentration' or 'initialAmount' attribute, nor is its initial value set by an <initialAssignment> or <assignmentRule>.\n",
      "\n",
      "libSBML Warning (Modeling practice): As a principle of best modeling practice, the <species> should set an initial value (amount or concentration) rather than be left undefined. Doing so improves the portability of models between different simulation and analysis systems, and helps make it easier to detect potential errors in models.\n",
      " The <species> with the id '__s86' does not have an 'initialConcentration' or 'initialAmount' attribute, nor is its initial value set by an <initialAssignment> or <assignmentRule>.\n",
      "\n",
      "libSBML Warning (Modeling practice): As a principle of best modeling practice, the <species> should set an initial value (amount or concentration) rather than be left undefined. Doing so improves the portability of models between different simulation and analysis systems, and helps make it easier to detect potential errors in models.\n",
      " The <species> with the id '__s87' does not have an 'initialConcentration' or 'initialAmount' attribute, nor is its initial value set by an <initialAssignment> or <assignmentRule>.\n",
      "\n",
      "libSBML Warning (Modeling practice): As a principle of best modeling practice, the <species> should set an initial value (amount or concentration) rather than be left undefined. Doing so improves the portability of models between different simulation and analysis systems, and helps make it easier to detect potential errors in models.\n",
      " The <species> with the id '__s88' does not have an 'initialConcentration' or 'initialAmount' attribute, nor is its initial value set by an <initialAssignment> or <assignmentRule>.\n",
      "\n",
      "libSBML Warning (Modeling practice): As a principle of best modeling practice, the <species> should set an initial value (amount or concentration) rather than be left undefined. Doing so improves the portability of models between different simulation and analysis systems, and helps make it easier to detect potential errors in models.\n",
      " The <species> with the id '__s89' does not have an 'initialConcentration' or 'initialAmount' attribute, nor is its initial value set by an <initialAssignment> or <assignmentRule>.\n",
      "\n"
     ]
    },
    {
     "name": "stderr",
     "output_type": "stream",
     "text": [
      "libSBML Warning (Modeling practice): As a principle of best modeling practice, the <species> should set an initial value (amount or concentration) rather than be left undefined. Doing so improves the portability of models between different simulation and analysis systems, and helps make it easier to detect potential errors in models.\n",
      " The <species> with the id '__s90' does not have an 'initialConcentration' or 'initialAmount' attribute, nor is its initial value set by an <initialAssignment> or <assignmentRule>.\n",
      "\n",
      "libSBML Warning (Modeling practice): As a principle of best modeling practice, the <species> should set an initial value (amount or concentration) rather than be left undefined. Doing so improves the portability of models between different simulation and analysis systems, and helps make it easier to detect potential errors in models.\n",
      " The <species> with the id '__s91' does not have an 'initialConcentration' or 'initialAmount' attribute, nor is its initial value set by an <initialAssignment> or <assignmentRule>.\n",
      "\n",
      "libSBML Warning (Modeling practice): As a principle of best modeling practice, the <species> should set an initial value (amount or concentration) rather than be left undefined. Doing so improves the portability of models between different simulation and analysis systems, and helps make it easier to detect potential errors in models.\n",
      " The <species> with the id '__s92' does not have an 'initialConcentration' or 'initialAmount' attribute, nor is its initial value set by an <initialAssignment> or <assignmentRule>.\n",
      "\n",
      "libSBML Warning (Modeling practice): As a principle of best modeling practice, the <species> should set an initial value (amount or concentration) rather than be left undefined. Doing so improves the portability of models between different simulation and analysis systems, and helps make it easier to detect potential errors in models.\n",
      " The <species> with the id '__s93' does not have an 'initialConcentration' or 'initialAmount' attribute, nor is its initial value set by an <initialAssignment> or <assignmentRule>.\n",
      "\n",
      "libSBML Warning (Modeling practice): As a principle of best modeling practice, the <species> should set an initial value (amount or concentration) rather than be left undefined. Doing so improves the portability of models between different simulation and analysis systems, and helps make it easier to detect potential errors in models.\n",
      " The <species> with the id '__s94' does not have an 'initialConcentration' or 'initialAmount' attribute, nor is its initial value set by an <initialAssignment> or <assignmentRule>.\n",
      "\n",
      "libSBML Warning (Modeling practice): As a principle of best modeling practice, the <species> should set an initial value (amount or concentration) rather than be left undefined. Doing so improves the portability of models between different simulation and analysis systems, and helps make it easier to detect potential errors in models.\n",
      " The <species> with the id '__s95' does not have an 'initialConcentration' or 'initialAmount' attribute, nor is its initial value set by an <initialAssignment> or <assignmentRule>.\n",
      "\n",
      "libSBML Warning (Modeling practice): As a principle of best modeling practice, the <species> should set an initial value (amount or concentration) rather than be left undefined. Doing so improves the portability of models between different simulation and analysis systems, and helps make it easier to detect potential errors in models.\n",
      " The <species> with the id '__s96' does not have an 'initialConcentration' or 'initialAmount' attribute, nor is its initial value set by an <initialAssignment> or <assignmentRule>.\n",
      "\n",
      "libSBML Warning (Modeling practice): As a principle of best modeling practice, the <species> should set an initial value (amount or concentration) rather than be left undefined. Doing so improves the portability of models between different simulation and analysis systems, and helps make it easier to detect potential errors in models.\n",
      " The <species> with the id '__s97' does not have an 'initialConcentration' or 'initialAmount' attribute, nor is its initial value set by an <initialAssignment> or <assignmentRule>.\n",
      "\n",
      "Not OK\n"
     ]
    },
    {
     "data": {
      "text/plain": [
       "True"
      ]
     },
     "execution_count": 21,
     "metadata": {},
     "output_type": "execute_result"
    }
   ],
   "source": [
    "import petab\n",
    "petab_problem = petab.Problem(\n",
    "    sbml_model=sbml_model, sbml_reader=sbml_reader, sbml_document=sbml_doc,\n",
    "    measurement_df=measurement_table, condition_df=condition_table,\n",
    "    observable_df=observables_table, parameter_df=parameter_table\n",
    ")\n",
    "petab.lint.lint_problem(petab_problem)"
   ]
  },
  {
   "cell_type": "markdown",
   "metadata": {},
   "source": [
    "## Calibrating the model in pyPESTO\n",
    "Model calibration based on PEtab <cite data-cite=\"2754712/86CV69R2\"></cite> format is supported by a growing number of tools including COPASI <cite data-cite=\"2754712/I9T5NNAF\"></cite> and data2dynamics <cite data-cite=\"2754712/RYRYBYZA\"></cite>. Here we used the python based calibration tool pyPESTO for calibration. pyPESTO uses AMICI <cite data-cite=\"2754712/HBAI2XHJ\"></cite> for model import and simulation, constructs an objective function $J(\\boldsymbol{\\theta})$ and provides an interface to various different optimizers. "
   ]
  },
  {
   "cell_type": "code",
   "execution_count": 22,
   "metadata": {
    "scrolled": true
   },
   "outputs": [
    {
     "name": "stderr",
     "output_type": "stream",
     "text": [
      "Compiling amici model to folder /Users/ffroehlich/Documents/HMS/energy_modeling_chapter/amici_models/thermo_raf.\n",
      "2021-08-24 16:27:52.580 - amici.petab_import - INFO - Importing model ...\n",
      "2021-08-24 16:27:52.585 - amici.petab_import - INFO - Model name is 'thermo_raf'.\n",
      "Writing model code to '/Users/ffroehlich/Documents/HMS/energy_modeling_chapter/amici_models/thermo_raf'.\n",
      "2021-08-24 16:27:52.623 - amici.petab_import - INFO - Species: 98\n",
      "2021-08-24 16:27:52.625 - amici.petab_import - INFO - Global parameters: 117\n",
      "2021-08-24 16:27:52.627 - amici.petab_import - INFO - Reactions: 360\n",
      "2021-08-24 16:27:52.772 - amici.petab_import - INFO - Observables: 2\n",
      "2021-08-24 16:27:52.773 - amici.petab_import - INFO - Sigmas: 2\n",
      "2021-08-24 16:27:52.784 - amici.petab_import - DEBUG - Adding output parameters to model: OrderedDict([('pMEK_offset', None), ('pMEK_scale', None), ('pERK_offset', None), ('pERK_scale', None), ('noiseParameter1_pMEK', None), ('noiseParameter1_pERK', None)])\n",
      "2021-08-24 16:27:52.786 - amici.petab_import - DEBUG - Adding initial assignments for []\n",
      "2021-08-24 16:27:52.788 - amici.petab_import - DEBUG - Condition table: (40, 6)\n",
      "2021-08-24 16:27:52.790 - amici.petab_import - DEBUG - Fixed parameters are ['RAFi_0', 'EGF_0']\n",
      "2021-08-24 16:27:52.792 - amici.petab_import - INFO - Overall fixed parameters: 2\n",
      "2021-08-24 16:27:52.793 - amici.petab_import - INFO - Variable parameters: 121\n",
      "2021-08-24 16:27:53.712 - amici.sbml_import - INFO - Finished gathering local SBML symbols       ++ (8.89E-01s)\n",
      "2021-08-24 16:27:53.937 - amici.sbml_import - INFO - Finished processing SBML parameters         ++ (2.15E-01s)\n",
      "2021-08-24 16:27:53.946 - amici.sbml_import - INFO - Finished processing SBML compartments       ++ (2.78E-04s)\n",
      "2021-08-24 16:27:54.001 - amici.sbml_import - INFO - Finished processing SBML species initials  +++ (3.69E-02s)\n",
      "2021-08-24 16:27:54.013 - amici.sbml_import - INFO - Finished processing SBML rate rules        +++ (3.96E-04s)\n",
      "2021-08-24 16:27:54.014 - amici.sbml_import - INFO - Finished processing SBML species            ++ (5.84E-02s)\n",
      "2021-08-24 16:27:54.580 - amici.sbml_import - INFO - Finished processing SBML reactions          ++ (5.55E-01s)\n",
      "2021-08-24 16:27:54.763 - amici.sbml_import - INFO - Finished processing SBML rules              ++ (1.75E-01s)\n",
      "2021-08-24 16:27:54.770 - amici.sbml_import - INFO - Finished processing SBML initial assignments++ (3.34E-04s)\n",
      "2021-08-24 16:27:54.812 - amici.sbml_import - INFO - Finished processing SBML species references ++ (3.43E-02s)\n",
      "2021-08-24 16:27:54.821 - amici.sbml_import - INFO - Finished processing SBML events             ++ (1.18E-04s)\n",
      "2021-08-24 16:27:54.822 - amici.sbml_import - INFO - Finished importing SBML                      + (2.01E+00s)\n",
      "2021-08-24 16:27:54.871 - amici.sbml_import - INFO - Finished processing SBML observables         + (4.07E-02s)\n",
      "2021-08-24 16:27:56.723 - amici.ode_export - INFO - Finished running smart_multiply              ++ (5.93E-01s)\n",
      "2021-08-24 16:28:04.042 - amici.ode_export - INFO - Finished importing SbmlImporter               + (7.95E+00s)\n",
      "2021-08-24 16:28:04.108 - amici.ode_export - INFO - Finished simplifying Jy                    ++++ (3.67E-02s)\n",
      "2021-08-24 16:28:04.109 - amici.ode_export - INFO - Finished computing Jy                       +++ (4.61E-02s)\n",
      "2021-08-24 16:28:04.129 - amici.ode_export - INFO - Finished simplifying y                     ++++ (2.38E-03s)\n",
      "2021-08-24 16:28:04.130 - amici.ode_export - INFO - Finished computing y                        +++ (9.11E-03s)\n",
      "2021-08-24 16:28:04.146 - amici.ode_export - INFO - Finished simplifying sigmay                ++++ (8.77E-05s)\n",
      "2021-08-24 16:28:04.147 - amici.ode_export - INFO - Finished computing sigmay                   +++ (6.50E-03s)\n",
      "2021-08-24 16:28:04.195 - amici.ode_export - INFO - Finished writing Jy.cpp                      ++ (1.37E-01s)\n",
      "2021-08-24 16:28:04.256 - amici.ode_export - INFO - Finished running smart_jacobian            ++++ (3.62E-02s)\n",
      "2021-08-24 16:28:04.280 - amici.ode_export - INFO - Finished simplifying dJydsigma             ++++ (1.54E-02s)\n",
      "2021-08-24 16:28:04.281 - amici.ode_export - INFO - Finished computing dJydsigma                +++ (6.78E-02s)\n",
      "2021-08-24 16:28:04.291 - amici.ode_export - INFO - Finished writing dJydsigma.cpp               ++ (8.40E-02s)\n",
      "2021-08-24 16:28:04.329 - amici.ode_export - INFO - Finished running smart_jacobian            ++++ (1.55E-02s)\n",
      "2021-08-24 16:28:04.365 - amici.ode_export - INFO - Finished simplifying dJydy                 ++++ (2.66E-02s)\n",
      "2021-08-24 16:28:04.368 - amici.ode_export - INFO - Finished computing dJydy                    +++ (6.02E-02s)\n",
      "2021-08-24 16:28:04.381 - amici.ode_export - INFO - Finished writing dJydy.cpp                   ++ (8.13E-02s)\n",
      "2021-08-24 16:28:04.407 - amici.ode_export - INFO - Finished simplifying root                  ++++ (7.86E-05s)\n",
      "2021-08-24 16:28:04.408 - amici.ode_export - INFO - Finished computing root                     +++ (9.63E-03s)\n",
      "2021-08-24 16:28:04.410 - amici.ode_export - INFO - Finished writing root.cpp                    ++ (1.80E-02s)\n",
      "2021-08-24 16:28:05.406 - amici.ode_export - INFO - Finished simplifying w                   ++++++ (9.57E-01s)\n",
      "2021-08-24 16:28:05.407 - amici.ode_export - INFO - Finished computing w                      +++++ (9.67E-01s)\n",
      "2021-08-24 16:28:07.030 - amici.ode_export - INFO - Finished running smart_jacobian           +++++ (1.62E+00s)\n",
      "2021-08-24 16:28:08.299 - amici.ode_export - INFO - Finished simplifying dwdp                 +++++ (1.26E+00s)\n",
      "2021-08-24 16:28:08.303 - amici.ode_export - INFO - Finished computing dwdp                    ++++ (3.87E+00s)\n",
      "2021-08-24 16:28:08.367 - amici.ode_export - INFO - Finished running smart_jacobian           +++++ (3.90E-02s)\n",
      "2021-08-24 16:28:08.377 - amici.ode_export - INFO - Finished simplifying dwdtcl               +++++ (2.17E-03s)\n",
      "2021-08-24 16:28:08.378 - amici.ode_export - INFO - Finished computing dwdtcl                  ++++ (5.48E-02s)\n",
      "2021-08-24 16:28:09.571 - amici.ode_export - INFO - Finished simplifying dwdp                  ++++ (1.18E+00s)\n",
      "2021-08-24 16:28:09.573 - amici.ode_export - INFO - Finished computing dwdp                     +++ (5.15E+00s)\n",
      "2021-08-24 16:28:10.881 - amici.ode_export - INFO - Finished writing dwdp.cpp                    ++ (6.46E+00s)\n",
      "2021-08-24 16:28:18.681 - amici.ode_export - INFO - Finished running smart_jacobian            ++++ (7.77E+00s)\n",
      "2021-08-24 16:28:19.536 - amici.ode_export - INFO - Finished simplifying dwdx                  ++++ (8.46E-01s)\n",
      "2021-08-24 16:28:19.538 - amici.ode_export - INFO - Finished computing dwdx                     +++ (8.63E+00s)\n",
      "2021-08-24 16:28:21.913 - amici.ode_export - INFO - Finished writing dwdx.cpp                    ++ (1.10E+01s)\n",
      "2021-08-24 16:28:47.881 - amici.ode_export - INFO - Finished running smart_jacobian            ++++ (2.59E+01s)\n",
      "2021-08-24 16:28:54.278 - amici.ode_export - INFO - Finished simplifying dwdw                  ++++ (2.50E+00s)\n",
      "2021-08-24 16:28:54.281 - amici.ode_export - INFO - Finished computing dwdw                     +++ (3.23E+01s)\n",
      "2021-08-24 16:28:58.528 - amici.ode_export - INFO - Finished writing dwdw.cpp                    ++ (3.66E+01s)\n",
      "2021-08-24 16:29:00.180 - amici.ode_export - INFO - Finished simplifying xdot                  ++++ (1.63E+00s)\n",
      "2021-08-24 16:29:00.181 - amici.ode_export - INFO - Finished computing xdot                     +++ (1.64E+00s)\n",
      "2021-08-24 16:29:01.585 - amici.ode_export - INFO - Finished writing dxdotdw.cpp                 ++ (3.05E+00s)\n",
      "2021-08-24 16:29:01.679 - amici.ode_export - INFO - Finished running smart_jacobian            ++++ (4.29E-02s)\n",
      "2021-08-24 16:29:01.858 - amici.ode_export - INFO - Finished simplifying dxdotdx_explicit      ++++ (1.33E-01s)\n",
      "2021-08-24 16:29:01.861 - amici.ode_export - INFO - Finished computing dxdotdx_explicit         +++ (2.51E-01s)\n",
      "2021-08-24 16:29:02.017 - amici.ode_export - INFO - Finished writing dxdotdx_explicit.cpp        ++ (4.20E-01s)\n",
      "2021-08-24 16:29:02.068 - amici.ode_export - INFO - Finished running smart_jacobian            ++++ (7.28E-03s)\n",
      "2021-08-24 16:29:02.149 - amici.ode_export - INFO - Finished simplifying dxdotdp_explicit      ++++ (6.41E-02s)\n"
     ]
    },
    {
     "name": "stderr",
     "output_type": "stream",
     "text": [
      "2021-08-24 16:29:02.151 - amici.ode_export - INFO - Finished computing dxdotdp_explicit         +++ (1.09E-01s)\n",
      "2021-08-24 16:29:02.201 - amici.ode_export - INFO - Finished writing dxdotdp_explicit.cpp        ++ (1.69E-01s)\n",
      "2021-08-24 16:29:02.268 - amici.ode_export - INFO - Finished running smart_jacobian           +++++ (8.36E-04s)\n",
      "2021-08-24 16:29:02.285 - amici.ode_export - INFO - Finished simplifying dydx                 +++++ (2.66E-03s)\n",
      "2021-08-24 16:29:02.288 - amici.ode_export - INFO - Finished computing dydx                    ++++ (3.49E-02s)\n",
      "2021-08-24 16:29:02.471 - amici.ode_export - INFO - Finished running smart_jacobian           +++++ (1.34E-01s)\n",
      "2021-08-24 16:29:03.990 - amici.ode_export - INFO - Finished running smart_multiply           +++++ (1.51E+00s)\n",
      "2021-08-24 16:29:04.011 - amici.ode_export - INFO - Finished simplifying dydw                 +++++ (8.67E-03s)\n",
      "2021-08-24 16:29:04.013 - amici.ode_export - INFO - Finished computing dydw                    ++++ (1.69E+00s)\n",
      "2021-08-24 16:29:04.528 - amici.ode_export - INFO - Finished running smart_multiply            ++++ (5.03E-01s)\n",
      "2021-08-24 16:29:04.549 - amici.ode_export - INFO - Finished simplifying dydx                  ++++ (1.99E-03s)\n",
      "2021-08-24 16:29:04.551 - amici.ode_export - INFO - Finished computing dydx                     +++ (2.31E+00s)\n",
      "2021-08-24 16:29:04.558 - amici.ode_export - INFO - Finished writing dydx.cpp                    ++ (2.33E+00s)\n",
      "2021-08-24 16:29:04.622 - amici.ode_export - INFO - Finished running smart_jacobian           +++++ (1.87E-02s)\n",
      "2021-08-24 16:29:04.637 - amici.ode_export - INFO - Finished simplifying dydp                 +++++ (1.06E-03s)\n",
      "2021-08-24 16:29:04.639 - amici.ode_export - INFO - Finished computing dydp                    ++++ (4.57E-02s)\n",
      "2021-08-24 16:29:04.765 - amici.ode_export - INFO - Finished running smart_multiply            ++++ (1.05E-01s)\n",
      "2021-08-24 16:29:04.800 - amici.ode_export - INFO - Finished simplifying dydp                  ++++ (9.49E-04s)\n",
      "2021-08-24 16:29:04.905 - amici.ode_export - INFO - Finished computing dydp                     +++ (3.22E-01s)\n",
      "2021-08-24 16:29:04.928 - amici.ode_export - INFO - Finished writing dydp.cpp                    ++ (3.55E-01s)\n",
      "2021-08-24 16:29:04.981 - amici.ode_export - INFO - Finished running smart_jacobian            ++++ (1.63E-02s)\n",
      "2021-08-24 16:29:05.016 - amici.ode_export - INFO - Finished simplifying dsigmaydp             ++++ (1.03E-03s)\n",
      "2021-08-24 16:29:05.018 - amici.ode_export - INFO - Finished computing dsigmaydp                +++ (6.41E-02s)\n",
      "2021-08-24 16:29:05.029 - amici.ode_export - INFO - Finished writing dsigmaydp.cpp               ++ (8.57E-02s)\n",
      "2021-08-24 16:29:05.051 - amici.ode_export - INFO - Finished writing sigmay.cpp                  ++ (3.14E-03s)\n",
      "2021-08-24 16:29:05.077 - amici.ode_export - INFO - Finished computing stau                     +++ (1.70E-04s)\n",
      "2021-08-24 16:29:05.079 - amici.ode_export - INFO - Finished writing stau.cpp                    ++ (9.15E-03s)\n",
      "2021-08-24 16:29:05.109 - amici.ode_export - INFO - Finished computing deltax                   +++ (1.78E-04s)\n",
      "2021-08-24 16:29:05.112 - amici.ode_export - INFO - Finished writing deltax.cpp                  ++ (1.12E-02s)\n",
      "2021-08-24 16:29:05.133 - amici.ode_export - INFO - Finished computing deltasx                  +++ (1.67E-04s)\n",
      "2021-08-24 16:29:05.134 - amici.ode_export - INFO - Finished writing deltasx.cpp                 ++ (7.88E-03s)\n",
      "2021-08-24 16:29:06.239 - amici.ode_export - INFO - Finished writing w.cpp                       ++ (1.09E+00s)\n",
      "2021-08-24 16:29:06.335 - amici.ode_export - INFO - Finished simplifying x0                    ++++ (1.76E-02s)\n",
      "2021-08-24 16:29:06.339 - amici.ode_export - INFO - Finished computing x0                       +++ (3.26E-02s)\n",
      "2021-08-24 16:29:06.373 - amici.ode_export - INFO - Finished writing x0.cpp                      ++ (1.18E-01s)\n",
      "2021-08-24 16:29:06.436 - amici.ode_export - INFO - Finished simplifying x0_fixedParameters    ++++ (2.15E-03s)\n",
      "2021-08-24 16:29:06.439 - amici.ode_export - INFO - Finished computing x0_fixedParameters       +++ (3.65E-02s)\n",
      "2021-08-24 16:29:06.447 - amici.ode_export - INFO - Finished writing x0_fixedParameters.cpp      ++ (5.47E-02s)\n",
      "2021-08-24 16:29:06.828 - amici.ode_export - INFO - Finished running smart_jacobian            ++++ (3.42E-01s)\n",
      "2021-08-24 16:29:06.864 - amici.ode_export - INFO - Finished simplifying sx0                   ++++ (2.39E-02s)\n",
      "2021-08-24 16:29:06.866 - amici.ode_export - INFO - Finished computing sx0                      +++ (3.89E-01s)\n",
      "2021-08-24 16:29:06.892 - amici.ode_export - INFO - Finished writing sx0.cpp                     ++ (4.24E-01s)\n",
      "2021-08-24 16:29:06.938 - amici.ode_export - INFO - Finished running smart_jacobian            ++++ (1.10E-02s)\n",
      "2021-08-24 16:29:07.016 - amici.ode_export - INFO - Finished running smart_jacobian            ++++ (7.70E-04s)\n",
      "2021-08-24 16:29:07.032 - amici.ode_export - INFO - Finished simplifying sx0_fixedParameters   ++++ (4.80E-04s)\n",
      "2021-08-24 16:29:07.034 - amici.ode_export - INFO - Finished computing sx0_fixedParameters      +++ (1.16E-01s)\n",
      "2021-08-24 16:29:07.042 - amici.ode_export - INFO - Finished writing sx0_fixedParameters.cpp     ++ (1.32E-01s)\n",
      "2021-08-24 16:29:08.675 - amici.ode_export - INFO - Finished writing xdot.cpp                    ++ (1.62E+00s)\n",
      "2021-08-24 16:29:08.698 - amici.ode_export - INFO - Finished writing y.cpp                       ++ (5.54E-03s)\n",
      "2021-08-24 16:29:08.739 - amici.ode_export - INFO - Finished simplifying x_rdata               ++++ (1.47E-03s)\n",
      "2021-08-24 16:29:08.743 - amici.ode_export - INFO - Finished computing x_rdata                  +++ (1.53E-02s)\n",
      "2021-08-24 16:29:08.815 - amici.ode_export - INFO - Finished writing x_rdata.cpp                 ++ (1.02E-01s)\n",
      "2021-08-24 16:29:08.834 - amici.ode_export - INFO - Finished simplifying total_cl              ++++ (1.55E-04s)\n",
      "2021-08-24 16:29:08.836 - amici.ode_export - INFO - Finished computing total_cl                 +++ (7.78E-03s)\n",
      "2021-08-24 16:29:08.842 - amici.ode_export - INFO - Finished writing total_cl.cpp                ++ (1.95E-02s)\n",
      "2021-08-24 16:29:08.865 - amici.ode_export - INFO - Finished simplifying x_solver              ++++ (8.45E-04s)\n",
      "2021-08-24 16:29:08.867 - amici.ode_export - INFO - Finished computing x_solver                 +++ (9.39E-03s)\n",
      "2021-08-24 16:29:08.926 - amici.ode_export - INFO - Finished writing x_solver.cpp                ++ (7.42E-02s)\n",
      "2021-08-24 16:29:09.047 - amici.ode_export - INFO - Finished generating cpp code                  + (6.50E+01s)\n",
      "2021-08-24 16:31:12.855 - amici.ode_export - INFO - Finished compiling cpp code                   + (1.24E+02s)\n",
      "2021-08-24 16:31:12.895 - amici.petab_import - INFO - Finished Importing PEtab model                (2.00E+02s)\n"
     ]
    },
    {
     "name": "stdout",
     "output_type": "stream",
     "text": [
      "running build_ext\n",
      "Changed extra_compile_args for unix to ['-Xpreprocessor', '-fopenmp', '-std=c++14']\n",
      "building 'thermo_raf._thermo_raf' extension\n",
      "Testing SWIG executable swig4.0... FAILED.\n",
      "Testing SWIG executable swig3.0... FAILED.\n",
      "Testing SWIG executable swig... SUCCEEDED.\n",
      "swigging swig/thermo_raf.i to swig/thermo_raf_wrap.cpp\n",
      "swig -python -c++ -modern -outdir thermo_raf -I/Users/ffroehlich/Documents/HMS/energy_modeling_chapter/venv/lib/python3.9/site-packages/amici/swig -I/Users/ffroehlich/Documents/HMS/energy_modeling_chapter/venv/lib/python3.9/site-packages/amici/include -o swig/thermo_raf_wrap.cpp swig/thermo_raf.i\n",
      "Deprecated command line option: -modern. This option is now always on.\n",
      "creating build\n",
      "creating build/temp.macosx-10.14-x86_64-3.9\n",
      "creating build/temp.macosx-10.14-x86_64-3.9/swig\n",
      "clang -Wno-unused-result -Wsign-compare -Wunreachable-code -fno-common -dynamic -DNDEBUG -g -fwrapv -O3 -Wall -I/Users/ffroehlich/Documents/HMS/energy_modeling_chapter/amici_models/thermo_raf -I/Users/ffroehlich/Documents/HMS/energy_modeling_chapter/venv/lib/python3.9/site-packages/amici/include -I/Users/ffroehlich/Documents/HMS/energy_modeling_chapter/venv/lib/python3.9/site-packages/amici/ThirdParty/gsl -I/Users/ffroehlich/Documents/HMS/energy_modeling_chapter/venv/lib/python3.9/site-packages/amici/ThirdParty/sundials/include -I/Users/ffroehlich/Documents/HMS/energy_modeling_chapter/venv/lib/python3.9/site-packages/amici/ThirdParty/SuiteSparse/include -I/usr/local/include -I/usr/local/include -I/usr/local/opt/openssl@1.1/include -I/usr/local/opt/sqlite/include -I/usr/local/opt/tcl-tk/include -I/Users/ffroehlich/Documents/HMS/energy_modeling_chapter/venv/include -I/usr/local/Cellar/python@3.9/3.9.2_1/Frameworks/Python.framework/Versions/3.9/include/python3.9 -c swig/thermo_raf_wrap.cpp -o build/temp.macosx-10.14-x86_64-3.9/swig/thermo_raf_wrap.o -Xpreprocessor -fopenmp -std=c++14\n",
      "clang -Wno-unused-result -Wsign-compare -Wunreachable-code -fno-common -dynamic -DNDEBUG -g -fwrapv -O3 -Wall -I/Users/ffroehlich/Documents/HMS/energy_modeling_chapter/amici_models/thermo_raf -I/Users/ffroehlich/Documents/HMS/energy_modeling_chapter/venv/lib/python3.9/site-packages/amici/include -I/Users/ffroehlich/Documents/HMS/energy_modeling_chapter/venv/lib/python3.9/site-packages/amici/ThirdParty/gsl -I/Users/ffroehlich/Documents/HMS/energy_modeling_chapter/venv/lib/python3.9/site-packages/amici/ThirdParty/sundials/include -I/Users/ffroehlich/Documents/HMS/energy_modeling_chapter/venv/lib/python3.9/site-packages/amici/ThirdParty/SuiteSparse/include -I/usr/local/include -I/usr/local/include -I/usr/local/opt/openssl@1.1/include -I/usr/local/opt/sqlite/include -I/usr/local/opt/tcl-tk/include -I/Users/ffroehlich/Documents/HMS/energy_modeling_chapter/venv/include -I/usr/local/Cellar/python@3.9/3.9.2_1/Frameworks/Python.framework/Versions/3.9/include/python3.9 -c thermo_raf.cpp -o build/temp.macosx-10.14-x86_64-3.9/thermo_raf.o -Xpreprocessor -fopenmp -std=c++14\n",
      "clang -Wno-unused-result -Wsign-compare -Wunreachable-code -fno-common -dynamic -DNDEBUG -g -fwrapv -O3 -Wall -I/Users/ffroehlich/Documents/HMS/energy_modeling_chapter/amici_models/thermo_raf -I/Users/ffroehlich/Documents/HMS/energy_modeling_chapter/venv/lib/python3.9/site-packages/amici/include -I/Users/ffroehlich/Documents/HMS/energy_modeling_chapter/venv/lib/python3.9/site-packages/amici/ThirdParty/gsl -I/Users/ffroehlich/Documents/HMS/energy_modeling_chapter/venv/lib/python3.9/site-packages/amici/ThirdParty/sundials/include -I/Users/ffroehlich/Documents/HMS/energy_modeling_chapter/venv/lib/python3.9/site-packages/amici/ThirdParty/SuiteSparse/include -I/usr/local/include -I/usr/local/include -I/usr/local/opt/openssl@1.1/include -I/usr/local/opt/sqlite/include -I/usr/local/opt/tcl-tk/include -I/Users/ffroehlich/Documents/HMS/energy_modeling_chapter/venv/include -I/usr/local/Cellar/python@3.9/3.9.2_1/Frameworks/Python.framework/Versions/3.9/include/python3.9 -c thermo_raf_Jy.cpp -o build/temp.macosx-10.14-x86_64-3.9/thermo_raf_Jy.o -Xpreprocessor -fopenmp -std=c++14\n",
      "clang -Wno-unused-result -Wsign-compare -Wunreachable-code -fno-common -dynamic -DNDEBUG -g -fwrapv -O3 -Wall -I/Users/ffroehlich/Documents/HMS/energy_modeling_chapter/amici_models/thermo_raf -I/Users/ffroehlich/Documents/HMS/energy_modeling_chapter/venv/lib/python3.9/site-packages/amici/include -I/Users/ffroehlich/Documents/HMS/energy_modeling_chapter/venv/lib/python3.9/site-packages/amici/ThirdParty/gsl -I/Users/ffroehlich/Documents/HMS/energy_modeling_chapter/venv/lib/python3.9/site-packages/amici/ThirdParty/sundials/include -I/Users/ffroehlich/Documents/HMS/energy_modeling_chapter/venv/lib/python3.9/site-packages/amici/ThirdParty/SuiteSparse/include -I/usr/local/include -I/usr/local/include -I/usr/local/opt/openssl@1.1/include -I/usr/local/opt/sqlite/include -I/usr/local/opt/tcl-tk/include -I/Users/ffroehlich/Documents/HMS/energy_modeling_chapter/venv/include -I/usr/local/Cellar/python@3.9/3.9.2_1/Frameworks/Python.framework/Versions/3.9/include/python3.9 -c thermo_raf_dJydsigma.cpp -o build/temp.macosx-10.14-x86_64-3.9/thermo_raf_dJydsigma.o -Xpreprocessor -fopenmp -std=c++14\n",
      "clang -Wno-unused-result -Wsign-compare -Wunreachable-code -fno-common -dynamic -DNDEBUG -g -fwrapv -O3 -Wall -I/Users/ffroehlich/Documents/HMS/energy_modeling_chapter/amici_models/thermo_raf -I/Users/ffroehlich/Documents/HMS/energy_modeling_chapter/venv/lib/python3.9/site-packages/amici/include -I/Users/ffroehlich/Documents/HMS/energy_modeling_chapter/venv/lib/python3.9/site-packages/amici/ThirdParty/gsl -I/Users/ffroehlich/Documents/HMS/energy_modeling_chapter/venv/lib/python3.9/site-packages/amici/ThirdParty/sundials/include -I/Users/ffroehlich/Documents/HMS/energy_modeling_chapter/venv/lib/python3.9/site-packages/amici/ThirdParty/SuiteSparse/include -I/usr/local/include -I/usr/local/include -I/usr/local/opt/openssl@1.1/include -I/usr/local/opt/sqlite/include -I/usr/local/opt/tcl-tk/include -I/Users/ffroehlich/Documents/HMS/energy_modeling_chapter/venv/include -I/usr/local/Cellar/python@3.9/3.9.2_1/Frameworks/Python.framework/Versions/3.9/include/python3.9 -c thermo_raf_dJydy.cpp -o build/temp.macosx-10.14-x86_64-3.9/thermo_raf_dJydy.o -Xpreprocessor -fopenmp -std=c++14\n",
      "clang -Wno-unused-result -Wsign-compare -Wunreachable-code -fno-common -dynamic -DNDEBUG -g -fwrapv -O3 -Wall -I/Users/ffroehlich/Documents/HMS/energy_modeling_chapter/amici_models/thermo_raf -I/Users/ffroehlich/Documents/HMS/energy_modeling_chapter/venv/lib/python3.9/site-packages/amici/include -I/Users/ffroehlich/Documents/HMS/energy_modeling_chapter/venv/lib/python3.9/site-packages/amici/ThirdParty/gsl -I/Users/ffroehlich/Documents/HMS/energy_modeling_chapter/venv/lib/python3.9/site-packages/amici/ThirdParty/sundials/include -I/Users/ffroehlich/Documents/HMS/energy_modeling_chapter/venv/lib/python3.9/site-packages/amici/ThirdParty/SuiteSparse/include -I/usr/local/include -I/usr/local/include -I/usr/local/opt/openssl@1.1/include -I/usr/local/opt/sqlite/include -I/usr/local/opt/tcl-tk/include -I/Users/ffroehlich/Documents/HMS/energy_modeling_chapter/venv/include -I/usr/local/Cellar/python@3.9/3.9.2_1/Frameworks/Python.framework/Versions/3.9/include/python3.9 -c thermo_raf_dJydy_colptrs.cpp -o build/temp.macosx-10.14-x86_64-3.9/thermo_raf_dJydy_colptrs.o -Xpreprocessor -fopenmp -std=c++14\n",
      "clang -Wno-unused-result -Wsign-compare -Wunreachable-code -fno-common -dynamic -DNDEBUG -g -fwrapv -O3 -Wall -I/Users/ffroehlich/Documents/HMS/energy_modeling_chapter/amici_models/thermo_raf -I/Users/ffroehlich/Documents/HMS/energy_modeling_chapter/venv/lib/python3.9/site-packages/amici/include -I/Users/ffroehlich/Documents/HMS/energy_modeling_chapter/venv/lib/python3.9/site-packages/amici/ThirdParty/gsl -I/Users/ffroehlich/Documents/HMS/energy_modeling_chapter/venv/lib/python3.9/site-packages/amici/ThirdParty/sundials/include -I/Users/ffroehlich/Documents/HMS/energy_modeling_chapter/venv/lib/python3.9/site-packages/amici/ThirdParty/SuiteSparse/include -I/usr/local/include -I/usr/local/include -I/usr/local/opt/openssl@1.1/include -I/usr/local/opt/sqlite/include -I/usr/local/opt/tcl-tk/include -I/Users/ffroehlich/Documents/HMS/energy_modeling_chapter/venv/include -I/usr/local/Cellar/python@3.9/3.9.2_1/Frameworks/Python.framework/Versions/3.9/include/python3.9 -c thermo_raf_dJydy_rowvals.cpp -o build/temp.macosx-10.14-x86_64-3.9/thermo_raf_dJydy_rowvals.o -Xpreprocessor -fopenmp -std=c++14\n",
      "clang -Wno-unused-result -Wsign-compare -Wunreachable-code -fno-common -dynamic -DNDEBUG -g -fwrapv -O3 -Wall -I/Users/ffroehlich/Documents/HMS/energy_modeling_chapter/amici_models/thermo_raf -I/Users/ffroehlich/Documents/HMS/energy_modeling_chapter/venv/lib/python3.9/site-packages/amici/include -I/Users/ffroehlich/Documents/HMS/energy_modeling_chapter/venv/lib/python3.9/site-packages/amici/ThirdParty/gsl -I/Users/ffroehlich/Documents/HMS/energy_modeling_chapter/venv/lib/python3.9/site-packages/amici/ThirdParty/sundials/include -I/Users/ffroehlich/Documents/HMS/energy_modeling_chapter/venv/lib/python3.9/site-packages/amici/ThirdParty/SuiteSparse/include -I/usr/local/include -I/usr/local/include -I/usr/local/opt/openssl@1.1/include -I/usr/local/opt/sqlite/include -I/usr/local/opt/tcl-tk/include -I/Users/ffroehlich/Documents/HMS/energy_modeling_chapter/venv/include -I/usr/local/Cellar/python@3.9/3.9.2_1/Frameworks/Python.framework/Versions/3.9/include/python3.9 -c thermo_raf_dsigmaydp.cpp -o build/temp.macosx-10.14-x86_64-3.9/thermo_raf_dsigmaydp.o -Xpreprocessor -fopenmp -std=c++14\n",
      "clang -Wno-unused-result -Wsign-compare -Wunreachable-code -fno-common -dynamic -DNDEBUG -g -fwrapv -O3 -Wall -I/Users/ffroehlich/Documents/HMS/energy_modeling_chapter/amici_models/thermo_raf -I/Users/ffroehlich/Documents/HMS/energy_modeling_chapter/venv/lib/python3.9/site-packages/amici/include -I/Users/ffroehlich/Documents/HMS/energy_modeling_chapter/venv/lib/python3.9/site-packages/amici/ThirdParty/gsl -I/Users/ffroehlich/Documents/HMS/energy_modeling_chapter/venv/lib/python3.9/site-packages/amici/ThirdParty/sundials/include -I/Users/ffroehlich/Documents/HMS/energy_modeling_chapter/venv/lib/python3.9/site-packages/amici/ThirdParty/SuiteSparse/include -I/usr/local/include -I/usr/local/include -I/usr/local/opt/openssl@1.1/include -I/usr/local/opt/sqlite/include -I/usr/local/opt/tcl-tk/include -I/Users/ffroehlich/Documents/HMS/energy_modeling_chapter/venv/include -I/usr/local/Cellar/python@3.9/3.9.2_1/Frameworks/Python.framework/Versions/3.9/include/python3.9 -c thermo_raf_dwdp.cpp -o build/temp.macosx-10.14-x86_64-3.9/thermo_raf_dwdp.o -Xpreprocessor -fopenmp -std=c++14\n",
      "clang -Wno-unused-result -Wsign-compare -Wunreachable-code -fno-common -dynamic -DNDEBUG -g -fwrapv -O3 -Wall -I/Users/ffroehlich/Documents/HMS/energy_modeling_chapter/amici_models/thermo_raf -I/Users/ffroehlich/Documents/HMS/energy_modeling_chapter/venv/lib/python3.9/site-packages/amici/include -I/Users/ffroehlich/Documents/HMS/energy_modeling_chapter/venv/lib/python3.9/site-packages/amici/ThirdParty/gsl -I/Users/ffroehlich/Documents/HMS/energy_modeling_chapter/venv/lib/python3.9/site-packages/amici/ThirdParty/sundials/include -I/Users/ffroehlich/Documents/HMS/energy_modeling_chapter/venv/lib/python3.9/site-packages/amici/ThirdParty/SuiteSparse/include -I/usr/local/include -I/usr/local/include -I/usr/local/opt/openssl@1.1/include -I/usr/local/opt/sqlite/include -I/usr/local/opt/tcl-tk/include -I/Users/ffroehlich/Documents/HMS/energy_modeling_chapter/venv/include -I/usr/local/Cellar/python@3.9/3.9.2_1/Frameworks/Python.framework/Versions/3.9/include/python3.9 -c thermo_raf_dwdp_colptrs.cpp -o build/temp.macosx-10.14-x86_64-3.9/thermo_raf_dwdp_colptrs.o -Xpreprocessor -fopenmp -std=c++14\n",
      "clang -Wno-unused-result -Wsign-compare -Wunreachable-code -fno-common -dynamic -DNDEBUG -g -fwrapv -O3 -Wall -I/Users/ffroehlich/Documents/HMS/energy_modeling_chapter/amici_models/thermo_raf -I/Users/ffroehlich/Documents/HMS/energy_modeling_chapter/venv/lib/python3.9/site-packages/amici/include -I/Users/ffroehlich/Documents/HMS/energy_modeling_chapter/venv/lib/python3.9/site-packages/amici/ThirdParty/gsl -I/Users/ffroehlich/Documents/HMS/energy_modeling_chapter/venv/lib/python3.9/site-packages/amici/ThirdParty/sundials/include -I/Users/ffroehlich/Documents/HMS/energy_modeling_chapter/venv/lib/python3.9/site-packages/amici/ThirdParty/SuiteSparse/include -I/usr/local/include -I/usr/local/include -I/usr/local/opt/openssl@1.1/include -I/usr/local/opt/sqlite/include -I/usr/local/opt/tcl-tk/include -I/Users/ffroehlich/Documents/HMS/energy_modeling_chapter/venv/include -I/usr/local/Cellar/python@3.9/3.9.2_1/Frameworks/Python.framework/Versions/3.9/include/python3.9 -c thermo_raf_dwdp_rowvals.cpp -o build/temp.macosx-10.14-x86_64-3.9/thermo_raf_dwdp_rowvals.o -Xpreprocessor -fopenmp -std=c++14\n",
      "clang -Wno-unused-result -Wsign-compare -Wunreachable-code -fno-common -dynamic -DNDEBUG -g -fwrapv -O3 -Wall -I/Users/ffroehlich/Documents/HMS/energy_modeling_chapter/amici_models/thermo_raf -I/Users/ffroehlich/Documents/HMS/energy_modeling_chapter/venv/lib/python3.9/site-packages/amici/include -I/Users/ffroehlich/Documents/HMS/energy_modeling_chapter/venv/lib/python3.9/site-packages/amici/ThirdParty/gsl -I/Users/ffroehlich/Documents/HMS/energy_modeling_chapter/venv/lib/python3.9/site-packages/amici/ThirdParty/sundials/include -I/Users/ffroehlich/Documents/HMS/energy_modeling_chapter/venv/lib/python3.9/site-packages/amici/ThirdParty/SuiteSparse/include -I/usr/local/include -I/usr/local/include -I/usr/local/opt/openssl@1.1/include -I/usr/local/opt/sqlite/include -I/usr/local/opt/tcl-tk/include -I/Users/ffroehlich/Documents/HMS/energy_modeling_chapter/venv/include -I/usr/local/Cellar/python@3.9/3.9.2_1/Frameworks/Python.framework/Versions/3.9/include/python3.9 -c thermo_raf_dwdw.cpp -o build/temp.macosx-10.14-x86_64-3.9/thermo_raf_dwdw.o -Xpreprocessor -fopenmp -std=c++14\n",
      "clang -Wno-unused-result -Wsign-compare -Wunreachable-code -fno-common -dynamic -DNDEBUG -g -fwrapv -O3 -Wall -I/Users/ffroehlich/Documents/HMS/energy_modeling_chapter/amici_models/thermo_raf -I/Users/ffroehlich/Documents/HMS/energy_modeling_chapter/venv/lib/python3.9/site-packages/amici/include -I/Users/ffroehlich/Documents/HMS/energy_modeling_chapter/venv/lib/python3.9/site-packages/amici/ThirdParty/gsl -I/Users/ffroehlich/Documents/HMS/energy_modeling_chapter/venv/lib/python3.9/site-packages/amici/ThirdParty/sundials/include -I/Users/ffroehlich/Documents/HMS/energy_modeling_chapter/venv/lib/python3.9/site-packages/amici/ThirdParty/SuiteSparse/include -I/usr/local/include -I/usr/local/include -I/usr/local/opt/openssl@1.1/include -I/usr/local/opt/sqlite/include -I/usr/local/opt/tcl-tk/include -I/Users/ffroehlich/Documents/HMS/energy_modeling_chapter/venv/include -I/usr/local/Cellar/python@3.9/3.9.2_1/Frameworks/Python.framework/Versions/3.9/include/python3.9 -c thermo_raf_dwdw_colptrs.cpp -o build/temp.macosx-10.14-x86_64-3.9/thermo_raf_dwdw_colptrs.o -Xpreprocessor -fopenmp -std=c++14\n",
      "clang -Wno-unused-result -Wsign-compare -Wunreachable-code -fno-common -dynamic -DNDEBUG -g -fwrapv -O3 -Wall -I/Users/ffroehlich/Documents/HMS/energy_modeling_chapter/amici_models/thermo_raf -I/Users/ffroehlich/Documents/HMS/energy_modeling_chapter/venv/lib/python3.9/site-packages/amici/include -I/Users/ffroehlich/Documents/HMS/energy_modeling_chapter/venv/lib/python3.9/site-packages/amici/ThirdParty/gsl -I/Users/ffroehlich/Documents/HMS/energy_modeling_chapter/venv/lib/python3.9/site-packages/amici/ThirdParty/sundials/include -I/Users/ffroehlich/Documents/HMS/energy_modeling_chapter/venv/lib/python3.9/site-packages/amici/ThirdParty/SuiteSparse/include -I/usr/local/include -I/usr/local/include -I/usr/local/opt/openssl@1.1/include -I/usr/local/opt/sqlite/include -I/usr/local/opt/tcl-tk/include -I/Users/ffroehlich/Documents/HMS/energy_modeling_chapter/venv/include -I/usr/local/Cellar/python@3.9/3.9.2_1/Frameworks/Python.framework/Versions/3.9/include/python3.9 -c thermo_raf_dwdw_rowvals.cpp -o build/temp.macosx-10.14-x86_64-3.9/thermo_raf_dwdw_rowvals.o -Xpreprocessor -fopenmp -std=c++14\n",
      "clang -Wno-unused-result -Wsign-compare -Wunreachable-code -fno-common -dynamic -DNDEBUG -g -fwrapv -O3 -Wall -I/Users/ffroehlich/Documents/HMS/energy_modeling_chapter/amici_models/thermo_raf -I/Users/ffroehlich/Documents/HMS/energy_modeling_chapter/venv/lib/python3.9/site-packages/amici/include -I/Users/ffroehlich/Documents/HMS/energy_modeling_chapter/venv/lib/python3.9/site-packages/amici/ThirdParty/gsl -I/Users/ffroehlich/Documents/HMS/energy_modeling_chapter/venv/lib/python3.9/site-packages/amici/ThirdParty/sundials/include -I/Users/ffroehlich/Documents/HMS/energy_modeling_chapter/venv/lib/python3.9/site-packages/amici/ThirdParty/SuiteSparse/include -I/usr/local/include -I/usr/local/include -I/usr/local/opt/openssl@1.1/include -I/usr/local/opt/sqlite/include -I/usr/local/opt/tcl-tk/include -I/Users/ffroehlich/Documents/HMS/energy_modeling_chapter/venv/include -I/usr/local/Cellar/python@3.9/3.9.2_1/Frameworks/Python.framework/Versions/3.9/include/python3.9 -c thermo_raf_dwdx.cpp -o build/temp.macosx-10.14-x86_64-3.9/thermo_raf_dwdx.o -Xpreprocessor -fopenmp -std=c++14\n",
      "clang -Wno-unused-result -Wsign-compare -Wunreachable-code -fno-common -dynamic -DNDEBUG -g -fwrapv -O3 -Wall -I/Users/ffroehlich/Documents/HMS/energy_modeling_chapter/amici_models/thermo_raf -I/Users/ffroehlich/Documents/HMS/energy_modeling_chapter/venv/lib/python3.9/site-packages/amici/include -I/Users/ffroehlich/Documents/HMS/energy_modeling_chapter/venv/lib/python3.9/site-packages/amici/ThirdParty/gsl -I/Users/ffroehlich/Documents/HMS/energy_modeling_chapter/venv/lib/python3.9/site-packages/amici/ThirdParty/sundials/include -I/Users/ffroehlich/Documents/HMS/energy_modeling_chapter/venv/lib/python3.9/site-packages/amici/ThirdParty/SuiteSparse/include -I/usr/local/include -I/usr/local/include -I/usr/local/opt/openssl@1.1/include -I/usr/local/opt/sqlite/include -I/usr/local/opt/tcl-tk/include -I/Users/ffroehlich/Documents/HMS/energy_modeling_chapter/venv/include -I/usr/local/Cellar/python@3.9/3.9.2_1/Frameworks/Python.framework/Versions/3.9/include/python3.9 -c thermo_raf_dwdx_colptrs.cpp -o build/temp.macosx-10.14-x86_64-3.9/thermo_raf_dwdx_colptrs.o -Xpreprocessor -fopenmp -std=c++14\n",
      "clang -Wno-unused-result -Wsign-compare -Wunreachable-code -fno-common -dynamic -DNDEBUG -g -fwrapv -O3 -Wall -I/Users/ffroehlich/Documents/HMS/energy_modeling_chapter/amici_models/thermo_raf -I/Users/ffroehlich/Documents/HMS/energy_modeling_chapter/venv/lib/python3.9/site-packages/amici/include -I/Users/ffroehlich/Documents/HMS/energy_modeling_chapter/venv/lib/python3.9/site-packages/amici/ThirdParty/gsl -I/Users/ffroehlich/Documents/HMS/energy_modeling_chapter/venv/lib/python3.9/site-packages/amici/ThirdParty/sundials/include -I/Users/ffroehlich/Documents/HMS/energy_modeling_chapter/venv/lib/python3.9/site-packages/amici/ThirdParty/SuiteSparse/include -I/usr/local/include -I/usr/local/include -I/usr/local/opt/openssl@1.1/include -I/usr/local/opt/sqlite/include -I/usr/local/opt/tcl-tk/include -I/Users/ffroehlich/Documents/HMS/energy_modeling_chapter/venv/include -I/usr/local/Cellar/python@3.9/3.9.2_1/Frameworks/Python.framework/Versions/3.9/include/python3.9 -c thermo_raf_dwdx_rowvals.cpp -o build/temp.macosx-10.14-x86_64-3.9/thermo_raf_dwdx_rowvals.o -Xpreprocessor -fopenmp -std=c++14\n",
      "clang -Wno-unused-result -Wsign-compare -Wunreachable-code -fno-common -dynamic -DNDEBUG -g -fwrapv -O3 -Wall -I/Users/ffroehlich/Documents/HMS/energy_modeling_chapter/amici_models/thermo_raf -I/Users/ffroehlich/Documents/HMS/energy_modeling_chapter/venv/lib/python3.9/site-packages/amici/include -I/Users/ffroehlich/Documents/HMS/energy_modeling_chapter/venv/lib/python3.9/site-packages/amici/ThirdParty/gsl -I/Users/ffroehlich/Documents/HMS/energy_modeling_chapter/venv/lib/python3.9/site-packages/amici/ThirdParty/sundials/include -I/Users/ffroehlich/Documents/HMS/energy_modeling_chapter/venv/lib/python3.9/site-packages/amici/ThirdParty/SuiteSparse/include -I/usr/local/include -I/usr/local/include -I/usr/local/opt/openssl@1.1/include -I/usr/local/opt/sqlite/include -I/usr/local/opt/tcl-tk/include -I/Users/ffroehlich/Documents/HMS/energy_modeling_chapter/venv/include -I/usr/local/Cellar/python@3.9/3.9.2_1/Frameworks/Python.framework/Versions/3.9/include/python3.9 -c thermo_raf_dxdotdw.cpp -o build/temp.macosx-10.14-x86_64-3.9/thermo_raf_dxdotdw.o -Xpreprocessor -fopenmp -std=c++14\n",
      "clang -Wno-unused-result -Wsign-compare -Wunreachable-code -fno-common -dynamic -DNDEBUG -g -fwrapv -O3 -Wall -I/Users/ffroehlich/Documents/HMS/energy_modeling_chapter/amici_models/thermo_raf -I/Users/ffroehlich/Documents/HMS/energy_modeling_chapter/venv/lib/python3.9/site-packages/amici/include -I/Users/ffroehlich/Documents/HMS/energy_modeling_chapter/venv/lib/python3.9/site-packages/amici/ThirdParty/gsl -I/Users/ffroehlich/Documents/HMS/energy_modeling_chapter/venv/lib/python3.9/site-packages/amici/ThirdParty/sundials/include -I/Users/ffroehlich/Documents/HMS/energy_modeling_chapter/venv/lib/python3.9/site-packages/amici/ThirdParty/SuiteSparse/include -I/usr/local/include -I/usr/local/include -I/usr/local/opt/openssl@1.1/include -I/usr/local/opt/sqlite/include -I/usr/local/opt/tcl-tk/include -I/Users/ffroehlich/Documents/HMS/energy_modeling_chapter/venv/include -I/usr/local/Cellar/python@3.9/3.9.2_1/Frameworks/Python.framework/Versions/3.9/include/python3.9 -c thermo_raf_dxdotdw_colptrs.cpp -o build/temp.macosx-10.14-x86_64-3.9/thermo_raf_dxdotdw_colptrs.o -Xpreprocessor -fopenmp -std=c++14\n",
      "clang -Wno-unused-result -Wsign-compare -Wunreachable-code -fno-common -dynamic -DNDEBUG -g -fwrapv -O3 -Wall -I/Users/ffroehlich/Documents/HMS/energy_modeling_chapter/amici_models/thermo_raf -I/Users/ffroehlich/Documents/HMS/energy_modeling_chapter/venv/lib/python3.9/site-packages/amici/include -I/Users/ffroehlich/Documents/HMS/energy_modeling_chapter/venv/lib/python3.9/site-packages/amici/ThirdParty/gsl -I/Users/ffroehlich/Documents/HMS/energy_modeling_chapter/venv/lib/python3.9/site-packages/amici/ThirdParty/sundials/include -I/Users/ffroehlich/Documents/HMS/energy_modeling_chapter/venv/lib/python3.9/site-packages/amici/ThirdParty/SuiteSparse/include -I/usr/local/include -I/usr/local/include -I/usr/local/opt/openssl@1.1/include -I/usr/local/opt/sqlite/include -I/usr/local/opt/tcl-tk/include -I/Users/ffroehlich/Documents/HMS/energy_modeling_chapter/venv/include -I/usr/local/Cellar/python@3.9/3.9.2_1/Frameworks/Python.framework/Versions/3.9/include/python3.9 -c thermo_raf_dxdotdw_rowvals.cpp -o build/temp.macosx-10.14-x86_64-3.9/thermo_raf_dxdotdw_rowvals.o -Xpreprocessor -fopenmp -std=c++14\n",
      "clang -Wno-unused-result -Wsign-compare -Wunreachable-code -fno-common -dynamic -DNDEBUG -g -fwrapv -O3 -Wall -I/Users/ffroehlich/Documents/HMS/energy_modeling_chapter/amici_models/thermo_raf -I/Users/ffroehlich/Documents/HMS/energy_modeling_chapter/venv/lib/python3.9/site-packages/amici/include -I/Users/ffroehlich/Documents/HMS/energy_modeling_chapter/venv/lib/python3.9/site-packages/amici/ThirdParty/gsl -I/Users/ffroehlich/Documents/HMS/energy_modeling_chapter/venv/lib/python3.9/site-packages/amici/ThirdParty/sundials/include -I/Users/ffroehlich/Documents/HMS/energy_modeling_chapter/venv/lib/python3.9/site-packages/amici/ThirdParty/SuiteSparse/include -I/usr/local/include -I/usr/local/include -I/usr/local/opt/openssl@1.1/include -I/usr/local/opt/sqlite/include -I/usr/local/opt/tcl-tk/include -I/Users/ffroehlich/Documents/HMS/energy_modeling_chapter/venv/include -I/usr/local/Cellar/python@3.9/3.9.2_1/Frameworks/Python.framework/Versions/3.9/include/python3.9 -c thermo_raf_dydp.cpp -o build/temp.macosx-10.14-x86_64-3.9/thermo_raf_dydp.o -Xpreprocessor -fopenmp -std=c++14\n",
      "clang -Wno-unused-result -Wsign-compare -Wunreachable-code -fno-common -dynamic -DNDEBUG -g -fwrapv -O3 -Wall -I/Users/ffroehlich/Documents/HMS/energy_modeling_chapter/amici_models/thermo_raf -I/Users/ffroehlich/Documents/HMS/energy_modeling_chapter/venv/lib/python3.9/site-packages/amici/include -I/Users/ffroehlich/Documents/HMS/energy_modeling_chapter/venv/lib/python3.9/site-packages/amici/ThirdParty/gsl -I/Users/ffroehlich/Documents/HMS/energy_modeling_chapter/venv/lib/python3.9/site-packages/amici/ThirdParty/sundials/include -I/Users/ffroehlich/Documents/HMS/energy_modeling_chapter/venv/lib/python3.9/site-packages/amici/ThirdParty/SuiteSparse/include -I/usr/local/include -I/usr/local/include -I/usr/local/opt/openssl@1.1/include -I/usr/local/opt/sqlite/include -I/usr/local/opt/tcl-tk/include -I/Users/ffroehlich/Documents/HMS/energy_modeling_chapter/venv/include -I/usr/local/Cellar/python@3.9/3.9.2_1/Frameworks/Python.framework/Versions/3.9/include/python3.9 -c thermo_raf_dydx.cpp -o build/temp.macosx-10.14-x86_64-3.9/thermo_raf_dydx.o -Xpreprocessor -fopenmp -std=c++14\n",
      "clang -Wno-unused-result -Wsign-compare -Wunreachable-code -fno-common -dynamic -DNDEBUG -g -fwrapv -O3 -Wall -I/Users/ffroehlich/Documents/HMS/energy_modeling_chapter/amici_models/thermo_raf -I/Users/ffroehlich/Documents/HMS/energy_modeling_chapter/venv/lib/python3.9/site-packages/amici/include -I/Users/ffroehlich/Documents/HMS/energy_modeling_chapter/venv/lib/python3.9/site-packages/amici/ThirdParty/gsl -I/Users/ffroehlich/Documents/HMS/energy_modeling_chapter/venv/lib/python3.9/site-packages/amici/ThirdParty/sundials/include -I/Users/ffroehlich/Documents/HMS/energy_modeling_chapter/venv/lib/python3.9/site-packages/amici/ThirdParty/SuiteSparse/include -I/usr/local/include -I/usr/local/include -I/usr/local/opt/openssl@1.1/include -I/usr/local/opt/sqlite/include -I/usr/local/opt/tcl-tk/include -I/Users/ffroehlich/Documents/HMS/energy_modeling_chapter/venv/include -I/usr/local/Cellar/python@3.9/3.9.2_1/Frameworks/Python.framework/Versions/3.9/include/python3.9 -c thermo_raf_sigmay.cpp -o build/temp.macosx-10.14-x86_64-3.9/thermo_raf_sigmay.o -Xpreprocessor -fopenmp -std=c++14\n",
      "clang -Wno-unused-result -Wsign-compare -Wunreachable-code -fno-common -dynamic -DNDEBUG -g -fwrapv -O3 -Wall -I/Users/ffroehlich/Documents/HMS/energy_modeling_chapter/amici_models/thermo_raf -I/Users/ffroehlich/Documents/HMS/energy_modeling_chapter/venv/lib/python3.9/site-packages/amici/include -I/Users/ffroehlich/Documents/HMS/energy_modeling_chapter/venv/lib/python3.9/site-packages/amici/ThirdParty/gsl -I/Users/ffroehlich/Documents/HMS/energy_modeling_chapter/venv/lib/python3.9/site-packages/amici/ThirdParty/sundials/include -I/Users/ffroehlich/Documents/HMS/energy_modeling_chapter/venv/lib/python3.9/site-packages/amici/ThirdParty/SuiteSparse/include -I/usr/local/include -I/usr/local/include -I/usr/local/opt/openssl@1.1/include -I/usr/local/opt/sqlite/include -I/usr/local/opt/tcl-tk/include -I/Users/ffroehlich/Documents/HMS/energy_modeling_chapter/venv/include -I/usr/local/Cellar/python@3.9/3.9.2_1/Frameworks/Python.framework/Versions/3.9/include/python3.9 -c thermo_raf_sx0.cpp -o build/temp.macosx-10.14-x86_64-3.9/thermo_raf_sx0.o -Xpreprocessor -fopenmp -std=c++14\n",
      "clang -Wno-unused-result -Wsign-compare -Wunreachable-code -fno-common -dynamic -DNDEBUG -g -fwrapv -O3 -Wall -I/Users/ffroehlich/Documents/HMS/energy_modeling_chapter/amici_models/thermo_raf -I/Users/ffroehlich/Documents/HMS/energy_modeling_chapter/venv/lib/python3.9/site-packages/amici/include -I/Users/ffroehlich/Documents/HMS/energy_modeling_chapter/venv/lib/python3.9/site-packages/amici/ThirdParty/gsl -I/Users/ffroehlich/Documents/HMS/energy_modeling_chapter/venv/lib/python3.9/site-packages/amici/ThirdParty/sundials/include -I/Users/ffroehlich/Documents/HMS/energy_modeling_chapter/venv/lib/python3.9/site-packages/amici/ThirdParty/SuiteSparse/include -I/usr/local/include -I/usr/local/include -I/usr/local/opt/openssl@1.1/include -I/usr/local/opt/sqlite/include -I/usr/local/opt/tcl-tk/include -I/Users/ffroehlich/Documents/HMS/energy_modeling_chapter/venv/include -I/usr/local/Cellar/python@3.9/3.9.2_1/Frameworks/Python.framework/Versions/3.9/include/python3.9 -c thermo_raf_sx0_fixedParameters.cpp -o build/temp.macosx-10.14-x86_64-3.9/thermo_raf_sx0_fixedParameters.o -Xpreprocessor -fopenmp -std=c++14\n",
      "clang -Wno-unused-result -Wsign-compare -Wunreachable-code -fno-common -dynamic -DNDEBUG -g -fwrapv -O3 -Wall -I/Users/ffroehlich/Documents/HMS/energy_modeling_chapter/amici_models/thermo_raf -I/Users/ffroehlich/Documents/HMS/energy_modeling_chapter/venv/lib/python3.9/site-packages/amici/include -I/Users/ffroehlich/Documents/HMS/energy_modeling_chapter/venv/lib/python3.9/site-packages/amici/ThirdParty/gsl -I/Users/ffroehlich/Documents/HMS/energy_modeling_chapter/venv/lib/python3.9/site-packages/amici/ThirdParty/sundials/include -I/Users/ffroehlich/Documents/HMS/energy_modeling_chapter/venv/lib/python3.9/site-packages/amici/ThirdParty/SuiteSparse/include -I/usr/local/include -I/usr/local/include -I/usr/local/opt/openssl@1.1/include -I/usr/local/opt/sqlite/include -I/usr/local/opt/tcl-tk/include -I/Users/ffroehlich/Documents/HMS/energy_modeling_chapter/venv/include -I/usr/local/Cellar/python@3.9/3.9.2_1/Frameworks/Python.framework/Versions/3.9/include/python3.9 -c thermo_raf_total_cl.cpp -o build/temp.macosx-10.14-x86_64-3.9/thermo_raf_total_cl.o -Xpreprocessor -fopenmp -std=c++14\n",
      "clang -Wno-unused-result -Wsign-compare -Wunreachable-code -fno-common -dynamic -DNDEBUG -g -fwrapv -O3 -Wall -I/Users/ffroehlich/Documents/HMS/energy_modeling_chapter/amici_models/thermo_raf -I/Users/ffroehlich/Documents/HMS/energy_modeling_chapter/venv/lib/python3.9/site-packages/amici/include -I/Users/ffroehlich/Documents/HMS/energy_modeling_chapter/venv/lib/python3.9/site-packages/amici/ThirdParty/gsl -I/Users/ffroehlich/Documents/HMS/energy_modeling_chapter/venv/lib/python3.9/site-packages/amici/ThirdParty/sundials/include -I/Users/ffroehlich/Documents/HMS/energy_modeling_chapter/venv/lib/python3.9/site-packages/amici/ThirdParty/SuiteSparse/include -I/usr/local/include -I/usr/local/include -I/usr/local/opt/openssl@1.1/include -I/usr/local/opt/sqlite/include -I/usr/local/opt/tcl-tk/include -I/Users/ffroehlich/Documents/HMS/energy_modeling_chapter/venv/include -I/usr/local/Cellar/python@3.9/3.9.2_1/Frameworks/Python.framework/Versions/3.9/include/python3.9 -c thermo_raf_w.cpp -o build/temp.macosx-10.14-x86_64-3.9/thermo_raf_w.o -Xpreprocessor -fopenmp -std=c++14\n",
      "clang -Wno-unused-result -Wsign-compare -Wunreachable-code -fno-common -dynamic -DNDEBUG -g -fwrapv -O3 -Wall -I/Users/ffroehlich/Documents/HMS/energy_modeling_chapter/amici_models/thermo_raf -I/Users/ffroehlich/Documents/HMS/energy_modeling_chapter/venv/lib/python3.9/site-packages/amici/include -I/Users/ffroehlich/Documents/HMS/energy_modeling_chapter/venv/lib/python3.9/site-packages/amici/ThirdParty/gsl -I/Users/ffroehlich/Documents/HMS/energy_modeling_chapter/venv/lib/python3.9/site-packages/amici/ThirdParty/sundials/include -I/Users/ffroehlich/Documents/HMS/energy_modeling_chapter/venv/lib/python3.9/site-packages/amici/ThirdParty/SuiteSparse/include -I/usr/local/include -I/usr/local/include -I/usr/local/opt/openssl@1.1/include -I/usr/local/opt/sqlite/include -I/usr/local/opt/tcl-tk/include -I/Users/ffroehlich/Documents/HMS/energy_modeling_chapter/venv/include -I/usr/local/Cellar/python@3.9/3.9.2_1/Frameworks/Python.framework/Versions/3.9/include/python3.9 -c thermo_raf_x0.cpp -o build/temp.macosx-10.14-x86_64-3.9/thermo_raf_x0.o -Xpreprocessor -fopenmp -std=c++14\n",
      "clang -Wno-unused-result -Wsign-compare -Wunreachable-code -fno-common -dynamic -DNDEBUG -g -fwrapv -O3 -Wall -I/Users/ffroehlich/Documents/HMS/energy_modeling_chapter/amici_models/thermo_raf -I/Users/ffroehlich/Documents/HMS/energy_modeling_chapter/venv/lib/python3.9/site-packages/amici/include -I/Users/ffroehlich/Documents/HMS/energy_modeling_chapter/venv/lib/python3.9/site-packages/amici/ThirdParty/gsl -I/Users/ffroehlich/Documents/HMS/energy_modeling_chapter/venv/lib/python3.9/site-packages/amici/ThirdParty/sundials/include -I/Users/ffroehlich/Documents/HMS/energy_modeling_chapter/venv/lib/python3.9/site-packages/amici/ThirdParty/SuiteSparse/include -I/usr/local/include -I/usr/local/include -I/usr/local/opt/openssl@1.1/include -I/usr/local/opt/sqlite/include -I/usr/local/opt/tcl-tk/include -I/Users/ffroehlich/Documents/HMS/energy_modeling_chapter/venv/include -I/usr/local/Cellar/python@3.9/3.9.2_1/Frameworks/Python.framework/Versions/3.9/include/python3.9 -c thermo_raf_x0_fixedParameters.cpp -o build/temp.macosx-10.14-x86_64-3.9/thermo_raf_x0_fixedParameters.o -Xpreprocessor -fopenmp -std=c++14\n",
      "clang -Wno-unused-result -Wsign-compare -Wunreachable-code -fno-common -dynamic -DNDEBUG -g -fwrapv -O3 -Wall -I/Users/ffroehlich/Documents/HMS/energy_modeling_chapter/amici_models/thermo_raf -I/Users/ffroehlich/Documents/HMS/energy_modeling_chapter/venv/lib/python3.9/site-packages/amici/include -I/Users/ffroehlich/Documents/HMS/energy_modeling_chapter/venv/lib/python3.9/site-packages/amici/ThirdParty/gsl -I/Users/ffroehlich/Documents/HMS/energy_modeling_chapter/venv/lib/python3.9/site-packages/amici/ThirdParty/sundials/include -I/Users/ffroehlich/Documents/HMS/energy_modeling_chapter/venv/lib/python3.9/site-packages/amici/ThirdParty/SuiteSparse/include -I/usr/local/include -I/usr/local/include -I/usr/local/opt/openssl@1.1/include -I/usr/local/opt/sqlite/include -I/usr/local/opt/tcl-tk/include -I/Users/ffroehlich/Documents/HMS/energy_modeling_chapter/venv/include -I/usr/local/Cellar/python@3.9/3.9.2_1/Frameworks/Python.framework/Versions/3.9/include/python3.9 -c thermo_raf_x_rdata.cpp -o build/temp.macosx-10.14-x86_64-3.9/thermo_raf_x_rdata.o -Xpreprocessor -fopenmp -std=c++14\n",
      "clang -Wno-unused-result -Wsign-compare -Wunreachable-code -fno-common -dynamic -DNDEBUG -g -fwrapv -O3 -Wall -I/Users/ffroehlich/Documents/HMS/energy_modeling_chapter/amici_models/thermo_raf -I/Users/ffroehlich/Documents/HMS/energy_modeling_chapter/venv/lib/python3.9/site-packages/amici/include -I/Users/ffroehlich/Documents/HMS/energy_modeling_chapter/venv/lib/python3.9/site-packages/amici/ThirdParty/gsl -I/Users/ffroehlich/Documents/HMS/energy_modeling_chapter/venv/lib/python3.9/site-packages/amici/ThirdParty/sundials/include -I/Users/ffroehlich/Documents/HMS/energy_modeling_chapter/venv/lib/python3.9/site-packages/amici/ThirdParty/SuiteSparse/include -I/usr/local/include -I/usr/local/include -I/usr/local/opt/openssl@1.1/include -I/usr/local/opt/sqlite/include -I/usr/local/opt/tcl-tk/include -I/Users/ffroehlich/Documents/HMS/energy_modeling_chapter/venv/include -I/usr/local/Cellar/python@3.9/3.9.2_1/Frameworks/Python.framework/Versions/3.9/include/python3.9 -c thermo_raf_x_solver.cpp -o build/temp.macosx-10.14-x86_64-3.9/thermo_raf_x_solver.o -Xpreprocessor -fopenmp -std=c++14\n",
      "clang -Wno-unused-result -Wsign-compare -Wunreachable-code -fno-common -dynamic -DNDEBUG -g -fwrapv -O3 -Wall -I/Users/ffroehlich/Documents/HMS/energy_modeling_chapter/amici_models/thermo_raf -I/Users/ffroehlich/Documents/HMS/energy_modeling_chapter/venv/lib/python3.9/site-packages/amici/include -I/Users/ffroehlich/Documents/HMS/energy_modeling_chapter/venv/lib/python3.9/site-packages/amici/ThirdParty/gsl -I/Users/ffroehlich/Documents/HMS/energy_modeling_chapter/venv/lib/python3.9/site-packages/amici/ThirdParty/sundials/include -I/Users/ffroehlich/Documents/HMS/energy_modeling_chapter/venv/lib/python3.9/site-packages/amici/ThirdParty/SuiteSparse/include -I/usr/local/include -I/usr/local/include -I/usr/local/opt/openssl@1.1/include -I/usr/local/opt/sqlite/include -I/usr/local/opt/tcl-tk/include -I/Users/ffroehlich/Documents/HMS/energy_modeling_chapter/venv/include -I/usr/local/Cellar/python@3.9/3.9.2_1/Frameworks/Python.framework/Versions/3.9/include/python3.9 -c thermo_raf_xdot.cpp -o build/temp.macosx-10.14-x86_64-3.9/thermo_raf_xdot.o -Xpreprocessor -fopenmp -std=c++14\n",
      "clang -Wno-unused-result -Wsign-compare -Wunreachable-code -fno-common -dynamic -DNDEBUG -g -fwrapv -O3 -Wall -I/Users/ffroehlich/Documents/HMS/energy_modeling_chapter/amici_models/thermo_raf -I/Users/ffroehlich/Documents/HMS/energy_modeling_chapter/venv/lib/python3.9/site-packages/amici/include -I/Users/ffroehlich/Documents/HMS/energy_modeling_chapter/venv/lib/python3.9/site-packages/amici/ThirdParty/gsl -I/Users/ffroehlich/Documents/HMS/energy_modeling_chapter/venv/lib/python3.9/site-packages/amici/ThirdParty/sundials/include -I/Users/ffroehlich/Documents/HMS/energy_modeling_chapter/venv/lib/python3.9/site-packages/amici/ThirdParty/SuiteSparse/include -I/usr/local/include -I/usr/local/include -I/usr/local/opt/openssl@1.1/include -I/usr/local/opt/sqlite/include -I/usr/local/opt/tcl-tk/include -I/Users/ffroehlich/Documents/HMS/energy_modeling_chapter/venv/include -I/usr/local/Cellar/python@3.9/3.9.2_1/Frameworks/Python.framework/Versions/3.9/include/python3.9 -c thermo_raf_y.cpp -o build/temp.macosx-10.14-x86_64-3.9/thermo_raf_y.o -Xpreprocessor -fopenmp -std=c++14\n",
      "clang -Wno-unused-result -Wsign-compare -Wunreachable-code -fno-common -dynamic -DNDEBUG -g -fwrapv -O3 -Wall -I/Users/ffroehlich/Documents/HMS/energy_modeling_chapter/amici_models/thermo_raf -I/Users/ffroehlich/Documents/HMS/energy_modeling_chapter/venv/lib/python3.9/site-packages/amici/include -I/Users/ffroehlich/Documents/HMS/energy_modeling_chapter/venv/lib/python3.9/site-packages/amici/ThirdParty/gsl -I/Users/ffroehlich/Documents/HMS/energy_modeling_chapter/venv/lib/python3.9/site-packages/amici/ThirdParty/sundials/include -I/Users/ffroehlich/Documents/HMS/energy_modeling_chapter/venv/lib/python3.9/site-packages/amici/ThirdParty/SuiteSparse/include -I/usr/local/include -I/usr/local/include -I/usr/local/opt/openssl@1.1/include -I/usr/local/opt/sqlite/include -I/usr/local/opt/tcl-tk/include -I/Users/ffroehlich/Documents/HMS/energy_modeling_chapter/venv/include -I/usr/local/Cellar/python@3.9/3.9.2_1/Frameworks/Python.framework/Versions/3.9/include/python3.9 -c wrapfunctions.cpp -o build/temp.macosx-10.14-x86_64-3.9/wrapfunctions.o -Xpreprocessor -fopenmp -std=c++14\n",
      "clang++ -bundle -undefined dynamic_lookup build/temp.macosx-10.14-x86_64-3.9/swig/thermo_raf_wrap.o build/temp.macosx-10.14-x86_64-3.9/thermo_raf.o build/temp.macosx-10.14-x86_64-3.9/thermo_raf_Jy.o build/temp.macosx-10.14-x86_64-3.9/thermo_raf_dJydsigma.o build/temp.macosx-10.14-x86_64-3.9/thermo_raf_dJydy.o build/temp.macosx-10.14-x86_64-3.9/thermo_raf_dJydy_colptrs.o build/temp.macosx-10.14-x86_64-3.9/thermo_raf_dJydy_rowvals.o build/temp.macosx-10.14-x86_64-3.9/thermo_raf_dsigmaydp.o build/temp.macosx-10.14-x86_64-3.9/thermo_raf_dwdp.o build/temp.macosx-10.14-x86_64-3.9/thermo_raf_dwdp_colptrs.o build/temp.macosx-10.14-x86_64-3.9/thermo_raf_dwdp_rowvals.o build/temp.macosx-10.14-x86_64-3.9/thermo_raf_dwdw.o build/temp.macosx-10.14-x86_64-3.9/thermo_raf_dwdw_colptrs.o build/temp.macosx-10.14-x86_64-3.9/thermo_raf_dwdw_rowvals.o build/temp.macosx-10.14-x86_64-3.9/thermo_raf_dwdx.o build/temp.macosx-10.14-x86_64-3.9/thermo_raf_dwdx_colptrs.o build/temp.macosx-10.14-x86_64-3.9/thermo_raf_dwdx_rowvals.o build/temp.macosx-10.14-x86_64-3.9/thermo_raf_dxdotdw.o build/temp.macosx-10.14-x86_64-3.9/thermo_raf_dxdotdw_colptrs.o build/temp.macosx-10.14-x86_64-3.9/thermo_raf_dxdotdw_rowvals.o build/temp.macosx-10.14-x86_64-3.9/thermo_raf_dydp.o build/temp.macosx-10.14-x86_64-3.9/thermo_raf_dydx.o build/temp.macosx-10.14-x86_64-3.9/thermo_raf_sigmay.o build/temp.macosx-10.14-x86_64-3.9/thermo_raf_sx0.o build/temp.macosx-10.14-x86_64-3.9/thermo_raf_sx0_fixedParameters.o build/temp.macosx-10.14-x86_64-3.9/thermo_raf_total_cl.o build/temp.macosx-10.14-x86_64-3.9/thermo_raf_w.o build/temp.macosx-10.14-x86_64-3.9/thermo_raf_x0.o build/temp.macosx-10.14-x86_64-3.9/thermo_raf_x0_fixedParameters.o build/temp.macosx-10.14-x86_64-3.9/thermo_raf_x_rdata.o build/temp.macosx-10.14-x86_64-3.9/thermo_raf_x_solver.o build/temp.macosx-10.14-x86_64-3.9/thermo_raf_xdot.o build/temp.macosx-10.14-x86_64-3.9/thermo_raf_y.o build/temp.macosx-10.14-x86_64-3.9/wrapfunctions.o -L/usr/local/lib -L/Users/ffroehlich/Documents/HMS/energy_modeling_chapter/venv/lib/python3.9/site-packages/amici/libs -L/usr/local/lib -L/usr/local/opt/openssl@1.1/lib -L/usr/local/opt/sqlite/lib -L/usr/local/opt/tcl-tk/lib -lamici -lsundials -lsuitesparse -lcblas -lhdf5_hl_cpp -lhdf5_hl -lhdf5_cpp -lhdf5 -o /Users/ffroehlich/Documents/HMS/energy_modeling_chapter/amici_models/thermo_raf/thermo_raf/_thermo_raf.cpython-39-darwin.so -Xpreprocessor -fopenmp -lomp\n",
      "\n"
     ]
    }
   ],
   "source": [
    "import pypesto\n",
    "import pypesto.petab\n",
    "importer = pypesto.petab.PetabImporter(petab_problem,\n",
    "                                       model_name=model.name)\n",
    "\n",
    "pypesto_problem = importer.create_problem(force_compile=True)"
   ]
  },
  {
   "cell_type": "markdown",
   "metadata": {},
   "source": [
    "Simulations in AMICI are highly customizable and while many steps, including everything that was specified in the the petab problem, are automated by pypesto, not all options are set automatically and some user input may be required. For example, the considered example includes preequilibrations which are automatically handled by pyPESTO and AMICI. However, AMICI supports multiple different methods to compute steadystates as well as respective sensitivities. By default, a combination of Newton's method and simulation is employed to approximate the steadystate <cite data-cite=\"2754712/LVNQBT95\"></cite> and sensitivites are computed using the Implicit Function Theorem (IFT) <cite data-cite=\"2754712/6AWGLSM9\"></cite>, which is the most efficient option when applicable. Sensitivity computation via the IFT requires that the Jacobian of the model equations is not singular, which is, for example, not the case for models with conservation laws. As we do not account for protein synthesis and degradation, total protein abundances are conserved quantities in the model and the IFT is not applicable. Thus, we here employ a purely simulation based steadystate search by setting the allowed newton steps to 0 and computing the steadystate sensitivities using forward sensitivity analysis by setting the steadystate sensitivity mode accordingly. To apply these options during optimization, we set these options in the AMICI [`Solver`](https://amici.readthedocs.io/en/latest/generated/amici.amici.Model.html#amici.amici.Solver) and [`Model`](https://amici.readthedocs.io/en/latest/generated/amici.amici.Model.html#amici.amici.Model) instances of the  [`AmiciObjective`](https://pypesto.readthedocs.io/en/latest/api_objective.html#pypesto.objective.AmiciObjective) that is attached to the pyPESTO [`Problem`](https://pypesto.readthedocs.io/en/latest/api_problem.html#pypesto.problem.Problem)."
   ]
  },
  {
   "cell_type": "code",
   "execution_count": 23,
   "metadata": {},
   "outputs": [],
   "source": [
    "import amici\n",
    "obj = pypesto_problem.objective\n",
    "obj.amici_solver.setNewtonMaxSteps(0)\n",
    "obj.amici_model.setSteadyStateSensitivityMode(amici.SteadyStateSensitivityMode.simulationFSA)"
   ]
  },
  {
   "cell_type": "markdown",
   "metadata": {},
   "source": [
    "pyPESTO also supports extrapolation methods that iteratively update initial guesses for steadystates by linearly extrapolating previously found steadystates using the steadystate sensitivities. As this may lead to issues when combined with forward, simulation based sensitivity analysis, we deactivate this option here."
   ]
  },
  {
   "cell_type": "code",
   "execution_count": 24,
   "metadata": {},
   "outputs": [],
   "source": [
    "obj.guess_steadystate = False"
   ]
  },
  {
   "cell_type": "markdown",
   "metadata": {},
   "source": [
    "AMICI also supports different sensitivity analysis methods for the simulation itself <cite data-cite=\"2754712/MKPQ9727\"></cite>. For models with over 100 parameters, it usually makes sense to use adjoint sensitivity analysis for simulation conditions <cite data-cite=\"2754712/INKV577L\"></cite>. However, for models that also require preequilibration, the computation time of the simulation and gradient evaluation is dominated by the preequilibration part and the choice of sensitivity method for the simulation part will not have a significant impact on computation time. Accordingly, other considerations, such as the availability of approximate second order information should be taken into account when selecting the sensitivity method. In contrast to forward sensitivity analysis, adjoint sensitivity analysis does not provide an approximation to the Hessian of the objective function <cite data-cite=\"2754712/MKPQ9727\"></cite>, rendering some optimizers inapplicable and potentially reducing the convergence rate of those that remain applicable. Therefore, we here chose forward sensitivty analysis for the simulation part."
   ]
  },
  {
   "cell_type": "code",
   "execution_count": 25,
   "metadata": {},
   "outputs": [],
   "source": [
    "obj.amici_solver.setSensitivityMethod(amici.SensitivityMethod.forward)"
   ]
  },
  {
   "cell_type": "markdown",
   "metadata": {},
   "source": [
    "Another set of crucial parameters to tune are integration step limits and tolerances. Lower tolerances generally improve accuracy of the objective function and its derivatives, which influences local convergence rate and success <cite data-cite=\"2754712/RUR9I9SQ\"></cite> <cite data-cite=\"2754712/9T4L23VZ\"></cite>. However, lower tolerances also increases the computation time <cite data-cite=\"2754712/ICNACSXA\"></cite>, so fewer optimization iterations could easily be offsetted by longer compute times per iteration. Moreover, both integration tolerances and step limits influence numerical integrability <cite data-cite=\"2754712/ICNACSXA\"></cite>, which can lead to complications during optimization. For some optimizers, low step limits can prevent optimization from getting stuck in difficult to integrate parameter regions, but if parameters from these regions yield good fits to the data, this can also prevent optimization from reaching good fits. Accordingly, setting adequate values for step limits and tolerances is integral for model calibration. Nevertheless, there are little to no theoretical or practical guidelines on how to choose adequate values. Ranges of $10^{-8}$ to $10^{-12}$ are usually adequate <cite data-cite=\"2754712/ICNACSXA\"></cite>, but most of the time values are chosen and updated empirically. Here we chose tolerances of $10^{-12}$ and a step limit of $10^{5}$ integration steps, which is rather conservative, but ensures adequate local convergence."
   ]
  },
  {
   "cell_type": "code",
   "execution_count": 26,
   "metadata": {},
   "outputs": [],
   "source": [
    "obj.amici_solver.setAbsoluteTolerance(1e-12)\n",
    "obj.amici_solver.setRelativeTolerance(1e-12)\n",
    "obj.amici_solver.setMaxSteps(int(1e5))"
   ]
  },
  {
   "cell_type": "markdown",
   "metadata": {},
   "source": [
    "Even with tuned integration tolerances and step limits, integration failures which prevent evaluation of the objective function and it's derivatives is usually inevitable. While some optimizers are able to continue after integration failures by rejecting the respective parameter update, it is impossible to recover from an integration failure during initialization. To still ensure that a sufficient number number of optimization runs is performed, pyPESTO enables resampling of startpoints, which generates new startpoints until the objective function could be successfully evaluated at all starting points. In the following, we activate this behaviour by passing an [`OptimizeOptions`](https://pypesto.readthedocs.io/en/latest/api_optimize.html#pypesto.optimize.OptimizeOptions) object with the respective setting activated."
   ]
  },
  {
   "cell_type": "code",
   "execution_count": 27,
   "metadata": {},
   "outputs": [],
   "source": [
    "from pypesto.optimize import OptimizeOptions\n",
    "optimize_options = OptimizeOptions(startpoint_resample=True)"
   ]
  },
  {
   "cell_type": "markdown",
   "metadata": {},
   "source": [
    "Selecting an appropriate number of optimization runs can be challenging, but should generally be adapted to the downstream analysis. For example, when model selection or uncertainty analysis using profile likelihoods will be performed, it is crucial to ensure that optimization reaches a local optimum and that the local optimum is, or at least yields a fit equivalent to, the global optimum. This can be achieved by running many optimization runs and allocating large computational budgets for each run. For large models, the total computational budget usually is insufficient to achieve these goals and the number of runs and the computational budget has to be limited, with an unknown tradeoff between the two. To deal with this tradeoff, we will here use a two-staged approach where we first run many starts with a low computational budget of 10 minutes and will then select the most promising runs and continue optimization with a longer computational budget. For this purpose, we use the fides optimizer <cite data-cite=\"2754712/RUR9I9SQ\"></cite>, a high performance trust region optimizer permitting the direct specification of the computational budgets, which can be interfaced in pyPESTO using the [`FidesOptimizer`](https://pypesto.readthedocs.io/en/latest/api_optimize.html#pypesto.optimize.FidesOptimizer) class."
   ]
  },
  {
   "cell_type": "code",
   "execution_count": 28,
   "metadata": {},
   "outputs": [],
   "source": [
    "from pypesto.optimize import FidesOptimizer\n",
    "import fides\n",
    "\n",
    "optimizer = FidesOptimizer(options={fides.Options.MAXTIME: 600})"
   ]
  },
  {
   "cell_type": "markdown",
   "metadata": {},
   "source": [
    "Now we have everything at hand to run the first calibration stage. Here, we run 100 optimization runs with uniformly sampled starting points using the pyPESTO [`minimize`](https://pypesto.readthedocs.io/en/latest/api_optimize.html#pypesto.optimize.minimize) function. The calibration is parallelized using pyPESTOs [`MultiThreadEngine`](https://pypesto.readthedocs.io/en/latest/api_engine.html#pypesto.engine.MultiThreadEngine) with 4 threads."
   ]
  },
  {
   "cell_type": "code",
   "execution_count": null,
   "metadata": {
    "scrolled": true
   },
   "outputs": [
    {
     "name": "stderr",
     "output_type": "stream",
     "text": [
      "[Warning] AMICI:CVODES:CVode:WARNING: AMICI ERROR: in module CVODES in function CVode : Internal t = 0.0218958 and h = 1.29135e-18 are such that t + h = t on the next step. The solver will continue anyway. \n",
      "[Warning] AMICI:CVODES:CVode:WARNING: AMICI ERROR: in module CVODES in function CVode : Internal t = 0.0218958 and h = 1.29135e-18 are such that t + h = t on the next step. The solver will continue anyway. \n",
      "[Warning] AMICI:CVODES:CVode:WARNING: AMICI ERROR: in module CVODES in function CVode : Internal t = 0.0218958 and h = 1.29135e-18 are such that t + h = t on the next step. The solver will continue anyway. \n",
      "[Warning] AMICI:CVODES:CVode:WARNING: AMICI ERROR: in module CVODES in function CVode : Internal t = 0.0218958 and h = 1.29135e-18 are such that t + h = t on the next step. The solver will continue anyway. \n",
      "[Warning] AMICI:CVODES:CVode:WARNING: AMICI ERROR: in module CVODES in function CVode : Internal t = 0.0218958 and h = 1.29135e-18 are such that t + h = t on the next step. The solver will continue anyway. \n",
      "[Warning] AMICI:CVODES:CVode:WARNING: AMICI ERROR: in module CVODES in function CVode : Internal t = 0.0218958 and h = 1.29135e-18 are such that t + h = t on the next step. The solver will continue anyway. \n",
      "[Warning] AMICI:CVODES:CVode:WARNING: AMICI ERROR: in module CVODES in function CVode : Internal t = 0.0218958 and h = 1.29135e-18 are such that t + h = t on the next step. The solver will continue anyway. \n",
      "[Warning] AMICI:CVODES:CVode:WARNING: AMICI ERROR: in module CVODES in function CVode : Internal t = 0.0218958 and h = 1.29135e-18 are such that t + h = t on the next step. The solver will continue anyway. \n",
      "[Warning] AMICI:CVODES:CVode:WARNING: AMICI ERROR: in module CVODES in function CVode : Internal t = 0.0218958 and h = 1.29135e-18 are such that t + h = t on the next step. The solver will continue anyway. \n",
      "[Warning] AMICI:CVODES:CVode:WARNING: AMICI ERROR: in module CVODES in function CVode : Internal t = 0.0218958 and h = 1.29135e-18 are such that t + h = t on the next step. The solver will continue anyway. \n",
      "[Warning] AMICI:CVODES:CVode:WARNING: AMICI ERROR: in module CVODES in function CVode : The above warning has been issued mxhnil times and will not be issued again for this problem. \n",
      "[Warning] AMICI:Inf: AMICI encountered an Inf value at index 38/96 in fxdot!\n",
      "[Warning] AMICI:Inf: AMICI encountered an Inf value at index 38/96 in fxdot!\n",
      "[Warning] AMICI:Inf: AMICI encountered an Inf value at index 38/96 in fxdot!\n",
      "[Warning] AMICI:Inf: AMICI encountered an Inf value at index 38/96 in fxdot!\n",
      "[Warning] AMICI:Inf: AMICI encountered an Inf value at index 38/96 in fxdot!\n",
      "[Warning] AMICI:Inf: AMICI encountered an Inf value at index 38/96 in fxdot!\n",
      "[Warning] AMICI:Inf: AMICI encountered an Inf value at index 38/96 in fxdot!\n",
      "[Warning] AMICI:Inf: AMICI encountered an Inf value at index 38/96 in fxdot!\n",
      "[Warning] AMICI:Inf: AMICI encountered an Inf value at index 38/96 in fxdot!\n",
      "[Warning] AMICI:Inf: AMICI encountered an Inf value at index 38/96 in fxdot!\n",
      "[Warning] AMICI:Inf: AMICI encountered an Inf value at index 38/96 in fxdot!\n",
      "[Warning] AMICI:Inf: AMICI encountered an Inf value at index 38/96 in fxdot!\n",
      "[Warning] AMICI:Inf: AMICI encountered an Inf value at index 38/96 in fxdot!\n",
      "[Warning] AMICI:Inf: AMICI encountered an Inf value at index 38/96 in fxdot!\n",
      "[Warning] AMICI:Inf: AMICI encountered an Inf value at index 38/96 in fxdot!\n",
      "[Warning] AMICI:Inf: AMICI encountered an Inf value at index 38/96 in fxdot!\n",
      "[Warning] AMICI:Inf: AMICI encountered an Inf value at index 38/96 in fxdot!\n",
      "[Warning] AMICI:Inf: AMICI encountered an Inf value at index 38/96 in fxdot!\n",
      "[Warning] AMICI:Inf: AMICI encountered an Inf value at index 38/96 in fxdot!\n",
      "[Warning] AMICI:Inf: AMICI encountered an Inf value at index 38/96 in fxdot!\n",
      "[Warning] AMICI:Inf: AMICI encountered an Inf value at index 38/96 in fxdot!\n",
      "[Warning] AMICI:Inf: AMICI encountered an Inf value at index 38/96 in fxdot!\n",
      "[Warning] AMICI:Inf: AMICI encountered an Inf value at index 38/96 in fxdot!\n",
      "[Warning] AMICI:Inf: AMICI encountered an Inf value at index 38/96 in fxdot!\n",
      "[Warning] AMICI:Inf: AMICI encountered an Inf value at index 38/96 in fxdot!\n",
      "[Warning] AMICI:Inf: AMICI encountered an Inf value at index 38/96 in fxdot!\n",
      "[Warning] AMICI:Inf: AMICI encountered an Inf value at index 38/96 in fxdot!\n",
      "[Warning] AMICI:Inf: AMICI encountered an Inf value at index 38/96 in fxdot!\n",
      "[Warning] AMICI:Inf: AMICI encountered an Inf value at index 38/96 in fxdot!\n",
      "[Warning] AMICI:Inf: AMICI encountered an Inf value at index 38/96 in fxdot!\n",
      "[Warning] AMICI:Inf: AMICI encountered an Inf value at index 38/96 in fxdot!\n",
      "[Warning] AMICI:Inf: AMICI encountered an Inf value at index 38/96 in fxdot!\n",
      "[Warning] AMICI:Inf: AMICI encountered an Inf value at index 38/96 in fxdot!\n",
      "[Warning] AMICI:Inf: AMICI encountered an Inf value at index 38/96 in fxdot!\n",
      "[Warning] AMICI:Inf: AMICI encountered an Inf value at index 38/96 in fxdot!\n",
      "[Warning] AMICI:Inf: AMICI encountered an Inf value at index 38/96 in fxdot!\n",
      "[Warning] AMICI:Inf: AMICI encountered an Inf value at index 38/96 in fxdot!\n",
      "[Warning] AMICI:Inf: AMICI encountered an Inf value at index 38/96 in fxdot!\n",
      "[Warning] AMICI:Inf: AMICI encountered an Inf value at index 38/96 in fxdot!\n",
      "[Warning] AMICI:Inf: AMICI encountered an Inf value at index 38/96 in fxdot!\n",
      "[Warning] AMICI:Inf: AMICI encountered an Inf value at index 38/96 in fxdot!\n",
      "[Warning] AMICI:Inf: AMICI encountered an Inf value at index 38/96 in fxdot!\n",
      "[Warning] AMICI:Inf: AMICI encountered an Inf value at index 38/96 in fxdot!\n",
      "[Warning] AMICI:Inf: AMICI encountered an Inf value at index 38/96 in fxdot!\n",
      "[Warning] AMICI:Inf: AMICI encountered an Inf value at index 38/96 in fxdot!\n",
      "[Warning] AMICI:Inf: AMICI encountered an Inf value at index 38/96 in fxdot!\n",
      "[Warning] AMICI:Inf: AMICI encountered an Inf value at index 38/96 in fxdot!\n",
      "[Warning] AMICI:Inf: AMICI encountered an Inf value at index 38/96 in fxdot!\n",
      "[Warning] AMICI:Inf: AMICI encountered an Inf value at index 38/96 in fxdot!\n",
      "[Warning] AMICI:Inf: AMICI encountered an Inf value at index 38/96 in fxdot!\n",
      "[Warning] AMICI:Inf: AMICI encountered an Inf value at index 38/96 in fxdot!\n",
      "[Warning] AMICI:Inf: AMICI encountered an Inf value at index 38/96 in fxdot!\n",
      "[Warning] AMICI:Inf: AMICI encountered an Inf value at index 38/96 in fxdot!\n",
      "[Warning] AMICI:Inf: AMICI encountered an Inf value at index 38/96 in fxdot!\n",
      "[Warning] AMICI:Inf: AMICI encountered an Inf value at index 38/96 in fxdot!\n",
      "[Warning] AMICI:Inf: AMICI encountered an Inf value at index 38/96 in fxdot!\n",
      "[Warning] AMICI:Inf: AMICI encountered an Inf value at index 38/96 in fxdot!\n",
      "[Warning] AMICI:Inf: AMICI encountered an Inf value at index 38/96 in fxdot!\n",
      "[Warning] AMICI:Inf: AMICI encountered an Inf value at index 38/96 in fxdot!\n",
      "[Warning] AMICI:Inf: AMICI encountered an Inf value at index 38/96 in fxdot!\n",
      "[Warning] AMICI:Inf: AMICI encountered an Inf value at index 38/96 in fxdot!\n",
      "[Warning] AMICI:Inf: AMICI encountered an Inf value at index 38/96 in fxdot!\n",
      "[Warning] AMICI:Inf: AMICI encountered an Inf value at index 38/96 in fxdot!\n",
      "[Warning] AMICI:Inf: AMICI encountered an Inf value at index 38/96 in fxdot!\n",
      "[Warning] AMICI:Inf: AMICI encountered an Inf value at index 38/96 in fxdot!\n",
      "[Warning] AMICI:Inf: AMICI encountered an Inf value at index 38/96 in fxdot!\n",
      "[Warning] AMICI:Inf: AMICI encountered an Inf value at index 38/96 in fxdot!\n",
      "[Warning] AMICI:Inf: AMICI encountered an Inf value at index 38/96 in fxdot!\n",
      "[Warning] AMICI:Inf: AMICI encountered an Inf value at index 38/96 in fxdot!\n",
      "[Warning] AMICI:Inf: AMICI encountered an Inf value at index 38/96 in fxdot!\n",
      "[Warning] AMICI:Inf: AMICI encountered an Inf value at index 38/96 in fxdot!\n",
      "[Warning] AMICI:Inf: AMICI encountered an Inf value at index 38/96 in fxdot!\n",
      "[Warning] AMICI:Inf: AMICI encountered an Inf value at index 38/96 in fxdot!\n",
      "[Warning] AMICI:Inf: AMICI encountered an Inf value at index 38/96 in fxdot!\n",
      "[Warning] AMICI:Inf: AMICI encountered an Inf value at index 38/96 in fxdot!\n",
      "[Warning] AMICI:Inf: AMICI encountered an Inf value at index 38/96 in fxdot!\n",
      "[Warning] AMICI:Inf: AMICI encountered an Inf value at index 38/96 in fxdot!\n",
      "[Warning] AMICI:Inf: AMICI encountered an Inf value at index 38/96 in fxdot!\n"
     ]
    },
    {
     "name": "stderr",
     "output_type": "stream",
     "text": [
      "[Warning] AMICI:Inf: AMICI encountered an Inf value at index 38/96 in fxdot!\n",
      "[Warning] AMICI:Inf: AMICI encountered an Inf value at index 38/96 in fxdot!\n",
      "[Warning] AMICI:Inf: AMICI encountered an Inf value at index 38/96 in fxdot!\n",
      "[Warning] AMICI:Inf: AMICI encountered an Inf value at index 38/96 in fxdot!\n",
      "[Warning] AMICI:Inf: AMICI encountered an Inf value at index 38/96 in fxdot!\n",
      "[Warning] AMICI:Inf: AMICI encountered an Inf value at index 38/96 in fxdot!\n",
      "[Warning] AMICI:Inf: AMICI encountered an Inf value at index 38/96 in fxdot!\n",
      "[Warning] AMICI:Inf: AMICI encountered an Inf value at index 38/96 in fxdot!\n",
      "[Warning] AMICI:Inf: AMICI encountered an Inf value at index 38/96 in fxdot!\n",
      "[Warning] AMICI:Inf: AMICI encountered an Inf value at index 38/96 in fxdot!\n",
      "[Warning] AMICI:Inf: AMICI encountered an Inf value at index 38/96 in fxdot!\n",
      "[Warning] AMICI:Inf: AMICI encountered an Inf value at index 38/96 in fxdot!\n",
      "[Warning] AMICI:Inf: AMICI encountered an Inf value at index 38/96 in fxdot!\n",
      "[Warning] AMICI:Inf: AMICI encountered an Inf value at index 38/96 in fxdot!\n",
      "[Warning] AMICI:Inf: AMICI encountered an Inf value at index 38/96 in fxdot!\n",
      "[Warning] AMICI:Inf: AMICI encountered an Inf value at index 38/96 in fxdot!\n",
      "[Warning] AMICI:Inf: AMICI encountered an Inf value at index 38/96 in fxdot!\n",
      "[Warning] AMICI:Inf: AMICI encountered an Inf value at index 38/96 in fxdot!\n",
      "[Warning] AMICI:Inf: AMICI encountered an Inf value at index 38/96 in fxdot!\n",
      "[Warning] AMICI:Inf: AMICI encountered an Inf value at index 38/96 in fxdot!\n",
      "[Warning] AMICI:Inf: AMICI encountered an Inf value at index 38/96 in fxdot!\n",
      "[Warning] AMICI:Inf: AMICI encountered an Inf value at index 38/96 in fxdot!\n",
      "[Warning] AMICI:Inf: AMICI encountered an Inf value at index 38/96 in fxdot!\n",
      "[Warning] AMICI:Inf: AMICI encountered an Inf value at index 38/96 in fxdot!\n",
      "[Warning] AMICI:Inf: AMICI encountered an Inf value at index 38/96 in fxdot!\n",
      "[Warning] AMICI:Inf: AMICI encountered an Inf value at index 38/96 in fxdot!\n",
      "[Warning] AMICI:Inf: AMICI encountered an Inf value at index 38/96 in fxdot!\n",
      "[Warning] AMICI:Inf: AMICI encountered an Inf value at index 38/96 in fxdot!\n",
      "[Warning] AMICI:Inf: AMICI encountered an Inf value at index 38/96 in fxdot!\n",
      "[Warning] AMICI:Inf: AMICI encountered an Inf value at index 38/96 in fxdot!\n",
      "[Warning] AMICI:Inf: AMICI encountered an Inf value at index 38/96 in fxdot!\n",
      "[Warning] AMICI:Inf: AMICI encountered an Inf value at index 38/96 in fxdot!\n",
      "[Warning] AMICI:Inf: AMICI encountered an Inf value at index 38/96 in fxdot!\n",
      "[Warning] AMICI:Inf: AMICI encountered an Inf value at index 38/96 in fxdot!\n",
      "[Warning] AMICI:Inf: AMICI encountered an Inf value at index 38/96 in fxdot!\n",
      "[Warning] AMICI:Inf: AMICI encountered an Inf value at index 38/96 in fxdot!\n",
      "[Warning] AMICI:Inf: AMICI encountered an Inf value at index 38/96 in fxdot!\n",
      "[Warning] AMICI:Inf: AMICI encountered an Inf value at index 38/96 in fxdot!\n",
      "[Warning] AMICI:Inf: AMICI encountered an Inf value at index 38/96 in fxdot!\n",
      "[Warning] AMICI:Inf: AMICI encountered an Inf value at index 38/96 in fxdot!\n",
      "[Warning] AMICI:Inf: AMICI encountered an Inf value at index 38/96 in fxdot!\n",
      "[Warning] AMICI:Inf: AMICI encountered an Inf value at index 38/96 in fxdot!\n",
      "[Warning] AMICI:Inf: AMICI encountered an Inf value at index 38/96 in fxdot!\n",
      "[Warning] AMICI:Inf: AMICI encountered an Inf value at index 38/96 in fxdot!\n",
      "[Warning] AMICI:Inf: AMICI encountered an Inf value at index 38/96 in fxdot!\n",
      "[Warning] AMICI:Inf: AMICI encountered an Inf value at index 38/96 in fxdot!\n",
      "[Warning] AMICI:Inf: AMICI encountered an Inf value at index 38/96 in fxdot!\n",
      "[Warning] AMICI:Inf: AMICI encountered an Inf value at index 38/96 in fxdot!\n",
      "[Warning] AMICI:Inf: AMICI encountered an Inf value at index 38/96 in fxdot!\n",
      "[Warning] AMICI:Inf: AMICI encountered an Inf value at index 38/96 in fxdot!\n",
      "[Warning] AMICI:Inf: AMICI encountered an Inf value at index 38/96 in fxdot!\n",
      "[Warning] AMICI:Inf: AMICI encountered an Inf value at index 38/96 in fxdot!\n",
      "[Warning] AMICI:Inf: AMICI encountered an Inf value at index 38/96 in fxdot!\n",
      "[Warning] AMICI:Inf: AMICI encountered an Inf value at index 38/96 in fxdot!\n",
      "[Warning] AMICI:Inf: AMICI encountered an Inf value at index 38/96 in fxdot!\n",
      "[Warning] AMICI:Inf: AMICI encountered an Inf value at index 38/96 in fxdot!\n",
      "[Warning] AMICI:Inf: AMICI encountered an Inf value at index 38/96 in fxdot!\n",
      "[Warning] AMICI:Inf: AMICI encountered an Inf value at index 38/96 in fxdot!\n",
      "[Warning] AMICI:Inf: AMICI encountered an Inf value at index 38/96 in fxdot!\n",
      "[Warning] AMICI:Inf: AMICI encountered an Inf value at index 38/96 in fxdot!\n",
      "[Warning] AMICI:Inf: AMICI encountered an Inf value at index 38/96 in fxdot!\n",
      "[Warning] AMICI:Inf: AMICI encountered an Inf value at index 38/96 in fxdot!\n",
      "[Warning] AMICI:Inf: AMICI encountered an Inf value at index 38/96 in fxdot!\n",
      "[Warning] AMICI:Inf: AMICI encountered an Inf value at index 38/96 in fxdot!\n",
      "[Warning] AMICI:Inf: AMICI encountered an Inf value at index 38/96 in fxdot!\n",
      "[Warning] AMICI:Inf: AMICI encountered an Inf value at index 38/96 in fxdot!\n",
      "[Warning] AMICI:Inf: AMICI encountered an Inf value at index 38/96 in fxdot!\n",
      "[Warning] AMICI:Inf: AMICI encountered an Inf value at index 38/96 in fxdot!\n",
      "[Warning] AMICI:Inf: AMICI encountered an Inf value at index 38/96 in fxdot!\n",
      "[Warning] AMICI:Inf: AMICI encountered an Inf value at index 38/96 in fxdot!\n",
      "[Warning] AMICI:Inf: AMICI encountered an Inf value at index 38/96 in fxdot!\n",
      "[Warning] AMICI:Inf: AMICI encountered an Inf value at index 38/96 in fxdot!\n",
      "[Warning] AMICI:Inf: AMICI encountered an Inf value at index 38/96 in fxdot!\n",
      "[Warning] AMICI:Inf: AMICI encountered an Inf value at index 38/96 in fxdot!\n",
      "[Warning] AMICI:Inf: AMICI encountered an Inf value at index 38/96 in fxdot!\n",
      "[Warning] AMICI:Inf: AMICI encountered an Inf value at index 38/96 in fxdot!\n",
      "[Warning] AMICI:Inf: AMICI encountered an Inf value at index 38/96 in fxdot!\n",
      "[Warning] AMICI:Inf: AMICI encountered an Inf value at index 38/96 in fxdot!\n",
      "[Warning] AMICI:Inf: AMICI encountered an Inf value at index 38/96 in fxdot!\n",
      "[Warning] AMICI:Inf: AMICI encountered an Inf value at index 38/96 in fxdot!\n",
      "[Warning] AMICI:Inf: AMICI encountered an Inf value at index 38/96 in fxdot!\n",
      "[Warning] AMICI:Inf: AMICI encountered an Inf value at index 38/96 in fxdot!\n",
      "[Warning] AMICI:Inf: AMICI encountered an Inf value at index 38/96 in fxdot!\n",
      "[Warning] AMICI:Inf: AMICI encountered an Inf value at index 38/96 in fxdot!\n",
      "[Warning] AMICI:Inf: AMICI encountered an Inf value at index 38/96 in fxdot!\n",
      "[Warning] AMICI:Inf: AMICI encountered an Inf value at index 38/96 in fxdot!\n",
      "[Warning] AMICI:Inf: AMICI encountered an Inf value at index 38/96 in fxdot!\n",
      "[Warning] AMICI:Inf: AMICI encountered an Inf value at index 38/96 in fxdot!\n",
      "[Warning] AMICI:Inf: AMICI encountered an Inf value at index 38/96 in fxdot!\n",
      "[Warning] AMICI:Inf: AMICI encountered an Inf value at index 38/96 in fxdot!\n",
      "[Warning] AMICI:Inf: AMICI encountered an Inf value at index 38/96 in fxdot!\n",
      "[Warning] AMICI:Inf: AMICI encountered an Inf value at index 38/96 in fxdot!\n",
      "[Warning] AMICI:Inf: AMICI encountered an Inf value at index 38/96 in fxdot!\n",
      "[Warning] AMICI:Inf: AMICI encountered an Inf value at index 38/96 in fxdot!\n",
      "[Warning] AMICI:Inf: AMICI encountered an Inf value at index 38/96 in fxdot!\n",
      "[Warning] AMICI:Inf: AMICI encountered an Inf value at index 38/96 in fxdot!\n",
      "[Warning] AMICI:Inf: AMICI encountered an Inf value at index 38/96 in fxdot!\n",
      "[Warning] AMICI:Inf: AMICI encountered an Inf value at index 38/96 in fxdot!\n",
      "[Warning] AMICI:Inf: AMICI encountered an Inf value at index 38/96 in fxdot!\n",
      "[Warning] AMICI:Inf: AMICI encountered an Inf value at index 38/96 in fxdot!\n",
      "[Warning] AMICI:Inf: AMICI encountered an Inf value at index 38/96 in fxdot!\n",
      "[Warning] AMICI:Inf: AMICI encountered an Inf value at index 38/96 in fxdot!\n",
      "[Warning] AMICI:Inf: AMICI encountered an Inf value at index 38/96 in fxdot!\n",
      "[Warning] AMICI:Inf: AMICI encountered an Inf value at index 38/96 in fxdot!\n",
      "[Warning] AMICI:Inf: AMICI encountered an Inf value at index 38/96 in fxdot!\n",
      "[Warning] AMICI:Inf: AMICI encountered an Inf value at index 38/96 in fxdot!\n",
      "[Warning] AMICI:Inf: AMICI encountered an Inf value at index 38/96 in fxdot!\n",
      "[Warning] AMICI:Inf: AMICI encountered an Inf value at index 38/96 in fxdot!\n",
      "[Warning] AMICI:Inf: AMICI encountered an Inf value at index 38/96 in fxdot!\n",
      "[Warning] AMICI:Inf: AMICI encountered an Inf value at index 38/96 in fxdot!\n",
      "[Warning] AMICI:Inf: AMICI encountered an Inf value at index 38/96 in fxdot!\n",
      "[Warning] AMICI:Inf: AMICI encountered an Inf value at index 38/96 in fxdot!\n",
      "[Warning] AMICI:Inf: AMICI encountered an Inf value at index 38/96 in fxdot!\n",
      "[Warning] AMICI:Inf: AMICI encountered an Inf value at index 38/96 in fxdot!\n"
     ]
    },
    {
     "name": "stderr",
     "output_type": "stream",
     "text": [
      "[Warning] AMICI:Inf: AMICI encountered an Inf value at index 38/96 in fxdot!\n",
      "[Warning] AMICI:Inf: AMICI encountered an Inf value at index 38/96 in fxdot!\n",
      "[Warning] AMICI:Inf: AMICI encountered an Inf value at index 38/96 in fxdot!\n",
      "[Warning] AMICI:Inf: AMICI encountered an Inf value at index 38/96 in fxdot!\n",
      "[Warning] AMICI:Inf: AMICI encountered an Inf value at index 38/96 in fxdot!\n",
      "[Warning] AMICI:Inf: AMICI encountered an Inf value at index 38/96 in fxdot!\n",
      "[Warning] AMICI:Inf: AMICI encountered an Inf value at index 38/96 in fxdot!\n",
      "[Warning] AMICI:Inf: AMICI encountered an Inf value at index 38/96 in fxdot!\n",
      "[Warning] AMICI:Inf: AMICI encountered an Inf value at index 38/96 in fxdot!\n",
      "[Warning] AMICI:Inf: AMICI encountered an Inf value at index 38/96 in fxdot!\n",
      "[Warning] AMICI:Inf: AMICI encountered an Inf value at index 38/96 in fxdot!\n",
      "[Warning] AMICI:Inf: AMICI encountered an Inf value at index 38/96 in fxdot!\n",
      "[Warning] AMICI:Inf: AMICI encountered an Inf value at index 38/96 in fxdot!\n",
      "[Warning] AMICI:Inf: AMICI encountered an Inf value at index 38/96 in fxdot!\n",
      "[Warning] AMICI:Inf: AMICI encountered an Inf value at index 38/96 in fxdot!\n",
      "[Warning] AMICI:Inf: AMICI encountered an Inf value at index 38/96 in fxdot!\n",
      "[Warning] AMICI:Inf: AMICI encountered an Inf value at index 38/96 in fxdot!\n",
      "[Warning] AMICI:Inf: AMICI encountered an Inf value at index 38/96 in fxdot!\n",
      "[Warning] AMICI:Inf: AMICI encountered an Inf value at index 38/96 in fxdot!\n",
      "[Warning] AMICI:Inf: AMICI encountered an Inf value at index 38/96 in fxdot!\n",
      "[Warning] AMICI:Inf: AMICI encountered an Inf value at index 38/96 in fxdot!\n",
      "[Warning] AMICI:Inf: AMICI encountered an Inf value at index 38/96 in fxdot!\n",
      "[Warning] AMICI:Inf: AMICI encountered an Inf value at index 38/96 in fxdot!\n",
      "[Warning] AMICI:Inf: AMICI encountered an Inf value at index 38/96 in fxdot!\n",
      "[Warning] AMICI:Inf: AMICI encountered an Inf value at index 38/96 in fxdot!\n",
      "[Warning] AMICI:Inf: AMICI encountered an Inf value at index 38/96 in fxdot!\n",
      "[Warning] AMICI:Inf: AMICI encountered an Inf value at index 38/96 in fxdot!\n",
      "[Warning] AMICI:Inf: AMICI encountered an Inf value at index 38/96 in fxdot!\n",
      "[Warning] AMICI:Inf: AMICI encountered an Inf value at index 38/96 in fxdot!\n",
      "[Warning] AMICI:Inf: AMICI encountered an Inf value at index 38/96 in fxdot!\n",
      "[Warning] AMICI:Inf: AMICI encountered an Inf value at index 38/96 in fxdot!\n",
      "[Warning] AMICI:Inf: AMICI encountered an Inf value at index 38/96 in fxdot!\n",
      "[Warning] AMICI:Inf: AMICI encountered an Inf value at index 38/96 in fxdot!\n",
      "[Warning] AMICI:Inf: AMICI encountered an Inf value at index 38/96 in fxdot!\n",
      "[Warning] AMICI:Inf: AMICI encountered an Inf value at index 38/96 in fxdot!\n",
      "[Warning] AMICI:Inf: AMICI encountered an Inf value at index 38/96 in fxdot!\n",
      "[Warning] AMICI:Inf: AMICI encountered an Inf value at index 38/96 in fxdot!\n",
      "[Warning] AMICI:Inf: AMICI encountered an Inf value at index 38/96 in fxdot!\n",
      "[Warning] AMICI:Inf: AMICI encountered an Inf value at index 38/96 in fxdot!\n",
      "[Warning] AMICI:Inf: AMICI encountered an Inf value at index 38/96 in fxdot!\n",
      "[Warning] AMICI:Inf: AMICI encountered an Inf value at index 38/96 in fxdot!\n",
      "[Warning] AMICI:Inf: AMICI encountered an Inf value at index 38/96 in fxdot!\n",
      "[Warning] AMICI:Inf: AMICI encountered an Inf value at index 38/96 in fxdot!\n",
      "[Warning] AMICI:Inf: AMICI encountered an Inf value at index 38/96 in fxdot!\n",
      "[Warning] AMICI:Inf: AMICI encountered an Inf value at index 38/96 in fxdot!\n",
      "[Warning] AMICI:Inf: AMICI encountered an Inf value at index 38/96 in fxdot!\n",
      "[Warning] AMICI:Inf: AMICI encountered an Inf value at index 38/96 in fxdot!\n",
      "[Warning] AMICI:Inf: AMICI encountered an Inf value at index 38/96 in fxdot!\n",
      "[Warning] AMICI:Inf: AMICI encountered an Inf value at index 38/96 in fxdot!\n",
      "[Warning] AMICI:Inf: AMICI encountered an Inf value at index 38/96 in fxdot!\n",
      "[Warning] AMICI:Inf: AMICI encountered an Inf value at index 38/96 in fxdot!\n",
      "[Warning] AMICI:Inf: AMICI encountered an Inf value at index 38/96 in fxdot!\n",
      "[Warning] AMICI:Inf: AMICI encountered an Inf value at index 38/96 in fxdot!\n",
      "[Warning] AMICI:Inf: AMICI encountered an Inf value at index 38/96 in fxdot!\n",
      "[Warning] AMICI:Inf: AMICI encountered an Inf value at index 38/96 in fxdot!\n",
      "[Warning] AMICI:Inf: AMICI encountered an Inf value at index 38/96 in fxdot!\n",
      "[Warning] AMICI:Inf: AMICI encountered an Inf value at index 38/96 in fxdot!\n",
      "[Warning] AMICI:Inf: AMICI encountered an Inf value at index 38/96 in fxdot!\n",
      "[Warning] AMICI:Inf: AMICI encountered an Inf value at index 38/96 in fxdot!\n",
      "[Warning] AMICI:Inf: AMICI encountered an Inf value at index 38/96 in fxdot!\n",
      "[Warning] AMICI:Inf: AMICI encountered an Inf value at index 38/96 in fxdot!\n",
      "[Warning] AMICI:Inf: AMICI encountered an Inf value at index 38/96 in fxdot!\n",
      "[Warning] AMICI:Inf: AMICI encountered an Inf value at index 38/96 in fxdot!\n",
      "[Warning] AMICI:Inf: AMICI encountered an Inf value at index 38/96 in fxdot!\n",
      "[Warning] AMICI:Inf: AMICI encountered an Inf value at index 38/96 in fxdot!\n",
      "[Warning] AMICI:Inf: AMICI encountered an Inf value at index 38/96 in fxdot!\n",
      "[Warning] AMICI:Inf: AMICI encountered an Inf value at index 38/96 in fxdot!\n",
      "[Warning] AMICI:Inf: AMICI encountered an Inf value at index 38/96 in fxdot!\n",
      "[Warning] AMICI:Inf: AMICI encountered an Inf value at index 38/96 in fxdot!\n",
      "[Warning] AMICI:Inf: AMICI encountered an Inf value at index 38/96 in fxdot!\n",
      "[Warning] AMICI:Inf: AMICI encountered an Inf value at index 38/96 in fxdot!\n",
      "[Warning] AMICI:Inf: AMICI encountered an Inf value at index 38/96 in fxdot!\n",
      "[Warning] AMICI:Inf: AMICI encountered an Inf value at index 38/96 in fxdot!\n",
      "[Warning] AMICI:Inf: AMICI encountered an Inf value at index 38/96 in fxdot!\n",
      "[Warning] AMICI:Inf: AMICI encountered an Inf value at index 38/96 in fxdot!\n",
      "[Warning] AMICI:Inf: AMICI encountered an Inf value at index 38/96 in fxdot!\n",
      "[Warning] AMICI:Inf: AMICI encountered an Inf value at index 38/96 in fxdot!\n",
      "[Warning] AMICI:Inf: AMICI encountered an Inf value at index 38/96 in fxdot!\n",
      "[Warning] AMICI:Inf: AMICI encountered an Inf value at index 38/96 in fxdot!\n",
      "[Warning] AMICI:Inf: AMICI encountered an Inf value at index 38/96 in fxdot!\n",
      "[Warning] AMICI:Inf: AMICI encountered an Inf value at index 38/96 in fxdot!\n",
      "[Warning] AMICI:Inf: AMICI encountered an Inf value at index 38/96 in fxdot!\n",
      "[Warning] AMICI:Inf: AMICI encountered an Inf value at index 38/96 in fxdot!\n",
      "[Warning] AMICI:Inf: AMICI encountered an Inf value at index 38/96 in fxdot!\n",
      "[Warning] AMICI:Inf: AMICI encountered an Inf value at index 38/96 in fxdot!\n",
      "[Warning] AMICI:Inf: AMICI encountered an Inf value at index 38/96 in fxdot!\n",
      "[Warning] AMICI:Inf: AMICI encountered an Inf value at index 38/96 in fxdot!\n",
      "[Warning] AMICI:Inf: AMICI encountered an Inf value at index 38/96 in fxdot!\n",
      "[Warning] AMICI:Inf: AMICI encountered an Inf value at index 38/96 in fxdot!\n",
      "[Warning] AMICI:Inf: AMICI encountered an Inf value at index 38/96 in fxdot!\n",
      "[Warning] AMICI:Inf: AMICI encountered an Inf value at index 38/96 in fxdot!\n",
      "[Warning] AMICI:Inf: AMICI encountered an Inf value at index 38/96 in fxdot!\n",
      "[Warning] AMICI:Inf: AMICI encountered an Inf value at index 38/96 in fxdot!\n",
      "[Warning] AMICI:Inf: AMICI encountered an Inf value at index 38/96 in fxdot!\n",
      "[Warning] AMICI:Inf: AMICI encountered an Inf value at index 38/96 in fxdot!\n",
      "[Warning] AMICI:Inf: AMICI encountered an Inf value at index 38/96 in fxdot!\n",
      "[Warning] AMICI:Inf: AMICI encountered an Inf value at index 38/96 in fxdot!\n",
      "[Warning] AMICI:Inf: AMICI encountered an Inf value at index 38/96 in fxdot!\n",
      "[Warning] AMICI:Inf: AMICI encountered an Inf value at index 38/96 in fxdot!\n",
      "[Warning] AMICI:Inf: AMICI encountered an Inf value at index 38/96 in fxdot!\n",
      "[Warning] AMICI:Inf: AMICI encountered an Inf value at index 38/96 in fxdot!\n",
      "[Warning] AMICI:Inf: AMICI encountered an Inf value at index 38/96 in fxdot!\n",
      "[Warning] AMICI:Inf: AMICI encountered an Inf value at index 38/96 in fxdot!\n",
      "[Warning] AMICI:Inf: AMICI encountered an Inf value at index 38/96 in fxdot!\n",
      "[Warning] AMICI:Inf: AMICI encountered an Inf value at index 38/96 in fxdot!\n",
      "[Warning] AMICI:Inf: AMICI encountered an Inf value at index 38/96 in fxdot!\n",
      "[Warning] AMICI:Inf: AMICI encountered an Inf value at index 38/96 in fxdot!\n",
      "[Warning] AMICI:Inf: AMICI encountered an Inf value at index 38/96 in fxdot!\n",
      "[Warning] AMICI:Inf: AMICI encountered an Inf value at index 38/96 in fxdot!\n",
      "[Warning] AMICI:Inf: AMICI encountered an Inf value at index 38/96 in fxdot!\n",
      "[Warning] AMICI:Inf: AMICI encountered an Inf value at index 38/96 in fxdot!\n",
      "[Warning] AMICI:Inf: AMICI encountered an Inf value at index 38/96 in fxdot!\n",
      "[Warning] AMICI:Inf: AMICI encountered an Inf value at index 38/96 in fxdot!\n",
      "[Warning] AMICI:Inf: AMICI encountered an Inf value at index 38/96 in fxdot!\n",
      "[Warning] AMICI:Inf: AMICI encountered an Inf value at index 38/96 in fxdot!\n"
     ]
    },
    {
     "name": "stderr",
     "output_type": "stream",
     "text": [
      "[Warning] AMICI:Inf: AMICI encountered an Inf value at index 38/96 in fxdot!\n",
      "[Warning] AMICI:Inf: AMICI encountered an Inf value at index 38/96 in fxdot!\n",
      "[Warning] AMICI:Inf: AMICI encountered an Inf value at index 38/96 in fxdot!\n",
      "[Warning] AMICI:Inf: AMICI encountered an Inf value at index 38/96 in fxdot!\n",
      "[Warning] AMICI:Inf: AMICI encountered an Inf value at index 38/96 in fxdot!\n",
      "[Warning] AMICI:Inf: AMICI encountered an Inf value at index 38/96 in fxdot!\n",
      "[Warning] AMICI:Inf: AMICI encountered an Inf value at index 38/96 in fxdot!\n",
      "[Warning] AMICI:Inf: AMICI encountered an Inf value at index 38/96 in fxdot!\n",
      "[Warning] AMICI:Inf: AMICI encountered an Inf value at index 38/96 in fxdot!\n",
      "[Warning] AMICI:Inf: AMICI encountered an Inf value at index 38/96 in fxdot!\n",
      "[Warning] AMICI:Inf: AMICI encountered an Inf value at index 38/96 in fxdot!\n",
      "[Warning] AMICI:Inf: AMICI encountered an Inf value at index 38/96 in fxdot!\n",
      "[Warning] AMICI:Inf: AMICI encountered an Inf value at index 38/96 in fxdot!\n",
      "[Warning] AMICI:Inf: AMICI encountered an Inf value at index 38/96 in fxdot!\n",
      "[Warning] AMICI:Inf: AMICI encountered an Inf value at index 38/96 in fxdot!\n",
      "[Warning] AMICI:Inf: AMICI encountered an Inf value at index 38/96 in fxdot!\n",
      "[Warning] AMICI:Inf: AMICI encountered an Inf value at index 38/96 in fxdot!\n",
      "[Warning] AMICI:Inf: AMICI encountered an Inf value at index 38/96 in fxdot!\n",
      "[Warning] AMICI:Inf: AMICI encountered an Inf value at index 38/96 in fxdot!\n",
      "[Warning] AMICI:Inf: AMICI encountered an Inf value at index 38/96 in fxdot!\n",
      "[Warning] AMICI:Inf: AMICI encountered an Inf value at index 38/96 in fxdot!\n",
      "[Warning] AMICI:Inf: AMICI encountered an Inf value at index 38/96 in fxdot!\n",
      "[Warning] AMICI:Inf: AMICI encountered an Inf value at index 38/96 in fxdot!\n",
      "[Warning] AMICI:Inf: AMICI encountered an Inf value at index 38/96 in fxdot!\n",
      "[Warning] AMICI:Inf: AMICI encountered an Inf value at index 38/96 in fxdot!\n",
      "[Warning] AMICI:Inf: AMICI encountered an Inf value at index 38/96 in fxdot!\n",
      "[Warning] AMICI:Inf: AMICI encountered an Inf value at index 38/96 in fxdot!\n",
      "[Warning] AMICI:Inf: AMICI encountered an Inf value at index 38/96 in fxdot!\n",
      "[Warning] AMICI:Inf: AMICI encountered an Inf value at index 38/96 in fxdot!\n",
      "[Warning] AMICI:CVODES:CVode:OTHER: AMICI ERROR: in module CVODES in function CVode : At t = 0.0218958 repeated recoverable right-hand side function errors. \n",
      "[Warning] AMICI:simulation: AMICI forward simulation failed at t = 0.021896:\n",
      "AMICI failed to integrate the forward problem\n",
      "\n",
      "[Warning] AMICI:CVODES:CVode:WARNING: AMICI ERROR: in module CVODES in function CVode : Internal t = 8.0876e-06 and h = 7.76547e-22 are such that t + h = t on the next step. The solver will continue anyway. \n",
      "[Warning] AMICI:CVODES:CVode:WARNING: AMICI ERROR: in module CVODES in function CVode : Internal t = 8.0876e-06 and h = 7.76547e-22 are such that t + h = t on the next step. The solver will continue anyway. \n",
      "[Warning] AMICI:CVODES:CVode:WARNING: AMICI ERROR: in module CVODES in function CVode : Internal t = 8.0876e-06 and h = 7.76547e-22 are such that t + h = t on the next step. The solver will continue anyway. \n",
      "[Warning] AMICI:CVODES:CVode:WARNING: AMICI ERROR: in module CVODES in function CVode : Internal t = 8.0876e-06 and h = 7.76547e-22 are such that t + h = t on the next step. The solver will continue anyway. \n",
      "[Warning] AMICI:CVODES:CVode:WARNING: AMICI ERROR: in module CVODES in function CVode : Internal t = 8.0876e-06 and h = 7.76547e-22 are such that t + h = t on the next step. The solver will continue anyway. \n",
      "[Warning] AMICI:CVODES:CVode:WARNING: AMICI ERROR: in module CVODES in function CVode : Internal t = 8.0876e-06 and h = 7.76547e-22 are such that t + h = t on the next step. The solver will continue anyway. \n",
      "[Warning] AMICI:CVODES:CVode:WARNING: AMICI ERROR: in module CVODES in function CVode : Internal t = 8.0876e-06 and h = 7.76547e-22 are such that t + h = t on the next step. The solver will continue anyway. \n",
      "[Warning] AMICI:CVODES:CVode:WARNING: AMICI ERROR: in module CVODES in function CVode : Internal t = 8.0876e-06 and h = 7.76547e-22 are such that t + h = t on the next step. The solver will continue anyway. \n",
      "[Warning] AMICI:CVODES:CVode:WARNING: AMICI ERROR: in module CVODES in function CVode : Internal t = 8.0876e-06 and h = 7.76547e-22 are such that t + h = t on the next step. The solver will continue anyway. \n",
      "[Warning] AMICI:CVODES:CVode:WARNING: AMICI ERROR: in module CVODES in function CVode : Internal t = 8.0876e-06 and h = 7.76547e-22 are such that t + h = t on the next step. The solver will continue anyway. \n",
      "[Warning] AMICI:CVODES:CVode:WARNING: AMICI ERROR: in module CVODES in function CVode : The above warning has been issued mxhnil times and will not be issued again for this problem. \n",
      "[Warning] AMICI:Inf: AMICI encountered an Inf value at index 38/96 in fxdot!\n",
      "[Warning] AMICI:Inf: AMICI encountered an Inf value at index 38/96 in fxdot!\n",
      "[Warning] AMICI:Inf: AMICI encountered an Inf value at index 38/96 in fxdot!\n",
      "[Warning] AMICI:Inf: AMICI encountered an Inf value at index 38/96 in fxdot!\n",
      "[Warning] AMICI:Inf: AMICI encountered an Inf value at index 38/96 in fxdot!\n",
      "[Warning] AMICI:Inf: AMICI encountered an Inf value at index 38/96 in fxdot!\n",
      "[Warning] AMICI:Inf: AMICI encountered an Inf value at index 38/96 in fxdot!\n",
      "[Warning] AMICI:Inf: AMICI encountered an Inf value at index 38/96 in fxdot!\n",
      "[Warning] AMICI:Inf: AMICI encountered an Inf value at index 38/96 in fxdot!\n",
      "[Warning] AMICI:Inf: AMICI encountered an Inf value at index 38/96 in fxdot!\n",
      "[Warning] AMICI:Inf: AMICI encountered an Inf value at index 38/96 in fxdot!\n",
      "[Warning] AMICI:Inf: AMICI encountered an Inf value at index 38/96 in fxdot!\n",
      "[Warning] AMICI:Inf: AMICI encountered an Inf value at index 38/96 in fxdot!\n",
      "[Warning] AMICI:Inf: AMICI encountered an Inf value at index 38/96 in fxdot!\n",
      "[Warning] AMICI:Inf: AMICI encountered an Inf value at index 38/96 in fxdot!\n",
      "[Warning] AMICI:Inf: AMICI encountered an Inf value at index 38/96 in fxdot!\n",
      "[Warning] AMICI:Inf: AMICI encountered an Inf value at index 38/96 in fxdot!\n",
      "[Warning] AMICI:Inf: AMICI encountered an Inf value at index 38/96 in fxdot!\n",
      "[Warning] AMICI:Inf: AMICI encountered an Inf value at index 38/96 in fxdot!\n",
      "[Warning] AMICI:Inf: AMICI encountered an Inf value at index 38/96 in fxdot!\n",
      "[Warning] AMICI:Inf: AMICI encountered an Inf value at index 38/96 in fxdot!\n",
      "[Warning] AMICI:Inf: AMICI encountered an Inf value at index 38/96 in fxdot!\n",
      "[Warning] AMICI:Inf: AMICI encountered an Inf value at index 38/96 in fxdot!\n",
      "[Warning] AMICI:Inf: AMICI encountered an Inf value at index 38/96 in fxdot!\n",
      "[Warning] AMICI:Inf: AMICI encountered an Inf value at index 38/96 in fxdot!\n",
      "[Warning] AMICI:Inf: AMICI encountered an Inf value at index 38/96 in fxdot!\n",
      "[Warning] AMICI:Inf: AMICI encountered an Inf value at index 38/96 in fxdot!\n",
      "[Warning] AMICI:Inf: AMICI encountered an Inf value at index 38/96 in fxdot!\n",
      "[Warning] AMICI:Inf: AMICI encountered an Inf value at index 38/96 in fxdot!\n",
      "[Warning] AMICI:Inf: AMICI encountered an Inf value at index 38/96 in fxdot!\n",
      "[Warning] AMICI:Inf: AMICI encountered an Inf value at index 38/96 in fxdot!\n",
      "[Warning] AMICI:Inf: AMICI encountered an Inf value at index 38/96 in fxdot!\n",
      "[Warning] AMICI:Inf: AMICI encountered an Inf value at index 38/96 in fxdot!\n",
      "[Warning] AMICI:Inf: AMICI encountered an Inf value at index 38/96 in fxdot!\n",
      "[Warning] AMICI:Inf: AMICI encountered an Inf value at index 38/96 in fxdot!\n",
      "[Warning] AMICI:Inf: AMICI encountered an Inf value at index 38/96 in fxdot!\n",
      "[Warning] AMICI:Inf: AMICI encountered an Inf value at index 38/96 in fxdot!\n",
      "[Warning] AMICI:Inf: AMICI encountered an Inf value at index 38/96 in fxdot!\n",
      "[Warning] AMICI:Inf: AMICI encountered an Inf value at index 38/96 in fxdot!\n",
      "[Warning] AMICI:Inf: AMICI encountered an Inf value at index 38/96 in fxdot!\n",
      "[Warning] AMICI:Inf: AMICI encountered an Inf value at index 38/96 in fxdot!\n",
      "[Warning] AMICI:Inf: AMICI encountered an Inf value at index 38/96 in fxdot!\n",
      "[Warning] AMICI:Inf: AMICI encountered an Inf value at index 38/96 in fxdot!\n",
      "[Warning] AMICI:Inf: AMICI encountered an Inf value at index 38/96 in fxdot!\n",
      "[Warning] AMICI:Inf: AMICI encountered an Inf value at index 38/96 in fxdot!\n",
      "[Warning] AMICI:Inf: AMICI encountered an Inf value at index 38/96 in fxdot!\n",
      "[Warning] AMICI:Inf: AMICI encountered an Inf value at index 38/96 in fxdot!\n",
      "[Warning] AMICI:Inf: AMICI encountered an Inf value at index 38/96 in fxdot!\n",
      "[Warning] AMICI:Inf: AMICI encountered an Inf value at index 38/96 in fxdot!\n",
      "[Warning] AMICI:Inf: AMICI encountered an Inf value at index 38/96 in fxdot!\n",
      "[Warning] AMICI:Inf: AMICI encountered an Inf value at index 38/96 in fxdot!\n",
      "[Warning] AMICI:Inf: AMICI encountered an Inf value at index 38/96 in fxdot!\n",
      "[Warning] AMICI:Inf: AMICI encountered an Inf value at index 38/96 in fxdot!\n",
      "[Warning] AMICI:Inf: AMICI encountered an Inf value at index 38/96 in fxdot!\n",
      "[Warning] AMICI:Inf: AMICI encountered an Inf value at index 38/96 in fxdot!\n",
      "[Warning] AMICI:Inf: AMICI encountered an Inf value at index 38/96 in fxdot!\n",
      "[Warning] AMICI:Inf: AMICI encountered an Inf value at index 38/96 in fxdot!\n",
      "[Warning] AMICI:Inf: AMICI encountered an Inf value at index 38/96 in fxdot!\n",
      "[Warning] AMICI:Inf: AMICI encountered an Inf value at index 38/96 in fxdot!\n",
      "[Warning] AMICI:Inf: AMICI encountered an Inf value at index 38/96 in fxdot!\n",
      "[Warning] AMICI:Inf: AMICI encountered an Inf value at index 38/96 in fxdot!\n",
      "[Warning] AMICI:Inf: AMICI encountered an Inf value at index 38/96 in fxdot!\n",
      "[Warning] AMICI:Inf: AMICI encountered an Inf value at index 38/96 in fxdot!\n",
      "[Warning] AMICI:Inf: AMICI encountered an Inf value at index 38/96 in fxdot!\n",
      "[Warning] AMICI:Inf: AMICI encountered an Inf value at index 38/96 in fxdot!\n",
      "[Warning] AMICI:Inf: AMICI encountered an Inf value at index 38/96 in fxdot!\n",
      "[Warning] AMICI:Inf: AMICI encountered an Inf value at index 38/96 in fxdot!\n",
      "[Warning] AMICI:Inf: AMICI encountered an Inf value at index 38/96 in fxdot!\n",
      "[Warning] AMICI:Inf: AMICI encountered an Inf value at index 38/96 in fxdot!\n"
     ]
    },
    {
     "name": "stderr",
     "output_type": "stream",
     "text": [
      "[Warning] AMICI:Inf: AMICI encountered an Inf value at index 38/96 in fxdot!\n",
      "[Warning] AMICI:Inf: AMICI encountered an Inf value at index 38/96 in fxdot!\n",
      "[Warning] AMICI:Inf: AMICI encountered an Inf value at index 38/96 in fxdot!\n",
      "[Warning] AMICI:Inf: AMICI encountered an Inf value at index 38/96 in fxdot!\n",
      "[Warning] AMICI:Inf: AMICI encountered an Inf value at index 38/96 in fxdot!\n",
      "[Warning] AMICI:Inf: AMICI encountered an Inf value at index 38/96 in fxdot!\n",
      "[Warning] AMICI:Inf: AMICI encountered an Inf value at index 38/96 in fxdot!\n",
      "[Warning] AMICI:Inf: AMICI encountered an Inf value at index 38/96 in fxdot!\n",
      "[Warning] AMICI:Inf: AMICI encountered an Inf value at index 38/96 in fxdot!\n",
      "[Warning] AMICI:Inf: AMICI encountered an Inf value at index 38/96 in fxdot!\n",
      "[Warning] AMICI:Inf: AMICI encountered an Inf value at index 38/96 in fxdot!\n",
      "[Warning] AMICI:Inf: AMICI encountered an Inf value at index 38/96 in fxdot!\n",
      "[Warning] AMICI:Inf: AMICI encountered an Inf value at index 38/96 in fxdot!\n",
      "[Warning] AMICI:Inf: AMICI encountered an Inf value at index 38/96 in fxdot!\n",
      "[Warning] AMICI:Inf: AMICI encountered an Inf value at index 38/96 in fxdot!\n",
      "[Warning] AMICI:Inf: AMICI encountered an Inf value at index 38/96 in fxdot!\n",
      "[Warning] AMICI:Inf: AMICI encountered an Inf value at index 38/96 in fxdot!\n",
      "[Warning] AMICI:Inf: AMICI encountered an Inf value at index 38/96 in fxdot!\n",
      "[Warning] AMICI:Inf: AMICI encountered an Inf value at index 38/96 in fxdot!\n",
      "[Warning] AMICI:Inf: AMICI encountered an Inf value at index 38/96 in fxdot!\n",
      "[Warning] AMICI:Inf: AMICI encountered an Inf value at index 38/96 in fxdot!\n",
      "[Warning] AMICI:Inf: AMICI encountered an Inf value at index 38/96 in fxdot!\n",
      "[Warning] AMICI:Inf: AMICI encountered an Inf value at index 38/96 in fxdot!\n",
      "[Warning] AMICI:Inf: AMICI encountered an Inf value at index 38/96 in fxdot!\n",
      "[Warning] AMICI:Inf: AMICI encountered an Inf value at index 38/96 in fxdot!\n",
      "[Warning] AMICI:Inf: AMICI encountered an Inf value at index 38/96 in fxdot!\n",
      "[Warning] AMICI:Inf: AMICI encountered an Inf value at index 38/96 in fxdot!\n",
      "[Warning] AMICI:Inf: AMICI encountered an Inf value at index 38/96 in fxdot!\n",
      "[Warning] AMICI:Inf: AMICI encountered an Inf value at index 38/96 in fxdot!\n",
      "[Warning] AMICI:Inf: AMICI encountered an Inf value at index 38/96 in fxdot!\n",
      "[Warning] AMICI:Inf: AMICI encountered an Inf value at index 38/96 in fxdot!\n",
      "[Warning] AMICI:Inf: AMICI encountered an Inf value at index 38/96 in fxdot!\n",
      "[Warning] AMICI:Inf: AMICI encountered an Inf value at index 38/96 in fxdot!\n",
      "[Warning] AMICI:Inf: AMICI encountered an Inf value at index 38/96 in fxdot!\n",
      "[Warning] AMICI:Inf: AMICI encountered an Inf value at index 38/96 in fxdot!\n",
      "[Warning] AMICI:Inf: AMICI encountered an Inf value at index 38/96 in fxdot!\n",
      "[Warning] AMICI:Inf: AMICI encountered an Inf value at index 38/96 in fxdot!\n",
      "[Warning] AMICI:Inf: AMICI encountered an Inf value at index 38/96 in fxdot!\n",
      "[Warning] AMICI:Inf: AMICI encountered an Inf value at index 38/96 in fxdot!\n",
      "[Warning] AMICI:Inf: AMICI encountered an Inf value at index 38/96 in fxdot!\n",
      "[Warning] AMICI:Inf: AMICI encountered an Inf value at index 38/96 in fxdot!\n",
      "[Warning] AMICI:Inf: AMICI encountered an Inf value at index 38/96 in fxdot!\n",
      "[Warning] AMICI:Inf: AMICI encountered an Inf value at index 38/96 in fxdot!\n",
      "[Warning] AMICI:Inf: AMICI encountered an Inf value at index 38/96 in fxdot!\n",
      "[Warning] AMICI:Inf: AMICI encountered an Inf value at index 38/96 in fxdot!\n",
      "[Warning] AMICI:Inf: AMICI encountered an Inf value at index 38/96 in fxdot!\n",
      "[Warning] AMICI:Inf: AMICI encountered an Inf value at index 38/96 in fxdot!\n",
      "[Warning] AMICI:Inf: AMICI encountered an Inf value at index 38/96 in fxdot!\n",
      "[Warning] AMICI:Inf: AMICI encountered an Inf value at index 38/96 in fxdot!\n",
      "[Warning] AMICI:Inf: AMICI encountered an Inf value at index 38/96 in fxdot!\n",
      "[Warning] AMICI:Inf: AMICI encountered an Inf value at index 38/96 in fxdot!\n",
      "[Warning] AMICI:Inf: AMICI encountered an Inf value at index 38/96 in fxdot!\n",
      "[Warning] AMICI:Inf: AMICI encountered an Inf value at index 38/96 in fxdot!\n",
      "[Warning] AMICI:Inf: AMICI encountered an Inf value at index 38/96 in fxdot!\n",
      "[Warning] AMICI:Inf: AMICI encountered an Inf value at index 38/96 in fxdot!\n",
      "[Warning] AMICI:Inf: AMICI encountered an Inf value at index 38/96 in fxdot!\n",
      "[Warning] AMICI:Inf: AMICI encountered an Inf value at index 38/96 in fxdot!\n",
      "[Warning] AMICI:Inf: AMICI encountered an Inf value at index 38/96 in fxdot!\n",
      "[Warning] AMICI:Inf: AMICI encountered an Inf value at index 38/96 in fxdot!\n",
      "[Warning] AMICI:Inf: AMICI encountered an Inf value at index 38/96 in fxdot!\n",
      "[Warning] AMICI:Inf: AMICI encountered an Inf value at index 38/96 in fxdot!\n",
      "[Warning] AMICI:Inf: AMICI encountered an Inf value at index 38/96 in fxdot!\n",
      "[Warning] AMICI:Inf: AMICI encountered an Inf value at index 38/96 in fxdot!\n",
      "[Warning] AMICI:Inf: AMICI encountered an Inf value at index 38/96 in fxdot!\n",
      "[Warning] AMICI:Inf: AMICI encountered an Inf value at index 38/96 in fxdot!\n",
      "[Warning] AMICI:Inf: AMICI encountered an Inf value at index 38/96 in fxdot!\n",
      "[Warning] AMICI:Inf: AMICI encountered an Inf value at index 38/96 in fxdot!\n",
      "[Warning] AMICI:Inf: AMICI encountered an Inf value at index 38/96 in fxdot!\n",
      "[Warning] AMICI:Inf: AMICI encountered an Inf value at index 38/96 in fxdot!\n",
      "[Warning] AMICI:Inf: AMICI encountered an Inf value at index 38/96 in fxdot!\n",
      "[Warning] AMICI:Inf: AMICI encountered an Inf value at index 38/96 in fxdot!\n",
      "[Warning] AMICI:Inf: AMICI encountered an Inf value at index 38/96 in fxdot!\n",
      "[Warning] AMICI:Inf: AMICI encountered an Inf value at index 38/96 in fxdot!\n",
      "[Warning] AMICI:Inf: AMICI encountered an Inf value at index 38/96 in fxdot!\n",
      "[Warning] AMICI:Inf: AMICI encountered an Inf value at index 38/96 in fxdot!\n",
      "[Warning] AMICI:Inf: AMICI encountered an Inf value at index 38/96 in fxdot!\n",
      "[Warning] AMICI:Inf: AMICI encountered an Inf value at index 38/96 in fxdot!\n",
      "[Warning] AMICI:Inf: AMICI encountered an Inf value at index 38/96 in fxdot!\n",
      "[Warning] AMICI:Inf: AMICI encountered an Inf value at index 38/96 in fxdot!\n",
      "[Warning] AMICI:Inf: AMICI encountered an Inf value at index 38/96 in fxdot!\n",
      "[Warning] AMICI:Inf: AMICI encountered an Inf value at index 38/96 in fxdot!\n",
      "[Warning] AMICI:Inf: AMICI encountered an Inf value at index 38/96 in fxdot!\n",
      "[Warning] AMICI:Inf: AMICI encountered an Inf value at index 38/96 in fxdot!\n",
      "[Warning] AMICI:Inf: AMICI encountered an Inf value at index 38/96 in fxdot!\n",
      "[Warning] AMICI:Inf: AMICI encountered an Inf value at index 38/96 in fxdot!\n",
      "[Warning] AMICI:Inf: AMICI encountered an Inf value at index 38/96 in fxdot!\n",
      "[Warning] AMICI:Inf: AMICI encountered an Inf value at index 38/96 in fxdot!\n",
      "[Warning] AMICI:Inf: AMICI encountered an Inf value at index 38/96 in fxdot!\n",
      "[Warning] AMICI:Inf: AMICI encountered an Inf value at index 38/96 in fxdot!\n",
      "[Warning] AMICI:Inf: AMICI encountered an Inf value at index 38/96 in fxdot!\n",
      "[Warning] AMICI:Inf: AMICI encountered an Inf value at index 38/96 in fxdot!\n",
      "[Warning] AMICI:Inf: AMICI encountered an Inf value at index 38/96 in fxdot!\n",
      "[Warning] AMICI:Inf: AMICI encountered an Inf value at index 38/96 in fxdot!\n",
      "[Warning] AMICI:Inf: AMICI encountered an Inf value at index 38/96 in fxdot!\n",
      "[Warning] AMICI:Inf: AMICI encountered an Inf value at index 38/96 in fxdot!\n",
      "[Warning] AMICI:Inf: AMICI encountered an Inf value at index 38/96 in fxdot!\n",
      "[Warning] AMICI:Inf: AMICI encountered an Inf value at index 38/96 in fxdot!\n",
      "[Warning] AMICI:Inf: AMICI encountered an Inf value at index 38/96 in fxdot!\n",
      "[Warning] AMICI:Inf: AMICI encountered an Inf value at index 38/96 in fxdot!\n",
      "[Warning] AMICI:Inf: AMICI encountered an Inf value at index 38/96 in fxdot!\n",
      "[Warning] AMICI:Inf: AMICI encountered an Inf value at index 38/96 in fxdot!\n",
      "[Warning] AMICI:Inf: AMICI encountered an Inf value at index 38/96 in fxdot!\n",
      "[Warning] AMICI:Inf: AMICI encountered an Inf value at index 38/96 in fxdot!\n",
      "[Warning] AMICI:Inf: AMICI encountered an Inf value at index 38/96 in fxdot!\n",
      "[Warning] AMICI:Inf: AMICI encountered an Inf value at index 38/96 in fxdot!\n",
      "[Warning] AMICI:Inf: AMICI encountered an Inf value at index 38/96 in fxdot!\n",
      "[Warning] AMICI:Inf: AMICI encountered an Inf value at index 38/96 in fxdot!\n",
      "[Warning] AMICI:Inf: AMICI encountered an Inf value at index 38/96 in fxdot!\n",
      "[Warning] AMICI:Inf: AMICI encountered an Inf value at index 38/96 in fxdot!\n",
      "[Warning] AMICI:Inf: AMICI encountered an Inf value at index 38/96 in fxdot!\n",
      "[Warning] AMICI:Inf: AMICI encountered an Inf value at index 38/96 in fxdot!\n",
      "[Warning] AMICI:Inf: AMICI encountered an Inf value at index 38/96 in fxdot!\n",
      "[Warning] AMICI:Inf: AMICI encountered an Inf value at index 38/96 in fxdot!\n",
      "[Warning] AMICI:Inf: AMICI encountered an Inf value at index 38/96 in fxdot!\n",
      "[Warning] AMICI:Inf: AMICI encountered an Inf value at index 38/96 in fxdot!\n"
     ]
    },
    {
     "name": "stderr",
     "output_type": "stream",
     "text": [
      "[Warning] AMICI:Inf: AMICI encountered an Inf value at index 38/96 in fxdot!\n",
      "[Warning] AMICI:Inf: AMICI encountered an Inf value at index 38/96 in fxdot!\n",
      "[Warning] AMICI:Inf: AMICI encountered an Inf value at index 38/96 in fxdot!\n",
      "[Warning] AMICI:Inf: AMICI encountered an Inf value at index 38/96 in fxdot!\n",
      "[Warning] AMICI:Inf: AMICI encountered an Inf value at index 38/96 in fxdot!\n",
      "[Warning] AMICI:Inf: AMICI encountered an Inf value at index 38/96 in fxdot!\n",
      "[Warning] AMICI:Inf: AMICI encountered an Inf value at index 38/96 in fxdot!\n",
      "[Warning] AMICI:Inf: AMICI encountered an Inf value at index 38/96 in fxdot!\n",
      "[Warning] AMICI:Inf: AMICI encountered an Inf value at index 38/96 in fxdot!\n",
      "[Warning] AMICI:Inf: AMICI encountered an Inf value at index 38/96 in fxdot!\n",
      "[Warning] AMICI:Inf: AMICI encountered an Inf value at index 38/96 in fxdot!\n",
      "[Warning] AMICI:Inf: AMICI encountered an Inf value at index 38/96 in fxdot!\n",
      "[Warning] AMICI:Inf: AMICI encountered an Inf value at index 38/96 in fxdot!\n",
      "[Warning] AMICI:Inf: AMICI encountered an Inf value at index 38/96 in fxdot!\n",
      "[Warning] AMICI:Inf: AMICI encountered an Inf value at index 38/96 in fxdot!\n",
      "[Warning] AMICI:Inf: AMICI encountered an Inf value at index 38/96 in fxdot!\n",
      "[Warning] AMICI:Inf: AMICI encountered an Inf value at index 38/96 in fxdot!\n",
      "[Warning] AMICI:Inf: AMICI encountered an Inf value at index 38/96 in fxdot!\n",
      "[Warning] AMICI:Inf: AMICI encountered an Inf value at index 38/96 in fxdot!\n",
      "[Warning] AMICI:Inf: AMICI encountered an Inf value at index 38/96 in fxdot!\n",
      "[Warning] AMICI:Inf: AMICI encountered an Inf value at index 38/96 in fxdot!\n",
      "[Warning] AMICI:Inf: AMICI encountered an Inf value at index 38/96 in fxdot!\n",
      "[Warning] AMICI:Inf: AMICI encountered an Inf value at index 38/96 in fxdot!\n",
      "[Warning] AMICI:Inf: AMICI encountered an Inf value at index 38/96 in fxdot!\n",
      "[Warning] AMICI:Inf: AMICI encountered an Inf value at index 38/96 in fxdot!\n",
      "[Warning] AMICI:Inf: AMICI encountered an Inf value at index 38/96 in fxdot!\n",
      "[Warning] AMICI:Inf: AMICI encountered an Inf value at index 38/96 in fxdot!\n",
      "[Warning] AMICI:Inf: AMICI encountered an Inf value at index 38/96 in fxdot!\n",
      "[Warning] AMICI:Inf: AMICI encountered an Inf value at index 38/96 in fxdot!\n",
      "[Warning] AMICI:Inf: AMICI encountered an Inf value at index 38/96 in fxdot!\n",
      "[Warning] AMICI:Inf: AMICI encountered an Inf value at index 38/96 in fxdot!\n",
      "[Warning] AMICI:Inf: AMICI encountered an Inf value at index 38/96 in fxdot!\n",
      "[Warning] AMICI:Inf: AMICI encountered an Inf value at index 38/96 in fxdot!\n",
      "[Warning] AMICI:Inf: AMICI encountered an Inf value at index 38/96 in fxdot!\n",
      "[Warning] AMICI:Inf: AMICI encountered an Inf value at index 38/96 in fxdot!\n",
      "[Warning] AMICI:Inf: AMICI encountered an Inf value at index 38/96 in fxdot!\n",
      "[Warning] AMICI:Inf: AMICI encountered an Inf value at index 38/96 in fxdot!\n",
      "[Warning] AMICI:Inf: AMICI encountered an Inf value at index 38/96 in fxdot!\n",
      "[Warning] AMICI:Inf: AMICI encountered an Inf value at index 38/96 in fxdot!\n",
      "[Warning] AMICI:Inf: AMICI encountered an Inf value at index 38/96 in fxdot!\n",
      "[Warning] AMICI:Inf: AMICI encountered an Inf value at index 38/96 in fxdot!\n",
      "[Warning] AMICI:Inf: AMICI encountered an Inf value at index 38/96 in fxdot!\n",
      "[Warning] AMICI:Inf: AMICI encountered an Inf value at index 38/96 in fxdot!\n",
      "[Warning] AMICI:Inf: AMICI encountered an Inf value at index 38/96 in fxdot!\n",
      "[Warning] AMICI:Inf: AMICI encountered an Inf value at index 38/96 in fxdot!\n",
      "[Warning] AMICI:Inf: AMICI encountered an Inf value at index 38/96 in fxdot!\n",
      "[Warning] AMICI:Inf: AMICI encountered an Inf value at index 38/96 in fxdot!\n",
      "[Warning] AMICI:Inf: AMICI encountered an Inf value at index 38/96 in fxdot!\n",
      "[Warning] AMICI:Inf: AMICI encountered an Inf value at index 38/96 in fxdot!\n",
      "[Warning] AMICI:Inf: AMICI encountered an Inf value at index 38/96 in fxdot!\n",
      "[Warning] AMICI:Inf: AMICI encountered an Inf value at index 38/96 in fxdot!\n",
      "[Warning] AMICI:Inf: AMICI encountered an Inf value at index 38/96 in fxdot!\n",
      "[Warning] AMICI:Inf: AMICI encountered an Inf value at index 38/96 in fxdot!\n",
      "[Warning] AMICI:Inf: AMICI encountered an Inf value at index 38/96 in fxdot!\n",
      "[Warning] AMICI:Inf: AMICI encountered an Inf value at index 38/96 in fxdot!\n",
      "[Warning] AMICI:Inf: AMICI encountered an Inf value at index 38/96 in fxdot!\n",
      "[Warning] AMICI:Inf: AMICI encountered an Inf value at index 38/96 in fxdot!\n",
      "[Warning] AMICI:Inf: AMICI encountered an Inf value at index 38/96 in fxdot!\n",
      "[Warning] AMICI:Inf: AMICI encountered an Inf value at index 38/96 in fxdot!\n",
      "[Warning] AMICI:Inf: AMICI encountered an Inf value at index 38/96 in fxdot!\n",
      "[Warning] AMICI:Inf: AMICI encountered an Inf value at index 38/96 in fxdot!\n",
      "[Warning] AMICI:Inf: AMICI encountered an Inf value at index 38/96 in fxdot!\n",
      "[Warning] AMICI:Inf: AMICI encountered an Inf value at index 38/96 in fxdot!\n",
      "[Warning] AMICI:Inf: AMICI encountered an Inf value at index 38/96 in fxdot!\n",
      "[Warning] AMICI:Inf: AMICI encountered an Inf value at index 38/96 in fxdot!\n",
      "[Warning] AMICI:Inf: AMICI encountered an Inf value at index 38/96 in fxdot!\n",
      "[Warning] AMICI:Inf: AMICI encountered an Inf value at index 38/96 in fxdot!\n",
      "[Warning] AMICI:Inf: AMICI encountered an Inf value at index 38/96 in fxdot!\n",
      "[Warning] AMICI:Inf: AMICI encountered an Inf value at index 38/96 in fxdot!\n",
      "[Warning] AMICI:Inf: AMICI encountered an Inf value at index 38/96 in fxdot!\n",
      "[Warning] AMICI:Inf: AMICI encountered an Inf value at index 38/96 in fxdot!\n",
      "[Warning] AMICI:Inf: AMICI encountered an Inf value at index 38/96 in fxdot!\n",
      "[Warning] AMICI:Inf: AMICI encountered an Inf value at index 38/96 in fxdot!\n",
      "[Warning] AMICI:Inf: AMICI encountered an Inf value at index 38/96 in fxdot!\n",
      "[Warning] AMICI:Inf: AMICI encountered an Inf value at index 38/96 in fxdot!\n",
      "[Warning] AMICI:Inf: AMICI encountered an Inf value at index 38/96 in fxdot!\n",
      "[Warning] AMICI:Inf: AMICI encountered an Inf value at index 38/96 in fxdot!\n",
      "[Warning] AMICI:Inf: AMICI encountered an Inf value at index 38/96 in fxdot!\n",
      "[Warning] AMICI:Inf: AMICI encountered an Inf value at index 38/96 in fxdot!\n",
      "[Warning] AMICI:Inf: AMICI encountered an Inf value at index 38/96 in fxdot!\n",
      "[Warning] AMICI:Inf: AMICI encountered an Inf value at index 38/96 in fxdot!\n",
      "[Warning] AMICI:Inf: AMICI encountered an Inf value at index 38/96 in fxdot!\n",
      "[Warning] AMICI:Inf: AMICI encountered an Inf value at index 38/96 in fxdot!\n",
      "[Warning] AMICI:Inf: AMICI encountered an Inf value at index 38/96 in fxdot!\n",
      "[Warning] AMICI:Inf: AMICI encountered an Inf value at index 38/96 in fxdot!\n",
      "[Warning] AMICI:Inf: AMICI encountered an Inf value at index 38/96 in fxdot!\n",
      "[Warning] AMICI:Inf: AMICI encountered an Inf value at index 38/96 in fxdot!\n",
      "[Warning] AMICI:Inf: AMICI encountered an Inf value at index 38/96 in fxdot!\n",
      "[Warning] AMICI:Inf: AMICI encountered an Inf value at index 38/96 in fxdot!\n",
      "[Warning] AMICI:Inf: AMICI encountered an Inf value at index 38/96 in fxdot!\n",
      "[Warning] AMICI:Inf: AMICI encountered an Inf value at index 38/96 in fxdot!\n",
      "[Warning] AMICI:Inf: AMICI encountered an Inf value at index 38/96 in fxdot!\n",
      "[Warning] AMICI:Inf: AMICI encountered an Inf value at index 38/96 in fxdot!\n",
      "[Warning] AMICI:Inf: AMICI encountered an Inf value at index 38/96 in fxdot!\n",
      "[Warning] AMICI:Inf: AMICI encountered an Inf value at index 38/96 in fxdot!\n",
      "[Warning] AMICI:Inf: AMICI encountered an Inf value at index 38/96 in fxdot!\n",
      "[Warning] AMICI:Inf: AMICI encountered an Inf value at index 38/96 in fxdot!\n",
      "[Warning] AMICI:Inf: AMICI encountered an Inf value at index 38/96 in fxdot!\n",
      "[Warning] AMICI:Inf: AMICI encountered an Inf value at index 38/96 in fxdot!\n",
      "[Warning] AMICI:Inf: AMICI encountered an Inf value at index 38/96 in fxdot!\n",
      "[Warning] AMICI:Inf: AMICI encountered an Inf value at index 38/96 in fxdot!\n",
      "[Warning] AMICI:Inf: AMICI encountered an Inf value at index 38/96 in fxdot!\n",
      "[Warning] AMICI:Inf: AMICI encountered an Inf value at index 38/96 in fxdot!\n",
      "[Warning] AMICI:Inf: AMICI encountered an Inf value at index 38/96 in fxdot!\n",
      "[Warning] AMICI:Inf: AMICI encountered an Inf value at index 38/96 in fxdot!\n",
      "[Warning] AMICI:Inf: AMICI encountered an Inf value at index 38/96 in fxdot!\n",
      "[Warning] AMICI:Inf: AMICI encountered an Inf value at index 38/96 in fxdot!\n",
      "[Warning] AMICI:Inf: AMICI encountered an Inf value at index 38/96 in fxdot!\n",
      "[Warning] AMICI:Inf: AMICI encountered an Inf value at index 38/96 in fxdot!\n",
      "[Warning] AMICI:Inf: AMICI encountered an Inf value at index 38/96 in fxdot!\n",
      "[Warning] AMICI:Inf: AMICI encountered an Inf value at index 38/96 in fxdot!\n",
      "[Warning] AMICI:Inf: AMICI encountered an Inf value at index 38/96 in fxdot!\n",
      "[Warning] AMICI:Inf: AMICI encountered an Inf value at index 38/96 in fxdot!\n",
      "[Warning] AMICI:Inf: AMICI encountered an Inf value at index 38/96 in fxdot!\n"
     ]
    },
    {
     "name": "stderr",
     "output_type": "stream",
     "text": [
      "[Warning] AMICI:Inf: AMICI encountered an Inf value at index 38/96 in fxdot!\n",
      "[Warning] AMICI:Inf: AMICI encountered an Inf value at index 38/96 in fxdot!\n",
      "[Warning] AMICI:Inf: AMICI encountered an Inf value at index 38/96 in fxdot!\n",
      "[Warning] AMICI:Inf: AMICI encountered an Inf value at index 38/96 in fxdot!\n",
      "[Warning] AMICI:Inf: AMICI encountered an Inf value at index 38/96 in fxdot!\n",
      "[Warning] AMICI:Inf: AMICI encountered an Inf value at index 38/96 in fxdot!\n",
      "[Warning] AMICI:Inf: AMICI encountered an Inf value at index 38/96 in fxdot!\n",
      "[Warning] AMICI:Inf: AMICI encountered an Inf value at index 38/96 in fxdot!\n",
      "[Warning] AMICI:Inf: AMICI encountered an Inf value at index 38/96 in fxdot!\n",
      "[Warning] AMICI:Inf: AMICI encountered an Inf value at index 38/96 in fxdot!\n",
      "[Warning] AMICI:Inf: AMICI encountered an Inf value at index 38/96 in fxdot!\n",
      "[Warning] AMICI:Inf: AMICI encountered an Inf value at index 38/96 in fxdot!\n",
      "[Warning] AMICI:Inf: AMICI encountered an Inf value at index 38/96 in fxdot!\n",
      "[Warning] AMICI:Inf: AMICI encountered an Inf value at index 38/96 in fxdot!\n",
      "[Warning] AMICI:Inf: AMICI encountered an Inf value at index 38/96 in fxdot!\n",
      "[Warning] AMICI:Inf: AMICI encountered an Inf value at index 38/96 in fxdot!\n",
      "[Warning] AMICI:Inf: AMICI encountered an Inf value at index 38/96 in fxdot!\n",
      "[Warning] AMICI:Inf: AMICI encountered an Inf value at index 38/96 in fxdot!\n",
      "[Warning] AMICI:Inf: AMICI encountered an Inf value at index 38/96 in fxdot!\n",
      "[Warning] AMICI:Inf: AMICI encountered an Inf value at index 38/96 in fxdot!\n",
      "[Warning] AMICI:Inf: AMICI encountered an Inf value at index 38/96 in fxdot!\n",
      "[Warning] AMICI:Inf: AMICI encountered an Inf value at index 38/96 in fxdot!\n",
      "[Warning] AMICI:Inf: AMICI encountered an Inf value at index 38/96 in fxdot!\n",
      "[Warning] AMICI:Inf: AMICI encountered an Inf value at index 38/96 in fxdot!\n",
      "[Warning] AMICI:Inf: AMICI encountered an Inf value at index 38/96 in fxdot!\n",
      "[Warning] AMICI:Inf: AMICI encountered an Inf value at index 38/96 in fxdot!\n",
      "[Warning] AMICI:Inf: AMICI encountered an Inf value at index 38/96 in fxdot!\n",
      "[Warning] AMICI:Inf: AMICI encountered an Inf value at index 38/96 in fxdot!\n",
      "[Warning] AMICI:Inf: AMICI encountered an Inf value at index 38/96 in fxdot!\n",
      "[Warning] AMICI:Inf: AMICI encountered an Inf value at index 38/96 in fxdot!\n",
      "[Warning] AMICI:Inf: AMICI encountered an Inf value at index 38/96 in fxdot!\n",
      "[Warning] AMICI:Inf: AMICI encountered an Inf value at index 38/96 in fxdot!\n",
      "[Warning] AMICI:Inf: AMICI encountered an Inf value at index 38/96 in fxdot!\n",
      "[Warning] AMICI:Inf: AMICI encountered an Inf value at index 38/96 in fxdot!\n",
      "[Warning] AMICI:Inf: AMICI encountered an Inf value at index 38/96 in fxdot!\n",
      "[Warning] AMICI:Inf: AMICI encountered an Inf value at index 38/96 in fxdot!\n",
      "[Warning] AMICI:Inf: AMICI encountered an Inf value at index 38/96 in fxdot!\n",
      "[Warning] AMICI:Inf: AMICI encountered an Inf value at index 38/96 in fxdot!\n",
      "[Warning] AMICI:Inf: AMICI encountered an Inf value at index 38/96 in fxdot!\n",
      "[Warning] AMICI:Inf: AMICI encountered an Inf value at index 38/96 in fxdot!\n",
      "[Warning] AMICI:Inf: AMICI encountered an Inf value at index 38/96 in fxdot!\n",
      "[Warning] AMICI:Inf: AMICI encountered an Inf value at index 38/96 in fxdot!\n",
      "[Warning] AMICI:Inf: AMICI encountered an Inf value at index 38/96 in fxdot!\n",
      "[Warning] AMICI:Inf: AMICI encountered an Inf value at index 38/96 in fxdot!\n",
      "[Warning] AMICI:Inf: AMICI encountered an Inf value at index 38/96 in fxdot!\n",
      "[Warning] AMICI:Inf: AMICI encountered an Inf value at index 38/96 in fxdot!\n",
      "[Warning] AMICI:Inf: AMICI encountered an Inf value at index 38/96 in fxdot!\n",
      "[Warning] AMICI:Inf: AMICI encountered an Inf value at index 38/96 in fxdot!\n",
      "[Warning] AMICI:Inf: AMICI encountered an Inf value at index 38/96 in fxdot!\n",
      "[Warning] AMICI:Inf: AMICI encountered an Inf value at index 38/96 in fxdot!\n",
      "[Warning] AMICI:Inf: AMICI encountered an Inf value at index 38/96 in fxdot!\n",
      "[Warning] AMICI:Inf: AMICI encountered an Inf value at index 38/96 in fxdot!\n",
      "[Warning] AMICI:Inf: AMICI encountered an Inf value at index 38/96 in fxdot!\n",
      "[Warning] AMICI:Inf: AMICI encountered an Inf value at index 38/96 in fxdot!\n",
      "[Warning] AMICI:Inf: AMICI encountered an Inf value at index 38/96 in fxdot!\n",
      "[Warning] AMICI:Inf: AMICI encountered an Inf value at index 38/96 in fxdot!\n",
      "[Warning] AMICI:Inf: AMICI encountered an Inf value at index 38/96 in fxdot!\n",
      "[Warning] AMICI:Inf: AMICI encountered an Inf value at index 38/96 in fxdot!\n",
      "[Warning] AMICI:Inf: AMICI encountered an Inf value at index 38/96 in fxdot!\n",
      "[Warning] AMICI:Inf: AMICI encountered an Inf value at index 38/96 in fxdot!\n",
      "[Warning] AMICI:Inf: AMICI encountered an Inf value at index 38/96 in fxdot!\n",
      "[Warning] AMICI:CVODES:CVode:OTHER: AMICI ERROR: in module CVODES in function CVode : At t = 8.0876e-06 repeated recoverable right-hand side function errors. \n",
      "[Warning] AMICI:simulation: AMICI forward simulation failed at t = 0.000008:\n",
      "AMICI failed to integrate the forward problem\n",
      "\n",
      "[Warning] AMICI:CVODES:CVode:WARNING: AMICI ERROR: in module CVODES in function CVode : Internal t = 4.30617 and h = 4.13512e-16 are such that t + h = t on the next step. The solver will continue anyway. \n",
      "[Warning] AMICI:CVODES:CVode:WARNING: AMICI ERROR: in module CVODES in function CVode : Internal t = 4.30617 and h = 4.13512e-16 are such that t + h = t on the next step. The solver will continue anyway. \n",
      "[Warning] AMICI:CVODES:CVode:WARNING: AMICI ERROR: in module CVODES in function CVode : Internal t = 4.30617 and h = 4.13512e-16 are such that t + h = t on the next step. The solver will continue anyway. \n",
      "[Warning] AMICI:CVODES:CVode:WARNING: AMICI ERROR: in module CVODES in function CVode : Internal t = 4.30617 and h = 4.13512e-16 are such that t + h = t on the next step. The solver will continue anyway. \n",
      "[Warning] AMICI:CVODES:CVode:WARNING: AMICI ERROR: in module CVODES in function CVode : Internal t = 4.30617 and h = 4.13512e-16 are such that t + h = t on the next step. The solver will continue anyway. \n",
      "[Warning] AMICI:CVODES:CVode:WARNING: AMICI ERROR: in module CVODES in function CVode : Internal t = 4.30617 and h = 4.13512e-16 are such that t + h = t on the next step. The solver will continue anyway. \n",
      "[Warning] AMICI:CVODES:CVode:WARNING: AMICI ERROR: in module CVODES in function CVode : Internal t = 4.30617 and h = 4.13512e-16 are such that t + h = t on the next step. The solver will continue anyway. \n",
      "[Warning] AMICI:CVODES:CVode:WARNING: AMICI ERROR: in module CVODES in function CVode : Internal t = 4.30617 and h = 4.13512e-16 are such that t + h = t on the next step. The solver will continue anyway. \n",
      "[Warning] AMICI:CVODES:CVode:WARNING: AMICI ERROR: in module CVODES in function CVode : Internal t = 4.30617 and h = 4.13512e-16 are such that t + h = t on the next step. The solver will continue anyway. \n",
      "[Warning] AMICI:CVODES:CVode:WARNING: AMICI ERROR: in module CVODES in function CVode : Internal t = 4.30617 and h = 4.13512e-16 are such that t + h = t on the next step. The solver will continue anyway. \n",
      "[Warning] AMICI:CVODES:CVode:WARNING: AMICI ERROR: in module CVODES in function CVode : The above warning has been issued mxhnil times and will not be issued again for this problem. \n",
      "[Warning] AMICI:Inf: AMICI encountered an Inf value at index 8/96 in fxdot!\n",
      "[Warning] AMICI:Inf: AMICI encountered an Inf value at index 8/96 in fxdot!\n",
      "[Warning] AMICI:Inf: AMICI encountered an Inf value at index 8/96 in fxdot!\n",
      "[Warning] AMICI:Inf: AMICI encountered an Inf value at index 8/96 in fxdot!\n",
      "[Warning] AMICI:Inf: AMICI encountered an Inf value at index 8/96 in fxdot!\n",
      "[Warning] AMICI:Inf: AMICI encountered an Inf value at index 8/96 in fxdot!\n",
      "[Warning] AMICI:Inf: AMICI encountered an Inf value at index 8/96 in fxdot!\n",
      "[Warning] AMICI:Inf: AMICI encountered an Inf value at index 8/96 in fxdot!\n",
      "[Warning] AMICI:Inf: AMICI encountered an Inf value at index 8/96 in fxdot!\n",
      "[Warning] AMICI:Inf: AMICI encountered an Inf value at index 8/96 in fxdot!\n",
      "[Warning] AMICI:Inf: AMICI encountered an Inf value at index 8/96 in fxdot!\n",
      "[Warning] AMICI:Inf: AMICI encountered an Inf value at index 8/96 in fxdot!\n",
      "[Warning] AMICI:Inf: AMICI encountered an Inf value at index 8/96 in fxdot!\n",
      "[Warning] AMICI:Inf: AMICI encountered an Inf value at index 8/96 in fxdot!\n",
      "[Warning] AMICI:Inf: AMICI encountered an Inf value at index 8/96 in fxdot!\n",
      "[Warning] AMICI:Inf: AMICI encountered an Inf value at index 8/96 in fxdot!\n",
      "[Warning] AMICI:Inf: AMICI encountered an Inf value at index 8/96 in fxdot!\n",
      "[Warning] AMICI:Inf: AMICI encountered an Inf value at index 8/96 in fxdot!\n",
      "[Warning] AMICI:Inf: AMICI encountered an Inf value at index 8/96 in fxdot!\n",
      "[Warning] AMICI:Inf: AMICI encountered an Inf value at index 8/96 in fxdot!\n",
      "[Warning] AMICI:Inf: AMICI encountered an Inf value at index 8/96 in fxdot!\n",
      "[Warning] AMICI:Inf: AMICI encountered an Inf value at index 8/96 in fxdot!\n"
     ]
    },
    {
     "name": "stderr",
     "output_type": "stream",
     "text": [
      "[Warning] AMICI:Inf: AMICI encountered an Inf value at index 8/96 in fxdot!\n",
      "[Warning] AMICI:Inf: AMICI encountered an Inf value at index 8/96 in fxdot!\n",
      "[Warning] AMICI:Inf: AMICI encountered an Inf value at index 8/96 in fxdot!\n",
      "[Warning] AMICI:Inf: AMICI encountered an Inf value at index 8/96 in fxdot!\n",
      "[Warning] AMICI:Inf: AMICI encountered an Inf value at index 8/96 in fxdot!\n",
      "[Warning] AMICI:Inf: AMICI encountered an Inf value at index 8/96 in fxdot!\n",
      "[Warning] AMICI:Inf: AMICI encountered an Inf value at index 8/96 in fxdot!\n",
      "[Warning] AMICI:Inf: AMICI encountered an Inf value at index 8/96 in fxdot!\n",
      "[Warning] AMICI:Inf: AMICI encountered an Inf value at index 8/96 in fxdot!\n",
      "[Warning] AMICI:Inf: AMICI encountered an Inf value at index 8/96 in fxdot!\n",
      "[Warning] AMICI:Inf: AMICI encountered an Inf value at index 8/96 in fxdot!\n",
      "[Warning] AMICI:Inf: AMICI encountered an Inf value at index 8/96 in fxdot!\n",
      "[Warning] AMICI:Inf: AMICI encountered an Inf value at index 8/96 in fxdot!\n",
      "[Warning] AMICI:Inf: AMICI encountered an Inf value at index 8/96 in fxdot!\n",
      "[Warning] AMICI:Inf: AMICI encountered an Inf value at index 8/96 in fxdot!\n",
      "[Warning] AMICI:Inf: AMICI encountered an Inf value at index 8/96 in fxdot!\n",
      "[Warning] AMICI:Inf: AMICI encountered an Inf value at index 8/96 in fxdot!\n",
      "[Warning] AMICI:Inf: AMICI encountered an Inf value at index 8/96 in fxdot!\n",
      "[Warning] AMICI:Inf: AMICI encountered an Inf value at index 8/96 in fxdot!\n",
      "[Warning] AMICI:Inf: AMICI encountered an Inf value at index 8/96 in fxdot!\n",
      "[Warning] AMICI:Inf: AMICI encountered an Inf value at index 8/96 in fxdot!\n",
      "[Warning] AMICI:Inf: AMICI encountered an Inf value at index 8/96 in fxdot!\n",
      "[Warning] AMICI:Inf: AMICI encountered an Inf value at index 8/96 in fxdot!\n",
      "[Warning] AMICI:Inf: AMICI encountered an Inf value at index 8/96 in fxdot!\n",
      "[Warning] AMICI:Inf: AMICI encountered an Inf value at index 8/96 in fxdot!\n",
      "[Warning] AMICI:Inf: AMICI encountered an Inf value at index 8/96 in fxdot!\n",
      "[Warning] AMICI:Inf: AMICI encountered an Inf value at index 8/96 in fxdot!\n",
      "[Warning] AMICI:Inf: AMICI encountered an Inf value at index 8/96 in fxdot!\n",
      "[Warning] AMICI:Inf: AMICI encountered an Inf value at index 8/96 in fxdot!\n",
      "[Warning] AMICI:Inf: AMICI encountered an Inf value at index 8/96 in fxdot!\n",
      "[Warning] AMICI:Inf: AMICI encountered an Inf value at index 8/96 in fxdot!\n",
      "[Warning] AMICI:Inf: AMICI encountered an Inf value at index 8/96 in fxdot!\n",
      "[Warning] AMICI:Inf: AMICI encountered an Inf value at index 8/96 in fxdot!\n",
      "[Warning] AMICI:Inf: AMICI encountered an Inf value at index 8/96 in fxdot!\n",
      "[Warning] AMICI:Inf: AMICI encountered an Inf value at index 8/96 in fxdot!\n",
      "[Warning] AMICI:Inf: AMICI encountered an Inf value at index 8/96 in fxdot!\n",
      "[Warning] AMICI:Inf: AMICI encountered an Inf value at index 8/96 in fxdot!\n",
      "[Warning] AMICI:Inf: AMICI encountered an Inf value at index 8/96 in fxdot!\n",
      "[Warning] AMICI:Inf: AMICI encountered an Inf value at index 8/96 in fxdot!\n",
      "[Warning] AMICI:Inf: AMICI encountered an Inf value at index 8/96 in fxdot!\n",
      "[Warning] AMICI:Inf: AMICI encountered an Inf value at index 8/96 in fxdot!\n",
      "[Warning] AMICI:Inf: AMICI encountered an Inf value at index 8/96 in fxdot!\n",
      "[Warning] AMICI:Inf: AMICI encountered an Inf value at index 8/96 in fxdot!\n",
      "[Warning] AMICI:Inf: AMICI encountered an Inf value at index 8/96 in fxdot!\n",
      "[Warning] AMICI:Inf: AMICI encountered an Inf value at index 8/96 in fxdot!\n",
      "[Warning] AMICI:Inf: AMICI encountered an Inf value at index 8/96 in fxdot!\n",
      "[Warning] AMICI:Inf: AMICI encountered an Inf value at index 8/96 in fxdot!\n",
      "[Warning] AMICI:Inf: AMICI encountered an Inf value at index 8/96 in fxdot!\n",
      "[Warning] AMICI:Inf: AMICI encountered an Inf value at index 8/96 in fxdot!\n",
      "[Warning] AMICI:Inf: AMICI encountered an Inf value at index 8/96 in fxdot!\n",
      "[Warning] AMICI:Inf: AMICI encountered an Inf value at index 8/96 in fxdot!\n",
      "[Warning] AMICI:Inf: AMICI encountered an Inf value at index 8/96 in fxdot!\n",
      "[Warning] AMICI:Inf: AMICI encountered an Inf value at index 8/96 in fxdot!\n",
      "[Warning] AMICI:Inf: AMICI encountered an Inf value at index 8/96 in fxdot!\n",
      "[Warning] AMICI:Inf: AMICI encountered an Inf value at index 8/96 in fxdot!\n",
      "[Warning] AMICI:Inf: AMICI encountered an Inf value at index 8/96 in fxdot!\n",
      "[Warning] AMICI:Inf: AMICI encountered an Inf value at index 8/96 in fxdot!\n",
      "[Warning] AMICI:Inf: AMICI encountered an Inf value at index 8/96 in fxdot!\n",
      "[Warning] AMICI:Inf: AMICI encountered an Inf value at index 8/96 in fxdot!\n",
      "[Warning] AMICI:Inf: AMICI encountered an Inf value at index 8/96 in fxdot!\n",
      "[Warning] AMICI:Inf: AMICI encountered an Inf value at index 8/96 in fxdot!\n",
      "[Warning] AMICI:Inf: AMICI encountered an Inf value at index 8/96 in fxdot!\n",
      "[Warning] AMICI:Inf: AMICI encountered an Inf value at index 8/96 in fxdot!\n",
      "[Warning] AMICI:Inf: AMICI encountered an Inf value at index 8/96 in fxdot!\n",
      "[Warning] AMICI:Inf: AMICI encountered an Inf value at index 8/96 in fxdot!\n",
      "[Warning] AMICI:Inf: AMICI encountered an Inf value at index 8/96 in fxdot!\n",
      "[Warning] AMICI:Inf: AMICI encountered an Inf value at index 8/96 in fxdot!\n",
      "[Warning] AMICI:Inf: AMICI encountered an Inf value at index 8/96 in fxdot!\n",
      "[Warning] AMICI:Inf: AMICI encountered an Inf value at index 8/96 in fxdot!\n",
      "[Warning] AMICI:Inf: AMICI encountered an Inf value at index 8/96 in fxdot!\n",
      "[Warning] AMICI:Inf: AMICI encountered an Inf value at index 8/96 in fxdot!\n",
      "[Warning] AMICI:Inf: AMICI encountered an Inf value at index 8/96 in fxdot!\n",
      "[Warning] AMICI:Inf: AMICI encountered an Inf value at index 8/96 in fxdot!\n",
      "[Warning] AMICI:Inf: AMICI encountered an Inf value at index 8/96 in fxdot!\n",
      "[Warning] AMICI:Inf: AMICI encountered an Inf value at index 8/96 in fxdot!\n",
      "[Warning] AMICI:Inf: AMICI encountered an Inf value at index 8/96 in fxdot!\n",
      "[Warning] AMICI:Inf: AMICI encountered an Inf value at index 8/96 in fxdot!\n",
      "[Warning] AMICI:Inf: AMICI encountered an Inf value at index 8/96 in fxdot!\n",
      "[Warning] AMICI:Inf: AMICI encountered an Inf value at index 8/96 in fxdot!\n",
      "[Warning] AMICI:Inf: AMICI encountered an Inf value at index 8/96 in fxdot!\n",
      "[Warning] AMICI:Inf: AMICI encountered an Inf value at index 8/96 in fxdot!\n",
      "[Warning] AMICI:Inf: AMICI encountered an Inf value at index 8/96 in fxdot!\n",
      "[Warning] AMICI:Inf: AMICI encountered an Inf value at index 8/96 in fxdot!\n",
      "[Warning] AMICI:Inf: AMICI encountered an Inf value at index 8/96 in fxdot!\n",
      "[Warning] AMICI:Inf: AMICI encountered an Inf value at index 8/96 in fxdot!\n",
      "[Warning] AMICI:Inf: AMICI encountered an Inf value at index 8/96 in fxdot!\n",
      "[Warning] AMICI:Inf: AMICI encountered an Inf value at index 8/96 in fxdot!\n",
      "[Warning] AMICI:Inf: AMICI encountered an Inf value at index 8/96 in fxdot!\n",
      "[Warning] AMICI:Inf: AMICI encountered an Inf value at index 8/96 in fxdot!\n",
      "[Warning] AMICI:Inf: AMICI encountered an Inf value at index 8/96 in fxdot!\n",
      "[Warning] AMICI:Inf: AMICI encountered an Inf value at index 8/96 in fxdot!\n",
      "[Warning] AMICI:Inf: AMICI encountered an Inf value at index 8/96 in fxdot!\n",
      "[Warning] AMICI:Inf: AMICI encountered an Inf value at index 8/96 in fxdot!\n",
      "[Warning] AMICI:Inf: AMICI encountered an Inf value at index 8/96 in fxdot!\n",
      "[Warning] AMICI:Inf: AMICI encountered an Inf value at index 8/96 in fxdot!\n",
      "[Warning] AMICI:Inf: AMICI encountered an Inf value at index 8/96 in fxdot!\n",
      "[Warning] AMICI:Inf: AMICI encountered an Inf value at index 8/96 in fxdot!\n",
      "[Warning] AMICI:Inf: AMICI encountered an Inf value at index 8/96 in fxdot!\n",
      "[Warning] AMICI:Inf: AMICI encountered an Inf value at index 8/96 in fxdot!\n",
      "[Warning] AMICI:Inf: AMICI encountered an Inf value at index 8/96 in fxdot!\n",
      "[Warning] AMICI:Inf: AMICI encountered an Inf value at index 8/96 in fxdot!\n",
      "[Warning] AMICI:Inf: AMICI encountered an Inf value at index 8/96 in fxdot!\n",
      "[Warning] AMICI:Inf: AMICI encountered an Inf value at index 8/96 in fxdot!\n",
      "[Warning] AMICI:Inf: AMICI encountered an Inf value at index 8/96 in fxdot!\n",
      "[Warning] AMICI:Inf: AMICI encountered an Inf value at index 8/96 in fxdot!\n",
      "[Warning] AMICI:Inf: AMICI encountered an Inf value at index 8/96 in fxdot!\n",
      "[Warning] AMICI:Inf: AMICI encountered an Inf value at index 8/96 in fxdot!\n",
      "[Warning] AMICI:Inf: AMICI encountered an Inf value at index 8/96 in fxdot!\n",
      "[Warning] AMICI:Inf: AMICI encountered an Inf value at index 8/96 in fxdot!\n",
      "[Warning] AMICI:Inf: AMICI encountered an Inf value at index 8/96 in fxdot!\n",
      "[Warning] AMICI:Inf: AMICI encountered an Inf value at index 8/96 in fxdot!\n",
      "[Warning] AMICI:Inf: AMICI encountered an Inf value at index 8/96 in fxdot!\n",
      "[Warning] AMICI:Inf: AMICI encountered an Inf value at index 8/96 in fxdot!\n",
      "[Warning] AMICI:Inf: AMICI encountered an Inf value at index 8/96 in fxdot!\n",
      "[Warning] AMICI:Inf: AMICI encountered an Inf value at index 8/96 in fxdot!\n",
      "[Warning] AMICI:Inf: AMICI encountered an Inf value at index 8/96 in fxdot!\n",
      "[Warning] AMICI:Inf: AMICI encountered an Inf value at index 8/96 in fxdot!\n",
      "[Warning] AMICI:Inf: AMICI encountered an Inf value at index 8/96 in fxdot!\n",
      "[Warning] AMICI:Inf: AMICI encountered an Inf value at index 8/96 in fxdot!\n"
     ]
    },
    {
     "name": "stderr",
     "output_type": "stream",
     "text": [
      "[Warning] AMICI:Inf: AMICI encountered an Inf value at index 8/96 in fxdot!\n",
      "[Warning] AMICI:Inf: AMICI encountered an Inf value at index 8/96 in fxdot!\n",
      "[Warning] AMICI:Inf: AMICI encountered an Inf value at index 8/96 in fxdot!\n",
      "[Warning] AMICI:Inf: AMICI encountered an Inf value at index 8/96 in fxdot!\n",
      "[Warning] AMICI:Inf: AMICI encountered an Inf value at index 8/96 in fxdot!\n",
      "[Warning] AMICI:Inf: AMICI encountered an Inf value at index 8/96 in fxdot!\n",
      "[Warning] AMICI:Inf: AMICI encountered an Inf value at index 8/96 in fxdot!\n",
      "[Warning] AMICI:Inf: AMICI encountered an Inf value at index 8/96 in fxdot!\n",
      "[Warning] AMICI:Inf: AMICI encountered an Inf value at index 8/96 in fxdot!\n",
      "[Warning] AMICI:Inf: AMICI encountered an Inf value at index 8/96 in fxdot!\n",
      "[Warning] AMICI:Inf: AMICI encountered an Inf value at index 8/96 in fxdot!\n",
      "[Warning] AMICI:Inf: AMICI encountered an Inf value at index 8/96 in fxdot!\n",
      "[Warning] AMICI:Inf: AMICI encountered an Inf value at index 8/96 in fxdot!\n",
      "[Warning] AMICI:Inf: AMICI encountered an Inf value at index 8/96 in fxdot!\n",
      "[Warning] AMICI:Inf: AMICI encountered an Inf value at index 8/96 in fxdot!\n",
      "[Warning] AMICI:Inf: AMICI encountered an Inf value at index 8/96 in fxdot!\n",
      "[Warning] AMICI:Inf: AMICI encountered an Inf value at index 8/96 in fxdot!\n",
      "[Warning] AMICI:Inf: AMICI encountered an Inf value at index 8/96 in fxdot!\n",
      "[Warning] AMICI:Inf: AMICI encountered an Inf value at index 8/96 in fxdot!\n",
      "[Warning] AMICI:Inf: AMICI encountered an Inf value at index 8/96 in fxdot!\n",
      "[Warning] AMICI:Inf: AMICI encountered an Inf value at index 8/96 in fxdot!\n",
      "[Warning] AMICI:Inf: AMICI encountered an Inf value at index 8/96 in fxdot!\n",
      "[Warning] AMICI:Inf: AMICI encountered an Inf value at index 8/96 in fxdot!\n",
      "[Warning] AMICI:Inf: AMICI encountered an Inf value at index 8/96 in fxdot!\n",
      "[Warning] AMICI:Inf: AMICI encountered an Inf value at index 8/96 in fxdot!\n",
      "[Warning] AMICI:Inf: AMICI encountered an Inf value at index 8/96 in fxdot!\n",
      "[Warning] AMICI:Inf: AMICI encountered an Inf value at index 8/96 in fxdot!\n",
      "[Warning] AMICI:Inf: AMICI encountered an Inf value at index 8/96 in fxdot!\n",
      "[Warning] AMICI:Inf: AMICI encountered an Inf value at index 8/96 in fxdot!\n",
      "[Warning] AMICI:Inf: AMICI encountered an Inf value at index 8/96 in fxdot!\n",
      "[Warning] AMICI:Inf: AMICI encountered an Inf value at index 8/96 in fxdot!\n",
      "[Warning] AMICI:Inf: AMICI encountered an Inf value at index 8/96 in fxdot!\n",
      "[Warning] AMICI:Inf: AMICI encountered an Inf value at index 8/96 in fxdot!\n",
      "[Warning] AMICI:Inf: AMICI encountered an Inf value at index 8/96 in fxdot!\n",
      "[Warning] AMICI:Inf: AMICI encountered an Inf value at index 8/96 in fxdot!\n",
      "[Warning] AMICI:Inf: AMICI encountered an Inf value at index 8/96 in fxdot!\n",
      "[Warning] AMICI:Inf: AMICI encountered an Inf value at index 8/96 in fxdot!\n",
      "[Warning] AMICI:Inf: AMICI encountered an Inf value at index 8/96 in fxdot!\n",
      "[Warning] AMICI:Inf: AMICI encountered an Inf value at index 8/96 in fxdot!\n",
      "[Warning] AMICI:Inf: AMICI encountered an Inf value at index 8/96 in fxdot!\n",
      "[Warning] AMICI:Inf: AMICI encountered an Inf value at index 8/96 in fxdot!\n",
      "[Warning] AMICI:Inf: AMICI encountered an Inf value at index 8/96 in fxdot!\n",
      "[Warning] AMICI:Inf: AMICI encountered an Inf value at index 8/96 in fxdot!\n",
      "[Warning] AMICI:Inf: AMICI encountered an Inf value at index 8/96 in fxdot!\n",
      "[Warning] AMICI:Inf: AMICI encountered an Inf value at index 8/96 in fxdot!\n",
      "[Warning] AMICI:Inf: AMICI encountered an Inf value at index 8/96 in fxdot!\n",
      "[Warning] AMICI:Inf: AMICI encountered an Inf value at index 8/96 in fxdot!\n",
      "[Warning] AMICI:Inf: AMICI encountered an Inf value at index 8/96 in fxdot!\n",
      "[Warning] AMICI:Inf: AMICI encountered an Inf value at index 8/96 in fxdot!\n",
      "[Warning] AMICI:Inf: AMICI encountered an Inf value at index 8/96 in fxdot!\n",
      "[Warning] AMICI:Inf: AMICI encountered an Inf value at index 8/96 in fxdot!\n",
      "[Warning] AMICI:Inf: AMICI encountered an Inf value at index 8/96 in fxdot!\n",
      "[Warning] AMICI:Inf: AMICI encountered an Inf value at index 8/96 in fxdot!\n",
      "[Warning] AMICI:Inf: AMICI encountered an Inf value at index 8/96 in fxdot!\n",
      "[Warning] AMICI:Inf: AMICI encountered an Inf value at index 8/96 in fxdot!\n",
      "[Warning] AMICI:Inf: AMICI encountered an Inf value at index 8/96 in fxdot!\n",
      "[Warning] AMICI:Inf: AMICI encountered an Inf value at index 8/96 in fxdot!\n",
      "[Warning] AMICI:Inf: AMICI encountered an Inf value at index 8/96 in fxdot!\n",
      "[Warning] AMICI:Inf: AMICI encountered an Inf value at index 8/96 in fxdot!\n",
      "[Warning] AMICI:Inf: AMICI encountered an Inf value at index 8/96 in fxdot!\n",
      "[Warning] AMICI:Inf: AMICI encountered an Inf value at index 8/96 in fxdot!\n",
      "[Warning] AMICI:Inf: AMICI encountered an Inf value at index 8/96 in fxdot!\n",
      "[Warning] AMICI:Inf: AMICI encountered an Inf value at index 8/96 in fxdot!\n",
      "[Warning] AMICI:Inf: AMICI encountered an Inf value at index 8/96 in fxdot!\n",
      "[Warning] AMICI:Inf: AMICI encountered an Inf value at index 8/96 in fxdot!\n",
      "[Warning] AMICI:Inf: AMICI encountered an Inf value at index 8/96 in fxdot!\n",
      "[Warning] AMICI:Inf: AMICI encountered an Inf value at index 8/96 in fxdot!\n",
      "[Warning] AMICI:Inf: AMICI encountered an Inf value at index 8/96 in fxdot!\n",
      "[Warning] AMICI:Inf: AMICI encountered an Inf value at index 8/96 in fxdot!\n",
      "[Warning] AMICI:Inf: AMICI encountered an Inf value at index 8/96 in fxdot!\n",
      "[Warning] AMICI:Inf: AMICI encountered an Inf value at index 8/96 in fxdot!\n",
      "[Warning] AMICI:Inf: AMICI encountered an Inf value at index 8/96 in fxdot!\n",
      "[Warning] AMICI:Inf: AMICI encountered an Inf value at index 8/96 in fxdot!\n",
      "[Warning] AMICI:Inf: AMICI encountered an Inf value at index 8/96 in fxdot!\n",
      "[Warning] AMICI:Inf: AMICI encountered an Inf value at index 8/96 in fxdot!\n",
      "[Warning] AMICI:Inf: AMICI encountered an Inf value at index 8/96 in fxdot!\n",
      "[Warning] AMICI:Inf: AMICI encountered an Inf value at index 8/96 in fxdot!\n",
      "[Warning] AMICI:Inf: AMICI encountered an Inf value at index 8/96 in fxdot!\n",
      "[Warning] AMICI:Inf: AMICI encountered an Inf value at index 8/96 in fxdot!\n",
      "[Warning] AMICI:Inf: AMICI encountered an Inf value at index 8/96 in fxdot!\n",
      "[Warning] AMICI:Inf: AMICI encountered an Inf value at index 8/96 in fxdot!\n",
      "[Warning] AMICI:Inf: AMICI encountered an Inf value at index 8/96 in fxdot!\n",
      "[Warning] AMICI:Inf: AMICI encountered an Inf value at index 8/96 in fxdot!\n",
      "[Warning] AMICI:Inf: AMICI encountered an Inf value at index 8/96 in fxdot!\n",
      "[Warning] AMICI:Inf: AMICI encountered an Inf value at index 8/96 in fxdot!\n",
      "[Warning] AMICI:Inf: AMICI encountered an Inf value at index 8/96 in fxdot!\n",
      "[Warning] AMICI:Inf: AMICI encountered an Inf value at index 8/96 in fxdot!\n",
      "[Warning] AMICI:Inf: AMICI encountered an Inf value at index 8/96 in fxdot!\n",
      "[Warning] AMICI:Inf: AMICI encountered an Inf value at index 8/96 in fxdot!\n",
      "[Warning] AMICI:Inf: AMICI encountered an Inf value at index 8/96 in fxdot!\n",
      "[Warning] AMICI:Inf: AMICI encountered an Inf value at index 8/96 in fxdot!\n",
      "[Warning] AMICI:Inf: AMICI encountered an Inf value at index 8/96 in fxdot!\n",
      "[Warning] AMICI:Inf: AMICI encountered an Inf value at index 8/96 in fxdot!\n",
      "[Warning] AMICI:Inf: AMICI encountered an Inf value at index 8/96 in fxdot!\n",
      "[Warning] AMICI:Inf: AMICI encountered an Inf value at index 8/96 in fxdot!\n",
      "[Warning] AMICI:Inf: AMICI encountered an Inf value at index 8/96 in fxdot!\n",
      "[Warning] AMICI:Inf: AMICI encountered an Inf value at index 8/96 in fxdot!\n",
      "[Warning] AMICI:Inf: AMICI encountered an Inf value at index 8/96 in fxdot!\n",
      "[Warning] AMICI:Inf: AMICI encountered an Inf value at index 8/96 in fxdot!\n",
      "[Warning] AMICI:Inf: AMICI encountered an Inf value at index 8/96 in fxdot!\n",
      "[Warning] AMICI:Inf: AMICI encountered an Inf value at index 8/96 in fxdot!\n",
      "[Warning] AMICI:Inf: AMICI encountered an Inf value at index 8/96 in fxdot!\n",
      "[Warning] AMICI:Inf: AMICI encountered an Inf value at index 8/96 in fxdot!\n",
      "[Warning] AMICI:Inf: AMICI encountered an Inf value at index 8/96 in fxdot!\n",
      "[Warning] AMICI:Inf: AMICI encountered an Inf value at index 8/96 in fxdot!\n",
      "[Warning] AMICI:Inf: AMICI encountered an Inf value at index 8/96 in fxdot!\n",
      "[Warning] AMICI:Inf: AMICI encountered an Inf value at index 8/96 in fxdot!\n",
      "[Warning] AMICI:Inf: AMICI encountered an Inf value at index 8/96 in fxdot!\n"
     ]
    },
    {
     "name": "stderr",
     "output_type": "stream",
     "text": [
      "[Warning] AMICI:Inf: AMICI encountered an Inf value at index 8/96 in fxdot!\n",
      "[Warning] AMICI:Inf: AMICI encountered an Inf value at index 8/96 in fxdot!\n",
      "[Warning] AMICI:Inf: AMICI encountered an Inf value at index 8/96 in fxdot!\n",
      "[Warning] AMICI:Inf: AMICI encountered an Inf value at index 8/96 in fxdot!\n",
      "[Warning] AMICI:Inf: AMICI encountered an Inf value at index 8/96 in fxdot!\n",
      "[Warning] AMICI:Inf: AMICI encountered an Inf value at index 8/96 in fxdot!\n",
      "[Warning] AMICI:Inf: AMICI encountered an Inf value at index 8/96 in fxdot!\n",
      "[Warning] AMICI:Inf: AMICI encountered an Inf value at index 8/96 in fxdot!\n",
      "[Warning] AMICI:Inf: AMICI encountered an Inf value at index 8/96 in fxdot!\n",
      "[Warning] AMICI:Inf: AMICI encountered an Inf value at index 8/96 in fxdot!\n",
      "[Warning] AMICI:Inf: AMICI encountered an Inf value at index 8/96 in fxdot!\n",
      "[Warning] AMICI:Inf: AMICI encountered an Inf value at index 8/96 in fxdot!\n",
      "[Warning] AMICI:Inf: AMICI encountered an Inf value at index 8/96 in fxdot!\n",
      "[Warning] AMICI:Inf: AMICI encountered an Inf value at index 8/96 in fxdot!\n",
      "[Warning] AMICI:Inf: AMICI encountered an Inf value at index 8/96 in fxdot!\n",
      "[Warning] AMICI:Inf: AMICI encountered an Inf value at index 8/96 in fxdot!\n",
      "[Warning] AMICI:Inf: AMICI encountered an Inf value at index 8/96 in fxdot!\n",
      "[Warning] AMICI:Inf: AMICI encountered an Inf value at index 8/96 in fxdot!\n",
      "[Warning] AMICI:Inf: AMICI encountered an Inf value at index 8/96 in fxdot!\n",
      "[Warning] AMICI:Inf: AMICI encountered an Inf value at index 8/96 in fxdot!\n",
      "[Warning] AMICI:Inf: AMICI encountered an Inf value at index 8/96 in fxdot!\n",
      "[Warning] AMICI:Inf: AMICI encountered an Inf value at index 8/96 in fxdot!\n",
      "[Warning] AMICI:Inf: AMICI encountered an Inf value at index 8/96 in fxdot!\n",
      "[Warning] AMICI:Inf: AMICI encountered an Inf value at index 8/96 in fxdot!\n",
      "[Warning] AMICI:Inf: AMICI encountered an Inf value at index 8/96 in fxdot!\n",
      "[Warning] AMICI:Inf: AMICI encountered an Inf value at index 8/96 in fxdot!\n",
      "[Warning] AMICI:Inf: AMICI encountered an Inf value at index 8/96 in fxdot!\n",
      "[Warning] AMICI:Inf: AMICI encountered an Inf value at index 8/96 in fxdot!\n",
      "[Warning] AMICI:Inf: AMICI encountered an Inf value at index 8/96 in fxdot!\n",
      "[Warning] AMICI:Inf: AMICI encountered an Inf value at index 8/96 in fxdot!\n",
      "[Warning] AMICI:Inf: AMICI encountered an Inf value at index 8/96 in fxdot!\n",
      "[Warning] AMICI:Inf: AMICI encountered an Inf value at index 8/96 in fxdot!\n",
      "[Warning] AMICI:Inf: AMICI encountered an Inf value at index 8/96 in fxdot!\n",
      "[Warning] AMICI:Inf: AMICI encountered an Inf value at index 8/96 in fxdot!\n",
      "[Warning] AMICI:Inf: AMICI encountered an Inf value at index 8/96 in fxdot!\n",
      "[Warning] AMICI:Inf: AMICI encountered an Inf value at index 8/96 in fxdot!\n",
      "[Warning] AMICI:Inf: AMICI encountered an Inf value at index 8/96 in fxdot!\n",
      "[Warning] AMICI:Inf: AMICI encountered an Inf value at index 8/96 in fxdot!\n",
      "[Warning] AMICI:Inf: AMICI encountered an Inf value at index 8/96 in fxdot!\n",
      "[Warning] AMICI:Inf: AMICI encountered an Inf value at index 8/96 in fxdot!\n",
      "[Warning] AMICI:Inf: AMICI encountered an Inf value at index 8/96 in fxdot!\n",
      "[Warning] AMICI:Inf: AMICI encountered an Inf value at index 8/96 in fxdot!\n",
      "[Warning] AMICI:Inf: AMICI encountered an Inf value at index 8/96 in fxdot!\n",
      "[Warning] AMICI:Inf: AMICI encountered an Inf value at index 8/96 in fxdot!\n",
      "[Warning] AMICI:Inf: AMICI encountered an Inf value at index 8/96 in fxdot!\n",
      "[Warning] AMICI:Inf: AMICI encountered an Inf value at index 8/96 in fxdot!\n",
      "[Warning] AMICI:Inf: AMICI encountered an Inf value at index 8/96 in fxdot!\n",
      "[Warning] AMICI:Inf: AMICI encountered an Inf value at index 8/96 in fxdot!\n",
      "[Warning] AMICI:Inf: AMICI encountered an Inf value at index 8/96 in fxdot!\n",
      "[Warning] AMICI:Inf: AMICI encountered an Inf value at index 8/96 in fxdot!\n",
      "[Warning] AMICI:Inf: AMICI encountered an Inf value at index 8/96 in fxdot!\n",
      "[Warning] AMICI:Inf: AMICI encountered an Inf value at index 8/96 in fxdot!\n",
      "[Warning] AMICI:Inf: AMICI encountered an Inf value at index 8/96 in fxdot!\n",
      "[Warning] AMICI:Inf: AMICI encountered an Inf value at index 8/96 in fxdot!\n",
      "[Warning] AMICI:Inf: AMICI encountered an Inf value at index 8/96 in fxdot!\n",
      "[Warning] AMICI:Inf: AMICI encountered an Inf value at index 8/96 in fxdot!\n",
      "[Warning] AMICI:Inf: AMICI encountered an Inf value at index 8/96 in fxdot!\n",
      "[Warning] AMICI:Inf: AMICI encountered an Inf value at index 8/96 in fxdot!\n",
      "[Warning] AMICI:Inf: AMICI encountered an Inf value at index 8/96 in fxdot!\n",
      "[Warning] AMICI:Inf: AMICI encountered an Inf value at index 8/96 in fxdot!\n",
      "[Warning] AMICI:Inf: AMICI encountered an Inf value at index 8/96 in fxdot!\n",
      "[Warning] AMICI:Inf: AMICI encountered an Inf value at index 8/96 in fxdot!\n",
      "[Warning] AMICI:Inf: AMICI encountered an Inf value at index 8/96 in fxdot!\n",
      "[Warning] AMICI:Inf: AMICI encountered an Inf value at index 8/96 in fxdot!\n",
      "[Warning] AMICI:Inf: AMICI encountered an Inf value at index 8/96 in fxdot!\n",
      "[Warning] AMICI:Inf: AMICI encountered an Inf value at index 8/96 in fxdot!\n",
      "[Warning] AMICI:Inf: AMICI encountered an Inf value at index 8/96 in fxdot!\n",
      "[Warning] AMICI:Inf: AMICI encountered an Inf value at index 8/96 in fxdot!\n",
      "[Warning] AMICI:Inf: AMICI encountered an Inf value at index 8/96 in fxdot!\n",
      "[Warning] AMICI:Inf: AMICI encountered an Inf value at index 8/96 in fxdot!\n",
      "[Warning] AMICI:Inf: AMICI encountered an Inf value at index 8/96 in fxdot!\n",
      "[Warning] AMICI:Inf: AMICI encountered an Inf value at index 8/96 in fxdot!\n",
      "[Warning] AMICI:Inf: AMICI encountered an Inf value at index 8/96 in fxdot!\n",
      "[Warning] AMICI:Inf: AMICI encountered an Inf value at index 8/96 in fxdot!\n",
      "[Warning] AMICI:Inf: AMICI encountered an Inf value at index 8/96 in fxdot!\n",
      "[Warning] AMICI:Inf: AMICI encountered an Inf value at index 8/96 in fxdot!\n",
      "[Warning] AMICI:Inf: AMICI encountered an Inf value at index 8/96 in fxdot!\n",
      "[Warning] AMICI:Inf: AMICI encountered an Inf value at index 8/96 in fxdot!\n",
      "[Warning] AMICI:Inf: AMICI encountered an Inf value at index 8/96 in fxdot!\n",
      "[Warning] AMICI:Inf: AMICI encountered an Inf value at index 8/96 in fxdot!\n",
      "[Warning] AMICI:Inf: AMICI encountered an Inf value at index 8/96 in fxdot!\n",
      "[Warning] AMICI:Inf: AMICI encountered an Inf value at index 8/96 in fxdot!\n",
      "[Warning] AMICI:Inf: AMICI encountered an Inf value at index 8/96 in fxdot!\n",
      "[Warning] AMICI:Inf: AMICI encountered an Inf value at index 8/96 in fxdot!\n",
      "[Warning] AMICI:Inf: AMICI encountered an Inf value at index 8/96 in fxdot!\n",
      "[Warning] AMICI:Inf: AMICI encountered an Inf value at index 8/96 in fxdot!\n",
      "[Warning] AMICI:Inf: AMICI encountered an Inf value at index 8/96 in fxdot!\n",
      "[Warning] AMICI:Inf: AMICI encountered an Inf value at index 8/96 in fxdot!\n",
      "[Warning] AMICI:Inf: AMICI encountered an Inf value at index 8/96 in fxdot!\n",
      "[Warning] AMICI:Inf: AMICI encountered an Inf value at index 8/96 in fxdot!\n",
      "[Warning] AMICI:Inf: AMICI encountered an Inf value at index 8/96 in fxdot!\n",
      "[Warning] AMICI:Inf: AMICI encountered an Inf value at index 8/96 in fxdot!\n",
      "[Warning] AMICI:Inf: AMICI encountered an Inf value at index 8/96 in fxdot!\n",
      "[Warning] AMICI:Inf: AMICI encountered an Inf value at index 8/96 in fxdot!\n",
      "[Warning] AMICI:Inf: AMICI encountered an Inf value at index 8/96 in fxdot!\n",
      "[Warning] AMICI:Inf: AMICI encountered an Inf value at index 8/96 in fxdot!\n",
      "[Warning] AMICI:Inf: AMICI encountered an Inf value at index 8/96 in fxdot!\n",
      "[Warning] AMICI:Inf: AMICI encountered an Inf value at index 8/96 in fxdot!\n",
      "[Warning] AMICI:Inf: AMICI encountered an Inf value at index 8/96 in fxdot!\n",
      "[Warning] AMICI:Inf: AMICI encountered an Inf value at index 8/96 in fxdot!\n",
      "[Warning] AMICI:Inf: AMICI encountered an Inf value at index 8/96 in fxdot!\n",
      "[Warning] AMICI:Inf: AMICI encountered an Inf value at index 8/96 in fxdot!\n",
      "[Warning] AMICI:Inf: AMICI encountered an Inf value at index 8/96 in fxdot!\n",
      "[Warning] AMICI:Inf: AMICI encountered an Inf value at index 8/96 in fxdot!\n",
      "[Warning] AMICI:Inf: AMICI encountered an Inf value at index 8/96 in fxdot!\n",
      "[Warning] AMICI:Inf: AMICI encountered an Inf value at index 8/96 in fxdot!\n",
      "[Warning] AMICI:Inf: AMICI encountered an Inf value at index 8/96 in fxdot!\n",
      "[Warning] AMICI:Inf: AMICI encountered an Inf value at index 8/96 in fxdot!\n",
      "[Warning] AMICI:Inf: AMICI encountered an Inf value at index 8/96 in fxdot!\n",
      "[Warning] AMICI:Inf: AMICI encountered an Inf value at index 8/96 in fxdot!\n",
      "[Warning] AMICI:Inf: AMICI encountered an Inf value at index 8/96 in fxdot!\n",
      "[Warning] AMICI:Inf: AMICI encountered an Inf value at index 8/96 in fxdot!\n",
      "[Warning] AMICI:Inf: AMICI encountered an Inf value at index 8/96 in fxdot!\n",
      "[Warning] AMICI:Inf: AMICI encountered an Inf value at index 8/96 in fxdot!\n",
      "[Warning] AMICI:Inf: AMICI encountered an Inf value at index 8/96 in fxdot!\n",
      "[Warning] AMICI:Inf: AMICI encountered an Inf value at index 8/96 in fxdot!\n"
     ]
    },
    {
     "name": "stderr",
     "output_type": "stream",
     "text": [
      "[Warning] AMICI:Inf: AMICI encountered an Inf value at index 8/96 in fxdot!\n",
      "[Warning] AMICI:Inf: AMICI encountered an Inf value at index 8/96 in fxdot!\n",
      "[Warning] AMICI:Inf: AMICI encountered an Inf value at index 8/96 in fxdot!\n",
      "[Warning] AMICI:Inf: AMICI encountered an Inf value at index 8/96 in fxdot!\n",
      "[Warning] AMICI:Inf: AMICI encountered an Inf value at index 8/96 in fxdot!\n",
      "[Warning] AMICI:Inf: AMICI encountered an Inf value at index 8/96 in fxdot!\n",
      "[Warning] AMICI:Inf: AMICI encountered an Inf value at index 8/96 in fxdot!\n",
      "[Warning] AMICI:Inf: AMICI encountered an Inf value at index 8/96 in fxdot!\n",
      "[Warning] AMICI:Inf: AMICI encountered an Inf value at index 8/96 in fxdot!\n",
      "[Warning] AMICI:Inf: AMICI encountered an Inf value at index 8/96 in fxdot!\n",
      "[Warning] AMICI:Inf: AMICI encountered an Inf value at index 8/96 in fxdot!\n",
      "[Warning] AMICI:Inf: AMICI encountered an Inf value at index 8/96 in fxdot!\n",
      "[Warning] AMICI:Inf: AMICI encountered an Inf value at index 8/96 in fxdot!\n",
      "[Warning] AMICI:CVODES:CVode:OTHER: AMICI ERROR: in module CVODES in function CVode : At t = 4.30617 repeated recoverable right-hand side function errors. \n",
      "[Warning] AMICI:simulation: AMICI simulation failed:\n",
      "Steady state computation failed. First run of Newton solver failed: No convergence was achieved. Simulation to steady state failed. Second run of Newton solver failed: No convergence was achieved.\n",
      "Error occurred in:\n",
      "0          0x130ac4383 amici::SteadystateProblem::handleSteadyStateFailure(amici::Solver const*, amici::Model*) + 531\n",
      "1          0x130ac365c amici::SteadystateProblem::findSteadyState(amici::Solver*, amici::NewtonSolver*, amici::Model*, int) + 332\n",
      "2          0x130ac33be amici::SteadystateProblem::workSteadyStateProblem(amici::Solver*, amici::Model*, int) + 254\n",
      "3          0x130aa4eb1 amici::AmiciApplication::runAmiciSimulation(amici::Solver&, amici::ExpData const*, amici::Model&, bool) + 241\n",
      "4  \n",
      "[Warning] AMICI:CVODES:CVode:WARNING: AMICI ERROR: in module CVODES in function CVode : Internal t = 1.78495 and h = 9.89408e-17 are such that t + h = t on the next step. The solver will continue anyway. \n",
      "[Warning] AMICI:CVODES:CVode:WARNING: AMICI ERROR: in module CVODES in function CVode : Internal t = 1.78495 and h = 9.89408e-17 are such that t + h = t on the next step. The solver will continue anyway. \n",
      "[Warning] AMICI:CVODES:CVode:WARNING: AMICI ERROR: in module CVODES in function CVode : Internal t = 1.78495 and h = 9.89408e-17 are such that t + h = t on the next step. The solver will continue anyway. \n",
      "[Warning] AMICI:CVODES:CVode:WARNING: AMICI ERROR: in module CVODES in function CVode : Internal t = 1.78495 and h = 9.89408e-17 are such that t + h = t on the next step. The solver will continue anyway. \n",
      "[Warning] AMICI:CVODES:CVode:WARNING: AMICI ERROR: in module CVODES in function CVode : Internal t = 1.78495 and h = 9.89408e-17 are such that t + h = t on the next step. The solver will continue anyway. \n",
      "[Warning] AMICI:CVODES:CVode:WARNING: AMICI ERROR: in module CVODES in function CVode : Internal t = 1.78495 and h = 9.89408e-17 are such that t + h = t on the next step. The solver will continue anyway. \n",
      "[Warning] AMICI:CVODES:CVode:WARNING: AMICI ERROR: in module CVODES in function CVode : Internal t = 1.78495 and h = 9.89408e-17 are such that t + h = t on the next step. The solver will continue anyway. \n",
      "[Warning] AMICI:CVODES:CVode:WARNING: AMICI ERROR: in module CVODES in function CVode : Internal t = 1.78495 and h = 9.89408e-17 are such that t + h = t on the next step. The solver will continue anyway. \n",
      "[Warning] AMICI:CVODES:CVode:WARNING: AMICI ERROR: in module CVODES in function CVode : Internal t = 1.78495 and h = 9.89408e-17 are such that t + h = t on the next step. The solver will continue anyway. \n",
      "[Warning] AMICI:CVODES:CVode:WARNING: AMICI ERROR: in module CVODES in function CVode : Internal t = 1.78495 and h = 9.89408e-17 are such that t + h = t on the next step. The solver will continue anyway. \n",
      "[Warning] AMICI:CVODES:CVode:WARNING: AMICI ERROR: in module CVODES in function CVode : The above warning has been issued mxhnil times and will not be issued again for this problem. \n",
      "[Warning] AMICI:Inf: AMICI encountered an Inf value at index 8/96 in fxdot!\n",
      "[Warning] AMICI:Inf: AMICI encountered an Inf value at index 8/96 in fxdot!\n",
      "[Warning] AMICI:Inf: AMICI encountered an Inf value at index 8/96 in fxdot!\n",
      "[Warning] AMICI:Inf: AMICI encountered an Inf value at index 8/96 in fxdot!\n",
      "[Warning] AMICI:Inf: AMICI encountered an Inf value at index 8/96 in fxdot!\n",
      "[Warning] AMICI:Inf: AMICI encountered an Inf value at index 8/96 in fxdot!\n",
      "[Warning] AMICI:Inf: AMICI encountered an Inf value at index 8/96 in fxdot!\n",
      "[Warning] AMICI:Inf: AMICI encountered an Inf value at index 8/96 in fxdot!\n",
      "[Warning] AMICI:Inf: AMICI encountered an Inf value at index 8/96 in fxdot!\n",
      "[Warning] AMICI:Inf: AMICI encountered an Inf value at index 8/96 in fxdot!\n",
      "[Warning] AMICI:Inf: AMICI encountered an Inf value at index 8/96 in fxdot!\n",
      "[Warning] AMICI:Inf: AMICI encountered an Inf value at index 8/96 in fxdot!\n",
      "[Warning] AMICI:Inf: AMICI encountered an Inf value at index 8/96 in fxdot!\n",
      "[Warning] AMICI:Inf: AMICI encountered an Inf value at index 8/96 in fxdot!\n",
      "[Warning] AMICI:Inf: AMICI encountered an Inf value at index 8/96 in fxdot!\n",
      "[Warning] AMICI:Inf: AMICI encountered an Inf value at index 8/96 in fxdot!\n",
      "[Warning] AMICI:Inf: AMICI encountered an Inf value at index 8/96 in fxdot!\n",
      "[Warning] AMICI:Inf: AMICI encountered an Inf value at index 8/96 in fxdot!\n",
      "[Warning] AMICI:Inf: AMICI encountered an Inf value at index 8/96 in fxdot!\n",
      "[Warning] AMICI:Inf: AMICI encountered an Inf value at index 8/96 in fxdot!\n",
      "[Warning] AMICI:Inf: AMICI encountered an Inf value at index 8/96 in fxdot!\n",
      "[Warning] AMICI:Inf: AMICI encountered an Inf value at index 8/96 in fxdot!\n",
      "[Warning] AMICI:Inf: AMICI encountered an Inf value at index 8/96 in fxdot!\n",
      "[Warning] AMICI:Inf: AMICI encountered an Inf value at index 8/96 in fxdot!\n",
      "[Warning] AMICI:Inf: AMICI encountered an Inf value at index 8/96 in fxdot!\n",
      "[Warning] AMICI:Inf: AMICI encountered an Inf value at index 8/96 in fxdot!\n",
      "[Warning] AMICI:Inf: AMICI encountered an Inf value at index 8/96 in fxdot!\n",
      "[Warning] AMICI:Inf: AMICI encountered an Inf value at index 8/96 in fxdot!\n",
      "[Warning] AMICI:Inf: AMICI encountered an Inf value at index 8/96 in fxdot!\n",
      "[Warning] AMICI:Inf: AMICI encountered an Inf value at index 8/96 in fxdot!\n",
      "[Warning] AMICI:Inf: AMICI encountered an Inf value at index 8/96 in fxdot!\n",
      "[Warning] AMICI:Inf: AMICI encountered an Inf value at index 8/96 in fxdot!\n",
      "[Warning] AMICI:Inf: AMICI encountered an Inf value at index 8/96 in fxdot!\n",
      "[Warning] AMICI:Inf: AMICI encountered an Inf value at index 8/96 in fxdot!\n",
      "[Warning] AMICI:Inf: AMICI encountered an Inf value at index 8/96 in fxdot!\n",
      "[Warning] AMICI:Inf: AMICI encountered an Inf value at index 8/96 in fxdot!\n",
      "[Warning] AMICI:Inf: AMICI encountered an Inf value at index 8/96 in fxdot!\n",
      "[Warning] AMICI:Inf: AMICI encountered an Inf value at index 8/96 in fxdot!\n",
      "[Warning] AMICI:Inf: AMICI encountered an Inf value at index 8/96 in fxdot!\n",
      "[Warning] AMICI:Inf: AMICI encountered an Inf value at index 8/96 in fxdot!\n",
      "[Warning] AMICI:Inf: AMICI encountered an Inf value at index 8/96 in fxdot!\n",
      "[Warning] AMICI:Inf: AMICI encountered an Inf value at index 8/96 in fxdot!\n",
      "[Warning] AMICI:Inf: AMICI encountered an Inf value at index 8/96 in fxdot!\n",
      "[Warning] AMICI:Inf: AMICI encountered an Inf value at index 8/96 in fxdot!\n",
      "[Warning] AMICI:Inf: AMICI encountered an Inf value at index 8/96 in fxdot!\n",
      "[Warning] AMICI:Inf: AMICI encountered an Inf value at index 8/96 in fxdot!\n",
      "[Warning] AMICI:Inf: AMICI encountered an Inf value at index 8/96 in fxdot!\n",
      "[Warning] AMICI:Inf: AMICI encountered an Inf value at index 8/96 in fxdot!\n",
      "[Warning] AMICI:Inf: AMICI encountered an Inf value at index 8/96 in fxdot!\n",
      "[Warning] AMICI:Inf: AMICI encountered an Inf value at index 8/96 in fxdot!\n",
      "[Warning] AMICI:Inf: AMICI encountered an Inf value at index 8/96 in fxdot!\n",
      "[Warning] AMICI:Inf: AMICI encountered an Inf value at index 8/96 in fxdot!\n",
      "[Warning] AMICI:Inf: AMICI encountered an Inf value at index 8/96 in fxdot!\n",
      "[Warning] AMICI:Inf: AMICI encountered an Inf value at index 8/96 in fxdot!\n",
      "[Warning] AMICI:Inf: AMICI encountered an Inf value at index 8/96 in fxdot!\n",
      "[Warning] AMICI:Inf: AMICI encountered an Inf value at index 8/96 in fxdot!\n",
      "[Warning] AMICI:Inf: AMICI encountered an Inf value at index 8/96 in fxdot!\n",
      "[Warning] AMICI:Inf: AMICI encountered an Inf value at index 8/96 in fxdot!\n"
     ]
    },
    {
     "name": "stderr",
     "output_type": "stream",
     "text": [
      "[Warning] AMICI:Inf: AMICI encountered an Inf value at index 8/96 in fxdot!\n",
      "[Warning] AMICI:Inf: AMICI encountered an Inf value at index 8/96 in fxdot!\n",
      "[Warning] AMICI:Inf: AMICI encountered an Inf value at index 8/96 in fxdot!\n",
      "[Warning] AMICI:Inf: AMICI encountered an Inf value at index 8/96 in fxdot!\n",
      "[Warning] AMICI:Inf: AMICI encountered an Inf value at index 8/96 in fxdot!\n",
      "[Warning] AMICI:Inf: AMICI encountered an Inf value at index 8/96 in fxdot!\n",
      "[Warning] AMICI:Inf: AMICI encountered an Inf value at index 8/96 in fxdot!\n",
      "[Warning] AMICI:Inf: AMICI encountered an Inf value at index 8/96 in fxdot!\n",
      "[Warning] AMICI:Inf: AMICI encountered an Inf value at index 8/96 in fxdot!\n",
      "[Warning] AMICI:Inf: AMICI encountered an Inf value at index 8/96 in fxdot!\n",
      "[Warning] AMICI:Inf: AMICI encountered an Inf value at index 8/96 in fxdot!\n",
      "[Warning] AMICI:Inf: AMICI encountered an Inf value at index 8/96 in fxdot!\n",
      "[Warning] AMICI:Inf: AMICI encountered an Inf value at index 8/96 in fxdot!\n",
      "[Warning] AMICI:Inf: AMICI encountered an Inf value at index 8/96 in fxdot!\n",
      "[Warning] AMICI:Inf: AMICI encountered an Inf value at index 8/96 in fxdot!\n",
      "[Warning] AMICI:Inf: AMICI encountered an Inf value at index 8/96 in fxdot!\n",
      "[Warning] AMICI:Inf: AMICI encountered an Inf value at index 8/96 in fxdot!\n",
      "[Warning] AMICI:Inf: AMICI encountered an Inf value at index 8/96 in fxdot!\n",
      "[Warning] AMICI:Inf: AMICI encountered an Inf value at index 8/96 in fxdot!\n",
      "[Warning] AMICI:Inf: AMICI encountered an Inf value at index 8/96 in fxdot!\n",
      "[Warning] AMICI:Inf: AMICI encountered an Inf value at index 8/96 in fxdot!\n",
      "[Warning] AMICI:Inf: AMICI encountered an Inf value at index 8/96 in fxdot!\n",
      "[Warning] AMICI:Inf: AMICI encountered an Inf value at index 8/96 in fxdot!\n",
      "[Warning] AMICI:Inf: AMICI encountered an Inf value at index 8/96 in fxdot!\n",
      "[Warning] AMICI:Inf: AMICI encountered an Inf value at index 8/96 in fxdot!\n",
      "[Warning] AMICI:Inf: AMICI encountered an Inf value at index 8/96 in fxdot!\n",
      "[Warning] AMICI:Inf: AMICI encountered an Inf value at index 8/96 in fxdot!\n",
      "[Warning] AMICI:Inf: AMICI encountered an Inf value at index 8/96 in fxdot!\n",
      "[Warning] AMICI:Inf: AMICI encountered an Inf value at index 8/96 in fxdot!\n",
      "[Warning] AMICI:Inf: AMICI encountered an Inf value at index 8/96 in fxdot!\n",
      "[Warning] AMICI:Inf: AMICI encountered an Inf value at index 8/96 in fxdot!\n",
      "[Warning] AMICI:Inf: AMICI encountered an Inf value at index 8/96 in fxdot!\n",
      "[Warning] AMICI:Inf: AMICI encountered an Inf value at index 8/96 in fxdot!\n",
      "[Warning] AMICI:Inf: AMICI encountered an Inf value at index 8/96 in fxdot!\n",
      "[Warning] AMICI:Inf: AMICI encountered an Inf value at index 8/96 in fxdot!\n",
      "[Warning] AMICI:Inf: AMICI encountered an Inf value at index 8/96 in fxdot!\n",
      "[Warning] AMICI:Inf: AMICI encountered an Inf value at index 8/96 in fxdot!\n",
      "[Warning] AMICI:Inf: AMICI encountered an Inf value at index 8/96 in fxdot!\n",
      "[Warning] AMICI:Inf: AMICI encountered an Inf value at index 8/96 in fxdot!\n",
      "[Warning] AMICI:Inf: AMICI encountered an Inf value at index 8/96 in fxdot!\n",
      "[Warning] AMICI:Inf: AMICI encountered an Inf value at index 8/96 in fxdot!\n",
      "[Warning] AMICI:Inf: AMICI encountered an Inf value at index 8/96 in fxdot!\n",
      "[Warning] AMICI:Inf: AMICI encountered an Inf value at index 8/96 in fxdot!\n",
      "[Warning] AMICI:Inf: AMICI encountered an Inf value at index 8/96 in fxdot!\n",
      "[Warning] AMICI:Inf: AMICI encountered an Inf value at index 8/96 in fxdot!\n",
      "[Warning] AMICI:Inf: AMICI encountered an Inf value at index 8/96 in fxdot!\n",
      "[Warning] AMICI:Inf: AMICI encountered an Inf value at index 8/96 in fxdot!\n",
      "[Warning] AMICI:Inf: AMICI encountered an Inf value at index 8/96 in fxdot!\n",
      "[Warning] AMICI:Inf: AMICI encountered an Inf value at index 8/96 in fxdot!\n",
      "[Warning] AMICI:Inf: AMICI encountered an Inf value at index 8/96 in fxdot!\n",
      "[Warning] AMICI:Inf: AMICI encountered an Inf value at index 8/96 in fxdot!\n",
      "[Warning] AMICI:Inf: AMICI encountered an Inf value at index 8/96 in fxdot!\n",
      "[Warning] AMICI:Inf: AMICI encountered an Inf value at index 8/96 in fxdot!\n",
      "[Warning] AMICI:Inf: AMICI encountered an Inf value at index 8/96 in fxdot!\n",
      "[Warning] AMICI:Inf: AMICI encountered an Inf value at index 8/96 in fxdot!\n",
      "[Warning] AMICI:Inf: AMICI encountered an Inf value at index 8/96 in fxdot!\n",
      "[Warning] AMICI:Inf: AMICI encountered an Inf value at index 8/96 in fxdot!\n",
      "[Warning] AMICI:Inf: AMICI encountered an Inf value at index 8/96 in fxdot!\n",
      "[Warning] AMICI:Inf: AMICI encountered an Inf value at index 8/96 in fxdot!\n",
      "[Warning] AMICI:Inf: AMICI encountered an Inf value at index 8/96 in fxdot!\n",
      "[Warning] AMICI:Inf: AMICI encountered an Inf value at index 8/96 in fxdot!\n",
      "[Warning] AMICI:Inf: AMICI encountered an Inf value at index 8/96 in fxdot!\n",
      "[Warning] AMICI:Inf: AMICI encountered an Inf value at index 8/96 in fxdot!\n",
      "[Warning] AMICI:Inf: AMICI encountered an Inf value at index 8/96 in fxdot!\n",
      "[Warning] AMICI:Inf: AMICI encountered an Inf value at index 8/96 in fxdot!\n",
      "[Warning] AMICI:Inf: AMICI encountered an Inf value at index 8/96 in fxdot!\n",
      "[Warning] AMICI:Inf: AMICI encountered an Inf value at index 8/96 in fxdot!\n",
      "[Warning] AMICI:Inf: AMICI encountered an Inf value at index 8/96 in fxdot!\n",
      "[Warning] AMICI:Inf: AMICI encountered an Inf value at index 8/96 in fxdot!\n",
      "[Warning] AMICI:Inf: AMICI encountered an Inf value at index 8/96 in fxdot!\n",
      "[Warning] AMICI:Inf: AMICI encountered an Inf value at index 8/96 in fxdot!\n",
      "[Warning] AMICI:Inf: AMICI encountered an Inf value at index 8/96 in fxdot!\n",
      "[Warning] AMICI:Inf: AMICI encountered an Inf value at index 8/96 in fxdot!\n",
      "[Warning] AMICI:Inf: AMICI encountered an Inf value at index 8/96 in fxdot!\n",
      "[Warning] AMICI:Inf: AMICI encountered an Inf value at index 8/96 in fxdot!\n",
      "[Warning] AMICI:Inf: AMICI encountered an Inf value at index 8/96 in fxdot!\n",
      "[Warning] AMICI:Inf: AMICI encountered an Inf value at index 8/96 in fxdot!\n",
      "[Warning] AMICI:Inf: AMICI encountered an Inf value at index 8/96 in fxdot!\n",
      "[Warning] AMICI:Inf: AMICI encountered an Inf value at index 8/96 in fxdot!\n",
      "[Warning] AMICI:Inf: AMICI encountered an Inf value at index 8/96 in fxdot!\n",
      "[Warning] AMICI:Inf: AMICI encountered an Inf value at index 8/96 in fxdot!\n",
      "[Warning] AMICI:Inf: AMICI encountered an Inf value at index 8/96 in fxdot!\n",
      "[Warning] AMICI:Inf: AMICI encountered an Inf value at index 8/96 in fxdot!\n",
      "[Warning] AMICI:Inf: AMICI encountered an Inf value at index 8/96 in fxdot!\n",
      "[Warning] AMICI:Inf: AMICI encountered an Inf value at index 8/96 in fxdot!\n",
      "[Warning] AMICI:Inf: AMICI encountered an Inf value at index 8/96 in fxdot!\n",
      "[Warning] AMICI:Inf: AMICI encountered an Inf value at index 8/96 in fxdot!\n",
      "[Warning] AMICI:Inf: AMICI encountered an Inf value at index 8/96 in fxdot!\n",
      "[Warning] AMICI:Inf: AMICI encountered an Inf value at index 8/96 in fxdot!\n",
      "[Warning] AMICI:Inf: AMICI encountered an Inf value at index 8/96 in fxdot!\n",
      "[Warning] AMICI:Inf: AMICI encountered an Inf value at index 8/96 in fxdot!\n",
      "[Warning] AMICI:Inf: AMICI encountered an Inf value at index 8/96 in fxdot!\n",
      "[Warning] AMICI:Inf: AMICI encountered an Inf value at index 8/96 in fxdot!\n",
      "[Warning] AMICI:Inf: AMICI encountered an Inf value at index 8/96 in fxdot!\n",
      "[Warning] AMICI:Inf: AMICI encountered an Inf value at index 8/96 in fxdot!\n",
      "[Warning] AMICI:Inf: AMICI encountered an Inf value at index 8/96 in fxdot!\n",
      "[Warning] AMICI:Inf: AMICI encountered an Inf value at index 8/96 in fxdot!\n",
      "[Warning] AMICI:Inf: AMICI encountered an Inf value at index 8/96 in fxdot!\n",
      "[Warning] AMICI:Inf: AMICI encountered an Inf value at index 8/96 in fxdot!\n",
      "[Warning] AMICI:Inf: AMICI encountered an Inf value at index 8/96 in fxdot!\n",
      "[Warning] AMICI:Inf: AMICI encountered an Inf value at index 8/96 in fxdot!\n",
      "[Warning] AMICI:Inf: AMICI encountered an Inf value at index 8/96 in fxdot!\n",
      "[Warning] AMICI:Inf: AMICI encountered an Inf value at index 8/96 in fxdot!\n",
      "[Warning] AMICI:Inf: AMICI encountered an Inf value at index 8/96 in fxdot!\n",
      "[Warning] AMICI:Inf: AMICI encountered an Inf value at index 8/96 in fxdot!\n",
      "[Warning] AMICI:Inf: AMICI encountered an Inf value at index 8/96 in fxdot!\n",
      "[Warning] AMICI:Inf: AMICI encountered an Inf value at index 8/96 in fxdot!\n",
      "[Warning] AMICI:Inf: AMICI encountered an Inf value at index 8/96 in fxdot!\n",
      "[Warning] AMICI:Inf: AMICI encountered an Inf value at index 8/96 in fxdot!\n",
      "[Warning] AMICI:Inf: AMICI encountered an Inf value at index 8/96 in fxdot!\n",
      "[Warning] AMICI:Inf: AMICI encountered an Inf value at index 8/96 in fxdot!\n",
      "[Warning] AMICI:Inf: AMICI encountered an Inf value at index 8/96 in fxdot!\n",
      "[Warning] AMICI:Inf: AMICI encountered an Inf value at index 8/96 in fxdot!\n"
     ]
    },
    {
     "name": "stderr",
     "output_type": "stream",
     "text": [
      "[Warning] AMICI:Inf: AMICI encountered an Inf value at index 8/96 in fxdot!\n",
      "[Warning] AMICI:Inf: AMICI encountered an Inf value at index 8/96 in fxdot!\n",
      "[Warning] AMICI:Inf: AMICI encountered an Inf value at index 8/96 in fxdot!\n",
      "[Warning] AMICI:Inf: AMICI encountered an Inf value at index 8/96 in fxdot!\n",
      "[Warning] AMICI:Inf: AMICI encountered an Inf value at index 8/96 in fxdot!\n",
      "[Warning] AMICI:Inf: AMICI encountered an Inf value at index 8/96 in fxdot!\n",
      "[Warning] AMICI:Inf: AMICI encountered an Inf value at index 8/96 in fxdot!\n",
      "[Warning] AMICI:Inf: AMICI encountered an Inf value at index 8/96 in fxdot!\n",
      "[Warning] AMICI:Inf: AMICI encountered an Inf value at index 8/96 in fxdot!\n",
      "[Warning] AMICI:Inf: AMICI encountered an Inf value at index 8/96 in fxdot!\n",
      "[Warning] AMICI:Inf: AMICI encountered an Inf value at index 8/96 in fxdot!\n",
      "[Warning] AMICI:Inf: AMICI encountered an Inf value at index 8/96 in fxdot!\n",
      "[Warning] AMICI:Inf: AMICI encountered an Inf value at index 8/96 in fxdot!\n",
      "[Warning] AMICI:Inf: AMICI encountered an Inf value at index 8/96 in fxdot!\n",
      "[Warning] AMICI:Inf: AMICI encountered an Inf value at index 8/96 in fxdot!\n",
      "[Warning] AMICI:Inf: AMICI encountered an Inf value at index 8/96 in fxdot!\n",
      "[Warning] AMICI:Inf: AMICI encountered an Inf value at index 8/96 in fxdot!\n",
      "[Warning] AMICI:Inf: AMICI encountered an Inf value at index 8/96 in fxdot!\n",
      "[Warning] AMICI:Inf: AMICI encountered an Inf value at index 8/96 in fxdot!\n",
      "[Warning] AMICI:Inf: AMICI encountered an Inf value at index 8/96 in fxdot!\n",
      "[Warning] AMICI:Inf: AMICI encountered an Inf value at index 8/96 in fxdot!\n",
      "[Warning] AMICI:Inf: AMICI encountered an Inf value at index 8/96 in fxdot!\n",
      "[Warning] AMICI:Inf: AMICI encountered an Inf value at index 8/96 in fxdot!\n",
      "[Warning] AMICI:Inf: AMICI encountered an Inf value at index 8/96 in fxdot!\n",
      "[Warning] AMICI:Inf: AMICI encountered an Inf value at index 8/96 in fxdot!\n",
      "[Warning] AMICI:Inf: AMICI encountered an Inf value at index 8/96 in fxdot!\n",
      "[Warning] AMICI:Inf: AMICI encountered an Inf value at index 8/96 in fxdot!\n",
      "[Warning] AMICI:Inf: AMICI encountered an Inf value at index 8/96 in fxdot!\n",
      "[Warning] AMICI:Inf: AMICI encountered an Inf value at index 8/96 in fxdot!\n",
      "[Warning] AMICI:Inf: AMICI encountered an Inf value at index 8/96 in fxdot!\n",
      "[Warning] AMICI:Inf: AMICI encountered an Inf value at index 8/96 in fxdot!\n",
      "[Warning] AMICI:Inf: AMICI encountered an Inf value at index 8/96 in fxdot!\n",
      "[Warning] AMICI:Inf: AMICI encountered an Inf value at index 8/96 in fxdot!\n",
      "[Warning] AMICI:Inf: AMICI encountered an Inf value at index 8/96 in fxdot!\n",
      "[Warning] AMICI:Inf: AMICI encountered an Inf value at index 8/96 in fxdot!\n",
      "[Warning] AMICI:Inf: AMICI encountered an Inf value at index 8/96 in fxdot!\n",
      "[Warning] AMICI:Inf: AMICI encountered an Inf value at index 8/96 in fxdot!\n",
      "[Warning] AMICI:Inf: AMICI encountered an Inf value at index 8/96 in fxdot!\n",
      "[Warning] AMICI:Inf: AMICI encountered an Inf value at index 8/96 in fxdot!\n",
      "[Warning] AMICI:Inf: AMICI encountered an Inf value at index 8/96 in fxdot!\n",
      "[Warning] AMICI:Inf: AMICI encountered an Inf value at index 8/96 in fxdot!\n",
      "[Warning] AMICI:Inf: AMICI encountered an Inf value at index 8/96 in fxdot!\n",
      "[Warning] AMICI:Inf: AMICI encountered an Inf value at index 8/96 in fxdot!\n",
      "[Warning] AMICI:Inf: AMICI encountered an Inf value at index 8/96 in fxdot!\n",
      "[Warning] AMICI:Inf: AMICI encountered an Inf value at index 8/96 in fxdot!\n",
      "[Warning] AMICI:Inf: AMICI encountered an Inf value at index 8/96 in fxdot!\n",
      "[Warning] AMICI:Inf: AMICI encountered an Inf value at index 8/96 in fxdot!\n",
      "[Warning] AMICI:Inf: AMICI encountered an Inf value at index 8/96 in fxdot!\n",
      "[Warning] AMICI:Inf: AMICI encountered an Inf value at index 8/96 in fxdot!\n",
      "[Warning] AMICI:Inf: AMICI encountered an Inf value at index 8/96 in fxdot!\n",
      "[Warning] AMICI:Inf: AMICI encountered an Inf value at index 8/96 in fxdot!\n",
      "[Warning] AMICI:Inf: AMICI encountered an Inf value at index 8/96 in fxdot!\n",
      "[Warning] AMICI:Inf: AMICI encountered an Inf value at index 8/96 in fxdot!\n",
      "[Warning] AMICI:Inf: AMICI encountered an Inf value at index 8/96 in fxdot!\n",
      "[Warning] AMICI:Inf: AMICI encountered an Inf value at index 8/96 in fxdot!\n",
      "[Warning] AMICI:Inf: AMICI encountered an Inf value at index 8/96 in fxdot!\n",
      "[Warning] AMICI:Inf: AMICI encountered an Inf value at index 8/96 in fxdot!\n",
      "[Warning] AMICI:Inf: AMICI encountered an Inf value at index 8/96 in fxdot!\n",
      "[Warning] AMICI:Inf: AMICI encountered an Inf value at index 8/96 in fxdot!\n",
      "[Warning] AMICI:Inf: AMICI encountered an Inf value at index 8/96 in fxdot!\n",
      "[Warning] AMICI:Inf: AMICI encountered an Inf value at index 8/96 in fxdot!\n",
      "[Warning] AMICI:Inf: AMICI encountered an Inf value at index 8/96 in fxdot!\n",
      "[Warning] AMICI:Inf: AMICI encountered an Inf value at index 8/96 in fxdot!\n",
      "[Warning] AMICI:Inf: AMICI encountered an Inf value at index 8/96 in fxdot!\n",
      "[Warning] AMICI:Inf: AMICI encountered an Inf value at index 8/96 in fxdot!\n",
      "[Warning] AMICI:Inf: AMICI encountered an Inf value at index 8/96 in fxdot!\n",
      "[Warning] AMICI:Inf: AMICI encountered an Inf value at index 8/96 in fxdot!\n",
      "[Warning] AMICI:Inf: AMICI encountered an Inf value at index 8/96 in fxdot!\n",
      "[Warning] AMICI:Inf: AMICI encountered an Inf value at index 8/96 in fxdot!\n",
      "[Warning] AMICI:Inf: AMICI encountered an Inf value at index 8/96 in fxdot!\n",
      "[Warning] AMICI:Inf: AMICI encountered an Inf value at index 8/96 in fxdot!\n",
      "[Warning] AMICI:Inf: AMICI encountered an Inf value at index 8/96 in fxdot!\n",
      "[Warning] AMICI:Inf: AMICI encountered an Inf value at index 8/96 in fxdot!\n",
      "[Warning] AMICI:Inf: AMICI encountered an Inf value at index 8/96 in fxdot!\n",
      "[Warning] AMICI:Inf: AMICI encountered an Inf value at index 8/96 in fxdot!\n",
      "[Warning] AMICI:Inf: AMICI encountered an Inf value at index 8/96 in fxdot!\n",
      "[Warning] AMICI:Inf: AMICI encountered an Inf value at index 8/96 in fxdot!\n",
      "[Warning] AMICI:Inf: AMICI encountered an Inf value at index 8/96 in fxdot!\n",
      "[Warning] AMICI:Inf: AMICI encountered an Inf value at index 8/96 in fxdot!\n",
      "[Warning] AMICI:Inf: AMICI encountered an Inf value at index 8/96 in fxdot!\n",
      "[Warning] AMICI:Inf: AMICI encountered an Inf value at index 8/96 in fxdot!\n",
      "[Warning] AMICI:Inf: AMICI encountered an Inf value at index 8/96 in fxdot!\n",
      "[Warning] AMICI:Inf: AMICI encountered an Inf value at index 8/96 in fxdot!\n",
      "[Warning] AMICI:Inf: AMICI encountered an Inf value at index 8/96 in fxdot!\n",
      "[Warning] AMICI:Inf: AMICI encountered an Inf value at index 8/96 in fxdot!\n",
      "[Warning] AMICI:Inf: AMICI encountered an Inf value at index 8/96 in fxdot!\n",
      "[Warning] AMICI:Inf: AMICI encountered an Inf value at index 8/96 in fxdot!\n",
      "[Warning] AMICI:Inf: AMICI encountered an Inf value at index 8/96 in fxdot!\n",
      "[Warning] AMICI:Inf: AMICI encountered an Inf value at index 8/96 in fxdot!\n",
      "[Warning] AMICI:Inf: AMICI encountered an Inf value at index 8/96 in fxdot!\n",
      "[Warning] AMICI:Inf: AMICI encountered an Inf value at index 8/96 in fxdot!\n",
      "[Warning] AMICI:Inf: AMICI encountered an Inf value at index 8/96 in fxdot!\n",
      "[Warning] AMICI:Inf: AMICI encountered an Inf value at index 8/96 in fxdot!\n",
      "[Warning] AMICI:Inf: AMICI encountered an Inf value at index 8/96 in fxdot!\n",
      "[Warning] AMICI:Inf: AMICI encountered an Inf value at index 8/96 in fxdot!\n",
      "[Warning] AMICI:Inf: AMICI encountered an Inf value at index 8/96 in fxdot!\n",
      "[Warning] AMICI:Inf: AMICI encountered an Inf value at index 8/96 in fxdot!\n",
      "[Warning] AMICI:Inf: AMICI encountered an Inf value at index 8/96 in fxdot!\n",
      "[Warning] AMICI:Inf: AMICI encountered an Inf value at index 8/96 in fxdot!\n",
      "[Warning] AMICI:Inf: AMICI encountered an Inf value at index 8/96 in fxdot!\n",
      "[Warning] AMICI:Inf: AMICI encountered an Inf value at index 8/96 in fxdot!\n",
      "[Warning] AMICI:Inf: AMICI encountered an Inf value at index 8/96 in fxdot!\n",
      "[Warning] AMICI:Inf: AMICI encountered an Inf value at index 8/96 in fxdot!\n",
      "[Warning] AMICI:Inf: AMICI encountered an Inf value at index 8/96 in fxdot!\n",
      "[Warning] AMICI:Inf: AMICI encountered an Inf value at index 8/96 in fxdot!\n",
      "[Warning] AMICI:Inf: AMICI encountered an Inf value at index 8/96 in fxdot!\n",
      "[Warning] AMICI:Inf: AMICI encountered an Inf value at index 8/96 in fxdot!\n",
      "[Warning] AMICI:Inf: AMICI encountered an Inf value at index 8/96 in fxdot!\n",
      "[Warning] AMICI:Inf: AMICI encountered an Inf value at index 8/96 in fxdot!\n",
      "[Warning] AMICI:Inf: AMICI encountered an Inf value at index 8/96 in fxdot!\n",
      "[Warning] AMICI:Inf: AMICI encountered an Inf value at index 8/96 in fxdot!\n",
      "[Warning] AMICI:Inf: AMICI encountered an Inf value at index 8/96 in fxdot!\n",
      "[Warning] AMICI:Inf: AMICI encountered an Inf value at index 8/96 in fxdot!\n",
      "[Warning] AMICI:Inf: AMICI encountered an Inf value at index 8/96 in fxdot!\n",
      "[Warning] AMICI:Inf: AMICI encountered an Inf value at index 8/96 in fxdot!\n",
      "[Warning] AMICI:Inf: AMICI encountered an Inf value at index 8/96 in fxdot!\n",
      "[Warning] AMICI:Inf: AMICI encountered an Inf value at index 8/96 in fxdot!\n",
      "[Warning] AMICI:Inf: AMICI encountered an Inf value at index 8/96 in fxdot!\n"
     ]
    },
    {
     "name": "stderr",
     "output_type": "stream",
     "text": [
      "[Warning] AMICI:Inf: AMICI encountered an Inf value at index 8/96 in fxdot!\n",
      "[Warning] AMICI:Inf: AMICI encountered an Inf value at index 8/96 in fxdot!\n",
      "[Warning] AMICI:Inf: AMICI encountered an Inf value at index 8/96 in fxdot!\n",
      "[Warning] AMICI:Inf: AMICI encountered an Inf value at index 8/96 in fxdot!\n",
      "[Warning] AMICI:Inf: AMICI encountered an Inf value at index 8/96 in fxdot!\n",
      "[Warning] AMICI:Inf: AMICI encountered an Inf value at index 8/96 in fxdot!\n",
      "[Warning] AMICI:Inf: AMICI encountered an Inf value at index 8/96 in fxdot!\n",
      "[Warning] AMICI:Inf: AMICI encountered an Inf value at index 8/96 in fxdot!\n",
      "[Warning] AMICI:Inf: AMICI encountered an Inf value at index 8/96 in fxdot!\n",
      "[Warning] AMICI:Inf: AMICI encountered an Inf value at index 8/96 in fxdot!\n",
      "[Warning] AMICI:Inf: AMICI encountered an Inf value at index 8/96 in fxdot!\n",
      "[Warning] AMICI:Inf: AMICI encountered an Inf value at index 8/96 in fxdot!\n",
      "[Warning] AMICI:Inf: AMICI encountered an Inf value at index 8/96 in fxdot!\n",
      "[Warning] AMICI:Inf: AMICI encountered an Inf value at index 8/96 in fxdot!\n",
      "[Warning] AMICI:Inf: AMICI encountered an Inf value at index 8/96 in fxdot!\n",
      "[Warning] AMICI:Inf: AMICI encountered an Inf value at index 8/96 in fxdot!\n",
      "[Warning] AMICI:Inf: AMICI encountered an Inf value at index 8/96 in fxdot!\n",
      "[Warning] AMICI:Inf: AMICI encountered an Inf value at index 8/96 in fxdot!\n",
      "[Warning] AMICI:Inf: AMICI encountered an Inf value at index 8/96 in fxdot!\n",
      "[Warning] AMICI:Inf: AMICI encountered an Inf value at index 8/96 in fxdot!\n",
      "[Warning] AMICI:Inf: AMICI encountered an Inf value at index 8/96 in fxdot!\n",
      "[Warning] AMICI:Inf: AMICI encountered an Inf value at index 8/96 in fxdot!\n",
      "[Warning] AMICI:Inf: AMICI encountered an Inf value at index 8/96 in fxdot!\n",
      "[Warning] AMICI:Inf: AMICI encountered an Inf value at index 8/96 in fxdot!\n",
      "[Warning] AMICI:Inf: AMICI encountered an Inf value at index 8/96 in fxdot!\n",
      "[Warning] AMICI:Inf: AMICI encountered an Inf value at index 8/96 in fxdot!\n",
      "[Warning] AMICI:Inf: AMICI encountered an Inf value at index 8/96 in fxdot!\n",
      "[Warning] AMICI:Inf: AMICI encountered an Inf value at index 8/96 in fxdot!\n",
      "[Warning] AMICI:Inf: AMICI encountered an Inf value at index 8/96 in fxdot!\n",
      "[Warning] AMICI:Inf: AMICI encountered an Inf value at index 8/96 in fxdot!\n",
      "[Warning] AMICI:Inf: AMICI encountered an Inf value at index 8/96 in fxdot!\n",
      "[Warning] AMICI:Inf: AMICI encountered an Inf value at index 8/96 in fxdot!\n",
      "[Warning] AMICI:Inf: AMICI encountered an Inf value at index 8/96 in fxdot!\n",
      "[Warning] AMICI:Inf: AMICI encountered an Inf value at index 8/96 in fxdot!\n",
      "[Warning] AMICI:Inf: AMICI encountered an Inf value at index 8/96 in fxdot!\n",
      "[Warning] AMICI:Inf: AMICI encountered an Inf value at index 8/96 in fxdot!\n",
      "[Warning] AMICI:Inf: AMICI encountered an Inf value at index 8/96 in fxdot!\n",
      "[Warning] AMICI:Inf: AMICI encountered an Inf value at index 8/96 in fxdot!\n",
      "[Warning] AMICI:Inf: AMICI encountered an Inf value at index 8/96 in fxdot!\n",
      "[Warning] AMICI:Inf: AMICI encountered an Inf value at index 8/96 in fxdot!\n",
      "[Warning] AMICI:Inf: AMICI encountered an Inf value at index 8/96 in fxdot!\n",
      "[Warning] AMICI:Inf: AMICI encountered an Inf value at index 8/96 in fxdot!\n",
      "[Warning] AMICI:Inf: AMICI encountered an Inf value at index 8/96 in fxdot!\n",
      "[Warning] AMICI:Inf: AMICI encountered an Inf value at index 8/96 in fxdot!\n",
      "[Warning] AMICI:Inf: AMICI encountered an Inf value at index 8/96 in fxdot!\n",
      "[Warning] AMICI:Inf: AMICI encountered an Inf value at index 8/96 in fxdot!\n",
      "[Warning] AMICI:CVODES:CVode:OTHER: AMICI ERROR: in module CVODES in function CVode : At t = 1.78495 repeated recoverable right-hand side function errors. \n",
      "[Warning] AMICI:simulation: AMICI simulation failed:\n",
      "Steady state computation failed. First run of Newton solver failed: No convergence was achieved. Simulation to steady state failed. Second run of Newton solver failed: No convergence was achieved.\n",
      "Error occurred in:\n",
      "0          0x130ac4383 amici::SteadystateProblem::handleSteadyStateFailure(amici::Solver const*, amici::Model*) + 531\n",
      "1          0x130ac365c amici::SteadystateProblem::findSteadyState(amici::Solver*, amici::NewtonSolver*, amici::Model*, int) + 332\n",
      "2          0x130ac33be amici::SteadystateProblem::workSteadyStateProblem(amici::Solver*, amici::Model*, int) + 254\n",
      "3          0x130aa4eb1 amici::AmiciApplication::runAmiciSimulation(amici::Solver&, amici::ExpData const*, amici::Model&, bool) + 241\n",
      "4  \n",
      "[Warning] AMICI:CVODES:CVode:WARNING: AMICI ERROR: in module CVODES in function CVode : Internal t = 1.00119e+06 and h = 4.61008e-11 are such that t + h = t on the next step. The solver will continue anyway. \n",
      "[Warning] AMICI:CVODES:CVode:WARNING: AMICI ERROR: in module CVODES in function CVode : Internal t = 1.00119e+06 and h = 4.61008e-11 are such that t + h = t on the next step. The solver will continue anyway. \n",
      "[Warning] AMICI:CVODES:CVode:WARNING: AMICI ERROR: in module CVODES in function CVode : Internal t = 1.00119e+06 and h = 4.61008e-11 are such that t + h = t on the next step. The solver will continue anyway. \n",
      "[Warning] AMICI:CVODES:CVode:WARNING: AMICI ERROR: in module CVODES in function CVode : Internal t = 1.00119e+06 and h = 4.61008e-11 are such that t + h = t on the next step. The solver will continue anyway. \n",
      "[Warning] AMICI:CVODES:CVode:WARNING: AMICI ERROR: in module CVODES in function CVode : Internal t = 1.00119e+06 and h = 4.61008e-11 are such that t + h = t on the next step. The solver will continue anyway. \n",
      "[Warning] AMICI:CVODES:CVode:WARNING: AMICI ERROR: in module CVODES in function CVode : Internal t = 1.00119e+06 and h = 4.61008e-11 are such that t + h = t on the next step. The solver will continue anyway. \n",
      "[Warning] AMICI:CVODES:CVode:WARNING: AMICI ERROR: in module CVODES in function CVode : Internal t = 1.00119e+06 and h = 4.61008e-11 are such that t + h = t on the next step. The solver will continue anyway. \n",
      "[Warning] AMICI:CVODES:CVode:WARNING: AMICI ERROR: in module CVODES in function CVode : Internal t = 1.00119e+06 and h = 4.61008e-11 are such that t + h = t on the next step. The solver will continue anyway. \n",
      "[Warning] AMICI:CVODES:CVode:WARNING: AMICI ERROR: in module CVODES in function CVode : Internal t = 1.00119e+06 and h = 4.61008e-11 are such that t + h = t on the next step. The solver will continue anyway. \n",
      "[Warning] AMICI:CVODES:CVode:WARNING: AMICI ERROR: in module CVODES in function CVode : Internal t = 1.00119e+06 and h = 4.61008e-11 are such that t + h = t on the next step. The solver will continue anyway. \n",
      "[Warning] AMICI:CVODES:CVode:WARNING: AMICI ERROR: in module CVODES in function CVode : The above warning has been issued mxhnil times and will not be issued again for this problem. \n",
      "[Warning] AMICI:Inf: AMICI encountered an Inf value at index 8/96 in fxdot!\n",
      "[Warning] AMICI:Inf: AMICI encountered an Inf value at index 8/96 in fxdot!\n",
      "[Warning] AMICI:Inf: AMICI encountered an Inf value at index 8/96 in fxdot!\n",
      "[Warning] AMICI:Inf: AMICI encountered an Inf value at index 8/96 in fxdot!\n",
      "[Warning] AMICI:Inf: AMICI encountered an Inf value at index 8/96 in fxdot!\n",
      "[Warning] AMICI:Inf: AMICI encountered an Inf value at index 8/96 in fxdot!\n",
      "[Warning] AMICI:Inf: AMICI encountered an Inf value at index 8/96 in fxdot!\n",
      "[Warning] AMICI:Inf: AMICI encountered an Inf value at index 8/96 in fxdot!\n",
      "[Warning] AMICI:Inf: AMICI encountered an Inf value at index 8/96 in fxdot!\n",
      "[Warning] AMICI:Inf: AMICI encountered an Inf value at index 8/96 in fxdot!\n",
      "[Warning] AMICI:Inf: AMICI encountered an Inf value at index 8/96 in fxdot!\n",
      "[Warning] AMICI:Inf: AMICI encountered an Inf value at index 8/96 in fxdot!\n",
      "[Warning] AMICI:Inf: AMICI encountered an Inf value at index 8/96 in fxdot!\n",
      "[Warning] AMICI:Inf: AMICI encountered an Inf value at index 8/96 in fxdot!\n",
      "[Warning] AMICI:Inf: AMICI encountered an Inf value at index 8/96 in fxdot!\n",
      "[Warning] AMICI:Inf: AMICI encountered an Inf value at index 8/96 in fxdot!\n",
      "[Warning] AMICI:Inf: AMICI encountered an Inf value at index 8/96 in fxdot!\n",
      "[Warning] AMICI:Inf: AMICI encountered an Inf value at index 8/96 in fxdot!\n",
      "[Warning] AMICI:Inf: AMICI encountered an Inf value at index 8/96 in fxdot!\n",
      "[Warning] AMICI:Inf: AMICI encountered an Inf value at index 8/96 in fxdot!\n",
      "[Warning] AMICI:Inf: AMICI encountered an Inf value at index 8/96 in fxdot!\n",
      "[Warning] AMICI:Inf: AMICI encountered an Inf value at index 8/96 in fxdot!\n",
      "[Warning] AMICI:Inf: AMICI encountered an Inf value at index 8/96 in fxdot!\n",
      "[Warning] AMICI:Inf: AMICI encountered an Inf value at index 8/96 in fxdot!\n",
      "[Warning] AMICI:Inf: AMICI encountered an Inf value at index 8/96 in fxdot!\n",
      "[Warning] AMICI:Inf: AMICI encountered an Inf value at index 8/96 in fxdot!\n",
      "[Warning] AMICI:Inf: AMICI encountered an Inf value at index 8/96 in fxdot!\n",
      "[Warning] AMICI:Inf: AMICI encountered an Inf value at index 8/96 in fxdot!\n",
      "[Warning] AMICI:Inf: AMICI encountered an Inf value at index 8/96 in fxdot!\n",
      "[Warning] AMICI:Inf: AMICI encountered an Inf value at index 8/96 in fxdot!\n",
      "[Warning] AMICI:Inf: AMICI encountered an Inf value at index 8/96 in fxdot!\n",
      "[Warning] AMICI:Inf: AMICI encountered an Inf value at index 8/96 in fxdot!\n",
      "[Warning] AMICI:Inf: AMICI encountered an Inf value at index 8/96 in fxdot!\n",
      "[Warning] AMICI:Inf: AMICI encountered an Inf value at index 8/96 in fxdot!\n",
      "[Warning] AMICI:Inf: AMICI encountered an Inf value at index 8/96 in fxdot!\n",
      "[Warning] AMICI:Inf: AMICI encountered an Inf value at index 8/96 in fxdot!\n",
      "[Warning] AMICI:Inf: AMICI encountered an Inf value at index 8/96 in fxdot!\n",
      "[Warning] AMICI:Inf: AMICI encountered an Inf value at index 8/96 in fxdot!\n",
      "[Warning] AMICI:Inf: AMICI encountered an Inf value at index 8/96 in fxdot!\n",
      "[Warning] AMICI:Inf: AMICI encountered an Inf value at index 8/96 in fxdot!\n",
      "[Warning] AMICI:Inf: AMICI encountered an Inf value at index 8/96 in fxdot!\n",
      "[Warning] AMICI:Inf: AMICI encountered an Inf value at index 8/96 in fxdot!\n",
      "[Warning] AMICI:Inf: AMICI encountered an Inf value at index 8/96 in fxdot!\n",
      "[Warning] AMICI:Inf: AMICI encountered an Inf value at index 8/96 in fxdot!\n",
      "[Warning] AMICI:Inf: AMICI encountered an Inf value at index 8/96 in fxdot!\n"
     ]
    },
    {
     "name": "stderr",
     "output_type": "stream",
     "text": [
      "[Warning] AMICI:Inf: AMICI encountered an Inf value at index 8/96 in fxdot!\n",
      "[Warning] AMICI:Inf: AMICI encountered an Inf value at index 8/96 in fxdot!\n",
      "[Warning] AMICI:Inf: AMICI encountered an Inf value at index 8/96 in fxdot!\n",
      "[Warning] AMICI:Inf: AMICI encountered an Inf value at index 8/96 in fxdot!\n",
      "[Warning] AMICI:Inf: AMICI encountered an Inf value at index 8/96 in fxdot!\n",
      "[Warning] AMICI:Inf: AMICI encountered an Inf value at index 8/96 in fxdot!\n",
      "[Warning] AMICI:Inf: AMICI encountered an Inf value at index 8/96 in fxdot!\n",
      "[Warning] AMICI:Inf: AMICI encountered an Inf value at index 8/96 in fxdot!\n",
      "[Warning] AMICI:Inf: AMICI encountered an Inf value at index 8/96 in fxdot!\n",
      "[Warning] AMICI:Inf: AMICI encountered an Inf value at index 8/96 in fxdot!\n",
      "[Warning] AMICI:Inf: AMICI encountered an Inf value at index 8/96 in fxdot!\n",
      "[Warning] AMICI:Inf: AMICI encountered an Inf value at index 8/96 in fxdot!\n",
      "[Warning] AMICI:Inf: AMICI encountered an Inf value at index 8/96 in fxdot!\n",
      "[Warning] AMICI:Inf: AMICI encountered an Inf value at index 8/96 in fxdot!\n",
      "[Warning] AMICI:Inf: AMICI encountered an Inf value at index 8/96 in fxdot!\n",
      "[Warning] AMICI:Inf: AMICI encountered an Inf value at index 8/96 in fxdot!\n",
      "[Warning] AMICI:Inf: AMICI encountered an Inf value at index 8/96 in fxdot!\n",
      "[Warning] AMICI:Inf: AMICI encountered an Inf value at index 8/96 in fxdot!\n",
      "[Warning] AMICI:Inf: AMICI encountered an Inf value at index 8/96 in fxdot!\n",
      "[Warning] AMICI:Inf: AMICI encountered an Inf value at index 8/96 in fxdot!\n",
      "[Warning] AMICI:Inf: AMICI encountered an Inf value at index 8/96 in fxdot!\n",
      "[Warning] AMICI:Inf: AMICI encountered an Inf value at index 8/96 in fxdot!\n",
      "[Warning] AMICI:Inf: AMICI encountered an Inf value at index 8/96 in fxdot!\n",
      "[Warning] AMICI:Inf: AMICI encountered an Inf value at index 8/96 in fxdot!\n",
      "[Warning] AMICI:Inf: AMICI encountered an Inf value at index 8/96 in fxdot!\n",
      "[Warning] AMICI:Inf: AMICI encountered an Inf value at index 8/96 in fxdot!\n",
      "[Warning] AMICI:Inf: AMICI encountered an Inf value at index 8/96 in fxdot!\n",
      "[Warning] AMICI:Inf: AMICI encountered an Inf value at index 8/96 in fxdot!\n",
      "[Warning] AMICI:Inf: AMICI encountered an Inf value at index 8/96 in fxdot!\n",
      "[Warning] AMICI:Inf: AMICI encountered an Inf value at index 8/96 in fxdot!\n",
      "[Warning] AMICI:Inf: AMICI encountered an Inf value at index 8/96 in fxdot!\n",
      "[Warning] AMICI:Inf: AMICI encountered an Inf value at index 8/96 in fxdot!\n",
      "[Warning] AMICI:Inf: AMICI encountered an Inf value at index 8/96 in fxdot!\n",
      "[Warning] AMICI:Inf: AMICI encountered an Inf value at index 8/96 in fxdot!\n",
      "[Warning] AMICI:Inf: AMICI encountered an Inf value at index 8/96 in fxdot!\n",
      "[Warning] AMICI:Inf: AMICI encountered an Inf value at index 8/96 in fxdot!\n",
      "[Warning] AMICI:Inf: AMICI encountered an Inf value at index 8/96 in fxdot!\n",
      "[Warning] AMICI:Inf: AMICI encountered an Inf value at index 8/96 in fxdot!\n",
      "[Warning] AMICI:Inf: AMICI encountered an Inf value at index 8/96 in fxdot!\n",
      "[Warning] AMICI:Inf: AMICI encountered an Inf value at index 8/96 in fxdot!\n",
      "[Warning] AMICI:Inf: AMICI encountered an Inf value at index 8/96 in fxdot!\n",
      "[Warning] AMICI:Inf: AMICI encountered an Inf value at index 8/96 in fxdot!\n",
      "[Warning] AMICI:Inf: AMICI encountered an Inf value at index 8/96 in fxdot!\n",
      "[Warning] AMICI:Inf: AMICI encountered an Inf value at index 8/96 in fxdot!\n",
      "[Warning] AMICI:Inf: AMICI encountered an Inf value at index 8/96 in fxdot!\n",
      "[Warning] AMICI:Inf: AMICI encountered an Inf value at index 8/96 in fxdot!\n",
      "[Warning] AMICI:Inf: AMICI encountered an Inf value at index 8/96 in fxdot!\n",
      "[Warning] AMICI:Inf: AMICI encountered an Inf value at index 8/96 in fxdot!\n",
      "[Warning] AMICI:Inf: AMICI encountered an Inf value at index 8/96 in fxdot!\n",
      "[Warning] AMICI:Inf: AMICI encountered an Inf value at index 8/96 in fxdot!\n",
      "[Warning] AMICI:Inf: AMICI encountered an Inf value at index 8/96 in fxdot!\n",
      "[Warning] AMICI:Inf: AMICI encountered an Inf value at index 8/96 in fxdot!\n",
      "[Warning] AMICI:Inf: AMICI encountered an Inf value at index 8/96 in fxdot!\n",
      "[Warning] AMICI:Inf: AMICI encountered an Inf value at index 8/96 in fxdot!\n",
      "[Warning] AMICI:Inf: AMICI encountered an Inf value at index 8/96 in fxdot!\n",
      "[Warning] AMICI:Inf: AMICI encountered an Inf value at index 8/96 in fxdot!\n",
      "[Warning] AMICI:Inf: AMICI encountered an Inf value at index 8/96 in fxdot!\n",
      "[Warning] AMICI:Inf: AMICI encountered an Inf value at index 8/96 in fxdot!\n",
      "[Warning] AMICI:Inf: AMICI encountered an Inf value at index 8/96 in fxdot!\n",
      "[Warning] AMICI:Inf: AMICI encountered an Inf value at index 8/96 in fxdot!\n",
      "[Warning] AMICI:Inf: AMICI encountered an Inf value at index 8/96 in fxdot!\n",
      "[Warning] AMICI:Inf: AMICI encountered an Inf value at index 8/96 in fxdot!\n",
      "[Warning] AMICI:Inf: AMICI encountered an Inf value at index 8/96 in fxdot!\n",
      "[Warning] AMICI:Inf: AMICI encountered an Inf value at index 8/96 in fxdot!\n",
      "[Warning] AMICI:Inf: AMICI encountered an Inf value at index 8/96 in fxdot!\n",
      "[Warning] AMICI:Inf: AMICI encountered an Inf value at index 8/96 in fxdot!\n",
      "[Warning] AMICI:Inf: AMICI encountered an Inf value at index 8/96 in fxdot!\n",
      "[Warning] AMICI:Inf: AMICI encountered an Inf value at index 8/96 in fxdot!\n",
      "[Warning] AMICI:Inf: AMICI encountered an Inf value at index 8/96 in fxdot!\n",
      "[Warning] AMICI:Inf: AMICI encountered an Inf value at index 8/96 in fxdot!\n",
      "[Warning] AMICI:Inf: AMICI encountered an Inf value at index 8/96 in fxdot!\n",
      "[Warning] AMICI:Inf: AMICI encountered an Inf value at index 8/96 in fxdot!\n",
      "[Warning] AMICI:Inf: AMICI encountered an Inf value at index 8/96 in fxdot!\n",
      "[Warning] AMICI:Inf: AMICI encountered an Inf value at index 8/96 in fxdot!\n",
      "[Warning] AMICI:Inf: AMICI encountered an Inf value at index 8/96 in fxdot!\n",
      "[Warning] AMICI:Inf: AMICI encountered an Inf value at index 8/96 in fxdot!\n",
      "[Warning] AMICI:Inf: AMICI encountered an Inf value at index 8/96 in fxdot!\n",
      "[Warning] AMICI:Inf: AMICI encountered an Inf value at index 8/96 in fxdot!\n",
      "[Warning] AMICI:Inf: AMICI encountered an Inf value at index 8/96 in fxdot!\n",
      "[Warning] AMICI:Inf: AMICI encountered an Inf value at index 8/96 in fxdot!\n",
      "[Warning] AMICI:Inf: AMICI encountered an Inf value at index 8/96 in fxdot!\n",
      "[Warning] AMICI:Inf: AMICI encountered an Inf value at index 8/96 in fxdot!\n",
      "[Warning] AMICI:Inf: AMICI encountered an Inf value at index 8/96 in fxdot!\n",
      "[Warning] AMICI:Inf: AMICI encountered an Inf value at index 8/96 in fxdot!\n",
      "[Warning] AMICI:Inf: AMICI encountered an Inf value at index 8/96 in fxdot!\n",
      "[Warning] AMICI:Inf: AMICI encountered an Inf value at index 8/96 in fxdot!\n",
      "[Warning] AMICI:Inf: AMICI encountered an Inf value at index 8/96 in fxdot!\n",
      "[Warning] AMICI:Inf: AMICI encountered an Inf value at index 8/96 in fxdot!\n",
      "[Warning] AMICI:Inf: AMICI encountered an Inf value at index 8/96 in fxdot!\n",
      "[Warning] AMICI:Inf: AMICI encountered an Inf value at index 8/96 in fxdot!\n",
      "[Warning] AMICI:Inf: AMICI encountered an Inf value at index 8/96 in fxdot!\n",
      "[Warning] AMICI:Inf: AMICI encountered an Inf value at index 8/96 in fxdot!\n",
      "[Warning] AMICI:Inf: AMICI encountered an Inf value at index 8/96 in fxdot!\n",
      "[Warning] AMICI:Inf: AMICI encountered an Inf value at index 8/96 in fxdot!\n",
      "[Warning] AMICI:Inf: AMICI encountered an Inf value at index 8/96 in fxdot!\n",
      "[Warning] AMICI:Inf: AMICI encountered an Inf value at index 8/96 in fxdot!\n",
      "[Warning] AMICI:Inf: AMICI encountered an Inf value at index 8/96 in fxdot!\n",
      "[Warning] AMICI:Inf: AMICI encountered an Inf value at index 8/96 in fxdot!\n",
      "[Warning] AMICI:Inf: AMICI encountered an Inf value at index 8/96 in fxdot!\n",
      "[Warning] AMICI:Inf: AMICI encountered an Inf value at index 8/96 in fxdot!\n",
      "[Warning] AMICI:Inf: AMICI encountered an Inf value at index 8/96 in fxdot!\n",
      "[Warning] AMICI:Inf: AMICI encountered an Inf value at index 8/96 in fxdot!\n",
      "[Warning] AMICI:Inf: AMICI encountered an Inf value at index 8/96 in fxdot!\n",
      "[Warning] AMICI:Inf: AMICI encountered an Inf value at index 8/96 in fxdot!\n",
      "[Warning] AMICI:Inf: AMICI encountered an Inf value at index 8/96 in fxdot!\n",
      "[Warning] AMICI:Inf: AMICI encountered an Inf value at index 8/96 in fxdot!\n",
      "[Warning] AMICI:Inf: AMICI encountered an Inf value at index 8/96 in fxdot!\n",
      "[Warning] AMICI:Inf: AMICI encountered an Inf value at index 8/96 in fxdot!\n",
      "[Warning] AMICI:Inf: AMICI encountered an Inf value at index 8/96 in fxdot!\n",
      "[Warning] AMICI:Inf: AMICI encountered an Inf value at index 8/96 in fxdot!\n",
      "[Warning] AMICI:Inf: AMICI encountered an Inf value at index 8/96 in fxdot!\n",
      "[Warning] AMICI:Inf: AMICI encountered an Inf value at index 8/96 in fxdot!\n",
      "[Warning] AMICI:Inf: AMICI encountered an Inf value at index 8/96 in fxdot!\n",
      "[Warning] AMICI:Inf: AMICI encountered an Inf value at index 8/96 in fxdot!\n",
      "[Warning] AMICI:Inf: AMICI encountered an Inf value at index 8/96 in fxdot!\n",
      "[Warning] AMICI:Inf: AMICI encountered an Inf value at index 8/96 in fxdot!\n",
      "[Warning] AMICI:Inf: AMICI encountered an Inf value at index 8/96 in fxdot!\n",
      "[Warning] AMICI:Inf: AMICI encountered an Inf value at index 8/96 in fxdot!\n",
      "[Warning] AMICI:Inf: AMICI encountered an Inf value at index 8/96 in fxdot!\n",
      "[Warning] AMICI:Inf: AMICI encountered an Inf value at index 8/96 in fxdot!\n",
      "[Warning] AMICI:Inf: AMICI encountered an Inf value at index 8/96 in fxdot!\n",
      "[Warning] AMICI:Inf: AMICI encountered an Inf value at index 8/96 in fxdot!\n",
      "[Warning] AMICI:Inf: AMICI encountered an Inf value at index 8/96 in fxdot!\n"
     ]
    },
    {
     "name": "stderr",
     "output_type": "stream",
     "text": [
      "[Warning] AMICI:Inf: AMICI encountered an Inf value at index 8/96 in fxdot!\n",
      "[Warning] AMICI:Inf: AMICI encountered an Inf value at index 8/96 in fxdot!\n",
      "[Warning] AMICI:Inf: AMICI encountered an Inf value at index 8/96 in fxdot!\n",
      "[Warning] AMICI:Inf: AMICI encountered an Inf value at index 8/96 in fxdot!\n",
      "[Warning] AMICI:Inf: AMICI encountered an Inf value at index 8/96 in fxdot!\n",
      "[Warning] AMICI:Inf: AMICI encountered an Inf value at index 8/96 in fxdot!\n",
      "[Warning] AMICI:Inf: AMICI encountered an Inf value at index 8/96 in fxdot!\n",
      "[Warning] AMICI:Inf: AMICI encountered an Inf value at index 8/96 in fxdot!\n",
      "[Warning] AMICI:Inf: AMICI encountered an Inf value at index 8/96 in fxdot!\n",
      "[Warning] AMICI:Inf: AMICI encountered an Inf value at index 8/96 in fxdot!\n",
      "[Warning] AMICI:Inf: AMICI encountered an Inf value at index 8/96 in fxdot!\n",
      "[Warning] AMICI:Inf: AMICI encountered an Inf value at index 8/96 in fxdot!\n",
      "[Warning] AMICI:Inf: AMICI encountered an Inf value at index 8/96 in fxdot!\n",
      "[Warning] AMICI:Inf: AMICI encountered an Inf value at index 8/96 in fxdot!\n",
      "[Warning] AMICI:Inf: AMICI encountered an Inf value at index 8/96 in fxdot!\n",
      "[Warning] AMICI:Inf: AMICI encountered an Inf value at index 8/96 in fxdot!\n",
      "[Warning] AMICI:Inf: AMICI encountered an Inf value at index 8/96 in fxdot!\n",
      "[Warning] AMICI:Inf: AMICI encountered an Inf value at index 8/96 in fxdot!\n",
      "[Warning] AMICI:Inf: AMICI encountered an Inf value at index 8/96 in fxdot!\n",
      "[Warning] AMICI:Inf: AMICI encountered an Inf value at index 8/96 in fxdot!\n",
      "[Warning] AMICI:Inf: AMICI encountered an Inf value at index 8/96 in fxdot!\n",
      "[Warning] AMICI:Inf: AMICI encountered an Inf value at index 8/96 in fxdot!\n",
      "[Warning] AMICI:Inf: AMICI encountered an Inf value at index 8/96 in fxdot!\n",
      "[Warning] AMICI:Inf: AMICI encountered an Inf value at index 8/96 in fxdot!\n",
      "[Warning] AMICI:Inf: AMICI encountered an Inf value at index 8/96 in fxdot!\n",
      "[Warning] AMICI:Inf: AMICI encountered an Inf value at index 8/96 in fxdot!\n",
      "[Warning] AMICI:Inf: AMICI encountered an Inf value at index 8/96 in fxdot!\n",
      "[Warning] AMICI:Inf: AMICI encountered an Inf value at index 8/96 in fxdot!\n",
      "[Warning] AMICI:Inf: AMICI encountered an Inf value at index 8/96 in fxdot!\n",
      "[Warning] AMICI:Inf: AMICI encountered an Inf value at index 8/96 in fxdot!\n",
      "[Warning] AMICI:Inf: AMICI encountered an Inf value at index 8/96 in fxdot!\n",
      "[Warning] AMICI:Inf: AMICI encountered an Inf value at index 8/96 in fxdot!\n",
      "[Warning] AMICI:Inf: AMICI encountered an Inf value at index 8/96 in fxdot!\n",
      "[Warning] AMICI:Inf: AMICI encountered an Inf value at index 8/96 in fxdot!\n",
      "[Warning] AMICI:Inf: AMICI encountered an Inf value at index 8/96 in fxdot!\n",
      "[Warning] AMICI:Inf: AMICI encountered an Inf value at index 8/96 in fxdot!\n",
      "[Warning] AMICI:Inf: AMICI encountered an Inf value at index 8/96 in fxdot!\n",
      "[Warning] AMICI:Inf: AMICI encountered an Inf value at index 8/96 in fxdot!\n",
      "[Warning] AMICI:Inf: AMICI encountered an Inf value at index 8/96 in fxdot!\n",
      "[Warning] AMICI:Inf: AMICI encountered an Inf value at index 8/96 in fxdot!\n",
      "[Warning] AMICI:Inf: AMICI encountered an Inf value at index 8/96 in fxdot!\n",
      "[Warning] AMICI:Inf: AMICI encountered an Inf value at index 8/96 in fxdot!\n",
      "[Warning] AMICI:Inf: AMICI encountered an Inf value at index 8/96 in fxdot!\n",
      "[Warning] AMICI:Inf: AMICI encountered an Inf value at index 8/96 in fxdot!\n",
      "[Warning] AMICI:Inf: AMICI encountered an Inf value at index 8/96 in fxdot!\n",
      "[Warning] AMICI:Inf: AMICI encountered an Inf value at index 8/96 in fxdot!\n",
      "[Warning] AMICI:Inf: AMICI encountered an Inf value at index 8/96 in fxdot!\n",
      "[Warning] AMICI:Inf: AMICI encountered an Inf value at index 8/96 in fxdot!\n",
      "[Warning] AMICI:Inf: AMICI encountered an Inf value at index 8/96 in fxdot!\n",
      "[Warning] AMICI:Inf: AMICI encountered an Inf value at index 8/96 in fxdot!\n",
      "[Warning] AMICI:Inf: AMICI encountered an Inf value at index 8/96 in fxdot!\n",
      "[Warning] AMICI:Inf: AMICI encountered an Inf value at index 8/96 in fxdot!\n",
      "[Warning] AMICI:Inf: AMICI encountered an Inf value at index 8/96 in fxdot!\n",
      "[Warning] AMICI:Inf: AMICI encountered an Inf value at index 8/96 in fxdot!\n",
      "[Warning] AMICI:Inf: AMICI encountered an Inf value at index 8/96 in fxdot!\n",
      "[Warning] AMICI:Inf: AMICI encountered an Inf value at index 8/96 in fxdot!\n",
      "[Warning] AMICI:Inf: AMICI encountered an Inf value at index 8/96 in fxdot!\n",
      "[Warning] AMICI:Inf: AMICI encountered an Inf value at index 8/96 in fxdot!\n",
      "[Warning] AMICI:Inf: AMICI encountered an Inf value at index 8/96 in fxdot!\n",
      "[Warning] AMICI:Inf: AMICI encountered an Inf value at index 8/96 in fxdot!\n",
      "[Warning] AMICI:Inf: AMICI encountered an Inf value at index 8/96 in fxdot!\n",
      "[Warning] AMICI:Inf: AMICI encountered an Inf value at index 8/96 in fxdot!\n",
      "[Warning] AMICI:Inf: AMICI encountered an Inf value at index 8/96 in fxdot!\n",
      "[Warning] AMICI:Inf: AMICI encountered an Inf value at index 8/96 in fxdot!\n",
      "[Warning] AMICI:Inf: AMICI encountered an Inf value at index 8/96 in fxdot!\n",
      "[Warning] AMICI:Inf: AMICI encountered an Inf value at index 8/96 in fxdot!\n",
      "[Warning] AMICI:Inf: AMICI encountered an Inf value at index 8/96 in fxdot!\n",
      "[Warning] AMICI:Inf: AMICI encountered an Inf value at index 8/96 in fxdot!\n",
      "[Warning] AMICI:Inf: AMICI encountered an Inf value at index 8/96 in fxdot!\n",
      "[Warning] AMICI:Inf: AMICI encountered an Inf value at index 8/96 in fxdot!\n",
      "[Warning] AMICI:Inf: AMICI encountered an Inf value at index 8/96 in fxdot!\n",
      "[Warning] AMICI:Inf: AMICI encountered an Inf value at index 8/96 in fxdot!\n",
      "[Warning] AMICI:Inf: AMICI encountered an Inf value at index 8/96 in fxdot!\n",
      "[Warning] AMICI:Inf: AMICI encountered an Inf value at index 8/96 in fxdot!\n",
      "[Warning] AMICI:Inf: AMICI encountered an Inf value at index 8/96 in fxdot!\n",
      "[Warning] AMICI:Inf: AMICI encountered an Inf value at index 8/96 in fxdot!\n",
      "[Warning] AMICI:Inf: AMICI encountered an Inf value at index 8/96 in fxdot!\n",
      "[Warning] AMICI:Inf: AMICI encountered an Inf value at index 8/96 in fxdot!\n",
      "[Warning] AMICI:Inf: AMICI encountered an Inf value at index 8/96 in fxdot!\n",
      "[Warning] AMICI:Inf: AMICI encountered an Inf value at index 8/96 in fxdot!\n",
      "[Warning] AMICI:Inf: AMICI encountered an Inf value at index 8/96 in fxdot!\n",
      "[Warning] AMICI:Inf: AMICI encountered an Inf value at index 8/96 in fxdot!\n",
      "[Warning] AMICI:Inf: AMICI encountered an Inf value at index 8/96 in fxdot!\n",
      "[Warning] AMICI:Inf: AMICI encountered an Inf value at index 8/96 in fxdot!\n",
      "[Warning] AMICI:Inf: AMICI encountered an Inf value at index 8/96 in fxdot!\n",
      "[Warning] AMICI:Inf: AMICI encountered an Inf value at index 8/96 in fxdot!\n",
      "[Warning] AMICI:Inf: AMICI encountered an Inf value at index 8/96 in fxdot!\n",
      "[Warning] AMICI:Inf: AMICI encountered an Inf value at index 8/96 in fxdot!\n",
      "[Warning] AMICI:Inf: AMICI encountered an Inf value at index 8/96 in fxdot!\n",
      "[Warning] AMICI:Inf: AMICI encountered an Inf value at index 8/96 in fxdot!\n",
      "[Warning] AMICI:Inf: AMICI encountered an Inf value at index 8/96 in fxdot!\n",
      "[Warning] AMICI:Inf: AMICI encountered an Inf value at index 8/96 in fxdot!\n",
      "[Warning] AMICI:Inf: AMICI encountered an Inf value at index 8/96 in fxdot!\n",
      "[Warning] AMICI:Inf: AMICI encountered an Inf value at index 8/96 in fxdot!\n",
      "[Warning] AMICI:Inf: AMICI encountered an Inf value at index 8/96 in fxdot!\n",
      "[Warning] AMICI:Inf: AMICI encountered an Inf value at index 8/96 in fxdot!\n",
      "[Warning] AMICI:Inf: AMICI encountered an Inf value at index 8/96 in fxdot!\n",
      "[Warning] AMICI:Inf: AMICI encountered an Inf value at index 8/96 in fxdot!\n",
      "[Warning] AMICI:Inf: AMICI encountered an Inf value at index 8/96 in fxdot!\n",
      "[Warning] AMICI:Inf: AMICI encountered an Inf value at index 8/96 in fxdot!\n",
      "[Warning] AMICI:Inf: AMICI encountered an Inf value at index 8/96 in fxdot!\n",
      "[Warning] AMICI:Inf: AMICI encountered an Inf value at index 8/96 in fxdot!\n",
      "[Warning] AMICI:Inf: AMICI encountered an Inf value at index 8/96 in fxdot!\n",
      "[Warning] AMICI:Inf: AMICI encountered an Inf value at index 8/96 in fxdot!\n",
      "[Warning] AMICI:Inf: AMICI encountered an Inf value at index 8/96 in fxdot!\n",
      "[Warning] AMICI:Inf: AMICI encountered an Inf value at index 8/96 in fxdot!\n",
      "[Warning] AMICI:Inf: AMICI encountered an Inf value at index 8/96 in fxdot!\n",
      "[Warning] AMICI:Inf: AMICI encountered an Inf value at index 8/96 in fxdot!\n",
      "[Warning] AMICI:Inf: AMICI encountered an Inf value at index 8/96 in fxdot!\n",
      "[Warning] AMICI:Inf: AMICI encountered an Inf value at index 8/96 in fxdot!\n",
      "[Warning] AMICI:Inf: AMICI encountered an Inf value at index 8/96 in fxdot!\n"
     ]
    },
    {
     "name": "stderr",
     "output_type": "stream",
     "text": [
      "[Warning] AMICI:Inf: AMICI encountered an Inf value at index 8/96 in fxdot!\n",
      "[Warning] AMICI:Inf: AMICI encountered an Inf value at index 8/96 in fxdot!\n",
      "[Warning] AMICI:Inf: AMICI encountered an Inf value at index 8/96 in fxdot!\n",
      "[Warning] AMICI:Inf: AMICI encountered an Inf value at index 8/96 in fxdot!\n",
      "[Warning] AMICI:Inf: AMICI encountered an Inf value at index 8/96 in fxdot!\n",
      "[Warning] AMICI:Inf: AMICI encountered an Inf value at index 8/96 in fxdot!\n",
      "[Warning] AMICI:Inf: AMICI encountered an Inf value at index 8/96 in fxdot!\n",
      "[Warning] AMICI:Inf: AMICI encountered an Inf value at index 8/96 in fxdot!\n",
      "[Warning] AMICI:Inf: AMICI encountered an Inf value at index 8/96 in fxdot!\n",
      "[Warning] AMICI:Inf: AMICI encountered an Inf value at index 8/96 in fxdot!\n",
      "[Warning] AMICI:Inf: AMICI encountered an Inf value at index 8/96 in fxdot!\n",
      "[Warning] AMICI:Inf: AMICI encountered an Inf value at index 8/96 in fxdot!\n",
      "[Warning] AMICI:Inf: AMICI encountered an Inf value at index 8/96 in fxdot!\n",
      "[Warning] AMICI:Inf: AMICI encountered an Inf value at index 8/96 in fxdot!\n",
      "[Warning] AMICI:Inf: AMICI encountered an Inf value at index 8/96 in fxdot!\n",
      "[Warning] AMICI:Inf: AMICI encountered an Inf value at index 8/96 in fxdot!\n",
      "[Warning] AMICI:Inf: AMICI encountered an Inf value at index 8/96 in fxdot!\n",
      "[Warning] AMICI:Inf: AMICI encountered an Inf value at index 8/96 in fxdot!\n",
      "[Warning] AMICI:Inf: AMICI encountered an Inf value at index 8/96 in fxdot!\n",
      "[Warning] AMICI:Inf: AMICI encountered an Inf value at index 8/96 in fxdot!\n",
      "[Warning] AMICI:Inf: AMICI encountered an Inf value at index 8/96 in fxdot!\n",
      "[Warning] AMICI:Inf: AMICI encountered an Inf value at index 8/96 in fxdot!\n",
      "[Warning] AMICI:Inf: AMICI encountered an Inf value at index 8/96 in fxdot!\n",
      "[Warning] AMICI:Inf: AMICI encountered an Inf value at index 8/96 in fxdot!\n",
      "[Warning] AMICI:Inf: AMICI encountered an Inf value at index 8/96 in fxdot!\n",
      "[Warning] AMICI:Inf: AMICI encountered an Inf value at index 8/96 in fxdot!\n",
      "[Warning] AMICI:Inf: AMICI encountered an Inf value at index 8/96 in fxdot!\n",
      "[Warning] AMICI:Inf: AMICI encountered an Inf value at index 8/96 in fxdot!\n",
      "[Warning] AMICI:Inf: AMICI encountered an Inf value at index 8/96 in fxdot!\n",
      "[Warning] AMICI:Inf: AMICI encountered an Inf value at index 8/96 in fxdot!\n",
      "[Warning] AMICI:Inf: AMICI encountered an Inf value at index 8/96 in fxdot!\n",
      "[Warning] AMICI:Inf: AMICI encountered an Inf value at index 8/96 in fxdot!\n",
      "[Warning] AMICI:Inf: AMICI encountered an Inf value at index 8/96 in fxdot!\n",
      "[Warning] AMICI:Inf: AMICI encountered an Inf value at index 8/96 in fxdot!\n",
      "[Warning] AMICI:Inf: AMICI encountered an Inf value at index 8/96 in fxdot!\n",
      "[Warning] AMICI:Inf: AMICI encountered an Inf value at index 8/96 in fxdot!\n",
      "[Warning] AMICI:Inf: AMICI encountered an Inf value at index 8/96 in fxdot!\n",
      "[Warning] AMICI:Inf: AMICI encountered an Inf value at index 8/96 in fxdot!\n",
      "[Warning] AMICI:Inf: AMICI encountered an Inf value at index 8/96 in fxdot!\n",
      "[Warning] AMICI:Inf: AMICI encountered an Inf value at index 8/96 in fxdot!\n",
      "[Warning] AMICI:Inf: AMICI encountered an Inf value at index 8/96 in fxdot!\n",
      "[Warning] AMICI:Inf: AMICI encountered an Inf value at index 8/96 in fxdot!\n",
      "[Warning] AMICI:Inf: AMICI encountered an Inf value at index 8/96 in fxdot!\n",
      "[Warning] AMICI:Inf: AMICI encountered an Inf value at index 8/96 in fxdot!\n",
      "[Warning] AMICI:Inf: AMICI encountered an Inf value at index 8/96 in fxdot!\n",
      "[Warning] AMICI:Inf: AMICI encountered an Inf value at index 8/96 in fxdot!\n",
      "[Warning] AMICI:Inf: AMICI encountered an Inf value at index 8/96 in fxdot!\n",
      "[Warning] AMICI:Inf: AMICI encountered an Inf value at index 8/96 in fxdot!\n",
      "[Warning] AMICI:Inf: AMICI encountered an Inf value at index 8/96 in fxdot!\n",
      "[Warning] AMICI:Inf: AMICI encountered an Inf value at index 8/96 in fxdot!\n",
      "[Warning] AMICI:Inf: AMICI encountered an Inf value at index 8/96 in fxdot!\n",
      "[Warning] AMICI:Inf: AMICI encountered an Inf value at index 8/96 in fxdot!\n",
      "[Warning] AMICI:Inf: AMICI encountered an Inf value at index 8/96 in fxdot!\n",
      "[Warning] AMICI:Inf: AMICI encountered an Inf value at index 8/96 in fxdot!\n",
      "[Warning] AMICI:Inf: AMICI encountered an Inf value at index 8/96 in fxdot!\n",
      "[Warning] AMICI:Inf: AMICI encountered an Inf value at index 8/96 in fxdot!\n",
      "[Warning] AMICI:Inf: AMICI encountered an Inf value at index 8/96 in fxdot!\n",
      "[Warning] AMICI:Inf: AMICI encountered an Inf value at index 8/96 in fxdot!\n",
      "[Warning] AMICI:Inf: AMICI encountered an Inf value at index 8/96 in fxdot!\n",
      "[Warning] AMICI:Inf: AMICI encountered an Inf value at index 8/96 in fxdot!\n",
      "[Warning] AMICI:Inf: AMICI encountered an Inf value at index 8/96 in fxdot!\n",
      "[Warning] AMICI:Inf: AMICI encountered an Inf value at index 8/96 in fxdot!\n",
      "[Warning] AMICI:Inf: AMICI encountered an Inf value at index 8/96 in fxdot!\n",
      "[Warning] AMICI:Inf: AMICI encountered an Inf value at index 8/96 in fxdot!\n",
      "[Warning] AMICI:Inf: AMICI encountered an Inf value at index 8/96 in fxdot!\n",
      "[Warning] AMICI:Inf: AMICI encountered an Inf value at index 8/96 in fxdot!\n",
      "[Warning] AMICI:Inf: AMICI encountered an Inf value at index 8/96 in fxdot!\n",
      "[Warning] AMICI:Inf: AMICI encountered an Inf value at index 8/96 in fxdot!\n",
      "[Warning] AMICI:Inf: AMICI encountered an Inf value at index 8/96 in fxdot!\n",
      "[Warning] AMICI:Inf: AMICI encountered an Inf value at index 8/96 in fxdot!\n",
      "[Warning] AMICI:Inf: AMICI encountered an Inf value at index 8/96 in fxdot!\n",
      "[Warning] AMICI:Inf: AMICI encountered an Inf value at index 8/96 in fxdot!\n",
      "[Warning] AMICI:Inf: AMICI encountered an Inf value at index 8/96 in fxdot!\n",
      "[Warning] AMICI:Inf: AMICI encountered an Inf value at index 8/96 in fxdot!\n",
      "[Warning] AMICI:Inf: AMICI encountered an Inf value at index 8/96 in fxdot!\n",
      "[Warning] AMICI:Inf: AMICI encountered an Inf value at index 8/96 in fxdot!\n",
      "[Warning] AMICI:Inf: AMICI encountered an Inf value at index 8/96 in fxdot!\n",
      "[Warning] AMICI:Inf: AMICI encountered an Inf value at index 8/96 in fxdot!\n",
      "[Warning] AMICI:Inf: AMICI encountered an Inf value at index 8/96 in fxdot!\n",
      "[Warning] AMICI:Inf: AMICI encountered an Inf value at index 8/96 in fxdot!\n",
      "[Warning] AMICI:Inf: AMICI encountered an Inf value at index 8/96 in fxdot!\n",
      "[Warning] AMICI:Inf: AMICI encountered an Inf value at index 8/96 in fxdot!\n",
      "[Warning] AMICI:Inf: AMICI encountered an Inf value at index 8/96 in fxdot!\n",
      "[Warning] AMICI:Inf: AMICI encountered an Inf value at index 8/96 in fxdot!\n",
      "[Warning] AMICI:Inf: AMICI encountered an Inf value at index 8/96 in fxdot!\n",
      "[Warning] AMICI:Inf: AMICI encountered an Inf value at index 8/96 in fxdot!\n",
      "[Warning] AMICI:Inf: AMICI encountered an Inf value at index 8/96 in fxdot!\n",
      "[Warning] AMICI:Inf: AMICI encountered an Inf value at index 8/96 in fxdot!\n",
      "[Warning] AMICI:Inf: AMICI encountered an Inf value at index 8/96 in fxdot!\n",
      "[Warning] AMICI:Inf: AMICI encountered an Inf value at index 8/96 in fxdot!\n",
      "[Warning] AMICI:Inf: AMICI encountered an Inf value at index 8/96 in fxdot!\n",
      "[Warning] AMICI:Inf: AMICI encountered an Inf value at index 8/96 in fxdot!\n",
      "[Warning] AMICI:Inf: AMICI encountered an Inf value at index 8/96 in fxdot!\n",
      "[Warning] AMICI:Inf: AMICI encountered an Inf value at index 8/96 in fxdot!\n",
      "[Warning] AMICI:Inf: AMICI encountered an Inf value at index 8/96 in fxdot!\n",
      "[Warning] AMICI:Inf: AMICI encountered an Inf value at index 8/96 in fxdot!\n",
      "[Warning] AMICI:Inf: AMICI encountered an Inf value at index 8/96 in fxdot!\n",
      "[Warning] AMICI:Inf: AMICI encountered an Inf value at index 8/96 in fxdot!\n",
      "[Warning] AMICI:Inf: AMICI encountered an Inf value at index 8/96 in fxdot!\n",
      "[Warning] AMICI:Inf: AMICI encountered an Inf value at index 8/96 in fxdot!\n",
      "[Warning] AMICI:Inf: AMICI encountered an Inf value at index 8/96 in fxdot!\n",
      "[Warning] AMICI:Inf: AMICI encountered an Inf value at index 8/96 in fxdot!\n",
      "[Warning] AMICI:Inf: AMICI encountered an Inf value at index 8/96 in fxdot!\n",
      "[Warning] AMICI:Inf: AMICI encountered an Inf value at index 8/96 in fxdot!\n",
      "[Warning] AMICI:Inf: AMICI encountered an Inf value at index 8/96 in fxdot!\n",
      "[Warning] AMICI:Inf: AMICI encountered an Inf value at index 8/96 in fxdot!\n",
      "[Warning] AMICI:Inf: AMICI encountered an Inf value at index 8/96 in fxdot!\n",
      "[Warning] AMICI:Inf: AMICI encountered an Inf value at index 8/96 in fxdot!\n",
      "[Warning] AMICI:Inf: AMICI encountered an Inf value at index 8/96 in fxdot!\n",
      "[Warning] AMICI:Inf: AMICI encountered an Inf value at index 8/96 in fxdot!\n",
      "[Warning] AMICI:Inf: AMICI encountered an Inf value at index 8/96 in fxdot!\n",
      "[Warning] AMICI:Inf: AMICI encountered an Inf value at index 8/96 in fxdot!\n",
      "[Warning] AMICI:Inf: AMICI encountered an Inf value at index 8/96 in fxdot!\n",
      "[Warning] AMICI:Inf: AMICI encountered an Inf value at index 8/96 in fxdot!\n"
     ]
    },
    {
     "name": "stderr",
     "output_type": "stream",
     "text": [
      "[Warning] AMICI:Inf: AMICI encountered an Inf value at index 8/96 in fxdot!\n",
      "[Warning] AMICI:Inf: AMICI encountered an Inf value at index 8/96 in fxdot!\n",
      "[Warning] AMICI:Inf: AMICI encountered an Inf value at index 8/96 in fxdot!\n",
      "[Warning] AMICI:Inf: AMICI encountered an Inf value at index 8/96 in fxdot!\n",
      "[Warning] AMICI:Inf: AMICI encountered an Inf value at index 8/96 in fxdot!\n",
      "[Warning] AMICI:Inf: AMICI encountered an Inf value at index 8/96 in fxdot!\n",
      "[Warning] AMICI:Inf: AMICI encountered an Inf value at index 8/96 in fxdot!\n",
      "[Warning] AMICI:Inf: AMICI encountered an Inf value at index 8/96 in fxdot!\n",
      "[Warning] AMICI:Inf: AMICI encountered an Inf value at index 8/96 in fxdot!\n",
      "[Warning] AMICI:Inf: AMICI encountered an Inf value at index 8/96 in fxdot!\n",
      "[Warning] AMICI:Inf: AMICI encountered an Inf value at index 8/96 in fxdot!\n",
      "[Warning] AMICI:Inf: AMICI encountered an Inf value at index 8/96 in fxdot!\n",
      "[Warning] AMICI:Inf: AMICI encountered an Inf value at index 8/96 in fxdot!\n",
      "[Warning] AMICI:Inf: AMICI encountered an Inf value at index 8/96 in fxdot!\n",
      "[Warning] AMICI:Inf: AMICI encountered an Inf value at index 8/96 in fxdot!\n",
      "[Warning] AMICI:Inf: AMICI encountered an Inf value at index 8/96 in fxdot!\n",
      "[Warning] AMICI:Inf: AMICI encountered an Inf value at index 8/96 in fxdot!\n",
      "[Warning] AMICI:Inf: AMICI encountered an Inf value at index 8/96 in fxdot!\n",
      "[Warning] AMICI:Inf: AMICI encountered an Inf value at index 8/96 in fxdot!\n",
      "[Warning] AMICI:Inf: AMICI encountered an Inf value at index 8/96 in fxdot!\n",
      "[Warning] AMICI:Inf: AMICI encountered an Inf value at index 8/96 in fxdot!\n",
      "[Warning] AMICI:Inf: AMICI encountered an Inf value at index 8/96 in fxdot!\n",
      "[Warning] AMICI:Inf: AMICI encountered an Inf value at index 8/96 in fxdot!\n",
      "[Warning] AMICI:Inf: AMICI encountered an Inf value at index 8/96 in fxdot!\n",
      "[Warning] AMICI:Inf: AMICI encountered an Inf value at index 8/96 in fxdot!\n",
      "[Warning] AMICI:Inf: AMICI encountered an Inf value at index 8/96 in fxdot!\n",
      "[Warning] AMICI:Inf: AMICI encountered an Inf value at index 8/96 in fxdot!\n",
      "[Warning] AMICI:Inf: AMICI encountered an Inf value at index 8/96 in fxdot!\n",
      "[Warning] AMICI:Inf: AMICI encountered an Inf value at index 8/96 in fxdot!\n",
      "[Warning] AMICI:Inf: AMICI encountered an Inf value at index 8/96 in fxdot!\n",
      "[Warning] AMICI:Inf: AMICI encountered an Inf value at index 8/96 in fxdot!\n",
      "[Warning] AMICI:Inf: AMICI encountered an Inf value at index 8/96 in fxdot!\n",
      "[Warning] AMICI:Inf: AMICI encountered an Inf value at index 8/96 in fxdot!\n",
      "[Warning] AMICI:Inf: AMICI encountered an Inf value at index 8/96 in fxdot!\n",
      "[Warning] AMICI:Inf: AMICI encountered an Inf value at index 8/96 in fxdot!\n",
      "[Warning] AMICI:CVODES:CVode:OTHER: AMICI ERROR: in module CVODES in function CVode : At t = 1.00119e+06 repeated recoverable right-hand side function errors. \n",
      "[Warning] AMICI:simulation: AMICI simulation failed:\n",
      "Steady state computation failed. First run of Newton solver failed: No convergence was achieved. Simulation to steady state failed. Second run of Newton solver failed: No convergence was achieved.\n",
      "Error occurred in:\n",
      "0          0x130ac4383 amici::SteadystateProblem::handleSteadyStateFailure(amici::Solver const*, amici::Model*) + 531\n",
      "1          0x130ac365c amici::SteadystateProblem::findSteadyState(amici::Solver*, amici::NewtonSolver*, amici::Model*, int) + 332\n",
      "2          0x130ac33be amici::SteadystateProblem::workSteadyStateProblem(amici::Solver*, amici::Model*, int) + 254\n",
      "3          0x130aa4eb1 amici::AmiciApplication::runAmiciSimulation(amici::Solver&, amici::ExpData const*, amici::Model&, bool) + 241\n",
      "4  \n",
      "[Warning] AMICI:CVODES:CVode:WARNING: AMICI ERROR: in module CVODES in function CVode : Internal t = 0.316662 and h = 2.0821e-17 are such that t + h = t on the next step. The solver will continue anyway. \n",
      "[Warning] AMICI:CVODES:CVode:WARNING: AMICI ERROR: in module CVODES in function CVode : Internal t = 0.316662 and h = 2.0821e-17 are such that t + h = t on the next step. The solver will continue anyway. \n",
      "[Warning] AMICI:CVODES:CVode:WARNING: AMICI ERROR: in module CVODES in function CVode : Internal t = 0.316662 and h = 2.0821e-17 are such that t + h = t on the next step. The solver will continue anyway. \n",
      "[Warning] AMICI:CVODES:CVode:WARNING: AMICI ERROR: in module CVODES in function CVode : Internal t = 0.316662 and h = 2.0821e-17 are such that t + h = t on the next step. The solver will continue anyway. \n",
      "[Warning] AMICI:CVODES:CVode:WARNING: AMICI ERROR: in module CVODES in function CVode : Internal t = 0.316662 and h = 2.0821e-17 are such that t + h = t on the next step. The solver will continue anyway. \n",
      "[Warning] AMICI:CVODES:CVode:WARNING: AMICI ERROR: in module CVODES in function CVode : Internal t = 0.316662 and h = 2.0821e-17 are such that t + h = t on the next step. The solver will continue anyway. \n",
      "[Warning] AMICI:CVODES:CVode:WARNING: AMICI ERROR: in module CVODES in function CVode : Internal t = 0.316662 and h = 2.0821e-17 are such that t + h = t on the next step. The solver will continue anyway. \n",
      "[Warning] AMICI:CVODES:CVode:WARNING: AMICI ERROR: in module CVODES in function CVode : Internal t = 0.316662 and h = 2.0821e-17 are such that t + h = t on the next step. The solver will continue anyway. \n",
      "[Warning] AMICI:CVODES:CVode:WARNING: AMICI ERROR: in module CVODES in function CVode : Internal t = 0.316662 and h = 2.0821e-17 are such that t + h = t on the next step. The solver will continue anyway. \n",
      "[Warning] AMICI:CVODES:CVode:WARNING: AMICI ERROR: in module CVODES in function CVode : Internal t = 0.316662 and h = 2.0821e-17 are such that t + h = t on the next step. The solver will continue anyway. \n",
      "[Warning] AMICI:CVODES:CVode:WARNING: AMICI ERROR: in module CVODES in function CVode : The above warning has been issued mxhnil times and will not be issued again for this problem. \n",
      "[Warning] AMICI:Inf: AMICI encountered an Inf value at index 8/96 in fxdot!\n",
      "[Warning] AMICI:Inf: AMICI encountered an Inf value at index 8/96 in fxdot!\n",
      "[Warning] AMICI:Inf: AMICI encountered an Inf value at index 8/96 in fxdot!\n",
      "[Warning] AMICI:Inf: AMICI encountered an Inf value at index 8/96 in fxdot!\n",
      "[Warning] AMICI:Inf: AMICI encountered an Inf value at index 8/96 in fxdot!\n",
      "[Warning] AMICI:Inf: AMICI encountered an Inf value at index 8/96 in fxdot!\n",
      "[Warning] AMICI:Inf: AMICI encountered an Inf value at index 8/96 in fxdot!\n",
      "[Warning] AMICI:Inf: AMICI encountered an Inf value at index 8/96 in fxdot!\n",
      "[Warning] AMICI:Inf: AMICI encountered an Inf value at index 8/96 in fxdot!\n",
      "[Warning] AMICI:Inf: AMICI encountered an Inf value at index 8/96 in fxdot!\n",
      "[Warning] AMICI:Inf: AMICI encountered an Inf value at index 8/96 in fxdot!\n",
      "[Warning] AMICI:Inf: AMICI encountered an Inf value at index 8/96 in fxdot!\n",
      "[Warning] AMICI:Inf: AMICI encountered an Inf value at index 8/96 in fxdot!\n",
      "[Warning] AMICI:Inf: AMICI encountered an Inf value at index 8/96 in fxdot!\n",
      "[Warning] AMICI:Inf: AMICI encountered an Inf value at index 8/96 in fxdot!\n",
      "[Warning] AMICI:Inf: AMICI encountered an Inf value at index 8/96 in fxdot!\n",
      "[Warning] AMICI:Inf: AMICI encountered an Inf value at index 8/96 in fxdot!\n",
      "[Warning] AMICI:Inf: AMICI encountered an Inf value at index 8/96 in fxdot!\n",
      "[Warning] AMICI:Inf: AMICI encountered an Inf value at index 8/96 in fxdot!\n",
      "[Warning] AMICI:Inf: AMICI encountered an Inf value at index 8/96 in fxdot!\n",
      "[Warning] AMICI:Inf: AMICI encountered an Inf value at index 8/96 in fxdot!\n",
      "[Warning] AMICI:Inf: AMICI encountered an Inf value at index 8/96 in fxdot!\n",
      "[Warning] AMICI:Inf: AMICI encountered an Inf value at index 8/96 in fxdot!\n",
      "[Warning] AMICI:Inf: AMICI encountered an Inf value at index 8/96 in fxdot!\n",
      "[Warning] AMICI:Inf: AMICI encountered an Inf value at index 8/96 in fxdot!\n",
      "[Warning] AMICI:Inf: AMICI encountered an Inf value at index 8/96 in fxdot!\n",
      "[Warning] AMICI:Inf: AMICI encountered an Inf value at index 8/96 in fxdot!\n",
      "[Warning] AMICI:Inf: AMICI encountered an Inf value at index 8/96 in fxdot!\n",
      "[Warning] AMICI:Inf: AMICI encountered an Inf value at index 8/96 in fxdot!\n",
      "[Warning] AMICI:Inf: AMICI encountered an Inf value at index 8/96 in fxdot!\n",
      "[Warning] AMICI:Inf: AMICI encountered an Inf value at index 8/96 in fxdot!\n",
      "[Warning] AMICI:Inf: AMICI encountered an Inf value at index 8/96 in fxdot!\n",
      "[Warning] AMICI:Inf: AMICI encountered an Inf value at index 8/96 in fxdot!\n"
     ]
    },
    {
     "name": "stderr",
     "output_type": "stream",
     "text": [
      "[Warning] AMICI:Inf: AMICI encountered an Inf value at index 8/96 in fxdot!\n",
      "[Warning] AMICI:Inf: AMICI encountered an Inf value at index 8/96 in fxdot!\n",
      "[Warning] AMICI:Inf: AMICI encountered an Inf value at index 8/96 in fxdot!\n",
      "[Warning] AMICI:Inf: AMICI encountered an Inf value at index 8/96 in fxdot!\n",
      "[Warning] AMICI:Inf: AMICI encountered an Inf value at index 8/96 in fxdot!\n",
      "[Warning] AMICI:Inf: AMICI encountered an Inf value at index 8/96 in fxdot!\n",
      "[Warning] AMICI:Inf: AMICI encountered an Inf value at index 8/96 in fxdot!\n",
      "[Warning] AMICI:Inf: AMICI encountered an Inf value at index 8/96 in fxdot!\n",
      "[Warning] AMICI:Inf: AMICI encountered an Inf value at index 8/96 in fxdot!\n",
      "[Warning] AMICI:Inf: AMICI encountered an Inf value at index 8/96 in fxdot!\n",
      "[Warning] AMICI:Inf: AMICI encountered an Inf value at index 8/96 in fxdot!\n",
      "[Warning] AMICI:Inf: AMICI encountered an Inf value at index 8/96 in fxdot!\n",
      "[Warning] AMICI:Inf: AMICI encountered an Inf value at index 8/96 in fxdot!\n",
      "[Warning] AMICI:Inf: AMICI encountered an Inf value at index 8/96 in fxdot!\n",
      "[Warning] AMICI:Inf: AMICI encountered an Inf value at index 8/96 in fxdot!\n",
      "[Warning] AMICI:Inf: AMICI encountered an Inf value at index 8/96 in fxdot!\n",
      "[Warning] AMICI:Inf: AMICI encountered an Inf value at index 8/96 in fxdot!\n",
      "[Warning] AMICI:Inf: AMICI encountered an Inf value at index 8/96 in fxdot!\n",
      "[Warning] AMICI:Inf: AMICI encountered an Inf value at index 8/96 in fxdot!\n",
      "[Warning] AMICI:Inf: AMICI encountered an Inf value at index 8/96 in fxdot!\n",
      "[Warning] AMICI:Inf: AMICI encountered an Inf value at index 8/96 in fxdot!\n",
      "[Warning] AMICI:Inf: AMICI encountered an Inf value at index 8/96 in fxdot!\n",
      "[Warning] AMICI:Inf: AMICI encountered an Inf value at index 8/96 in fxdot!\n",
      "[Warning] AMICI:Inf: AMICI encountered an Inf value at index 8/96 in fxdot!\n",
      "[Warning] AMICI:Inf: AMICI encountered an Inf value at index 8/96 in fxdot!\n",
      "[Warning] AMICI:Inf: AMICI encountered an Inf value at index 8/96 in fxdot!\n",
      "[Warning] AMICI:Inf: AMICI encountered an Inf value at index 8/96 in fxdot!\n",
      "[Warning] AMICI:Inf: AMICI encountered an Inf value at index 8/96 in fxdot!\n",
      "[Warning] AMICI:Inf: AMICI encountered an Inf value at index 8/96 in fxdot!\n",
      "[Warning] AMICI:Inf: AMICI encountered an Inf value at index 8/96 in fxdot!\n",
      "[Warning] AMICI:Inf: AMICI encountered an Inf value at index 8/96 in fxdot!\n",
      "[Warning] AMICI:Inf: AMICI encountered an Inf value at index 8/96 in fxdot!\n",
      "[Warning] AMICI:Inf: AMICI encountered an Inf value at index 8/96 in fxdot!\n",
      "[Warning] AMICI:Inf: AMICI encountered an Inf value at index 8/96 in fxdot!\n",
      "[Warning] AMICI:Inf: AMICI encountered an Inf value at index 8/96 in fxdot!\n",
      "[Warning] AMICI:Inf: AMICI encountered an Inf value at index 8/96 in fxdot!\n",
      "[Warning] AMICI:Inf: AMICI encountered an Inf value at index 8/96 in fxdot!\n",
      "[Warning] AMICI:Inf: AMICI encountered an Inf value at index 8/96 in fxdot!\n",
      "[Warning] AMICI:Inf: AMICI encountered an Inf value at index 8/96 in fxdot!\n",
      "[Warning] AMICI:Inf: AMICI encountered an Inf value at index 8/96 in fxdot!\n",
      "[Warning] AMICI:Inf: AMICI encountered an Inf value at index 8/96 in fxdot!\n",
      "[Warning] AMICI:Inf: AMICI encountered an Inf value at index 8/96 in fxdot!\n",
      "[Warning] AMICI:Inf: AMICI encountered an Inf value at index 8/96 in fxdot!\n",
      "[Warning] AMICI:Inf: AMICI encountered an Inf value at index 8/96 in fxdot!\n",
      "[Warning] AMICI:Inf: AMICI encountered an Inf value at index 8/96 in fxdot!\n",
      "[Warning] AMICI:Inf: AMICI encountered an Inf value at index 8/96 in fxdot!\n",
      "[Warning] AMICI:Inf: AMICI encountered an Inf value at index 8/96 in fxdot!\n",
      "[Warning] AMICI:Inf: AMICI encountered an Inf value at index 8/96 in fxdot!\n",
      "[Warning] AMICI:Inf: AMICI encountered an Inf value at index 8/96 in fxdot!\n",
      "[Warning] AMICI:Inf: AMICI encountered an Inf value at index 8/96 in fxdot!\n",
      "[Warning] AMICI:Inf: AMICI encountered an Inf value at index 8/96 in fxdot!\n",
      "[Warning] AMICI:Inf: AMICI encountered an Inf value at index 8/96 in fxdot!\n",
      "[Warning] AMICI:Inf: AMICI encountered an Inf value at index 8/96 in fxdot!\n",
      "[Warning] AMICI:Inf: AMICI encountered an Inf value at index 8/96 in fxdot!\n",
      "[Warning] AMICI:Inf: AMICI encountered an Inf value at index 8/96 in fxdot!\n",
      "[Warning] AMICI:Inf: AMICI encountered an Inf value at index 8/96 in fxdot!\n",
      "[Warning] AMICI:Inf: AMICI encountered an Inf value at index 8/96 in fxdot!\n",
      "[Warning] AMICI:Inf: AMICI encountered an Inf value at index 8/96 in fxdot!\n",
      "[Warning] AMICI:Inf: AMICI encountered an Inf value at index 8/96 in fxdot!\n",
      "[Warning] AMICI:Inf: AMICI encountered an Inf value at index 8/96 in fxdot!\n",
      "[Warning] AMICI:Inf: AMICI encountered an Inf value at index 8/96 in fxdot!\n",
      "[Warning] AMICI:Inf: AMICI encountered an Inf value at index 8/96 in fxdot!\n",
      "[Warning] AMICI:Inf: AMICI encountered an Inf value at index 8/96 in fxdot!\n",
      "[Warning] AMICI:Inf: AMICI encountered an Inf value at index 8/96 in fxdot!\n",
      "[Warning] AMICI:Inf: AMICI encountered an Inf value at index 8/96 in fxdot!\n",
      "[Warning] AMICI:Inf: AMICI encountered an Inf value at index 8/96 in fxdot!\n",
      "[Warning] AMICI:Inf: AMICI encountered an Inf value at index 8/96 in fxdot!\n",
      "[Warning] AMICI:Inf: AMICI encountered an Inf value at index 8/96 in fxdot!\n",
      "[Warning] AMICI:Inf: AMICI encountered an Inf value at index 8/96 in fxdot!\n",
      "[Warning] AMICI:Inf: AMICI encountered an Inf value at index 8/96 in fxdot!\n",
      "[Warning] AMICI:Inf: AMICI encountered an Inf value at index 8/96 in fxdot!\n",
      "[Warning] AMICI:Inf: AMICI encountered an Inf value at index 8/96 in fxdot!\n",
      "[Warning] AMICI:Inf: AMICI encountered an Inf value at index 8/96 in fxdot!\n",
      "[Warning] AMICI:Inf: AMICI encountered an Inf value at index 8/96 in fxdot!\n",
      "[Warning] AMICI:Inf: AMICI encountered an Inf value at index 8/96 in fxdot!\n",
      "[Warning] AMICI:Inf: AMICI encountered an Inf value at index 8/96 in fxdot!\n",
      "[Warning] AMICI:Inf: AMICI encountered an Inf value at index 8/96 in fxdot!\n",
      "[Warning] AMICI:Inf: AMICI encountered an Inf value at index 8/96 in fxdot!\n",
      "[Warning] AMICI:Inf: AMICI encountered an Inf value at index 8/96 in fxdot!\n",
      "[Warning] AMICI:Inf: AMICI encountered an Inf value at index 8/96 in fxdot!\n",
      "[Warning] AMICI:Inf: AMICI encountered an Inf value at index 8/96 in fxdot!\n",
      "[Warning] AMICI:Inf: AMICI encountered an Inf value at index 8/96 in fxdot!\n",
      "[Warning] AMICI:Inf: AMICI encountered an Inf value at index 8/96 in fxdot!\n",
      "[Warning] AMICI:Inf: AMICI encountered an Inf value at index 8/96 in fxdot!\n",
      "[Warning] AMICI:Inf: AMICI encountered an Inf value at index 8/96 in fxdot!\n",
      "[Warning] AMICI:Inf: AMICI encountered an Inf value at index 8/96 in fxdot!\n",
      "[Warning] AMICI:Inf: AMICI encountered an Inf value at index 8/96 in fxdot!\n",
      "[Warning] AMICI:Inf: AMICI encountered an Inf value at index 8/96 in fxdot!\n",
      "[Warning] AMICI:Inf: AMICI encountered an Inf value at index 8/96 in fxdot!\n",
      "[Warning] AMICI:Inf: AMICI encountered an Inf value at index 8/96 in fxdot!\n",
      "[Warning] AMICI:Inf: AMICI encountered an Inf value at index 8/96 in fxdot!\n",
      "[Warning] AMICI:Inf: AMICI encountered an Inf value at index 8/96 in fxdot!\n",
      "[Warning] AMICI:Inf: AMICI encountered an Inf value at index 8/96 in fxdot!\n",
      "[Warning] AMICI:Inf: AMICI encountered an Inf value at index 8/96 in fxdot!\n",
      "[Warning] AMICI:Inf: AMICI encountered an Inf value at index 8/96 in fxdot!\n",
      "[Warning] AMICI:Inf: AMICI encountered an Inf value at index 8/96 in fxdot!\n",
      "[Warning] AMICI:Inf: AMICI encountered an Inf value at index 8/96 in fxdot!\n",
      "[Warning] AMICI:Inf: AMICI encountered an Inf value at index 8/96 in fxdot!\n",
      "[Warning] AMICI:Inf: AMICI encountered an Inf value at index 8/96 in fxdot!\n",
      "[Warning] AMICI:Inf: AMICI encountered an Inf value at index 8/96 in fxdot!\n",
      "[Warning] AMICI:Inf: AMICI encountered an Inf value at index 8/96 in fxdot!\n",
      "[Warning] AMICI:Inf: AMICI encountered an Inf value at index 8/96 in fxdot!\n",
      "[Warning] AMICI:Inf: AMICI encountered an Inf value at index 8/96 in fxdot!\n",
      "[Warning] AMICI:Inf: AMICI encountered an Inf value at index 8/96 in fxdot!\n",
      "[Warning] AMICI:Inf: AMICI encountered an Inf value at index 8/96 in fxdot!\n",
      "[Warning] AMICI:Inf: AMICI encountered an Inf value at index 8/96 in fxdot!\n",
      "[Warning] AMICI:Inf: AMICI encountered an Inf value at index 8/96 in fxdot!\n",
      "[Warning] AMICI:Inf: AMICI encountered an Inf value at index 8/96 in fxdot!\n",
      "[Warning] AMICI:Inf: AMICI encountered an Inf value at index 8/96 in fxdot!\n",
      "[Warning] AMICI:Inf: AMICI encountered an Inf value at index 8/96 in fxdot!\n",
      "[Warning] AMICI:Inf: AMICI encountered an Inf value at index 8/96 in fxdot!\n"
     ]
    },
    {
     "name": "stderr",
     "output_type": "stream",
     "text": [
      "[Warning] AMICI:Inf: AMICI encountered an Inf value at index 8/96 in fxdot!\n",
      "[Warning] AMICI:Inf: AMICI encountered an Inf value at index 8/96 in fxdot!\n",
      "[Warning] AMICI:Inf: AMICI encountered an Inf value at index 8/96 in fxdot!\n",
      "[Warning] AMICI:Inf: AMICI encountered an Inf value at index 8/96 in fxdot!\n",
      "[Warning] AMICI:Inf: AMICI encountered an Inf value at index 8/96 in fxdot!\n",
      "[Warning] AMICI:Inf: AMICI encountered an Inf value at index 8/96 in fxdot!\n",
      "[Warning] AMICI:Inf: AMICI encountered an Inf value at index 8/96 in fxdot!\n",
      "[Warning] AMICI:Inf: AMICI encountered an Inf value at index 8/96 in fxdot!\n",
      "[Warning] AMICI:Inf: AMICI encountered an Inf value at index 8/96 in fxdot!\n",
      "[Warning] AMICI:Inf: AMICI encountered an Inf value at index 8/96 in fxdot!\n",
      "[Warning] AMICI:Inf: AMICI encountered an Inf value at index 8/96 in fxdot!\n",
      "[Warning] AMICI:Inf: AMICI encountered an Inf value at index 8/96 in fxdot!\n",
      "[Warning] AMICI:Inf: AMICI encountered an Inf value at index 8/96 in fxdot!\n",
      "[Warning] AMICI:Inf: AMICI encountered an Inf value at index 8/96 in fxdot!\n",
      "[Warning] AMICI:Inf: AMICI encountered an Inf value at index 8/96 in fxdot!\n",
      "[Warning] AMICI:Inf: AMICI encountered an Inf value at index 8/96 in fxdot!\n",
      "[Warning] AMICI:Inf: AMICI encountered an Inf value at index 8/96 in fxdot!\n",
      "[Warning] AMICI:Inf: AMICI encountered an Inf value at index 8/96 in fxdot!\n",
      "[Warning] AMICI:Inf: AMICI encountered an Inf value at index 8/96 in fxdot!\n",
      "[Warning] AMICI:Inf: AMICI encountered an Inf value at index 8/96 in fxdot!\n",
      "[Warning] AMICI:Inf: AMICI encountered an Inf value at index 8/96 in fxdot!\n",
      "[Warning] AMICI:Inf: AMICI encountered an Inf value at index 8/96 in fxdot!\n",
      "[Warning] AMICI:Inf: AMICI encountered an Inf value at index 8/96 in fxdot!\n",
      "[Warning] AMICI:Inf: AMICI encountered an Inf value at index 8/96 in fxdot!\n",
      "[Warning] AMICI:Inf: AMICI encountered an Inf value at index 8/96 in fxdot!\n",
      "[Warning] AMICI:Inf: AMICI encountered an Inf value at index 8/96 in fxdot!\n",
      "[Warning] AMICI:Inf: AMICI encountered an Inf value at index 8/96 in fxdot!\n",
      "[Warning] AMICI:Inf: AMICI encountered an Inf value at index 8/96 in fxdot!\n",
      "[Warning] AMICI:Inf: AMICI encountered an Inf value at index 8/96 in fxdot!\n",
      "[Warning] AMICI:Inf: AMICI encountered an Inf value at index 8/96 in fxdot!\n",
      "[Warning] AMICI:Inf: AMICI encountered an Inf value at index 8/96 in fxdot!\n",
      "[Warning] AMICI:Inf: AMICI encountered an Inf value at index 8/96 in fxdot!\n",
      "[Warning] AMICI:Inf: AMICI encountered an Inf value at index 8/96 in fxdot!\n",
      "[Warning] AMICI:Inf: AMICI encountered an Inf value at index 8/96 in fxdot!\n",
      "[Warning] AMICI:Inf: AMICI encountered an Inf value at index 8/96 in fxdot!\n",
      "[Warning] AMICI:Inf: AMICI encountered an Inf value at index 8/96 in fxdot!\n",
      "[Warning] AMICI:Inf: AMICI encountered an Inf value at index 8/96 in fxdot!\n",
      "[Warning] AMICI:Inf: AMICI encountered an Inf value at index 8/96 in fxdot!\n",
      "[Warning] AMICI:Inf: AMICI encountered an Inf value at index 8/96 in fxdot!\n",
      "[Warning] AMICI:Inf: AMICI encountered an Inf value at index 8/96 in fxdot!\n",
      "[Warning] AMICI:Inf: AMICI encountered an Inf value at index 8/96 in fxdot!\n",
      "[Warning] AMICI:Inf: AMICI encountered an Inf value at index 8/96 in fxdot!\n",
      "[Warning] AMICI:Inf: AMICI encountered an Inf value at index 8/96 in fxdot!\n",
      "[Warning] AMICI:Inf: AMICI encountered an Inf value at index 8/96 in fxdot!\n",
      "[Warning] AMICI:Inf: AMICI encountered an Inf value at index 8/96 in fxdot!\n",
      "[Warning] AMICI:Inf: AMICI encountered an Inf value at index 8/96 in fxdot!\n",
      "[Warning] AMICI:Inf: AMICI encountered an Inf value at index 8/96 in fxdot!\n",
      "[Warning] AMICI:Inf: AMICI encountered an Inf value at index 8/96 in fxdot!\n",
      "[Warning] AMICI:Inf: AMICI encountered an Inf value at index 8/96 in fxdot!\n",
      "[Warning] AMICI:Inf: AMICI encountered an Inf value at index 8/96 in fxdot!\n",
      "[Warning] AMICI:Inf: AMICI encountered an Inf value at index 8/96 in fxdot!\n",
      "[Warning] AMICI:Inf: AMICI encountered an Inf value at index 8/96 in fxdot!\n",
      "[Warning] AMICI:Inf: AMICI encountered an Inf value at index 8/96 in fxdot!\n",
      "[Warning] AMICI:Inf: AMICI encountered an Inf value at index 8/96 in fxdot!\n",
      "[Warning] AMICI:Inf: AMICI encountered an Inf value at index 8/96 in fxdot!\n",
      "[Warning] AMICI:Inf: AMICI encountered an Inf value at index 8/96 in fxdot!\n",
      "[Warning] AMICI:Inf: AMICI encountered an Inf value at index 8/96 in fxdot!\n",
      "[Warning] AMICI:Inf: AMICI encountered an Inf value at index 8/96 in fxdot!\n",
      "[Warning] AMICI:Inf: AMICI encountered an Inf value at index 8/96 in fxdot!\n",
      "[Warning] AMICI:Inf: AMICI encountered an Inf value at index 8/96 in fxdot!\n",
      "[Warning] AMICI:Inf: AMICI encountered an Inf value at index 8/96 in fxdot!\n",
      "[Warning] AMICI:Inf: AMICI encountered an Inf value at index 8/96 in fxdot!\n",
      "[Warning] AMICI:Inf: AMICI encountered an Inf value at index 8/96 in fxdot!\n",
      "[Warning] AMICI:Inf: AMICI encountered an Inf value at index 8/96 in fxdot!\n",
      "[Warning] AMICI:Inf: AMICI encountered an Inf value at index 8/96 in fxdot!\n",
      "[Warning] AMICI:Inf: AMICI encountered an Inf value at index 8/96 in fxdot!\n",
      "[Warning] AMICI:Inf: AMICI encountered an Inf value at index 8/96 in fxdot!\n",
      "[Warning] AMICI:Inf: AMICI encountered an Inf value at index 8/96 in fxdot!\n",
      "[Warning] AMICI:Inf: AMICI encountered an Inf value at index 8/96 in fxdot!\n",
      "[Warning] AMICI:Inf: AMICI encountered an Inf value at index 8/96 in fxdot!\n",
      "[Warning] AMICI:Inf: AMICI encountered an Inf value at index 8/96 in fxdot!\n",
      "[Warning] AMICI:Inf: AMICI encountered an Inf value at index 8/96 in fxdot!\n",
      "[Warning] AMICI:Inf: AMICI encountered an Inf value at index 8/96 in fxdot!\n",
      "[Warning] AMICI:Inf: AMICI encountered an Inf value at index 8/96 in fxdot!\n",
      "[Warning] AMICI:Inf: AMICI encountered an Inf value at index 8/96 in fxdot!\n",
      "[Warning] AMICI:Inf: AMICI encountered an Inf value at index 8/96 in fxdot!\n",
      "[Warning] AMICI:Inf: AMICI encountered an Inf value at index 8/96 in fxdot!\n",
      "[Warning] AMICI:Inf: AMICI encountered an Inf value at index 8/96 in fxdot!\n",
      "[Warning] AMICI:Inf: AMICI encountered an Inf value at index 8/96 in fxdot!\n",
      "[Warning] AMICI:Inf: AMICI encountered an Inf value at index 8/96 in fxdot!\n",
      "[Warning] AMICI:Inf: AMICI encountered an Inf value at index 8/96 in fxdot!\n",
      "[Warning] AMICI:Inf: AMICI encountered an Inf value at index 8/96 in fxdot!\n",
      "[Warning] AMICI:Inf: AMICI encountered an Inf value at index 8/96 in fxdot!\n",
      "[Warning] AMICI:Inf: AMICI encountered an Inf value at index 8/96 in fxdot!\n",
      "[Warning] AMICI:Inf: AMICI encountered an Inf value at index 8/96 in fxdot!\n",
      "[Warning] AMICI:Inf: AMICI encountered an Inf value at index 8/96 in fxdot!\n",
      "[Warning] AMICI:Inf: AMICI encountered an Inf value at index 8/96 in fxdot!\n",
      "[Warning] AMICI:Inf: AMICI encountered an Inf value at index 8/96 in fxdot!\n",
      "[Warning] AMICI:Inf: AMICI encountered an Inf value at index 8/96 in fxdot!\n",
      "[Warning] AMICI:Inf: AMICI encountered an Inf value at index 8/96 in fxdot!\n",
      "[Warning] AMICI:Inf: AMICI encountered an Inf value at index 8/96 in fxdot!\n",
      "[Warning] AMICI:Inf: AMICI encountered an Inf value at index 8/96 in fxdot!\n",
      "[Warning] AMICI:Inf: AMICI encountered an Inf value at index 8/96 in fxdot!\n",
      "[Warning] AMICI:Inf: AMICI encountered an Inf value at index 8/96 in fxdot!\n",
      "[Warning] AMICI:Inf: AMICI encountered an Inf value at index 8/96 in fxdot!\n",
      "[Warning] AMICI:Inf: AMICI encountered an Inf value at index 8/96 in fxdot!\n",
      "[Warning] AMICI:Inf: AMICI encountered an Inf value at index 8/96 in fxdot!\n",
      "[Warning] AMICI:Inf: AMICI encountered an Inf value at index 8/96 in fxdot!\n",
      "[Warning] AMICI:Inf: AMICI encountered an Inf value at index 8/96 in fxdot!\n",
      "[Warning] AMICI:Inf: AMICI encountered an Inf value at index 8/96 in fxdot!\n",
      "[Warning] AMICI:Inf: AMICI encountered an Inf value at index 8/96 in fxdot!\n",
      "[Warning] AMICI:Inf: AMICI encountered an Inf value at index 8/96 in fxdot!\n",
      "[Warning] AMICI:Inf: AMICI encountered an Inf value at index 8/96 in fxdot!\n",
      "[Warning] AMICI:Inf: AMICI encountered an Inf value at index 8/96 in fxdot!\n",
      "[Warning] AMICI:Inf: AMICI encountered an Inf value at index 8/96 in fxdot!\n",
      "[Warning] AMICI:Inf: AMICI encountered an Inf value at index 8/96 in fxdot!\n",
      "[Warning] AMICI:Inf: AMICI encountered an Inf value at index 8/96 in fxdot!\n",
      "[Warning] AMICI:Inf: AMICI encountered an Inf value at index 8/96 in fxdot!\n",
      "[Warning] AMICI:Inf: AMICI encountered an Inf value at index 8/96 in fxdot!\n",
      "[Warning] AMICI:Inf: AMICI encountered an Inf value at index 8/96 in fxdot!\n",
      "[Warning] AMICI:Inf: AMICI encountered an Inf value at index 8/96 in fxdot!\n",
      "[Warning] AMICI:Inf: AMICI encountered an Inf value at index 8/96 in fxdot!\n",
      "[Warning] AMICI:Inf: AMICI encountered an Inf value at index 8/96 in fxdot!\n",
      "[Warning] AMICI:Inf: AMICI encountered an Inf value at index 8/96 in fxdot!\n",
      "[Warning] AMICI:Inf: AMICI encountered an Inf value at index 8/96 in fxdot!\n",
      "[Warning] AMICI:Inf: AMICI encountered an Inf value at index 8/96 in fxdot!\n"
     ]
    },
    {
     "name": "stderr",
     "output_type": "stream",
     "text": [
      "[Warning] AMICI:Inf: AMICI encountered an Inf value at index 8/96 in fxdot!\n",
      "[Warning] AMICI:Inf: AMICI encountered an Inf value at index 8/96 in fxdot!\n",
      "[Warning] AMICI:Inf: AMICI encountered an Inf value at index 8/96 in fxdot!\n",
      "[Warning] AMICI:Inf: AMICI encountered an Inf value at index 8/96 in fxdot!\n",
      "[Warning] AMICI:Inf: AMICI encountered an Inf value at index 8/96 in fxdot!\n",
      "[Warning] AMICI:Inf: AMICI encountered an Inf value at index 8/96 in fxdot!\n",
      "[Warning] AMICI:Inf: AMICI encountered an Inf value at index 8/96 in fxdot!\n",
      "[Warning] AMICI:Inf: AMICI encountered an Inf value at index 8/96 in fxdot!\n",
      "[Warning] AMICI:Inf: AMICI encountered an Inf value at index 8/96 in fxdot!\n",
      "[Warning] AMICI:Inf: AMICI encountered an Inf value at index 8/96 in fxdot!\n",
      "[Warning] AMICI:Inf: AMICI encountered an Inf value at index 8/96 in fxdot!\n",
      "[Warning] AMICI:Inf: AMICI encountered an Inf value at index 8/96 in fxdot!\n",
      "[Warning] AMICI:Inf: AMICI encountered an Inf value at index 8/96 in fxdot!\n",
      "[Warning] AMICI:Inf: AMICI encountered an Inf value at index 8/96 in fxdot!\n",
      "[Warning] AMICI:Inf: AMICI encountered an Inf value at index 8/96 in fxdot!\n",
      "[Warning] AMICI:Inf: AMICI encountered an Inf value at index 8/96 in fxdot!\n",
      "[Warning] AMICI:Inf: AMICI encountered an Inf value at index 8/96 in fxdot!\n",
      "[Warning] AMICI:Inf: AMICI encountered an Inf value at index 8/96 in fxdot!\n",
      "[Warning] AMICI:Inf: AMICI encountered an Inf value at index 8/96 in fxdot!\n",
      "[Warning] AMICI:Inf: AMICI encountered an Inf value at index 8/96 in fxdot!\n",
      "[Warning] AMICI:Inf: AMICI encountered an Inf value at index 8/96 in fxdot!\n",
      "[Warning] AMICI:Inf: AMICI encountered an Inf value at index 8/96 in fxdot!\n",
      "[Warning] AMICI:Inf: AMICI encountered an Inf value at index 8/96 in fxdot!\n",
      "[Warning] AMICI:Inf: AMICI encountered an Inf value at index 8/96 in fxdot!\n",
      "[Warning] AMICI:Inf: AMICI encountered an Inf value at index 8/96 in fxdot!\n",
      "[Warning] AMICI:Inf: AMICI encountered an Inf value at index 8/96 in fxdot!\n",
      "[Warning] AMICI:Inf: AMICI encountered an Inf value at index 8/96 in fxdot!\n",
      "[Warning] AMICI:Inf: AMICI encountered an Inf value at index 8/96 in fxdot!\n",
      "[Warning] AMICI:Inf: AMICI encountered an Inf value at index 8/96 in fxdot!\n",
      "[Warning] AMICI:Inf: AMICI encountered an Inf value at index 8/96 in fxdot!\n",
      "[Warning] AMICI:Inf: AMICI encountered an Inf value at index 8/96 in fxdot!\n",
      "[Warning] AMICI:Inf: AMICI encountered an Inf value at index 8/96 in fxdot!\n",
      "[Warning] AMICI:Inf: AMICI encountered an Inf value at index 8/96 in fxdot!\n",
      "[Warning] AMICI:Inf: AMICI encountered an Inf value at index 8/96 in fxdot!\n",
      "[Warning] AMICI:Inf: AMICI encountered an Inf value at index 8/96 in fxdot!\n",
      "[Warning] AMICI:Inf: AMICI encountered an Inf value at index 8/96 in fxdot!\n",
      "[Warning] AMICI:Inf: AMICI encountered an Inf value at index 8/96 in fxdot!\n",
      "[Warning] AMICI:Inf: AMICI encountered an Inf value at index 8/96 in fxdot!\n",
      "[Warning] AMICI:Inf: AMICI encountered an Inf value at index 8/96 in fxdot!\n",
      "[Warning] AMICI:Inf: AMICI encountered an Inf value at index 8/96 in fxdot!\n",
      "[Warning] AMICI:Inf: AMICI encountered an Inf value at index 8/96 in fxdot!\n",
      "[Warning] AMICI:Inf: AMICI encountered an Inf value at index 8/96 in fxdot!\n",
      "[Warning] AMICI:Inf: AMICI encountered an Inf value at index 8/96 in fxdot!\n",
      "[Warning] AMICI:Inf: AMICI encountered an Inf value at index 8/96 in fxdot!\n",
      "[Warning] AMICI:Inf: AMICI encountered an Inf value at index 8/96 in fxdot!\n",
      "[Warning] AMICI:Inf: AMICI encountered an Inf value at index 8/96 in fxdot!\n",
      "[Warning] AMICI:Inf: AMICI encountered an Inf value at index 8/96 in fxdot!\n",
      "[Warning] AMICI:Inf: AMICI encountered an Inf value at index 8/96 in fxdot!\n",
      "[Warning] AMICI:Inf: AMICI encountered an Inf value at index 8/96 in fxdot!\n",
      "[Warning] AMICI:Inf: AMICI encountered an Inf value at index 8/96 in fxdot!\n",
      "[Warning] AMICI:Inf: AMICI encountered an Inf value at index 8/96 in fxdot!\n",
      "[Warning] AMICI:Inf: AMICI encountered an Inf value at index 8/96 in fxdot!\n",
      "[Warning] AMICI:Inf: AMICI encountered an Inf value at index 8/96 in fxdot!\n",
      "[Warning] AMICI:Inf: AMICI encountered an Inf value at index 8/96 in fxdot!\n",
      "[Warning] AMICI:Inf: AMICI encountered an Inf value at index 8/96 in fxdot!\n",
      "[Warning] AMICI:Inf: AMICI encountered an Inf value at index 8/96 in fxdot!\n",
      "[Warning] AMICI:Inf: AMICI encountered an Inf value at index 8/96 in fxdot!\n",
      "[Warning] AMICI:Inf: AMICI encountered an Inf value at index 8/96 in fxdot!\n",
      "[Warning] AMICI:Inf: AMICI encountered an Inf value at index 8/96 in fxdot!\n",
      "[Warning] AMICI:Inf: AMICI encountered an Inf value at index 8/96 in fxdot!\n",
      "[Warning] AMICI:Inf: AMICI encountered an Inf value at index 8/96 in fxdot!\n",
      "[Warning] AMICI:Inf: AMICI encountered an Inf value at index 8/96 in fxdot!\n",
      "[Warning] AMICI:Inf: AMICI encountered an Inf value at index 8/96 in fxdot!\n",
      "[Warning] AMICI:Inf: AMICI encountered an Inf value at index 8/96 in fxdot!\n",
      "[Warning] AMICI:Inf: AMICI encountered an Inf value at index 8/96 in fxdot!\n",
      "[Warning] AMICI:Inf: AMICI encountered an Inf value at index 8/96 in fxdot!\n",
      "[Warning] AMICI:Inf: AMICI encountered an Inf value at index 8/96 in fxdot!\n",
      "[Warning] AMICI:Inf: AMICI encountered an Inf value at index 8/96 in fxdot!\n",
      "[Warning] AMICI:Inf: AMICI encountered an Inf value at index 8/96 in fxdot!\n",
      "[Warning] AMICI:Inf: AMICI encountered an Inf value at index 8/96 in fxdot!\n",
      "[Warning] AMICI:Inf: AMICI encountered an Inf value at index 8/96 in fxdot!\n",
      "[Warning] AMICI:Inf: AMICI encountered an Inf value at index 8/96 in fxdot!\n",
      "[Warning] AMICI:Inf: AMICI encountered an Inf value at index 8/96 in fxdot!\n",
      "[Warning] AMICI:Inf: AMICI encountered an Inf value at index 8/96 in fxdot!\n",
      "[Warning] AMICI:Inf: AMICI encountered an Inf value at index 8/96 in fxdot!\n",
      "[Warning] AMICI:Inf: AMICI encountered an Inf value at index 8/96 in fxdot!\n",
      "[Warning] AMICI:Inf: AMICI encountered an Inf value at index 8/96 in fxdot!\n",
      "[Warning] AMICI:Inf: AMICI encountered an Inf value at index 8/96 in fxdot!\n",
      "[Warning] AMICI:Inf: AMICI encountered an Inf value at index 8/96 in fxdot!\n",
      "[Warning] AMICI:Inf: AMICI encountered an Inf value at index 8/96 in fxdot!\n",
      "[Warning] AMICI:Inf: AMICI encountered an Inf value at index 8/96 in fxdot!\n",
      "[Warning] AMICI:Inf: AMICI encountered an Inf value at index 8/96 in fxdot!\n",
      "[Warning] AMICI:Inf: AMICI encountered an Inf value at index 8/96 in fxdot!\n",
      "[Warning] AMICI:Inf: AMICI encountered an Inf value at index 8/96 in fxdot!\n",
      "[Warning] AMICI:Inf: AMICI encountered an Inf value at index 8/96 in fxdot!\n",
      "[Warning] AMICI:Inf: AMICI encountered an Inf value at index 8/96 in fxdot!\n",
      "[Warning] AMICI:Inf: AMICI encountered an Inf value at index 8/96 in fxdot!\n",
      "[Warning] AMICI:Inf: AMICI encountered an Inf value at index 8/96 in fxdot!\n",
      "[Warning] AMICI:Inf: AMICI encountered an Inf value at index 8/96 in fxdot!\n",
      "[Warning] AMICI:Inf: AMICI encountered an Inf value at index 8/96 in fxdot!\n",
      "[Warning] AMICI:Inf: AMICI encountered an Inf value at index 8/96 in fxdot!\n",
      "[Warning] AMICI:Inf: AMICI encountered an Inf value at index 8/96 in fxdot!\n",
      "[Warning] AMICI:Inf: AMICI encountered an Inf value at index 8/96 in fxdot!\n",
      "[Warning] AMICI:Inf: AMICI encountered an Inf value at index 8/96 in fxdot!\n",
      "[Warning] AMICI:CVODES:CVode:OTHER: AMICI ERROR: in module CVODES in function CVode : At t = 0.316662 repeated recoverable right-hand side function errors. \n",
      "[Warning] AMICI:simulation: AMICI simulation failed:\n",
      "Steady state computation failed. First run of Newton solver failed: No convergence was achieved. Simulation to steady state failed. Second run of Newton solver failed: No convergence was achieved.\n",
      "Error occurred in:\n",
      "0          0x130ac4383 amici::SteadystateProblem::handleSteadyStateFailure(amici::Solver const*, amici::Model*) + 531\n",
      "1          0x130ac365c amici::SteadystateProblem::findSteadyState(amici::Solver*, amici::NewtonSolver*, amici::Model*, int) + 332\n",
      "2          0x130ac33be amici::SteadystateProblem::workSteadyStateProblem(amici::Solver*, amici::Model*, int) + 254\n",
      "3          0x130aa4eb1 amici::AmiciApplication::runAmiciSimulation(amici::Solver&, amici::ExpData const*, amici::Model&, bool) + 241\n",
      "4  \n",
      "[Warning] AMICI:CVODES:CVode:WARNING: AMICI ERROR: in module CVODES in function CVode : Internal t = 14.901 and h = 6.58367e-16 are such that t + h = t on the next step. The solver will continue anyway. \n",
      "[Warning] AMICI:CVODES:CVode:WARNING: AMICI ERROR: in module CVODES in function CVode : Internal t = 14.901 and h = 6.58367e-16 are such that t + h = t on the next step. The solver will continue anyway. \n",
      "[Warning] AMICI:CVODES:CVode:WARNING: AMICI ERROR: in module CVODES in function CVode : Internal t = 14.901 and h = 6.58367e-16 are such that t + h = t on the next step. The solver will continue anyway. \n",
      "[Warning] AMICI:CVODES:CVode:WARNING: AMICI ERROR: in module CVODES in function CVode : Internal t = 14.901 and h = 6.58367e-16 are such that t + h = t on the next step. The solver will continue anyway. \n",
      "[Warning] AMICI:CVODES:CVode:WARNING: AMICI ERROR: in module CVODES in function CVode : Internal t = 14.901 and h = 6.58367e-16 are such that t + h = t on the next step. The solver will continue anyway. \n",
      "[Warning] AMICI:CVODES:CVode:WARNING: AMICI ERROR: in module CVODES in function CVode : Internal t = 14.901 and h = 6.58367e-16 are such that t + h = t on the next step. The solver will continue anyway. \n",
      "[Warning] AMICI:CVODES:CVode:WARNING: AMICI ERROR: in module CVODES in function CVode : Internal t = 14.901 and h = 6.58367e-16 are such that t + h = t on the next step. The solver will continue anyway. \n",
      "[Warning] AMICI:CVODES:CVode:WARNING: AMICI ERROR: in module CVODES in function CVode : Internal t = 14.901 and h = 6.58367e-16 are such that t + h = t on the next step. The solver will continue anyway. \n",
      "[Warning] AMICI:CVODES:CVode:WARNING: AMICI ERROR: in module CVODES in function CVode : Internal t = 14.901 and h = 6.58367e-16 are such that t + h = t on the next step. The solver will continue anyway. \n",
      "[Warning] AMICI:CVODES:CVode:WARNING: AMICI ERROR: in module CVODES in function CVode : Internal t = 14.901 and h = 6.58367e-16 are such that t + h = t on the next step. The solver will continue anyway. \n",
      "[Warning] AMICI:CVODES:CVode:WARNING: AMICI ERROR: in module CVODES in function CVode : The above warning has been issued mxhnil times and will not be issued again for this problem. \n"
     ]
    },
    {
     "name": "stderr",
     "output_type": "stream",
     "text": [
      "[Warning] AMICI:Inf: AMICI encountered an Inf value at index 8/96 in fxdot!\n",
      "[Warning] AMICI:Inf: AMICI encountered an Inf value at index 8/96 in fxdot!\n",
      "[Warning] AMICI:Inf: AMICI encountered an Inf value at index 8/96 in fxdot!\n",
      "[Warning] AMICI:Inf: AMICI encountered an Inf value at index 8/96 in fxdot!\n",
      "[Warning] AMICI:Inf: AMICI encountered an Inf value at index 8/96 in fxdot!\n",
      "[Warning] AMICI:Inf: AMICI encountered an Inf value at index 8/96 in fxdot!\n",
      "[Warning] AMICI:Inf: AMICI encountered an Inf value at index 8/96 in fxdot!\n",
      "[Warning] AMICI:Inf: AMICI encountered an Inf value at index 8/96 in fxdot!\n",
      "[Warning] AMICI:Inf: AMICI encountered an Inf value at index 8/96 in fxdot!\n",
      "[Warning] AMICI:Inf: AMICI encountered an Inf value at index 8/96 in fxdot!\n",
      "[Warning] AMICI:Inf: AMICI encountered an Inf value at index 8/96 in fxdot!\n",
      "[Warning] AMICI:Inf: AMICI encountered an Inf value at index 8/96 in fxdot!\n",
      "[Warning] AMICI:Inf: AMICI encountered an Inf value at index 8/96 in fxdot!\n",
      "[Warning] AMICI:Inf: AMICI encountered an Inf value at index 8/96 in fxdot!\n",
      "[Warning] AMICI:Inf: AMICI encountered an Inf value at index 8/96 in fxdot!\n",
      "[Warning] AMICI:Inf: AMICI encountered an Inf value at index 8/96 in fxdot!\n",
      "[Warning] AMICI:Inf: AMICI encountered an Inf value at index 8/96 in fxdot!\n",
      "[Warning] AMICI:Inf: AMICI encountered an Inf value at index 8/96 in fxdot!\n",
      "[Warning] AMICI:Inf: AMICI encountered an Inf value at index 8/96 in fxdot!\n",
      "[Warning] AMICI:Inf: AMICI encountered an Inf value at index 8/96 in fxdot!\n",
      "[Warning] AMICI:Inf: AMICI encountered an Inf value at index 8/96 in fxdot!\n",
      "[Warning] AMICI:Inf: AMICI encountered an Inf value at index 8/96 in fxdot!\n",
      "[Warning] AMICI:Inf: AMICI encountered an Inf value at index 8/96 in fxdot!\n",
      "[Warning] AMICI:Inf: AMICI encountered an Inf value at index 8/96 in fxdot!\n",
      "[Warning] AMICI:Inf: AMICI encountered an Inf value at index 8/96 in fxdot!\n",
      "[Warning] AMICI:Inf: AMICI encountered an Inf value at index 8/96 in fxdot!\n",
      "[Warning] AMICI:Inf: AMICI encountered an Inf value at index 8/96 in fxdot!\n",
      "[Warning] AMICI:Inf: AMICI encountered an Inf value at index 8/96 in fxdot!\n",
      "[Warning] AMICI:Inf: AMICI encountered an Inf value at index 8/96 in fxdot!\n",
      "[Warning] AMICI:Inf: AMICI encountered an Inf value at index 8/96 in fxdot!\n",
      "[Warning] AMICI:Inf: AMICI encountered an Inf value at index 8/96 in fxdot!\n",
      "[Warning] AMICI:Inf: AMICI encountered an Inf value at index 8/96 in fxdot!\n",
      "[Warning] AMICI:Inf: AMICI encountered an Inf value at index 8/96 in fxdot!\n",
      "[Warning] AMICI:Inf: AMICI encountered an Inf value at index 8/96 in fxdot!\n",
      "[Warning] AMICI:Inf: AMICI encountered an Inf value at index 8/96 in fxdot!\n",
      "[Warning] AMICI:Inf: AMICI encountered an Inf value at index 8/96 in fxdot!\n",
      "[Warning] AMICI:Inf: AMICI encountered an Inf value at index 8/96 in fxdot!\n",
      "[Warning] AMICI:Inf: AMICI encountered an Inf value at index 8/96 in fxdot!\n",
      "[Warning] AMICI:Inf: AMICI encountered an Inf value at index 8/96 in fxdot!\n",
      "[Warning] AMICI:Inf: AMICI encountered an Inf value at index 8/96 in fxdot!\n",
      "[Warning] AMICI:Inf: AMICI encountered an Inf value at index 8/96 in fxdot!\n",
      "[Warning] AMICI:Inf: AMICI encountered an Inf value at index 8/96 in fxdot!\n",
      "[Warning] AMICI:Inf: AMICI encountered an Inf value at index 8/96 in fxdot!\n",
      "[Warning] AMICI:Inf: AMICI encountered an Inf value at index 8/96 in fxdot!\n",
      "[Warning] AMICI:Inf: AMICI encountered an Inf value at index 8/96 in fxdot!\n",
      "[Warning] AMICI:Inf: AMICI encountered an Inf value at index 8/96 in fxdot!\n",
      "[Warning] AMICI:Inf: AMICI encountered an Inf value at index 8/96 in fxdot!\n",
      "[Warning] AMICI:Inf: AMICI encountered an Inf value at index 8/96 in fxdot!\n",
      "[Warning] AMICI:Inf: AMICI encountered an Inf value at index 8/96 in fxdot!\n",
      "[Warning] AMICI:Inf: AMICI encountered an Inf value at index 8/96 in fxdot!\n",
      "[Warning] AMICI:Inf: AMICI encountered an Inf value at index 8/96 in fxdot!\n",
      "[Warning] AMICI:Inf: AMICI encountered an Inf value at index 8/96 in fxdot!\n",
      "[Warning] AMICI:Inf: AMICI encountered an Inf value at index 8/96 in fxdot!\n",
      "[Warning] AMICI:Inf: AMICI encountered an Inf value at index 8/96 in fxdot!\n",
      "[Warning] AMICI:Inf: AMICI encountered an Inf value at index 8/96 in fxdot!\n",
      "[Warning] AMICI:Inf: AMICI encountered an Inf value at index 8/96 in fxdot!\n",
      "[Warning] AMICI:Inf: AMICI encountered an Inf value at index 8/96 in fxdot!\n",
      "[Warning] AMICI:Inf: AMICI encountered an Inf value at index 8/96 in fxdot!\n",
      "[Warning] AMICI:Inf: AMICI encountered an Inf value at index 8/96 in fxdot!\n",
      "[Warning] AMICI:Inf: AMICI encountered an Inf value at index 8/96 in fxdot!\n",
      "[Warning] AMICI:Inf: AMICI encountered an Inf value at index 8/96 in fxdot!\n",
      "[Warning] AMICI:Inf: AMICI encountered an Inf value at index 8/96 in fxdot!\n",
      "[Warning] AMICI:Inf: AMICI encountered an Inf value at index 8/96 in fxdot!\n",
      "[Warning] AMICI:Inf: AMICI encountered an Inf value at index 8/96 in fxdot!\n",
      "[Warning] AMICI:Inf: AMICI encountered an Inf value at index 8/96 in fxdot!\n",
      "[Warning] AMICI:Inf: AMICI encountered an Inf value at index 8/96 in fxdot!\n",
      "[Warning] AMICI:Inf: AMICI encountered an Inf value at index 8/96 in fxdot!\n",
      "[Warning] AMICI:Inf: AMICI encountered an Inf value at index 8/96 in fxdot!\n",
      "[Warning] AMICI:Inf: AMICI encountered an Inf value at index 8/96 in fxdot!\n",
      "[Warning] AMICI:Inf: AMICI encountered an Inf value at index 8/96 in fxdot!\n",
      "[Warning] AMICI:Inf: AMICI encountered an Inf value at index 8/96 in fxdot!\n",
      "[Warning] AMICI:Inf: AMICI encountered an Inf value at index 8/96 in fxdot!\n",
      "[Warning] AMICI:Inf: AMICI encountered an Inf value at index 8/96 in fxdot!\n",
      "[Warning] AMICI:Inf: AMICI encountered an Inf value at index 8/96 in fxdot!\n",
      "[Warning] AMICI:Inf: AMICI encountered an Inf value at index 8/96 in fxdot!\n",
      "[Warning] AMICI:Inf: AMICI encountered an Inf value at index 8/96 in fxdot!\n",
      "[Warning] AMICI:Inf: AMICI encountered an Inf value at index 8/96 in fxdot!\n",
      "[Warning] AMICI:Inf: AMICI encountered an Inf value at index 8/96 in fxdot!\n",
      "[Warning] AMICI:Inf: AMICI encountered an Inf value at index 8/96 in fxdot!\n",
      "[Warning] AMICI:Inf: AMICI encountered an Inf value at index 8/96 in fxdot!\n",
      "[Warning] AMICI:Inf: AMICI encountered an Inf value at index 8/96 in fxdot!\n",
      "[Warning] AMICI:Inf: AMICI encountered an Inf value at index 8/96 in fxdot!\n",
      "[Warning] AMICI:Inf: AMICI encountered an Inf value at index 8/96 in fxdot!\n",
      "[Warning] AMICI:Inf: AMICI encountered an Inf value at index 8/96 in fxdot!\n",
      "[Warning] AMICI:Inf: AMICI encountered an Inf value at index 8/96 in fxdot!\n",
      "[Warning] AMICI:Inf: AMICI encountered an Inf value at index 8/96 in fxdot!\n",
      "[Warning] AMICI:Inf: AMICI encountered an Inf value at index 8/96 in fxdot!\n",
      "[Warning] AMICI:Inf: AMICI encountered an Inf value at index 8/96 in fxdot!\n",
      "[Warning] AMICI:Inf: AMICI encountered an Inf value at index 8/96 in fxdot!\n",
      "[Warning] AMICI:Inf: AMICI encountered an Inf value at index 8/96 in fxdot!\n",
      "[Warning] AMICI:Inf: AMICI encountered an Inf value at index 8/96 in fxdot!\n",
      "[Warning] AMICI:Inf: AMICI encountered an Inf value at index 8/96 in fxdot!\n",
      "[Warning] AMICI:Inf: AMICI encountered an Inf value at index 8/96 in fxdot!\n",
      "[Warning] AMICI:Inf: AMICI encountered an Inf value at index 8/96 in fxdot!\n",
      "[Warning] AMICI:Inf: AMICI encountered an Inf value at index 8/96 in fxdot!\n",
      "[Warning] AMICI:Inf: AMICI encountered an Inf value at index 8/96 in fxdot!\n",
      "[Warning] AMICI:Inf: AMICI encountered an Inf value at index 8/96 in fxdot!\n",
      "[Warning] AMICI:Inf: AMICI encountered an Inf value at index 8/96 in fxdot!\n",
      "[Warning] AMICI:Inf: AMICI encountered an Inf value at index 8/96 in fxdot!\n",
      "[Warning] AMICI:Inf: AMICI encountered an Inf value at index 8/96 in fxdot!\n",
      "[Warning] AMICI:Inf: AMICI encountered an Inf value at index 8/96 in fxdot!\n",
      "[Warning] AMICI:Inf: AMICI encountered an Inf value at index 8/96 in fxdot!\n",
      "[Warning] AMICI:Inf: AMICI encountered an Inf value at index 8/96 in fxdot!\n",
      "[Warning] AMICI:Inf: AMICI encountered an Inf value at index 8/96 in fxdot!\n",
      "[Warning] AMICI:Inf: AMICI encountered an Inf value at index 8/96 in fxdot!\n",
      "[Warning] AMICI:Inf: AMICI encountered an Inf value at index 8/96 in fxdot!\n",
      "[Warning] AMICI:Inf: AMICI encountered an Inf value at index 8/96 in fxdot!\n",
      "[Warning] AMICI:Inf: AMICI encountered an Inf value at index 8/96 in fxdot!\n",
      "[Warning] AMICI:Inf: AMICI encountered an Inf value at index 8/96 in fxdot!\n",
      "[Warning] AMICI:Inf: AMICI encountered an Inf value at index 8/96 in fxdot!\n",
      "[Warning] AMICI:Inf: AMICI encountered an Inf value at index 8/96 in fxdot!\n",
      "[Warning] AMICI:Inf: AMICI encountered an Inf value at index 8/96 in fxdot!\n",
      "[Warning] AMICI:Inf: AMICI encountered an Inf value at index 8/96 in fxdot!\n",
      "[Warning] AMICI:Inf: AMICI encountered an Inf value at index 8/96 in fxdot!\n",
      "[Warning] AMICI:Inf: AMICI encountered an Inf value at index 8/96 in fxdot!\n",
      "[Warning] AMICI:Inf: AMICI encountered an Inf value at index 8/96 in fxdot!\n",
      "[Warning] AMICI:Inf: AMICI encountered an Inf value at index 8/96 in fxdot!\n",
      "[Warning] AMICI:Inf: AMICI encountered an Inf value at index 8/96 in fxdot!\n"
     ]
    },
    {
     "name": "stderr",
     "output_type": "stream",
     "text": [
      "[Warning] AMICI:Inf: AMICI encountered an Inf value at index 8/96 in fxdot!\n",
      "[Warning] AMICI:Inf: AMICI encountered an Inf value at index 8/96 in fxdot!\n",
      "[Warning] AMICI:Inf: AMICI encountered an Inf value at index 8/96 in fxdot!\n",
      "[Warning] AMICI:Inf: AMICI encountered an Inf value at index 8/96 in fxdot!\n",
      "[Warning] AMICI:Inf: AMICI encountered an Inf value at index 8/96 in fxdot!\n",
      "[Warning] AMICI:Inf: AMICI encountered an Inf value at index 8/96 in fxdot!\n",
      "[Warning] AMICI:Inf: AMICI encountered an Inf value at index 8/96 in fxdot!\n",
      "[Warning] AMICI:Inf: AMICI encountered an Inf value at index 8/96 in fxdot!\n",
      "[Warning] AMICI:Inf: AMICI encountered an Inf value at index 8/96 in fxdot!\n",
      "[Warning] AMICI:Inf: AMICI encountered an Inf value at index 8/96 in fxdot!\n",
      "[Warning] AMICI:Inf: AMICI encountered an Inf value at index 8/96 in fxdot!\n",
      "[Warning] AMICI:Inf: AMICI encountered an Inf value at index 8/96 in fxdot!\n",
      "[Warning] AMICI:Inf: AMICI encountered an Inf value at index 8/96 in fxdot!\n",
      "[Warning] AMICI:Inf: AMICI encountered an Inf value at index 8/96 in fxdot!\n",
      "[Warning] AMICI:Inf: AMICI encountered an Inf value at index 8/96 in fxdot!\n",
      "[Warning] AMICI:Inf: AMICI encountered an Inf value at index 8/96 in fxdot!\n",
      "[Warning] AMICI:Inf: AMICI encountered an Inf value at index 8/96 in fxdot!\n",
      "[Warning] AMICI:Inf: AMICI encountered an Inf value at index 8/96 in fxdot!\n",
      "[Warning] AMICI:Inf: AMICI encountered an Inf value at index 8/96 in fxdot!\n",
      "[Warning] AMICI:Inf: AMICI encountered an Inf value at index 8/96 in fxdot!\n",
      "[Warning] AMICI:Inf: AMICI encountered an Inf value at index 8/96 in fxdot!\n",
      "[Warning] AMICI:Inf: AMICI encountered an Inf value at index 8/96 in fxdot!\n",
      "[Warning] AMICI:Inf: AMICI encountered an Inf value at index 8/96 in fxdot!\n",
      "[Warning] AMICI:Inf: AMICI encountered an Inf value at index 8/96 in fxdot!\n",
      "[Warning] AMICI:Inf: AMICI encountered an Inf value at index 8/96 in fxdot!\n",
      "[Warning] AMICI:Inf: AMICI encountered an Inf value at index 8/96 in fxdot!\n",
      "[Warning] AMICI:Inf: AMICI encountered an Inf value at index 8/96 in fxdot!\n",
      "[Warning] AMICI:Inf: AMICI encountered an Inf value at index 8/96 in fxdot!\n",
      "[Warning] AMICI:Inf: AMICI encountered an Inf value at index 8/96 in fxdot!\n",
      "[Warning] AMICI:Inf: AMICI encountered an Inf value at index 8/96 in fxdot!\n",
      "[Warning] AMICI:Inf: AMICI encountered an Inf value at index 8/96 in fxdot!\n",
      "[Warning] AMICI:Inf: AMICI encountered an Inf value at index 8/96 in fxdot!\n",
      "[Warning] AMICI:Inf: AMICI encountered an Inf value at index 8/96 in fxdot!\n",
      "[Warning] AMICI:Inf: AMICI encountered an Inf value at index 8/96 in fxdot!\n",
      "[Warning] AMICI:Inf: AMICI encountered an Inf value at index 8/96 in fxdot!\n",
      "[Warning] AMICI:Inf: AMICI encountered an Inf value at index 8/96 in fxdot!\n",
      "[Warning] AMICI:Inf: AMICI encountered an Inf value at index 8/96 in fxdot!\n",
      "[Warning] AMICI:Inf: AMICI encountered an Inf value at index 8/96 in fxdot!\n",
      "[Warning] AMICI:Inf: AMICI encountered an Inf value at index 8/96 in fxdot!\n",
      "[Warning] AMICI:Inf: AMICI encountered an Inf value at index 8/96 in fxdot!\n",
      "[Warning] AMICI:Inf: AMICI encountered an Inf value at index 8/96 in fxdot!\n",
      "[Warning] AMICI:Inf: AMICI encountered an Inf value at index 8/96 in fxdot!\n",
      "[Warning] AMICI:Inf: AMICI encountered an Inf value at index 8/96 in fxdot!\n",
      "[Warning] AMICI:Inf: AMICI encountered an Inf value at index 8/96 in fxdot!\n",
      "[Warning] AMICI:Inf: AMICI encountered an Inf value at index 8/96 in fxdot!\n",
      "[Warning] AMICI:Inf: AMICI encountered an Inf value at index 8/96 in fxdot!\n",
      "[Warning] AMICI:Inf: AMICI encountered an Inf value at index 8/96 in fxdot!\n",
      "[Warning] AMICI:Inf: AMICI encountered an Inf value at index 8/96 in fxdot!\n",
      "[Warning] AMICI:Inf: AMICI encountered an Inf value at index 8/96 in fxdot!\n",
      "[Warning] AMICI:Inf: AMICI encountered an Inf value at index 8/96 in fxdot!\n",
      "[Warning] AMICI:Inf: AMICI encountered an Inf value at index 8/96 in fxdot!\n",
      "[Warning] AMICI:Inf: AMICI encountered an Inf value at index 8/96 in fxdot!\n",
      "[Warning] AMICI:Inf: AMICI encountered an Inf value at index 8/96 in fxdot!\n",
      "[Warning] AMICI:Inf: AMICI encountered an Inf value at index 8/96 in fxdot!\n",
      "[Warning] AMICI:Inf: AMICI encountered an Inf value at index 8/96 in fxdot!\n",
      "[Warning] AMICI:Inf: AMICI encountered an Inf value at index 8/96 in fxdot!\n",
      "[Warning] AMICI:Inf: AMICI encountered an Inf value at index 8/96 in fxdot!\n",
      "[Warning] AMICI:Inf: AMICI encountered an Inf value at index 8/96 in fxdot!\n",
      "[Warning] AMICI:Inf: AMICI encountered an Inf value at index 8/96 in fxdot!\n",
      "[Warning] AMICI:Inf: AMICI encountered an Inf value at index 8/96 in fxdot!\n",
      "[Warning] AMICI:Inf: AMICI encountered an Inf value at index 8/96 in fxdot!\n",
      "[Warning] AMICI:Inf: AMICI encountered an Inf value at index 8/96 in fxdot!\n",
      "[Warning] AMICI:Inf: AMICI encountered an Inf value at index 8/96 in fxdot!\n",
      "[Warning] AMICI:Inf: AMICI encountered an Inf value at index 8/96 in fxdot!\n",
      "[Warning] AMICI:Inf: AMICI encountered an Inf value at index 8/96 in fxdot!\n",
      "[Warning] AMICI:Inf: AMICI encountered an Inf value at index 8/96 in fxdot!\n",
      "[Warning] AMICI:Inf: AMICI encountered an Inf value at index 8/96 in fxdot!\n",
      "[Warning] AMICI:Inf: AMICI encountered an Inf value at index 8/96 in fxdot!\n",
      "[Warning] AMICI:Inf: AMICI encountered an Inf value at index 8/96 in fxdot!\n",
      "[Warning] AMICI:Inf: AMICI encountered an Inf value at index 8/96 in fxdot!\n",
      "[Warning] AMICI:Inf: AMICI encountered an Inf value at index 8/96 in fxdot!\n",
      "[Warning] AMICI:Inf: AMICI encountered an Inf value at index 8/96 in fxdot!\n",
      "[Warning] AMICI:Inf: AMICI encountered an Inf value at index 8/96 in fxdot!\n",
      "[Warning] AMICI:Inf: AMICI encountered an Inf value at index 8/96 in fxdot!\n",
      "[Warning] AMICI:Inf: AMICI encountered an Inf value at index 8/96 in fxdot!\n",
      "[Warning] AMICI:Inf: AMICI encountered an Inf value at index 8/96 in fxdot!\n",
      "[Warning] AMICI:Inf: AMICI encountered an Inf value at index 8/96 in fxdot!\n",
      "[Warning] AMICI:Inf: AMICI encountered an Inf value at index 8/96 in fxdot!\n",
      "[Warning] AMICI:Inf: AMICI encountered an Inf value at index 8/96 in fxdot!\n",
      "[Warning] AMICI:Inf: AMICI encountered an Inf value at index 8/96 in fxdot!\n",
      "[Warning] AMICI:Inf: AMICI encountered an Inf value at index 8/96 in fxdot!\n",
      "[Warning] AMICI:Inf: AMICI encountered an Inf value at index 8/96 in fxdot!\n",
      "[Warning] AMICI:Inf: AMICI encountered an Inf value at index 8/96 in fxdot!\n",
      "[Warning] AMICI:Inf: AMICI encountered an Inf value at index 8/96 in fxdot!\n",
      "[Warning] AMICI:Inf: AMICI encountered an Inf value at index 8/96 in fxdot!\n",
      "[Warning] AMICI:Inf: AMICI encountered an Inf value at index 8/96 in fxdot!\n",
      "[Warning] AMICI:Inf: AMICI encountered an Inf value at index 8/96 in fxdot!\n",
      "[Warning] AMICI:Inf: AMICI encountered an Inf value at index 8/96 in fxdot!\n",
      "[Warning] AMICI:Inf: AMICI encountered an Inf value at index 8/96 in fxdot!\n",
      "[Warning] AMICI:Inf: AMICI encountered an Inf value at index 8/96 in fxdot!\n",
      "[Warning] AMICI:Inf: AMICI encountered an Inf value at index 8/96 in fxdot!\n",
      "[Warning] AMICI:Inf: AMICI encountered an Inf value at index 8/96 in fxdot!\n",
      "[Warning] AMICI:Inf: AMICI encountered an Inf value at index 8/96 in fxdot!\n",
      "[Warning] AMICI:Inf: AMICI encountered an Inf value at index 8/96 in fxdot!\n",
      "[Warning] AMICI:Inf: AMICI encountered an Inf value at index 8/96 in fxdot!\n",
      "[Warning] AMICI:Inf: AMICI encountered an Inf value at index 8/96 in fxdot!\n",
      "[Warning] AMICI:Inf: AMICI encountered an Inf value at index 8/96 in fxdot!\n",
      "[Warning] AMICI:Inf: AMICI encountered an Inf value at index 8/96 in fxdot!\n",
      "[Warning] AMICI:Inf: AMICI encountered an Inf value at index 8/96 in fxdot!\n",
      "[Warning] AMICI:Inf: AMICI encountered an Inf value at index 8/96 in fxdot!\n",
      "[Warning] AMICI:Inf: AMICI encountered an Inf value at index 8/96 in fxdot!\n",
      "[Warning] AMICI:Inf: AMICI encountered an Inf value at index 8/96 in fxdot!\n",
      "[Warning] AMICI:Inf: AMICI encountered an Inf value at index 8/96 in fxdot!\n",
      "[Warning] AMICI:Inf: AMICI encountered an Inf value at index 8/96 in fxdot!\n",
      "[Warning] AMICI:Inf: AMICI encountered an Inf value at index 8/96 in fxdot!\n",
      "[Warning] AMICI:Inf: AMICI encountered an Inf value at index 8/96 in fxdot!\n",
      "[Warning] AMICI:Inf: AMICI encountered an Inf value at index 8/96 in fxdot!\n",
      "[Warning] AMICI:Inf: AMICI encountered an Inf value at index 8/96 in fxdot!\n",
      "[Warning] AMICI:Inf: AMICI encountered an Inf value at index 8/96 in fxdot!\n",
      "[Warning] AMICI:Inf: AMICI encountered an Inf value at index 8/96 in fxdot!\n",
      "[Warning] AMICI:Inf: AMICI encountered an Inf value at index 8/96 in fxdot!\n",
      "[Warning] AMICI:Inf: AMICI encountered an Inf value at index 8/96 in fxdot!\n",
      "[Warning] AMICI:Inf: AMICI encountered an Inf value at index 8/96 in fxdot!\n"
     ]
    },
    {
     "name": "stderr",
     "output_type": "stream",
     "text": [
      "[Warning] AMICI:Inf: AMICI encountered an Inf value at index 8/96 in fxdot!\n",
      "[Warning] AMICI:Inf: AMICI encountered an Inf value at index 8/96 in fxdot!\n",
      "[Warning] AMICI:Inf: AMICI encountered an Inf value at index 8/96 in fxdot!\n",
      "[Warning] AMICI:Inf: AMICI encountered an Inf value at index 8/96 in fxdot!\n",
      "[Warning] AMICI:Inf: AMICI encountered an Inf value at index 8/96 in fxdot!\n",
      "[Warning] AMICI:Inf: AMICI encountered an Inf value at index 8/96 in fxdot!\n",
      "[Warning] AMICI:Inf: AMICI encountered an Inf value at index 8/96 in fxdot!\n",
      "[Warning] AMICI:Inf: AMICI encountered an Inf value at index 8/96 in fxdot!\n",
      "[Warning] AMICI:Inf: AMICI encountered an Inf value at index 8/96 in fxdot!\n",
      "[Warning] AMICI:Inf: AMICI encountered an Inf value at index 8/96 in fxdot!\n",
      "[Warning] AMICI:Inf: AMICI encountered an Inf value at index 8/96 in fxdot!\n",
      "[Warning] AMICI:Inf: AMICI encountered an Inf value at index 8/96 in fxdot!\n",
      "[Warning] AMICI:Inf: AMICI encountered an Inf value at index 8/96 in fxdot!\n",
      "[Warning] AMICI:Inf: AMICI encountered an Inf value at index 8/96 in fxdot!\n",
      "[Warning] AMICI:Inf: AMICI encountered an Inf value at index 8/96 in fxdot!\n",
      "[Warning] AMICI:Inf: AMICI encountered an Inf value at index 8/96 in fxdot!\n",
      "[Warning] AMICI:Inf: AMICI encountered an Inf value at index 8/96 in fxdot!\n",
      "[Warning] AMICI:Inf: AMICI encountered an Inf value at index 8/96 in fxdot!\n",
      "[Warning] AMICI:Inf: AMICI encountered an Inf value at index 8/96 in fxdot!\n",
      "[Warning] AMICI:Inf: AMICI encountered an Inf value at index 8/96 in fxdot!\n",
      "[Warning] AMICI:Inf: AMICI encountered an Inf value at index 8/96 in fxdot!\n",
      "[Warning] AMICI:Inf: AMICI encountered an Inf value at index 8/96 in fxdot!\n",
      "[Warning] AMICI:Inf: AMICI encountered an Inf value at index 8/96 in fxdot!\n",
      "[Warning] AMICI:Inf: AMICI encountered an Inf value at index 8/96 in fxdot!\n",
      "[Warning] AMICI:Inf: AMICI encountered an Inf value at index 8/96 in fxdot!\n",
      "[Warning] AMICI:Inf: AMICI encountered an Inf value at index 8/96 in fxdot!\n",
      "[Warning] AMICI:Inf: AMICI encountered an Inf value at index 8/96 in fxdot!\n",
      "[Warning] AMICI:Inf: AMICI encountered an Inf value at index 8/96 in fxdot!\n",
      "[Warning] AMICI:Inf: AMICI encountered an Inf value at index 8/96 in fxdot!\n",
      "[Warning] AMICI:Inf: AMICI encountered an Inf value at index 8/96 in fxdot!\n",
      "[Warning] AMICI:Inf: AMICI encountered an Inf value at index 8/96 in fxdot!\n",
      "[Warning] AMICI:Inf: AMICI encountered an Inf value at index 8/96 in fxdot!\n",
      "[Warning] AMICI:Inf: AMICI encountered an Inf value at index 8/96 in fxdot!\n",
      "[Warning] AMICI:Inf: AMICI encountered an Inf value at index 8/96 in fxdot!\n",
      "[Warning] AMICI:Inf: AMICI encountered an Inf value at index 8/96 in fxdot!\n",
      "[Warning] AMICI:Inf: AMICI encountered an Inf value at index 8/96 in fxdot!\n",
      "[Warning] AMICI:Inf: AMICI encountered an Inf value at index 8/96 in fxdot!\n",
      "[Warning] AMICI:Inf: AMICI encountered an Inf value at index 8/96 in fxdot!\n",
      "[Warning] AMICI:Inf: AMICI encountered an Inf value at index 8/96 in fxdot!\n",
      "[Warning] AMICI:Inf: AMICI encountered an Inf value at index 8/96 in fxdot!\n",
      "[Warning] AMICI:Inf: AMICI encountered an Inf value at index 8/96 in fxdot!\n",
      "[Warning] AMICI:Inf: AMICI encountered an Inf value at index 8/96 in fxdot!\n",
      "[Warning] AMICI:Inf: AMICI encountered an Inf value at index 8/96 in fxdot!\n",
      "[Warning] AMICI:Inf: AMICI encountered an Inf value at index 8/96 in fxdot!\n",
      "[Warning] AMICI:Inf: AMICI encountered an Inf value at index 8/96 in fxdot!\n",
      "[Warning] AMICI:Inf: AMICI encountered an Inf value at index 8/96 in fxdot!\n",
      "[Warning] AMICI:Inf: AMICI encountered an Inf value at index 8/96 in fxdot!\n",
      "[Warning] AMICI:Inf: AMICI encountered an Inf value at index 8/96 in fxdot!\n",
      "[Warning] AMICI:Inf: AMICI encountered an Inf value at index 8/96 in fxdot!\n",
      "[Warning] AMICI:Inf: AMICI encountered an Inf value at index 8/96 in fxdot!\n",
      "[Warning] AMICI:Inf: AMICI encountered an Inf value at index 8/96 in fxdot!\n",
      "[Warning] AMICI:Inf: AMICI encountered an Inf value at index 8/96 in fxdot!\n",
      "[Warning] AMICI:Inf: AMICI encountered an Inf value at index 8/96 in fxdot!\n",
      "[Warning] AMICI:Inf: AMICI encountered an Inf value at index 8/96 in fxdot!\n",
      "[Warning] AMICI:Inf: AMICI encountered an Inf value at index 8/96 in fxdot!\n",
      "[Warning] AMICI:Inf: AMICI encountered an Inf value at index 8/96 in fxdot!\n",
      "[Warning] AMICI:Inf: AMICI encountered an Inf value at index 8/96 in fxdot!\n",
      "[Warning] AMICI:Inf: AMICI encountered an Inf value at index 8/96 in fxdot!\n",
      "[Warning] AMICI:Inf: AMICI encountered an Inf value at index 8/96 in fxdot!\n",
      "[Warning] AMICI:Inf: AMICI encountered an Inf value at index 8/96 in fxdot!\n",
      "[Warning] AMICI:Inf: AMICI encountered an Inf value at index 8/96 in fxdot!\n",
      "[Warning] AMICI:Inf: AMICI encountered an Inf value at index 8/96 in fxdot!\n",
      "[Warning] AMICI:Inf: AMICI encountered an Inf value at index 8/96 in fxdot!\n",
      "[Warning] AMICI:Inf: AMICI encountered an Inf value at index 8/96 in fxdot!\n",
      "[Warning] AMICI:Inf: AMICI encountered an Inf value at index 8/96 in fxdot!\n",
      "[Warning] AMICI:Inf: AMICI encountered an Inf value at index 8/96 in fxdot!\n",
      "[Warning] AMICI:Inf: AMICI encountered an Inf value at index 8/96 in fxdot!\n",
      "[Warning] AMICI:Inf: AMICI encountered an Inf value at index 8/96 in fxdot!\n",
      "[Warning] AMICI:Inf: AMICI encountered an Inf value at index 8/96 in fxdot!\n",
      "[Warning] AMICI:Inf: AMICI encountered an Inf value at index 8/96 in fxdot!\n",
      "[Warning] AMICI:Inf: AMICI encountered an Inf value at index 8/96 in fxdot!\n",
      "[Warning] AMICI:Inf: AMICI encountered an Inf value at index 8/96 in fxdot!\n",
      "[Warning] AMICI:Inf: AMICI encountered an Inf value at index 8/96 in fxdot!\n",
      "[Warning] AMICI:Inf: AMICI encountered an Inf value at index 8/96 in fxdot!\n",
      "[Warning] AMICI:Inf: AMICI encountered an Inf value at index 8/96 in fxdot!\n",
      "[Warning] AMICI:Inf: AMICI encountered an Inf value at index 8/96 in fxdot!\n",
      "[Warning] AMICI:Inf: AMICI encountered an Inf value at index 8/96 in fxdot!\n",
      "[Warning] AMICI:Inf: AMICI encountered an Inf value at index 8/96 in fxdot!\n",
      "[Warning] AMICI:Inf: AMICI encountered an Inf value at index 8/96 in fxdot!\n",
      "[Warning] AMICI:Inf: AMICI encountered an Inf value at index 8/96 in fxdot!\n",
      "[Warning] AMICI:Inf: AMICI encountered an Inf value at index 8/96 in fxdot!\n",
      "[Warning] AMICI:Inf: AMICI encountered an Inf value at index 8/96 in fxdot!\n",
      "[Warning] AMICI:Inf: AMICI encountered an Inf value at index 8/96 in fxdot!\n",
      "[Warning] AMICI:Inf: AMICI encountered an Inf value at index 8/96 in fxdot!\n",
      "[Warning] AMICI:Inf: AMICI encountered an Inf value at index 8/96 in fxdot!\n",
      "[Warning] AMICI:Inf: AMICI encountered an Inf value at index 8/96 in fxdot!\n",
      "[Warning] AMICI:Inf: AMICI encountered an Inf value at index 8/96 in fxdot!\n",
      "[Warning] AMICI:Inf: AMICI encountered an Inf value at index 8/96 in fxdot!\n",
      "[Warning] AMICI:Inf: AMICI encountered an Inf value at index 8/96 in fxdot!\n",
      "[Warning] AMICI:Inf: AMICI encountered an Inf value at index 8/96 in fxdot!\n",
      "[Warning] AMICI:Inf: AMICI encountered an Inf value at index 8/96 in fxdot!\n",
      "[Warning] AMICI:Inf: AMICI encountered an Inf value at index 8/96 in fxdot!\n",
      "[Warning] AMICI:Inf: AMICI encountered an Inf value at index 8/96 in fxdot!\n",
      "[Warning] AMICI:Inf: AMICI encountered an Inf value at index 8/96 in fxdot!\n",
      "[Warning] AMICI:Inf: AMICI encountered an Inf value at index 8/96 in fxdot!\n",
      "[Warning] AMICI:Inf: AMICI encountered an Inf value at index 8/96 in fxdot!\n",
      "[Warning] AMICI:Inf: AMICI encountered an Inf value at index 8/96 in fxdot!\n",
      "[Warning] AMICI:Inf: AMICI encountered an Inf value at index 8/96 in fxdot!\n",
      "[Warning] AMICI:Inf: AMICI encountered an Inf value at index 8/96 in fxdot!\n",
      "[Warning] AMICI:Inf: AMICI encountered an Inf value at index 8/96 in fxdot!\n",
      "[Warning] AMICI:Inf: AMICI encountered an Inf value at index 8/96 in fxdot!\n",
      "[Warning] AMICI:Inf: AMICI encountered an Inf value at index 8/96 in fxdot!\n",
      "[Warning] AMICI:Inf: AMICI encountered an Inf value at index 8/96 in fxdot!\n",
      "[Warning] AMICI:Inf: AMICI encountered an Inf value at index 8/96 in fxdot!\n",
      "[Warning] AMICI:Inf: AMICI encountered an Inf value at index 8/96 in fxdot!\n",
      "[Warning] AMICI:Inf: AMICI encountered an Inf value at index 8/96 in fxdot!\n",
      "[Warning] AMICI:Inf: AMICI encountered an Inf value at index 8/96 in fxdot!\n",
      "[Warning] AMICI:Inf: AMICI encountered an Inf value at index 8/96 in fxdot!\n",
      "[Warning] AMICI:Inf: AMICI encountered an Inf value at index 8/96 in fxdot!\n",
      "[Warning] AMICI:Inf: AMICI encountered an Inf value at index 8/96 in fxdot!\n"
     ]
    },
    {
     "name": "stderr",
     "output_type": "stream",
     "text": [
      "[Warning] AMICI:Inf: AMICI encountered an Inf value at index 8/96 in fxdot!\n",
      "[Warning] AMICI:Inf: AMICI encountered an Inf value at index 8/96 in fxdot!\n",
      "[Warning] AMICI:Inf: AMICI encountered an Inf value at index 8/96 in fxdot!\n",
      "[Warning] AMICI:Inf: AMICI encountered an Inf value at index 8/96 in fxdot!\n",
      "[Warning] AMICI:Inf: AMICI encountered an Inf value at index 8/96 in fxdot!\n",
      "[Warning] AMICI:Inf: AMICI encountered an Inf value at index 8/96 in fxdot!\n",
      "[Warning] AMICI:Inf: AMICI encountered an Inf value at index 8/96 in fxdot!\n",
      "[Warning] AMICI:Inf: AMICI encountered an Inf value at index 8/96 in fxdot!\n",
      "[Warning] AMICI:Inf: AMICI encountered an Inf value at index 8/96 in fxdot!\n",
      "[Warning] AMICI:Inf: AMICI encountered an Inf value at index 8/96 in fxdot!\n",
      "[Warning] AMICI:Inf: AMICI encountered an Inf value at index 8/96 in fxdot!\n",
      "[Warning] AMICI:Inf: AMICI encountered an Inf value at index 8/96 in fxdot!\n",
      "[Warning] AMICI:Inf: AMICI encountered an Inf value at index 8/96 in fxdot!\n",
      "[Warning] AMICI:Inf: AMICI encountered an Inf value at index 8/96 in fxdot!\n",
      "[Warning] AMICI:Inf: AMICI encountered an Inf value at index 8/96 in fxdot!\n",
      "[Warning] AMICI:Inf: AMICI encountered an Inf value at index 8/96 in fxdot!\n",
      "[Warning] AMICI:Inf: AMICI encountered an Inf value at index 8/96 in fxdot!\n",
      "[Warning] AMICI:Inf: AMICI encountered an Inf value at index 8/96 in fxdot!\n",
      "[Warning] AMICI:Inf: AMICI encountered an Inf value at index 8/96 in fxdot!\n",
      "[Warning] AMICI:Inf: AMICI encountered an Inf value at index 8/96 in fxdot!\n",
      "[Warning] AMICI:Inf: AMICI encountered an Inf value at index 8/96 in fxdot!\n",
      "[Warning] AMICI:Inf: AMICI encountered an Inf value at index 8/96 in fxdot!\n",
      "[Warning] AMICI:Inf: AMICI encountered an Inf value at index 8/96 in fxdot!\n",
      "[Warning] AMICI:Inf: AMICI encountered an Inf value at index 8/96 in fxdot!\n",
      "[Warning] AMICI:Inf: AMICI encountered an Inf value at index 8/96 in fxdot!\n",
      "[Warning] AMICI:Inf: AMICI encountered an Inf value at index 8/96 in fxdot!\n",
      "[Warning] AMICI:Inf: AMICI encountered an Inf value at index 8/96 in fxdot!\n",
      "[Warning] AMICI:Inf: AMICI encountered an Inf value at index 8/96 in fxdot!\n",
      "[Warning] AMICI:Inf: AMICI encountered an Inf value at index 8/96 in fxdot!\n",
      "[Warning] AMICI:Inf: AMICI encountered an Inf value at index 8/96 in fxdot!\n",
      "[Warning] AMICI:Inf: AMICI encountered an Inf value at index 8/96 in fxdot!\n",
      "[Warning] AMICI:Inf: AMICI encountered an Inf value at index 8/96 in fxdot!\n",
      "[Warning] AMICI:Inf: AMICI encountered an Inf value at index 8/96 in fxdot!\n",
      "[Warning] AMICI:Inf: AMICI encountered an Inf value at index 8/96 in fxdot!\n",
      "[Warning] AMICI:Inf: AMICI encountered an Inf value at index 8/96 in fxdot!\n",
      "[Warning] AMICI:Inf: AMICI encountered an Inf value at index 8/96 in fxdot!\n",
      "[Warning] AMICI:Inf: AMICI encountered an Inf value at index 8/96 in fxdot!\n",
      "[Warning] AMICI:Inf: AMICI encountered an Inf value at index 8/96 in fxdot!\n",
      "[Warning] AMICI:Inf: AMICI encountered an Inf value at index 8/96 in fxdot!\n",
      "[Warning] AMICI:Inf: AMICI encountered an Inf value at index 8/96 in fxdot!\n",
      "[Warning] AMICI:Inf: AMICI encountered an Inf value at index 8/96 in fxdot!\n",
      "[Warning] AMICI:Inf: AMICI encountered an Inf value at index 8/96 in fxdot!\n",
      "[Warning] AMICI:Inf: AMICI encountered an Inf value at index 8/96 in fxdot!\n",
      "[Warning] AMICI:Inf: AMICI encountered an Inf value at index 8/96 in fxdot!\n",
      "[Warning] AMICI:Inf: AMICI encountered an Inf value at index 8/96 in fxdot!\n",
      "[Warning] AMICI:Inf: AMICI encountered an Inf value at index 8/96 in fxdot!\n",
      "[Warning] AMICI:Inf: AMICI encountered an Inf value at index 8/96 in fxdot!\n",
      "[Warning] AMICI:Inf: AMICI encountered an Inf value at index 8/96 in fxdot!\n",
      "[Warning] AMICI:Inf: AMICI encountered an Inf value at index 8/96 in fxdot!\n",
      "[Warning] AMICI:Inf: AMICI encountered an Inf value at index 8/96 in fxdot!\n",
      "[Warning] AMICI:Inf: AMICI encountered an Inf value at index 8/96 in fxdot!\n",
      "[Warning] AMICI:Inf: AMICI encountered an Inf value at index 8/96 in fxdot!\n",
      "[Warning] AMICI:Inf: AMICI encountered an Inf value at index 8/96 in fxdot!\n",
      "[Warning] AMICI:Inf: AMICI encountered an Inf value at index 8/96 in fxdot!\n",
      "[Warning] AMICI:Inf: AMICI encountered an Inf value at index 8/96 in fxdot!\n",
      "[Warning] AMICI:Inf: AMICI encountered an Inf value at index 8/96 in fxdot!\n",
      "[Warning] AMICI:Inf: AMICI encountered an Inf value at index 8/96 in fxdot!\n",
      "[Warning] AMICI:Inf: AMICI encountered an Inf value at index 8/96 in fxdot!\n",
      "[Warning] AMICI:Inf: AMICI encountered an Inf value at index 8/96 in fxdot!\n",
      "[Warning] AMICI:Inf: AMICI encountered an Inf value at index 8/96 in fxdot!\n",
      "[Warning] AMICI:Inf: AMICI encountered an Inf value at index 8/96 in fxdot!\n",
      "[Warning] AMICI:Inf: AMICI encountered an Inf value at index 8/96 in fxdot!\n",
      "[Warning] AMICI:Inf: AMICI encountered an Inf value at index 8/96 in fxdot!\n",
      "[Warning] AMICI:CVODES:CVode:OTHER: AMICI ERROR: in module CVODES in function CVode : At t = 14.901 repeated recoverable right-hand side function errors. \n",
      "[Warning] AMICI:simulation: AMICI simulation failed:\n",
      "Steady state computation failed. First run of Newton solver failed: No convergence was achieved. Simulation to steady state failed. Second run of Newton solver failed: No convergence was achieved.\n",
      "Error occurred in:\n",
      "0          0x130ac4383 amici::SteadystateProblem::handleSteadyStateFailure(amici::Solver const*, amici::Model*) + 531\n",
      "1          0x130ac365c amici::SteadystateProblem::findSteadyState(amici::Solver*, amici::NewtonSolver*, amici::Model*, int) + 332\n",
      "2          0x130ac33be amici::SteadystateProblem::workSteadyStateProblem(amici::Solver*, amici::Model*, int) + 254\n",
      "3          0x130aa4eb1 amici::AmiciApplication::runAmiciSimulation(amici::Solver&, amici::ExpData const*, amici::Model&, bool) + 241\n",
      "4  \n"
     ]
    }
   ],
   "source": [
    "pypesto_problem.objective.amici_model.setAlwaysCheckFinite(True)\n",
    "from pypesto.optimize import minimize\n",
    "result = minimize(\n",
    "    pypesto_problem, optimizer, n_starts=100, options=optimize_options,\n",
    "    startpoint_method=pypesto.startpoint.uniform,\n",
    "    engine=pypesto.engine.MultiThreadEngine(4)\n",
    ")"
   ]
  },
  {
   "cell_type": "markdown",
   "metadata": {},
   "source": [
    "To assess whether the quality of the calibration, we will now use petabs visualization feature. The visualization instructions are specified in a [`visualization table`](https://petab.readthedocs.io/en/latest/documentation_data_format.html#visualization-table), where, in the case of line plots, every row corresponds to a single pair of connected lines for data an simulation. Here we make use of the of the `petab.DATASET_ID` values that we specified in the [`measurement table`](https://petab.readthedocs.io/en/latest/documentation_data_format.html#measurement-table). In the following we will generate seperate plots for each observable and each inhibitor, where every plot shows the dose response in the EGF stimulated and unstimulated condition."
   ]
  },
  {
   "cell_type": "code",
   "execution_count": null,
   "metadata": {
    "scrolled": false
   },
   "outputs": [],
   "source": [
    "visualization_table = pd.DataFrame([\n",
    "    {\n",
    "        petab.PLOT_ID: f'{rafi}_{obs}',\n",
    "        petab.PLOT_TYPE_SIMULATION: petab.LINE_PLOT,\n",
    "        petab.PLOT_TYPE_DATA: petab.MEAN_AND_SD,\n",
    "        petab.DATASET_ID: condition,\n",
    "        petab.X_VALUES: 'RAFi_0',\n",
    "        petab.Y_VALUES: obs,\n",
    "        petab.X_SCALE: petab.LOG10,\n",
    "        petab.X_LABEL: rafi,\n",
    "        petab.Y_LABEL: obs,\n",
    "        petab.LEGEND_ENTRY: condition.split('__')[0]\n",
    "    }\n",
    "    for rafi in RAFis\n",
    "    for obs in observables_table.index\n",
    "    for condition in measurement_table[petab.DATASET_ID].unique()\n",
    "    if condition.split('__')[1] == rafi\n",
    "])"
   ]
  },
  {
   "cell_type": "code",
   "execution_count": null,
   "metadata": {},
   "outputs": [],
   "source": [
    "visualization_table"
   ]
  },
  {
   "cell_type": "markdown",
   "metadata": {},
   "source": [
    "While experimental data for visualization is already available in the [`measurement table`](https://petab.readthedocs.io/en/latest/documentation_data_format.html#measurement-table), simulations of the calibrated model still have to be computed. To generate model simulations, we extract the pre-calibrated parameter values for the best fit of the first calibration round. As optimization results are sorted in increasing order of objective function values, this can be achieved by taking the result at the first index. Simulation results can be extracted using the pypesto objective and the amici function [`amici.petab_objective.rdatas_to_simulation_df`](https://amici.readthedocs.io/en/latest/generated/amici.petab_objective.html#amici.petab_objective.rdatas_to_measurement_df). As the results contains the full parameter vector including parameter values that were not estimated, but the objective only expects estimated parameters, the parameters need to be subsetted according to the free indices. "
   ]
  },
  {
   "cell_type": "code",
   "execution_count": null,
   "metadata": {},
   "outputs": [],
   "source": [
    "x = pypesto_problem.get_reduced_vector(result.optimize_result.list[0]['x'],\n",
    "                                       pypesto_problem.x_free_indices)\n",
    "simulation = pypesto_problem.objective(x, return_dict=True)\n",
    "simulation_df = amici.petab_objective.rdatas_to_simulation_df(\n",
    "    simulation['rdatas'],\n",
    "    model=pypesto_problem.objective.amici_model,\n",
    "    measurement_df=measurement_table,\n",
    ")"
   ]
  },
  {
   "cell_type": "code",
   "execution_count": null,
   "metadata": {},
   "outputs": [],
   "source": [
    "simulation_df = simulation_df.sort_values([petab.OBSERVABLE_ID, petab.PREEQUILIBRATION_CONDITION_ID, \n",
    "                                           petab.SIMULATION_CONDITION_ID]).reset_index()\n",
    "measurement_table = measurement_table.sort_values([petab.OBSERVABLE_ID, petab.PREEQUILIBRATION_CONDITION_ID, \n",
    "                                                   petab.SIMULATION_CONDITION_ID]).reset_index()"
   ]
  },
  {
   "cell_type": "markdown",
   "metadata": {},
   "source": [
    "We can now visualize both data and simulation using [`petab.visualize.plot_data_and_simulation`](https://petab.readthedocs.io/projects/libpetab-python/en/latest/build/_autosummary/petab.visualize.plot_data_and_simulation.html#petab.visualize.plot_data_and_simulation)."
   ]
  },
  {
   "cell_type": "code",
   "execution_count": null,
   "metadata": {},
   "outputs": [],
   "source": [
    "import petab.visualize\n",
    "petab.visualize.plot_data_and_simulation(\n",
    "    exp_data=measurement_table,\n",
    "    exp_conditions=condition_table,\n",
    "    sim_data=simulation_df,\n",
    "    vis_spec=visualization_table\n",
    ");"
   ]
  },
  {
   "cell_type": "markdown",
   "metadata": {},
   "source": [
    "The visualization suggests, that model simulations take values that are similar to the data they still show qualitatively different behaviour. This suggests that the calibrated parameter values are an adequate first guess,  that this is an adequate starting point for further refinement.\n",
    "\n",
    "Before we proceed with the second calibration round, we can check the accuracy of the objective function gradient at the pre-calibrated parameter values. For this purpose we use the `check_grad_multi_eps`(https://pypesto.readthedocs.io/en/latest/api_objective.html#pypesto.objective.ObjectiveBase.check_grad_multi_eps) method, which approximates the objective function gradient using finite differences with different step sizes."
   ]
  },
  {
   "cell_type": "code",
   "execution_count": null,
   "metadata": {
    "scrolled": false
   },
   "outputs": [],
   "source": [
    "pd.set_option('display.max_rows', 100)\n",
    "pd.set_option('display.max_columns', 100)\n",
    "obj.x_names = [pypesto_problem.objective.x_names[ix] for ix in pypesto_problem.x_free_indices]\n",
    "obj.check_grad_multi_eps(x, multi_eps=[1e-1, 1e-3, 1e-5], verbosity=0)"
   ]
  },
  {
   "cell_type": "markdown",
   "metadata": {},
   "source": [
    "The method computes forward (`fd_c`), backward (`fd_b`) and central (`fd_c`) finite differences and compares them to the sensitivity based gradient (`grad`), using the  step size `eps` that yields the lowest finite difference approximation error among the provided step sizes. The results show a low error in the finite difference approximation (`fd_err`), indicating accurate evaluation of the objective function. Moreover, the small absolute (`abs_err`) and relative difference (`rel_err`) between sensitivity based gradient and finite difference approximation indicates accurate evaluation of the gradient. The large magnitude of the gradient suggest that we did not yet reach a local optimum and that further optimization will likely improve agreement between data and simulation.\n",
    "\n",
    "We will now perfom this refinement by instantiating a new optimizer with a larger computational budget of one hour."
   ]
  },
  {
   "cell_type": "code",
   "execution_count": null,
   "metadata": {},
   "outputs": [],
   "source": [
    "optimizer_fine = FidesOptimizer(options={fides.Options.MAXTIME: 3600})"
   ]
  },
  {
   "cell_type": "markdown",
   "metadata": {},
   "source": [
    "To initialize the second calibration round at the pre-calibrated parameter values, we extract the respective values from the results object and set them as guesses in the pypesto problem."
   ]
  },
  {
   "cell_type": "code",
   "execution_count": null,
   "metadata": {},
   "outputs": [],
   "source": [
    "n_refine = 10\n",
    "pypesto_problem.x_guesses_full = np.vstack(result.optimize_result.get_for_key('x')[:n_refine])"
   ]
  },
  {
   "cell_type": "markdown",
   "metadata": {},
   "source": [
    "For startpoint generation, pypesto will first start optimization runs at the provided parameter guesses and only sample new startpoint if more optimization runs than guesses are requested. As for the first calibration run, we run the calibration, again using the pyPESTO [`minimize`](https://pypesto.readthedocs.io/en/latest/api_optimize.html#pypesto.optimize.minimize) function."
   ]
  },
  {
   "cell_type": "code",
   "execution_count": null,
   "metadata": {
    "scrolled": true
   },
   "outputs": [],
   "source": [
    "result_refined = minimize(\n",
    "    pypesto_problem, optimizer_fine, n_starts=n_refine,\n",
    "    engine=pypesto.engine.MultiThreadEngine(4)\n",
    ")"
   ]
  },
  {
   "cell_type": "markdown",
   "metadata": {},
   "source": [
    "As for the pre-calibration, we now visualize the results using `petab` and the previously constructed visualization table."
   ]
  },
  {
   "cell_type": "code",
   "execution_count": null,
   "metadata": {},
   "outputs": [],
   "source": [
    "x = pypesto_problem.get_reduced_vector(result_refined.optimize_result.list[0]['x'],\n",
    "                                       pypesto_problem.x_free_indices)\n",
    "simulation = pypesto_problem.objective(x, return_dict=True)\n",
    "simulation_df = amici.petab_objective.rdatas_to_simulation_df(\n",
    "    simulation['rdatas'],\n",
    "    model=importer.create_model(),\n",
    "    measurement_df=measurement_table,\n",
    ")\n",
    "\n",
    "simulation_df = simulation_df.sort_values([petab.OBSERVABLE_ID, petab.PREEQUILIBRATION_CONDITION_ID, \n",
    "                                           petab.SIMULATION_CONDITION_ID]).reset_index()\n",
    "measurement_table = measurement_table.sort_values([petab.OBSERVABLE_ID, petab.PREEQUILIBRATION_CONDITION_ID, \n",
    "                                                   petab.SIMULATION_CONDITION_ID]).reset_index()\n",
    "\n",
    "petab.visualize.plot_data_and_simulation(\n",
    "    exp_data=measurement_table,\n",
    "    exp_conditions=condition_table,\n",
    "    sim_data=simulation_df,\n",
    "    vis_spec=visualization_table\n",
    ");"
   ]
  },
  {
   "cell_type": "markdown",
   "metadata": {},
   "source": [
    "These plots now indicate good qualitative and quantitative agreement between experimental data and model simulations. As a last step of the analysis, we now compare the objective function values across both calibration rounds using a waterfall plot."
   ]
  },
  {
   "cell_type": "code",
   "execution_count": null,
   "metadata": {},
   "outputs": [],
   "source": [
    "from pypesto.visualize import waterfall\n",
    "waterfall(results=[result,result_refined],\n",
    "          legends=['pre-calibration', 'calibration']);"
   ]
  },
  {
   "cell_type": "markdown",
   "metadata": {},
   "source": [
    "The waterfall plot shows sorted objective function values of different optimizer runs for pre-calibration and calibration. The objective function values are normalized to the best objective function value achieved across both runs. We observe that the 10 calibrated runs "
   ]
  },
  {
   "cell_type": "markdown",
   "metadata": {},
   "source": [
    "## References\n",
    "<div class=\"cite2c-biblio\"></div>"
   ]
  },
  {
   "cell_type": "code",
   "execution_count": null,
   "metadata": {},
   "outputs": [],
   "source": []
  }
 ],
 "metadata": {
  "cite2c": {
   "citations": {
    "2754712/3DK88XY2": {
     "URL": "http://arxiv.org/abs/2105.12008",
     "abstract": "Ordinary differential equation models are nowadays widely used for the mechanistic description of biological processes and their temporal evolution. These models typically have many unknown and non-measurable parameters, which have to be determined by fitting the model to experimental data. In order to perform this task, known as parameter estimation or model calibration, the modeller faces challenges such as poor parameter identifiability, lack of sufficiently informative experimental data, and the existence of local minima in the objective function landscape. These issues tend to worsen with larger model sizes, increasing the computational complexity and the number of unknown parameters. An incorrectly calibrated model is problematic because it may result in inaccurate predictions and misleading conclusions. For non-expert users, there are a large number of potential pitfalls. Here, we provide a protocol that guides the user through all the steps involved in the calibration of dynamic models. We illustrate the methodology with two models, and provide all the code required to reproduce the results and perform the same analysis on new models. Our protocol provides practitioners and researchers in biological modelling with a one-stop guide that is at the same time compact and sufficiently comprehensive to cover all aspects of the problem.",
     "accessed": {
      "day": 24,
      "month": 8,
      "year": 2021
     },
     "author": [
      {
       "family": "Villaverde",
       "given": "Alejandro F."
      },
      {
       "family": "Pathirana",
       "given": "Dilan"
      },
      {
       "family": "Fröhlich",
       "given": "Fabian"
      },
      {
       "family": "Hasenauer",
       "given": "Jan"
      },
      {
       "family": "Banga",
       "given": "Julio R."
      }
     ],
     "container-title": "arXiv:2105.12008 [q-bio]",
     "id": "2754712/3DK88XY2",
     "issued": {
      "day": 26,
      "month": 5,
      "year": 2021
     },
     "note": "arXiv: 2105.12008",
     "title": "A protocol for dynamic model calibration",
     "type": "article-journal"
    },
    "2754712/46UNKAAD": {
     "DOI": "10.1016/j.cell.2009.12.040",
     "URL": "https://www.cell.com/cell/abstract/S0092-8674(09)01626-2",
     "abstract": "<h2>Summary</h2><p>We describe a mechanism of tumorigenesis mediated by kinase-dead BRAF in the presence of oncogenic RAS. We show that drugs that selectively inhibit BRAF drive RAS-dependent BRAF binding to CRAF, CRAF activation, and MEK–ERK signaling. This does not occur when oncogenic BRAF is inhibited, demonstrating that BRAF inhibition per se does not drive pathway activation; it only occurs when BRAF is inhibited in the presence of oncogenic RAS. Kinase-dead BRAF mimics the effects of the BRAF-selective drugs and kinase-dead Braf and oncogenic Ras cooperate to induce melanoma in mice. Our data reveal another paradigm of BRAF-mediated signaling that promotes tumor progression. They highlight the importance of understanding pathway signaling in clinical practice and of genotyping tumors prior to administering BRAF-selective drugs, to identify patients who are likely to respond and also to identify patients who may experience adverse effects.</p><h3>PaperClip</h3>",
     "accessed": {
      "day": 24,
      "month": 8,
      "year": 2021
     },
     "author": [
      {
       "family": "Heidorn",
       "given": "Sonja J."
      },
      {
       "family": "Milagre",
       "given": "Carla"
      },
      {
       "family": "Whittaker",
       "given": "Steven"
      },
      {
       "family": "Nourry",
       "given": "Arnaud"
      },
      {
       "family": "Niculescu-Duvas",
       "given": "Ion"
      },
      {
       "family": "Dhomen",
       "given": "Nathalie"
      },
      {
       "family": "Hussain",
       "given": "Jahan"
      },
      {
       "family": "Reis-Filho",
       "given": "Jorge S."
      },
      {
       "family": "Springer",
       "given": "Caroline J."
      },
      {
       "family": "Pritchard",
       "given": "Catrin"
      },
      {
       "family": "Marais",
       "given": "Richard"
      }
     ],
     "container-title": "Cell",
     "container-title-short": "Cell",
     "id": "2754712/46UNKAAD",
     "issue": "2",
     "issued": {
      "day": 22,
      "month": 1,
      "year": 2010
     },
     "journalAbbreviation": "Cell",
     "language": "English",
     "note": "Publisher: Elsevier\nPMID: 20141835",
     "page": "209-221",
     "page-first": "209",
     "title": "Kinase-Dead BRAF and Oncogenic RAS Cooperate to Drive Tumor Progression through CRAF",
     "type": "article-journal",
     "volume": "140"
    },
    "2754712/68C3KR4X": {
     "DOI": "10.1038/nature08902",
     "abstract": "Tumours with mutant BRAF are dependent on the RAF-MEK-ERK signalling pathway for their growth. We found that ATP-competitive RAF inhibitors inhibit ERK signalling in cells with mutant BRAF, but unexpectedly enhance signalling in cells with wild-type BRAF. Here we demonstrate the mechanistic basis for these findings. We used chemical genetic methods to show that drug-mediated transactivation of RAF dimers is responsible for paradoxical activation of the enzyme by inhibitors. Induction of ERK signalling requires direct binding of the drug to the ATP-binding site of one kinase of the dimer and is dependent on RAS activity. Drug binding to one member of RAF homodimers (CRAF-CRAF) or heterodimers (CRAF-BRAF) inhibits one protomer, but results in transactivation of the drug-free protomer. In BRAF(V600E) tumours, RAS is not activated, thus transactivation is minimal and ERK signalling is inhibited in cells exposed to RAF inhibitors. These results indicate that RAF inhibitors will be effective in tumours in which BRAF is mutated. Furthermore, because RAF inhibitors do not inhibit ERK signalling in other cells, the model predicts that they would have a higher therapeutic index and greater antitumour activity than mitogen-activated protein kinase (MEK) inhibitors, but could also cause toxicity due to MEK/ERK activation. These predictions have been borne out in a recent clinical trial of the RAF inhibitor PLX4032 (refs 4, 5). The model indicates that promotion of RAF dimerization by elevation of wild-type RAF expression or RAS activity could lead to drug resistance in mutant BRAF tumours. In agreement with this prediction, RAF inhibitors do not inhibit ERK signalling in cells that coexpress BRAF(V600E) and mutant RAS.",
     "author": [
      {
       "family": "Poulikakos",
       "given": "Poulikos I."
      },
      {
       "family": "Zhang",
       "given": "Chao"
      },
      {
       "family": "Bollag",
       "given": "Gideon"
      },
      {
       "family": "Shokat",
       "given": "Kevan M."
      },
      {
       "family": "Rosen",
       "given": "Neal"
      }
     ],
     "container-title": "Nature",
     "container-title-short": "Nature",
     "id": "2754712/68C3KR4X",
     "issue": "7287",
     "issued": {
      "day": 18,
      "month": 3,
      "year": 2010
     },
     "journalAbbreviation": "Nature",
     "language": "eng",
     "note": "PMID: 20179705\nPMCID: PMC3178447",
     "page": "427-430",
     "page-first": "427",
     "title": "RAF inhibitors transactivate RAF dimers and ERK signalling in cells with wild-type BRAF",
     "type": "article-journal",
     "volume": "464"
    },
    "2754712/6AWGLSM9": {
     "author": [
      {
       "family": "Fiedler",
       "given": "A."
      },
      {
       "family": "Raeth",
       "given": "S."
      },
      {
       "family": "Theis",
       "given": "F. J."
      },
      {
       "family": "Hausser",
       "given": "A."
      },
      {
       "family": "Hasenauer",
       "given": "J."
      }
     ],
     "container-title": "BMC Syst. Biol.",
     "id": "2754712/6AWGLSM9",
     "issue": "80",
     "issued": {
      "month": 8,
      "year": 2016
     },
     "note": "bibtex: FiedlerRae2016",
     "title": "Tailored parameter optimization methods for ordinary differential equation models with steady-state constraints",
     "type": "article-journal",
     "volume": "10"
    },
    "2754712/6CAKFQQP": {
     "DOI": "10.1371/journal.pcbi.1000975",
     "URL": "https://journals.plos.org/ploscompbiol/article?id=10.1371/journal.pcbi.1000975",
     "abstract": "Much of the complexity of biochemical networks comes from the information-processing abilities of allosteric proteins, be they receptors, ion-channels, signalling molecules or transcription factors. An allosteric protein can be uniquely regulated by each combination of input molecules that it binds. This “regulatory complexity” causes a combinatorial increase in the number of parameters required to fit experimental data as the number of protein interactions increases. It therefore challenges the creation, updating, and re-use of biochemical models. Here, we propose a rule-based modelling framework that exploits the intrinsic modularity of protein structure to address regulatory complexity. Rather than treating proteins as “black boxes”, we model their hierarchical structure and, as conformational changes, internal dynamics. By modelling the regulation of allosteric proteins through these conformational changes, we often decrease the number of parameters required to fit data, and so reduce over-fitting and improve the predictive power of a model. Our method is thermodynamically grounded, imposes detailed balance, and also includes molecular cross-talk and the background activity of enzymes. We use our Allosteric Network Compiler to examine how allostery can facilitate macromolecular assembly and how competitive ligands can change the observed cooperativity of an allosteric protein. We also develop a parsimonious model of G protein-coupled receptors that explains functional selectivity and can predict the rank order of potency of agonists acting through a receptor. Our methodology should provide a basis for scalable, modular and executable modelling of biochemical networks in systems and synthetic biology.",
     "accessed": {
      "day": 23,
      "month": 8,
      "year": 2019
     },
     "author": [
      {
       "family": "Ollivier",
       "given": "Julien F."
      },
      {
       "family": "Shahrezaei",
       "given": "Vahid"
      },
      {
       "family": "Swain",
       "given": "Peter S."
      }
     ],
     "container-title": "PLOS Computational Biology",
     "container-title-short": "PLOS Computational Biology",
     "id": "2754712/6CAKFQQP",
     "issue": "11",
     "issued": {
      "day": 4,
      "month": 11,
      "year": 2010
     },
     "journalAbbreviation": "PLOS Computational Biology",
     "language": "en",
     "page": "e1000975",
     "page-first": "e1000975",
     "title": "Scalable Rule-Based Modelling of Allosteric Proteins and Biochemical Networks",
     "type": "article-journal",
     "volume": "6"
    },
    "2754712/6JVZVNVK": {
     "DOI": "10.15252/msb.20177651",
     "URL": "http://msb.embopress.org/content/13/11/954.abstract",
     "abstract": "Word models (natural language descriptions of molecular mechanisms) are a common currency in spoken and written communication in biomedicine but are of limited use in predicting the behavior of complex biological networks. We present an approach to building computational models directly from natural language using automated assembly. Molecular mechanisms described in simple English are read by natural language processing algorithms, converted into an intermediate representation, and assembled into executable or network models. We have implemented this approach in the Integrated Network and Dynamical Reasoning Assembler (INDRA), which draws on existing natural language processing systems as well as pathway information in Pathway Commons and other online resources. We demonstrate the use of INDRA and natural language to model three biological processes of increasing scope: (i) p53 dynamics in response to DNA damage, (ii) adaptive drug resistance in BRAF‐V600E‐mutant melanomas, and (iii) the RAS signaling pathway. The use of natural language makes the task of developing a model more efficient and it increases model transparency, thereby promoting collaboration with the broader biology community.Mol Syst Biol. (2017) 13: 954",
     "author": [
      {
       "family": "Gyori",
       "given": "Benjamin M"
      },
      {
       "family": "Bachman",
       "given": "John A"
      },
      {
       "family": "Subramanian",
       "given": "Kartik"
      },
      {
       "family": "Muhlich",
       "given": "Jeremy L"
      },
      {
       "family": "Galescu",
       "given": "Lucian"
      },
      {
       "family": "Sorger",
       "given": "Peter K"
      }
     ],
     "container-title": "Molecular Systems Biology",
     "container-title-short": "Mol Syst Biol",
     "id": "2754712/6JVZVNVK",
     "issue": "11",
     "issued": {
      "day": 1,
      "month": 11,
      "year": 2017
     },
     "journalAbbreviation": "Mol Syst Biol",
     "title": "From word models to executable models of signaling networks using automated assembly",
     "type": "article-journal",
     "volume": "13"
    },
    "2754712/7D6BBY4A": {
     "DOI": "10.1038/msb.2013.1",
     "URL": "http://msb.embopress.org/content/9/1/646",
     "abstract": "Mathematical equations are fundamental to modeling biological networks, but as networks get large and revisions frequent, it becomes difficult to manage equations directly or to combine previously developed models. Multiple simultaneous efforts to create graphical standards, rule‐based languages, and integrated software workbenches aim to simplify biological modeling but none fully meets the need for transparent, extensible, and reusable models. In this paper we describe PySB, an approach in which models are not only created using programs, they are programs. PySB draws on programmatic modeling concepts from little b and ProMot, the rule‐based languages BioNetGen and Kappa and the growing library of Python numerical tools. Central to PySB is a library of macros encoding familiar biochemical actions such as binding, catalysis, and polymerization, making it possible to use a high‐level, action‐oriented vocabulary to construct detailed models. As Python programs, PySB models leverage tools and practices from the open‐source software community, substantially advancing our ability to distribute and manage the work of testing biochemical hypotheses. We illustrate these ideas using new and previously published models of apoptosis.\nSynopsis\nPySB is a framework for creating biological models as Python programs using a high‐level, action‐oriented vocabulary that promotes transparency, extensibility and reusability. PySB interoperates with many existing modeling tools and supports distributed model development.\n\n<img class=\"highwire-embed\" alt=\"Embedded Image\" src=\"http://msb.embopress.org/sites/default/files/highwire/msb/9/1/646/embed/graphic-1.gif\"/>\n\n\nPySB models are programs and leverage existing programming tools for documentation, testing, and collaborative development.Reusable functions can encode common low‐level biochemical processes as well as high‐level modules, making models transparent and concise.Modeling workflow is accelerated through close integration with Python numerical tools and interoperability with existing modeling software.We demonstrate the use of PySB to encode 15 alternative hypotheses for the mitochondrial regulation of apoptosis, including a new ‘Embedded Together’ model based on recent biochemical findings.",
     "accessed": {
      "day": 11,
      "month": 6,
      "year": 2019
     },
     "author": [
      {
       "family": "Lopez",
       "given": "Carlos F."
      },
      {
       "family": "Muhlich",
       "given": "Jeremy L."
      },
      {
       "family": "Bachman",
       "given": "John A."
      },
      {
       "family": "Sorger",
       "given": "Peter K."
      }
     ],
     "container-title": "Molecular Systems Biology",
     "id": "2754712/7D6BBY4A",
     "issue": "1",
     "issued": {
      "day": 1,
      "month": 1,
      "year": 2013
     },
     "language": "en",
     "note": "PMID: 23423320",
     "page": "646",
     "page-first": "646",
     "title": "Programming biological models in Python using PySB",
     "type": "article-journal",
     "volume": "9"
    },
    "2754712/7TJH2IAK": {
     "DOI": "10.1016/j.celrep.2015.08.014",
     "URL": "http://www.sciencedirect.com/science/article/pii/S2211124715008852",
     "abstract": "Summary\nTreatment of cancer patients with ATP-competitive inhibitors of BRAF/CRAF kinases surprisingly increases total kinase activity, especially in wild-type BRAF cells, subverting the desired clinical outcome. Similar inhibition resistance is observed for numerous kinases involving homo/heterodimerization in their activation cycles. Here, I demonstrate that drug resistance resulting from kinase dimerization can be explained using thermodynamic principles. I show that allosteric regulation by inhibitors is described by thermodynamic factors that quantify inhibitor-induced changes in kinase dimerization and the difference in the drug affinity for a free monomer versus a dimer harboring one drug molecule. The analysis extends to kinase homo- and heterodimers, allows for their symmetric and asymmetric conformations, and predicts how thermodynamic factors influence dose-response dependencies. I show how two inhibitors, ineffective on their own, when combined can abolish drug resistance at lower doses than either inhibitor applied alone. Thus, the mechanistic models suggest ways to overcome resistance to kinase inhibitors.",
     "accessed": {
      "day": 11,
      "month": 6,
      "year": 2019
     },
     "author": [
      {
       "family": "Kholodenko",
       "given": "Boris N."
      }
     ],
     "container-title": "Cell Reports",
     "container-title-short": "Cell Reports",
     "id": "2754712/7TJH2IAK",
     "issue": "11",
     "issued": {
      "day": 22,
      "month": 9,
      "year": 2015
     },
     "journalAbbreviation": "Cell Reports",
     "page": "1939-1949",
     "page-first": "1939",
     "title": "Drug Resistance Resulting from Kinase Dimerization Is Rationalized by Thermodynamic Factors Describing Allosteric Inhibitor Effects",
     "type": "article-journal",
     "volume": "12"
    },
    "2754712/7ZXBI6XG": {
     "DOI": "10.1038/nature03095",
     "URL": "https://www-nature-com.ezp-prod1.hul.harvard.edu/articles/nature03095",
     "abstract": "Disruption of the normal regulation of cell-cycle progression and division lies at the heart of the events leading to cancer. Complex networks of regulatory factors, the tumour microenvironment and stress signals, such as those resulting from damaged DNA, dictate whether cancer cells proliferate or die. Recent progress in understanding the molecular changes that underlie cancer development offer the prospect of specifically targeting malfunctioning molecules and pathways to achieve more effective and rational cancer therapy.",
     "accessed": {
      "day": 23,
      "month": 8,
      "year": 2019
     },
     "author": [
      {
       "family": "Sawyers",
       "given": "Charles"
      }
     ],
     "container-title": "Nature",
     "container-title-short": "Nature",
     "id": "2754712/7ZXBI6XG",
     "issue": "7015",
     "issued": {
      "month": 11,
      "year": 2004
     },
     "journalAbbreviation": "Nature",
     "language": "en",
     "page": "294-297",
     "page-first": "294",
     "title": "Targeted cancer therapy",
     "type": "article-journal",
     "volume": "432"
    },
    "2754712/86CV69R2": {
     "DOI": "10.1371/journal.pcbi.1008646",
     "URL": "https://journals.plos.org/ploscompbiol/article?id=10.1371/journal.pcbi.1008646",
     "abstract": "Reproducibility and reusability of the results of data-based modeling studies are essential. Yet, there has been—so far—no broadly supported format for the specification of parameter estimation problems in systems biology. Here, we introduce PEtab, a format which facilitates the specification of parameter estimation problems using Systems Biology Markup Language (SBML) models and a set of tab-separated value files describing the observation model and experimental data as well as parameters to be estimated. We already implemented PEtab support into eight well-established model simulation and parameter estimation toolboxes with hundreds of users in total. We provide a Python library for validation and modification of a PEtab problem and currently 20 example parameter estimation problems based on recent studies.",
     "accessed": {
      "day": 13,
      "month": 4,
      "year": 2021
     },
     "author": [
      {
       "family": "Schmiester",
       "given": "Leonard"
      },
      {
       "family": "Schälte",
       "given": "Yannik"
      },
      {
       "family": "Bergmann",
       "given": "Frank T."
      },
      {
       "family": "Camba",
       "given": "Tacio"
      },
      {
       "family": "Dudkin",
       "given": "Erika"
      },
      {
       "family": "Egert",
       "given": "Janine"
      },
      {
       "family": "Fröhlich",
       "given": "Fabian"
      },
      {
       "family": "Fuhrmann",
       "given": "Lara"
      },
      {
       "family": "Hauber",
       "given": "Adrian L."
      },
      {
       "family": "Kemmer",
       "given": "Svenja"
      },
      {
       "family": "Lakrisenko",
       "given": "Polina"
      },
      {
       "family": "Loos",
       "given": "Carolin"
      },
      {
       "family": "Merkt",
       "given": "Simon"
      },
      {
       "family": "Müller",
       "given": "Wolfgang"
      },
      {
       "family": "Pathirana",
       "given": "Dilan"
      },
      {
       "family": "Raimúndez",
       "given": "Elba"
      },
      {
       "family": "Refisch",
       "given": "Lukas"
      },
      {
       "family": "Rosenblatt",
       "given": "Marcus"
      },
      {
       "family": "Stapor",
       "given": "Paul L."
      },
      {
       "family": "Städter",
       "given": "Philipp"
      },
      {
       "family": "Wang",
       "given": "Dantong"
      },
      {
       "family": "Wieland",
       "given": "Franz-Georg"
      },
      {
       "family": "Banga",
       "given": "Julio R."
      },
      {
       "family": "Timmer",
       "given": "Jens"
      },
      {
       "family": "Villaverde",
       "given": "Alejandro F."
      },
      {
       "family": "Sahle",
       "given": "Sven"
      },
      {
       "family": "Kreutz",
       "given": "Clemens"
      },
      {
       "family": "Hasenauer",
       "given": "Jan"
      },
      {
       "family": "Weindl",
       "given": "Daniel"
      }
     ],
     "container-title": "PLOS Computational Biology",
     "container-title-short": "PLOS Computational Biology",
     "id": "2754712/86CV69R2",
     "issue": "1",
     "issued": {
      "day": 26,
      "month": 1,
      "year": 2021
     },
     "journalAbbreviation": "PLOS Computational Biology",
     "language": "en",
     "note": "Publisher: Public Library of Science",
     "page": "e1008646",
     "page-first": "e1008646",
     "title": "PEtab—Interoperable specification of parameter estimation problems in systems biology",
     "type": "article-journal",
     "volume": "17"
    },
    "2754712/9T4L23VZ": {
     "DOI": "10.3389/fphy.2019.00149",
     "URL": "https://www.frontiersin.org/articles/10.3389/fphy.2019.00149/full",
     "abstract": "Ordinary differential equation (ODE) models are frequently used to mathematically represent the dynamic behavior of cellular components, e.g.\\ for describing biochemical reaction networks. Solutions of these ODE models depend non-linearly on parameters, which can be estimated using experimental data by minimizing the discrepancy between data and the model trajectories. In realistic applications, only relative, sparse and noisy data is available which makes model fitting a challenging optimization problem. In order to take account for the non-convexity of the objective function and to reveal the existence of local optima within the parameter search space, optimization is performed with multiple initial guesses. For statistically valid conclusions it is of general interest, whether distinct optimization outcomes are correctly identified as local optima originating from the non-convexity of the objective function as typically presumed, or if they are only a result of incompletely converged optimization runs and could be merged by a connecting path to a single optimum by e.g.\\ fine-tuning of the numeric algorithms. To clarify this question in application settings, we present an approach for finding optimal paths between parameter estimates in complex objective function landscapes. By analyzing the profiles of these paths, conclusions about non-trivial connections of parameter estimates can be made and by this, it can be reliably determined if two different optimization results belong to the same or to distinct local optima. For optimal path finding, we adapt the nudged elastic band (NEB) method and apply our approach to a benchmark model with a suboptimal optimization result, which yields a preferable grouping of fits afterwards.",
     "accessed": {
      "day": 14,
      "month": 1,
      "year": 2021
     },
     "author": [
      {
       "family": "Tönsing",
       "given": "Christian"
      },
      {
       "family": "Timmer",
       "given": "Jens"
      },
      {
       "family": "Kreutz",
       "given": "Clemens"
      }
     ],
     "container-title": "Frontiers in Physics",
     "container-title-short": "Front. Phys.",
     "id": "2754712/9T4L23VZ",
     "issued": {
      "year": 2019
     },
     "journalAbbreviation": "Front. Phys.",
     "language": "English",
     "note": "Publisher: Frontiers",
     "title": "Optimal Paths Between Parameter Estimates in Non-linear ODE Systems Using the Nudged Elastic Band Method",
     "type": "article-journal",
     "volume": "7"
    },
    "2754712/B6ZP8LH6": {
     "URL": "http://dx.doi.org/10.1038/sj.onc.1210394",
     "author": [
      {
       "family": "McKay",
       "given": "M M"
      },
      {
       "family": "Morrison",
       "given": "D K"
      }
     ],
     "container-title": "Oncogene",
     "container-title-short": "Oncogene",
     "id": "2754712/B6ZP8LH6",
     "issued": {
      "day": 14,
      "month": 5,
      "year": 2007
     },
     "journalAbbreviation": "Oncogene",
     "page": "3113",
     "page-first": "3113",
     "title": "Integrating signals from RTKs to ERK/MAPK",
     "type": "article-journal",
     "volume": "26"
    },
    "2754712/C7C8DJNE": {
     "DOI": "10.1098/rsif.2017.0237",
     "URL": "https://www.ncbi.nlm.nih.gov/pmc/articles/PMC5582120/",
     "abstract": "Dynamical systems describing whole cells are on the verge of becoming a reality. But as models of reality, they are only useful if we have realistic parameters for the molecular reaction rates and cell physiological processes. There is currently no suitable framework to reliably estimate hundreds, let alone thousands, of reaction rate parameters. Here, we map out the relative weaknesses and promises of different approaches aimed at redressing this issue. While suitable procedures for estimation or inference of the whole (vast) set of parameters will, in all likelihood, remain elusive, some hope can be drawn from the fact that much of the cellular behaviour may be explained in terms of smaller sets of parameters. Identifying such parameter sets and assessing their behaviour is now becoming possible even for very large systems of equations, and we expect such methods to become central tools in the development and analysis of whole-cell models.",
     "accessed": {
      "day": 23,
      "month": 7,
      "year": 2018
     },
     "author": [
      {
       "family": "Babtie",
       "given": "Ann C."
      },
      {
       "family": "Stumpf",
       "given": "Michael P. H."
      }
     ],
     "container-title": "Journal of the Royal Society Interface",
     "container-title-short": "J R Soc Interface",
     "id": "2754712/C7C8DJNE",
     "issue": "133",
     "issued": {
      "month": 8,
      "year": 2017
     },
     "journalAbbreviation": "J R Soc Interface",
     "note": "PMID: 28768879\nPMCID: PMC5582120",
     "title": "How to deal with parameters for whole-cell modelling",
     "type": "article-journal",
     "volume": "14"
    },
    "2754712/DI7IDWLV": {
     "DOI": "10.1016/j.cels.2018.06.002",
     "URL": "http://www.sciencedirect.com/science/article/pii/S2405471218302424",
     "abstract": "Summary\nClinically used RAF inhibitors are ineffective in RAS mutant tumors because they enhance homo- and heterodimerization of RAF kinases, leading to paradoxical activation of ERK signaling. Overcoming enhanced RAF dimerization and the resulting resistance is a challenge for drug design. Combining multiple inhibitors could be more effective, but it is unclear how the best combinations can be chosen. We built a next-generation mechanistic dynamic model to analyze combinations of structurally different RAF inhibitors, which can efficiently suppress MEK/ERK signaling. This rule-based model of the RAS/ERK pathway integrates thermodynamics and kinetics of drug-protein interactions, structural elements, posttranslational modifications, and cell mutational status as model rules to predict RAF inhibitor combinations for inhibiting ERK activity in oncogenic RAS and/or BRAFV600E backgrounds. Predicted synergistic inhibition of ERK signaling was corroborated by experiments in mutant NRAS, HRAS, and BRAFV600E cells, and inhibition of oncogenic RAS signaling was associated with reduced cell proliferation and colony formation.",
     "accessed": {
      "day": 11,
      "month": 6,
      "year": 2019
     },
     "author": [
      {
       "family": "Rukhlenko",
       "given": "Oleksii S."
      },
      {
       "family": "Khorsand",
       "given": "Fahimeh"
      },
      {
       "family": "Krstic",
       "given": "Aleksandar"
      },
      {
       "family": "Rozanc",
       "given": "Jan"
      },
      {
       "family": "Alexopoulos",
       "given": "Leonidas G."
      },
      {
       "family": "Rauch",
       "given": "Nora"
      },
      {
       "family": "Erickson",
       "given": "Keesha E."
      },
      {
       "family": "Hlavacek",
       "given": "William S."
      },
      {
       "family": "Posner",
       "given": "Richard G."
      },
      {
       "family": "Gómez-Coca",
       "given": "Silvia"
      },
      {
       "family": "Rosta",
       "given": "Edina"
      },
      {
       "family": "Fitzgibbon",
       "given": "Cheree"
      },
      {
       "family": "Matallanas",
       "given": "David"
      },
      {
       "family": "Rauch",
       "given": "Jens"
      },
      {
       "family": "Kolch",
       "given": "Walter"
      },
      {
       "family": "Kholodenko",
       "given": "Boris N."
      }
     ],
     "container-title": "Cell Systems",
     "container-title-short": "Cell Systems",
     "id": "2754712/DI7IDWLV",
     "issue": "2",
     "issued": {
      "day": 22,
      "month": 8,
      "year": 2018
     },
     "journalAbbreviation": "Cell Systems",
     "page": "161-179.e14",
     "page-first": "161",
     "title": "Dissecting RAF Inhibitor Resistance by Structure-based Modeling Reveals Ways to Overcome Oncogenic RAS Signaling",
     "type": "article-journal",
     "volume": "7"
    },
    "2754712/DUK5BLQ4": {
     "DOI": "10.1038/nchembio817",
     "URL": "https://www.nature.com/articles/nchembio817",
     "abstract": "Combinatorial control of biological processes, in which redundancy and multifunctionality are the norm, fundamentally limits the therapeutic index that can be achieved by even the most potent and highly selective drugs. Thus, it will almost certainly be necessary to use new 'targeted' pharmaceuticals in combinations. Multicomponent drugs are standard in cytotoxic chemotherapy, but their development has required arduous empirical testing. However, experimentally validated numerical models should greatly aid in the formulation of new combination therapies, particularly those tailored to the needs of specific patients. This perspective focuses on opportunities and challenges inherent in the application of mathematical modeling and systems approaches to pharmacology, specifically with respect to the idea of achieving combinatorial selectivity through use of multicomponent drugs.",
     "accessed": {
      "day": 29,
      "month": 8,
      "year": 2018
     },
     "author": [
      {
       "family": "Fitzgerald",
       "given": "Jonathan B."
      },
      {
       "family": "Schoeberl",
       "given": "Birgit"
      },
      {
       "family": "Nielsen",
       "given": "Ulrik B."
      },
      {
       "family": "Sorger",
       "given": "Peter K."
      }
     ],
     "container-title": "Nature Chemical Biology",
     "id": "2754712/DUK5BLQ4",
     "issue": "9",
     "issued": {
      "month": 9,
      "year": 2006
     },
     "language": "en",
     "page": "458-466",
     "page-first": "458",
     "title": "Systems biology and combination therapy in the quest for clinical efficacy",
     "type": "article-journal",
     "volume": "2"
    },
    "2754712/FMD3RVCR": {
     "DOI": "10.1093/bioinformatics/btz020",
     "URL": "https://doi.org/10.1093/bioinformatics/btz020",
     "abstract": "Dynamic models are used in systems biology to study and understand cellular processes like gene regulation or signal transduction. Frequently, ordinary differential equation (ODE) models are used to model the time and dose dependency of the abundances of molecular compounds as well as interactions and translocations. A multitude of computational approaches, e.g. for parameter estimation or uncertainty analysis have been developed within recent years. However, many of these approaches lack proper testing in application settings because a comprehensive set of benchmark problems is yet missing.We present a collection of 20 benchmark problems in order to evaluate new and existing methodologies, where an ODE model with corresponding experimental data is referred to as problem. In addition to the equations of the dynamical system, the benchmark collection provides observation functions as well as assumptions about measurement noise distributions and parameters. The presented benchmark models comprise problems of different size, complexity and numerical demands. Important characteristics of the models and methodological requirements are summarized, estimated parameters are provided, and some example studies were performed for illustrating the capabilities of the presented benchmark collection.The models are provided in several standardized formats, including an easy-to-use human readable form and machine-readable SBML files. The data is provided as Excel sheets. All files are available at https://github.com/Benchmarking-Initiative/Benchmark-Models, including step-by-step explanations and MATLAB code to process and simulate the models.Supplementary data are available at Bioinformatics online.",
     "accessed": {
      "day": 14,
      "month": 1,
      "year": 2021
     },
     "author": [
      {
       "family": "Hass",
       "given": "Helge"
      },
      {
       "family": "Loos",
       "given": "Carolin"
      },
      {
       "family": "Raimúndez-Álvarez",
       "given": "Elba"
      },
      {
       "family": "Timmer",
       "given": "Jens"
      },
      {
       "family": "Hasenauer",
       "given": "Jan"
      },
      {
       "family": "Kreutz",
       "given": "Clemens"
      }
     ],
     "container-title": "Bioinformatics",
     "container-title-short": "Bioinformatics",
     "id": "2754712/FMD3RVCR",
     "issue": "17",
     "issued": {
      "day": 1,
      "month": 9,
      "year": 2019
     },
     "journalAbbreviation": "Bioinformatics",
     "page": "3073-3082",
     "page-first": "3073",
     "title": "Benchmark problems for dynamic modeling of intracellular processes",
     "type": "article-journal",
     "volume": "35"
    },
    "2754712/GPZDY42G": {
     "DOI": "10.1038/nature08833",
     "URL": "https://www.nature.com/articles/nature08833",
     "abstract": "The RAS–RAF signalling pathway is an attractive target for drug development in oncology, and several RAF inhibitors are being tested in clinical trials. Here and in an accompanying paper, RAF inhibitors are shown to have opposing roles, functioning as either inhibitors or activators of RAF depending on the cellular context and mutational status of RAF. The mechanistic basis for these opposing roles is dissected. The results have implications for the clinical use of these inhibitors and for the design of kinase inhibitors.",
     "accessed": {
      "day": 15,
      "month": 6,
      "year": 2020
     },
     "author": [
      {
       "family": "Hatzivassiliou",
       "given": "Georgia"
      },
      {
       "family": "Song",
       "given": "Kyung"
      },
      {
       "family": "Yen",
       "given": "Ivana"
      },
      {
       "family": "Brandhuber",
       "given": "Barbara J."
      },
      {
       "family": "Anderson",
       "given": "Daniel J."
      },
      {
       "family": "Alvarado",
       "given": "Ryan"
      },
      {
       "family": "Ludlam",
       "given": "Mary J. C."
      },
      {
       "family": "Stokoe",
       "given": "David"
      },
      {
       "family": "Gloor",
       "given": "Susan L."
      },
      {
       "family": "Vigers",
       "given": "Guy"
      },
      {
       "family": "Morales",
       "given": "Tony"
      },
      {
       "family": "Aliagas",
       "given": "Ignacio"
      },
      {
       "family": "Liu",
       "given": "Bonnie"
      },
      {
       "family": "Sideris",
       "given": "Steve"
      },
      {
       "family": "Hoeflich",
       "given": "Klaus P."
      },
      {
       "family": "Jaiswal",
       "given": "Bijay S."
      },
      {
       "family": "Seshagiri",
       "given": "Somasekar"
      },
      {
       "family": "Koeppen",
       "given": "Hartmut"
      },
      {
       "family": "Belvin",
       "given": "Marcia"
      },
      {
       "family": "Friedman",
       "given": "Lori S."
      },
      {
       "family": "Malek",
       "given": "Shiva"
      }
     ],
     "container-title": "Nature",
     "container-title-short": "Nature",
     "id": "2754712/GPZDY42G",
     "issue": "7287",
     "issued": {
      "month": 3,
      "year": 2010
     },
     "journalAbbreviation": "Nature",
     "language": "en",
     "note": "Number: 7287\nPublisher: Nature Publishing Group",
     "page": "431-435",
     "page-first": "431",
     "title": "RAF inhibitors prime wild-type RAF to activate the MAPK pathway and enhance growth",
     "type": "article-journal",
     "volume": "464"
    },
    "2754712/HBAI2XHJ": {
     "DOI": "10.1093/bioinformatics/btab227",
     "URL": "https://doi.org/10.1093/bioinformatics/btab227",
     "abstract": "Ordinary differential equation models facilitate the understanding of cellular signal transduction and other biological processes. However, for large and comprehensive models, the computational cost of simulating or calibrating can be limiting. AMICI is a modular toolbox implemented in C ++/Python/MATLAB that provides efficient simulation and sensitivity analysis routines tailored for scalable, gradient-based parameter estimation and uncertainty quantification.AMICI is published under the permissive BSD-3-Clause license with source code publicly available on https://github.com/AMICI-dev/AMICI. Citeable releases are archived on Zenodo.Supplementary data are available at Bioinformatics online.",
     "accessed": {
      "day": 13,
      "month": 4,
      "year": 2021
     },
     "author": [
      {
       "family": "Fröhlich",
       "given": "Fabian"
      },
      {
       "family": "Weindl",
       "given": "Daniel"
      },
      {
       "family": "Schälte",
       "given": "Yannik"
      },
      {
       "family": "Pathirana",
       "given": "Dilan"
      },
      {
       "family": "Paszkowski",
       "given": "Łukasz"
      },
      {
       "family": "Lines",
       "given": "Glenn Terje"
      },
      {
       "family": "Stapor",
       "given": "Paul"
      },
      {
       "family": "Hasenauer",
       "given": "Jan"
      }
     ],
     "container-title": "Bioinformatics",
     "container-title-short": "Bioinformatics",
     "id": "2754712/HBAI2XHJ",
     "issue": "btab227",
     "issued": {
      "day": 2,
      "month": 4,
      "year": 2021
     },
     "journalAbbreviation": "Bioinformatics",
     "shortTitle": "AMICI",
     "title": "AMICI: High-Performance Sensitivity Analysis for Large Ordinary Differential Equation Models",
     "title-short": "AMICI",
     "type": "article-journal"
    },
    "2754712/HHEWVKQL": {
     "DOI": "10.1016/j.coisb.2021.03.005",
     "URL": "https://www.sciencedirect.com/science/article/pii/S245231002100007X",
     "abstract": "We discuss issues of structural and practical identifiability of partially observed differential equations, which are often applied in systems biology. The development of mathematical methods to investigate structural nonidentifiability has a long tradition. Computationally efficient methods to detect and cure it have been developed recently. Practical nonidentifiability, on the other hand, has not been investigated at the same conceptually clear level. We argue that practical identifiability is more challenging than structural identifiability when it comes to modeling experimental data. We discuss that the classical approach based on the Fisher information matrix has severe shortcomings. As an alternative, we propose using the profile likelihood, which is a powerful approach to detect and resolve practical nonidentifiability.",
     "accessed": {
      "day": 24,
      "month": 8,
      "year": 2021
     },
     "author": [
      {
       "family": "Wieland",
       "given": "Franz-Georg"
      },
      {
       "family": "Hauber",
       "given": "Adrian L."
      },
      {
       "family": "Rosenblatt",
       "given": "Marcus"
      },
      {
       "family": "Tönsing",
       "given": "Christian"
      },
      {
       "family": "Timmer",
       "given": "Jens"
      }
     ],
     "container-title": "Current Opinion in Systems Biology",
     "container-title-short": "Current Opinion in Systems Biology",
     "id": "2754712/HHEWVKQL",
     "issued": {
      "day": 1,
      "month": 3,
      "year": 2021
     },
     "journalAbbreviation": "Current Opinion in Systems Biology",
     "language": "en",
     "page": "60-69",
     "page-first": "60",
     "title": "On structural and practical identifiability",
     "type": "article-journal",
     "volume": "25"
    },
    "2754712/I4JQ4DMV": {
     "DOI": "10.1016/j.cels.2020.10.002",
     "URL": "https://www.sciencedirect.com/science/article/pii/S2405471220303707",
     "abstract": "Targeted inhibition of oncogenic pathways can be highly effective in halting the rapid growth of tumors but often leads to the emergence of slowly dividing persister cells, which constitute a reservoir for the selection of drug-resistant clones. In BRAFV600E melanomas, RAF and MEK inhibitors efficiently block oncogenic signaling, but persister cells emerge. Here, we show that persister cells escape drug-induced cell-cycle arrest via brief, sporadic ERK pulses generated by transmembrane receptors and growth factors operating in an autocrine/paracrine manner. Quantitative proteomics and computational modeling show that ERK pulsing is enabled by rewiring of mitogen-activated protein kinase (MAPK) signaling: from an oncogenic BRAFV600E monomer-driven configuration that is drug sensitive to a receptor-driven configuration that involves Ras-GTP and RAF dimers and is highly resistant to RAF and MEK inhibitors. Altogether, this work shows that pulsatile MAPK activation by factors in the microenvironment generates a persistent population of melanoma cells that rewires MAPK signaling to sustain non-genetic drug resistance.",
     "accessed": {
      "day": 8,
      "month": 3,
      "year": 2021
     },
     "author": [
      {
       "family": "Gerosa",
       "given": "Luca"
      },
      {
       "family": "Chidley",
       "given": "Christopher"
      },
      {
       "family": "Fröhlich",
       "given": "Fabian"
      },
      {
       "family": "Sanchez",
       "given": "Gabriela"
      },
      {
       "family": "Lim",
       "given": "Sang Kyun"
      },
      {
       "family": "Muhlich",
       "given": "Jeremy"
      },
      {
       "family": "Chen",
       "given": "Jia-Yun"
      },
      {
       "family": "Vallabhaneni",
       "given": "Sreeram"
      },
      {
       "family": "Baker",
       "given": "Gregory J."
      },
      {
       "family": "Schapiro",
       "given": "Denis"
      },
      {
       "family": "Atanasova",
       "given": "Mariya I."
      },
      {
       "family": "Chylek",
       "given": "Lily A."
      },
      {
       "family": "Shi",
       "given": "Tujin"
      },
      {
       "family": "Yi",
       "given": "Lian"
      },
      {
       "family": "Nicora",
       "given": "Carrie D."
      },
      {
       "family": "Claas",
       "given": "Allison"
      },
      {
       "family": "Ng",
       "given": "Thomas S. C."
      },
      {
       "family": "Kohler",
       "given": "Rainer H."
      },
      {
       "family": "Lauffenburger",
       "given": "Douglas A."
      },
      {
       "family": "Weissleder",
       "given": "Ralph"
      },
      {
       "family": "Miller",
       "given": "Miles A."
      },
      {
       "family": "Qian",
       "given": "Wei-Jun"
      },
      {
       "family": "Wiley",
       "given": "H. Steven"
      },
      {
       "family": "Sorger",
       "given": "Peter K."
      }
     ],
     "container-title": "Cell Systems",
     "container-title-short": "Cell Systems",
     "id": "2754712/I4JQ4DMV",
     "issue": "5",
     "issued": {
      "day": 18,
      "month": 11,
      "year": 2020
     },
     "journalAbbreviation": "Cell Systems",
     "language": "en",
     "page": "478-494.e9",
     "page-first": "478",
     "title": "Receptor-Driven ERK Pulses Reconfigure MAPK Signaling and Enable Persistence of Drug-Adapted BRAF-Mutant Melanoma Cells",
     "type": "article-journal",
     "volume": "11"
    },
    "2754712/I9T5NNAF": {
     "author": [
      {
       "family": "Hoops",
       "given": "S."
      },
      {
       "family": "Sahle",
       "given": "S."
      },
      {
       "family": "Gauges",
       "given": "R."
      },
      {
       "family": "Lee",
       "given": "C."
      },
      {
       "family": "Pahle",
       "given": "J."
      },
      {
       "family": "Simus",
       "given": "N."
      },
      {
       "family": "Singhal",
       "given": "M."
      },
      {
       "family": "Xu",
       "given": "L."
      },
      {
       "family": "Mendes",
       "given": "P."
      },
      {
       "family": "Kummer",
       "given": "U."
      }
     ],
     "container-title": "Bioinf.",
     "id": "2754712/I9T5NNAF",
     "issued": {
      "year": 2006
     },
     "note": "bibtex: HoopsSah2006",
     "page": "3067-3074",
     "page-first": "3067",
     "title": "COPASI -- a COmplex PAthway SImulator",
     "type": "article-journal",
     "volume": "22"
    },
    "2754712/ICNACSXA": {
     "DOI": "10.1101/2020.09.03.268276",
     "URL": "https://www.biorxiv.org/content/10.1101/2020.09.03.268276v1",
     "abstract": "<p>Ordinary differential equation (ODE) models are a key tool to understand complex mechanisms in systems biology. These models are studied using various approaches, including stability and bifurcation analysis, but most frequently by numerical simulations. The number of required simulations is often large, e.g., when unknown parameters need to be inferred. This renders efficient and reliable numerical integration methods essential. However, these methods depend on various hyperparameters, which strongly impact the ODE solution. Despite this, and although hundreds of published ODE models are freely available in public databases, a thorough study that quantifies the impact of hyperparameters on the ODE solver in terms of accuracy and computation time is still missing. In this manuscript, we investigate which choices of algorithms and hyperparameters are generally favorable when dealing with ODE models arising from biological processes. To ensure a representative evaluation, we considered 167 published models. Our study provides evidence that most ODEs in computational biology are stiff, and we give guidelines for the choice of algorithms and hyperparameters. We anticipate that our results will help researchers in systems biology to choose appropriate numerical methods when dealing with ODE models.</p>",
     "accessed": {
      "day": 28,
      "month": 9,
      "year": 2020
     },
     "author": [
      {
       "family": "Städter",
       "given": "Philipp"
      },
      {
       "family": "Schälte",
       "given": "Yannik"
      },
      {
       "family": "Schmiester",
       "given": "Leonard"
      },
      {
       "family": "Hasenauer",
       "given": "Jan"
      },
      {
       "family": "Stapor",
       "given": "Paul L."
      }
     ],
     "container-title": "bioRxiv",
     "id": "2754712/ICNACSXA",
     "issued": {
      "day": 4,
      "month": 9,
      "year": 2020
     },
     "language": "en",
     "note": "Publisher: Cold Spring Harbor Laboratory\nSection: New Results",
     "page": "2020.09.03.268276",
     "page-first": "2020.09.03.268276",
     "title": "Benchmarking of numerical integration methods for ODE models of biological systems",
     "type": "article-journal"
    },
    "2754712/INKV577L": {
     "DOI": "10.1093/bioinformatics/bty736",
     "URL": "https://doi.org/10.1093/bioinformatics/bty736",
     "abstract": "Kinetic models contain unknown parameters that are estimated by optimizing the fit to experimental data. This task can be computationally challenging due to the presence of local optima and ill-conditioning. While a variety of optimization methods have been suggested to surmount these issues, it is difficult to choose the best one for a given problem a priori. A systematic comparison of parameter estimation methods for problems with tens to hundreds of optimization variables is currently missing, and smaller studies provided contradictory findings.We use a collection of benchmarks to evaluate the performance of two families of optimization methods: (i) multi-starts of deterministic local searches and (ii) stochastic global optimization metaheuristics; the latter may be combined with deterministic local searches, leading to hybrid methods. A fair comparison is ensured through a collaborative evaluation and a consideration of multiple performance metrics. We discuss possible evaluation criteria to assess the trade-off between computational efficiency and robustness. Our results show that, thanks to recent advances in the calculation of parametric sensitivities, a multi-start of gradient-based local methods is often a successful strategy, but a better performance can be obtained with a hybrid metaheuristic. The best performer combines a global scatter search metaheuristic with an interior point local method, provided with gradients estimated with adjoint-based sensitivities. We provide an implementation of this method to render it available to the scientific community.The code to reproduce the results is provided as Supplementary Material and is available at Zenodo https://doi.org/10.5281/zenodo.1304034.Supplementary data are available at Bioinformatics online.",
     "accessed": {
      "day": 14,
      "month": 3,
      "year": 2021
     },
     "author": [
      {
       "family": "Villaverde",
       "given": "Alejandro F"
      },
      {
       "family": "Fröhlich",
       "given": "Fabian"
      },
      {
       "family": "Weindl",
       "given": "Daniel"
      },
      {
       "family": "Hasenauer",
       "given": "Jan"
      },
      {
       "family": "Banga",
       "given": "Julio R"
      }
     ],
     "container-title": "Bioinformatics",
     "container-title-short": "Bioinformatics",
     "id": "2754712/INKV577L",
     "issue": "5",
     "issued": {
      "day": 1,
      "month": 3,
      "year": 2019
     },
     "journalAbbreviation": "Bioinformatics",
     "page": "830-838",
     "page-first": "830",
     "title": "Benchmarking optimization methods for parameter estimation in large kinetic models",
     "type": "article-journal",
     "volume": "35"
    },
    "2754712/L8NRTXRQ": {
     "DOI": "10.1016/j.cell.2018.03.035",
     "URL": "http://dx.doi.org/10.1016/j.cell.2018.03.035",
     "accessed": {
      "day": 22,
      "month": 7,
      "year": 2018
     },
     "author": [
      {
       "family": "Sanchez-Vega",
       "given": "Francisco"
      },
      {
       "family": "Mina",
       "given": "Marco"
      },
      {
       "family": "Armenia",
       "given": "Joshua"
      },
      {
       "family": "Chatila",
       "given": "Walid K."
      },
      {
       "family": "Luna",
       "given": "Augustin"
      },
      {
       "family": "La",
       "given": "Konnor C."
      },
      {
       "family": "Dimitriadoy",
       "given": "Sofia"
      },
      {
       "family": "Liu",
       "given": "David L."
      },
      {
       "family": "Kantheti",
       "given": "Havish S."
      },
      {
       "family": "Saghafinia",
       "given": "Sadegh"
      },
      {
       "family": "Chakravarty",
       "given": "Debyani"
      },
      {
       "family": "Daian",
       "given": "Foysal"
      },
      {
       "family": "Gao",
       "given": "Qingsong"
      },
      {
       "family": "Bailey",
       "given": "Matthew H."
      },
      {
       "family": "Liang",
       "given": "Wen-Wei"
      },
      {
       "family": "Foltz",
       "given": "Steven M."
      },
      {
       "family": "Shmulevich",
       "given": "Ilya"
      },
      {
       "family": "Ding",
       "given": "Li"
      },
      {
       "family": "Heins",
       "given": "Zachary"
      },
      {
       "family": "Ochoa",
       "given": "Angelica"
      },
      {
       "family": "Gross",
       "given": "Benjamin"
      },
      {
       "family": "Gao",
       "given": "Jianjiong"
      },
      {
       "family": "Zhang",
       "given": "Hongxin"
      },
      {
       "family": "Kundra",
       "given": "Ritika"
      },
      {
       "family": "Kandoth",
       "given": "Cyriac"
      },
      {
       "family": "Bahceci",
       "given": "Istemi"
      },
      {
       "family": "Dervishi",
       "given": "Leonard"
      },
      {
       "family": "Dogrusoz",
       "given": "Ugur"
      },
      {
       "family": "Zhou",
       "given": "Wanding"
      },
      {
       "family": "Shen",
       "given": "Hui"
      },
      {
       "family": "Laird",
       "given": "Peter W."
      },
      {
       "family": "Way",
       "given": "Gregory P."
      },
      {
       "family": "Greene",
       "given": "Casey S."
      },
      {
       "family": "Liang",
       "given": "Han"
      },
      {
       "family": "Xiao",
       "given": "Yonghong"
      },
      {
       "family": "Wang",
       "given": "Chen"
      },
      {
       "family": "Iavarone",
       "given": "Antonio"
      },
      {
       "family": "Berger",
       "given": "Alice H."
      },
      {
       "family": "Bivona",
       "given": "Trever G."
      },
      {
       "family": "Lazar",
       "given": "Alexander J."
      },
      {
       "family": "Hammer",
       "given": "Gary D."
      },
      {
       "family": "Giordano",
       "given": "Thomas"
      },
      {
       "family": "Kwong",
       "given": "Lawrence N."
      },
      {
       "family": "McArthur",
       "given": "Grant"
      },
      {
       "family": "Huang",
       "given": "Chenfei"
      },
      {
       "family": "Tward",
       "given": "Aaron D."
      },
      {
       "family": "Frederick",
       "given": "Mitchell J."
      },
      {
       "family": "McCormick",
       "given": "Frank"
      },
      {
       "family": "Meyerson",
       "given": "Matthew"
      },
      {
       "family": "Caesar-Johnson",
       "given": "Samantha J."
      },
      {
       "family": "Demchok",
       "given": "John A."
      },
      {
       "family": "Felau",
       "given": "Ina"
      },
      {
       "family": "Kasapi",
       "given": "Melpomeni"
      },
      {
       "family": "Ferguson",
       "given": "Martin L."
      },
      {
       "family": "Hutter",
       "given": "Carolyn M."
      },
      {
       "family": "Sofia",
       "given": "Heidi J."
      },
      {
       "family": "Tarnuzzer",
       "given": "Roy"
      },
      {
       "family": "Wang",
       "given": "Zhining"
      },
      {
       "family": "Yang",
       "given": "Liming"
      },
      {
       "family": "Zenklusen",
       "given": "Jean C."
      },
      {
       "family": "Zhang",
       "given": "Jiashan (Julia)"
      },
      {
       "family": "Chudamani",
       "given": "Sudha"
      },
      {
       "family": "Liu",
       "given": "Jia"
      },
      {
       "family": "Lolla",
       "given": "Laxmi"
      },
      {
       "family": "Naresh",
       "given": "Rashi"
      },
      {
       "family": "Pihl",
       "given": "Todd"
      },
      {
       "family": "Sun",
       "given": "Qiang"
      },
      {
       "family": "Wan",
       "given": "Yunhu"
      },
      {
       "family": "Wu",
       "given": "Ye"
      },
      {
       "family": "Cho",
       "given": "Juok"
      },
      {
       "family": "DeFreitas",
       "given": "Timothy"
      },
      {
       "family": "Frazer",
       "given": "Scott"
      },
      {
       "family": "Gehlenborg",
       "given": "Nils"
      },
      {
       "family": "Getz",
       "given": "Gad"
      },
      {
       "family": "Heiman",
       "given": "David I."
      },
      {
       "family": "Kim",
       "given": "Jaegil"
      },
      {
       "family": "Lawrence",
       "given": "Michael S."
      },
      {
       "family": "Lin",
       "given": "Pei"
      },
      {
       "family": "Meier",
       "given": "Sam"
      },
      {
       "family": "Noble",
       "given": "Michael S."
      },
      {
       "family": "Saksena",
       "given": "Gordon"
      },
      {
       "family": "Voet",
       "given": "Doug"
      },
      {
       "family": "Zhang",
       "given": "Hailei"
      },
      {
       "family": "Bernard",
       "given": "Brady"
      },
      {
       "family": "Chambwe",
       "given": "Nyasha"
      },
      {
       "family": "Dhankani",
       "given": "Varsha"
      },
      {
       "family": "Knijnenburg",
       "given": "Theo"
      },
      {
       "family": "Kramer",
       "given": "Roger"
      },
      {
       "family": "Leinonen",
       "given": "Kalle"
      },
      {
       "family": "Liu",
       "given": "Yuexin"
      },
      {
       "family": "Miller",
       "given": "Michael"
      },
      {
       "family": "Reynolds",
       "given": "Sheila"
      },
      {
       "family": "Shmulevich",
       "given": "Ilya"
      },
      {
       "family": "Thorsson",
       "given": "Vesteinn"
      },
      {
       "family": "Zhang",
       "given": "Wei"
      },
      {
       "family": "Akbani",
       "given": "Rehan"
      },
      {
       "family": "Broom",
       "given": "Bradley M."
      },
      {
       "family": "Hegde",
       "given": "Apurva M."
      },
      {
       "family": "Ju",
       "given": "Zhenlin"
      },
      {
       "family": "Kanchi",
       "given": "Rupa S."
      },
      {
       "family": "Korkut",
       "given": "Anil"
      },
      {
       "family": "Li",
       "given": "Jun"
      },
      {
       "family": "Liang",
       "given": "Han"
      },
      {
       "family": "Ling",
       "given": "Shiyun"
      },
      {
       "family": "Liu",
       "given": "Wenbin"
      },
      {
       "family": "Lu",
       "given": "Yiling"
      },
      {
       "family": "Mills",
       "given": "Gordon B."
      },
      {
       "family": "Ng",
       "given": "Kwok-Shing"
      },
      {
       "family": "Rao",
       "given": "Arvind"
      },
      {
       "family": "Ryan",
       "given": "Michael"
      },
      {
       "family": "Wang",
       "given": "Jing"
      },
      {
       "family": "Weinstein",
       "given": "John N."
      },
      {
       "family": "Zhang",
       "given": "Jiexin"
      },
      {
       "family": "Abeshouse",
       "given": "Adam"
      },
      {
       "family": "Armenia",
       "given": "Joshua"
      },
      {
       "family": "Chakravarty",
       "given": "Debyani"
      },
      {
       "family": "Chatila",
       "given": "Walid K."
      },
      {
       "family": "de Bruijn",
       "given": "Ino"
      },
      {
       "family": "Gao",
       "given": "Jianjiong"
      },
      {
       "family": "Gross",
       "given": "Benjamin E."
      },
      {
       "family": "Heins",
       "given": "Zachary J."
      },
      {
       "family": "Kundra",
       "given": "Ritika"
      },
      {
       "family": "La",
       "given": "Konnor"
      },
      {
       "family": "Ladanyi",
       "given": "Marc"
      },
      {
       "family": "Luna",
       "given": "Augustin"
      },
      {
       "family": "Nissan",
       "given": "Moriah G."
      },
      {
       "family": "Ochoa",
       "given": "Angelica"
      },
      {
       "family": "Phillips",
       "given": "Sarah M."
      },
      {
       "family": "Reznik",
       "given": "Ed"
      },
      {
       "family": "Sanchez-Vega",
       "given": "Francisco"
      },
      {
       "family": "Sander",
       "given": "Chris"
      },
      {
       "family": "Schultz",
       "given": "Nikolaus"
      },
      {
       "family": "Sheridan",
       "given": "Robert"
      },
      {
       "family": "Sumer",
       "given": "S. Onur"
      },
      {
       "family": "Sun",
       "given": "Yichao"
      },
      {
       "family": "Taylor",
       "given": "Barry S."
      },
      {
       "family": "Wang",
       "given": "Jioajiao"
      },
      {
       "family": "Zhang",
       "given": "Hongxin"
      },
      {
       "family": "Anur",
       "given": "Pavana"
      },
      {
       "family": "Peto",
       "given": "Myron"
      },
      {
       "family": "Spellman",
       "given": "Paul"
      },
      {
       "family": "Benz",
       "given": "Christopher"
      },
      {
       "family": "Stuart",
       "given": "Joshua M."
      },
      {
       "family": "Wong",
       "given": "Christopher K."
      },
      {
       "family": "Yau",
       "given": "Christina"
      },
      {
       "family": "Hayes",
       "given": "D. Neil"
      },
      {
       "family": "Parker",
       "given": "Joel S."
      },
      {
       "family": "Wilkerson",
       "given": "Matthew D."
      },
      {
       "family": "Ally",
       "given": "Adrian"
      },
      {
       "family": "Balasundaram",
       "given": "Miruna"
      },
      {
       "family": "Bowlby",
       "given": "Reanne"
      },
      {
       "family": "Brooks",
       "given": "Denise"
      },
      {
       "family": "Carlsen",
       "given": "Rebecca"
      },
      {
       "family": "Chuah",
       "given": "Eric"
      },
      {
       "family": "Dhalla",
       "given": "Noreen"
      },
      {
       "family": "Holt",
       "given": "Robert"
      },
      {
       "family": "Jones",
       "given": "Steven J.M."
      },
      {
       "family": "Kasaian",
       "given": "Katayoon"
      },
      {
       "family": "Lee",
       "given": "Darlene"
      },
      {
       "family": "Ma",
       "given": "Yussanne"
      },
      {
       "family": "Marra",
       "given": "Marco A."
      },
      {
       "family": "Mayo",
       "given": "Michael"
      },
      {
       "family": "Moore",
       "given": "Richard A."
      },
      {
       "family": "Mungall",
       "given": "Andrew J."
      },
      {
       "family": "Mungall",
       "given": "Karen"
      },
      {
       "family": "Robertson",
       "given": "A. Gordon"
      },
      {
       "family": "Sadeghi",
       "given": "Sara"
      },
      {
       "family": "Schein",
       "given": "Jacqueline E."
      },
      {
       "family": "Sipahimalani",
       "given": "Payal"
      },
      {
       "family": "Tam",
       "given": "Angela"
      },
      {
       "family": "Thiessen",
       "given": "Nina"
      },
      {
       "family": "Tse",
       "given": "Kane"
      },
      {
       "family": "Wong",
       "given": "Tina"
      },
      {
       "family": "Berger",
       "given": "Ashton C."
      },
      {
       "family": "Beroukhim",
       "given": "Rameen"
      },
      {
       "family": "Cherniack",
       "given": "Andrew D."
      },
      {
       "family": "Cibulskis",
       "given": "Carrie"
      },
      {
       "family": "Gabriel",
       "given": "Stacey B."
      },
      {
       "family": "Gao",
       "given": "Galen F."
      },
      {
       "family": "Ha",
       "given": "Gavin"
      },
      {
       "family": "Meyerson",
       "given": "Matthew"
      },
      {
       "family": "Schumacher",
       "given": "Steven E."
      },
      {
       "family": "Shih",
       "given": "Juliann"
      },
      {
       "family": "Kucherlapati",
       "given": "Melanie H."
      },
      {
       "family": "Kucherlapati",
       "given": "Raju S."
      },
      {
       "family": "Baylin",
       "given": "Stephen"
      },
      {
       "family": "Cope",
       "given": "Leslie"
      },
      {
       "family": "Danilova",
       "given": "Ludmila"
      },
      {
       "family": "Bootwalla",
       "given": "Moiz S."
      },
      {
       "family": "Lai",
       "given": "Phillip H."
      },
      {
       "family": "Maglinte",
       "given": "Dennis T."
      },
      {
       "family": "Van Den Berg",
       "given": "David J."
      },
      {
       "family": "Weisenberger",
       "given": "Daniel J."
      },
      {
       "family": "Auman",
       "given": "J. Todd"
      },
      {
       "family": "Balu",
       "given": "Saianand"
      },
      {
       "family": "Bodenheimer",
       "given": "Tom"
      },
      {
       "family": "Fan",
       "given": "Cheng"
      },
      {
       "family": "Hoadley",
       "given": "Katherine A."
      },
      {
       "family": "Hoyle",
       "given": "Alan P."
      },
      {
       "family": "Jefferys",
       "given": "Stuart R."
      },
      {
       "family": "Jones",
       "given": "Corbin D."
      },
      {
       "family": "Meng",
       "given": "Shaowu"
      },
      {
       "family": "Mieczkowski",
       "given": "Piotr A."
      },
      {
       "family": "Mose",
       "given": "Lisle E."
      },
      {
       "family": "Perou",
       "given": "Amy H."
      },
      {
       "family": "Perou",
       "given": "Charles M."
      },
      {
       "family": "Roach",
       "given": "Jeffrey"
      },
      {
       "family": "Shi",
       "given": "Yan"
      },
      {
       "family": "Simons",
       "given": "Janae V."
      },
      {
       "family": "Skelly",
       "given": "Tara"
      },
      {
       "family": "Soloway",
       "given": "Matthew G."
      },
      {
       "family": "Tan",
       "given": "Donghui"
      },
      {
       "family": "Veluvolu",
       "given": "Umadevi"
      },
      {
       "family": "Fan",
       "given": "Huihui"
      },
      {
       "family": "Hinoue",
       "given": "Toshinori"
      },
      {
       "family": "Laird",
       "given": "Peter W."
      },
      {
       "family": "Shen",
       "given": "Hui"
      },
      {
       "family": "Zhou",
       "given": "Wanding"
      },
      {
       "family": "Bellair",
       "given": "Michelle"
      },
      {
       "family": "Chang",
       "given": "Kyle"
      },
      {
       "family": "Covington",
       "given": "Kyle"
      },
      {
       "family": "Creighton",
       "given": "Chad J."
      },
      {
       "family": "Dinh",
       "given": "Huyen"
      },
      {
       "family": "Doddapaneni",
       "given": "HarshaVardhan"
      },
      {
       "family": "Donehower",
       "given": "Lawrence A."
      },
      {
       "family": "Drummond",
       "given": "Jennifer"
      },
      {
       "family": "Gibbs",
       "given": "Richard A."
      },
      {
       "family": "Glenn",
       "given": "Robert"
      },
      {
       "family": "Hale",
       "given": "Walker"
      },
      {
       "family": "Han",
       "given": "Yi"
      },
      {
       "family": "Hu",
       "given": "Jianhong"
      },
      {
       "family": "Korchina",
       "given": "Viktoriya"
      },
      {
       "family": "Lee",
       "given": "Sandra"
      },
      {
       "family": "Lewis",
       "given": "Lora"
      },
      {
       "family": "Li",
       "given": "Wei"
      },
      {
       "family": "Liu",
       "given": "Xiuping"
      },
      {
       "family": "Morgan",
       "given": "Margaret"
      },
      {
       "family": "Morton",
       "given": "Donna"
      },
      {
       "family": "Muzny",
       "given": "Donna"
      },
      {
       "family": "Santibanez",
       "given": "Jireh"
      },
      {
       "family": "Sheth",
       "given": "Margi"
      },
      {
       "family": "Shinbrot",
       "given": "Eve"
      },
      {
       "family": "Wang",
       "given": "Linghua"
      },
      {
       "family": "Wang",
       "given": "Min"
      },
      {
       "family": "Wheeler",
       "given": "David A."
      },
      {
       "family": "Xi",
       "given": "Liu"
      },
      {
       "family": "Zhao",
       "given": "Fengmei"
      },
      {
       "family": "Hess",
       "given": "Julian"
      },
      {
       "family": "Appelbaum",
       "given": "Elizabeth L."
      },
      {
       "family": "Bailey",
       "given": "Matthew"
      },
      {
       "family": "Cordes",
       "given": "Matthew G."
      },
      {
       "family": "Ding",
       "given": "Li"
      },
      {
       "family": "Fronick",
       "given": "Catrina C."
      },
      {
       "family": "Fulton",
       "given": "Lucinda A."
      },
      {
       "family": "Fulton",
       "given": "Robert S."
      },
      {
       "family": "Kandoth",
       "given": "Cyriac"
      },
      {
       "family": "Mardis",
       "given": "Elaine R."
      },
      {
       "family": "McLellan",
       "given": "Michael D."
      },
      {
       "family": "Miller",
       "given": "Christopher A."
      },
      {
       "family": "Schmidt",
       "given": "Heather K."
      },
      {
       "family": "Wilson",
       "given": "Richard K."
      },
      {
       "family": "Crain",
       "given": "Daniel"
      },
      {
       "family": "Curley",
       "given": "Erin"
      },
      {
       "family": "Gardner",
       "given": "Johanna"
      },
      {
       "family": "Lau",
       "given": "Kevin"
      },
      {
       "family": "Mallery",
       "given": "David"
      },
      {
       "family": "Morris",
       "given": "Scott"
      },
      {
       "family": "Paulauskis",
       "given": "Joseph"
      },
      {
       "family": "Penny",
       "given": "Robert"
      },
      {
       "family": "Shelton",
       "given": "Candace"
      },
      {
       "family": "Shelton",
       "given": "Troy"
      },
      {
       "family": "Sherman",
       "given": "Mark"
      },
      {
       "family": "Thompson",
       "given": "Eric"
      },
      {
       "family": "Yena",
       "given": "Peggy"
      },
      {
       "family": "Bowen",
       "given": "Jay"
      },
      {
       "family": "Gastier-Foster",
       "given": "Julie M."
      },
      {
       "family": "Gerken",
       "given": "Mark"
      },
      {
       "family": "Leraas",
       "given": "Kristen M."
      },
      {
       "family": "Lichtenberg",
       "given": "Tara M."
      },
      {
       "family": "Ramirez",
       "given": "Nilsa C."
      },
      {
       "family": "Wise",
       "given": "Lisa"
      },
      {
       "family": "Zmuda",
       "given": "Erik"
      },
      {
       "family": "Corcoran",
       "given": "Niall"
      },
      {
       "family": "Costello",
       "given": "Tony"
      },
      {
       "family": "Hovens",
       "given": "Christopher"
      },
      {
       "family": "Carvalho",
       "given": "Andre L."
      },
      {
       "family": "de Carvalho",
       "given": "Ana C."
      },
      {
       "family": "Fregnani",
       "given": "José H."
      },
      {
       "family": "Longatto-Filho",
       "given": "Adhemar"
      },
      {
       "family": "Reis",
       "given": "Rui M."
      },
      {
       "family": "Scapulatempo-Neto",
       "given": "Cristovam"
      },
      {
       "family": "Silveira",
       "given": "Henrique C.S."
      },
      {
       "family": "Vidal",
       "given": "Daniel O."
      },
      {
       "family": "Burnette",
       "given": "Andrew"
      },
      {
       "family": "Eschbacher",
       "given": "Jennifer"
      },
      {
       "family": "Hermes",
       "given": "Beth"
      },
      {
       "family": "Noss",
       "given": "Ardene"
      },
      {
       "family": "Singh",
       "given": "Rosy"
      },
      {
       "family": "Anderson",
       "given": "Matthew L."
      },
      {
       "family": "Castro",
       "given": "Patricia D."
      },
      {
       "family": "Ittmann",
       "given": "Michael"
      },
      {
       "family": "Huntsman",
       "given": "David"
      },
      {
       "family": "Kohl",
       "given": "Bernard"
      },
      {
       "family": "Le",
       "given": "Xuan"
      },
      {
       "family": "Thorp",
       "given": "Richard"
      },
      {
       "family": "Andry",
       "given": "Chris"
      },
      {
       "family": "Duffy",
       "given": "Elizabeth R."
      },
      {
       "family": "Lyadov",
       "given": "Vladimir"
      },
      {
       "family": "Paklina",
       "given": "Oxana"
      },
      {
       "family": "Setdikova",
       "given": "Galiya"
      },
      {
       "family": "Shabunin",
       "given": "Alexey"
      },
      {
       "family": "Tavobilov",
       "given": "Mikhail"
      },
      {
       "family": "McPherson",
       "given": "Christopher"
      },
      {
       "family": "Warnick",
       "given": "Ronald"
      },
      {
       "family": "Berkowitz",
       "given": "Ross"
      },
      {
       "family": "Cramer",
       "given": "Daniel"
      },
      {
       "family": "Feltmate",
       "given": "Colleen"
      },
      {
       "family": "Horowitz",
       "given": "Neil"
      },
      {
       "family": "Kibel",
       "given": "Adam"
      },
      {
       "family": "Muto",
       "given": "Michael"
      },
      {
       "family": "Raut",
       "given": "Chandrajit P."
      },
      {
       "family": "Malykh",
       "given": "Andrei"
      },
      {
       "family": "Barnholtz-Sloan",
       "given": "Jill S."
      },
      {
       "family": "Barrett",
       "given": "Wendi"
      },
      {
       "family": "Devine",
       "given": "Karen"
      },
      {
       "family": "Fulop",
       "given": "Jordonna"
      },
      {
       "family": "Ostrom",
       "given": "Quinn T."
      },
      {
       "family": "Shimmel",
       "given": "Kristen"
      },
      {
       "family": "Wolinsky",
       "given": "Yingli"
      },
      {
       "family": "Sloan",
       "given": "Andrew E."
      },
      {
       "family": "De Rose",
       "given": "Agostino"
      },
      {
       "family": "Giuliante",
       "given": "Felice"
      },
      {
       "family": "Goodman",
       "given": "Marc"
      },
      {
       "family": "Karlan",
       "given": "Beth Y."
      },
      {
       "family": "Hagedorn",
       "given": "Curt H."
      },
      {
       "family": "Eckman",
       "given": "John"
      },
      {
       "family": "Harr",
       "given": "Jodi"
      },
      {
       "family": "Myers",
       "given": "Jerome"
      },
      {
       "family": "Tucker",
       "given": "Kelinda"
      },
      {
       "family": "Zach",
       "given": "Leigh Anne"
      },
      {
       "family": "Deyarmin",
       "given": "Brenda"
      },
      {
       "family": "Hu",
       "given": "Hai"
      },
      {
       "family": "Kvecher",
       "given": "Leonid"
      },
      {
       "family": "Larson",
       "given": "Caroline"
      },
      {
       "family": "Mural",
       "given": "Richard J."
      },
      {
       "family": "Somiari",
       "given": "Stella"
      },
      {
       "family": "Vicha",
       "given": "Ales"
      },
      {
       "family": "Zelinka",
       "given": "Tomas"
      },
      {
       "family": "Bennett",
       "given": "Joseph"
      },
      {
       "family": "Iacocca",
       "given": "Mary"
      },
      {
       "family": "Rabeno",
       "given": "Brenda"
      },
      {
       "family": "Swanson",
       "given": "Patricia"
      },
      {
       "family": "Latour",
       "given": "Mathieu"
      },
      {
       "family": "Lacombe",
       "given": "Louis"
      },
      {
       "family": "Têtu",
       "given": "Bernard"
      },
      {
       "family": "Bergeron",
       "given": "Alain"
      },
      {
       "family": "McGraw",
       "given": "Mary"
      },
      {
       "family": "Staugaitis",
       "given": "Susan M."
      },
      {
       "family": "Chabot",
       "given": "John"
      },
      {
       "family": "Hibshoosh",
       "given": "Hanina"
      },
      {
       "family": "Sepulveda",
       "given": "Antonia"
      },
      {
       "family": "Su",
       "given": "Tao"
      },
      {
       "family": "Wang",
       "given": "Timothy"
      },
      {
       "family": "Potapova",
       "given": "Olga"
      },
      {
       "family": "Voronina",
       "given": "Olga"
      },
      {
       "family": "Desjardins",
       "given": "Laurence"
      },
      {
       "family": "Mariani",
       "given": "Odette"
      },
      {
       "family": "Roman-Roman",
       "given": "Sergio"
      },
      {
       "family": "Sastre",
       "given": "Xavier"
      },
      {
       "family": "Stern",
       "given": "Marc-Henri"
      },
      {
       "family": "Cheng",
       "given": "Feixiong"
      },
      {
       "family": "Signoretti",
       "given": "Sabina"
      },
      {
       "family": "Berchuck",
       "given": "Andrew"
      },
      {
       "family": "Bigner",
       "given": "Darell"
      },
      {
       "family": "Lipp",
       "given": "Eric"
      },
      {
       "family": "Marks",
       "given": "Jeffrey"
      },
      {
       "family": "McCall",
       "given": "Shannon"
      },
      {
       "family": "McLendon",
       "given": "Roger"
      },
      {
       "family": "Secord",
       "given": "Angeles"
      },
      {
       "family": "Sharp",
       "given": "Alexis"
      },
      {
       "family": "Behera",
       "given": "Madhusmita"
      },
      {
       "family": "Brat",
       "given": "Daniel J."
      },
      {
       "family": "Chen",
       "given": "Amy"
      },
      {
       "family": "Delman",
       "given": "Keith"
      },
      {
       "family": "Force",
       "given": "Seth"
      },
      {
       "family": "Khuri",
       "given": "Fadlo"
      },
      {
       "family": "Magliocca",
       "given": "Kelly"
      },
      {
       "family": "Maithel",
       "given": "Shishir"
      },
      {
       "family": "Olson",
       "given": "Jeffrey J."
      },
      {
       "family": "Owonikoko",
       "given": "Taofeek"
      },
      {
       "family": "Pickens",
       "given": "Alan"
      },
      {
       "family": "Ramalingam",
       "given": "Suresh"
      },
      {
       "family": "Shin",
       "given": "Dong M."
      },
      {
       "family": "Sica",
       "given": "Gabriel"
      },
      {
       "family": "Van Meir",
       "given": "Erwin G."
      },
      {
       "family": "Zhang",
       "given": "Hongzheng"
      },
      {
       "family": "Eijckenboom",
       "given": "Wil"
      },
      {
       "family": "Gillis",
       "given": "Ad"
      },
      {
       "family": "Korpershoek",
       "given": "Esther"
      },
      {
       "family": "Looijenga",
       "given": "Leendert"
      },
      {
       "family": "Oosterhuis",
       "given": "Wolter"
      },
      {
       "family": "Stoop",
       "given": "Hans"
      },
      {
       "family": "van Kessel",
       "given": "Kim E."
      },
      {
       "family": "Zwarthoff",
       "given": "Ellen C."
      },
      {
       "family": "Calatozzolo",
       "given": "Chiara"
      },
      {
       "family": "Cuppini",
       "given": "Lucia"
      },
      {
       "family": "Cuzzubbo",
       "given": "Stefania"
      },
      {
       "family": "DiMeco",
       "given": "Francesco"
      },
      {
       "family": "Finocchiaro",
       "given": "Gaetano"
      },
      {
       "family": "Mattei",
       "given": "Luca"
      },
      {
       "family": "Perin",
       "given": "Alessandro"
      },
      {
       "family": "Pollo",
       "given": "Bianca"
      },
      {
       "family": "Chen",
       "given": "Chu"
      },
      {
       "family": "Houck",
       "given": "John"
      },
      {
       "family": "Lohavanichbutr",
       "given": "Pawadee"
      },
      {
       "family": "Hartmann",
       "given": "Arndt"
      },
      {
       "family": "Stoehr",
       "given": "Christine"
      },
      {
       "family": "Stoehr",
       "given": "Robert"
      },
      {
       "family": "Taubert",
       "given": "Helge"
      },
      {
       "family": "Wach",
       "given": "Sven"
      },
      {
       "family": "Wullich",
       "given": "Bernd"
      },
      {
       "family": "Kycler",
       "given": "Witold"
      },
      {
       "family": "Murawa",
       "given": "Dawid"
      },
      {
       "family": "Wiznerowicz",
       "given": "Maciej"
      },
      {
       "family": "Chung",
       "given": "Ki"
      },
      {
       "family": "Edenfield",
       "given": "W. Jeffrey"
      },
      {
       "family": "Martin",
       "given": "Julie"
      },
      {
       "family": "Baudin",
       "given": "Eric"
      },
      {
       "family": "Bubley",
       "given": "Glenn"
      },
      {
       "family": "Bueno",
       "given": "Raphael"
      },
      {
       "family": "De Rienzo",
       "given": "Assunta"
      },
      {
       "family": "Richards",
       "given": "William G."
      },
      {
       "family": "Kalkanis",
       "given": "Steven"
      },
      {
       "family": "Mikkelsen",
       "given": "Tom"
      },
      {
       "family": "Noushmehr",
       "given": "Houtan"
      },
      {
       "family": "Scarpace",
       "given": "Lisa"
      },
      {
       "family": "Girard",
       "given": "Nicolas"
      },
      {
       "family": "Aymerich",
       "given": "Marta"
      },
      {
       "family": "Campo",
       "given": "Elias"
      },
      {
       "family": "Giné",
       "given": "Eva"
      },
      {
       "family": "Guillermo",
       "given": "Armando López"
      },
      {
       "family": "Van Bang",
       "given": "Nguyen"
      },
      {
       "family": "Hanh",
       "given": "Phan Thi"
      },
      {
       "family": "Phu",
       "given": "Bui Duc"
      },
      {
       "family": "Tang",
       "given": "Yufang"
      },
      {
       "family": "Colman",
       "given": "Howard"
      },
      {
       "family": "Evason",
       "given": "Kimberley"
      },
      {
       "family": "Dottino",
       "given": "Peter R."
      },
      {
       "family": "Martignetti",
       "given": "John A."
      },
      {
       "family": "Gabra",
       "given": "Hani"
      },
      {
       "family": "Juhl",
       "given": "Hartmut"
      },
      {
       "family": "Akeredolu",
       "given": "Teniola"
      },
      {
       "family": "Stepa",
       "given": "Serghei"
      },
      {
       "family": "Hoon",
       "given": "Dave"
      },
      {
       "family": "Ahn",
       "given": "Keunsoo"
      },
      {
       "family": "Kang",
       "given": "Koo Jeong"
      },
      {
       "family": "Beuschlein",
       "given": "Felix"
      },
      {
       "family": "Breggia",
       "given": "Anne"
      },
      {
       "family": "Birrer",
       "given": "Michael"
      },
      {
       "family": "Bell",
       "given": "Debra"
      },
      {
       "family": "Borad",
       "given": "Mitesh"
      },
      {
       "family": "Bryce",
       "given": "Alan H."
      },
      {
       "family": "Castle",
       "given": "Erik"
      },
      {
       "family": "Chandan",
       "given": "Vishal"
      },
      {
       "family": "Cheville",
       "given": "John"
      },
      {
       "family": "Copland",
       "given": "John A."
      },
      {
       "family": "Farnell",
       "given": "Michael"
      },
      {
       "family": "Flotte",
       "given": "Thomas"
      },
      {
       "family": "Giama",
       "given": "Nasra"
      },
      {
       "family": "Ho",
       "given": "Thai"
      },
      {
       "family": "Kendrick",
       "given": "Michael"
      },
      {
       "family": "Kocher",
       "given": "Jean-Pierre"
      },
      {
       "family": "Kopp",
       "given": "Karla"
      },
      {
       "family": "Moser",
       "given": "Catherine"
      },
      {
       "family": "Nagorney",
       "given": "David"
      },
      {
       "family": "O’Brien",
       "given": "Daniel"
      },
      {
       "family": "O’Neill",
       "given": "Brian Patrick"
      },
      {
       "family": "Patel",
       "given": "Tushar"
      },
      {
       "family": "Petersen",
       "given": "Gloria"
      },
      {
       "family": "Que",
       "given": "Florencia"
      },
      {
       "family": "Rivera",
       "given": "Michael"
      },
      {
       "family": "Roberts",
       "given": "Lewis"
      },
      {
       "family": "Smallridge",
       "given": "Robert"
      },
      {
       "family": "Smyrk",
       "given": "Thomas"
      },
      {
       "family": "Stanton",
       "given": "Melissa"
      },
      {
       "family": "Thompson",
       "given": "R. Houston"
      },
      {
       "family": "Torbenson",
       "given": "Michael"
      },
      {
       "family": "Yang",
       "given": "Ju Dong"
      },
      {
       "family": "Zhang",
       "given": "Lizhi"
      },
      {
       "family": "Brimo",
       "given": "Fadi"
      },
      {
       "family": "Ajani",
       "given": "Jaffer A."
      },
      {
       "family": "Gonzalez",
       "given": "Ana Maria Angulo"
      },
      {
       "family": "Behrens",
       "given": "Carmen"
      },
      {
       "family": "Bondaruk",
       "given": "Jolanta"
      },
      {
       "family": "Broaddus",
       "given": "Russell"
      },
      {
       "family": "Czerniak",
       "given": "Bogdan"
      },
      {
       "family": "Esmaeli",
       "given": "Bita"
      },
      {
       "family": "Fujimoto",
       "given": "Junya"
      },
      {
       "family": "Gershenwald",
       "given": "Jeffrey"
      },
      {
       "family": "Guo",
       "given": "Charles"
      },
      {
       "family": "Lazar",
       "given": "Alexander J."
      },
      {
       "family": "Logothetis",
       "given": "Christopher"
      },
      {
       "family": "Meric-Bernstam",
       "given": "Funda"
      },
      {
       "family": "Moran",
       "given": "Cesar"
      },
      {
       "family": "Ramondetta",
       "given": "Lois"
      },
      {
       "family": "Rice",
       "given": "David"
      },
      {
       "family": "Sood",
       "given": "Anil"
      },
      {
       "family": "Tamboli",
       "given": "Pheroze"
      },
      {
       "family": "Thompson",
       "given": "Timothy"
      },
      {
       "family": "Troncoso",
       "given": "Patricia"
      },
      {
       "family": "Tsao",
       "given": "Anne"
      },
      {
       "family": "Wistuba",
       "given": "Ignacio"
      },
      {
       "family": "Carter",
       "given": "Candace"
      },
      {
       "family": "Haydu",
       "given": "Lauren"
      },
      {
       "family": "Hersey",
       "given": "Peter"
      },
      {
       "family": "Jakrot",
       "given": "Valerie"
      },
      {
       "family": "Kakavand",
       "given": "Hojabr"
      },
      {
       "family": "Kefford",
       "given": "Richard"
      },
      {
       "family": "Lee",
       "given": "Kenneth"
      },
      {
       "family": "Long",
       "given": "Georgina"
      },
      {
       "family": "Mann",
       "given": "Graham"
      },
      {
       "family": "Quinn",
       "given": "Michael"
      },
      {
       "family": "Saw",
       "given": "Robyn"
      },
      {
       "family": "Scolyer",
       "given": "Richard"
      },
      {
       "family": "Shannon",
       "given": "Kerwin"
      },
      {
       "family": "Spillane",
       "given": "Andrew"
      },
      {
       "family": "Stretch",
       "given": "Jonathan"
      },
      {
       "family": "Synott",
       "given": "Maria"
      },
      {
       "family": "Thompson",
       "given": "John"
      },
      {
       "family": "Wilmott",
       "given": "James"
      },
      {
       "family": "Al-Ahmadie",
       "given": "Hikmat"
      },
      {
       "family": "Chan",
       "given": "Timothy A."
      },
      {
       "family": "Ghossein",
       "given": "Ronald"
      },
      {
       "family": "Gopalan",
       "given": "Anuradha"
      },
      {
       "family": "Levine",
       "given": "Douglas A."
      },
      {
       "family": "Reuter",
       "given": "Victor"
      },
      {
       "family": "Singer",
       "given": "Samuel"
      },
      {
       "family": "Singh",
       "given": "Bhuvanesh"
      },
      {
       "family": "Tien",
       "given": "Nguyen Viet"
      },
      {
       "family": "Broudy",
       "given": "Thomas"
      },
      {
       "family": "Mirsaidi",
       "given": "Cyrus"
      },
      {
       "family": "Nair",
       "given": "Praveen"
      },
      {
       "family": "Drwiega",
       "given": "Paul"
      },
      {
       "family": "Miller",
       "given": "Judy"
      },
      {
       "family": "Smith",
       "given": "Jennifer"
      },
      {
       "family": "Zaren",
       "given": "Howard"
      },
      {
       "family": "Park",
       "given": "Joong-Won"
      },
      {
       "family": "Hung",
       "given": "Nguyen Phi"
      },
      {
       "family": "Kebebew",
       "given": "Electron"
      },
      {
       "family": "Linehan",
       "given": "W. Marston"
      },
      {
       "family": "Metwalli",
       "given": "Adam R."
      },
      {
       "family": "Pacak",
       "given": "Karel"
      },
      {
       "family": "Pinto",
       "given": "Peter A."
      },
      {
       "family": "Schiffman",
       "given": "Mark"
      },
      {
       "family": "Schmidt",
       "given": "Laura S."
      },
      {
       "family": "Vocke",
       "given": "Cathy D."
      },
      {
       "family": "Wentzensen",
       "given": "Nicolas"
      },
      {
       "family": "Worrell",
       "given": "Robert"
      },
      {
       "family": "Yang",
       "given": "Hannah"
      },
      {
       "family": "Moncrieff",
       "given": "Marc"
      },
      {
       "family": "Goparaju",
       "given": "Chandra"
      },
      {
       "family": "Melamed",
       "given": "Jonathan"
      },
      {
       "family": "Pass",
       "given": "Harvey"
      },
      {
       "family": "Botnariuc",
       "given": "Natalia"
      },
      {
       "family": "Caraman",
       "given": "Irina"
      },
      {
       "family": "Cernat",
       "given": "Mircea"
      },
      {
       "family": "Chemencedji",
       "given": "Inga"
      },
      {
       "family": "Clipca",
       "given": "Adrian"
      },
      {
       "family": "Doruc",
       "given": "Serghei"
      },
      {
       "family": "Gorincioi",
       "given": "Ghenadie"
      },
      {
       "family": "Mura",
       "given": "Sergiu"
      },
      {
       "family": "Pirtac",
       "given": "Maria"
      },
      {
       "family": "Stancul",
       "given": "Irina"
      },
      {
       "family": "Tcaciuc",
       "given": "Diana"
      },
      {
       "family": "Albert",
       "given": "Monique"
      },
      {
       "family": "Alexopoulou",
       "given": "Iakovina"
      },
      {
       "family": "Arnaout",
       "given": "Angel"
      },
      {
       "family": "Bartlett",
       "given": "John"
      },
      {
       "family": "Engel",
       "given": "Jay"
      },
      {
       "family": "Gilbert",
       "given": "Sebastien"
      },
      {
       "family": "Parfitt",
       "given": "Jeremy"
      },
      {
       "family": "Sekhon",
       "given": "Harman"
      },
      {
       "family": "Thomas",
       "given": "George"
      },
      {
       "family": "Rassl",
       "given": "Doris M."
      },
      {
       "family": "Rintoul",
       "given": "Robert C."
      },
      {
       "family": "Bifulco",
       "given": "Carlo"
      },
      {
       "family": "Tamakawa",
       "given": "Raina"
      },
      {
       "family": "Urba",
       "given": "Walter"
      },
      {
       "family": "Hayward",
       "given": "Nicholas"
      },
      {
       "family": "Timmers",
       "given": "Henri"
      },
      {
       "family": "Antenucci",
       "given": "Anna"
      },
      {
       "family": "Facciolo",
       "given": "Francesco"
      },
      {
       "family": "Grazi",
       "given": "Gianluca"
      },
      {
       "family": "Marino",
       "given": "Mirella"
      },
      {
       "family": "Merola",
       "given": "Roberta"
      },
      {
       "family": "de Krijger",
       "given": "Ronald"
      },
      {
       "family": "Gimenez-Roqueplo",
       "given": "Anne-Paule"
      },
      {
       "family": "Piché",
       "given": "Alain"
      },
      {
       "family": "Chevalier",
       "given": "Simone"
      },
      {
       "family": "McKercher",
       "given": "Ginette"
      },
      {
       "family": "Birsoy",
       "given": "Kivanc"
      },
      {
       "family": "Barnett",
       "given": "Gene"
      },
      {
       "family": "Brewer",
       "given": "Cathy"
      },
      {
       "family": "Farver",
       "given": "Carol"
      },
      {
       "family": "Naska",
       "given": "Theresa"
      },
      {
       "family": "Pennell",
       "given": "Nathan A."
      },
      {
       "family": "Raymond",
       "given": "Daniel"
      },
      {
       "family": "Schilero",
       "given": "Cathy"
      },
      {
       "family": "Smolenski",
       "given": "Kathy"
      },
      {
       "family": "Williams",
       "given": "Felicia"
      },
      {
       "family": "Morrison",
       "given": "Carl"
      },
      {
       "family": "Borgia",
       "given": "Jeffrey A."
      },
      {
       "family": "Liptay",
       "given": "Michael J."
      },
      {
       "family": "Pool",
       "given": "Mark"
      },
      {
       "family": "Seder",
       "given": "Christopher W."
      },
      {
       "family": "Junker",
       "given": "Kerstin"
      },
      {
       "family": "Omberg",
       "given": "Larsson"
      },
      {
       "family": "Dinkin",
       "given": "Mikhail"
      },
      {
       "family": "Manikhas",
       "given": "George"
      },
      {
       "family": "Alvaro",
       "given": "Domenico"
      },
      {
       "family": "Bragazzi",
       "given": "Maria Consiglia"
      },
      {
       "family": "Cardinale",
       "given": "Vincenzo"
      },
      {
       "family": "Carpino",
       "given": "Guido"
      },
      {
       "family": "Gaudio",
       "given": "Eugenio"
      },
      {
       "family": "Chesla",
       "given": "David"
      },
      {
       "family": "Cottingham",
       "given": "Sandra"
      },
      {
       "family": "Dubina",
       "given": "Michael"
      },
      {
       "family": "Moiseenko",
       "given": "Fedor"
      },
      {
       "family": "Dhanasekaran",
       "given": "Renumathy"
      },
      {
       "family": "Becker",
       "given": "Karl-Friedrich"
      },
      {
       "family": "Janssen",
       "given": "Klaus-Peter"
      },
      {
       "family": "Slotta-Huspenina",
       "given": "Julia"
      },
      {
       "family": "Abdel-Rahman",
       "given": "Mohamed H."
      },
      {
       "family": "Aziz",
       "given": "Dina"
      },
      {
       "family": "Bell",
       "given": "Sue"
      },
      {
       "family": "Cebulla",
       "given": "Colleen M."
      },
      {
       "family": "Davis",
       "given": "Amy"
      },
      {
       "family": "Duell",
       "given": "Rebecca"
      },
      {
       "family": "Elder",
       "given": "J. Bradley"
      },
      {
       "family": "Hilty",
       "given": "Joe"
      },
      {
       "family": "Kumar",
       "given": "Bahavna"
      },
      {
       "family": "Lang",
       "given": "James"
      },
      {
       "family": "Lehman",
       "given": "Norman L."
      },
      {
       "family": "Mandt",
       "given": "Randy"
      },
      {
       "family": "Nguyen",
       "given": "Phuong"
      },
      {
       "family": "Pilarski",
       "given": "Robert"
      },
      {
       "family": "Rai",
       "given": "Karan"
      },
      {
       "family": "Schoenfield",
       "given": "Lynn"
      },
      {
       "family": "Senecal",
       "given": "Kelly"
      },
      {
       "family": "Wakely",
       "given": "Paul"
      },
      {
       "family": "Hansen",
       "given": "Paul"
      },
      {
       "family": "Lechan",
       "given": "Ronald"
      },
      {
       "family": "Powers",
       "given": "James"
      },
      {
       "family": "Tischler",
       "given": "Arthur"
      },
      {
       "family": "Grizzle",
       "given": "William E."
      },
      {
       "family": "Sexton",
       "given": "Katherine C."
      },
      {
       "family": "Kastl",
       "given": "Alison"
      },
      {
       "family": "Henderson",
       "given": "Joel"
      },
      {
       "family": "Porten",
       "given": "Sima"
      },
      {
       "family": "Waldmann",
       "given": "Jens"
      },
      {
       "family": "Fassnacht",
       "given": "Martin"
      },
      {
       "family": "Asa",
       "given": "Sylvia L."
      },
      {
       "family": "Schadendorf",
       "given": "Dirk"
      },
      {
       "family": "Couce",
       "given": "Marta"
      },
      {
       "family": "Graefen",
       "given": "Markus"
      },
      {
       "family": "Huland",
       "given": "Hartwig"
      },
      {
       "family": "Sauter",
       "given": "Guido"
      },
      {
       "family": "Schlomm",
       "given": "Thorsten"
      },
      {
       "family": "Simon",
       "given": "Ronald"
      },
      {
       "family": "Tennstedt",
       "given": "Pierre"
      },
      {
       "family": "Olabode",
       "given": "Oluwole"
      },
      {
       "family": "Nelson",
       "given": "Mark"
      },
      {
       "family": "Bathe",
       "given": "Oliver"
      },
      {
       "family": "Carroll",
       "given": "Peter R."
      },
      {
       "family": "Chan",
       "given": "June M."
      },
      {
       "family": "Disaia",
       "given": "Philip"
      },
      {
       "family": "Glenn",
       "given": "Pat"
      },
      {
       "family": "Kelley",
       "given": "Robin K."
      },
      {
       "family": "Landen",
       "given": "Charles N."
      },
      {
       "family": "Phillips",
       "given": "Joanna"
      },
      {
       "family": "Prados",
       "given": "Michael"
      },
      {
       "family": "Simko",
       "given": "Jeffry"
      },
      {
       "family": "Smith-McCune",
       "given": "Karen"
      },
      {
       "family": "VandenBerg",
       "given": "Scott"
      },
      {
       "family": "Roggin",
       "given": "Kevin"
      },
      {
       "family": "Fehrenbach",
       "given": "Ashley"
      },
      {
       "family": "Kendler",
       "given": "Ady"
      },
      {
       "family": "Sifri",
       "given": "Suzanne"
      },
      {
       "family": "Steele",
       "given": "Ruth"
      },
      {
       "family": "Jimeno",
       "given": "Antonio"
      },
      {
       "family": "Carey",
       "given": "Francis"
      },
      {
       "family": "Forgie",
       "given": "Ian"
      },
      {
       "family": "Mannelli",
       "given": "Massimo"
      },
      {
       "family": "Carney",
       "given": "Michael"
      },
      {
       "family": "Hernandez",
       "given": "Brenda"
      },
      {
       "family": "Campos",
       "given": "Benito"
      },
      {
       "family": "Herold-Mende",
       "given": "Christel"
      },
      {
       "family": "Jungk",
       "given": "Christin"
      },
      {
       "family": "Unterberg",
       "given": "Andreas"
      },
      {
       "family": "von Deimling",
       "given": "Andreas"
      },
      {
       "family": "Bossler",
       "given": "Aaron"
      },
      {
       "family": "Galbraith",
       "given": "Joseph"
      },
      {
       "family": "Jacobus",
       "given": "Laura"
      },
      {
       "family": "Knudson",
       "given": "Michael"
      },
      {
       "family": "Knutson",
       "given": "Tina"
      },
      {
       "family": "Ma",
       "given": "Deqin"
      },
      {
       "family": "Milhem",
       "given": "Mohammed"
      },
      {
       "family": "Sigmund",
       "given": "Rita"
      },
      {
       "family": "Godwin",
       "given": "Andrew K."
      },
      {
       "family": "Madan",
       "given": "Rashna"
      },
      {
       "family": "Rosenthal",
       "given": "Howard G."
      },
      {
       "family": "Adebamowo",
       "given": "Clement"
      },
      {
       "family": "Adebamowo",
       "given": "Sally N."
      },
      {
       "family": "Boussioutas",
       "given": "Alex"
      },
      {
       "family": "Beer",
       "given": "David"
      },
      {
       "family": "Giordano",
       "given": "Thomas"
      },
      {
       "family": "Mes-Masson",
       "given": "Anne-Marie"
      },
      {
       "family": "Saad",
       "given": "Fred"
      },
      {
       "family": "Bocklage",
       "given": "Therese"
      },
      {
       "family": "Landrum",
       "given": "Lisa"
      },
      {
       "family": "Mannel",
       "given": "Robert"
      },
      {
       "family": "Moore",
       "given": "Kathleen"
      },
      {
       "family": "Moxley",
       "given": "Katherine"
      },
      {
       "family": "Postier",
       "given": "Russel"
      },
      {
       "family": "Walker",
       "given": "Joan"
      },
      {
       "family": "Zuna",
       "given": "Rosemary"
      },
      {
       "family": "Feldman",
       "given": "Michael"
      },
      {
       "family": "Valdivieso",
       "given": "Federico"
      },
      {
       "family": "Dhir",
       "given": "Rajiv"
      },
      {
       "family": "Luketich",
       "given": "James"
      },
      {
       "family": "Pinero",
       "given": "Edna M. Mora"
      },
      {
       "family": "Quintero-Aguilo",
       "given": "Mario"
      },
      {
       "family": "Carlotti",
       "given": "Carlos Gilberto, Jr."
      },
      {
       "family": "Dos Santos",
       "given": "Jose Sebastião"
      },
      {
       "family": "Kemp",
       "given": "Rafael"
      },
      {
       "family": "Sankarankuty",
       "given": "Ajith"
      },
      {
       "family": "Tirapelli",
       "given": "Daniela"
      },
      {
       "family": "Catto",
       "given": "James"
      },
      {
       "family": "Agnew",
       "given": "Kathy"
      },
      {
       "family": "Swisher",
       "given": "Elizabeth"
      },
      {
       "family": "Creaney",
       "given": "Jenette"
      },
      {
       "family": "Robinson",
       "given": "Bruce"
      },
      {
       "family": "Shelley",
       "given": "Carl Simon"
      },
      {
       "family": "Godwin",
       "given": "Eryn M."
      },
      {
       "family": "Kendall",
       "given": "Sara"
      },
      {
       "family": "Shipman",
       "given": "Cassaundra"
      },
      {
       "family": "Bradford",
       "given": "Carol"
      },
      {
       "family": "Carey",
       "given": "Thomas"
      },
      {
       "family": "Haddad",
       "given": "Andrea"
      },
      {
       "family": "Moyer",
       "given": "Jeffey"
      },
      {
       "family": "Peterson",
       "given": "Lisa"
      },
      {
       "family": "Prince",
       "given": "Mark"
      },
      {
       "family": "Rozek",
       "given": "Laura"
      },
      {
       "family": "Wolf",
       "given": "Gregory"
      },
      {
       "family": "Bowman",
       "given": "Rayleen"
      },
      {
       "family": "Fong",
       "given": "Kwun M."
      },
      {
       "family": "Yang",
       "given": "Ian"
      },
      {
       "family": "Korst",
       "given": "Robert"
      },
      {
       "family": "Rathmell",
       "given": "W. Kimryn"
      },
      {
       "family": "Fantacone-Campbell",
       "given": "J. Leigh"
      },
      {
       "family": "Hooke",
       "given": "Jeffrey A."
      },
      {
       "family": "Kovatich",
       "given": "Albert J."
      },
      {
       "family": "Shriver",
       "given": "Craig D."
      },
      {
       "family": "DiPersio",
       "given": "John"
      },
      {
       "family": "Drake",
       "given": "Bettina"
      },
      {
       "family": "Govindan",
       "given": "Ramaswamy"
      },
      {
       "family": "Heath",
       "given": "Sharon"
      },
      {
       "family": "Ley",
       "given": "Timothy"
      },
      {
       "family": "Van Tine",
       "given": "Brian"
      },
      {
       "family": "Westervelt",
       "given": "Peter"
      },
      {
       "family": "Rubin",
       "given": "Mark A."
      },
      {
       "family": "Lee",
       "given": "Jung Il"
      },
      {
       "family": "Aredes",
       "given": "Natália D."
      },
      {
       "family": "Mariamidze",
       "given": "Armaz"
      },
      {
       "family": "Van Allen",
       "given": "Eliezer M."
      },
      {
       "family": "Cherniack",
       "given": "Andrew D."
      },
      {
       "family": "Ciriello",
       "given": "Giovanni"
      },
      {
       "family": "Sander",
       "given": "Chris"
      },
      {
       "family": "Schultz",
       "given": "Nikolaus"
      }
     ],
     "container-title": "Cell",
     "container-title-short": "Cell",
     "id": "2754712/L8NRTXRQ",
     "issue": "2",
     "issued": {
      "day": 5,
      "month": 4,
      "year": 2018
     },
     "journalAbbreviation": "Cell",
     "page": "321-337.e10",
     "page-first": "321",
     "title": "Oncogenic Signaling Pathways in The Cancer Genome Atlas",
     "type": "article-journal",
     "volume": "173"
    },
    "2754712/LVNQBT95": {
     "DOI": "10.1016/j.ifacol.2019.12.232",
     "URL": "https://www.sciencedirect.com/science/article/pii/S2405896319321135",
     "abstract": "In systems and computational biology, ordinary differential equations are used for the mechanistic modelling of biochemical networks. These models can easily have hundreds of states and parameters. Typically most parameters are unknown and estimated by fitting model output to observation. During parameter estimation the model needs to be solved repeatedly, sometimes millions of times. This can then be a computational bottleneck, and limits the employment of such models. In many situations the experimental data provides information about the steady state of the biochemical reaction network. In such cases one only needs to obtain the equilibrium state for a given set of model parameters. In this paper we exploit this fact and solve the steady state problem directly rather than integrating the ODE forward in time until steady state is reached. We use Newton’s method - like some previous studies - and develop several improvements to achieve robust convergence. To address the reliance of Newtons method on good initial guesses, we propose a continuation method. We show that the method works robustly in this setting and achieves a speed up of up to 100 compared to using ODE solves.",
     "accessed": {
      "day": 24,
      "month": 8,
      "year": 2021
     },
     "author": [
      {
       "family": "Terje Lines",
       "given": "Glenn"
      },
      {
       "family": "Paszkowski",
       "given": "Łukasz"
      },
      {
       "family": "Schmiester",
       "given": "Leonard"
      },
      {
       "family": "Weindl",
       "given": "Daniel"
      },
      {
       "family": "Stapor",
       "given": "Paul"
      },
      {
       "family": "Hasenauer",
       "given": "Jan"
      }
     ],
     "collection-title": "8th Conference on Foundations of Systems Biology in Engineering FOSBE 2019",
     "container-title": "IFAC-PapersOnLine",
     "container-title-short": "IFAC-PapersOnLine",
     "id": "2754712/LVNQBT95",
     "issue": "26",
     "issued": {
      "day": 1,
      "month": 1,
      "year": 2019
     },
     "journalAbbreviation": "IFAC-PapersOnLine",
     "language": "en",
     "page": "32-37",
     "page-first": "32",
     "title": "Efficient computation of steady states in large-scale ODE models of biochemical reaction networks",
     "type": "article-journal",
     "volume": "52"
    },
    "2754712/M82A4YPP": {
     "DOI": "10.1093/bioinformatics/bth378",
     "URL": "https://academic.oup.com/bioinformatics/article/20/17/3289/186821",
     "abstract": "Abstract.  Summary: BioNetGen allows a user to create a computational model that characterizes the dynamics of a signal transduction system, and that accounts c",
     "accessed": {
      "day": 23,
      "month": 8,
      "year": 2019
     },
     "author": [
      {
       "family": "Blinov",
       "given": "Michael L."
      },
      {
       "family": "Faeder",
       "given": "James R."
      },
      {
       "family": "Goldstein",
       "given": "Byron"
      },
      {
       "family": "Hlavacek",
       "given": "William S."
      }
     ],
     "container-title": "Bioinformatics",
     "container-title-short": "Bioinformatics",
     "id": "2754712/M82A4YPP",
     "issue": "17",
     "issued": {
      "day": 22,
      "month": 11,
      "year": 2004
     },
     "journalAbbreviation": "Bioinformatics",
     "language": "en",
     "page": "3289-3291",
     "page-first": "3289",
     "shortTitle": "BioNetGen",
     "title": "BioNetGen: software for rule-based modeling of signal transduction based on the interactions of molecular domains",
     "title-short": "BioNetGen",
     "type": "article-journal",
     "volume": "20"
    },
    "2754712/MIF24GAE": {
     "DOI": "10.1126/stke.3442006re6",
     "URL": "https://stke.sciencemag.org/content/2006/344/re6",
     "abstract": "Formalized rules for protein-protein interactions have recently been introduced to represent the binding and enzymatic activities of proteins in cellular signaling. Rules encode an understanding of how a system works in terms of the biomolecules in the system and their possible states and interactions. A set of rules can be as easy to read as a diagrammatic interaction map, but unlike most such maps, rules have precise interpretations. Rules can be processed to automatically generate a mathematical or computational model for a system, which enables explanatory and predictive insights into the system’s behavior. Rules are independent units of a model specification that facilitate model revision. Instead of changing a large number of equations or lines of code, as may be required in the case of a conventional mathematical model, a protein interaction can be introduced or modified simply by adding or changing a single rule that represents the interaction of interest. Rules can be defined and visualized by using graphs, so no specialized training in mathematics or computer science is necessary to create models or to take advantage of the representational precision of rules. Rules can be encoded in a machine-readable format to enable electronic storage and exchange of models, as well as basic knowledge about protein-protein interactions. Here, we review the motivation for rule-based modeling; applications of the approach; and issues that arise in model specification, simulation, and testing. We also discuss rule visualization and exchange and the software available for rule-based modeling.\nStrategies to cope with the biochemical complexity of signaling systems without overwhelming the modeler or his computer.\nStrategies to cope with the biochemical complexity of signaling systems without overwhelming the modeler or his computer.",
     "accessed": {
      "day": 23,
      "month": 8,
      "year": 2019
     },
     "author": [
      {
       "family": "Hlavacek",
       "given": "William S."
      },
      {
       "family": "Faeder",
       "given": "James R."
      },
      {
       "family": "Blinov",
       "given": "Michael L."
      },
      {
       "family": "Posner",
       "given": "Richard G."
      },
      {
       "family": "Hucka",
       "given": "Michael"
      },
      {
       "family": "Fontana",
       "given": "Walter"
      }
     ],
     "container-title": "Science's STKE",
     "container-title-short": "Sci. STKE",
     "id": "2754712/MIF24GAE",
     "issue": "344",
     "issued": {
      "day": 18,
      "month": 7,
      "year": 2006
     },
     "journalAbbreviation": "Sci. STKE",
     "language": "en",
     "note": "PMID: 16849649",
     "page": "re6-re6",
     "page-first": "re6",
     "title": "Rules for Modeling Signal-Transduction Systems",
     "type": "article-journal",
     "volume": "2006"
    },
    "2754712/MKPQ9727": {
     "DOI": "10.1371/journal.pcbi.1005331",
     "author": [
      {
       "family": "Fröhlich",
       "given": "F."
      },
      {
       "family": "Kaltenbacher",
       "given": "B."
      },
      {
       "family": "Theis",
       "given": "F. J."
      },
      {
       "family": "Hasenauer",
       "given": "J."
      }
     ],
     "container-title": "PLoS Computational Biology",
     "container-title-short": "PLOS Comput Biol",
     "id": "2754712/MKPQ9727",
     "issue": "1",
     "issued": {
      "month": 1,
      "year": 2017
     },
     "journalAbbreviation": "PLOS Comput Biol",
     "note": "bibtex: FroehlichKal2017",
     "page": "1-18",
     "page-first": "1",
     "title": "Scalable parameter estimation for genome-scale biochemical reaction networks",
     "type": "article-journal",
     "volume": "13"
    },
    "2754712/NAKF6985": {
     "DOI": "10.1093/bioinformatics/bty272",
     "URL": "https://academic.oup.com/bioinformatics/article/34/13/i583/5045802",
     "abstract": "AbstractMotivation.  We present an overview of the Kappa platform, an integrated suite of analysis and visualization techniques for building and interactively e",
     "accessed": {
      "day": 15,
      "month": 6,
      "year": 2020
     },
     "author": [
      {
       "family": "Boutillier",
       "given": "Pierre"
      },
      {
       "family": "Maasha",
       "given": "Mutaamba"
      },
      {
       "family": "Li",
       "given": "Xing"
      },
      {
       "family": "Medina-Abarca",
       "given": "Héctor F."
      },
      {
       "family": "Krivine",
       "given": "Jean"
      },
      {
       "family": "Feret",
       "given": "Jérôme"
      },
      {
       "family": "Cristescu",
       "given": "Ioana"
      },
      {
       "family": "Forbes",
       "given": "Angus G."
      },
      {
       "family": "Fontana",
       "given": "Walter"
      }
     ],
     "container-title": "Bioinformatics",
     "container-title-short": "Bioinformatics",
     "id": "2754712/NAKF6985",
     "issue": "13",
     "issued": {
      "day": 1,
      "month": 7,
      "year": 2018
     },
     "journalAbbreviation": "Bioinformatics",
     "language": "en",
     "note": "Publisher: Oxford Academic",
     "page": "i583-i592",
     "page-first": "i583",
     "title": "The Kappa platform for rule-based modeling",
     "type": "article-journal",
     "volume": "34"
    },
    "2754712/NDTJEJ2U": {
     "ISBN": "978-1-4939-8882-2",
     "URL": "https://doi.org/10.1007/978-1-4939-8882-2_16",
     "abstract": "Ordinary differential equation models have become a standard tool for the mechanistic description of biochemical processes. If parameters are inferred from experimental data, such mechanistic models can provide accurate predictions about the behavior of latent variables or the process under new experimental conditions. Complementarily, inference of model structure can be used to identify the most plausible model structure from a set of candidates, and, thus, gain novel biological insight. Several toolboxes can infer model parameters and structure for small- to medium-scale mechanistic models out of the box. However, models for highly multiplexed datasets can require hundreds to thousands of state variables and parameters. For the analysis of such large-scale models, most algorithms require intractably high computation times. This chapter provides an overview of the state-of-the-art methods for parameter and model inference, with an emphasis on scalability.",
     "accessed": {
      "day": 14,
      "month": 1,
      "year": 2021
     },
     "author": [
      {
       "family": "Fröhlich",
       "given": "Fabian"
      },
      {
       "family": "Loos",
       "given": "Carolin"
      },
      {
       "family": "Hasenauer",
       "given": "Jan"
      }
     ],
     "collection-title": "Methods in Molecular Biology",
     "container-title": "Gene Regulatory Networks: Methods and Protocols",
     "editor": [
      {
       "family": "Sanguinetti",
       "given": "Guido"
      },
      {
       "family": "Huynh-Thu",
       "given": "Vân Anh"
      }
     ],
     "event-place": "New York, NY",
     "id": "2754712/NDTJEJ2U",
     "issued": {
      "year": 2019
     },
     "language": "en",
     "note": "DOI: 10.1007/978-1-4939-8882-2_16",
     "page": "385-422",
     "page-first": "385",
     "publisher": "Springer",
     "publisher-place": "New York, NY",
     "title": "Scalable Inference of Ordinary Differential Equation Models of Biochemical Processes",
     "type": "chapter"
    },
    "2754712/NF7FZULE": {
     "author": [
      {
       "family": "Hucka",
       "given": "M."
      },
      {
       "family": "Finney",
       "given": "A."
      },
      {
       "family": "Sauro",
       "given": "H. M."
      },
      {
       "family": "Bolouri",
       "given": "H."
      },
      {
       "family": "Doyle",
       "given": "J. C."
      },
      {
       "family": "Kitano",
       "given": "H."
      },
      {
       "family": "Arkin",
       "given": "A. P."
      },
      {
       "family": "Bornstein",
       "given": "B. J."
      },
      {
       "family": "Bray",
       "given": "D."
      },
      {
       "family": "Cornish-Bowden",
       "given": "A."
      },
      {
       "family": "Cuellar",
       "given": "A. A."
      },
      {
       "family": "Dronov",
       "given": "S."
      },
      {
       "family": "Gilles",
       "given": "E. D."
      },
      {
       "family": "Ginkel",
       "given": "M."
      },
      {
       "family": "Gor",
       "given": "V."
      },
      {
       "family": "Goryanin",
       "given": "I. I."
      },
      {
       "family": "Hedley",
       "given": "W. J."
      },
      {
       "family": "Hodgman",
       "given": "T. C."
      },
      {
       "family": "Hofmeyr",
       "given": "J.-H."
      },
      {
       "family": "Hunter",
       "given": "P. J."
      },
      {
       "family": "Juty",
       "given": "N. S."
      },
      {
       "family": "Kasberger",
       "given": "J. L."
      },
      {
       "family": "Kremling",
       "given": "A."
      },
      {
       "family": "Kummer",
       "given": "U."
      },
      {
       "family": "Novère",
       "given": "N. Le"
      },
      {
       "family": "Loew",
       "given": "L. M."
      },
      {
       "family": "Lucio",
       "given": "D."
      },
      {
       "family": "Mendes",
       "given": "P."
      },
      {
       "family": "Minch",
       "given": "E."
      },
      {
       "family": "Mjolsness",
       "given": "E. D."
      },
      {
       "family": "Nakayama",
       "given": "Y."
      },
      {
       "family": "Nelson",
       "given": "M. R."
      },
      {
       "family": "Nielsen",
       "given": "P. F."
      },
      {
       "family": "Sakurada",
       "given": "T."
      },
      {
       "family": "Schaff",
       "given": "J. C."
      },
      {
       "family": "Shapiro",
       "given": "B. E."
      },
      {
       "family": "Shimizu",
       "given": "T. S."
      },
      {
       "family": "Spence",
       "given": "H. D."
      },
      {
       "family": "Stelling",
       "given": "J."
      },
      {
       "family": "Takahashi",
       "given": "K."
      },
      {
       "family": "Tomita",
       "given": "M."
      },
      {
       "family": "Wagner",
       "given": "J."
      },
      {
       "family": "Wang",
       "given": "J."
      }
     ],
     "container-title": "Bioinf.",
     "id": "2754712/NF7FZULE",
     "issue": "4",
     "issued": {
      "year": 2003
     },
     "note": "bibtex: HuckaFin2003",
     "page": "524-531",
     "page-first": "524",
     "title": "The systems biology markup language (SBML): a medium for representation and exchange of biochemical network models",
     "type": "article-journal",
     "volume": "19"
    },
    "2754712/NPR437GQ": {
     "author": [
      {
       "family": "Hunter",
       "given": "T."
      }
     ],
     "container-title": "Cell",
     "container-title-short": "Cell",
     "id": "2754712/NPR437GQ",
     "issue": "1",
     "issued": {
      "day": 7,
      "month": 1,
      "year": 2000
     },
     "journalAbbreviation": "Cell",
     "language": "eng",
     "note": "PMID: 10647936",
     "page": "113-127",
     "page-first": "113",
     "title": "Signaling--2000 and beyond",
     "type": "article-journal",
     "volume": "100"
    },
    "2754712/QR4JIKLV": {
     "DOI": "10.1016/0092-8674(90)90801-K",
     "URL": "http://www.sciencedirect.com/science/article/pii/009286749090801K",
     "accessed": {
      "day": 23,
      "month": 8,
      "year": 2019
     },
     "author": [
      {
       "family": "Ullrich",
       "given": "Axel"
      },
      {
       "family": "Schlessinger",
       "given": "Joseph"
      }
     ],
     "container-title": "Cell",
     "container-title-short": "Cell",
     "id": "2754712/QR4JIKLV",
     "issue": "2",
     "issued": {
      "day": 20,
      "month": 4,
      "year": 1990
     },
     "journalAbbreviation": "Cell",
     "page": "203-212",
     "page-first": "203",
     "title": "Signal transduction by receptors with tyrosine kinase activity",
     "type": "article-journal",
     "volume": "61"
    },
    "2754712/QTNJGKHE": {
     "DOI": "10.1109/BIBM.2016.7822739",
     "abstract": "Biochemical processes typically operate on molecular sites (domains, motifs, residues). In rule-based modeling languages such as BioNetGen (BNG), reactions driven by the same set of sites with the same rate law can be represented using a single reaction rule. This leads to compact model representations when sites behave independently, but not when a large number of sites interact cooperatively. Additionally, loops of reactions are constrained by detailed balance equations involving their rate constants, but these constraints have to be enforced manually when specifying rate laws for rules. Here, we introduce the energy-based BioNetGen specification (eBNG), in which models always satisfy detailed balance and cooperative interactions are compactly specified as free energy contributions. We demonstrate this approach using well-known models of molecular cooperativity, such as ligand-induced receptor dimerization and allosteric modulation.",
     "author": [
      {
       "family": "Sekar",
       "given": "J. A. P."
      },
      {
       "family": "Hogg",
       "given": "J. S."
      },
      {
       "family": "Faeder",
       "given": "J. R."
      }
     ],
     "container-title": "2016 IEEE International Conference on Bioinformatics and Biomedicine (BIBM)",
     "event": "2016 IEEE International Conference on Bioinformatics and Biomedicine (BIBM)",
     "id": "2754712/QTNJGKHE",
     "issued": {
      "month": 12,
      "year": 2016
     },
     "page": "1460-1467",
     "page-first": "1460",
     "title": "Energy-based modeling in BioNetGen",
     "type": "paper-conference"
    },
    "2754712/RUR9I9SQ": {
     "URL": "https://www.biorxiv.org/content/10.1101/2021.05.20.445065v1",
     "abstract": "Motivation Because they effectively represent mass action kinetics, ordinary differential equation models are widely used to describe biochemical processes. Optimization-based calibration of these models on experimental data can be challenging, even for low-dimensional problems. However, reliable model calibration is a prerequisite for many subsequent analysis steps, including uncertainty analysis, model selection and biological interpretation. Although multiple hypothesis have been advanced to explain why optimization based calibration of biochemical models is challenging, there are few comprehensive studies that test these hypothesis and tools for performing such studies are also lacking.\nResults We implemented an established trust-region method as a modular python framework (fides) to enable structured comparison of different approaches to ODE model calibration involving Hessian approximation schemes and trust-region subproblem solvers. We evaluate fides on a set of benchmark problems that include experimental data. We find a high variability in optimizer performance among different implementations of the same algorithm, with fides performing more reliably that other implementations investigated. Our investigation of possible sources of poor optimizer performance identify shortcomings in the widely used Gauss-Newton approximation. We address these shortcomings by proposing a novel hybrid Hessian approximation scheme that enhances optimizer performance.\nAvailability Fides is published under the permissive BSD-3-Clause license with source code publicly available at https://github.com/fides-dev/fides. Citeable releases are archived on Zenodo.\nContact fabian_froehlich{at}hms.harvard.edu and peter_sorger{at}hms.harvard.edu\nSupplementary information Supplementary data are available at Bioinformatics online and at https://github.com/fides-dev/fides-benchmark.",
     "accessed": {
      "day": 24,
      "month": 8,
      "year": 2021
     },
     "author": [
      {
       "family": "Fröhlich",
       "given": "Fabian"
      },
      {
       "family": "Sorger",
       "given": "Peter K."
      }
     ],
     "container-title": "bioRxiv",
     "id": "2754712/RUR9I9SQ",
     "issued": {
      "day": 22,
      "month": 5,
      "year": 2021
     },
     "language": "en",
     "note": "Company: Cold Spring Harbor Laboratory\nDOI: 10.1101/2021.05.20.445065\nDistributor: Cold Spring Harbor Laboratory\nLabel: Cold Spring Harbor Laboratory\nSection: New Results\nType: article",
     "page": "2021.05.20.445065",
     "page-first": "2021.05.20.445065",
     "shortTitle": "Fides",
     "title": "Fides: Reliable Trust-Region Optimization for Parameter Estimation of Ordinary Differential Equation Models",
     "title-short": "Fides",
     "type": "article-journal"
    },
    "2754712/RYRYBYZA": {
     "author": [
      {
       "family": "Raue",
       "given": "A."
      },
      {
       "family": "Steiert",
       "given": "B."
      },
      {
       "family": "Schelker",
       "given": "M."
      },
      {
       "family": "Kreutz",
       "given": "C."
      },
      {
       "family": "Maiwald",
       "given": "T."
      },
      {
       "family": "Hass",
       "given": "H."
      },
      {
       "family": "Vanlier",
       "given": "J."
      },
      {
       "family": "Tönsing",
       "given": "C."
      },
      {
       "family": "Adlung",
       "given": "L."
      },
      {
       "family": "Engesser",
       "given": "R."
      },
      {
       "family": "Mader",
       "given": "W."
      },
      {
       "family": "Heinemann",
       "given": "T."
      },
      {
       "family": "Hasenauer",
       "given": "J."
      },
      {
       "family": "Schilling",
       "given": "M."
      },
      {
       "family": "Höfer",
       "given": "T."
      },
      {
       "family": "Klipp",
       "given": "E."
      },
      {
       "family": "Theis",
       "given": "F. J."
      },
      {
       "family": "Klingmüller",
       "given": "U."
      },
      {
       "family": "Schöberl",
       "given": "B."
      },
      {
       "family": "J.Timmer",
       "given": ""
      }
     ],
     "container-title": "Bioinformatics",
     "id": "2754712/RYRYBYZA",
     "issue": "21",
     "issued": {
      "month": 11,
      "year": 2015
     },
     "page": "3558-3560",
     "page-first": "3558",
     "title": "Data2Dynamics: a modeling environment tailored to parameter estimation in dynamical systems",
     "type": "article-journal",
     "volume": "31"
    },
    "2754712/SP36R7LH": {
     "DOI": "10.1371/journal.pone.0027755",
     "author": [
      {
       "family": "Chis",
       "given": "O.-T."
      },
      {
       "family": "Banga",
       "given": "J. R."
      },
      {
       "family": "Balsa-Canto",
       "given": "E."
      }
     ],
     "container-title": "PLoS ONE",
     "id": "2754712/SP36R7LH",
     "issue": "11",
     "issued": {
      "month": 11,
      "year": 2011
     },
     "note": "bibtex: ChisBan2011",
     "page": "e27755",
     "page-first": "e27755",
     "title": "Structural identifiability of systems biology models: A critical comparison of methods",
     "type": "article-journal",
     "volume": "6"
    },
    "2754712/URVR5RD5": {
     "DOI": "10.1016/j.ccr.2012.10.009",
     "URL": "https://www.ncbi.nlm.nih.gov/pmc/articles/PMC3713778/",
     "abstract": "BRAFV600E drives tumors by dysregulating ERK signaling. In these tumors, we show that high levels of ERK-dependent negative feedback potently suppress ligand-dependent mitogenic signaling and Ras function. BRAFV600E activation is Ras-independent and it signals as a RAF-inhibitor sensitive monomer. RAF inhibitors potently inhibit RAF monomers and ERK signaling, causing relief of ERK-dependent feedback, reactivation of ligand-dependent signal transduction, increased Ras-GTP and generation of RAF inhibitor-resistant RAF dimers. This results in a rebound in ERK activity and culminates in a new steady state, wherein ERK signaling is elevated compared to its initial nadir after RAF inhibition. In this state, ERK signaling is RAF inhibitor resistant, and MEK inhibitor sensitive, and combined inhibition results in enhancement of ERK-pathway inhibition and antitumor activity.",
     "accessed": {
      "day": 23,
      "month": 8,
      "year": 2018
     },
     "author": [
      {
       "family": "Lito",
       "given": "Piro"
      },
      {
       "family": "Pratilas",
       "given": "Christine A."
      },
      {
       "family": "Joseph",
       "given": "Eric W."
      },
      {
       "family": "Tadi",
       "given": "Madhavi"
      },
      {
       "family": "Halilovic",
       "given": "Ensar"
      },
      {
       "family": "Zubrowski",
       "given": "Matthew"
      },
      {
       "family": "Huang",
       "given": "Alan"
      },
      {
       "family": "Wong",
       "given": "Wai Lin"
      },
      {
       "family": "Callahan",
       "given": "Margaret K."
      },
      {
       "family": "Merghoub",
       "given": "Taha"
      },
      {
       "family": "Wolchok",
       "given": "Jedd D."
      },
      {
       "family": "de Stanchina",
       "given": "Elisa"
      },
      {
       "family": "Chandarlapaty",
       "given": "Sarat"
      },
      {
       "family": "Poulikakos",
       "given": "Poulikos I."
      },
      {
       "family": "Fagin",
       "given": "James A."
      },
      {
       "family": "Rosen",
       "given": "Neal"
      }
     ],
     "container-title": "Cancer cell",
     "container-title-short": "Cancer Cell",
     "id": "2754712/URVR5RD5",
     "issue": "5",
     "issued": {
      "day": 13,
      "month": 11,
      "year": 2012
     },
     "journalAbbreviation": "Cancer Cell",
     "note": "PMID: 23153539\nPMCID: PMC3713778",
     "page": "668-682",
     "page-first": "668",
     "title": "Relief of Profound Feedback Inhibition of Mitogenic Signaling by RAF Inhibitors Attenuates their Activity in BRAFV600E Melanomas",
     "type": "article-journal",
     "volume": "22"
    },
    "2754712/VAJ8A9TA": {
     "author": [
      {
       "family": "Wegscheider",
       "given": "Rud"
      }
     ],
     "container-title": "Monatshefte für Chemie und verwandte Teile anderer Wissenschaften",
     "id": "2754712/VAJ8A9TA",
     "issue": "8",
     "issued": {
      "year": 1911
     },
     "page": "849-906",
     "page-first": "849",
     "title": "Über simultane Gleichgewichte und die Beziehungen zwischen Thermodynamik und Reactionskinetik homogener Systeme",
     "type": "article-journal",
     "volume": "32"
    },
    "2754712/X784IDZJ": {
     "DOI": "10.1038/ncb1497",
     "author": [
      {
       "family": "Aldridge",
       "given": "B. B."
      },
      {
       "family": "Burke",
       "given": "J. M."
      },
      {
       "family": "Lauffenburger",
       "given": "D. A."
      },
      {
       "family": "Sorger",
       "given": "P. K."
      }
     ],
     "container-title": "Nature Cell Biology",
     "id": "2754712/X784IDZJ",
     "issue": "11",
     "issued": {
      "month": 11,
      "year": 2006
     },
     "note": "bibtex: AldridgeBur2006",
     "page": "1195-1203",
     "page-first": "1195",
     "title": "Physicochemical modelling of cell signalling pathways",
     "type": "article-journal",
     "volume": "8"
    },
    "2754712/YK9CS8BY": {
     "DOI": "10.1038/s41580-020-0255-7",
     "URL": "https://www-nature-com.ezp-prod1.hul.harvard.edu/articles/s41580-020-0255-7",
     "abstract": "Extracellular signal-regulated kinase 1 (ERK1) and ERK2 relay cell growth and mitogenic signals to multiple substrates, and thus control essential physiological processes. This Review discusses the regulation of ERKs, and their control of cell proliferation, cell survival, cell growth, cell metabolism, cell migration and cell differentiation.",
     "accessed": {
      "day": 7,
      "month": 12,
      "year": 2020
     },
     "author": [
      {
       "family": "Lavoie",
       "given": "Hugo"
      },
      {
       "family": "Gagnon",
       "given": "Jessica"
      },
      {
       "family": "Therrien",
       "given": "Marc"
      }
     ],
     "container-title": "Nature Reviews Molecular Cell Biology",
     "container-title-short": "Nat Rev Mol Cell Biol",
     "id": "2754712/YK9CS8BY",
     "issue": "10",
     "issued": {
      "month": 10,
      "year": 2020
     },
     "journalAbbreviation": "Nat Rev Mol Cell Biol",
     "language": "en",
     "note": "Number: 10\nPublisher: Nature Publishing Group",
     "page": "607-632",
     "page-first": "607",
     "shortTitle": "ERK signalling",
     "title": "ERK signalling: a master regulator of cell behaviour, life and fate",
     "title-short": "ERK signalling",
     "type": "article-journal",
     "volume": "21"
    },
    "undefined": {
     "DOI": "10.1371/journal.pcbi.1008646",
     "URL": "https://journals.plos.org/ploscompbiol/article?id=10.1371/journal.pcbi.1008646",
     "abstract": "Reproducibility and reusability of the results of data-based modeling studies are essential. Yet, there has been—so far—no broadly supported format for the specification of parameter estimation problems in systems biology. Here, we introduce PEtab, a format which facilitates the specification of parameter estimation problems using Systems Biology Markup Language (SBML) models and a set of tab-separated value files describing the observation model and experimental data as well as parameters to be estimated. We already implemented PEtab support into eight well-established model simulation and parameter estimation toolboxes with hundreds of users in total. We provide a Python library for validation and modification of a PEtab problem and currently 20 example parameter estimation problems based on recent studies.",
     "accessed": {
      "day": 13,
      "month": 4,
      "year": 2021
     },
     "author": [
      {
       "family": "Schmiester",
       "given": "Leonard"
      },
      {
       "family": "Schälte",
       "given": "Yannik"
      },
      {
       "family": "Bergmann",
       "given": "Frank T."
      },
      {
       "family": "Camba",
       "given": "Tacio"
      },
      {
       "family": "Dudkin",
       "given": "Erika"
      },
      {
       "family": "Egert",
       "given": "Janine"
      },
      {
       "family": "Fröhlich",
       "given": "Fabian"
      },
      {
       "family": "Fuhrmann",
       "given": "Lara"
      },
      {
       "family": "Hauber",
       "given": "Adrian L."
      },
      {
       "family": "Kemmer",
       "given": "Svenja"
      },
      {
       "family": "Lakrisenko",
       "given": "Polina"
      },
      {
       "family": "Loos",
       "given": "Carolin"
      },
      {
       "family": "Merkt",
       "given": "Simon"
      },
      {
       "family": "Müller",
       "given": "Wolfgang"
      },
      {
       "family": "Pathirana",
       "given": "Dilan"
      },
      {
       "family": "Raimúndez",
       "given": "Elba"
      },
      {
       "family": "Refisch",
       "given": "Lukas"
      },
      {
       "family": "Rosenblatt",
       "given": "Marcus"
      },
      {
       "family": "Stapor",
       "given": "Paul L."
      },
      {
       "family": "Städter",
       "given": "Philipp"
      },
      {
       "family": "Wang",
       "given": "Dantong"
      },
      {
       "family": "Wieland",
       "given": "Franz-Georg"
      },
      {
       "family": "Banga",
       "given": "Julio R."
      },
      {
       "family": "Timmer",
       "given": "Jens"
      },
      {
       "family": "Villaverde",
       "given": "Alejandro F."
      },
      {
       "family": "Sahle",
       "given": "Sven"
      },
      {
       "family": "Kreutz",
       "given": "Clemens"
      },
      {
       "family": "Hasenauer",
       "given": "Jan"
      },
      {
       "family": "Weindl",
       "given": "Daniel"
      }
     ],
     "container-title": "PLOS Computational Biology",
     "container-title-short": "PLOS Computational Biology",
     "id": "undefined",
     "issue": "1",
     "issued": {
      "day": 26,
      "month": 1,
      "year": 2021
     },
     "journalAbbreviation": "PLOS Computational Biology",
     "language": "en",
     "note": "Publisher: Public Library of Science",
     "page": "e1008646",
     "page-first": "e1008646",
     "title": "PEtab—Interoperable specification of parameter estimation problems in systems biology",
     "type": "article-journal",
     "volume": "17"
    }
   }
  },
  "kernelspec": {
   "display_name": "Python (ebng chapter)",
   "language": "python",
   "name": "python3_enbg"
  },
  "language_info": {
   "codemirror_mode": {
    "name": "ipython",
    "version": 3
   },
   "file_extension": ".py",
   "mimetype": "text/x-python",
   "name": "python",
   "nbconvert_exporter": "python",
   "pygments_lexer": "ipython3",
   "version": "3.9.2"
  },
  "pycharm": {
   "stem_cell": {
    "cell_type": "raw",
    "metadata": {
     "collapsed": false
    },
    "source": []
   }
  }
 },
 "nbformat": 4,
 "nbformat_minor": 1
}
