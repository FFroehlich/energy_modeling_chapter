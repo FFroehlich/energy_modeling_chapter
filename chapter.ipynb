{
 "cells": [
  {
   "cell_type": "markdown",
   "metadata": {},
   "source": [
    "# A Practical Guide for the Efficient Formulation and Calibration of Large, Energy Rule-Based Models of Cellular Signal Transduction"
   ]
  },
  {
   "cell_type": "markdown",
   "metadata": {},
   "source": [
    "# Abstract"
   ]
  },
  {
   "cell_type": "markdown",
   "metadata": {},
   "source": [
    "Aberrant signal transduction leads to complex diseases such as cancer. To rationally design treatment strategies with small molecule inhibitors, computational models have to be employed. Energy- and rule-based models allow the construction of mechanistic ordinary differential equation models based on structural insights. The detailed, energy-based description often generates large models, which are difficult to calibrate on experimental data. In this chapter, we provide a detailed, interactive protocol for the programmatic formulation and calibration of such large, energy- and rule-based models of cellular signal transduction based on an example model describing the action of RAF inhibitors on MAPK signaling. An interactive version of this chapter is available as jupyter notebook at [github.com/FFroehlich/energy_modeling_chapter](https:://github.com/FFroehlich/energy_modeling_chapter)."
   ]
  },
  {
   "cell_type": "markdown",
   "metadata": {
    "collapsed": true,
    "pycharm": {
     "name": "#%% \n"
    }
   },
   "source": [
    "# Introduction"
   ]
  },
  {
   "cell_type": "markdown",
   "metadata": {},
   "source": [
    "Cells use signal transduction to respond to extracellular cues, controlling a variety of different cellular processes such as proliferation, development and environmental adaption <cite data-cite=\"2754712/YK9CS8BY\"></cite>. Signal transduction is initiated by the binding of extracellular ligands to transmembrane receptors <cite data-cite=\"2754712/QR4JIKLV\"></cite> and then propagated through phosphorylation cascades <cite data-cite=\"2754712/B6ZP8LH6\"></cite> <cite data-cite=\"2754712/NPR437GQ\"></cite>, ultimately controlling gene expression through modulation of transcription factor activity. Mutations and changes in protein expression levels can dysregulate signal transduction leading to a variety of different diseases such as cancer <cite data-cite=\"2754712/L8NRTXRQ\"></cite>. Small molecule inhibitors can be used to target specific proteins that participate in aberrant signal transduction <cite data-cite=\"2754712/7ZXBI6XG\"></cite>. However, feedback mechanisms and cross-talk between signaling cascades, which are ubiquitous to cellular signal transduction, lead to complex, non-linear responses to drug inhibition <cite data-cite=\"2754712/URVR5RD5\"></cite>, making it difficult to anticipate the phenotypic response or resistance to these inhibitors. Accordingly, computational models that describe signal transduction, and the effect of drug perturbations on it, are required for the rational selection and dosage of targeted inhibitors <cite data-cite=\"2754712/DUK5BLQ4\"></cite>. Mechanistic computational models of cellular signal transduction translate biological knowledge into executable mathematical formulations <cite data-cite=\"2754712/6JVZVNVK\"></cite>. To this end, ordinary differential equations (ODE) models are a popular modeling approach, as they can describe temporal dynamics and feedback mechanisms <cite data-cite=\"2754712/X784IDZJ\"></cite>. Moreover, state variables and parameters correspond to biophysical entities, facilitating a direct interpretation of model simulations and predictions."
   ]
  },
  {
   "cell_type": "markdown",
   "metadata": {},
   "source": [
    "Formulation of such models is often a long, labour intensive process, especially for large models. Instead of directly writing model equations, a tedious and error-prone process, it is advisable to use some kind of abstraction when writing models. For example, the Systems Biology Markup Language (SBML) <cite data-cite=\"2754712/NF7FZULE\"></cite> encodes models using concepts such as reactions and events, which can then be translated into differential equation models. Rule-based formats such as Kappa <cite data-cite=\"2754712/NAKF6985\"></cite> or BioNetGen <cite data-cite=\"2754712/M82A4YPP\"></cite> employ even higher levels of abstractions and describe model equations in terms of rules, which are generalizations of reactions <cite data-cite=\"2754712/MIF24GAE\"></cite>. While such abstractions can limit what models can be expressed, they also permit a more compact model description. A recent extension to rule-based models are energy rule-based models <cite data-cite=\"2754712/6CAKFQQP\"></cite> <cite data-cite=\"2754712/QTNJGKHE\"></cite>, which provide an additional layer of abstraction by enabling the specification of reaction rates in terms of energies. Conceptually, energies permit the theoretically sound formulation of reaction rates based on transition theory and provide a rigorous way of specifying context dependent reaction rates based on structural insights <cite data-cite=\"2754712/7TJH2IAK\"></cite> <cite data-cite=\"2754712/DI7IDWLV\"></cite>. Practically, energy based models enforce thermodynamic constraints such as the Wegscheider-Lewis cycle conditions <cite data-cite=\"2754712/VAJ8A9TA\"></cite>, which ensure the conservation of energy in oligomerization processes. This is particularly relevant for the specification of context dependent inhibitor affinities. For example, many RAF inhibitors have different affinities for RAF monomers and dimers, which causes for the clinically observed phenomenon of \"paradoxical activation\" in which signaling in RAF mutant cancer cells in inhibited, but signaling in RAS mutant cancer cells is amplified <cite data-cite=\"2754712/68C3KR4X\"></cite> <cite data-cite=\"2754712/GPZDY42G\"></cite> <cite data-cite=\"2754712/46UNKAAD\"></cite>."
   ]
  },
  {
   "cell_type": "markdown",
   "metadata": {},
   "source": [
    "Calibration of large models can also be challenging. During model calibration, parameter values are tuned such that model simulations agree with experimental data, which improves the predictive performance of models. Agreement between model simulations and experiments can be quantified using likelihood-based objective functions, in which case model calibration can be implemented through minimization of the respective objective function. For larger models, gradient-based optimization methods perform well <cite data-cite=\"2754712/INKV577L\"></cite>. However, for non-linear models, analytical solutions to model equations are rarely available, which means that numerical integration is necessary for evaluation of the objective function and its derivatives. Accordingly, gradient-based methods not only require integration of model equations, but also sensitivity equations, which quantify the dependence of simulations on model parameters. For large models, adjoint sensitivity analysis is an effective way of computing these sensitivities, but also comes with its drawbacks such as not permitting the computation of cheap approximations to the second order derivative <cite data-cite=\"2754712/MKPQ9727\"></cite>."
   ]
  },
  {
   "cell_type": "markdown",
   "metadata": {},
   "source": [
    "Model formulation and calibration for large models can be a daunting task <cite data-cite=\"2754712/C7C8DJNE\"></cite>, even when using specialized software tools. Input formats such as SBML or PEtab <cite data-cite=\"2754712/86CV69R2\"></cite> permit the standardized problem formulation, which allows the automation of the majority of steps. However, manual interventions are still occasionally necessary to achieve optimal performance. These manual interventions often require substantial practical experience as well as theoretical background knowledge, which creates a high barrier to entry and means that successful development and application of large models is rarely possible without guidance from experts. To rectify this situation, we here provide a detailed step-by-step protocol for the calibration of a large scale model introduced in <cite data-cite=\"2754712/I4JQ4DMV\"></cite> and <cite data-cite=\"2754712/Y3E9IYH8\"></cite>. In contrast to previous protocols for ODE model calibrations <cite data-cite=\"2754712/3DK88XY2\"></cite></cite><cite data-cite=\"2754712/WCVMC7CZ\"></cite><cite data-cite=\"2754712/D7NTVFNN\"></cite><cite data-cite=\"2754712/RFM5WDSL\"></cite><cite data-cite=\"2754712/S5LTETKT\"></cite><cite data-cite=\"2754712/HWVK2XI8\"></cite><cite data-cite=\"2754712/5ZMDTVIQ\"></cite><cite data-cite=\"2754712/Y2DU9IB4\"></cite><cite data-cite=\"2754712/5SLVJFMG\"></cite>, this protocol includes a description of energy-based model formulation, focuses on large-scale models of intracellular signaling and includes an interactive jupyter notebook which allows reproduction of all results. As in other protocols, theoretical background is provided when appropriate. For additional analysis steps including identifiability, uncertainty analysis or model selection, users should consult previously published reviews and protocols <cite data-cite=\"2754712/SP36R7LH\"></cite></cite><cite data-cite=\"2754712/HHEWVKQL\"></cite><cite data-cite=\"2754712/NDTJEJ2U\"></cite>. This protocol uses the python toolboxes PySB <cite data-cite=\"2754712/7D6BBY4A\"></cite>, PEtab <cite data-cite=\"2754712/86CV69R2\"></cite>, AMICI <cite data-cite=\"2754712/HBAI2XHJ\"></cite>, pyPESTO and fides <cite data-cite=\"2754712/RUR9I9SQ\"></cite> and is accompanied by a jupyter notebook that permits the interactive reproduction of results."
   ]
  },
  {
   "cell_type": "markdown",
   "metadata": {},
   "source": [
    "# Mathematical Problem Formulation"
   ]
  },
  {
   "cell_type": "markdown",
   "metadata": {},
   "source": [
    "$\\newcommand{\\dims}[1]{{n_{#1}}}$For ODE models, the temporal evolution of abundances of $\\dims{x}$ different molecular species $x_i$ is determined by the vector field $\\textbf{f}$ and the initial conditions $\\textbf{x}_0$:\n",
    "\n",
    "\\begin{equation}\n",
    "\\dot{\\textbf{x}}=\\textbf{f}(t,\\textbf{x},\\boldsymbol{\\gamma}),\\quad \\textbf{x}(t_0) = \\textbf{x}_0(\\boldsymbol{\\gamma}).\n",
    "\\label{eq:ode}\n",
    "\\end{equation}\n",
    "\n",
    "Both $\\textbf{f}$ and $\\textbf{x}_0$ may depend on dynamic parameters $\\boldsymbol{\\gamma}$, which may include kinetic parameters such as catalytic or binding rates or condition parameters such as ligand or drug concentrations.\n",
    "\n",
    "Calibration is performed by comparing model simulations, i.e., solutions $\\textbf{x}$ that satisfy $\\eqref{eq:ode}$, to experimental data $\\bar{\\textbf{y}}$. As direct measurement of $\\textbf{x}$ is usually experimentally not possible, observables\n",
    "\n",
    "\\begin{equation}\n",
    "\\textbf{y}(t,\\boldsymbol{\\gamma},\\boldsymbol{\\xi}) = \\textbf{g}(\\textbf{x}(t,\\boldsymbol{\\gamma}),\\boldsymbol{\\xi})\n",
    "\\label{eq:observable}\n",
    "\\end{equation}\n",
    "\n",
    "are introduced, which may depend on abundances $\\textbf{x}$ as well as observable parameters $\\boldsymbol{\\xi}$ such as scaling parameters or offsets. The agreement between model observables $\\textbf{y}$ and experimental measurements $\\bar{\\textbf{y}}$ can be quantified according to the assumed noise model. A common assumption is that the measurement noise for $\\dims{y}$ observables $y_i$ is additive and independent, normally distributed:\n",
    "\n",
    "\\begin{equation}\n",
    "\\bar{y}_{i} = y_i(t,\\boldsymbol{\\gamma},\\boldsymbol{\\xi}) + \\epsilon_{i} \\quad \\epsilon_{i} \\overset{id}{\\sim} \\mathcal{N}(0,\\sigma_{i}^2(\\boldsymbol{\\psi})),\n",
    "\\label{eq:noise}\n",
    "\\end{equation}\n",
    "\n",
    "where $\\boldsymbol{\\psi}$ are noise parameters that encode the standard deviations $\\boldsymbol{\\sigma}$. Using this noise model, the negative log-likelihood \n",
    "\n",
    "\\begin{equation}\n",
    "\\begin{aligned}\n",
    "J(\\boldsymbol{\\theta}) =&  \\frac{1}{2} \\sum_{i=k}^\\dims{k} \\sum_{(i,j) \\in T_k} \\log\\left(2\\pi\\sigma_{i}^2(\\boldsymbol{\\Psi}_{ijk}(\\boldsymbol{\\theta}))\\right) + \\left(\\frac{\\bar{y}_{ijk} - y_{i}(t_j,\\boldsymbol{\\Gamma}_k(\\boldsymbol{\\theta}),\\boldsymbol{\\Xi}_{ijk}(\\boldsymbol{\\theta}))}{\\sigma_{i}(\\boldsymbol{\\Psi}_{ijk}(\\boldsymbol{\\theta}))}\\right)^2\n",
    "\\label{eq:objective}\n",
    "\\end{aligned}\n",
    "\\end{equation}\n",
    "\n",
    "statistically rigorously quantifies the agreement between experimental data and model simulations, where $\\boldsymbol{\\theta}$ are the free, unknown parameters, $T_k$ is the set of time points $t_j$ and observable $y_i$ index combinations that were measured in the $k$-th out of $\\dims{k}$ experimental conditions, $\\boldsymbol{\\Psi}_{ijk}$ is a function that maps free parameters $\\boldsymbol{\\theta}$ to observable, time point and condition specific noise parameters $\\boldsymbol{\\psi}$, $\\boldsymbol{\\Xi}_{ijk}$ is a function that maps free parameters $\\boldsymbol{\\theta}$ to observable, time point and condition specific observable parameters $\\boldsymbol{\\xi}$ and $\\boldsymbol{\\Gamma_{k}}$ is a function that maps free parameters $\\boldsymbol{\\theta}$ to condition specific dynamic parameters $\\boldsymbol{\\gamma}$. As the logarithm is a strictly monotonously increasing function, the minimization of $J(\\boldsymbol{\\theta})$ is equivalent to the maximization of the likelihood. Therefore, the corresponding minimization problem\n",
    "\n",
    "\\begin{equation}\n",
    "\\boldsymbol{\\theta}^* = \\arg \\min_{\\boldsymbol{\\theta} \\in \\Theta} J(\\boldsymbol{\\theta}),\n",
    "\\label{eq:mle}\n",
    "\\end{equation}\n",
    "\n",
    "will infer the Maximum Likelihood Estimate $\\boldsymbol{\\theta}^*$ for free parameters $\\boldsymbol{\\theta}$, where the search domain $\\Theta\\subset{\\mathbb{R}}^{\\dims{\\theta}}$ restricts the $\\boldsymbol{\\theta}$ to values that are biologically plausible and are less subject to numerical integration failures. For most problems, $\\Theta$ is chosen as tensor product of scalar search domains $(\\mathcal{L}_l,\\mathcal{U}_l)$ with lower and upper boundaries $\\mathcal{L}_l < \\mathcal{U}_l$ and $\\mathcal{L}_l, \\mathcal{U}_l \\in \\mathbb{R}\\cup\\{-\\infty,\\infty\\}$ for every parameter $\\theta_l$."
   ]
  },
  {
   "cell_type": "markdown",
   "metadata": {},
   "source": [
    "# Formulating a Thermodynamic Model of RAF inhibition in PySB"
   ]
  },
  {
   "cell_type": "markdown",
   "metadata": {},
   "source": [
    "In the following, we will specify the model, which in turn defines the right hand side $\\textbf{f}$ and the initial conditions $\\textbf{x}_0$ of the model equations. We will specify the model using the rule-based modeling framework PySB, which instead of direct specification of $\\textbf{f}$, programmatically encodes model structure in a modular, object oriented way, ensuring reusability, composability and extendability of models <cite data-cite=\"2754712/7D6BBY4A\"></cite>. To start model specification, we instantiate a PySB [`Model`](https://pysb.readthedocs.io/en/stable/modules/core.html#pysb.core.Model) with name `thermo_raf`."
   ]
  },
  {
   "cell_type": "code",
   "execution_count": 1,
   "metadata": {},
   "outputs": [],
   "source": [
    "from pysb import Model\n",
    "model = Model('thermo_raf');"
   ]
  },
  {
   "cell_type": "markdown",
   "metadata": {},
   "source": [
    "## Protein Species\n",
    "As first step of model construction, we have to define all molecules that we want to account for. In PySB, this is done by instantiating the [`Monomer`](https://pysb.readthedocs.io/en/stable/modules/core.html\\#pysb.core.Monomer) class. Each monomer is initialized by a unique identifier, a list of sites as well as, optionally, a list of possible states for each site. Sites typically correspond to binding domains or residues that can be mutated or modified post-translationally, where the site states encode the different all possible mutations or post-translational modifications for each site. All sites, independent of whether possible states were specified or not, can form a bond with other sites, permitting the description of macromolecular complexes.\n",
    "\n",
    "Here, we will define monomers `BRAF` and `CRAF` which both feature the interaction sites `RBD` (interaction domain with RAS), `raf` (dimerization domain) and `rafi` (inhibitor binding site). For BRAF we also add a mutation sites for the 600th amino acid, which can take values `V` (valine, wildtype) or `E` (glutamic acid, oncogenic mutation)."
   ]
  },
  {
   "cell_type": "code",
   "execution_count": 2,
   "metadata": {},
   "outputs": [],
   "source": [
    "from pysb import Monomer\n",
    "Monomer('BRAF', ['AA600', 'RBD', 'raf', 'rafi'], {'AA600': ['E', 'V']})\n",
    "Monomer('CRAF', ['RBD', 'raf', 'rafi']);"
   ]
  },
  {
   "cell_type": "markdown",
   "metadata": {},
   "source": [
    "Next, we will specify initial concentrations. For this model, the concentration of all molecular species will be in $\\mu\\mathrm{M}$. However, we will use protein counts per cell derived from absolute proteomics to inform initial conditions. Accordingly, parameters that define initial concentrations have to be transformed from molecule per cell to $\\mu\\mathrm{M}$, which is achieved by dividing them by cell volume (here assumed to be $1pL = 10^{-12} L$) and the Avogadro constant ($6.022 10^{23}$ molecules) and multiplying with $10^{6}$ to account for the unit prefix $\\mu$.\n",
    "\n",
    "In the following code, we first introduce two PySB [`Expression`](https://pysb.readthedocs.io/en/stable/modules/core.html#pysb.core.Expression)s that specify the Avogadro constant and cell volume. As with most model components, PySB automatically creates workspace variables with the respective identifier as variable names, simplifying the programmatic reference to components. Next, we introduce two dynamic parameters ($\\boldsymbol{\\gamma}$, see $\\eqref{eq:ode}$) as PySB [`Parameter`](https://pysb.readthedocs.io/en/stable/modules/core.html#pysb.core.Parameter)s `BRAF_0` and `CRAF_0` that define initial abundances as molecules per cell and convert these abundances to concentrations in $\\mu\\mathrm{M}$ using the expressions `initBRAF` and `initCRAF`. These expressions are then used to define the initial abundances for the two monomer species `CRAF` and `BRAF` using the PySB [`Initial`](https://pysb.readthedocs.io/en/stable/modules/core.html#pysb.core.Initial) class, which specifies $\\textbf{x}_0$ for the respective molecular species $x_i$. In PySB, a molecular species is defined by a pattern, which is created by invoking the respective monomer with the state of each site as keyword argument. For initial conditions, the respective patterns have to be explicit, i.e., the states of all sites have to specified. For the initial conditions, we specify that all sites are unbound (denoted by `None`), with the exception of the the `AA600` site. For the `AA600` site we have to pick one of the previously specified states, which we do by specifying the oncogenic variant denoted by `E`. For all molecular species without an explicit instantiation of [`Initial`](https://pysb.readthedocs.io/en/stable/modules/core.html#pysb.core.Initial), the respective entry in $\\textbf{x}_0$ is set to $0$."
   ]
  },
  {
   "cell_type": "code",
   "execution_count": 3,
   "metadata": {},
   "outputs": [],
   "source": [
    "from pysb import Parameter, Expression, Initial\n",
    "import sympy as sp\n",
    "\n",
    "# define Avogadro constant and volume as hardcoded expressions\n",
    "Expression('N_Avogadro', sp.Float(6.02214076e+23))\n",
    "Expression('volume', sp.Float(1e-12))\n",
    "\n",
    "# define initial abundance parameters \n",
    "Parameter('BRAF_0')\n",
    "Parameter('CRAF_0')\n",
    "\n",
    "# convert initial abundances to concentrations\n",
    "Expression('initBRAF', 1000000.0*BRAF_0/(N_Avogadro*volume))\n",
    "Expression('initCRAF', 1000000.0*CRAF_0/(N_Avogadro*volume))\n",
    "\n",
    "# define initial molecular species\n",
    "Initial(BRAF(AA600='E', RBD=None, raf=None, rafi=None), initBRAF)\n",
    "Initial(CRAF(RBD=None, raf=None, rafi=None), initCRAF);"
   ]
  },
  {
   "cell_type": "markdown",
   "metadata": {},
   "source": [
    "## Protein Interactions\n",
    "For rule-based models, all dynamic interactions are specified as rules. PySB [`Rule`](https://pysb.readthedocs.io/en/stable/modules/core.html#pysb.core.Rule)s are generalizations of biochemical reactions and their action is defined by a reactant pattern and a product pattern. When applied to a molecular species, the action of the rule, i.e., the respective biochemical reaction, is implemented by applying the difference between the reactant and the product pattern to a match of the reactant pattern in a molecular species. In contrast to initials, the reactant pattern and product pattern do not have to be explicit and a single rule can define multiple different biochemical reactions, depending in how often and in how many molecular species the reactant pattern occurs.\n",
    "\n",
    "Non-thermodynamic rules additionally require forward reaction rates $k_f$ and, if applicable, reverse reaction rates $k_r$. In contrast, thermodynamic rules are specified in terms of activation energy $E_a$ and the phenomenological constant $\\phi$, the convex combination parameter which encodes how much changes in free energy affect forwards and reverse rates.  For thermodynamic rules, the reaction rate also depends on the free energy difference between reactants and products of the reaction. The forward $k_f$ and reverse $k_r$ reaction rates are computed using the Arrhenius theory of reaction rates\n",
    "\n",
    "$$k_f=\\exp( - (E_a + \\phi \\Delta G)), \\quad k_r=\\exp( - (E_a + (\\phi - 1) \\Delta G))$$\n",
    "\n",
    "with \n",
    "\n",
    "$$\\Delta G = - \\sum_{r \\in R} \\Delta \\Delta G_r + \\sum_{p \\in P} \\Delta \\Delta G_p$$\n",
    "\n",
    "where $E_a$ is the activation energy of the reaction, i.e., the free energy difference between the reactant state and the transition state, $\\Delta G$ is the free energy difference between the reactant and the product states  and $\\Delta \\Delta G_r$ and $\\Delta \\Delta G_p$ are the free energy modifiers that apply to the reactants $r$ in $R$ and the products $p$ in $P$ respectively.  All energies are assumed to be normalized by the inverse of the product between temperature and Boltzmann constant $\\frac{1}{RT}$. The $\\Delta \\Delta G_r$ and $\\Delta \\Delta G_p$ energies can be specified by using the PySB `EnergyPattern` class. When calculating reaction rates, energy BioNetGen (eBNG) not only accounts for `EnergyPattern`s that apply to the reactant and product patterns specified in the rule, but also those EnergyPatterns that specifically apply to reactant and product species. Thus, reactions generated by thermodynamic rules do not always have the same reaction rate. In contrast, all reactions generated by a single non-thermodynamic rule will have the same reaction rate, unless a local function is used for rate specification.\n",
    "\n",
    "In the following we will specify the dimerization of RAF molecules. For this purpose, we introduce three parameters: the activation energy for the binding reaction $E_a$ (Ea suffix), the Gibb's free energy of the formed bond $\\Delta G$ (dG suffix), and the thermodynamic balance parameter $\\phi$ (phi suffix)."
   ]
  },
  {
   "cell_type": "code",
   "execution_count": 4,
   "metadata": {},
   "outputs": [],
   "source": [
    "Parameter('bind_RAF_RAF_Ea')\n",
    "Parameter('bind_RAF_RAF_dG')\n",
    "Parameter('bind_RAF_RAF_phi');"
   ]
  },
  {
   "cell_type": "markdown",
   "metadata": {},
   "source": [
    "To enforce that the activation energy $E_a = - \\log(k_f)$ encodes the forward reaction rate and $\\Delta G = - \\log(K) = -\\log \\left(\\frac{k_r}{k_f}\\right)$ encodes the affinity constant $K$, we will pass a specially crafted custom activation energy $E_{a0} = - \\phi \\Delta G - E_a$, for which we create a custom expression. To then construct homo- and heterodimerization rules for all RAF paralogs, we use `itertools` to loop over all combinations of BRAF and CRAF, implementing equal affinities for all homo- and heterodimers. For every rule we pass the custom energy $Ea_0$ and then specify an `EnergyPattern` for the single product pattern (`pp`) with $\\Delta \\Delta G_p = \\Delta G$."
   ]
  },
  {
   "cell_type": "code",
   "execution_count": 5,
   "metadata": {
    "code_folding": []
   },
   "outputs": [],
   "source": [
    "from pysb import Rule, EnergyPattern\n",
    "import itertools as itt\n",
    "\n",
    "Expression('Ea0_bind_RAF_RAF', \n",
    "           -bind_RAF_RAF_phi*bind_RAF_RAF_dG - bind_RAF_RAF_Ea);\n",
    "\n",
    "for RAF1, RAF2 in itt.combinations_with_replacement([BRAF, CRAF], 2):\n",
    "    pp = RAF1(raf=1) % RAF2(raf=1)\n",
    "    Rule(f'{RAF1.name}_and_{RAF2.name}_bind_and_dissociate', \n",
    "         RAF1(raf=None) + RAF2(raf=None) | pp, \n",
    "         bind_RAF_RAF_phi, Ea0_bind_RAF_RAF, energy=True)\n",
    "    EnergyPattern(f'ep_bind_{RAF1.name}_{RAF2.name}', pp, bind_RAF_RAF_dG);"
   ]
  },
  {
   "cell_type": "markdown",
   "metadata": {},
   "source": [
    "## RAF inhibitor\n",
    "Next, we introduce a RAF inhibitor RAFi. We assume that the inhibitor is added to the cell medium at some point and quickly diffuses in and out of cells. As extracellular space is much bigger than the volume of a cell, we can assume an infinite reservoir of molecules in the extracellular compartment and assume that the intracellular inhibitors concentration will be unaffected by intracellular reactions. Accordingly, we specify the respective initial as fixed, which means that the respective molecular species can participate in reactions, but its concentration will remain constant."
   ]
  },
  {
   "cell_type": "code",
   "execution_count": 6,
   "metadata": {},
   "outputs": [],
   "source": [
    "Monomer('RAFi', ['raf'])\n",
    "\n",
    "Initial(RAFi(raf=None), Parameter('RAFi_0', 0.0), fixed=True);"
   ]
  },
  {
   "cell_type": "markdown",
   "metadata": {},
   "source": [
    "Next, we define binding reactions for RAFi with both BRAF and CRAF, again\n",
    "implementing the same affinities and activation energies for both rules."
   ]
  },
  {
   "cell_type": "code",
   "execution_count": 7,
   "metadata": {},
   "outputs": [],
   "source": [
    "Parameter('bind_RAFi_RAF_Ea')\n",
    "Parameter('bind_RAFi_RAF_dG')\n",
    "Parameter('bind_RAFi_RAF_phi')\n",
    "Expression('Ea0_bind_RAFi_RAF', \n",
    "           -bind_RAFi_RAF_phi*bind_RAFi_RAF_dG - bind_RAFi_RAF_Ea)\n",
    "\n",
    "for RAF in [BRAF, CRAF]:\n",
    "    Rule(f'RAFi_and_{RAF.name}_bind_and_dissociate', \n",
    "         RAFi(raf=None) + RAF(rafi=None) | RAFi(raf=1) % RAF(rafi=1), \n",
    "         bind_RAFi_RAF_phi, Ea0_bind_RAFi_RAF, energy=True)\n",
    "    EnergyPattern(f'ep_bind_{RAF.name}_RAFi', \n",
    "                  RAFi(raf=1) % RAF(rafi=1), bind_RAFi_RAF_dG);"
   ]
  },
  {
   "cell_type": "markdown",
   "metadata": {},
   "source": [
    "## Paradoxical Activation\n",
    "RAF inhibitors inhibit signaling for BRAF mutant cancer cells but promote signaling for RAS mutant cancer cells. At the structural level, this can be rationalized by assuming that RAF inhibitors have higher affinity towards drug-unbound RAF dimers and lower affinity towards drug bound RAF dimers. The symmetry conveyed by energy conservation of molecular binding\n",
    "reactions implies that RAF inhibitors, promote dimerization at low to medium concentrations and incompletely inhibit signaling even at high concentrations, as they have lower affinity to the second protomer in a RAF dimer. As MAPK signaling for RAS mutant cells is mediated by RAF dimers, respective signaling is amplified, leading to increased growth. In the thermodynamic models, this can be implemented by specifying additional `EnergyPattern`s that controls the Gibbs free energy of $\\mathrm{RAF}_2-\\mathrm{RAFi}$ trimers. Note that we do not specify how these trimers are formed, so the change in energy will equally apply to the rates of all reactions that either consume or produce these trimers. In this example, an decrease in energy would equally increase RAF dimerization when exactly one protomer is inhibitor bound  and inhibitor binding to the first protomer in a dimer, thereby implementing the previously described symmetry."
   ]
  },
  {
   "cell_type": "code",
   "execution_count": 8,
   "metadata": {},
   "outputs": [],
   "source": [
    "Parameter('ep_RAF_RAF_RAFi_ddG')\n",
    "for RAF1, RAF2 in itt.product([BRAF, CRAF], repeat=2):\n",
    "    EnergyPattern(\n",
    "        f'ep_{RAF1.name}_{RAF2.name}_mod_RAFi_single', \n",
    "        RAF1(raf=1, rafi=None) % RAF2(raf=1, rafi=2) % RAFi(raf=2), \n",
    "        ep_RAF_RAF_RAFi_ddG);"
   ]
  },
  {
   "cell_type": "markdown",
   "metadata": {},
   "source": [
    "To implement the lower affinity to the second protomer, we add an additional `EnergyPattern` that changes the Gibbs free energy of $\\mathrm{RAF}_2-\\mathrm{RAFi}_2$ tetramers."
   ]
  },
  {
   "cell_type": "code",
   "execution_count": 9,
   "metadata": {},
   "outputs": [],
   "source": [
    "Parameter('ep_RAF_RAF_RAFi_RAFi_ddG')\n",
    "for RAF1, RAF2 in itt.combinations_with_replacement([BRAF, CRAF], r=2):\n",
    "    EnergyPattern(\n",
    "        f'ep_{RAF1.name}_{RAF2.name}_mod_RAFi_double', \n",
    "        RAFi(raf=2) % RAF1(raf=1, rafi=2) % RAF2(raf=1, rafi=3) % RAFi(raf=3), \n",
    "        ep_RAF_RAF_RAFi_RAFi_ddG);"
   ]
  },
  {
   "cell_type": "markdown",
   "metadata": {},
   "source": [
    "Here we note that these `EnergyPattern`s only specify that changes in affinity are permissible in the model. The nature of these changes has to be encoded in their values, where negative values lead to stabilization and positive values to destabilization of respective complexes."
   ]
  },
  {
   "cell_type": "markdown",
   "metadata": {},
   "source": [
    "This wraps up the description of RAF/RAF inhibitor interactions and we will now load the remainder of the model from a file. Briefly, the full model describes MEK and ERK phosphorylation downstream as well as EGF stimulatable EGFR signaling upstream of RAF signaling. Moreover, it incorporates negative feedback from ERK on both MAPK and EGFR signaling. A comprehensive description of this part of the model is available in <cite data-cite=\"2754712/I4JQ4DMV\"></cite> and <cite data-cite=\"2754712/Y3E9IYH8\"></cite>. However, parts of the model were\n",
    "substantially simplified account for the reduced set of experimental data considered in this protocol. Specifically, description of EGFR signaling is removed and replaced by a phenomenological description, MEK inhibitors were removed from the model and two-step phosphorylation and dephosphorylation reactions were replaced by linear one-step reactions."
   ]
  },
  {
   "cell_type": "code",
   "execution_count": 10,
   "metadata": {
    "code_folding": [],
    "hide_input": false
   },
   "outputs": [],
   "source": [
    "from pysb import Observable, ANY\n",
    "def extend_model():\n",
    "    Monomer('RAS', ['raf', 'state'], {'state': ['gdp', 'gtp']})\n",
    "    Monomer('MEK', ['phospho'], {'phospho': ['p', 'u']})\n",
    "    Monomer('ERK', ['phospho'], {'phospho': ['p', 'u']})\n",
    "    Monomer('DUSP', [])\n",
    "\n",
    "    Parameter('ep_RAF_RAF_mod_RASstategtp_double_ddG')\n",
    "    Parameter('bind_RASstategtp_RAF_Ea')\n",
    "    Parameter('bind_RASstategtp_RAF_dG')\n",
    "    Parameter('bind_RASstategtp_RAF_phi')\n",
    "    Parameter('catalyze_RAF_RAFrafiNone_MEK_p_kcat')\n",
    "    Parameter('catalyze_RAFrafiNone_MEK_p_kcat')\n",
    "    Parameter('catalyze_MEKmekiNone_phosphop_ERK_p_kcat')\n",
    "    Parameter('synthesize_ERKphosphop_DUSP_ERK_gexpslope')\n",
    "    Parameter('synthesize_ERKphosphop_DUSP_kdeg')\n",
    "    Parameter('synthesize_ERKphosphop_DUSP_ERK_kM')\n",
    "    Parameter('inhibition_ERKphosphop_RAS_kM')\n",
    "    Parameter('catalyze_PP2A_MEK_u_kcatr')\n",
    "    Parameter('catalyze_DUSP_ERK_u_kcatr')\n",
    "    Parameter('activation_RAS_kcat')\n",
    "\n",
    "    Parameter('RAS_0')\n",
    "    Parameter('MEK_0')\n",
    "    Parameter('ERK_0')\n",
    "    Parameter('EGF_0')\n",
    "    Parameter('DUSP_eq')\n",
    "\n",
    "    Expression('Ea0_bind_RASstategtp_RAF', \n",
    "               -bind_RASstategtp_RAF_phi*bind_RASstategtp_RAF_dG - bind_RASstategtp_RAF_Ea)\n",
    "    \n",
    "    Expression('catalyze_PP2A_MEK_u_kcat', catalyze_PP2A_MEK_u_kcatr*catalyze_RAFrafiNone_MEK_p_kcat)\n",
    "    Expression('catalyze_DUSP_ERK_u_kcat', catalyze_DUSP_ERK_u_kcatr*catalyze_MEKmekiNone_phosphop_ERK_p_kcat)\n",
    "\n",
    "    Expression('initMEK', 1000000.0*MEK_0/(N_Avogadro*volume))\n",
    "    Expression('initERK', 1000000.0*ERK_0/(N_Avogadro*volume))\n",
    "    Expression('initRAS', 1000000.0*RAS_0/(N_Avogadro*volume))\n",
    "\n",
    "    Observable('modulation_ERKphosphop', ERK(phospho='p'))\n",
    "\n",
    "    Expression('synthesize_ERKphosphop_DUSP_ERK_kmod', modulation_ERKphosphop*synthesize_ERKphosphop_DUSP_ERK_gexpslope/(modulation_ERKphosphop + synthesize_ERKphosphop_DUSP_ERK_kM) + 1)\n",
    "    Expression('synthesize_ERKphosphop_DUSP_ksyn', 1.0*DUSP_eq*synthesize_ERKphosphop_DUSP_kdeg*synthesize_ERKphosphop_DUSP_ERK_kmod)\n",
    "    Expression('inhibition_ERKphosphop_RAS_kmod', activation_RAS_kcat/(1 + modulation_ERKphosphop/inhibition_ERKphosphop_RAS_kM)*EGF_0/100.0)\n",
    "\n",
    "\n",
    "    Rule('RASgtp_and_BRAF_bind_and_dissociate', \n",
    "         RAS(raf=None) + BRAF(RBD=None) | \n",
    "         RAS(raf=1) % BRAF(RBD=1), \n",
    "         bind_RASstategtp_RAF_phi, Ea0_bind_RASstategtp_RAF, energy=True)\n",
    "    Rule('RASgtp_and_CRAF_bind_and_dissociate', \n",
    "         RAS(raf=None) + CRAF(RBD=None) | \n",
    "         RAS(raf=1) % CRAF(RBD=1), \n",
    "         bind_RASstategtp_RAF_phi, Ea0_bind_RASstategtp_RAF, energy=True)\n",
    "    Rule('BRAF_BRAF_phosphorylates_MEK', \n",
    "         MEK(phospho='u') + BRAF(RBD=ANY, raf=2, rafi=None) % BRAF(RBD=ANY, raf=2) >> \n",
    "         MEK(phospho='p') + BRAF(RBD=ANY, raf=2, rafi=None) % BRAF(RBD=ANY, raf=2), \n",
    "         catalyze_RAF_RAFrafiNone_MEK_p_kcat)\n",
    "    Rule('CRAF_BRAF_phosphorylates_MEK', \n",
    "         MEK(phospho='u') + CRAF(RBD=ANY, raf=2, rafi=None) % BRAF(RBD=ANY, raf=2) >> \n",
    "         MEK(phospho='p') + CRAF(RBD=ANY, raf=2, rafi=None) % BRAF(RBD=ANY, raf=2), \n",
    "         catalyze_RAF_RAFrafiNone_MEK_p_kcat)\n",
    "    Rule('CRAF_CRAF_phosphorylates_MEK', \n",
    "         MEK(phospho='u') + CRAF(RBD=ANY, raf=2, rafi=None) % CRAF(RBD=ANY, raf=2) >> \n",
    "         MEK(phospho='p') + CRAF(RBD=ANY, raf=2, rafi=None) % CRAF(RBD=ANY, raf=2), \n",
    "         catalyze_RAF_RAFrafiNone_MEK_p_kcat)\n",
    "    Rule('BRAFV600E_phosphorylates_MEK_bound1', \n",
    "         MEK(phospho='u') + BRAF(AA600='E', raf=None, rafi=None) >> \n",
    "         MEK(phospho='p') + BRAF(AA600='E', raf=None, rafi=None), \n",
    "         catalyze_RAFrafiNone_MEK_p_kcat)\n",
    "    Rule('BRAFV600E_phosphorylates_MEK_bound2', \n",
    "         MEK(phospho='u') + BRAF(AA600='E', RBD=None, raf=ANY, rafi=None) >> \n",
    "         MEK(phospho='p') + BRAF(AA600='E', RBD=None, raf=ANY, rafi=None), \n",
    "         catalyze_RAFrafiNone_MEK_p_kcat)\n",
    "    Rule('BRAFV600E_phosphorylates_MEK_bound3', \n",
    "         MEK(phospho='u') + BRAF(AA600='E', RBD=ANY, raf=2, rafi=None) % BRAF(RBD=None, raf=2) >>\n",
    "         MEK(phospho='p') + BRAF(AA600='E', RBD=ANY, raf=2, rafi=None) % BRAF(RBD=None, raf=2), \n",
    "         catalyze_RAFrafiNone_MEK_p_kcat)\n",
    "    Rule('BRAFV600E_phosphorylates_MEK_bound4', \n",
    "         MEK(phospho='u') + BRAF(AA600='E', RBD=ANY, raf=2, rafi=None) % CRAF(RBD=None, raf=2) >> \n",
    "         MEK(phospho='p') + BRAF(AA600='E', RBD=ANY, raf=2, rafi=None) % CRAF(RBD=None, raf=2), \n",
    "         catalyze_RAFrafiNone_MEK_p_kcat)\n",
    "    Rule('MEK_is_dephosphorylated', \n",
    "         MEK(phospho='p') >> \n",
    "         MEK(phospho='u'), catalyze_PP2A_MEK_u_kcat)\n",
    "    Rule('pMEK_phosphorylates_ERK', \n",
    "         ERK(phospho='u') + MEK(phospho='p') >> \n",
    "         ERK(phospho='p') + MEK(phospho='p'), catalyze_MEKmekiNone_phosphop_ERK_p_kcat)\n",
    "    Rule('DUSP_dephosphorylates_ERK', \n",
    "         ERK(phospho='p') + DUSP() >> \n",
    "         ERK(phospho='u') + DUSP(), catalyze_DUSP_ERK_u_kcat)\n",
    "    Rule('synthesis_DUSP', \n",
    "         None >> DUSP(), \n",
    "         synthesize_ERKphosphop_DUSP_ksyn)\n",
    "    Rule('basal_degradation_DUSP', \n",
    "         DUSP() >> None, \n",
    "         synthesize_ERKphosphop_DUSP_kdeg, delete_molecules=True)\n",
    "    Rule('activation_RAS', \n",
    "         RAS(state='gdp') | RAS(state='gtp'), \n",
    "         inhibition_ERKphosphop_RAS_kmod, activation_RAS_kcat)\n",
    "\n",
    "    EnergyPattern('ep_BRAF_BRAF_mod_RAS_double', RAS(raf=2, state='gtp') % BRAF(RBD=2, raf=1) % BRAF(RBD=3, raf=1) % RAS(raf=3, state='gtp'), ep_RAF_RAF_mod_RASstategtp_double_ddG)\n",
    "    EnergyPattern('ep_BRAF_CRAF_mod_RAS_double', RAS(raf=2, state='gtp') % BRAF(RBD=2, raf=1) % CRAF(RBD=3, raf=1) % RAS(raf=3, state='gtp'), ep_RAF_RAF_mod_RASstategtp_double_ddG)\n",
    "    EnergyPattern('ep_CRAF_CRAF_mod_RAS_double', RAS(raf=2, state='gtp') % CRAF(RBD=2, raf=1) % CRAF(RBD=3, raf=1) % RAS(raf=3, state='gtp'), ep_RAF_RAF_mod_RASstategtp_double_ddG)\n",
    "    EnergyPattern('ep_bind_RASstategtp_BRAF', RAS(raf=1, state='gtp') % BRAF(RBD=1), bind_RASstategtp_RAF_dG)\n",
    "    EnergyPattern('ep_bind_RASstategtp_CRAF', RAS(raf=1, state='gtp') % CRAF(RBD=1), bind_RASstategtp_RAF_dG)\n",
    "\n",
    "    Initial(RAS(raf=None, state='gdp'), initRAS)\n",
    "    Initial(MEK(phospho='u'), initMEK)\n",
    "    Initial(ERK(phospho='u'), initERK)\n",
    "\n",
    "extend_model();"
   ]
  },
  {
   "cell_type": "markdown",
   "metadata": {},
   "source": [
    "# Importing data in PEtab Format"
   ]
  },
  {
   "cell_type": "markdown",
   "metadata": {},
   "source": [
    "With the model at hand, the next step for model calibration is specification of the objective function $\\eqref{eq:objective}$. We will specify the objective function using PEtab <cite data-cite=\"2754712/86CV69R2\"></cite>, which simplifies the definition of multiple experimental conditions. PEtab specification of a calibration problem consists of the tables describing model observables, experimental measurements, experimental conditions and model parameters. Additionally, tables describing the visualization of simulations and data may also be included."
   ]
  },
  {
   "cell_type": "markdown",
   "metadata": {},
   "source": [
    "## Observables\n",
    "\n",
    "We will start the PEtab definition by specifying the model observables $\\textbf{y}$ (see $\\eqref{eq:observable}$). Observables define the the model quantities that were measured experimentally, here pMEK and pERK. First, we add respective observables to the model using PySB [`Observable`](https://pysb.readthedocs.io/en/stable/modules/core.html#pysb.core.Observable)s:"
   ]
  },
  {
   "cell_type": "code",
   "execution_count": 11,
   "metadata": {},
   "outputs": [],
   "source": [
    "Observable('pMEK_obs', MEK(phospho='p'))\n",
    "Observable('pERK_obs', ERK(phospho='p'));"
   ]
  },
  {
   "cell_type": "markdown",
   "metadata": {},
   "source": [
    "These observables quantify all MEK (MAP2K1 + MAP2K2) and ERK (MAPK1 + MAPK3) molecules that are phosphorylated on the site `phospho`, which accounts for phosphorylation on S218/S222 or S222/S226 on MEK and T185/Y187 or T202/Y204 on ERK. These PySB [`Observable`](https://pysb.readthedocs.io/en/stable/modules/core.html#pysb.core.Observable)s define linear sums of model species $\\sum_i w_i x_i$, where $w_i$ is an integer that quantifies how often the specified pattern matches the species $x_i$.\n",
    "\n",
    "Next, we construct the PEtab [`observables table`](https://petab.readthedocs.io/en/latest/documentation_data_format.html#observables-table). The model quantifies pMEK and pERK in concentrations, but measurements are noise corrupted, measured in fluorescence intensity and also include background fluorescence. As the scaling between concentrations and intensity and the amount of background signal is unknown, we include scaling and offset parameters in the PEtab observable definition `petab.OBSERVABLE_FORMULA`, which specifies the observable function $g_i$ (see $\\eqref{eq:observable}$). To account for noise corruption, we specify a single noise parameter $\\psi_i$ as PEtab noise formula `petab.NOISE_FORMULA`, which corresponds to a Gaussian distribution (default when no `petab.NOISE_DISTRIBUTION` is specified), with the respective parameter as standard deviation $\\sigma_i$ (see $\\eqref{eq:noise}$). The prefix `noiseParameter1` indicates that the value of the parameter will be provided in the respective column of the [`measurement table`](https://petab.readthedocs.io/en/latest/documentation_data_format.html#measurement-table), which permits the specification of time point and condition specific noise levels via $\\Psi_{ijk}$ (see $\\eqref{eq:objective}$). Here, the specified observable formula $g_i$ does not include any explicit PEtab noise parameters. However, the scale and offset parameters for each observable could be replaced by `observableParameter[0-9]+` placeholders, which would enable the designation of time point and condition specific values in the [`measurement table`](https://petab.readthedocs.io/en/latest/documentation_data_format.html#measurement-table)."
   ]
  },
  {
   "cell_type": "code",
   "execution_count": 12,
   "metadata": {},
   "outputs": [],
   "source": [
    "import petab\n",
    "import pandas as pd\n",
    "observables_table = pd.DataFrame([\n",
    "    {\n",
    "        petab.OBSERVABLE_ID: obs_id,\n",
    "        petab.OBSERVABLE_FORMULA: \n",
    "            f'{obs_id}_scale*{obs_id}_obs + {obs_id}_offset',\n",
    "        petab.NOISE_FORMULA: f'noiseParameter1_{obs_id}'\n",
    "    } for obs_id in ['pMEK', 'pERK']\n",
    "]).set_index(petab.OBSERVABLE_ID)"
   ]
  },
  {
   "cell_type": "markdown",
   "metadata": {},
   "source": [
    "## Measurements and Conditions\n",
    "As experimental measurements, we will load one of the datasets from <cite data-cite=\"2754712/I4JQ4DMV\">, which contains the response of A375 cells cultured for 24h at different concentrations of multiple RAF and MEK inhibitors. The response is measured as normalized phospho-MEK (pMEK) and phospho-ERK (pERK) abundances in unstimulated cells and in EGF stimulated cells 5 minutes after stimulation."
   ]
  },
  {
   "cell_type": "code",
   "execution_count": 13,
   "metadata": {
    "scrolled": true
   },
   "outputs": [],
   "source": [
    "import synapseclient as sc\n",
    "pd.set_option('display.max_rows', 5)\n",
    "pd.set_option('display.max_columns', 6)\n",
    "\n",
    "syn = sc.Synapse()\n",
    "syn.login(silent=True);\n",
    "data_df = pd.read_csv(syn.get('syn22804081').path)"
   ]
  },
  {
   "cell_type": "markdown",
   "metadata": {},
   "source": [
    "The data contains the dose response to multiple RAF and MEK inhibitors as well as respective combinations. However, to minimize computation time requirements, we will only consider data involving the two RAFis vemurafenib and dabrafenib. The model itself only contains generic `RAFi` parameters and species, which we can now map to specific inhibitors using experimental conditions. This permits the simultaneous estimation of inhibitor specific kinetic rates in conjunction with all other model parameters. Such a multi-experiment setup can improve parameter identifiability. \n",
    "\n",
    "In the following, we will simulatenously generate the [`condition table`](https://petab.readthedocs.io/en/latest/documentation_data_format.html#condition-table), encoding the condition specific mapping $\\boldsymbol{\\Gamma}_k$ (see $\\eqref{eq:objective}$) of dynamic paramers $\\boldsymbol{\\gamma}$ (see $\\eqref{eq:ode}$), and [`measurement table`](https://petab.readthedocs.io/en/latest/documentation_data_format.html#measurement-table), ecoding measurements $\\bar{\\textbf{y}}\n",
    "_{ijk}$ and, potentially, respective mappings for observable parameters $\\boldsymbol{\\xi}$ (see $\\eqref{eq:observable}$) via $\\boldsymbol{\\Xi}_{ijk}$ (see $\\eqref{eq:objective}$) and noise parameters $\\boldsymbol{\\psi}$ (see $\\eqref{eq:noise}$) via $\\boldsymbol{\\Psi}_{ijk}$ (see $\\eqref{eq:objective}$). The [`condition table`](https://petab.readthedocs.io/en/latest/documentation_data_format.html#condition-table) describes the necessary information about experimentel conditions, i.e., what drug was used and what concentrations were applied. The [`measurement table`](https://petab.readthedocs.io/en/latest/documentation_data_format.html#measurement-table) describes the measurement itself as well as additional information, such as under which experimental conditions the data was measured.\n",
    "\n",
    "The data we loaded above is in a matrix format, but PEtab requires the data in a long format. Thus, additional processing is necessary. Briefly, the code below extracts all data points and sets what model observable `petab.OBSERVABLE_ID` they belong to, the value of the measurement `petab.MEASUREMENT`, the time of measurement `petab.TIME`, the noise parameter `petab.NOISE_PARAMETERS` and information about the experimental condition.\n",
    "\n",
    "For the EGF stimulation condition, it is important to consider the experimental setup, as cells are subjected to 24h of pretreatment with drugs. We here assume that this is sufficient time for the system to reach a steady state. To describe such an experimental setup in PEtab, it is necessary to reference the respective experimental condition in the [`condition table`](https://petab.readthedocs.io/en/latest/documentation_data_format.html#condition-table) by specifying the respective `petab.CONDITION_ID` in the `petab.PREEQUILIBRATION_CONDITION_ID` column. The condition for the actual experiment can then be specified in the `petab.SIMULATION_CONDITION_ID`.\n",
    "\n",
    "To enable the visualization of data and fitting results, we here also specify the `petab.DATASET_ID`. This does not influence the actual fitting, but serves as grouping identifier during visualization."
   ]
  },
  {
   "cell_type": "code",
   "execution_count": 14,
   "metadata": {
    "code_folding": []
   },
   "outputs": [],
   "source": [
    "RAFis = ['Vemurafenib', 'Dabrafenib', 'PLX8394', 'LY3009120', 'AZ_628']\n",
    "MEKis = ['Cobimetinib', 'Trametinib', 'Selumetinib', 'Binimetinib', 'PD0325901']\n",
    "\n",
    "\n",
    "conditions = dict()\n",
    "\n",
    "\n",
    "def format_petab(row):\n",
    "    suffixes = [''] + [f'.{idx}' for idx in range(1,10)]\n",
    "    datapoints = []\n",
    "    if row[MEKis].any():\n",
    "        return datapoints\n",
    "    # loop over columns of the data matrix\n",
    "    for suffix in suffixes:\n",
    "        # extract data\n",
    "        datapoint = {\n",
    "            petab.OBSERVABLE_ID: 'pMEK' if row.pMEK else 'pERK',\n",
    "            petab.MEASUREMENT: row[f'Mean{suffix}'],\n",
    "            petab.TIME: row['Time_EGF'],\n",
    "            petab.NOISE_PARAMETERS: row[f'Std{suffix}'],\n",
    "        }\n",
    "        # extract condition information\n",
    "        if (row[RAFis] != 0).sum() != 1 or \\\n",
    "                ((row['Vemurafenib'] == 0) and (row['Dabrafenib'] == 0)):\n",
    "            continue\n",
    "\n",
    "        # find first nonzero\n",
    "        rafi = RAFis[(row[RAFis] != 0).argmax()]\n",
    "\n",
    "        # extract drug concentration\n",
    "        drug_conc = row[f'Concentration (uM){suffix}'] if row[rafi] == -1 \\\n",
    "            else row[rafi]\n",
    "        # condition id must be sanitzed, must match '^[a-zA-Z]+[\\w_]*$'\n",
    "        drug_str = f'{rafi}_{drug_conc}'.replace('.', '_').replace('-', '_')\n",
    "\n",
    "        condition_str = drug_str + (\n",
    "            f'__EGF_{row[\"EGF\"]}' if row['EGF'] > 0 else ''\n",
    "        )\n",
    "        condition = {\n",
    "            petab.CONDITION_ID: condition_str,'RAFi_0': drug_conc,\n",
    "            'EGF_0': row[\"EGF\"], 'bind_RAFi_RAF_Ea': f'bind_{rafi}_RAF_Ea',\n",
    "            'bind_RAFi_RAF_dG': f'bind_{rafi}_RAF_dG',\n",
    "            'ep_RAF_RAF_RAFi_ddG': f'ep_RAF_RAF_{rafi}_ddG',\n",
    "            'ep_RAF_RAF_RAFi_RAFi_ddG': f'ep_RAF_RAF_{rafi}_{rafi}_ddG'\n",
    "        }\n",
    "        # set baseline for datapoint\n",
    "        datapoint[petab.PREEQUILIBRATION_CONDITION_ID] = drug_str\n",
    "        # set id for condition and datapoint\n",
    "        datapoint[petab.SIMULATION_CONDITION_ID] = condition_str\n",
    "        datapoint[petab.DATASET_ID] =  ('EGF__' if row['EGF'] > 0 \\\n",
    "                                        else 'ctrl__') + rafi\n",
    "        condition[petab.CONDITION_ID] = condition_str\n",
    "        \n",
    "        datapoints.append(datapoint)\n",
    "        if condition_str not in conditions:\n",
    "            conditions[condition_str] = condition\n",
    "            \n",
    "    return datapoints\n",
    "\n",
    "measurement_table = pd.DataFrame([\n",
    "    d\n",
    "    for ir, row in data_df.iterrows()\n",
    "    for d in format_petab(row)\n",
    "])\n",
    "condition_table = pd.DataFrame(conditions.values()).set_index(petab.CONDITION_ID);"
   ]
  },
  {
   "cell_type": "markdown",
   "metadata": {},
   "source": [
    "In the code above, we extracted experimentally measured standard deviations, which can be noisy as they are often computed from a small number of biological or technical replicates. As the magnitude of standard deviations determines the importance of datapoints during calibration, outliers can lead to overemphasis or ignorance of individual datapoints, resulting in poor fits to the overall data. To avoid such issues, we use the same averaged standard deviations for all datapoints of each observable. For averaging we compute the root mean\n",
    "square, as variances are additive, but standard deviations are not."
   ]
  },
  {
   "cell_type": "code",
   "execution_count": 15,
   "metadata": {},
   "outputs": [],
   "source": [
    "import numpy as np\n",
    "for group, frame in measurement_table.groupby(petab.OBSERVABLE_ID):\n",
    "    measurement_table.loc[measurement_table[petab.OBSERVABLE_ID]==group, \n",
    "                          petab.NOISE_PARAMETERS] = \\\n",
    "        np.sqrt(frame[petab.NOISE_PARAMETERS].apply(np.square).mean())\n",
    "measurement_table;"
   ]
  },
  {
   "cell_type": "markdown",
   "metadata": {},
   "source": [
    "## Parameters\n",
    "The last table necessary for model training is the [`parameter table`](https://petab.readthedocs.io/en/latest/documentation_data_format.html#parameter-table). This table describes all free parameters $\\boldsymbol{\\theta}$ (`petab.PARAMETER_ID`), whether they have to be estimated (`petab.ESTIMATE`) as well as their scales (`petab.PARAMETER_SCALE`), nominal values (`petab.NOMINAL_VALUE`), boundary values $\\mathcal{L}_l$ (`petab.LOWER_BOUND`) and $\\mathcal{U}_l$ (`petab.UPPER_BOUND`) and information about priors.\n",
    "\n",
    "Both parameter boundaries and priors can be used to restrict the search space to biologically plausible parameter values, or prevent numerical issues in regions of parameter space where numerical integration of model equations is challenging. Parameter boundaries set hard thresholds that cannot be exceeded, while parameter priors are soft constraints that also regularize the calibration. While priors are necessary for Bayesian analysis such as parameter sampling, they are not generally required for optimization based approaches.\n",
    "\n",
    "For most models, free parameters $\\boldsymbol{\\theta}$ will primarily occur in the model specification as dynamic parameters $\\boldsymbol{\\gamma}$. But, all of previously described tables may introduce new free parameters: noise parameters $\\boldsymbol{\\psi}$ in noise formulas $\\boldsymbol{\\sigma}$ or respective condition specific mappings $\\boldsymbol{\\Psi}_{ijk}$, observable paramers $\\boldsymbol{\\xi}$ in observable formulas $\\boldsymbol{g}$ or respective condition specific mappings $\\boldsymbol{\\Xi}_{ijk}$ as well as the condition specific dynamic parameter mappings $\\boldsymbol{\\Gamma}_{k}$. Moreover, the respective tables, i.e., the respective mappings $\\boldsymbol{\\Psi}_{ijk}$, $\\boldsymbol{\\Xi}_{ijk}$ and $\\boldsymbol{\\Gamma}_{k}$ may set numerical values for the noise, observable and dynamic parameters, rendering them non-free. As the parameter table must only describe free parameters $\\boldsymbol{\\theta}$, some processing is usually necessary to identify free and non-free parameters.\n",
    "\n",
    "In the following, we will construct a list of `condition_pars`, which are either mapped to free, condition-specific parameters, such as the generic RAFi energy parameters, or set to non-free parameters with fixed numeric values, such as the `RAFi_0` initial concentration. To construct the list of free parameters, we identify all dynamic parameters in the model that are not contained in these `condition_pars`, and add all newly introduced condition specific parameters in the [`condition table`](https://petab.readthedocs.io/en/latest/documentation_data_format.html#condition-table) as well as the four offset and scaling parameters we introduced in the [`observables table`](https://petab.readthedocs.io/en/latest/documentation_data_format.html#observables-table)."
   ]
  },
  {
   "cell_type": "code",
   "execution_count": 16,
   "metadata": {},
   "outputs": [],
   "source": [
    "import numpy as np\n",
    "condition_pars = [\n",
    "    par.name\n",
    "    for par in model.parameters\n",
    "    if par.name in condition_table.columns\n",
    "]\n",
    "\n",
    "free_parameters = [\n",
    "    par.name for par in model.parameters\n",
    "    if par.name not in condition_pars\n",
    "] + [\n",
    "    name\n",
    "    for par in condition_pars\n",
    "    for name in np.unique(condition_table[par])\n",
    "    if isinstance(name, str)\n",
    "] + [\n",
    "    'pMEK_offset','pMEK_scale', 'pERK_offset', 'pERK_scale'\n",
    "]"
   ]
  },
  {
   "cell_type": "markdown",
   "metadata": {},
   "source": [
    "All of the parameters in the model follow a consistent naming scheme, which makes it easier to programmatically specify parameter boundaries, scales and whether parameters are to be estimated. Multiple studies have demonstrated that parameter estimation is more efficient when estimating parameters on a logarithmic scale <cite data-cite=\"2754712/INKV577L\"></cite><cite data-cite=\"2754712/FMD3RVCR\"></cite>. Yet, the thermodynamic formulation we employed for model construction relies on an exponential dependency between energies and kinetic rates, which complements these practical insights with a theoretical foundation why a logarithmic scale is more natural. However, this also suggests that energetic parameters, in contrast to kinetic rates, should be estimated on a linear scale.\n",
    "\n",
    "The upper and lower boundaries should ideally be set to biologically plausible values. However, most models employ simplified descriptions of the underlying biochemical processes, which means that model parameters may no longer have a one-to-one correspondence to true biochemical constants and plausible parameter ranges may be difficult to derive. Moreover, plausible parameter ranges may not be known for all parameters. Therefore, in many applications parameter boundaries are initially based on educated guesses and then refined based on estimation results such that optima are contained in the specified ranges and integration failures are not too frequent. Therefore, the boundaries presented here are based on the values used in the original publication <cite data-cite=\"2754712/I4JQ4DMV\"></cite> and were then refined to work with the simplified model.\n",
    "\n",
    "Similar to parameter boundaries, nominal values can be difficult to derive. However, the numerical values are only important for model calibration when respective parameters are not estimated. In this example, we do not estimate the initial concentrations and $\\phi$ parameters and only set the nominal parameter values of those parameters to non-trivial values. The initial concentrations are set to approximate molecular counts as measured in the original publication and $\\phi$ parameters are all set to 1, meaning that free energy differences only affect the reverse rate.\n"
   ]
  },
  {
   "cell_type": "code",
   "execution_count": 17,
   "metadata": {
    "scrolled": true
   },
   "outputs": [],
   "source": [
    "lbs = {\n",
    "    'Ea': -8, 'dG': -8, 'ddG': -8, 'phi': 0, 'offset': 5e-2,\n",
    "    'scale': 1e0, 'eq': 1e1, '0': 1e3, 'kcat': 1e-2, 'gexpslope': 1e0,\n",
    "    'kdeg': 1e-3, 'kM': 1e-3, 'kcatr': 1e-5, 'koff': 1e-5,\n",
    "}\n",
    "ubs = {\n",
    "    'Ea': 8, 'dG': 8, 'ddG': 8, 'phi': 1, 'offset': 2e-1,\n",
    "    'scale': 1e6, 'eq': 1e5, '0': 1e5, 'kcat': 1e5, 'gexpslope': 1e6,\n",
    "    'kdeg': 1e2, 'kM': 1e1, 'kcatr': 1e2, 'koff': 1e0,\n",
    "}\n",
    "\n",
    "initials = {\n",
    "    'BRAF_0': 1e3, 'CRAF_0': 1e4, 'MEK_0': 1e5, 'ERK_0': 1e5, 'RAS_0': 5e4,\n",
    "}\n",
    "\n",
    "\n",
    "parameter_table = pd.DataFrame([\n",
    "    {\n",
    "        petab.PARAMETER_ID: par,\n",
    "        petab.PARAMETER_SCALE: petab.LIN \n",
    "        if par.endswith(('_Ea', '_dG', '_ddG', '_phi')) else petab.LOG10,\n",
    "        petab.LOWER_BOUND: lbs[par.split('_')[-1]],\n",
    "        petab.UPPER_BOUND: ubs[par.split('_')[-1]],\n",
    "        petab.NOMINAL_VALUE: initials[par] if par.endswith('_0') else 1.0,\n",
    "        petab.ESTIMATE: False if par.endswith(('_phi', '_0')) else True,\n",
    "        \n",
    "    } for par in free_parameters\n",
    "]).set_index(petab.PARAMETER_ID);"
   ]
  },
  {
   "cell_type": "markdown",
   "metadata": {},
   "source": [
    "## SBML export\n",
    "PEtab expects a model in SBML format (an extension allowing other modeling formats is being developed at the time of writing), but we constructed the model in the PySB/BNGL format. Therefore, we need to export the model in SBML format."
   ]
  },
  {
   "cell_type": "code",
   "execution_count": 18,
   "metadata": {},
   "outputs": [],
   "source": [
    "import libsbml\n",
    "from pysb.export import export\n",
    "sbml_reader = libsbml.SBMLReader()\n",
    "sbml_doc = sbml_reader.readSBMLFromString(export(model, 'sbml'))\n",
    "sbml_model = sbml_doc.getModel()"
   ]
  },
  {
   "cell_type": "markdown",
   "metadata": {},
   "source": [
    "In the SBML model, PySB [`Observable`](https://pysb.readthedocs.io/en/stable/modules/core.html#pysb.core.Observable)s are exported as SBML [`Parameters`](http://model.caltech.edu/software/libsbml/5.18.0/docs/formatted/python-api/classlibsbml_1_1_parameter.html) and [`AssignmentRule`](http://model.caltech.edu/software/libsbml/5.18.0/docs/formatted/python-api/classlibsbml_1_1_assignment_rule.html), with programmatically generated identifiers that do not match the PySB [`Observable`](https://pysb.readthedocs.io/en/stable/modules/core.html#pysb.core.Observable) names. As we referenced these observable names when specifying the PEtab observables, we have to change the SBML identifiers to match the PySB names. These changes have to be applied to the SBML [`Parameter`](http://model.caltech.edu/software/libsbml/5.18.0/docs/formatted/python-api/classlibsbml_1_1_parameter.html) as well as the SBML [`AssignmentRule`](http://model.caltech.edu/software/libsbml/5.18.0/docs/formatted/python-api/classlibsbml_1_1_assignment_rule.html) that sets their value."
   ]
  },
  {
   "cell_type": "code",
   "execution_count": 19,
   "metadata": {},
   "outputs": [],
   "source": [
    "# rename pysb exported observables\n",
    "sbml_model.getParameter('__obs1').setId('pMEK_obs')\n",
    "sbml_model.getAssignmentRuleByVariable('__obs1').setVariable('pMEK_obs')\n",
    "sbml_model.getParameter('__obs2').setId('pERK_obs')\n",
    "sbml_model.getAssignmentRuleByVariable('__obs2').setVariable('pERK_obs');"
   ]
  },
  {
   "cell_type": "markdown",
   "metadata": {},
   "source": [
    "As last step, we create a PEtab [`Problem`](https://petab.readthedocs.io/projects/libpetab-python/en/latest/build/_autosummary/petab.problem.html#petab.problem.Problem) using all of the previously constructed tables as well as the exported SBML model. As problem construction was a lengthy, error-prone process, we perform a static analysis of the PEttab problem using the PEtab library provided linter [`petab.lint_problem`](https://petab.readthedocs.io/projects/libpetab-python/en/latest/build/_autosummary/petab.html#petab.lint_problem). Here we suppress any SBML warnings, as they are only due to the implementation of the SBML export in PySB. These warnings cause the linter to terminate with \"Not OK\", but as there are no further issues, we can proceed with calibration."
   ]
  },
  {
   "cell_type": "code",
   "execution_count": 20,
   "metadata": {
    "scrolled": false
   },
   "outputs": [
    {
     "name": "stdout",
     "output_type": "stream",
     "text": [
      "Checking model...\n",
      "Checking measurement table...\n",
      "Checking condition table...\n",
      "Checking observable table...\n",
      "Checking parameter table...\n",
      "Not OK\n"
     ]
    }
   ],
   "source": [
    "import petab\n",
    "import logging\n",
    "import sys\n",
    "from petab.models.sbml_model import SbmlModel\n",
    "\n",
    "petab_problem = petab.Problem(\n",
    "    model=SbmlModel(sbml_model=sbml_model, sbml_reader=sbml_reader, sbml_document=sbml_doc),\n",
    "    measurement_df=measurement_table, condition_df=condition_table,\n",
    "    observable_df=observables_table, parameter_df=parameter_table\n",
    ")\n",
    "petab.sbml.logger.setLevel(logging.ERROR)\n",
    "petab.lint.logger.setLevel(logging.INFO)\n",
    "petab.lint.logger.addHandler(logging.StreamHandler(sys.stdout))\n",
    "petab.lint_problem(petab_problem);"
   ]
  },
  {
   "cell_type": "markdown",
   "metadata": {},
   "source": [
    "# Calibrating the model in pyPESTO\n",
    "Model calibration based on PEtab <cite data-cite=\"2754712/86CV69R2\"></cite> format is supported by a growing number of tools, including COPASI <cite data-cite=\"2754712/I9T5NNAF\"></cite> and data2dynamics <cite data-cite=\"2754712/RYRYBYZA\"></cite>. Here we used the python based calibration tool pyPESTO for calibration. pyPESTO uses AMICI <cite data-cite=\"2754712/HBAI2XHJ\"></cite> for model import and simulation, constructs functions to evaluate the objective function $J(\\boldsymbol{\\theta})$ and its gradient $\\nabla_{\\boldsymbol{\\theta}}J(\\boldsymbol{\\theta})$ and provides an interface to a plethora of different optimizers. \n",
    "\n",
    "To facilitate efficient evaluation of the objective function and its derivatives, we will first compile the model in AMICI. Model compilation should take about a minute on modern desktop machines, but ensures that numerical solutions $\\textbf{x}$ and their sensitivities $\\nabla_{\\boldsymbol{\\gamma}}\\textbf{x}$, which are required for the evaluation of $\\nabla_{\\boldsymbol{\\theta}}J(\\boldsymbol{\\theta})$, are computed using the SUNDIALS solver suite <cite data-cite=\"2754712/YDMLXLFR\"></cite>. AMICI compilation is  triggered by calling the [`compile_model`](https://pypesto.readthedocs.io/en/latest/api_petab.html#pypesto.petab.PetabImporter.compile_model) method of a pyPESTO [`PetabImporter`](https://pypesto.readthedocs.io/en/latest/api_petab.html#pypesto.petab.PetabImporter) instance. The compiled model will be automatically used by other methods of the same `PetabImporter` instance."
   ]
  },
  {
   "cell_type": "code",
   "execution_count": 21,
   "metadata": {
    "scrolled": true
   },
   "outputs": [],
   "source": [
    "import pypesto\n",
    "import pypesto.petab\n",
    "import amici\n",
    "\n",
    "importer = pypesto.petab.PetabImporter(petab_problem,\n",
    "                                       model_name=model.name,\n",
    "                                       validate_petab=False)\n",
    "\n",
    "importer.compile_model(verbose=logging.ERROR)"
   ]
  },
  {
   "cell_type": "markdown",
   "metadata": {},
   "source": [
    "Simulations in AMICI are highly customizable and many steps, including everything that was specified in the the PEtab problem, are automated by pyPESTO. Yet, not all options are set automatically and some user input may be required. For example, the considered example includes preequilibrations (specified by `petab.PREEQUILIBRATION_CONDITION`), which are automatically handled by pyPESTO and AMICI. However, AMICI supports multiple different methods to compute steady states as well as respective sensitivities. By default, a combination of Newton's method and simulation is employed to approximate the steady state <cite data-cite=\"2754712/LVNQBT95\"></cite>. To find a steady state by Newton's method, the Newton-Raphson algorithm is applied to the rootfinding problem\n",
    "\n",
    "$$ \\{\\textbf{x}: \\textbf{f}(t,\\textbf{x},\\boldsymbol{\\gamma}) = 0\\}. $$\n",
    "\n",
    "In contrast, the simulation based approach numerically integrates $\\eqref{eq:ode}$ until $\\textbf{f}$ is sufficiently small with respect to some norm. For both approaches, AMICI uses a convergence criteria based on a combination of absolute and relative tolerances, similar to error control during numerical integration:\n",
    "\n",
    "$$ \\sum_i^{\\dims{x}} \\frac{f_i(t,\\textbf{x},\\boldsymbol{\\gamma})}{a + r x_i} < 1$$\n",
    "\n",
    "where $a$ and $r$ are absolute and relative tolerances that can be set via the [`Solver`](https://amici.readthedocs.io/en/latest/generated/amici.amici.Solver.html#amici.amici.Solver) methods [`setAbsoluteToleranceSteadyState`](https://amici.readthedocs.io/en/latest/generated/amici.amici.Solver.html#amici.amici.Solver.setAbsoluteToleranceSteadyState) and [`setRelativeToleranceSteadyState`](https://amici.readthedocs.io/en/latest/generated/amici.amici.Solver.html#amici.amici.Solver.setRelativeToleranceSteadyState) respectively. In both cases, sensitivites $\\nabla_{\\boldsymbol{\\eta}}\\textbf{x}_{ss}$ of the steady state $\\textbf{x}_{ss}$ can be computed using the Implicit Function Theorem (IFT) <cite data-cite=\"2754712/6AWGLSM9\"></cite>, which is the most efficient option when applicable:\n",
    "\n",
    "$$ \\nabla_{\\boldsymbol{\\eta}}\\textbf{x}_{ss} = \\nabla_x\\textbf{f}(t,\\textbf{x}_{ss},\\boldsymbol{\\eta})^{-1}\\nabla_{\\boldsymbol{\\eta}}\\textbf{f}(t,\\textbf{x}_{ss},\\boldsymbol{\\eta}) . $$\n",
    "\n",
    "However, sensitivity computation via the IFT requires that the Jacobian $\\nabla_x\\textbf{f}(t,\\textbf{x}_{ss},\\boldsymbol{\\gamma})$ is not singular, which is, for example, not the case for models with conservation laws. More details about preequilibration in AMICI is available in the [`online documentation`](https://amici.readthedocs.io/en/latest/ExampleEquilibrationLogic.html).\n",
    "\n",
    "As the model we constructed does not account for protein synthesis and degradation, total protein abundances are conserved quantities in the model and the IFT is not applicable. Thus, we here employ a purely simulation based steady state search by setting the allowed newton steps to 0 and compute the steady state sensitivities using forward sensitivity analysis by setting the steady state sensitivity mode accordingly. To apply these options during optimization, we create AMICI [`Solver`](https://amici.readthedocs.io/en/latest/generated/amici.amici.Solver.html#amici.amici.Solver) and [`Model`](https://amici.readthedocs.io/en/latest/generated/amici.amici.Model.html#amici.amici.Model) instances from the `PetabImporter` and set respective options."
   ]
  },
  {
   "cell_type": "code",
   "execution_count": 22,
   "metadata": {},
   "outputs": [
    {
     "name": "stderr",
     "output_type": "stream",
     "text": [
      "Using existing amici model in folder /Users/ffroehlich/Documents/HMS/energy_modeling_chapter/amici_models/thermo_raf.\n",
      "Using existing amici model in folder /Users/ffroehlich/Documents/HMS/energy_modeling_chapter/amici_models/thermo_raf.\n"
     ]
    }
   ],
   "source": [
    "import amici\n",
    "solver = importer.create_solver()\n",
    "model = importer.create_model()\n",
    "solver.setNewtonMaxSteps(0)\n",
    "model.setSteadyStateSensitivityMode(amici.SteadyStateSensitivityMode.integrationOnly)"
   ]
  },
  {
   "cell_type": "markdown",
   "metadata": {},
   "source": [
    "AMICI also supports different sensitivity analysis methods for dynamic simulations (specified by `petab.SIMULATION_CONDITION_ID`) <cite data-cite=\"2754712/MKPQ9727\"></cite>. For models with over 100 parameters, it usually makes sense to use adjoint sensitivity analysis <cite data-cite=\"2754712/INKV577L\"></cite>. However, for models that also require preequilibration, the computation time of the simulation and gradient evaluation may be dominated by preequilibration and the choice of sensitivity method for dynamic simulations may have negligible impact on computation time. Accordingly, other considerations, such as the availability of approximate second order information should be taken into account when selecting the sensitivity method. In contrast to forward sensitivity analysis, adjoint sensitivity analysis does not provide an approximation to the Hessian of the objective function <cite data-cite=\"2754712/MKPQ9727\"></cite>, rendering some optimizers inapplicable and potentially reducing the convergence rate of those that remain applicable. Therefore, we here chose forward sensitivity analysis for dynamic simulations."
   ]
  },
  {
   "cell_type": "code",
   "execution_count": 23,
   "metadata": {},
   "outputs": [],
   "source": [
    "solver.setSensitivityMethod(amici.SensitivityMethod.forward)"
   ]
  },
  {
   "cell_type": "markdown",
   "metadata": {},
   "source": [
    "Another set of crucial parameters to tune are integration step limits and tolerances. Lower tolerances generally improve accuracy of the objective function and its derivatives, which influences local convergence rate and success <cite data-cite=\"2754712/9T4L23VZ\"></cite>. However, lower tolerances also increases the computation time <cite data-cite=\"2754712/ICNACSXA\"></cite>, so fewer optimization iterations could easily be offsetted by longer compute times per iteration. Moreover, both integration tolerances and step limits influence numerical integrability <cite data-cite=\"2754712/ICNACSXA\"></cite>, which can lead to complications during optimization. Low step limits can promote numerical integration failure and, thereby, prevent optimization from exploring difficult to integrate parameter regions. However, if parameters from these regions yield good fits to the data, this can also deteriorate or bias calibration. Accordingly, setting adequate values for step limits and tolerances is integral for model calibration. Nevertheless, there are little to no theoretical or practical guidelines on how to choose adequate values. Ranges of $10^{-8}$ to $10^{-12}$ are usually adequate <cite data-cite=\"2754712/ICNACSXA\"></cite>, but most of the time values are chosen and updated empirically. Here we chose tolerances of $10^{-12}$ and a step limit of $10^{5}$ integration steps, which is rather conservative, but ensures adequate local convergence for the considered problem."
   ]
  },
  {
   "cell_type": "code",
   "execution_count": 24,
   "metadata": {},
   "outputs": [],
   "source": [
    "solver.setAbsoluteTolerance(1e-12)\n",
    "solver.setRelativeTolerance(1e-12)\n",
    "solver.setMaxSteps(int(1e5))"
   ]
  },
  {
   "cell_type": "markdown",
   "metadata": {},
   "source": [
    "pyPESTO also supports extrapolation methods that iteratively update initial guesses for steady states by linearly extrapolating previously found steady states based on steady state sensitivities. As this may lead to issues when combined with forward, simulation based sensitivity analysis, we deactivate this option here. To set the option, we create a new [`AmiciObjective`](https://pypesto.readthedocs.io/en/latest/api_objective.html#pypesto.objective.AmiciObjective) instance and pass the model solver and model instance we previously created to ensure that all options that we previously set are applied during evaluation of the objective."
   ]
  },
  {
   "cell_type": "code",
   "execution_count": 25,
   "metadata": {},
   "outputs": [
    {
     "name": "stderr",
     "output_type": "stream",
     "text": [
      "[WARNING] /Users/ffroehlich/Documents/HMS/energy_modeling_chapter/venv/lib/python3.9/site-packages/amici/parameter_mapping.py:193: RuntimeWarning: The following problem parameters were not used: {'MEK_0', 'RAS_0', 'bind_RASstategtp_RAF_phi', 'ERK_0', 'bind_RAFi_RAF_phi', 'bind_RAF_RAF_phi', 'CRAF_0', 'BRAF_0'}\n",
      "  warnings.warn(\"The following problem parameters were not used: \"\n",
      "\n"
     ]
    }
   ],
   "source": [
    "obj = importer.create_objective(model=model, solver=solver)\n",
    "obj.guess_steadystate = False"
   ]
  },
  {
   "cell_type": "markdown",
   "metadata": {},
   "source": [
    "Lastly, we instantiate a pyPESTO [`Problem`](https://pypesto.readthedocs.io/en/latest/api_problem.html#pypesto.problem.Problem) and attach the [`AmiciObjective`](https://pypesto.readthedocs.io/en/latest/api_objective.html#pypesto.objective.AmiciObjective) we created."
   ]
  },
  {
   "cell_type": "code",
   "execution_count": 26,
   "metadata": {},
   "outputs": [],
   "source": [
    "pypesto_problem = importer.create_problem(objective=obj)"
   ]
  },
  {
   "cell_type": "markdown",
   "metadata": {},
   "source": [
    "As gradient based methods are local methods, they have guaranteed convergence to local minima (at least theoretically) and multiple repeated optimization runs initialized at different points in $\\Theta$ have to be started to explore the objective function landscape <cite data-cite=\"2754712/NDTJEJ2U\"></cite>. Selecting an appropriate number of optimization runs can be challenging, but should generally be adapted to the downstream analysis. For example, when model selection or uncertainty analysis using profile likelihoods will be performed, it is crucial to ensure that optimization reaches a local optimum and that the local optimum is, or at least yields a fit equivalent to, the global optimum. This can be achieved by running many optimization runs and allocating large computational budgets for each run. For large models, the total computational budget usually is insufficient to achieve these goals and the number of runs and the computational budget has to be limited, with an unknown tradeoff between the two. To deal with this tradeoff, we will here use a two-staged approach where we first run many starts with a low computational budget of 10 minutes. This will just be enough for a handful of iterations and we will then select the most promising runs and continue optimization with a larger computational budget. As optimizer, we employ fides, a high performance trust-region optimizer permitting the direct specification of the computational budgets, which can be interfaced in pyPESTO using the [`FidesOptimizer`](https://pypesto.readthedocs.io/en/latest/api_optimize.html#pypesto.optimize.FidesOptimizer) class."
   ]
  },
  {
   "cell_type": "code",
   "execution_count": 27,
   "metadata": {},
   "outputs": [],
   "source": [
    "from pypesto.optimize import FidesOptimizer\n",
    "import fides\n",
    "import logging\n",
    "\n",
    "optimizer = FidesOptimizer(options={fides.Options.MAXTIME: 600},\n",
    "                           verbose=logging.ERROR)"
   ]
  },
  {
   "cell_type": "markdown",
   "metadata": {},
   "source": [
    "Now we have everything at hand to run the first calibration stage. Here, we run 100 optimization runs with random starting points (uniformly sampled by default) using the pyPESTO [`minimize`](https://pypesto.readthedocs.io/en/latest/api_optimize.html#pypesto.optimize.minimize) function. The calibration is parallelized using pyPESTOs [`MultiThreadEngine`](https://pypesto.readthedocs.io/en/latest/api_engine.html#pypesto.engine.MultiThreadEngine) with 4 threads."
   ]
  },
  {
   "cell_type": "code",
   "execution_count": 28,
   "metadata": {
    "scrolled": true
   },
   "outputs": [
    {
     "name": "stderr",
     "output_type": "stream",
     "text": [
      "Performing parallel task execution on 4 threads.\n",
      "[Warning] AMICI:simulation: AMICI simulation failed:\n",
      "Steady state computation failed. First run of Newton solver failed Simulation to steady state failed: No convergence was achieved. Second run of Newton solver failed\n",
      "Error occurred in:\n",
      "0          0x135022810 amici::SteadystateProblem::handleSteadyStateFailure() + 528\n",
      "1          0x135022276 amici::SteadystateProblem::findSteadyState(amici::Solver const&, amici::Model&, int) + 374\n",
      "2          0x135024b90 amici::SteadystateProblem::workSteadyStateProblem(amici::Solver const&, amici::Model&, int) + 64\n",
      "3          0x1350009ea amici::AmiciApplication::runAmiciSimulation(amici::Solver&, amici::ExpData const*, amici::Model&, bool) + 234\n",
      "4          0x135001575 .omp_outlined. + 405\n",
      "5    \n",
      "[Warning] AMICI:simulation: AMICI simulation failed:\n",
      "Steady state computation failed. First run of Newton solver failed Simulation to steady state failed: No convergence was achieved. Second run of Newton solver failed\n",
      "Error occurred in:\n",
      "0          0x135022810 amici::SteadystateProblem::handleSteadyStateFailure() + 528\n",
      "1          0x135022276 amici::SteadystateProblem::findSteadyState(amici::Solver const&, amici::Model&, int) + 374\n",
      "2          0x135024b90 amici::SteadystateProblem::workSteadyStateProblem(amici::Solver const&, amici::Model&, int) + 64\n",
      "3          0x1350009ea amici::AmiciApplication::runAmiciSimulation(amici::Solver&, amici::ExpData const*, amici::Model&, bool) + 234\n",
      "4          0x135001575 .omp_outlined. + 405\n",
      "5    \n",
      "[Warning] AMICI:simulation: AMICI simulation failed:\n",
      "Steady state computation failed. First run of Newton solver failed Simulation to steady state failed: No convergence was achieved. Second run of Newton solver failed\n",
      "Error occurred in:\n",
      "0          0x135022810 amici::SteadystateProblem::handleSteadyStateFailure() + 528\n",
      "1          0x135022276 amici::SteadystateProblem::findSteadyState(amici::Solver const&, amici::Model&, int) + 374\n",
      "2          0x135024b90 amici::SteadystateProblem::workSteadyStateProblem(amici::Solver const&, amici::Model&, int) + 64\n",
      "3          0x1350009ea amici::AmiciApplication::runAmiciSimulation(amici::Solver&, amici::ExpData const*, amici::Model&, bool) + 234\n",
      "4          0x135001575 .omp_outlined. + 405\n",
      "5    \n",
      "[Warning] AMICI:simulation: AMICI simulation failed:\n",
      "Steady state computation failed. First run of Newton solver failed Simulation to steady state failed: No convergence was achieved. Second run of Newton solver failed\n",
      "Error occurred in:\n",
      "0          0x135022810 amici::SteadystateProblem::handleSteadyStateFailure() + 528\n",
      "1          0x135022276 amici::SteadystateProblem::findSteadyState(amici::Solver const&, amici::Model&, int) + 374\n",
      "2          0x135024b90 amici::SteadystateProblem::workSteadyStateProblem(amici::Solver const&, amici::Model&, int) + 64\n",
      "3          0x1350009ea amici::AmiciApplication::runAmiciSimulation(amici::Solver&, amici::ExpData const*, amici::Model&, bool) + 234\n",
      "4          0x135001575 .omp_outlined. + 405\n",
      "5    \n",
      "[Warning] AMICI:simulation: AMICI simulation failed:\n",
      "Steady state computation failed. First run of Newton solver failed Simulation to steady state failed: No convergence was achieved. Second run of Newton solver failed\n",
      "Error occurred in:\n",
      "0          0x135022810 amici::SteadystateProblem::handleSteadyStateFailure() + 528\n",
      "1          0x135022276 amici::SteadystateProblem::findSteadyState(amici::Solver const&, amici::Model&, int) + 374\n",
      "2          0x135024b90 amici::SteadystateProblem::workSteadyStateProblem(amici::Solver const&, amici::Model&, int) + 64\n",
      "3          0x1350009ea amici::AmiciApplication::runAmiciSimulation(amici::Solver&, amici::ExpData const*, amici::Model&, bool) + 234\n",
      "4          0x135001575 .omp_outlined. + 405\n",
      "5    \n",
      "[Warning] AMICI:simulation: AMICI simulation failed:\n",
      "Steady state computation failed. First run of Newton solver failed Simulation to steady state failed: No convergence was achieved. Second run of Newton solver failed\n",
      "Error occurred in:\n",
      "0          0x135022810 amici::SteadystateProblem::handleSteadyStateFailure() + 528\n",
      "1          0x135022276 amici::SteadystateProblem::findSteadyState(amici::Solver const&, amici::Model&, int) + 374\n",
      "2          0x135024b90 amici::SteadystateProblem::workSteadyStateProblem(amici::Solver const&, amici::Model&, int) + 64\n",
      "3          0x1350009ea amici::AmiciApplication::runAmiciSimulation(amici::Solver&, amici::ExpData const*, amici::Model&, bool) + 234\n",
      "4          0x135001575 .omp_outlined. + 405\n",
      "5    \n",
      "[Warning] AMICI:simulation: AMICI simulation failed:\n",
      "Steady state computation failed. First run of Newton solver failed Simulation to steady state failed: No convergence was achieved. Second run of Newton solver failed\n",
      "Error occurred in:\n",
      "0          0x135022810 amici::SteadystateProblem::handleSteadyStateFailure() + 528\n",
      "1          0x135022276 amici::SteadystateProblem::findSteadyState(amici::Solver const&, amici::Model&, int) + 374\n",
      "2          0x135024b90 amici::SteadystateProblem::workSteadyStateProblem(amici::Solver const&, amici::Model&, int) + 64\n",
      "3          0x1350009ea amici::AmiciApplication::runAmiciSimulation(amici::Solver&, amici::ExpData const*, amici::Model&, bool) + 234\n",
      "4          0x135001575 .omp_outlined. + 405\n",
      "5    \n",
      "[Warning] AMICI:simulation: AMICI simulation failed:\n",
      "Steady state computation failed. First run of Newton solver failed Simulation to steady state failed: No convergence was achieved. Second run of Newton solver failed\n",
      "Error occurred in:\n",
      "0          0x135022810 amici::SteadystateProblem::handleSteadyStateFailure() + 528\n",
      "1          0x135022276 amici::SteadystateProblem::findSteadyState(amici::Solver const&, amici::Model&, int) + 374\n",
      "2          0x135024b90 amici::SteadystateProblem::workSteadyStateProblem(amici::Solver const&, amici::Model&, int) + 64\n",
      "3          0x1350009ea amici::AmiciApplication::runAmiciSimulation(amici::Solver&, amici::ExpData const*, amici::Model&, bool) + 234\n",
      "4          0x135001575 .omp_outlined. + 405\n",
      "5    \n",
      "[Warning] AMICI:simulation: AMICI simulation failed:\n",
      "Steady state computation failed. First run of Newton solver failed Simulation to steady state failed: No convergence was achieved. Second run of Newton solver failed\n",
      "Error occurred in:\n",
      "0          0x135022810 amici::SteadystateProblem::handleSteadyStateFailure() + 528\n",
      "1          0x135022276 amici::SteadystateProblem::findSteadyState(amici::Solver const&, amici::Model&, int) + 374\n",
      "2          0x135024b90 amici::SteadystateProblem::workSteadyStateProblem(amici::Solver const&, amici::Model&, int) + 64\n",
      "3          0x1350009ea amici::AmiciApplication::runAmiciSimulation(amici::Solver&, amici::ExpData const*, amici::Model&, bool) + 234\n",
      "4          0x135001575 .omp_outlined. + 405\n",
      "5    \n",
      "[Warning] AMICI:simulation: AMICI simulation failed:\n",
      "Steady state computation failed. First run of Newton solver failed Simulation to steady state failed: No convergence was achieved. Second run of Newton solver failed\n",
      "Error occurred in:\n",
      "0          0x135022810 amici::SteadystateProblem::handleSteadyStateFailure() + 528\n",
      "1          0x135022276 amici::SteadystateProblem::findSteadyState(amici::Solver const&, amici::Model&, int) + 374\n",
      "2          0x135024b90 amici::SteadystateProblem::workSteadyStateProblem(amici::Solver const&, amici::Model&, int) + 64\n",
      "3          0x1350009ea amici::AmiciApplication::runAmiciSimulation(amici::Solver&, amici::ExpData const*, amici::Model&, bool) + 234\n",
      "4          0x135001575 .omp_outlined. + 405\n",
      "5    \n",
      "[Warning] AMICI:simulation: AMICI simulation failed:\n",
      "Steady state computation failed. First run of Newton solver failed Simulation to steady state failed: No convergence was achieved. Second run of Newton solver failed\n",
      "Error occurred in:\n",
      "0          0x135022810 amici::SteadystateProblem::handleSteadyStateFailure() + 528\n",
      "1          0x135022276 amici::SteadystateProblem::findSteadyState(amici::Solver const&, amici::Model&, int) + 374\n",
      "2          0x135024b90 amici::SteadystateProblem::workSteadyStateProblem(amici::Solver const&, amici::Model&, int) + 64\n",
      "3          0x1350009ea amici::AmiciApplication::runAmiciSimulation(amici::Solver&, amici::ExpData const*, amici::Model&, bool) + 234\n",
      "4          0x135001575 .omp_outlined. + 405\n",
      "5    \n",
      "[Warning] AMICI:simulation: AMICI simulation failed:\n",
      "Steady state computation failed. First run of Newton solver failed Simulation to steady state failed: No convergence was achieved. Second run of Newton solver failed\n",
      "Error occurred in:\n",
      "0          0x135022810 amici::SteadystateProblem::handleSteadyStateFailure() + 528\n",
      "1          0x135022276 amici::SteadystateProblem::findSteadyState(amici::Solver const&, amici::Model&, int) + 374\n",
      "2          0x135024b90 amici::SteadystateProblem::workSteadyStateProblem(amici::Solver const&, amici::Model&, int) + 64\n",
      "3          0x1350009ea amici::AmiciApplication::runAmiciSimulation(amici::Solver&, amici::ExpData const*, amici::Model&, bool) + 234\n",
      "4          0x135001575 .omp_outlined. + 405\n",
      "5    \n"
     ]
    },
    {
     "name": "stderr",
     "output_type": "stream",
     "text": [
      "[Warning] AMICI:simulation: AMICI simulation failed:\n",
      "Steady state computation failed. First run of Newton solver failed Simulation to steady state failed: No convergence was achieved. Second run of Newton solver failed\n",
      "Error occurred in:\n",
      "0          0x135022810 amici::SteadystateProblem::handleSteadyStateFailure() + 528\n",
      "1          0x135022276 amici::SteadystateProblem::findSteadyState(amici::Solver const&, amici::Model&, int) + 374\n",
      "2          0x135024b90 amici::SteadystateProblem::workSteadyStateProblem(amici::Solver const&, amici::Model&, int) + 64\n",
      "3          0x1350009ea amici::AmiciApplication::runAmiciSimulation(amici::Solver&, amici::ExpData const*, amici::Model&, bool) + 234\n",
      "4          0x135001575 .omp_outlined. + 405\n",
      "5    \n",
      "[Warning] AMICI:simulation: AMICI simulation failed:\n",
      "Steady state computation failed. First run of Newton solver failed Simulation to steady state failed: No convergence was achieved. Second run of Newton solver failed\n",
      "Error occurred in:\n",
      "0          0x135022810 amici::SteadystateProblem::handleSteadyStateFailure() + 528\n",
      "1          0x135022276 amici::SteadystateProblem::findSteadyState(amici::Solver const&, amici::Model&, int) + 374\n",
      "2          0x135024b90 amici::SteadystateProblem::workSteadyStateProblem(amici::Solver const&, amici::Model&, int) + 64\n",
      "3          0x1350009ea amici::AmiciApplication::runAmiciSimulation(amici::Solver&, amici::ExpData const*, amici::Model&, bool) + 234\n",
      "4          0x135001575 .omp_outlined. + 405\n",
      "5    \n",
      "[Warning] AMICI:simulation: AMICI simulation failed:\n",
      "Steady state computation failed. First run of Newton solver failed Simulation to steady state failed: No convergence was achieved. Second run of Newton solver failed\n",
      "Error occurred in:\n",
      "0          0x135022810 amici::SteadystateProblem::handleSteadyStateFailure() + 528\n",
      "1          0x135022276 amici::SteadystateProblem::findSteadyState(amici::Solver const&, amici::Model&, int) + 374\n",
      "2          0x135024b90 amici::SteadystateProblem::workSteadyStateProblem(amici::Solver const&, amici::Model&, int) + 64\n",
      "3          0x1350009ea amici::AmiciApplication::runAmiciSimulation(amici::Solver&, amici::ExpData const*, amici::Model&, bool) + 234\n",
      "4          0x135001575 .omp_outlined. + 405\n",
      "5    \n",
      "[Warning] AMICI:simulation: AMICI simulation failed:\n",
      "Steady state computation failed. First run of Newton solver failed Simulation to steady state failed: No convergence was achieved. Second run of Newton solver failed\n",
      "Error occurred in:\n",
      "0          0x135022810 amici::SteadystateProblem::handleSteadyStateFailure() + 528\n",
      "1          0x135022276 amici::SteadystateProblem::findSteadyState(amici::Solver const&, amici::Model&, int) + 374\n",
      "2          0x135024b90 amici::SteadystateProblem::workSteadyStateProblem(amici::Solver const&, amici::Model&, int) + 64\n",
      "3          0x1350009ea amici::AmiciApplication::runAmiciSimulation(amici::Solver&, amici::ExpData const*, amici::Model&, bool) + 234\n",
      "4          0x135001575 .omp_outlined. + 405\n",
      "5    \n",
      "[Warning] AMICI:simulation: AMICI simulation failed:\n",
      "Steady state computation failed. First run of Newton solver failed Simulation to steady state failed: No convergence was achieved. Second run of Newton solver failed\n",
      "Error occurred in:\n",
      "0          0x135022810 amici::SteadystateProblem::handleSteadyStateFailure() + 528\n",
      "1          0x135022276 amici::SteadystateProblem::findSteadyState(amici::Solver const&, amici::Model&, int) + 374\n",
      "2          0x135024b90 amici::SteadystateProblem::workSteadyStateProblem(amici::Solver const&, amici::Model&, int) + 64\n",
      "3          0x1350009ea amici::AmiciApplication::runAmiciSimulation(amici::Solver&, amici::ExpData const*, amici::Model&, bool) + 234\n",
      "4          0x135001575 .omp_outlined. + 405\n",
      "5    \n"
     ]
    }
   ],
   "source": [
    "from pypesto.optimize import minimize\n",
    "result = minimize(\n",
    "    pypesto_problem, optimizer, n_starts=100,\n",
    "    engine=pypesto.engine.MultiThreadEngine(4),\n",
    "    progress_bar=False,\n",
    ")"
   ]
  },
  {
   "cell_type": "markdown",
   "metadata": {},
   "source": [
    "To assess whether the quality of the calibration, we will now use the PEtab visualization feature. The visualization instructions are specified in a [`visualization table`](https://petab.readthedocs.io/en/latest/documentation_data_format.html#visualization-table), where, in the case of line plots, every row corresponds to a single pair of connected lines for data and simulation. Here we make use of the of the `petab.DATASET_ID` values that we specified in the [`measurement table`](https://petab.readthedocs.io/en/latest/documentation_data_format.html#measurement-table). In the following we will generate seperate plots for each observable and each inhibitor, where every plot shows the dose response in the EGF stimulated and unstimulated condition. The visualization table is then attached to the previously created `petab_problem`."
   ]
  },
  {
   "cell_type": "code",
   "execution_count": 29,
   "metadata": {
    "scrolled": false
   },
   "outputs": [],
   "source": [
    "visualization_table = pd.DataFrame([\n",
    "    {\n",
    "        petab.PLOT_ID: f'{rafi}_{obs}',\n",
    "        petab.PLOT_TYPE_SIMULATION: petab.LINE_PLOT,\n",
    "        petab.PLOT_TYPE_DATA: petab.MEAN_AND_SD,\n",
    "        petab.DATASET_ID: condition,\n",
    "        petab.X_VALUES: 'RAFi_0',\n",
    "        petab.Y_VALUES: obs,\n",
    "        petab.X_SCALE: petab.LOG10,\n",
    "        petab.X_LABEL: rafi,\n",
    "        petab.Y_LABEL: obs,\n",
    "        petab.LEGEND_ENTRY: condition.split('__')[0]\n",
    "    }\n",
    "    for rafi in RAFis\n",
    "    for obs in observables_table.index\n",
    "    for condition in measurement_table[petab.DATASET_ID].unique()\n",
    "    if condition.split('__')[1] == rafi\n",
    "])\n",
    "petab_problem.visualization_df = visualization_table"
   ]
  },
  {
   "cell_type": "markdown",
   "metadata": {},
   "source": [
    "While experimental data for visualization is already available in the [`measurement table`](https://petab.readthedocs.io/en/latest/documentation_data_format.html#measurement-table), simulations of the calibrated model still have to be computed. To generate model simulations, we extract the parameter values of the best pre-calibration. As optimization results are sorted in increasing order of objective function values, this can be achieved by taking the result at the first index. PEtab compatible simulation results can be extracted using the pyPESTO objective and the AMICI function [`amici.petab_objective.rdatas_to_simulation_df`](https://amici.readthedocs.io/en/latest/generated/amici.petab_objective.html#amici.petab_objective.rdatas_to_measurement_df). As the results contains the full parameter vector, including parameter values that were not estimated, but the objective only expects estimated parameters, the parameters need to be subsetted according to the free indices. "
   ]
  },
  {
   "cell_type": "code",
   "execution_count": 30,
   "metadata": {},
   "outputs": [],
   "source": [
    "x = pypesto_problem.get_reduced_vector(result.optimize_result.list[0]['x'],\n",
    "                                       pypesto_problem.x_free_indices)\n",
    "simulation = pypesto_problem.objective(x, return_dict=True)\n",
    "simulation_df = amici.petab_objective.rdatas_to_simulation_df(\n",
    "    simulation['rdatas'],\n",
    "    model=pypesto_problem.objective.amici_model,\n",
    "    measurement_df=measurement_table,\n",
    ")"
   ]
  },
  {
   "cell_type": "markdown",
   "metadata": {},
   "source": [
    "We can now visualize both data and simulation using [`petab.visualize.plot_problem`](https://petab.readthedocs.io/projects/libpetab-python/en/latest/build/_autosummary/petab.visualize.html#petab.visualize.plot_problem)."
   ]
  },
  {
   "cell_type": "code",
   "execution_count": 31,
   "metadata": {
    "caption": "Pre-calibrated model simulations and experimental data for EGF stimulated (EGF) and unstimulated conditions (ctrl) for pMEK and pERK observables (columns) and vemurafenib and dabrafenib (rows). All concentrations are in uM, observations in [a.u.].",
    "label": "fig:precalibfit",
    "widefigure": "true"
   },
   "outputs": [
    {
     "data": {
      "image/png": "[encoded data removed]",
      "text/plain": [
       "<Figure size 1440x1080 with 4 Axes>"
      ]
     },
     "metadata": {
      "needs_background": "light"
     },
     "output_type": "display_data"
    }
   ],
   "source": [
    "import petab.visualize\n",
    "import matplotlib.pyplot as plt\n",
    "\n",
    "plt.rc('font', size=20)\n",
    "plt.rc('lines', linewidth=3)\n",
    "\n",
    "petab.visualize.plot_problem(\n",
    "    petab_problem=petab_problem,\n",
    "    simulations_df=simulation_df,\n",
    ");"
   ]
  },
  {
   "cell_type": "markdown",
   "metadata": {},
   "source": [
    "The generated figure suggests that model simulations are qualitatively similar to training data, but there are still large quantitative differences. This suggests that the pre-calibrated parameter values are an adequate first guess, but require further refinement.\n",
    "\n",
    "Before we proceed with the second calibration round, we can check the accuracy of the objective function gradient at the pre-calibrated parameter values. For this purpose, we use the [`check_grad_multi_eps`](https://pypesto.readthedocs.io/en/latest/api_objective.html#pypesto.objective.ObjectiveBase.check_grad_multi_eps) method, which approximates the objective function gradient using finite differences with different step sizes."
   ]
  },
  {
   "cell_type": "code",
   "execution_count": 32,
   "metadata": {
    "scrolled": false
   },
   "outputs": [
    {
     "data": {
      "text/html": [
       "<div>\n",
       "<style scoped>\n",
       "    .dataframe tbody tr th:only-of-type {\n",
       "        vertical-align: middle;\n",
       "    }\n",
       "\n",
       "    .dataframe tbody tr th {\n",
       "        vertical-align: top;\n",
       "    }\n",
       "\n",
       "    .dataframe thead th {\n",
       "        text-align: right;\n",
       "    }\n",
       "</style>\n",
       "<table border=\"1\" class=\"dataframe\">\n",
       "  <thead>\n",
       "    <tr style=\"text-align: right;\">\n",
       "      <th></th>\n",
       "      <th>grad</th>\n",
       "      <th>fd_f</th>\n",
       "      <th>fd_b</th>\n",
       "      <th>fd_c</th>\n",
       "      <th>fd_err</th>\n",
       "      <th>abs_err</th>\n",
       "      <th>rel_err</th>\n",
       "      <th>eps</th>\n",
       "    </tr>\n",
       "  </thead>\n",
       "  <tbody>\n",
       "    <tr>\n",
       "      <th>bind_RAF_RAF_Ea</th>\n",
       "      <td>-0.000676</td>\n",
       "      <td>0.066034</td>\n",
       "      <td>-0.082687</td>\n",
       "      <td>-0.008326</td>\n",
       "      <td>0.148720</td>\n",
       "      <td>0.007650</td>\n",
       "      <td>0.083453</td>\n",
       "      <td>0.100</td>\n",
       "    </tr>\n",
       "    <tr>\n",
       "      <th>bind_RAF_RAF_dG</th>\n",
       "      <td>151.299971</td>\n",
       "      <td>161.357110</td>\n",
       "      <td>141.392663</td>\n",
       "      <td>151.374887</td>\n",
       "      <td>19.964446</td>\n",
       "      <td>0.074916</td>\n",
       "      <td>0.000495</td>\n",
       "      <td>0.100</td>\n",
       "    </tr>\n",
       "    <tr>\n",
       "      <th>...</th>\n",
       "      <td>...</td>\n",
       "      <td>...</td>\n",
       "      <td>...</td>\n",
       "      <td>...</td>\n",
       "      <td>...</td>\n",
       "      <td>...</td>\n",
       "      <td>...</td>\n",
       "      <td>...</td>\n",
       "    </tr>\n",
       "    <tr>\n",
       "      <th>pERK_offset</th>\n",
       "      <td>-14.721473</td>\n",
       "      <td>-7.347211</td>\n",
       "      <td>-22.133442</td>\n",
       "      <td>-14.740327</td>\n",
       "      <td>14.786231</td>\n",
       "      <td>0.018853</td>\n",
       "      <td>0.001279</td>\n",
       "      <td>0.001</td>\n",
       "    </tr>\n",
       "    <tr>\n",
       "      <th>pERK_scale</th>\n",
       "      <td>-1593.045905</td>\n",
       "      <td>-1569.867010</td>\n",
       "      <td>-1616.507993</td>\n",
       "      <td>-1593.187501</td>\n",
       "      <td>46.640983</td>\n",
       "      <td>0.141596</td>\n",
       "      <td>0.000089</td>\n",
       "      <td>0.001</td>\n",
       "    </tr>\n",
       "  </tbody>\n",
       "</table>\n",
       "<p>28 rows × 8 columns</p>\n",
       "</div>"
      ],
      "text/plain": [
       "                        grad         fd_f         fd_b         fd_c  \\\n",
       "bind_RAF_RAF_Ea    -0.000676     0.066034    -0.082687    -0.008326   \n",
       "bind_RAF_RAF_dG   151.299971   161.357110   141.392663   151.374887   \n",
       "...                      ...          ...          ...          ...   \n",
       "pERK_offset       -14.721473    -7.347211   -22.133442   -14.740327   \n",
       "pERK_scale      -1593.045905 -1569.867010 -1616.507993 -1593.187501   \n",
       "\n",
       "                    fd_err   abs_err   rel_err    eps  \n",
       "bind_RAF_RAF_Ea   0.148720  0.007650  0.083453  0.100  \n",
       "bind_RAF_RAF_dG  19.964446  0.074916  0.000495  0.100  \n",
       "...                    ...       ...       ...    ...  \n",
       "pERK_offset      14.786231  0.018853  0.001279  0.001  \n",
       "pERK_scale       46.640983  0.141596  0.000089  0.001  \n",
       "\n",
       "[28 rows x 8 columns]"
      ]
     },
     "execution_count": 32,
     "metadata": {},
     "output_type": "execute_result"
    }
   ],
   "source": [
    "pd.set_option('display.max_rows', 5)\n",
    "pd.set_option('display.max_columns', 8)\n",
    "pypesto_problem.objective.check_grad_multi_eps(x, multi_eps=[1e-1, 1e-3, 1e-5], verbosity=0)"
   ]
  },
  {
   "cell_type": "markdown",
   "metadata": {},
   "source": [
    "The method computes forward (`fd_c`), backward (`fd_b`) and central (`fd_c`) finite differences and compares them to the sensitivity based gradient (`grad`), using the step size `eps` that yields the lowest finite difference approximation error among the provided step sizes. The results show a low error in the finite difference approximation (`fd_err`), indicating accurate evaluation of the objective function. Moreover, the small absolute (`abs_err`) and relative difference (`rel_err`) between sensitivity based gradient and finite difference approximation indicates accurate evaluation of the gradient. The large magnitude of the gradient suggest that we did not yet reach a local optimum and that further optimization will likely improve agreement between data and simulation.  In cases where either `fd_err`, `abs_err` or `rel_err` take large values, it is recommended to decrease integration tolerances until adequate numbers are achieved, where entries in `grad` can serve as reference. \n",
    "\n",
    "\n",
    "We will now perform this refinement by instantiating a new optimizer with a larger computational budget of two hours."
   ]
  },
  {
   "cell_type": "code",
   "execution_count": 33,
   "metadata": {},
   "outputs": [],
   "source": [
    "optimizer_fine = FidesOptimizer(options={fides.Options.MAXTIME: 7200},\n",
    "                                verbose=logging.ERROR)"
   ]
  },
  {
   "cell_type": "markdown",
   "metadata": {},
   "source": [
    "To initialize the second calibration round at the pre-calibrated parameter values, we extract the respective values from the results object and set them as guesses in the pyPESTO problem."
   ]
  },
  {
   "cell_type": "code",
   "execution_count": 34,
   "metadata": {},
   "outputs": [],
   "source": [
    "n_refine = 10\n",
    "pypesto_problem.x_guesses_full = np.vstack(result.optimize_result.x[:n_refine])"
   ]
  },
  {
   "cell_type": "markdown",
   "metadata": {},
   "source": [
    "For startpoint generation, pyPESTO will first start optimization runs at the provided parameter guesses and only sample new startpoint if more optimization runs than guesses are requested. As for the first calibration run, we run the calibration, using the pyPESTO [`minimize`](https://pypesto.readthedocs.io/en/latest/api_optimize.html#pypesto.optimize.minimize) function."
   ]
  },
  {
   "cell_type": "code",
   "execution_count": 35,
   "metadata": {
    "scrolled": true
   },
   "outputs": [
    {
     "name": "stderr",
     "output_type": "stream",
     "text": [
      "Performing parallel task execution on 4 threads.\n",
      "[WARNING] /Users/ffroehlich/Documents/HMS/energy_modeling_chapter/venv/lib/python3.9/site-packages/amici/parameter_mapping.py:193: RuntimeWarning: The following problem parameters were not used: {'MEK_0', 'RAS_0', 'bind_RASstategtp_RAF_phi', 'ERK_0', 'bind_RAFi_RAF_phi', 'bind_RAF_RAF_phi', 'CRAF_0', 'BRAF_0'}\n",
      "  warnings.warn(\"The following problem parameters were not used: \"\n",
      "\n"
     ]
    }
   ],
   "source": [
    "result_refined = minimize(\n",
    "    pypesto_problem, optimizer_fine, n_starts=n_refine,\n",
    "    engine=pypesto.engine.MultiThreadEngine(4),\n",
    "    progress_bar=False,\n",
    ")"
   ]
  },
  {
   "cell_type": "markdown",
   "metadata": {},
   "source": [
    "As for the pre-calibration, we now visualize the results using PEtab and the previously constructed visualization table."
   ]
  },
  {
   "cell_type": "code",
   "execution_count": 36,
   "metadata": {
    "caption": "Calibrated model simulations and experimental data for EGF stimulated (EGF) and unstimulated conditions (ctrl) for pMEK and pERK observables (columns) and vemurafenib and dabrafenib (rows). All concentrations are in uM, observations in [a.u.].",
    "label": "fig:calibfit",
    "widefigure": "true"
   },
   "outputs": [
    {
     "name": "stderr",
     "output_type": "stream",
     "text": [
      "Using existing amici model in folder /Users/ffroehlich/Documents/HMS/energy_modeling_chapter/amici_models/thermo_raf.\n",
      "[WARNING] /Users/ffroehlich/Documents/HMS/energy_modeling_chapter/venv/lib/python3.9/site-packages/pandas/core/series.py:3424: SettingWithCopyWarning: \n",
      "A value is trying to be set on a copy of a slice from a DataFrame\n",
      "\n",
      "See the caveats in the documentation: https://pandas.pydata.org/pandas-docs/stable/user_guide/indexing.html#returning-a-view-versus-a-copy\n",
      "  return super().sort_index(\n",
      "\n"
     ]
    },
    {
     "data": {
      "image/png": "[encoded data removed]",
      "text/plain": [
       "<Figure size 1440x1080 with 4 Axes>"
      ]
     },
     "metadata": {
      "needs_background": "light"
     },
     "output_type": "display_data"
    }
   ],
   "source": [
    "x = pypesto_problem.get_reduced_vector(\n",
    "    result_refined.optimize_result.list[0]['x'],\n",
    "    pypesto_problem.x_free_indices\n",
    ")\n",
    "simulation = pypesto_problem.objective(x, return_dict=True)\n",
    "simulation_df = amici.petab_objective.rdatas_to_simulation_df(\n",
    "    simulation['rdatas'],\n",
    "    model=importer.create_model(),\n",
    "    measurement_df=measurement_table,\n",
    ")\n",
    "\n",
    "plt.rc('font', size=20)\n",
    "plt.rc('lines', linewidth=3)\n",
    "\n",
    "petab.visualize.plot_problem(\n",
    "    petab_problem=petab_problem,\n",
    "    simulations_df=simulation_df,\n",
    ");"
   ]
  },
  {
   "cell_type": "markdown",
   "metadata": {},
   "source": [
    "These generated figure now indicate adequate agreement between experimental data and model simulations. As a last step of the analysis, we now compare the objective function values across both calibration rounds using a waterfall plot."
   ]
  },
  {
   "cell_type": "code",
   "execution_count": 37,
   "metadata": {},
   "outputs": [
    {
     "name": "stderr",
     "output_type": "stream",
     "text": [
      "[WARNING] /Users/ffroehlich/Documents/HMS/energy_modeling_chapter/venv/lib/python3.9/site-packages/numpy/core/fromnumeric.py:86: VisibleDeprecationWarning: Creating an ndarray from ragged nested sequences (which is a list-or-tuple of lists-or-tuples-or ndarrays with different lengths or shapes) is deprecated. If you meant to do this, you must specify 'dtype=object' when creating the ndarray.\n",
      "  return ufunc.reduce(obj, axis, dtype, out, **passkwargs)\n",
      "\n"
     ]
    },
    {
     "data": {
      "image/png": "[encoded data removed]",
      "text/plain": [
       "<Figure size 1332x756 with 1 Axes>"
      ]
     },
     "metadata": {
      "needs_background": "light"
     },
     "output_type": "display_data"
    }
   ],
   "source": [
    "from pypesto.visualize import waterfall\n",
    "waterfall(results=[result,result_refined],\n",
    "          legends=['pre-calibration', 'calibration']);"
   ]
  },
  {
   "cell_type": "markdown",
   "metadata": {},
   "source": [
    "The generated waterfall plot shows sorted objective function values of different optimizer runs for pre-calibration (blue) and calibration (yellow). The objective function values are normalized to the best objective function value achieved across both runs. We observe that for the majority of fully calibrated runs, we achieve much lower objective function values compared to the pre-calibrated runs, indicating that the higher computational budget facilitated better fits. For a small subset of starts, we observe repeated convergence to similar objective function values that form a plateau in the waterfall plot, suggesting that the respective runs may have converged to the same local minimum. Ideally, the majority of objective function values would lie in a plateau, but this would likely require many more optimizer runs with larger computational budgets and would thus have to be performed on a computer cluster."
   ]
  },
  {
   "cell_type": "markdown",
   "metadata": {},
   "source": [
    "# Discussion\n",
    "\n",
    "Even with state-of-the-art methods the process of model formulation, problem specification and calibration we described in this protocol remains a labour intensive process, where good understanding of the underlying mathematical concepts is necessary to achieve optimal, or even adequate performance for large kinetic models. We anticipate that the extensive description and code we provide in this protocol will serve as an introduction to model calibration and may be used as template for future research projects. \n",
    "\n",
    "In terms of future developments, more automation in terms of tolerance selection, sensitivity methods and computational budget allocation will be necessary to improve accessibility of methods and reduce the amount of required user interaction. Some frameworks such as data2dynamics <cite data-cite=\"2754712/RYRYBYZA\"></cite> already provide adaptive tolerance updating schemes in cases of numerical integration failure. This could still be complemented by adaptive updating of tolerances based on objective function evaluation accuracy, but underlying mathematical theory and good benchmark problems are missing. We are convinced that the introduction of large benchmarks in <cite data-cite=\"2754712/FMD3RVCR\"></cite> <cite data-cite=\"2754712/INKV577L\"></cite>, guidelines for their evaluation <cite data-cite=\"2754712/NYMSV8TA\"></cite> as well as the standardization of their formulation <cite data-cite=\"2754712/86CV69R2\"></cite> will prove to be crucial to improve automation of model calibration in the future."
   ]
  },
  {
   "cell_type": "markdown",
   "metadata": {},
   "source": [
    "## References\n",
    "<div class=\"cite2c-biblio\"></div>"
   ]
  }
 ],
 "metadata": {
  "cite2c": {
   "citations": {
    "2754712/3DK88XY2": {
     "DOI": "10.1093/bib/bbab387",
     "URL": "https://academic.oup.com/bib/article/23/1/bbab387/6383562",
     "abstract": "Ordinary differential equation models are nowadays widely used for the mechanistic description of biological processes and their temporal evolution. These models typically have many unknown and non-measurable parameters, which have to be determined by fitting the model to experimental data. In order to perform this task, known as parameter estimation or model calibration, the modeller faces challenges such as poor parameter identifiability, lack of sufficiently informative experimental data, and the existence of local minima in the objective function landscape. These issues tend to worsen with larger model sizes, increasing the computational complexity and the number of unknown parameters. An incorrectly calibrated model is problematic because it may result in inaccurate predictions and misleading conclusions. For non-expert users, there are a large number of potential pitfalls. Here, we provide a protocol that guides the user through all the steps involved in the calibration of dynamic models. We illustrate the methodology with two models, and provide all the code required to reproduce the results and perform the same analysis on new models. Our protocol provides practitioners and researchers in biological modelling with a one-stop guide that is at the same time compact and sufficiently comprehensive to cover all aspects of the problem.",
     "accessed": {
      "day": 24,
      "month": 8,
      "year": 2021
     },
     "author": [
      {
       "family": "Villaverde",
       "given": "Alejandro F."
      },
      {
       "family": "Pathirana",
       "given": "Dilan"
      },
      {
       "family": "Fröhlich",
       "given": "Fabian"
      },
      {
       "family": "Hasenauer",
       "given": "Jan"
      },
      {
       "family": "Banga",
       "given": "Julio R."
      }
     ],
     "container-title": "Briefings in Bioinformatics",
     "id": "2754712/3DK88XY2",
     "issue": "1",
     "issued": {
      "year": 2022
     },
     "page": "bbab387",
     "page-first": "bbab387",
     "title": "A protocol for dynamic model calibration",
     "type": "article-journal",
     "volume": "23"
    },
    "2754712/46UNKAAD": {
     "DOI": "10.1016/j.cell.2009.12.040",
     "URL": "https://www.cell.com/cell/abstract/S0092-8674(09)01626-2",
     "abstract": "<h2>Summary</h2><p>We describe a mechanism of tumorigenesis mediated by kinase-dead BRAF in the presence of oncogenic RAS. We show that drugs that selectively inhibit BRAF drive RAS-dependent BRAF binding to CRAF, CRAF activation, and MEK–ERK signaling. This does not occur when oncogenic BRAF is inhibited, demonstrating that BRAF inhibition per se does not drive pathway activation; it only occurs when BRAF is inhibited in the presence of oncogenic RAS. Kinase-dead BRAF mimics the effects of the BRAF-selective drugs and kinase-dead Braf and oncogenic Ras cooperate to induce melanoma in mice. Our data reveal another paradigm of BRAF-mediated signaling that promotes tumor progression. They highlight the importance of understanding pathway signaling in clinical practice and of genotyping tumors prior to administering BRAF-selective drugs, to identify patients who are likely to respond and also to identify patients who may experience adverse effects.</p><h3>PaperClip</h3>",
     "accessed": {
      "day": 24,
      "month": 8,
      "year": 2021
     },
     "author": [
      {
       "family": "Heidorn",
       "given": "Sonja J."
      },
      {
       "family": "Milagre",
       "given": "Carla"
      },
      {
       "family": "Whittaker",
       "given": "Steven"
      },
      {
       "family": "Nourry",
       "given": "Arnaud"
      },
      {
       "family": "Niculescu-Duvas",
       "given": "Ion"
      },
      {
       "family": "Dhomen",
       "given": "Nathalie"
      },
      {
       "family": "Hussain",
       "given": "Jahan"
      },
      {
       "family": "Reis-Filho",
       "given": "Jorge S."
      },
      {
       "family": "Springer",
       "given": "Caroline J."
      },
      {
       "family": "Pritchard",
       "given": "Catrin"
      },
      {
       "family": "Marais",
       "given": "Richard"
      }
     ],
     "container-title": "Cell",
     "container-title-short": "Cell",
     "id": "2754712/46UNKAAD",
     "issue": "2",
     "issued": {
      "day": 22,
      "month": 1,
      "year": 2010
     },
     "journalAbbreviation": "Cell",
     "language": "English",
     "note": "Publisher: Elsevier\nPMID: 20141835",
     "page": "209-221",
     "page-first": "209",
     "title": "Kinase-Dead BRAF and Oncogenic RAS Cooperate to Drive Tumor Progression through CRAF",
     "type": "article-journal",
     "volume": "140"
    },
    "2754712/5SLVJFMG": {
     "DOI": "10.1038/srep08493",
     "URL": "https://www.ncbi.nlm.nih.gov/pmc/articles/PMC4329560/",
     "abstract": "Activated sludge models (ASMs) have been widely used for process design, operation and optimization in wastewater treatment plants. However, it is still a challenge to achieve an efficient calibration for reliable application by using the conventional approaches. Hereby, we propose a novel calibration protocol, i.e. Numerical Optimal Approaching Procedure (NOAP), for the systematic calibration of ASMs. The NOAP consists of three key steps in an iterative scheme flow: i) global factors sensitivity analysis for factors fixing; ii) pseudo-global parameter correlation analysis for non-identifiable factors detection; and iii) formation of a parameter subset through an estimation by using genetic algorithm. The validity and applicability are confirmed using experimental data obtained from two independent wastewater treatment systems, including a sequencing batch reactor and a continuous stirred-tank reactor. The results indicate that the NOAP can effectively determine the optimal parameter subset and successfully perform model calibration and validation for these two different systems. The proposed NOAP is expected to use for automatic calibration of ASMs and be applied potentially to other ordinary differential equations models.",
     "accessed": {
      "day": 5,
      "month": 9,
      "year": 2021
     },
     "author": [
      {
       "family": "Zhu",
       "given": "Ao"
      },
      {
       "family": "Guo",
       "given": "Jianhua"
      },
      {
       "family": "Ni",
       "given": "Bing-Jie"
      },
      {
       "family": "Wang",
       "given": "Shuying"
      },
      {
       "family": "Yang",
       "given": "Qing"
      },
      {
       "family": "Peng",
       "given": "Yongzhen"
      }
     ],
     "container-title": "Scientific Reports",
     "container-title-short": "Sci Rep",
     "id": "2754712/5SLVJFMG",
     "issued": {
      "day": 16,
      "month": 2,
      "year": 2015
     },
     "journalAbbreviation": "Sci Rep",
     "note": "PMID: 25682959\nPMCID: PMC4329560",
     "page": "8493",
     "page-first": "8493",
     "title": "A Novel Protocol for Model Calibration in Biological Wastewater Treatment",
     "type": "article-journal",
     "volume": "5"
    },
    "2754712/5ZMDTVIQ": {
     "DOI": "10.1080/10408398.2016.1186591",
     "abstract": "Mathematical models, in particular, physics-based models, are essential tools to food product and process design, optimization and control. The success of mathematical models relies on their predictive capabilities. However, describing physical, chemical and biological changes in food processing requires the values of some, typically unknown, parameters. Therefore, parameter estimation from experimental data is critical to achieving desired model predictive properties. This work takes a new look into the parameter estimation (or identification) problem in food process modeling. First, we examine common pitfalls such as lack of identifiability and multimodality. Second, we present the theoretical background of a parameter identification protocol intended to deal with those challenges. And, to finish, we illustrate the performance of the proposed protocol with an example related to the thermal processing of packaged foods.",
     "author": [
      {
       "family": "Vilas",
       "given": "Carlos"
      },
      {
       "family": "Arias-Méndez",
       "given": "Ana"
      },
      {
       "family": "García",
       "given": "Míriam R."
      },
      {
       "family": "Alonso",
       "given": "Antonio A."
      },
      {
       "family": "Balsa-Canto",
       "given": "E."
      }
     ],
     "container-title": "Critical Reviews in Food Science and Nutrition",
     "container-title-short": "Crit Rev Food Sci Nutr",
     "id": "2754712/5ZMDTVIQ",
     "issue": "3",
     "issued": {
      "day": 11,
      "month": 2,
      "year": 2018
     },
     "journalAbbreviation": "Crit Rev Food Sci Nutr",
     "language": "eng",
     "note": "PMID: 27246577",
     "page": "436-449",
     "page-first": "436",
     "shortTitle": "Toward predictive food process models",
     "title": "Toward predictive food process models: A protocol for parameter estimation",
     "title-short": "Toward predictive food process models",
     "type": "article-journal",
     "volume": "58"
    },
    "2754712/68C3KR4X": {
     "DOI": "10.1038/nature08902",
     "abstract": "Tumours with mutant BRAF are dependent on the RAF-MEK-ERK signalling pathway for their growth. We found that ATP-competitive RAF inhibitors inhibit ERK signalling in cells with mutant BRAF, but unexpectedly enhance signalling in cells with wild-type BRAF. Here we demonstrate the mechanistic basis for these findings. We used chemical genetic methods to show that drug-mediated transactivation of RAF dimers is responsible for paradoxical activation of the enzyme by inhibitors. Induction of ERK signalling requires direct binding of the drug to the ATP-binding site of one kinase of the dimer and is dependent on RAS activity. Drug binding to one member of RAF homodimers (CRAF-CRAF) or heterodimers (CRAF-BRAF) inhibits one protomer, but results in transactivation of the drug-free protomer. In BRAF(V600E) tumours, RAS is not activated, thus transactivation is minimal and ERK signalling is inhibited in cells exposed to RAF inhibitors. These results indicate that RAF inhibitors will be effective in tumours in which BRAF is mutated. Furthermore, because RAF inhibitors do not inhibit ERK signalling in other cells, the model predicts that they would have a higher therapeutic index and greater antitumour activity than mitogen-activated protein kinase (MEK) inhibitors, but could also cause toxicity due to MEK/ERK activation. These predictions have been borne out in a recent clinical trial of the RAF inhibitor PLX4032 (refs 4, 5). The model indicates that promotion of RAF dimerization by elevation of wild-type RAF expression or RAS activity could lead to drug resistance in mutant BRAF tumours. In agreement with this prediction, RAF inhibitors do not inhibit ERK signalling in cells that coexpress BRAF(V600E) and mutant RAS.",
     "author": [
      {
       "family": "Poulikakos",
       "given": "Poulikos I."
      },
      {
       "family": "Zhang",
       "given": "Chao"
      },
      {
       "family": "Bollag",
       "given": "Gideon"
      },
      {
       "family": "Shokat",
       "given": "Kevan M."
      },
      {
       "family": "Rosen",
       "given": "Neal"
      }
     ],
     "container-title": "Nature",
     "container-title-short": "Nature",
     "id": "2754712/68C3KR4X",
     "issue": "7287",
     "issued": {
      "day": 18,
      "month": 3,
      "year": 2010
     },
     "journalAbbreviation": "Nature",
     "language": "eng",
     "note": "PMID: 20179705\nPMCID: PMC3178447",
     "page": "427-430",
     "page-first": "427",
     "title": "RAF inhibitors transactivate RAF dimers and ERK signalling in cells with wild-type BRAF",
     "type": "article-journal",
     "volume": "464"
    },
    "2754712/6AWGLSM9": {
     "author": [
      {
       "family": "Fiedler",
       "given": "A."
      },
      {
       "family": "Raeth",
       "given": "S."
      },
      {
       "family": "Theis",
       "given": "F. J."
      },
      {
       "family": "Hausser",
       "given": "A."
      },
      {
       "family": "Hasenauer",
       "given": "J."
      }
     ],
     "container-title": "BMC Syst. Biol.",
     "id": "2754712/6AWGLSM9",
     "issue": "80",
     "issued": {
      "month": 8,
      "year": 2016
     },
     "note": "bibtex: FiedlerRae2016",
     "title": "Tailored parameter optimization methods for ordinary differential equation models with steady-state constraints",
     "type": "article-journal",
     "volume": "10"
    },
    "2754712/6CAKFQQP": {
     "DOI": "10.1371/journal.pcbi.1000975",
     "URL": "https://journals.plos.org/ploscompbiol/article?id=10.1371/journal.pcbi.1000975",
     "abstract": "Much of the complexity of biochemical networks comes from the information-processing abilities of allosteric proteins, be they receptors, ion-channels, signalling molecules or transcription factors. An allosteric protein can be uniquely regulated by each combination of input molecules that it binds. This “regulatory complexity” causes a combinatorial increase in the number of parameters required to fit experimental data as the number of protein interactions increases. It therefore challenges the creation, updating, and re-use of biochemical models. Here, we propose a rule-based modelling framework that exploits the intrinsic modularity of protein structure to address regulatory complexity. Rather than treating proteins as “black boxes”, we model their hierarchical structure and, as conformational changes, internal dynamics. By modelling the regulation of allosteric proteins through these conformational changes, we often decrease the number of parameters required to fit data, and so reduce over-fitting and improve the predictive power of a model. Our method is thermodynamically grounded, imposes detailed balance, and also includes molecular cross-talk and the background activity of enzymes. We use our Allosteric Network Compiler to examine how allostery can facilitate macromolecular assembly and how competitive ligands can change the observed cooperativity of an allosteric protein. We also develop a parsimonious model of G protein-coupled receptors that explains functional selectivity and can predict the rank order of potency of agonists acting through a receptor. Our methodology should provide a basis for scalable, modular and executable modelling of biochemical networks in systems and synthetic biology.",
     "accessed": {
      "day": 23,
      "month": 8,
      "year": 2019
     },
     "author": [
      {
       "family": "Ollivier",
       "given": "Julien F."
      },
      {
       "family": "Shahrezaei",
       "given": "Vahid"
      },
      {
       "family": "Swain",
       "given": "Peter S."
      }
     ],
     "container-title": "PLOS Computational Biology",
     "container-title-short": "PLOS Computational Biology",
     "id": "2754712/6CAKFQQP",
     "issue": "11",
     "issued": {
      "day": 4,
      "month": 11,
      "year": 2010
     },
     "journalAbbreviation": "PLOS Computational Biology",
     "language": "en",
     "page": "e1000975",
     "page-first": "e1000975",
     "title": "Scalable Rule-Based Modelling of Allosteric Proteins and Biochemical Networks",
     "type": "article-journal",
     "volume": "6"
    },
    "2754712/6JVZVNVK": {
     "DOI": "10.15252/msb.20177651",
     "URL": "http://msb.embopress.org/content/13/11/954.abstract",
     "abstract": "Word models (natural language descriptions of molecular mechanisms) are a common currency in spoken and written communication in biomedicine but are of limited use in predicting the behavior of complex biological networks. We present an approach to building computational models directly from natural language using automated assembly. Molecular mechanisms described in simple English are read by natural language processing algorithms, converted into an intermediate representation, and assembled into executable or network models. We have implemented this approach in the Integrated Network and Dynamical Reasoning Assembler (INDRA), which draws on existing natural language processing systems as well as pathway information in Pathway Commons and other online resources. We demonstrate the use of INDRA and natural language to model three biological processes of increasing scope: (i) p53 dynamics in response to DNA damage, (ii) adaptive drug resistance in BRAF‐V600E‐mutant melanomas, and (iii) the RAS signaling pathway. The use of natural language makes the task of developing a model more efficient and it increases model transparency, thereby promoting collaboration with the broader biology community.Mol Syst Biol. (2017) 13: 954",
     "author": [
      {
       "family": "Gyori",
       "given": "Benjamin M"
      },
      {
       "family": "Bachman",
       "given": "John A"
      },
      {
       "family": "Subramanian",
       "given": "Kartik"
      },
      {
       "family": "Muhlich",
       "given": "Jeremy L"
      },
      {
       "family": "Galescu",
       "given": "Lucian"
      },
      {
       "family": "Sorger",
       "given": "Peter K"
      }
     ],
     "container-title": "Molecular Systems Biology",
     "container-title-short": "Mol Syst Biol",
     "id": "2754712/6JVZVNVK",
     "issue": "11",
     "issued": {
      "day": 1,
      "month": 11,
      "year": 2017
     },
     "journalAbbreviation": "Mol Syst Biol",
     "title": "From word models to executable models of signaling networks using automated assembly",
     "type": "article-journal",
     "volume": "13"
    },
    "2754712/7D6BBY4A": {
     "DOI": "10.1038/msb.2013.1",
     "URL": "http://msb.embopress.org/content/9/1/646",
     "abstract": "Mathematical equations are fundamental to modeling biological networks, but as networks get large and revisions frequent, it becomes difficult to manage equations directly or to combine previously developed models. Multiple simultaneous efforts to create graphical standards, rule‐based languages, and integrated software workbenches aim to simplify biological modeling but none fully meets the need for transparent, extensible, and reusable models. In this paper we describe PySB, an approach in which models are not only created using programs, they are programs. PySB draws on programmatic modeling concepts from little b and ProMot, the rule‐based languages BioNetGen and Kappa and the growing library of Python numerical tools. Central to PySB is a library of macros encoding familiar biochemical actions such as binding, catalysis, and polymerization, making it possible to use a high‐level, action‐oriented vocabulary to construct detailed models. As Python programs, PySB models leverage tools and practices from the open‐source software community, substantially advancing our ability to distribute and manage the work of testing biochemical hypotheses. We illustrate these ideas using new and previously published models of apoptosis.\nSynopsis\nPySB is a framework for creating biological models as Python programs using a high‐level, action‐oriented vocabulary that promotes transparency, extensibility and reusability. PySB interoperates with many existing modeling tools and supports distributed model development.\n\n<img class=\"highwire-embed\" alt=\"Embedded Image\" src=\"http://msb.embopress.org/sites/default/files/highwire/msb/9/1/646/embed/graphic-1.gif\"/>\n\n\nPySB models are programs and leverage existing programming tools for documentation, testing, and collaborative development.Reusable functions can encode common low‐level biochemical processes as well as high‐level modules, making models transparent and concise.Modeling workflow is accelerated through close integration with Python numerical tools and interoperability with existing modeling software.We demonstrate the use of PySB to encode 15 alternative hypotheses for the mitochondrial regulation of apoptosis, including a new ‘Embedded Together’ model based on recent biochemical findings.",
     "accessed": {
      "day": 11,
      "month": 6,
      "year": 2019
     },
     "author": [
      {
       "family": "Lopez",
       "given": "Carlos F."
      },
      {
       "family": "Muhlich",
       "given": "Jeremy L."
      },
      {
       "family": "Bachman",
       "given": "John A."
      },
      {
       "family": "Sorger",
       "given": "Peter K."
      }
     ],
     "container-title": "Molecular Systems Biology",
     "id": "2754712/7D6BBY4A",
     "issue": "1",
     "issued": {
      "day": 1,
      "month": 1,
      "year": 2013
     },
     "language": "en",
     "note": "PMID: 23423320",
     "page": "646",
     "page-first": "646",
     "title": "Programming biological models in Python using PySB",
     "type": "article-journal",
     "volume": "9"
    },
    "2754712/7TJH2IAK": {
     "DOI": "10.1016/j.celrep.2015.08.014",
     "URL": "http://www.sciencedirect.com/science/article/pii/S2211124715008852",
     "abstract": "Summary\nTreatment of cancer patients with ATP-competitive inhibitors of BRAF/CRAF kinases surprisingly increases total kinase activity, especially in wild-type BRAF cells, subverting the desired clinical outcome. Similar inhibition resistance is observed for numerous kinases involving homo/heterodimerization in their activation cycles. Here, I demonstrate that drug resistance resulting from kinase dimerization can be explained using thermodynamic principles. I show that allosteric regulation by inhibitors is described by thermodynamic factors that quantify inhibitor-induced changes in kinase dimerization and the difference in the drug affinity for a free monomer versus a dimer harboring one drug molecule. The analysis extends to kinase homo- and heterodimers, allows for their symmetric and asymmetric conformations, and predicts how thermodynamic factors influence dose-response dependencies. I show how two inhibitors, ineffective on their own, when combined can abolish drug resistance at lower doses than either inhibitor applied alone. Thus, the mechanistic models suggest ways to overcome resistance to kinase inhibitors.",
     "accessed": {
      "day": 11,
      "month": 6,
      "year": 2019
     },
     "author": [
      {
       "family": "Kholodenko",
       "given": "Boris N."
      }
     ],
     "container-title": "Cell Reports",
     "container-title-short": "Cell Reports",
     "id": "2754712/7TJH2IAK",
     "issue": "11",
     "issued": {
      "day": 22,
      "month": 9,
      "year": 2015
     },
     "journalAbbreviation": "Cell Reports",
     "page": "1939-1949",
     "page-first": "1939",
     "title": "Drug Resistance Resulting from Kinase Dimerization Is Rationalized by Thermodynamic Factors Describing Allosteric Inhibitor Effects",
     "type": "article-journal",
     "volume": "12"
    },
    "2754712/7ZXBI6XG": {
     "DOI": "10.1038/nature03095",
     "URL": "https://www-nature-com.ezp-prod1.hul.harvard.edu/articles/nature03095",
     "abstract": "Disruption of the normal regulation of cell-cycle progression and division lies at the heart of the events leading to cancer. Complex networks of regulatory factors, the tumour microenvironment and stress signals, such as those resulting from damaged DNA, dictate whether cancer cells proliferate or die. Recent progress in understanding the molecular changes that underlie cancer development offer the prospect of specifically targeting malfunctioning molecules and pathways to achieve more effective and rational cancer therapy.",
     "accessed": {
      "day": 23,
      "month": 8,
      "year": 2019
     },
     "author": [
      {
       "family": "Sawyers",
       "given": "Charles"
      }
     ],
     "container-title": "Nature",
     "container-title-short": "Nature",
     "id": "2754712/7ZXBI6XG",
     "issue": "7015",
     "issued": {
      "month": 11,
      "year": 2004
     },
     "journalAbbreviation": "Nature",
     "language": "en",
     "page": "294-297",
     "page-first": "294",
     "title": "Targeted cancer therapy",
     "type": "article-journal",
     "volume": "432"
    },
    "2754712/86CV69R2": {
     "DOI": "10.1371/journal.pcbi.1008646",
     "URL": "https://journals.plos.org/ploscompbiol/article?id=10.1371/journal.pcbi.1008646",
     "abstract": "Reproducibility and reusability of the results of data-based modeling studies are essential. Yet, there has been—so far—no broadly supported format for the specification of parameter estimation problems in systems biology. Here, we introduce PEtab, a format which facilitates the specification of parameter estimation problems using Systems Biology Markup Language (SBML) models and a set of tab-separated value files describing the observation model and experimental data as well as parameters to be estimated. We already implemented PEtab support into eight well-established model simulation and parameter estimation toolboxes with hundreds of users in total. We provide a Python library for validation and modification of a PEtab problem and currently 20 example parameter estimation problems based on recent studies.",
     "accessed": {
      "day": 13,
      "month": 4,
      "year": 2021
     },
     "author": [
      {
       "family": "Schmiester",
       "given": "Leonard"
      },
      {
       "family": "Schälte",
       "given": "Yannik"
      },
      {
       "family": "Bergmann",
       "given": "Frank T."
      },
      {
       "family": "Camba",
       "given": "Tacio"
      },
      {
       "family": "Dudkin",
       "given": "Erika"
      },
      {
       "family": "Egert",
       "given": "Janine"
      },
      {
       "family": "Fröhlich",
       "given": "Fabian"
      },
      {
       "family": "Fuhrmann",
       "given": "Lara"
      },
      {
       "family": "Hauber",
       "given": "Adrian L."
      },
      {
       "family": "Kemmer",
       "given": "Svenja"
      },
      {
       "family": "Lakrisenko",
       "given": "Polina"
      },
      {
       "family": "Loos",
       "given": "Carolin"
      },
      {
       "family": "Merkt",
       "given": "Simon"
      },
      {
       "family": "Müller",
       "given": "Wolfgang"
      },
      {
       "family": "Pathirana",
       "given": "Dilan"
      },
      {
       "family": "Raimúndez",
       "given": "Elba"
      },
      {
       "family": "Refisch",
       "given": "Lukas"
      },
      {
       "family": "Rosenblatt",
       "given": "Marcus"
      },
      {
       "family": "Stapor",
       "given": "Paul L."
      },
      {
       "family": "Städter",
       "given": "Philipp"
      },
      {
       "family": "Wang",
       "given": "Dantong"
      },
      {
       "family": "Wieland",
       "given": "Franz-Georg"
      },
      {
       "family": "Banga",
       "given": "Julio R."
      },
      {
       "family": "Timmer",
       "given": "Jens"
      },
      {
       "family": "Villaverde",
       "given": "Alejandro F."
      },
      {
       "family": "Sahle",
       "given": "Sven"
      },
      {
       "family": "Kreutz",
       "given": "Clemens"
      },
      {
       "family": "Hasenauer",
       "given": "Jan"
      },
      {
       "family": "Weindl",
       "given": "Daniel"
      }
     ],
     "container-title": "PLOS Computational Biology",
     "container-title-short": "PLOS Computational Biology",
     "id": "2754712/86CV69R2",
     "issue": "1",
     "issued": {
      "day": 26,
      "month": 1,
      "year": 2021
     },
     "journalAbbreviation": "PLOS Computational Biology",
     "language": "en",
     "note": "Publisher: Public Library of Science",
     "page": "e1008646",
     "page-first": "e1008646",
     "title": "PEtab—Interoperable specification of parameter estimation problems in systems biology",
     "type": "article-journal",
     "volume": "17"
    },
    "2754712/9T4L23VZ": {
     "DOI": "10.3389/fphy.2019.00149",
     "URL": "https://www.frontiersin.org/articles/10.3389/fphy.2019.00149/full",
     "abstract": "Ordinary differential equation (ODE) models are frequently used to mathematically represent the dynamic behavior of cellular components, e.g.\\ for describing biochemical reaction networks. Solutions of these ODE models depend non-linearly on parameters, which can be estimated using experimental data by minimizing the discrepancy between data and the model trajectories. In realistic applications, only relative, sparse and noisy data is available which makes model fitting a challenging optimization problem. In order to take account for the non-convexity of the objective function and to reveal the existence of local optima within the parameter search space, optimization is performed with multiple initial guesses. For statistically valid conclusions it is of general interest, whether distinct optimization outcomes are correctly identified as local optima originating from the non-convexity of the objective function as typically presumed, or if they are only a result of incompletely converged optimization runs and could be merged by a connecting path to a single optimum by e.g.\\ fine-tuning of the numeric algorithms. To clarify this question in application settings, we present an approach for finding optimal paths between parameter estimates in complex objective function landscapes. By analyzing the profiles of these paths, conclusions about non-trivial connections of parameter estimates can be made and by this, it can be reliably determined if two different optimization results belong to the same or to distinct local optima. For optimal path finding, we adapt the nudged elastic band (NEB) method and apply our approach to a benchmark model with a suboptimal optimization result, which yields a preferable grouping of fits afterwards.",
     "accessed": {
      "day": 14,
      "month": 1,
      "year": 2021
     },
     "author": [
      {
       "family": "Tönsing",
       "given": "Christian"
      },
      {
       "family": "Timmer",
       "given": "Jens"
      },
      {
       "family": "Kreutz",
       "given": "Clemens"
      }
     ],
     "container-title": "Frontiers in Physics",
     "container-title-short": "Front. Phys.",
     "id": "2754712/9T4L23VZ",
     "issued": {
      "year": 2019
     },
     "journalAbbreviation": "Front. Phys.",
     "language": "English",
     "note": "Publisher: Frontiers",
     "title": "Optimal Paths Between Parameter Estimates in Non-linear ODE Systems Using the Nudged Elastic Band Method",
     "type": "article-journal",
     "volume": "7"
    },
    "2754712/B6ZP8LH6": {
     "URL": "http://dx.doi.org/10.1038/sj.onc.1210394",
     "author": [
      {
       "family": "McKay",
       "given": "M M"
      },
      {
       "family": "Morrison",
       "given": "D K"
      }
     ],
     "container-title": "Oncogene",
     "container-title-short": "Oncogene",
     "id": "2754712/B6ZP8LH6",
     "issued": {
      "day": 14,
      "month": 5,
      "year": 2007
     },
     "journalAbbreviation": "Oncogene",
     "page": "3113",
     "page-first": "3113",
     "title": "Integrating signals from RTKs to ERK/MAPK",
     "type": "article-journal",
     "volume": "26"
    },
    "2754712/C7C8DJNE": {
     "DOI": "10.1098/rsif.2017.0237",
     "URL": "https://www.ncbi.nlm.nih.gov/pmc/articles/PMC5582120/",
     "abstract": "Dynamical systems describing whole cells are on the verge of becoming a reality. But as models of reality, they are only useful if we have realistic parameters for the molecular reaction rates and cell physiological processes. There is currently no suitable framework to reliably estimate hundreds, let alone thousands, of reaction rate parameters. Here, we map out the relative weaknesses and promises of different approaches aimed at redressing this issue. While suitable procedures for estimation or inference of the whole (vast) set of parameters will, in all likelihood, remain elusive, some hope can be drawn from the fact that much of the cellular behaviour may be explained in terms of smaller sets of parameters. Identifying such parameter sets and assessing their behaviour is now becoming possible even for very large systems of equations, and we expect such methods to become central tools in the development and analysis of whole-cell models.",
     "accessed": {
      "day": 23,
      "month": 7,
      "year": 2018
     },
     "author": [
      {
       "family": "Babtie",
       "given": "Ann C."
      },
      {
       "family": "Stumpf",
       "given": "Michael P. H."
      }
     ],
     "container-title": "Journal of the Royal Society Interface",
     "container-title-short": "J R Soc Interface",
     "id": "2754712/C7C8DJNE",
     "issue": "133",
     "issued": {
      "month": 8,
      "year": 2017
     },
     "journalAbbreviation": "J R Soc Interface",
     "note": "PMID: 28768879\nPMCID: PMC5582120",
     "title": "How to deal with parameters for whole-cell modelling",
     "type": "article-journal",
     "volume": "14"
    },
    "2754712/D7NTVFNN": {
     "DOI": "10.1002/aic.16866",
     "URL": "https://aiche.onlinelibrary.wiley.com/doi/abs/10.1002/aic.16866",
     "abstract": "We present a workflow for kinetic modeling of biocatalytic reactions which combines methods from Bayesian learning and uncertainty quantification for model calibration, model selection, evaluation, and model reduction in a consistent statistical framework. Our workflow is particularly tailored to sparse data settings in which a considerable variability of the parameters remains after the models have been adapted to available data, a ubiquitous problem in many real-world applications. Our workflow is exemplified on an enzyme-catalyzed two-substrate reaction mechanism describing the symmetric carboligation of 3,5-dimethoxy-benzaldehyde to (R)-3,3′,5,5′-tetramethoxybenzoin catalyzed by benzaldehyde lyase from Pseudomonas fluorescens. Results indicate a substrate-dependent inactivation of enzyme, which is in accordance with other recent studies.",
     "accessed": {
      "day": 5,
      "month": 9,
      "year": 2021
     },
     "author": [
      {
       "family": "Eisenkolb",
       "given": "Ina"
      },
      {
       "family": "Jensch",
       "given": "Antje"
      },
      {
       "family": "Eisenkolb",
       "given": "Kerstin"
      },
      {
       "family": "Kramer",
       "given": "Andrei"
      },
      {
       "family": "Buchholz",
       "given": "Patrick C. F."
      },
      {
       "family": "Pleiss",
       "given": "Jürgen"
      },
      {
       "family": "Spiess",
       "given": "Antje"
      },
      {
       "family": "Radde",
       "given": "Nicole E."
      }
     ],
     "container-title": "AIChE Journal",
     "id": "2754712/D7NTVFNN",
     "issue": "4",
     "issued": {
      "year": 2020
     },
     "language": "en",
     "note": "_eprint: https://aiche.onlinelibrary.wiley.com/doi/pdf/10.1002/aic.16866",
     "page": "e16866",
     "page-first": "e16866",
     "shortTitle": "Modeling of biocatalytic reactions",
     "title": "Modeling of biocatalytic reactions: A workflow for model calibration, selection, and validation using Bayesian statistics",
     "title-short": "Modeling of biocatalytic reactions",
     "type": "article-journal",
     "volume": "66"
    },
    "2754712/DI7IDWLV": {
     "DOI": "10.1016/j.cels.2018.06.002",
     "URL": "http://www.sciencedirect.com/science/article/pii/S2405471218302424",
     "abstract": "Summary\nClinically used RAF inhibitors are ineffective in RAS mutant tumors because they enhance homo- and heterodimerization of RAF kinases, leading to paradoxical activation of ERK signaling. Overcoming enhanced RAF dimerization and the resulting resistance is a challenge for drug design. Combining multiple inhibitors could be more effective, but it is unclear how the best combinations can be chosen. We built a next-generation mechanistic dynamic model to analyze combinations of structurally different RAF inhibitors, which can efficiently suppress MEK/ERK signaling. This rule-based model of the RAS/ERK pathway integrates thermodynamics and kinetics of drug-protein interactions, structural elements, posttranslational modifications, and cell mutational status as model rules to predict RAF inhibitor combinations for inhibiting ERK activity in oncogenic RAS and/or BRAFV600E backgrounds. Predicted synergistic inhibition of ERK signaling was corroborated by experiments in mutant NRAS, HRAS, and BRAFV600E cells, and inhibition of oncogenic RAS signaling was associated with reduced cell proliferation and colony formation.",
     "accessed": {
      "day": 11,
      "month": 6,
      "year": 2019
     },
     "author": [
      {
       "family": "Rukhlenko",
       "given": "Oleksii S."
      },
      {
       "family": "Khorsand",
       "given": "Fahimeh"
      },
      {
       "family": "Krstic",
       "given": "Aleksandar"
      },
      {
       "family": "Rozanc",
       "given": "Jan"
      },
      {
       "family": "Alexopoulos",
       "given": "Leonidas G."
      },
      {
       "family": "Rauch",
       "given": "Nora"
      },
      {
       "family": "Erickson",
       "given": "Keesha E."
      },
      {
       "family": "Hlavacek",
       "given": "William S."
      },
      {
       "family": "Posner",
       "given": "Richard G."
      },
      {
       "family": "Gómez-Coca",
       "given": "Silvia"
      },
      {
       "family": "Rosta",
       "given": "Edina"
      },
      {
       "family": "Fitzgibbon",
       "given": "Cheree"
      },
      {
       "family": "Matallanas",
       "given": "David"
      },
      {
       "family": "Rauch",
       "given": "Jens"
      },
      {
       "family": "Kolch",
       "given": "Walter"
      },
      {
       "family": "Kholodenko",
       "given": "Boris N."
      }
     ],
     "container-title": "Cell Systems",
     "container-title-short": "Cell Systems",
     "id": "2754712/DI7IDWLV",
     "issue": "2",
     "issued": {
      "day": 22,
      "month": 8,
      "year": 2018
     },
     "journalAbbreviation": "Cell Systems",
     "page": "161-179.e14",
     "page-first": "161",
     "title": "Dissecting RAF Inhibitor Resistance by Structure-based Modeling Reveals Ways to Overcome Oncogenic RAS Signaling",
     "type": "article-journal",
     "volume": "7"
    },
    "2754712/DUK5BLQ4": {
     "DOI": "10.1038/nchembio817",
     "URL": "https://www.nature.com/articles/nchembio817",
     "abstract": "Combinatorial control of biological processes, in which redundancy and multifunctionality are the norm, fundamentally limits the therapeutic index that can be achieved by even the most potent and highly selective drugs. Thus, it will almost certainly be necessary to use new 'targeted' pharmaceuticals in combinations. Multicomponent drugs are standard in cytotoxic chemotherapy, but their development has required arduous empirical testing. However, experimentally validated numerical models should greatly aid in the formulation of new combination therapies, particularly those tailored to the needs of specific patients. This perspective focuses on opportunities and challenges inherent in the application of mathematical modeling and systems approaches to pharmacology, specifically with respect to the idea of achieving combinatorial selectivity through use of multicomponent drugs.",
     "accessed": {
      "day": 29,
      "month": 8,
      "year": 2018
     },
     "author": [
      {
       "family": "Fitzgerald",
       "given": "Jonathan B."
      },
      {
       "family": "Schoeberl",
       "given": "Birgit"
      },
      {
       "family": "Nielsen",
       "given": "Ulrik B."
      },
      {
       "family": "Sorger",
       "given": "Peter K."
      }
     ],
     "container-title": "Nature Chemical Biology",
     "id": "2754712/DUK5BLQ4",
     "issue": "9",
     "issued": {
      "month": 9,
      "year": 2006
     },
     "language": "en",
     "page": "458-466",
     "page-first": "458",
     "title": "Systems biology and combination therapy in the quest for clinical efficacy",
     "type": "article-journal",
     "volume": "2"
    },
    "2754712/FMD3RVCR": {
     "DOI": "10.1093/bioinformatics/btz020",
     "URL": "https://doi.org/10.1093/bioinformatics/btz020",
     "abstract": "Dynamic models are used in systems biology to study and understand cellular processes like gene regulation or signal transduction. Frequently, ordinary differential equation (ODE) models are used to model the time and dose dependency of the abundances of molecular compounds as well as interactions and translocations. A multitude of computational approaches, e.g. for parameter estimation or uncertainty analysis have been developed within recent years. However, many of these approaches lack proper testing in application settings because a comprehensive set of benchmark problems is yet missing.We present a collection of 20 benchmark problems in order to evaluate new and existing methodologies, where an ODE model with corresponding experimental data is referred to as problem. In addition to the equations of the dynamical system, the benchmark collection provides observation functions as well as assumptions about measurement noise distributions and parameters. The presented benchmark models comprise problems of different size, complexity and numerical demands. Important characteristics of the models and methodological requirements are summarized, estimated parameters are provided, and some example studies were performed for illustrating the capabilities of the presented benchmark collection.The models are provided in several standardized formats, including an easy-to-use human readable form and machine-readable SBML files. The data is provided as Excel sheets. All files are available at https://github.com/Benchmarking-Initiative/Benchmark-Models, including step-by-step explanations and MATLAB code to process and simulate the models.Supplementary data are available at Bioinformatics online.",
     "accessed": {
      "day": 14,
      "month": 1,
      "year": 2021
     },
     "author": [
      {
       "family": "Hass",
       "given": "Helge"
      },
      {
       "family": "Loos",
       "given": "Carolin"
      },
      {
       "family": "Raimúndez-Álvarez",
       "given": "Elba"
      },
      {
       "family": "Timmer",
       "given": "Jens"
      },
      {
       "family": "Hasenauer",
       "given": "Jan"
      },
      {
       "family": "Kreutz",
       "given": "Clemens"
      }
     ],
     "container-title": "Bioinformatics",
     "container-title-short": "Bioinformatics",
     "id": "2754712/FMD3RVCR",
     "issue": "17",
     "issued": {
      "day": 1,
      "month": 9,
      "year": 2019
     },
     "journalAbbreviation": "Bioinformatics",
     "page": "3073-3082",
     "page-first": "3073",
     "title": "Benchmark problems for dynamic modeling of intracellular processes",
     "type": "article-journal",
     "volume": "35"
    },
    "2754712/GPZDY42G": {
     "DOI": "10.1038/nature08833",
     "URL": "https://www.nature.com/articles/nature08833",
     "abstract": "The RAS–RAF signalling pathway is an attractive target for drug development in oncology, and several RAF inhibitors are being tested in clinical trials. Here and in an accompanying paper, RAF inhibitors are shown to have opposing roles, functioning as either inhibitors or activators of RAF depending on the cellular context and mutational status of RAF. The mechanistic basis for these opposing roles is dissected. The results have implications for the clinical use of these inhibitors and for the design of kinase inhibitors.",
     "accessed": {
      "day": 15,
      "month": 6,
      "year": 2020
     },
     "author": [
      {
       "family": "Hatzivassiliou",
       "given": "Georgia"
      },
      {
       "family": "Song",
       "given": "Kyung"
      },
      {
       "family": "Yen",
       "given": "Ivana"
      },
      {
       "family": "Brandhuber",
       "given": "Barbara J."
      },
      {
       "family": "Anderson",
       "given": "Daniel J."
      },
      {
       "family": "Alvarado",
       "given": "Ryan"
      },
      {
       "family": "Ludlam",
       "given": "Mary J. C."
      },
      {
       "family": "Stokoe",
       "given": "David"
      },
      {
       "family": "Gloor",
       "given": "Susan L."
      },
      {
       "family": "Vigers",
       "given": "Guy"
      },
      {
       "family": "Morales",
       "given": "Tony"
      },
      {
       "family": "Aliagas",
       "given": "Ignacio"
      },
      {
       "family": "Liu",
       "given": "Bonnie"
      },
      {
       "family": "Sideris",
       "given": "Steve"
      },
      {
       "family": "Hoeflich",
       "given": "Klaus P."
      },
      {
       "family": "Jaiswal",
       "given": "Bijay S."
      },
      {
       "family": "Seshagiri",
       "given": "Somasekar"
      },
      {
       "family": "Koeppen",
       "given": "Hartmut"
      },
      {
       "family": "Belvin",
       "given": "Marcia"
      },
      {
       "family": "Friedman",
       "given": "Lori S."
      },
      {
       "family": "Malek",
       "given": "Shiva"
      }
     ],
     "container-title": "Nature",
     "container-title-short": "Nature",
     "id": "2754712/GPZDY42G",
     "issue": "7287",
     "issued": {
      "month": 3,
      "year": 2010
     },
     "journalAbbreviation": "Nature",
     "language": "en",
     "note": "Number: 7287\nPublisher: Nature Publishing Group",
     "page": "431-435",
     "page-first": "431",
     "title": "RAF inhibitors prime wild-type RAF to activate the MAPK pathway and enhance growth",
     "type": "article-journal",
     "volume": "464"
    },
    "2754712/HBAI2XHJ": {
     "DOI": "10.1093/bioinformatics/btab227",
     "URL": "https://doi.org/10.1093/bioinformatics/btab227",
     "abstract": "Ordinary differential equation models facilitate the understanding of cellular signal transduction and other biological processes. However, for large and comprehensive models, the computational cost of simulating or calibrating can be limiting. AMICI is a modular toolbox implemented in C ++/Python/MATLAB that provides efficient simulation and sensitivity analysis routines tailored for scalable, gradient-based parameter estimation and uncertainty quantification.AMICI is published under the permissive BSD-3-Clause license with source code publicly available on https://github.com/AMICI-dev/AMICI. Citeable releases are archived on Zenodo.Supplementary data are available at Bioinformatics online.",
     "accessed": {
      "day": 13,
      "month": 4,
      "year": 2021
     },
     "author": [
      {
       "family": "Fröhlich",
       "given": "Fabian"
      },
      {
       "family": "Weindl",
       "given": "Daniel"
      },
      {
       "family": "Schälte",
       "given": "Yannik"
      },
      {
       "family": "Pathirana",
       "given": "Dilan"
      },
      {
       "family": "Paszkowski",
       "given": "Łukasz"
      },
      {
       "family": "Lines",
       "given": "Glenn Terje"
      },
      {
       "family": "Stapor",
       "given": "Paul"
      },
      {
       "family": "Hasenauer",
       "given": "Jan"
      }
     ],
     "container-title": "Bioinformatics",
     "container-title-short": "Bioinformatics",
     "id": "2754712/HBAI2XHJ",
     "issue": "btab227",
     "issued": {
      "day": 2,
      "month": 4,
      "year": 2021
     },
     "journalAbbreviation": "Bioinformatics",
     "shortTitle": "AMICI",
     "title": "AMICI: High-Performance Sensitivity Analysis for Large Ordinary Differential Equation Models",
     "title-short": "AMICI",
     "type": "article-journal"
    },
    "2754712/HHEWVKQL": {
     "DOI": "10.1016/j.coisb.2021.03.005",
     "URL": "https://www.sciencedirect.com/science/article/pii/S245231002100007X",
     "abstract": "We discuss issues of structural and practical identifiability of partially observed differential equations, which are often applied in systems biology. The development of mathematical methods to investigate structural nonidentifiability has a long tradition. Computationally efficient methods to detect and cure it have been developed recently. Practical nonidentifiability, on the other hand, has not been investigated at the same conceptually clear level. We argue that practical identifiability is more challenging than structural identifiability when it comes to modeling experimental data. We discuss that the classical approach based on the Fisher information matrix has severe shortcomings. As an alternative, we propose using the profile likelihood, which is a powerful approach to detect and resolve practical nonidentifiability.",
     "accessed": {
      "day": 24,
      "month": 8,
      "year": 2021
     },
     "author": [
      {
       "family": "Wieland",
       "given": "Franz-Georg"
      },
      {
       "family": "Hauber",
       "given": "Adrian L."
      },
      {
       "family": "Rosenblatt",
       "given": "Marcus"
      },
      {
       "family": "Tönsing",
       "given": "Christian"
      },
      {
       "family": "Timmer",
       "given": "Jens"
      }
     ],
     "container-title": "Current Opinion in Systems Biology",
     "container-title-short": "Current Opinion in Systems Biology",
     "id": "2754712/HHEWVKQL",
     "issued": {
      "day": 1,
      "month": 3,
      "year": 2021
     },
     "journalAbbreviation": "Current Opinion in Systems Biology",
     "language": "en",
     "page": "60-69",
     "page-first": "60",
     "title": "On structural and practical identifiability",
     "type": "article-journal",
     "volume": "25"
    },
    "2754712/HWVK2XI8": {
     "author": [
      {
       "family": "Tzuza",
       "given": "Z"
      },
      {
       "family": "Bandiera",
       "given": "L"
      },
      {
       "family": "Gomez-Cabeza",
       "given": "D"
      },
      {
       "family": "Stan",
       "given": "G B"
      },
      {
       "family": "Menolascina",
       "given": "F"
      }
     ],
     "container-title": "proceedings of the 58th IEEE Conference on Decision and Control",
     "id": "2754712/HWVK2XI8",
     "issued": {
      "year": 2019
     },
     "title": "A systematic framework for biomolecular system identification",
     "type": "paper-conference"
    },
    "2754712/I4JQ4DMV": {
     "DOI": "10.1016/j.cels.2020.10.002",
     "URL": "https://www.sciencedirect.com/science/article/pii/S2405471220303707",
     "abstract": "Targeted inhibition of oncogenic pathways can be highly effective in halting the rapid growth of tumors but often leads to the emergence of slowly dividing persister cells, which constitute a reservoir for the selection of drug-resistant clones. In BRAFV600E melanomas, RAF and MEK inhibitors efficiently block oncogenic signaling, but persister cells emerge. Here, we show that persister cells escape drug-induced cell-cycle arrest via brief, sporadic ERK pulses generated by transmembrane receptors and growth factors operating in an autocrine/paracrine manner. Quantitative proteomics and computational modeling show that ERK pulsing is enabled by rewiring of mitogen-activated protein kinase (MAPK) signaling: from an oncogenic BRAFV600E monomer-driven configuration that is drug sensitive to a receptor-driven configuration that involves Ras-GTP and RAF dimers and is highly resistant to RAF and MEK inhibitors. Altogether, this work shows that pulsatile MAPK activation by factors in the microenvironment generates a persistent population of melanoma cells that rewires MAPK signaling to sustain non-genetic drug resistance.",
     "accessed": {
      "day": 8,
      "month": 3,
      "year": 2021
     },
     "author": [
      {
       "family": "Gerosa",
       "given": "Luca"
      },
      {
       "family": "Chidley",
       "given": "Christopher"
      },
      {
       "family": "Fröhlich",
       "given": "Fabian"
      },
      {
       "family": "Sanchez",
       "given": "Gabriela"
      },
      {
       "family": "Lim",
       "given": "Sang Kyun"
      },
      {
       "family": "Muhlich",
       "given": "Jeremy"
      },
      {
       "family": "Chen",
       "given": "Jia-Yun"
      },
      {
       "family": "Vallabhaneni",
       "given": "Sreeram"
      },
      {
       "family": "Baker",
       "given": "Gregory J."
      },
      {
       "family": "Schapiro",
       "given": "Denis"
      },
      {
       "family": "Atanasova",
       "given": "Mariya I."
      },
      {
       "family": "Chylek",
       "given": "Lily A."
      },
      {
       "family": "Shi",
       "given": "Tujin"
      },
      {
       "family": "Yi",
       "given": "Lian"
      },
      {
       "family": "Nicora",
       "given": "Carrie D."
      },
      {
       "family": "Claas",
       "given": "Allison"
      },
      {
       "family": "Ng",
       "given": "Thomas S. C."
      },
      {
       "family": "Kohler",
       "given": "Rainer H."
      },
      {
       "family": "Lauffenburger",
       "given": "Douglas A."
      },
      {
       "family": "Weissleder",
       "given": "Ralph"
      },
      {
       "family": "Miller",
       "given": "Miles A."
      },
      {
       "family": "Qian",
       "given": "Wei-Jun"
      },
      {
       "family": "Wiley",
       "given": "H. Steven"
      },
      {
       "family": "Sorger",
       "given": "Peter K."
      }
     ],
     "container-title": "Cell Systems",
     "container-title-short": "Cell Systems",
     "id": "2754712/I4JQ4DMV",
     "issue": "5",
     "issued": {
      "day": 18,
      "month": 11,
      "year": 2020
     },
     "journalAbbreviation": "Cell Systems",
     "language": "en",
     "page": "478-494.e9",
     "page-first": "478",
     "title": "Receptor-Driven ERK Pulses Reconfigure MAPK Signaling and Enable Persistence of Drug-Adapted BRAF-Mutant Melanoma Cells",
     "type": "article-journal",
     "volume": "11"
    },
    "2754712/I9T5NNAF": {
     "author": [
      {
       "family": "Hoops",
       "given": "S."
      },
      {
       "family": "Sahle",
       "given": "S."
      },
      {
       "family": "Gauges",
       "given": "R."
      },
      {
       "family": "Lee",
       "given": "C."
      },
      {
       "family": "Pahle",
       "given": "J."
      },
      {
       "family": "Simus",
       "given": "N."
      },
      {
       "family": "Singhal",
       "given": "M."
      },
      {
       "family": "Xu",
       "given": "L."
      },
      {
       "family": "Mendes",
       "given": "P."
      },
      {
       "family": "Kummer",
       "given": "U."
      }
     ],
     "container-title": "Bioinf.",
     "id": "2754712/I9T5NNAF",
     "issued": {
      "year": 2006
     },
     "note": "bibtex: HoopsSah2006",
     "page": "3067-3074",
     "page-first": "3067",
     "title": "COPASI -- a COmplex PAthway SImulator",
     "type": "article-journal",
     "volume": "22"
    },
    "2754712/ICNACSXA": {
     "DOI": "10.1101/2020.09.03.268276",
     "URL": "https://www.biorxiv.org/content/10.1101/2020.09.03.268276v1",
     "abstract": "<p>Ordinary differential equation (ODE) models are a key tool to understand complex mechanisms in systems biology. These models are studied using various approaches, including stability and bifurcation analysis, but most frequently by numerical simulations. The number of required simulations is often large, e.g., when unknown parameters need to be inferred. This renders efficient and reliable numerical integration methods essential. However, these methods depend on various hyperparameters, which strongly impact the ODE solution. Despite this, and although hundreds of published ODE models are freely available in public databases, a thorough study that quantifies the impact of hyperparameters on the ODE solver in terms of accuracy and computation time is still missing. In this manuscript, we investigate which choices of algorithms and hyperparameters are generally favorable when dealing with ODE models arising from biological processes. To ensure a representative evaluation, we considered 167 published models. Our study provides evidence that most ODEs in computational biology are stiff, and we give guidelines for the choice of algorithms and hyperparameters. We anticipate that our results will help researchers in systems biology to choose appropriate numerical methods when dealing with ODE models.</p>",
     "accessed": {
      "day": 28,
      "month": 9,
      "year": 2020
     },
     "author": [
      {
       "family": "Städter",
       "given": "Philipp"
      },
      {
       "family": "Schälte",
       "given": "Yannik"
      },
      {
       "family": "Schmiester",
       "given": "Leonard"
      },
      {
       "family": "Hasenauer",
       "given": "Jan"
      },
      {
       "family": "Stapor",
       "given": "Paul L."
      }
     ],
     "container-title": "bioRxiv",
     "id": "2754712/ICNACSXA",
     "issued": {
      "day": 4,
      "month": 9,
      "year": 2020
     },
     "language": "en",
     "note": "Publisher: Cold Spring Harbor Laboratory\nSection: New Results",
     "page": "2020.09.03.268276",
     "page-first": "2020.09.03.268276",
     "title": "Benchmarking of numerical integration methods for ODE models of biological systems",
     "type": "article-journal"
    },
    "2754712/INKV577L": {
     "DOI": "10.1093/bioinformatics/bty736",
     "URL": "https://doi.org/10.1093/bioinformatics/bty736",
     "abstract": "Kinetic models contain unknown parameters that are estimated by optimizing the fit to experimental data. This task can be computationally challenging due to the presence of local optima and ill-conditioning. While a variety of optimization methods have been suggested to surmount these issues, it is difficult to choose the best one for a given problem a priori. A systematic comparison of parameter estimation methods for problems with tens to hundreds of optimization variables is currently missing, and smaller studies provided contradictory findings.We use a collection of benchmarks to evaluate the performance of two families of optimization methods: (i) multi-starts of deterministic local searches and (ii) stochastic global optimization metaheuristics; the latter may be combined with deterministic local searches, leading to hybrid methods. A fair comparison is ensured through a collaborative evaluation and a consideration of multiple performance metrics. We discuss possible evaluation criteria to assess the trade-off between computational efficiency and robustness. Our results show that, thanks to recent advances in the calculation of parametric sensitivities, a multi-start of gradient-based local methods is often a successful strategy, but a better performance can be obtained with a hybrid metaheuristic. The best performer combines a global scatter search metaheuristic with an interior point local method, provided with gradients estimated with adjoint-based sensitivities. We provide an implementation of this method to render it available to the scientific community.The code to reproduce the results is provided as Supplementary Material and is available at Zenodo https://doi.org/10.5281/zenodo.1304034.Supplementary data are available at Bioinformatics online.",
     "accessed": {
      "day": 14,
      "month": 3,
      "year": 2021
     },
     "author": [
      {
       "family": "Villaverde",
       "given": "Alejandro F"
      },
      {
       "family": "Fröhlich",
       "given": "Fabian"
      },
      {
       "family": "Weindl",
       "given": "Daniel"
      },
      {
       "family": "Hasenauer",
       "given": "Jan"
      },
      {
       "family": "Banga",
       "given": "Julio R"
      }
     ],
     "container-title": "Bioinformatics",
     "container-title-short": "Bioinformatics",
     "id": "2754712/INKV577L",
     "issue": "5",
     "issued": {
      "day": 1,
      "month": 3,
      "year": 2019
     },
     "journalAbbreviation": "Bioinformatics",
     "page": "830-838",
     "page-first": "830",
     "title": "Benchmarking optimization methods for parameter estimation in large kinetic models",
     "type": "article-journal",
     "volume": "35"
    },
    "2754712/L8NRTXRQ": {
     "DOI": "10.1016/j.cell.2018.03.035",
     "URL": "http://dx.doi.org/10.1016/j.cell.2018.03.035",
     "accessed": {
      "day": 22,
      "month": 7,
      "year": 2018
     },
     "author": [
      {
       "family": "Sanchez-Vega",
       "given": "Francisco"
      },
      {
       "family": "Mina",
       "given": "Marco"
      },
      {
       "family": "Armenia",
       "given": "Joshua"
      },
      {
       "family": "Chatila",
       "given": "Walid K."
      },
      {
       "family": "Luna",
       "given": "Augustin"
      },
      {
       "family": "La",
       "given": "Konnor C."
      },
      {
       "family": "Dimitriadoy",
       "given": "Sofia"
      },
      {
       "family": "Liu",
       "given": "David L."
      },
      {
       "family": "Kantheti",
       "given": "Havish S."
      },
      {
       "family": "Saghafinia",
       "given": "Sadegh"
      },
      {
       "family": "Chakravarty",
       "given": "Debyani"
      },
      {
       "family": "Daian",
       "given": "Foysal"
      },
      {
       "family": "Gao",
       "given": "Qingsong"
      },
      {
       "family": "Bailey",
       "given": "Matthew H."
      },
      {
       "family": "Liang",
       "given": "Wen-Wei"
      },
      {
       "family": "Foltz",
       "given": "Steven M."
      },
      {
       "family": "Shmulevich",
       "given": "Ilya"
      },
      {
       "family": "Ding",
       "given": "Li"
      },
      {
       "family": "Heins",
       "given": "Zachary"
      },
      {
       "family": "Ochoa",
       "given": "Angelica"
      },
      {
       "family": "Gross",
       "given": "Benjamin"
      },
      {
       "family": "Gao",
       "given": "Jianjiong"
      },
      {
       "family": "Zhang",
       "given": "Hongxin"
      },
      {
       "family": "Kundra",
       "given": "Ritika"
      },
      {
       "family": "Kandoth",
       "given": "Cyriac"
      },
      {
       "family": "Bahceci",
       "given": "Istemi"
      },
      {
       "family": "Dervishi",
       "given": "Leonard"
      },
      {
       "family": "Dogrusoz",
       "given": "Ugur"
      },
      {
       "family": "Zhou",
       "given": "Wanding"
      },
      {
       "family": "Shen",
       "given": "Hui"
      },
      {
       "family": "Laird",
       "given": "Peter W."
      },
      {
       "family": "Way",
       "given": "Gregory P."
      },
      {
       "family": "Greene",
       "given": "Casey S."
      },
      {
       "family": "Liang",
       "given": "Han"
      },
      {
       "family": "Xiao",
       "given": "Yonghong"
      },
      {
       "family": "Wang",
       "given": "Chen"
      },
      {
       "family": "Iavarone",
       "given": "Antonio"
      },
      {
       "family": "Berger",
       "given": "Alice H."
      },
      {
       "family": "Bivona",
       "given": "Trever G."
      },
      {
       "family": "Lazar",
       "given": "Alexander J."
      },
      {
       "family": "Hammer",
       "given": "Gary D."
      },
      {
       "family": "Giordano",
       "given": "Thomas"
      },
      {
       "family": "Kwong",
       "given": "Lawrence N."
      },
      {
       "family": "McArthur",
       "given": "Grant"
      },
      {
       "family": "Huang",
       "given": "Chenfei"
      },
      {
       "family": "Tward",
       "given": "Aaron D."
      },
      {
       "family": "Frederick",
       "given": "Mitchell J."
      },
      {
       "family": "McCormick",
       "given": "Frank"
      },
      {
       "family": "Meyerson",
       "given": "Matthew"
      },
      {
       "family": "Caesar-Johnson",
       "given": "Samantha J."
      },
      {
       "family": "Demchok",
       "given": "John A."
      },
      {
       "family": "Felau",
       "given": "Ina"
      },
      {
       "family": "Kasapi",
       "given": "Melpomeni"
      },
      {
       "family": "Ferguson",
       "given": "Martin L."
      },
      {
       "family": "Hutter",
       "given": "Carolyn M."
      },
      {
       "family": "Sofia",
       "given": "Heidi J."
      },
      {
       "family": "Tarnuzzer",
       "given": "Roy"
      },
      {
       "family": "Wang",
       "given": "Zhining"
      },
      {
       "family": "Yang",
       "given": "Liming"
      },
      {
       "family": "Zenklusen",
       "given": "Jean C."
      },
      {
       "family": "Zhang",
       "given": "Jiashan (Julia)"
      },
      {
       "family": "Chudamani",
       "given": "Sudha"
      },
      {
       "family": "Liu",
       "given": "Jia"
      },
      {
       "family": "Lolla",
       "given": "Laxmi"
      },
      {
       "family": "Naresh",
       "given": "Rashi"
      },
      {
       "family": "Pihl",
       "given": "Todd"
      },
      {
       "family": "Sun",
       "given": "Qiang"
      },
      {
       "family": "Wan",
       "given": "Yunhu"
      },
      {
       "family": "Wu",
       "given": "Ye"
      },
      {
       "family": "Cho",
       "given": "Juok"
      },
      {
       "family": "DeFreitas",
       "given": "Timothy"
      },
      {
       "family": "Frazer",
       "given": "Scott"
      },
      {
       "family": "Gehlenborg",
       "given": "Nils"
      },
      {
       "family": "Getz",
       "given": "Gad"
      },
      {
       "family": "Heiman",
       "given": "David I."
      },
      {
       "family": "Kim",
       "given": "Jaegil"
      },
      {
       "family": "Lawrence",
       "given": "Michael S."
      },
      {
       "family": "Lin",
       "given": "Pei"
      },
      {
       "family": "Meier",
       "given": "Sam"
      },
      {
       "family": "Noble",
       "given": "Michael S."
      },
      {
       "family": "Saksena",
       "given": "Gordon"
      },
      {
       "family": "Voet",
       "given": "Doug"
      },
      {
       "family": "Zhang",
       "given": "Hailei"
      },
      {
       "family": "Bernard",
       "given": "Brady"
      },
      {
       "family": "Chambwe",
       "given": "Nyasha"
      },
      {
       "family": "Dhankani",
       "given": "Varsha"
      },
      {
       "family": "Knijnenburg",
       "given": "Theo"
      },
      {
       "family": "Kramer",
       "given": "Roger"
      },
      {
       "family": "Leinonen",
       "given": "Kalle"
      },
      {
       "family": "Liu",
       "given": "Yuexin"
      },
      {
       "family": "Miller",
       "given": "Michael"
      },
      {
       "family": "Reynolds",
       "given": "Sheila"
      },
      {
       "family": "Shmulevich",
       "given": "Ilya"
      },
      {
       "family": "Thorsson",
       "given": "Vesteinn"
      },
      {
       "family": "Zhang",
       "given": "Wei"
      },
      {
       "family": "Akbani",
       "given": "Rehan"
      },
      {
       "family": "Broom",
       "given": "Bradley M."
      },
      {
       "family": "Hegde",
       "given": "Apurva M."
      },
      {
       "family": "Ju",
       "given": "Zhenlin"
      },
      {
       "family": "Kanchi",
       "given": "Rupa S."
      },
      {
       "family": "Korkut",
       "given": "Anil"
      },
      {
       "family": "Li",
       "given": "Jun"
      },
      {
       "family": "Liang",
       "given": "Han"
      },
      {
       "family": "Ling",
       "given": "Shiyun"
      },
      {
       "family": "Liu",
       "given": "Wenbin"
      },
      {
       "family": "Lu",
       "given": "Yiling"
      },
      {
       "family": "Mills",
       "given": "Gordon B."
      },
      {
       "family": "Ng",
       "given": "Kwok-Shing"
      },
      {
       "family": "Rao",
       "given": "Arvind"
      },
      {
       "family": "Ryan",
       "given": "Michael"
      },
      {
       "family": "Wang",
       "given": "Jing"
      },
      {
       "family": "Weinstein",
       "given": "John N."
      },
      {
       "family": "Zhang",
       "given": "Jiexin"
      },
      {
       "family": "Abeshouse",
       "given": "Adam"
      },
      {
       "family": "Armenia",
       "given": "Joshua"
      },
      {
       "family": "Chakravarty",
       "given": "Debyani"
      },
      {
       "family": "Chatila",
       "given": "Walid K."
      },
      {
       "family": "de Bruijn",
       "given": "Ino"
      },
      {
       "family": "Gao",
       "given": "Jianjiong"
      },
      {
       "family": "Gross",
       "given": "Benjamin E."
      },
      {
       "family": "Heins",
       "given": "Zachary J."
      },
      {
       "family": "Kundra",
       "given": "Ritika"
      },
      {
       "family": "La",
       "given": "Konnor"
      },
      {
       "family": "Ladanyi",
       "given": "Marc"
      },
      {
       "family": "Luna",
       "given": "Augustin"
      },
      {
       "family": "Nissan",
       "given": "Moriah G."
      },
      {
       "family": "Ochoa",
       "given": "Angelica"
      },
      {
       "family": "Phillips",
       "given": "Sarah M."
      },
      {
       "family": "Reznik",
       "given": "Ed"
      },
      {
       "family": "Sanchez-Vega",
       "given": "Francisco"
      },
      {
       "family": "Sander",
       "given": "Chris"
      },
      {
       "family": "Schultz",
       "given": "Nikolaus"
      },
      {
       "family": "Sheridan",
       "given": "Robert"
      },
      {
       "family": "Sumer",
       "given": "S. Onur"
      },
      {
       "family": "Sun",
       "given": "Yichao"
      },
      {
       "family": "Taylor",
       "given": "Barry S."
      },
      {
       "family": "Wang",
       "given": "Jioajiao"
      },
      {
       "family": "Zhang",
       "given": "Hongxin"
      },
      {
       "family": "Anur",
       "given": "Pavana"
      },
      {
       "family": "Peto",
       "given": "Myron"
      },
      {
       "family": "Spellman",
       "given": "Paul"
      },
      {
       "family": "Benz",
       "given": "Christopher"
      },
      {
       "family": "Stuart",
       "given": "Joshua M."
      },
      {
       "family": "Wong",
       "given": "Christopher K."
      },
      {
       "family": "Yau",
       "given": "Christina"
      },
      {
       "family": "Hayes",
       "given": "D. Neil"
      },
      {
       "family": "Parker",
       "given": "Joel S."
      },
      {
       "family": "Wilkerson",
       "given": "Matthew D."
      },
      {
       "family": "Ally",
       "given": "Adrian"
      },
      {
       "family": "Balasundaram",
       "given": "Miruna"
      },
      {
       "family": "Bowlby",
       "given": "Reanne"
      },
      {
       "family": "Brooks",
       "given": "Denise"
      },
      {
       "family": "Carlsen",
       "given": "Rebecca"
      },
      {
       "family": "Chuah",
       "given": "Eric"
      },
      {
       "family": "Dhalla",
       "given": "Noreen"
      },
      {
       "family": "Holt",
       "given": "Robert"
      },
      {
       "family": "Jones",
       "given": "Steven J.M."
      },
      {
       "family": "Kasaian",
       "given": "Katayoon"
      },
      {
       "family": "Lee",
       "given": "Darlene"
      },
      {
       "family": "Ma",
       "given": "Yussanne"
      },
      {
       "family": "Marra",
       "given": "Marco A."
      },
      {
       "family": "Mayo",
       "given": "Michael"
      },
      {
       "family": "Moore",
       "given": "Richard A."
      },
      {
       "family": "Mungall",
       "given": "Andrew J."
      },
      {
       "family": "Mungall",
       "given": "Karen"
      },
      {
       "family": "Robertson",
       "given": "A. Gordon"
      },
      {
       "family": "Sadeghi",
       "given": "Sara"
      },
      {
       "family": "Schein",
       "given": "Jacqueline E."
      },
      {
       "family": "Sipahimalani",
       "given": "Payal"
      },
      {
       "family": "Tam",
       "given": "Angela"
      },
      {
       "family": "Thiessen",
       "given": "Nina"
      },
      {
       "family": "Tse",
       "given": "Kane"
      },
      {
       "family": "Wong",
       "given": "Tina"
      },
      {
       "family": "Berger",
       "given": "Ashton C."
      },
      {
       "family": "Beroukhim",
       "given": "Rameen"
      },
      {
       "family": "Cherniack",
       "given": "Andrew D."
      },
      {
       "family": "Cibulskis",
       "given": "Carrie"
      },
      {
       "family": "Gabriel",
       "given": "Stacey B."
      },
      {
       "family": "Gao",
       "given": "Galen F."
      },
      {
       "family": "Ha",
       "given": "Gavin"
      },
      {
       "family": "Meyerson",
       "given": "Matthew"
      },
      {
       "family": "Schumacher",
       "given": "Steven E."
      },
      {
       "family": "Shih",
       "given": "Juliann"
      },
      {
       "family": "Kucherlapati",
       "given": "Melanie H."
      },
      {
       "family": "Kucherlapati",
       "given": "Raju S."
      },
      {
       "family": "Baylin",
       "given": "Stephen"
      },
      {
       "family": "Cope",
       "given": "Leslie"
      },
      {
       "family": "Danilova",
       "given": "Ludmila"
      },
      {
       "family": "Bootwalla",
       "given": "Moiz S."
      },
      {
       "family": "Lai",
       "given": "Phillip H."
      },
      {
       "family": "Maglinte",
       "given": "Dennis T."
      },
      {
       "family": "Van Den Berg",
       "given": "David J."
      },
      {
       "family": "Weisenberger",
       "given": "Daniel J."
      },
      {
       "family": "Auman",
       "given": "J. Todd"
      },
      {
       "family": "Balu",
       "given": "Saianand"
      },
      {
       "family": "Bodenheimer",
       "given": "Tom"
      },
      {
       "family": "Fan",
       "given": "Cheng"
      },
      {
       "family": "Hoadley",
       "given": "Katherine A."
      },
      {
       "family": "Hoyle",
       "given": "Alan P."
      },
      {
       "family": "Jefferys",
       "given": "Stuart R."
      },
      {
       "family": "Jones",
       "given": "Corbin D."
      },
      {
       "family": "Meng",
       "given": "Shaowu"
      },
      {
       "family": "Mieczkowski",
       "given": "Piotr A."
      },
      {
       "family": "Mose",
       "given": "Lisle E."
      },
      {
       "family": "Perou",
       "given": "Amy H."
      },
      {
       "family": "Perou",
       "given": "Charles M."
      },
      {
       "family": "Roach",
       "given": "Jeffrey"
      },
      {
       "family": "Shi",
       "given": "Yan"
      },
      {
       "family": "Simons",
       "given": "Janae V."
      },
      {
       "family": "Skelly",
       "given": "Tara"
      },
      {
       "family": "Soloway",
       "given": "Matthew G."
      },
      {
       "family": "Tan",
       "given": "Donghui"
      },
      {
       "family": "Veluvolu",
       "given": "Umadevi"
      },
      {
       "family": "Fan",
       "given": "Huihui"
      },
      {
       "family": "Hinoue",
       "given": "Toshinori"
      },
      {
       "family": "Laird",
       "given": "Peter W."
      },
      {
       "family": "Shen",
       "given": "Hui"
      },
      {
       "family": "Zhou",
       "given": "Wanding"
      },
      {
       "family": "Bellair",
       "given": "Michelle"
      },
      {
       "family": "Chang",
       "given": "Kyle"
      },
      {
       "family": "Covington",
       "given": "Kyle"
      },
      {
       "family": "Creighton",
       "given": "Chad J."
      },
      {
       "family": "Dinh",
       "given": "Huyen"
      },
      {
       "family": "Doddapaneni",
       "given": "HarshaVardhan"
      },
      {
       "family": "Donehower",
       "given": "Lawrence A."
      },
      {
       "family": "Drummond",
       "given": "Jennifer"
      },
      {
       "family": "Gibbs",
       "given": "Richard A."
      },
      {
       "family": "Glenn",
       "given": "Robert"
      },
      {
       "family": "Hale",
       "given": "Walker"
      },
      {
       "family": "Han",
       "given": "Yi"
      },
      {
       "family": "Hu",
       "given": "Jianhong"
      },
      {
       "family": "Korchina",
       "given": "Viktoriya"
      },
      {
       "family": "Lee",
       "given": "Sandra"
      },
      {
       "family": "Lewis",
       "given": "Lora"
      },
      {
       "family": "Li",
       "given": "Wei"
      },
      {
       "family": "Liu",
       "given": "Xiuping"
      },
      {
       "family": "Morgan",
       "given": "Margaret"
      },
      {
       "family": "Morton",
       "given": "Donna"
      },
      {
       "family": "Muzny",
       "given": "Donna"
      },
      {
       "family": "Santibanez",
       "given": "Jireh"
      },
      {
       "family": "Sheth",
       "given": "Margi"
      },
      {
       "family": "Shinbrot",
       "given": "Eve"
      },
      {
       "family": "Wang",
       "given": "Linghua"
      },
      {
       "family": "Wang",
       "given": "Min"
      },
      {
       "family": "Wheeler",
       "given": "David A."
      },
      {
       "family": "Xi",
       "given": "Liu"
      },
      {
       "family": "Zhao",
       "given": "Fengmei"
      },
      {
       "family": "Hess",
       "given": "Julian"
      },
      {
       "family": "Appelbaum",
       "given": "Elizabeth L."
      },
      {
       "family": "Bailey",
       "given": "Matthew"
      },
      {
       "family": "Cordes",
       "given": "Matthew G."
      },
      {
       "family": "Ding",
       "given": "Li"
      },
      {
       "family": "Fronick",
       "given": "Catrina C."
      },
      {
       "family": "Fulton",
       "given": "Lucinda A."
      },
      {
       "family": "Fulton",
       "given": "Robert S."
      },
      {
       "family": "Kandoth",
       "given": "Cyriac"
      },
      {
       "family": "Mardis",
       "given": "Elaine R."
      },
      {
       "family": "McLellan",
       "given": "Michael D."
      },
      {
       "family": "Miller",
       "given": "Christopher A."
      },
      {
       "family": "Schmidt",
       "given": "Heather K."
      },
      {
       "family": "Wilson",
       "given": "Richard K."
      },
      {
       "family": "Crain",
       "given": "Daniel"
      },
      {
       "family": "Curley",
       "given": "Erin"
      },
      {
       "family": "Gardner",
       "given": "Johanna"
      },
      {
       "family": "Lau",
       "given": "Kevin"
      },
      {
       "family": "Mallery",
       "given": "David"
      },
      {
       "family": "Morris",
       "given": "Scott"
      },
      {
       "family": "Paulauskis",
       "given": "Joseph"
      },
      {
       "family": "Penny",
       "given": "Robert"
      },
      {
       "family": "Shelton",
       "given": "Candace"
      },
      {
       "family": "Shelton",
       "given": "Troy"
      },
      {
       "family": "Sherman",
       "given": "Mark"
      },
      {
       "family": "Thompson",
       "given": "Eric"
      },
      {
       "family": "Yena",
       "given": "Peggy"
      },
      {
       "family": "Bowen",
       "given": "Jay"
      },
      {
       "family": "Gastier-Foster",
       "given": "Julie M."
      },
      {
       "family": "Gerken",
       "given": "Mark"
      },
      {
       "family": "Leraas",
       "given": "Kristen M."
      },
      {
       "family": "Lichtenberg",
       "given": "Tara M."
      },
      {
       "family": "Ramirez",
       "given": "Nilsa C."
      },
      {
       "family": "Wise",
       "given": "Lisa"
      },
      {
       "family": "Zmuda",
       "given": "Erik"
      },
      {
       "family": "Corcoran",
       "given": "Niall"
      },
      {
       "family": "Costello",
       "given": "Tony"
      },
      {
       "family": "Hovens",
       "given": "Christopher"
      },
      {
       "family": "Carvalho",
       "given": "Andre L."
      },
      {
       "family": "de Carvalho",
       "given": "Ana C."
      },
      {
       "family": "Fregnani",
       "given": "José H."
      },
      {
       "family": "Longatto-Filho",
       "given": "Adhemar"
      },
      {
       "family": "Reis",
       "given": "Rui M."
      },
      {
       "family": "Scapulatempo-Neto",
       "given": "Cristovam"
      },
      {
       "family": "Silveira",
       "given": "Henrique C.S."
      },
      {
       "family": "Vidal",
       "given": "Daniel O."
      },
      {
       "family": "Burnette",
       "given": "Andrew"
      },
      {
       "family": "Eschbacher",
       "given": "Jennifer"
      },
      {
       "family": "Hermes",
       "given": "Beth"
      },
      {
       "family": "Noss",
       "given": "Ardene"
      },
      {
       "family": "Singh",
       "given": "Rosy"
      },
      {
       "family": "Anderson",
       "given": "Matthew L."
      },
      {
       "family": "Castro",
       "given": "Patricia D."
      },
      {
       "family": "Ittmann",
       "given": "Michael"
      },
      {
       "family": "Huntsman",
       "given": "David"
      },
      {
       "family": "Kohl",
       "given": "Bernard"
      },
      {
       "family": "Le",
       "given": "Xuan"
      },
      {
       "family": "Thorp",
       "given": "Richard"
      },
      {
       "family": "Andry",
       "given": "Chris"
      },
      {
       "family": "Duffy",
       "given": "Elizabeth R."
      },
      {
       "family": "Lyadov",
       "given": "Vladimir"
      },
      {
       "family": "Paklina",
       "given": "Oxana"
      },
      {
       "family": "Setdikova",
       "given": "Galiya"
      },
      {
       "family": "Shabunin",
       "given": "Alexey"
      },
      {
       "family": "Tavobilov",
       "given": "Mikhail"
      },
      {
       "family": "McPherson",
       "given": "Christopher"
      },
      {
       "family": "Warnick",
       "given": "Ronald"
      },
      {
       "family": "Berkowitz",
       "given": "Ross"
      },
      {
       "family": "Cramer",
       "given": "Daniel"
      },
      {
       "family": "Feltmate",
       "given": "Colleen"
      },
      {
       "family": "Horowitz",
       "given": "Neil"
      },
      {
       "family": "Kibel",
       "given": "Adam"
      },
      {
       "family": "Muto",
       "given": "Michael"
      },
      {
       "family": "Raut",
       "given": "Chandrajit P."
      },
      {
       "family": "Malykh",
       "given": "Andrei"
      },
      {
       "family": "Barnholtz-Sloan",
       "given": "Jill S."
      },
      {
       "family": "Barrett",
       "given": "Wendi"
      },
      {
       "family": "Devine",
       "given": "Karen"
      },
      {
       "family": "Fulop",
       "given": "Jordonna"
      },
      {
       "family": "Ostrom",
       "given": "Quinn T."
      },
      {
       "family": "Shimmel",
       "given": "Kristen"
      },
      {
       "family": "Wolinsky",
       "given": "Yingli"
      },
      {
       "family": "Sloan",
       "given": "Andrew E."
      },
      {
       "family": "De Rose",
       "given": "Agostino"
      },
      {
       "family": "Giuliante",
       "given": "Felice"
      },
      {
       "family": "Goodman",
       "given": "Marc"
      },
      {
       "family": "Karlan",
       "given": "Beth Y."
      },
      {
       "family": "Hagedorn",
       "given": "Curt H."
      },
      {
       "family": "Eckman",
       "given": "John"
      },
      {
       "family": "Harr",
       "given": "Jodi"
      },
      {
       "family": "Myers",
       "given": "Jerome"
      },
      {
       "family": "Tucker",
       "given": "Kelinda"
      },
      {
       "family": "Zach",
       "given": "Leigh Anne"
      },
      {
       "family": "Deyarmin",
       "given": "Brenda"
      },
      {
       "family": "Hu",
       "given": "Hai"
      },
      {
       "family": "Kvecher",
       "given": "Leonid"
      },
      {
       "family": "Larson",
       "given": "Caroline"
      },
      {
       "family": "Mural",
       "given": "Richard J."
      },
      {
       "family": "Somiari",
       "given": "Stella"
      },
      {
       "family": "Vicha",
       "given": "Ales"
      },
      {
       "family": "Zelinka",
       "given": "Tomas"
      },
      {
       "family": "Bennett",
       "given": "Joseph"
      },
      {
       "family": "Iacocca",
       "given": "Mary"
      },
      {
       "family": "Rabeno",
       "given": "Brenda"
      },
      {
       "family": "Swanson",
       "given": "Patricia"
      },
      {
       "family": "Latour",
       "given": "Mathieu"
      },
      {
       "family": "Lacombe",
       "given": "Louis"
      },
      {
       "family": "Têtu",
       "given": "Bernard"
      },
      {
       "family": "Bergeron",
       "given": "Alain"
      },
      {
       "family": "McGraw",
       "given": "Mary"
      },
      {
       "family": "Staugaitis",
       "given": "Susan M."
      },
      {
       "family": "Chabot",
       "given": "John"
      },
      {
       "family": "Hibshoosh",
       "given": "Hanina"
      },
      {
       "family": "Sepulveda",
       "given": "Antonia"
      },
      {
       "family": "Su",
       "given": "Tao"
      },
      {
       "family": "Wang",
       "given": "Timothy"
      },
      {
       "family": "Potapova",
       "given": "Olga"
      },
      {
       "family": "Voronina",
       "given": "Olga"
      },
      {
       "family": "Desjardins",
       "given": "Laurence"
      },
      {
       "family": "Mariani",
       "given": "Odette"
      },
      {
       "family": "Roman-Roman",
       "given": "Sergio"
      },
      {
       "family": "Sastre",
       "given": "Xavier"
      },
      {
       "family": "Stern",
       "given": "Marc-Henri"
      },
      {
       "family": "Cheng",
       "given": "Feixiong"
      },
      {
       "family": "Signoretti",
       "given": "Sabina"
      },
      {
       "family": "Berchuck",
       "given": "Andrew"
      },
      {
       "family": "Bigner",
       "given": "Darell"
      },
      {
       "family": "Lipp",
       "given": "Eric"
      },
      {
       "family": "Marks",
       "given": "Jeffrey"
      },
      {
       "family": "McCall",
       "given": "Shannon"
      },
      {
       "family": "McLendon",
       "given": "Roger"
      },
      {
       "family": "Secord",
       "given": "Angeles"
      },
      {
       "family": "Sharp",
       "given": "Alexis"
      },
      {
       "family": "Behera",
       "given": "Madhusmita"
      },
      {
       "family": "Brat",
       "given": "Daniel J."
      },
      {
       "family": "Chen",
       "given": "Amy"
      },
      {
       "family": "Delman",
       "given": "Keith"
      },
      {
       "family": "Force",
       "given": "Seth"
      },
      {
       "family": "Khuri",
       "given": "Fadlo"
      },
      {
       "family": "Magliocca",
       "given": "Kelly"
      },
      {
       "family": "Maithel",
       "given": "Shishir"
      },
      {
       "family": "Olson",
       "given": "Jeffrey J."
      },
      {
       "family": "Owonikoko",
       "given": "Taofeek"
      },
      {
       "family": "Pickens",
       "given": "Alan"
      },
      {
       "family": "Ramalingam",
       "given": "Suresh"
      },
      {
       "family": "Shin",
       "given": "Dong M."
      },
      {
       "family": "Sica",
       "given": "Gabriel"
      },
      {
       "family": "Van Meir",
       "given": "Erwin G."
      },
      {
       "family": "Zhang",
       "given": "Hongzheng"
      },
      {
       "family": "Eijckenboom",
       "given": "Wil"
      },
      {
       "family": "Gillis",
       "given": "Ad"
      },
      {
       "family": "Korpershoek",
       "given": "Esther"
      },
      {
       "family": "Looijenga",
       "given": "Leendert"
      },
      {
       "family": "Oosterhuis",
       "given": "Wolter"
      },
      {
       "family": "Stoop",
       "given": "Hans"
      },
      {
       "family": "van Kessel",
       "given": "Kim E."
      },
      {
       "family": "Zwarthoff",
       "given": "Ellen C."
      },
      {
       "family": "Calatozzolo",
       "given": "Chiara"
      },
      {
       "family": "Cuppini",
       "given": "Lucia"
      },
      {
       "family": "Cuzzubbo",
       "given": "Stefania"
      },
      {
       "family": "DiMeco",
       "given": "Francesco"
      },
      {
       "family": "Finocchiaro",
       "given": "Gaetano"
      },
      {
       "family": "Mattei",
       "given": "Luca"
      },
      {
       "family": "Perin",
       "given": "Alessandro"
      },
      {
       "family": "Pollo",
       "given": "Bianca"
      },
      {
       "family": "Chen",
       "given": "Chu"
      },
      {
       "family": "Houck",
       "given": "John"
      },
      {
       "family": "Lohavanichbutr",
       "given": "Pawadee"
      },
      {
       "family": "Hartmann",
       "given": "Arndt"
      },
      {
       "family": "Stoehr",
       "given": "Christine"
      },
      {
       "family": "Stoehr",
       "given": "Robert"
      },
      {
       "family": "Taubert",
       "given": "Helge"
      },
      {
       "family": "Wach",
       "given": "Sven"
      },
      {
       "family": "Wullich",
       "given": "Bernd"
      },
      {
       "family": "Kycler",
       "given": "Witold"
      },
      {
       "family": "Murawa",
       "given": "Dawid"
      },
      {
       "family": "Wiznerowicz",
       "given": "Maciej"
      },
      {
       "family": "Chung",
       "given": "Ki"
      },
      {
       "family": "Edenfield",
       "given": "W. Jeffrey"
      },
      {
       "family": "Martin",
       "given": "Julie"
      },
      {
       "family": "Baudin",
       "given": "Eric"
      },
      {
       "family": "Bubley",
       "given": "Glenn"
      },
      {
       "family": "Bueno",
       "given": "Raphael"
      },
      {
       "family": "De Rienzo",
       "given": "Assunta"
      },
      {
       "family": "Richards",
       "given": "William G."
      },
      {
       "family": "Kalkanis",
       "given": "Steven"
      },
      {
       "family": "Mikkelsen",
       "given": "Tom"
      },
      {
       "family": "Noushmehr",
       "given": "Houtan"
      },
      {
       "family": "Scarpace",
       "given": "Lisa"
      },
      {
       "family": "Girard",
       "given": "Nicolas"
      },
      {
       "family": "Aymerich",
       "given": "Marta"
      },
      {
       "family": "Campo",
       "given": "Elias"
      },
      {
       "family": "Giné",
       "given": "Eva"
      },
      {
       "family": "Guillermo",
       "given": "Armando López"
      },
      {
       "family": "Van Bang",
       "given": "Nguyen"
      },
      {
       "family": "Hanh",
       "given": "Phan Thi"
      },
      {
       "family": "Phu",
       "given": "Bui Duc"
      },
      {
       "family": "Tang",
       "given": "Yufang"
      },
      {
       "family": "Colman",
       "given": "Howard"
      },
      {
       "family": "Evason",
       "given": "Kimberley"
      },
      {
       "family": "Dottino",
       "given": "Peter R."
      },
      {
       "family": "Martignetti",
       "given": "John A."
      },
      {
       "family": "Gabra",
       "given": "Hani"
      },
      {
       "family": "Juhl",
       "given": "Hartmut"
      },
      {
       "family": "Akeredolu",
       "given": "Teniola"
      },
      {
       "family": "Stepa",
       "given": "Serghei"
      },
      {
       "family": "Hoon",
       "given": "Dave"
      },
      {
       "family": "Ahn",
       "given": "Keunsoo"
      },
      {
       "family": "Kang",
       "given": "Koo Jeong"
      },
      {
       "family": "Beuschlein",
       "given": "Felix"
      },
      {
       "family": "Breggia",
       "given": "Anne"
      },
      {
       "family": "Birrer",
       "given": "Michael"
      },
      {
       "family": "Bell",
       "given": "Debra"
      },
      {
       "family": "Borad",
       "given": "Mitesh"
      },
      {
       "family": "Bryce",
       "given": "Alan H."
      },
      {
       "family": "Castle",
       "given": "Erik"
      },
      {
       "family": "Chandan",
       "given": "Vishal"
      },
      {
       "family": "Cheville",
       "given": "John"
      },
      {
       "family": "Copland",
       "given": "John A."
      },
      {
       "family": "Farnell",
       "given": "Michael"
      },
      {
       "family": "Flotte",
       "given": "Thomas"
      },
      {
       "family": "Giama",
       "given": "Nasra"
      },
      {
       "family": "Ho",
       "given": "Thai"
      },
      {
       "family": "Kendrick",
       "given": "Michael"
      },
      {
       "family": "Kocher",
       "given": "Jean-Pierre"
      },
      {
       "family": "Kopp",
       "given": "Karla"
      },
      {
       "family": "Moser",
       "given": "Catherine"
      },
      {
       "family": "Nagorney",
       "given": "David"
      },
      {
       "family": "O’Brien",
       "given": "Daniel"
      },
      {
       "family": "O’Neill",
       "given": "Brian Patrick"
      },
      {
       "family": "Patel",
       "given": "Tushar"
      },
      {
       "family": "Petersen",
       "given": "Gloria"
      },
      {
       "family": "Que",
       "given": "Florencia"
      },
      {
       "family": "Rivera",
       "given": "Michael"
      },
      {
       "family": "Roberts",
       "given": "Lewis"
      },
      {
       "family": "Smallridge",
       "given": "Robert"
      },
      {
       "family": "Smyrk",
       "given": "Thomas"
      },
      {
       "family": "Stanton",
       "given": "Melissa"
      },
      {
       "family": "Thompson",
       "given": "R. Houston"
      },
      {
       "family": "Torbenson",
       "given": "Michael"
      },
      {
       "family": "Yang",
       "given": "Ju Dong"
      },
      {
       "family": "Zhang",
       "given": "Lizhi"
      },
      {
       "family": "Brimo",
       "given": "Fadi"
      },
      {
       "family": "Ajani",
       "given": "Jaffer A."
      },
      {
       "family": "Gonzalez",
       "given": "Ana Maria Angulo"
      },
      {
       "family": "Behrens",
       "given": "Carmen"
      },
      {
       "family": "Bondaruk",
       "given": "Jolanta"
      },
      {
       "family": "Broaddus",
       "given": "Russell"
      },
      {
       "family": "Czerniak",
       "given": "Bogdan"
      },
      {
       "family": "Esmaeli",
       "given": "Bita"
      },
      {
       "family": "Fujimoto",
       "given": "Junya"
      },
      {
       "family": "Gershenwald",
       "given": "Jeffrey"
      },
      {
       "family": "Guo",
       "given": "Charles"
      },
      {
       "family": "Lazar",
       "given": "Alexander J."
      },
      {
       "family": "Logothetis",
       "given": "Christopher"
      },
      {
       "family": "Meric-Bernstam",
       "given": "Funda"
      },
      {
       "family": "Moran",
       "given": "Cesar"
      },
      {
       "family": "Ramondetta",
       "given": "Lois"
      },
      {
       "family": "Rice",
       "given": "David"
      },
      {
       "family": "Sood",
       "given": "Anil"
      },
      {
       "family": "Tamboli",
       "given": "Pheroze"
      },
      {
       "family": "Thompson",
       "given": "Timothy"
      },
      {
       "family": "Troncoso",
       "given": "Patricia"
      },
      {
       "family": "Tsao",
       "given": "Anne"
      },
      {
       "family": "Wistuba",
       "given": "Ignacio"
      },
      {
       "family": "Carter",
       "given": "Candace"
      },
      {
       "family": "Haydu",
       "given": "Lauren"
      },
      {
       "family": "Hersey",
       "given": "Peter"
      },
      {
       "family": "Jakrot",
       "given": "Valerie"
      },
      {
       "family": "Kakavand",
       "given": "Hojabr"
      },
      {
       "family": "Kefford",
       "given": "Richard"
      },
      {
       "family": "Lee",
       "given": "Kenneth"
      },
      {
       "family": "Long",
       "given": "Georgina"
      },
      {
       "family": "Mann",
       "given": "Graham"
      },
      {
       "family": "Quinn",
       "given": "Michael"
      },
      {
       "family": "Saw",
       "given": "Robyn"
      },
      {
       "family": "Scolyer",
       "given": "Richard"
      },
      {
       "family": "Shannon",
       "given": "Kerwin"
      },
      {
       "family": "Spillane",
       "given": "Andrew"
      },
      {
       "family": "Stretch",
       "given": "Jonathan"
      },
      {
       "family": "Synott",
       "given": "Maria"
      },
      {
       "family": "Thompson",
       "given": "John"
      },
      {
       "family": "Wilmott",
       "given": "James"
      },
      {
       "family": "Al-Ahmadie",
       "given": "Hikmat"
      },
      {
       "family": "Chan",
       "given": "Timothy A."
      },
      {
       "family": "Ghossein",
       "given": "Ronald"
      },
      {
       "family": "Gopalan",
       "given": "Anuradha"
      },
      {
       "family": "Levine",
       "given": "Douglas A."
      },
      {
       "family": "Reuter",
       "given": "Victor"
      },
      {
       "family": "Singer",
       "given": "Samuel"
      },
      {
       "family": "Singh",
       "given": "Bhuvanesh"
      },
      {
       "family": "Tien",
       "given": "Nguyen Viet"
      },
      {
       "family": "Broudy",
       "given": "Thomas"
      },
      {
       "family": "Mirsaidi",
       "given": "Cyrus"
      },
      {
       "family": "Nair",
       "given": "Praveen"
      },
      {
       "family": "Drwiega",
       "given": "Paul"
      },
      {
       "family": "Miller",
       "given": "Judy"
      },
      {
       "family": "Smith",
       "given": "Jennifer"
      },
      {
       "family": "Zaren",
       "given": "Howard"
      },
      {
       "family": "Park",
       "given": "Joong-Won"
      },
      {
       "family": "Hung",
       "given": "Nguyen Phi"
      },
      {
       "family": "Kebebew",
       "given": "Electron"
      },
      {
       "family": "Linehan",
       "given": "W. Marston"
      },
      {
       "family": "Metwalli",
       "given": "Adam R."
      },
      {
       "family": "Pacak",
       "given": "Karel"
      },
      {
       "family": "Pinto",
       "given": "Peter A."
      },
      {
       "family": "Schiffman",
       "given": "Mark"
      },
      {
       "family": "Schmidt",
       "given": "Laura S."
      },
      {
       "family": "Vocke",
       "given": "Cathy D."
      },
      {
       "family": "Wentzensen",
       "given": "Nicolas"
      },
      {
       "family": "Worrell",
       "given": "Robert"
      },
      {
       "family": "Yang",
       "given": "Hannah"
      },
      {
       "family": "Moncrieff",
       "given": "Marc"
      },
      {
       "family": "Goparaju",
       "given": "Chandra"
      },
      {
       "family": "Melamed",
       "given": "Jonathan"
      },
      {
       "family": "Pass",
       "given": "Harvey"
      },
      {
       "family": "Botnariuc",
       "given": "Natalia"
      },
      {
       "family": "Caraman",
       "given": "Irina"
      },
      {
       "family": "Cernat",
       "given": "Mircea"
      },
      {
       "family": "Chemencedji",
       "given": "Inga"
      },
      {
       "family": "Clipca",
       "given": "Adrian"
      },
      {
       "family": "Doruc",
       "given": "Serghei"
      },
      {
       "family": "Gorincioi",
       "given": "Ghenadie"
      },
      {
       "family": "Mura",
       "given": "Sergiu"
      },
      {
       "family": "Pirtac",
       "given": "Maria"
      },
      {
       "family": "Stancul",
       "given": "Irina"
      },
      {
       "family": "Tcaciuc",
       "given": "Diana"
      },
      {
       "family": "Albert",
       "given": "Monique"
      },
      {
       "family": "Alexopoulou",
       "given": "Iakovina"
      },
      {
       "family": "Arnaout",
       "given": "Angel"
      },
      {
       "family": "Bartlett",
       "given": "John"
      },
      {
       "family": "Engel",
       "given": "Jay"
      },
      {
       "family": "Gilbert",
       "given": "Sebastien"
      },
      {
       "family": "Parfitt",
       "given": "Jeremy"
      },
      {
       "family": "Sekhon",
       "given": "Harman"
      },
      {
       "family": "Thomas",
       "given": "George"
      },
      {
       "family": "Rassl",
       "given": "Doris M."
      },
      {
       "family": "Rintoul",
       "given": "Robert C."
      },
      {
       "family": "Bifulco",
       "given": "Carlo"
      },
      {
       "family": "Tamakawa",
       "given": "Raina"
      },
      {
       "family": "Urba",
       "given": "Walter"
      },
      {
       "family": "Hayward",
       "given": "Nicholas"
      },
      {
       "family": "Timmers",
       "given": "Henri"
      },
      {
       "family": "Antenucci",
       "given": "Anna"
      },
      {
       "family": "Facciolo",
       "given": "Francesco"
      },
      {
       "family": "Grazi",
       "given": "Gianluca"
      },
      {
       "family": "Marino",
       "given": "Mirella"
      },
      {
       "family": "Merola",
       "given": "Roberta"
      },
      {
       "family": "de Krijger",
       "given": "Ronald"
      },
      {
       "family": "Gimenez-Roqueplo",
       "given": "Anne-Paule"
      },
      {
       "family": "Piché",
       "given": "Alain"
      },
      {
       "family": "Chevalier",
       "given": "Simone"
      },
      {
       "family": "McKercher",
       "given": "Ginette"
      },
      {
       "family": "Birsoy",
       "given": "Kivanc"
      },
      {
       "family": "Barnett",
       "given": "Gene"
      },
      {
       "family": "Brewer",
       "given": "Cathy"
      },
      {
       "family": "Farver",
       "given": "Carol"
      },
      {
       "family": "Naska",
       "given": "Theresa"
      },
      {
       "family": "Pennell",
       "given": "Nathan A."
      },
      {
       "family": "Raymond",
       "given": "Daniel"
      },
      {
       "family": "Schilero",
       "given": "Cathy"
      },
      {
       "family": "Smolenski",
       "given": "Kathy"
      },
      {
       "family": "Williams",
       "given": "Felicia"
      },
      {
       "family": "Morrison",
       "given": "Carl"
      },
      {
       "family": "Borgia",
       "given": "Jeffrey A."
      },
      {
       "family": "Liptay",
       "given": "Michael J."
      },
      {
       "family": "Pool",
       "given": "Mark"
      },
      {
       "family": "Seder",
       "given": "Christopher W."
      },
      {
       "family": "Junker",
       "given": "Kerstin"
      },
      {
       "family": "Omberg",
       "given": "Larsson"
      },
      {
       "family": "Dinkin",
       "given": "Mikhail"
      },
      {
       "family": "Manikhas",
       "given": "George"
      },
      {
       "family": "Alvaro",
       "given": "Domenico"
      },
      {
       "family": "Bragazzi",
       "given": "Maria Consiglia"
      },
      {
       "family": "Cardinale",
       "given": "Vincenzo"
      },
      {
       "family": "Carpino",
       "given": "Guido"
      },
      {
       "family": "Gaudio",
       "given": "Eugenio"
      },
      {
       "family": "Chesla",
       "given": "David"
      },
      {
       "family": "Cottingham",
       "given": "Sandra"
      },
      {
       "family": "Dubina",
       "given": "Michael"
      },
      {
       "family": "Moiseenko",
       "given": "Fedor"
      },
      {
       "family": "Dhanasekaran",
       "given": "Renumathy"
      },
      {
       "family": "Becker",
       "given": "Karl-Friedrich"
      },
      {
       "family": "Janssen",
       "given": "Klaus-Peter"
      },
      {
       "family": "Slotta-Huspenina",
       "given": "Julia"
      },
      {
       "family": "Abdel-Rahman",
       "given": "Mohamed H."
      },
      {
       "family": "Aziz",
       "given": "Dina"
      },
      {
       "family": "Bell",
       "given": "Sue"
      },
      {
       "family": "Cebulla",
       "given": "Colleen M."
      },
      {
       "family": "Davis",
       "given": "Amy"
      },
      {
       "family": "Duell",
       "given": "Rebecca"
      },
      {
       "family": "Elder",
       "given": "J. Bradley"
      },
      {
       "family": "Hilty",
       "given": "Joe"
      },
      {
       "family": "Kumar",
       "given": "Bahavna"
      },
      {
       "family": "Lang",
       "given": "James"
      },
      {
       "family": "Lehman",
       "given": "Norman L."
      },
      {
       "family": "Mandt",
       "given": "Randy"
      },
      {
       "family": "Nguyen",
       "given": "Phuong"
      },
      {
       "family": "Pilarski",
       "given": "Robert"
      },
      {
       "family": "Rai",
       "given": "Karan"
      },
      {
       "family": "Schoenfield",
       "given": "Lynn"
      },
      {
       "family": "Senecal",
       "given": "Kelly"
      },
      {
       "family": "Wakely",
       "given": "Paul"
      },
      {
       "family": "Hansen",
       "given": "Paul"
      },
      {
       "family": "Lechan",
       "given": "Ronald"
      },
      {
       "family": "Powers",
       "given": "James"
      },
      {
       "family": "Tischler",
       "given": "Arthur"
      },
      {
       "family": "Grizzle",
       "given": "William E."
      },
      {
       "family": "Sexton",
       "given": "Katherine C."
      },
      {
       "family": "Kastl",
       "given": "Alison"
      },
      {
       "family": "Henderson",
       "given": "Joel"
      },
      {
       "family": "Porten",
       "given": "Sima"
      },
      {
       "family": "Waldmann",
       "given": "Jens"
      },
      {
       "family": "Fassnacht",
       "given": "Martin"
      },
      {
       "family": "Asa",
       "given": "Sylvia L."
      },
      {
       "family": "Schadendorf",
       "given": "Dirk"
      },
      {
       "family": "Couce",
       "given": "Marta"
      },
      {
       "family": "Graefen",
       "given": "Markus"
      },
      {
       "family": "Huland",
       "given": "Hartwig"
      },
      {
       "family": "Sauter",
       "given": "Guido"
      },
      {
       "family": "Schlomm",
       "given": "Thorsten"
      },
      {
       "family": "Simon",
       "given": "Ronald"
      },
      {
       "family": "Tennstedt",
       "given": "Pierre"
      },
      {
       "family": "Olabode",
       "given": "Oluwole"
      },
      {
       "family": "Nelson",
       "given": "Mark"
      },
      {
       "family": "Bathe",
       "given": "Oliver"
      },
      {
       "family": "Carroll",
       "given": "Peter R."
      },
      {
       "family": "Chan",
       "given": "June M."
      },
      {
       "family": "Disaia",
       "given": "Philip"
      },
      {
       "family": "Glenn",
       "given": "Pat"
      },
      {
       "family": "Kelley",
       "given": "Robin K."
      },
      {
       "family": "Landen",
       "given": "Charles N."
      },
      {
       "family": "Phillips",
       "given": "Joanna"
      },
      {
       "family": "Prados",
       "given": "Michael"
      },
      {
       "family": "Simko",
       "given": "Jeffry"
      },
      {
       "family": "Smith-McCune",
       "given": "Karen"
      },
      {
       "family": "VandenBerg",
       "given": "Scott"
      },
      {
       "family": "Roggin",
       "given": "Kevin"
      },
      {
       "family": "Fehrenbach",
       "given": "Ashley"
      },
      {
       "family": "Kendler",
       "given": "Ady"
      },
      {
       "family": "Sifri",
       "given": "Suzanne"
      },
      {
       "family": "Steele",
       "given": "Ruth"
      },
      {
       "family": "Jimeno",
       "given": "Antonio"
      },
      {
       "family": "Carey",
       "given": "Francis"
      },
      {
       "family": "Forgie",
       "given": "Ian"
      },
      {
       "family": "Mannelli",
       "given": "Massimo"
      },
      {
       "family": "Carney",
       "given": "Michael"
      },
      {
       "family": "Hernandez",
       "given": "Brenda"
      },
      {
       "family": "Campos",
       "given": "Benito"
      },
      {
       "family": "Herold-Mende",
       "given": "Christel"
      },
      {
       "family": "Jungk",
       "given": "Christin"
      },
      {
       "family": "Unterberg",
       "given": "Andreas"
      },
      {
       "family": "von Deimling",
       "given": "Andreas"
      },
      {
       "family": "Bossler",
       "given": "Aaron"
      },
      {
       "family": "Galbraith",
       "given": "Joseph"
      },
      {
       "family": "Jacobus",
       "given": "Laura"
      },
      {
       "family": "Knudson",
       "given": "Michael"
      },
      {
       "family": "Knutson",
       "given": "Tina"
      },
      {
       "family": "Ma",
       "given": "Deqin"
      },
      {
       "family": "Milhem",
       "given": "Mohammed"
      },
      {
       "family": "Sigmund",
       "given": "Rita"
      },
      {
       "family": "Godwin",
       "given": "Andrew K."
      },
      {
       "family": "Madan",
       "given": "Rashna"
      },
      {
       "family": "Rosenthal",
       "given": "Howard G."
      },
      {
       "family": "Adebamowo",
       "given": "Clement"
      },
      {
       "family": "Adebamowo",
       "given": "Sally N."
      },
      {
       "family": "Boussioutas",
       "given": "Alex"
      },
      {
       "family": "Beer",
       "given": "David"
      },
      {
       "family": "Giordano",
       "given": "Thomas"
      },
      {
       "family": "Mes-Masson",
       "given": "Anne-Marie"
      },
      {
       "family": "Saad",
       "given": "Fred"
      },
      {
       "family": "Bocklage",
       "given": "Therese"
      },
      {
       "family": "Landrum",
       "given": "Lisa"
      },
      {
       "family": "Mannel",
       "given": "Robert"
      },
      {
       "family": "Moore",
       "given": "Kathleen"
      },
      {
       "family": "Moxley",
       "given": "Katherine"
      },
      {
       "family": "Postier",
       "given": "Russel"
      },
      {
       "family": "Walker",
       "given": "Joan"
      },
      {
       "family": "Zuna",
       "given": "Rosemary"
      },
      {
       "family": "Feldman",
       "given": "Michael"
      },
      {
       "family": "Valdivieso",
       "given": "Federico"
      },
      {
       "family": "Dhir",
       "given": "Rajiv"
      },
      {
       "family": "Luketich",
       "given": "James"
      },
      {
       "family": "Pinero",
       "given": "Edna M. Mora"
      },
      {
       "family": "Quintero-Aguilo",
       "given": "Mario"
      },
      {
       "family": "Carlotti",
       "given": "Carlos Gilberto, Jr."
      },
      {
       "family": "Dos Santos",
       "given": "Jose Sebastião"
      },
      {
       "family": "Kemp",
       "given": "Rafael"
      },
      {
       "family": "Sankarankuty",
       "given": "Ajith"
      },
      {
       "family": "Tirapelli",
       "given": "Daniela"
      },
      {
       "family": "Catto",
       "given": "James"
      },
      {
       "family": "Agnew",
       "given": "Kathy"
      },
      {
       "family": "Swisher",
       "given": "Elizabeth"
      },
      {
       "family": "Creaney",
       "given": "Jenette"
      },
      {
       "family": "Robinson",
       "given": "Bruce"
      },
      {
       "family": "Shelley",
       "given": "Carl Simon"
      },
      {
       "family": "Godwin",
       "given": "Eryn M."
      },
      {
       "family": "Kendall",
       "given": "Sara"
      },
      {
       "family": "Shipman",
       "given": "Cassaundra"
      },
      {
       "family": "Bradford",
       "given": "Carol"
      },
      {
       "family": "Carey",
       "given": "Thomas"
      },
      {
       "family": "Haddad",
       "given": "Andrea"
      },
      {
       "family": "Moyer",
       "given": "Jeffey"
      },
      {
       "family": "Peterson",
       "given": "Lisa"
      },
      {
       "family": "Prince",
       "given": "Mark"
      },
      {
       "family": "Rozek",
       "given": "Laura"
      },
      {
       "family": "Wolf",
       "given": "Gregory"
      },
      {
       "family": "Bowman",
       "given": "Rayleen"
      },
      {
       "family": "Fong",
       "given": "Kwun M."
      },
      {
       "family": "Yang",
       "given": "Ian"
      },
      {
       "family": "Korst",
       "given": "Robert"
      },
      {
       "family": "Rathmell",
       "given": "W. Kimryn"
      },
      {
       "family": "Fantacone-Campbell",
       "given": "J. Leigh"
      },
      {
       "family": "Hooke",
       "given": "Jeffrey A."
      },
      {
       "family": "Kovatich",
       "given": "Albert J."
      },
      {
       "family": "Shriver",
       "given": "Craig D."
      },
      {
       "family": "DiPersio",
       "given": "John"
      },
      {
       "family": "Drake",
       "given": "Bettina"
      },
      {
       "family": "Govindan",
       "given": "Ramaswamy"
      },
      {
       "family": "Heath",
       "given": "Sharon"
      },
      {
       "family": "Ley",
       "given": "Timothy"
      },
      {
       "family": "Van Tine",
       "given": "Brian"
      },
      {
       "family": "Westervelt",
       "given": "Peter"
      },
      {
       "family": "Rubin",
       "given": "Mark A."
      },
      {
       "family": "Lee",
       "given": "Jung Il"
      },
      {
       "family": "Aredes",
       "given": "Natália D."
      },
      {
       "family": "Mariamidze",
       "given": "Armaz"
      },
      {
       "family": "Van Allen",
       "given": "Eliezer M."
      },
      {
       "family": "Cherniack",
       "given": "Andrew D."
      },
      {
       "family": "Ciriello",
       "given": "Giovanni"
      },
      {
       "family": "Sander",
       "given": "Chris"
      },
      {
       "family": "Schultz",
       "given": "Nikolaus"
      }
     ],
     "container-title": "Cell",
     "container-title-short": "Cell",
     "id": "2754712/L8NRTXRQ",
     "issue": "2",
     "issued": {
      "day": 5,
      "month": 4,
      "year": 2018
     },
     "journalAbbreviation": "Cell",
     "page": "321-337.e10",
     "page-first": "321",
     "title": "Oncogenic Signaling Pathways in The Cancer Genome Atlas",
     "type": "article-journal",
     "volume": "173"
    },
    "2754712/LVNQBT95": {
     "DOI": "10.1016/j.ifacol.2019.12.232",
     "URL": "https://www.sciencedirect.com/science/article/pii/S2405896319321135",
     "abstract": "In systems and computational biology, ordinary differential equations are used for the mechanistic modelling of biochemical networks. These models can easily have hundreds of states and parameters. Typically most parameters are unknown and estimated by fitting model output to observation. During parameter estimation the model needs to be solved repeatedly, sometimes millions of times. This can then be a computational bottleneck, and limits the employment of such models. In many situations the experimental data provides information about the steady state of the biochemical reaction network. In such cases one only needs to obtain the equilibrium state for a given set of model parameters. In this paper we exploit this fact and solve the steady state problem directly rather than integrating the ODE forward in time until steady state is reached. We use Newton’s method - like some previous studies - and develop several improvements to achieve robust convergence. To address the reliance of Newtons method on good initial guesses, we propose a continuation method. We show that the method works robustly in this setting and achieves a speed up of up to 100 compared to using ODE solves.",
     "accessed": {
      "day": 24,
      "month": 8,
      "year": 2021
     },
     "author": [
      {
       "family": "Terje Lines",
       "given": "Glenn"
      },
      {
       "family": "Paszkowski",
       "given": "Łukasz"
      },
      {
       "family": "Schmiester",
       "given": "Leonard"
      },
      {
       "family": "Weindl",
       "given": "Daniel"
      },
      {
       "family": "Stapor",
       "given": "Paul"
      },
      {
       "family": "Hasenauer",
       "given": "Jan"
      }
     ],
     "collection-title": "8th Conference on Foundations of Systems Biology in Engineering FOSBE 2019",
     "container-title": "IFAC-PapersOnLine",
     "container-title-short": "IFAC-PapersOnLine",
     "id": "2754712/LVNQBT95",
     "issue": "26",
     "issued": {
      "day": 1,
      "month": 1,
      "year": 2019
     },
     "journalAbbreviation": "IFAC-PapersOnLine",
     "language": "en",
     "page": "32-37",
     "page-first": "32",
     "title": "Efficient computation of steady states in large-scale ODE models of biochemical reaction networks",
     "type": "article-journal",
     "volume": "52"
    },
    "2754712/M82A4YPP": {
     "DOI": "10.1093/bioinformatics/bth378",
     "URL": "https://academic.oup.com/bioinformatics/article/20/17/3289/186821",
     "abstract": "Abstract.  Summary: BioNetGen allows a user to create a computational model that characterizes the dynamics of a signal transduction system, and that accounts c",
     "accessed": {
      "day": 23,
      "month": 8,
      "year": 2019
     },
     "author": [
      {
       "family": "Blinov",
       "given": "Michael L."
      },
      {
       "family": "Faeder",
       "given": "James R."
      },
      {
       "family": "Goldstein",
       "given": "Byron"
      },
      {
       "family": "Hlavacek",
       "given": "William S."
      }
     ],
     "container-title": "Bioinformatics",
     "container-title-short": "Bioinformatics",
     "id": "2754712/M82A4YPP",
     "issue": "17",
     "issued": {
      "day": 22,
      "month": 11,
      "year": 2004
     },
     "journalAbbreviation": "Bioinformatics",
     "language": "en",
     "page": "3289-3291",
     "page-first": "3289",
     "shortTitle": "BioNetGen",
     "title": "BioNetGen: software for rule-based modeling of signal transduction based on the interactions of molecular domains",
     "title-short": "BioNetGen",
     "type": "article-journal",
     "volume": "20"
    },
    "2754712/MIF24GAE": {
     "DOI": "10.1126/stke.3442006re6",
     "URL": "https://stke.sciencemag.org/content/2006/344/re6",
     "abstract": "Formalized rules for protein-protein interactions have recently been introduced to represent the binding and enzymatic activities of proteins in cellular signaling. Rules encode an understanding of how a system works in terms of the biomolecules in the system and their possible states and interactions. A set of rules can be as easy to read as a diagrammatic interaction map, but unlike most such maps, rules have precise interpretations. Rules can be processed to automatically generate a mathematical or computational model for a system, which enables explanatory and predictive insights into the system’s behavior. Rules are independent units of a model specification that facilitate model revision. Instead of changing a large number of equations or lines of code, as may be required in the case of a conventional mathematical model, a protein interaction can be introduced or modified simply by adding or changing a single rule that represents the interaction of interest. Rules can be defined and visualized by using graphs, so no specialized training in mathematics or computer science is necessary to create models or to take advantage of the representational precision of rules. Rules can be encoded in a machine-readable format to enable electronic storage and exchange of models, as well as basic knowledge about protein-protein interactions. Here, we review the motivation for rule-based modeling; applications of the approach; and issues that arise in model specification, simulation, and testing. We also discuss rule visualization and exchange and the software available for rule-based modeling.\nStrategies to cope with the biochemical complexity of signaling systems without overwhelming the modeler or his computer.\nStrategies to cope with the biochemical complexity of signaling systems without overwhelming the modeler or his computer.",
     "accessed": {
      "day": 23,
      "month": 8,
      "year": 2019
     },
     "author": [
      {
       "family": "Hlavacek",
       "given": "William S."
      },
      {
       "family": "Faeder",
       "given": "James R."
      },
      {
       "family": "Blinov",
       "given": "Michael L."
      },
      {
       "family": "Posner",
       "given": "Richard G."
      },
      {
       "family": "Hucka",
       "given": "Michael"
      },
      {
       "family": "Fontana",
       "given": "Walter"
      }
     ],
     "container-title": "Science's STKE",
     "container-title-short": "Sci. STKE",
     "id": "2754712/MIF24GAE",
     "issue": "344",
     "issued": {
      "day": 18,
      "month": 7,
      "year": 2006
     },
     "journalAbbreviation": "Sci. STKE",
     "language": "en",
     "note": "PMID: 16849649",
     "page": "re6-re6",
     "page-first": "re6",
     "title": "Rules for Modeling Signal-Transduction Systems",
     "type": "article-journal",
     "volume": "2006"
    },
    "2754712/MKPQ9727": {
     "DOI": "10.1371/journal.pcbi.1005331",
     "author": [
      {
       "family": "Fröhlich",
       "given": "F."
      },
      {
       "family": "Kaltenbacher",
       "given": "B."
      },
      {
       "family": "Theis",
       "given": "F. J."
      },
      {
       "family": "Hasenauer",
       "given": "J."
      }
     ],
     "container-title": "PLoS Computational Biology",
     "container-title-short": "PLOS Comput Biol",
     "id": "2754712/MKPQ9727",
     "issue": "1",
     "issued": {
      "month": 1,
      "year": 2017
     },
     "journalAbbreviation": "PLOS Comput Biol",
     "note": "bibtex: FroehlichKal2017",
     "page": "1-18",
     "page-first": "1",
     "title": "Scalable parameter estimation for genome-scale biochemical reaction networks",
     "type": "article-journal",
     "volume": "13"
    },
    "2754712/NAKF6985": {
     "DOI": "10.1093/bioinformatics/bty272",
     "URL": "https://academic.oup.com/bioinformatics/article/34/13/i583/5045802",
     "abstract": "AbstractMotivation.  We present an overview of the Kappa platform, an integrated suite of analysis and visualization techniques for building and interactively e",
     "accessed": {
      "day": 15,
      "month": 6,
      "year": 2020
     },
     "author": [
      {
       "family": "Boutillier",
       "given": "Pierre"
      },
      {
       "family": "Maasha",
       "given": "Mutaamba"
      },
      {
       "family": "Li",
       "given": "Xing"
      },
      {
       "family": "Medina-Abarca",
       "given": "Héctor F."
      },
      {
       "family": "Krivine",
       "given": "Jean"
      },
      {
       "family": "Feret",
       "given": "Jérôme"
      },
      {
       "family": "Cristescu",
       "given": "Ioana"
      },
      {
       "family": "Forbes",
       "given": "Angus G."
      },
      {
       "family": "Fontana",
       "given": "Walter"
      }
     ],
     "container-title": "Bioinformatics",
     "container-title-short": "Bioinformatics",
     "id": "2754712/NAKF6985",
     "issue": "13",
     "issued": {
      "day": 1,
      "month": 7,
      "year": 2018
     },
     "journalAbbreviation": "Bioinformatics",
     "language": "en",
     "note": "Publisher: Oxford Academic",
     "page": "i583-i592",
     "page-first": "i583",
     "title": "The Kappa platform for rule-based modeling",
     "type": "article-journal",
     "volume": "34"
    },
    "2754712/NDTJEJ2U": {
     "ISBN": "978-1-4939-8882-2",
     "URL": "https://doi.org/10.1007/978-1-4939-8882-2_16",
     "abstract": "Ordinary differential equation models have become a standard tool for the mechanistic description of biochemical processes. If parameters are inferred from experimental data, such mechanistic models can provide accurate predictions about the behavior of latent variables or the process under new experimental conditions. Complementarily, inference of model structure can be used to identify the most plausible model structure from a set of candidates, and, thus, gain novel biological insight. Several toolboxes can infer model parameters and structure for small- to medium-scale mechanistic models out of the box. However, models for highly multiplexed datasets can require hundreds to thousands of state variables and parameters. For the analysis of such large-scale models, most algorithms require intractably high computation times. This chapter provides an overview of the state-of-the-art methods for parameter and model inference, with an emphasis on scalability.",
     "accessed": {
      "day": 14,
      "month": 1,
      "year": 2021
     },
     "author": [
      {
       "family": "Fröhlich",
       "given": "Fabian"
      },
      {
       "family": "Loos",
       "given": "Carolin"
      },
      {
       "family": "Hasenauer",
       "given": "Jan"
      }
     ],
     "collection-title": "Methods in Molecular Biology",
     "container-title": "Gene Regulatory Networks: Methods and Protocols",
     "editor": [
      {
       "family": "Sanguinetti",
       "given": "Guido"
      },
      {
       "family": "Huynh-Thu",
       "given": "Vân Anh"
      }
     ],
     "event-place": "New York, NY",
     "id": "2754712/NDTJEJ2U",
     "issued": {
      "year": 2019
     },
     "language": "en",
     "note": "DOI: 10.1007/978-1-4939-8882-2_16",
     "page": "385-422",
     "page-first": "385",
     "publisher": "Springer",
     "publisher-place": "New York, NY",
     "title": "Scalable Inference of Ordinary Differential Equation Models of Biochemical Processes",
     "type": "chapter"
    },
    "2754712/NF7FZULE": {
     "author": [
      {
       "family": "Hucka",
       "given": "M."
      },
      {
       "family": "Finney",
       "given": "A."
      },
      {
       "family": "Sauro",
       "given": "H. M."
      },
      {
       "family": "Bolouri",
       "given": "H."
      },
      {
       "family": "Doyle",
       "given": "J. C."
      },
      {
       "family": "Kitano",
       "given": "H."
      },
      {
       "family": "Arkin",
       "given": "A. P."
      },
      {
       "family": "Bornstein",
       "given": "B. J."
      },
      {
       "family": "Bray",
       "given": "D."
      },
      {
       "family": "Cornish-Bowden",
       "given": "A."
      },
      {
       "family": "Cuellar",
       "given": "A. A."
      },
      {
       "family": "Dronov",
       "given": "S."
      },
      {
       "family": "Gilles",
       "given": "E. D."
      },
      {
       "family": "Ginkel",
       "given": "M."
      },
      {
       "family": "Gor",
       "given": "V."
      },
      {
       "family": "Goryanin",
       "given": "I. I."
      },
      {
       "family": "Hedley",
       "given": "W. J."
      },
      {
       "family": "Hodgman",
       "given": "T. C."
      },
      {
       "family": "Hofmeyr",
       "given": "J.-H."
      },
      {
       "family": "Hunter",
       "given": "P. J."
      },
      {
       "family": "Juty",
       "given": "N. S."
      },
      {
       "family": "Kasberger",
       "given": "J. L."
      },
      {
       "family": "Kremling",
       "given": "A."
      },
      {
       "family": "Kummer",
       "given": "U."
      },
      {
       "family": "Novère",
       "given": "N. Le"
      },
      {
       "family": "Loew",
       "given": "L. M."
      },
      {
       "family": "Lucio",
       "given": "D."
      },
      {
       "family": "Mendes",
       "given": "P."
      },
      {
       "family": "Minch",
       "given": "E."
      },
      {
       "family": "Mjolsness",
       "given": "E. D."
      },
      {
       "family": "Nakayama",
       "given": "Y."
      },
      {
       "family": "Nelson",
       "given": "M. R."
      },
      {
       "family": "Nielsen",
       "given": "P. F."
      },
      {
       "family": "Sakurada",
       "given": "T."
      },
      {
       "family": "Schaff",
       "given": "J. C."
      },
      {
       "family": "Shapiro",
       "given": "B. E."
      },
      {
       "family": "Shimizu",
       "given": "T. S."
      },
      {
       "family": "Spence",
       "given": "H. D."
      },
      {
       "family": "Stelling",
       "given": "J."
      },
      {
       "family": "Takahashi",
       "given": "K."
      },
      {
       "family": "Tomita",
       "given": "M."
      },
      {
       "family": "Wagner",
       "given": "J."
      },
      {
       "family": "Wang",
       "given": "J."
      }
     ],
     "container-title": "Bioinf.",
     "id": "2754712/NF7FZULE",
     "issue": "4",
     "issued": {
      "year": 2003
     },
     "note": "bibtex: HuckaFin2003",
     "page": "524-531",
     "page-first": "524",
     "title": "The systems biology markup language (SBML): a medium for representation and exchange of biochemical network models",
     "type": "article-journal",
     "volume": "19"
    },
    "2754712/NPR437GQ": {
     "author": [
      {
       "family": "Hunter",
       "given": "T."
      }
     ],
     "container-title": "Cell",
     "container-title-short": "Cell",
     "id": "2754712/NPR437GQ",
     "issue": "1",
     "issued": {
      "day": 7,
      "month": 1,
      "year": 2000
     },
     "journalAbbreviation": "Cell",
     "language": "eng",
     "note": "PMID: 10647936",
     "page": "113-127",
     "page-first": "113",
     "title": "Signaling--2000 and beyond",
     "type": "article-journal",
     "volume": "100"
    },
    "2754712/NYMSV8TA": {
     "DOI": "10.1186/s13059-019-1887-9",
     "URL": "https://doi.org/10.1186/s13059-019-1887-9",
     "abstract": "Insufficient performance of optimization-based approaches for the fitting of mathematical models is still a major bottleneck in systems biology. In this article, the reasons and methodological challenges are summarized as well as their impact in benchmark studies. Important aspects for achieving an increased level of evidence for benchmark results are discussed. Based on general guidelines for benchmarking in computational biology, a collection of tailored guidelines is presented for performing informative and unbiased benchmarking of optimization-based fitting approaches. Comprehensive benchmark studies based on these recommendations are urgently required for the establishment of a robust and reliable methodology for the systems biology community.",
     "accessed": {
      "day": 24,
      "month": 8,
      "year": 2021
     },
     "author": [
      {
       "family": "Kreutz",
       "given": "Clemens"
      }
     ],
     "container-title": "Genome Biology",
     "container-title-short": "Genome Biology",
     "id": "2754712/NYMSV8TA",
     "issue": "1",
     "issued": {
      "day": 16,
      "month": 12,
      "year": 2019
     },
     "journalAbbreviation": "Genome Biology",
     "page": "281",
     "page-first": "281",
     "title": "Guidelines for benchmarking of optimization-based approaches for fitting mathematical models",
     "type": "article-journal",
     "volume": "20"
    },
    "2754712/QR4JIKLV": {
     "DOI": "10.1016/0092-8674(90)90801-K",
     "URL": "http://www.sciencedirect.com/science/article/pii/009286749090801K",
     "accessed": {
      "day": 23,
      "month": 8,
      "year": 2019
     },
     "author": [
      {
       "family": "Ullrich",
       "given": "Axel"
      },
      {
       "family": "Schlessinger",
       "given": "Joseph"
      }
     ],
     "container-title": "Cell",
     "container-title-short": "Cell",
     "id": "2754712/QR4JIKLV",
     "issue": "2",
     "issued": {
      "day": 20,
      "month": 4,
      "year": 1990
     },
     "journalAbbreviation": "Cell",
     "page": "203-212",
     "page-first": "203",
     "title": "Signal transduction by receptors with tyrosine kinase activity",
     "type": "article-journal",
     "volume": "61"
    },
    "2754712/QTNJGKHE": {
     "DOI": "10.1109/BIBM.2016.7822739",
     "abstract": "Biochemical processes typically operate on molecular sites (domains, motifs, residues). In rule-based modeling languages such as BioNetGen (BNG), reactions driven by the same set of sites with the same rate law can be represented using a single reaction rule. This leads to compact model representations when sites behave independently, but not when a large number of sites interact cooperatively. Additionally, loops of reactions are constrained by detailed balance equations involving their rate constants, but these constraints have to be enforced manually when specifying rate laws for rules. Here, we introduce the energy-based BioNetGen specification (eBNG), in which models always satisfy detailed balance and cooperative interactions are compactly specified as free energy contributions. We demonstrate this approach using well-known models of molecular cooperativity, such as ligand-induced receptor dimerization and allosteric modulation.",
     "author": [
      {
       "family": "Sekar",
       "given": "J. A. P."
      },
      {
       "family": "Hogg",
       "given": "J. S."
      },
      {
       "family": "Faeder",
       "given": "J. R."
      }
     ],
     "container-title": "2016 IEEE International Conference on Bioinformatics and Biomedicine (BIBM)",
     "event": "2016 IEEE International Conference on Bioinformatics and Biomedicine (BIBM)",
     "id": "2754712/QTNJGKHE",
     "issued": {
      "month": 12,
      "year": 2016
     },
     "page": "1460-1467",
     "page-first": "1460",
     "title": "Energy-based modeling in BioNetGen",
     "type": "paper-conference"
    },
    "2754712/RFM5WDSL": {
     "DOI": "10.1007/978-1-61779-833-7_2",
     "abstract": "The behavior of most dynamical models not only depends on the wiring but also on the kind and strength of interactions which are reflected in the parameter values of the model. The predictive value of mathematical models therefore critically hinges on the quality of the parameter estimates. Constraining a dynamical model by an appropriate parameterization follows a 3-step process. In an initial step, it is important to evaluate the sensitivity of the parameters of the model with respect to the model output of interest. This analysis points at the identifiability of model parameters and can guide the design of experiments. In the second step, the actual fitting needs to be carried out. This step requires special care as, on the one hand, noisy as well as partial observations can corrupt the identification of system parameters. On the other hand, the solution of the dynamical system usually depends in a highly nonlinear fashion on its parameters and, as a consequence, parameter estimation procedures get easily trapped in local optima. Therefore any useful parameter estimation procedure has to be robust and efficient with respect to both challenges. In the final step, it is important to access the validity of the optimized model. A number of reviews have been published on the subject. A good, nontechnical overview is provided by Jaqaman and Danuser (Nat Rev Mol Cell Biol 7(11):813-819, 2006) and a classical introduction, focussing on the algorithmic side, is given in Press (Numerical recipes: The art of scientific computing, Cambridge University Press, 3rd edn., 2007, Chapters 10 and 15). We will focus on the practical issues related to parameter estimation and use a model of the TGFβ-signaling pathway as an educative example. Corresponding parameter estimation software and models based on MATLAB code can be downloaded from the authors's web page (                 http://www.bsse.ethz.ch/cobi                                ).",
     "author": [
      {
       "family": "Geier",
       "given": "Florian"
      },
      {
       "family": "Fengos",
       "given": "Georgios"
      },
      {
       "family": "Felizzi",
       "given": "Federico"
      },
      {
       "family": "Iber",
       "given": "Dagmar"
      }
     ],
     "container-title": "Methods in Molecular Biology (Clifton, N.J.)",
     "container-title-short": "Methods Mol Biol",
     "id": "2754712/RFM5WDSL",
     "issued": {
      "year": 2012
     },
     "journalAbbreviation": "Methods Mol Biol",
     "language": "eng",
     "note": "PMID: 23361979",
     "page": "23-39",
     "page-first": "23",
     "shortTitle": "Analyzing and constraining signaling networks",
     "title": "Analyzing and constraining signaling networks: parameter estimation for the user",
     "title-short": "Analyzing and constraining signaling networks",
     "type": "article-journal",
     "volume": "880"
    },
    "2754712/RUR9I9SQ": {
     "DOI": "10.1371/journal.pcbi.1010322",
     "abstract": "Motivation Because they effectively represent mass action kinetics, ordinary differential equation models are widely used to describe biochemical processes. Optimization-based calibration of these models on experimental data can be challenging, even for low-dimensional problems. However, reliable model calibration is a prerequisite for many subsequent analysis steps, including uncertainty analysis, model selection and biological interpretation. Although multiple hypothesis have been advanced to explain why optimization based calibration of biochemical models is challenging, there are few comprehensive studies that test these hypothesis and tools for performing such studies are also lacking.\nResults We implemented an established trust-region method as a modular python framework (fides) to enable structured comparison of different approaches to ODE model calibration involving Hessian approximation schemes and trust-region subproblem solvers. We evaluate fides on a set of benchmark problems that include experimental data. We find a high variability in optimizer performance among different implementations of the same algorithm, with fides performing more reliably that other implementations investigated. Our investigation of possible sources of poor optimizer performance identify shortcomings in the widely used Gauss-Newton approximation. We address these shortcomings by proposing a novel hybrid Hessian approximation scheme that enhances optimizer performance.\nAvailability Fides is published under the permissive BSD-3-Clause license with source code publicly available at https://github.com/fides-dev/fides. Citeable releases are archived on Zenodo.\nContact fabian_froehlich{at}hms.harvard.edu and peter_sorger{at}hms.harvard.edu\nSupplementary information Supplementary data are available at Bioinformatics online and at https://github.com/fides-dev/fides-benchmark.",
     "author": [
      {
       "family": "Fröhlich",
       "given": "Fabian"
      },
      {
       "family": "Sorger",
       "given": "Peter K."
      }
     ],
     "container-title": "PLOS Computational Biology",
     "container-title-short": "PLoS Comp. Bio.",
     "id": "2754712/RUR9I9SQ",
     "issue": "7",
     "issued": {
      "year": 2022
     },
     "journalAbbreviation": "PLoS Comp. Bio.",
     "language": "en",
     "page": "e1010322",
     "page-first": "e1010322",
     "shortTitle": "Fides",
     "title": "Fides: Reliable Trust-Region Optimization for Parameter Estimation of Ordinary Differential Equation Models",
     "title-short": "Fides",
     "type": "article-journal",
     "volume": "18"
    },
    "2754712/RYRYBYZA": {
     "author": [
      {
       "family": "Raue",
       "given": "A."
      },
      {
       "family": "Steiert",
       "given": "B."
      },
      {
       "family": "Schelker",
       "given": "M."
      },
      {
       "family": "Kreutz",
       "given": "C."
      },
      {
       "family": "Maiwald",
       "given": "T."
      },
      {
       "family": "Hass",
       "given": "H."
      },
      {
       "family": "Vanlier",
       "given": "J."
      },
      {
       "family": "Tönsing",
       "given": "C."
      },
      {
       "family": "Adlung",
       "given": "L."
      },
      {
       "family": "Engesser",
       "given": "R."
      },
      {
       "family": "Mader",
       "given": "W."
      },
      {
       "family": "Heinemann",
       "given": "T."
      },
      {
       "family": "Hasenauer",
       "given": "J."
      },
      {
       "family": "Schilling",
       "given": "M."
      },
      {
       "family": "Höfer",
       "given": "T."
      },
      {
       "family": "Klipp",
       "given": "E."
      },
      {
       "family": "Theis",
       "given": "F. J."
      },
      {
       "family": "Klingmüller",
       "given": "U."
      },
      {
       "family": "Schöberl",
       "given": "B."
      },
      {
       "family": "J.Timmer",
       "given": ""
      }
     ],
     "container-title": "Bioinformatics",
     "id": "2754712/RYRYBYZA",
     "issue": "21",
     "issued": {
      "month": 11,
      "year": 2015
     },
     "page": "3558-3560",
     "page-first": "3558",
     "title": "Data2Dynamics: a modeling environment tailored to parameter estimation in dynamical systems",
     "type": "article-journal",
     "volume": "31"
    },
    "2754712/S5LTETKT": {
     "DOI": "10.2166/hydro.2011.041",
     "URL": "https://doi.org/10.2166/hydro.2011.041",
     "abstract": "Activated sludge models can be very useful for designing and managing wastewater treatment plants (WWTPs). However, as with every model, they need to be calibrated for correct and reliable application. Activated sludge model calibration is still a crucial point that needs appropriate guidance. Indeed, although calibration protocols have been developed, the model calibration still represents the main bottleneck to modelling. This paper presents a procedure for the calibration of an activated sludge model based on a comprehensive sensitivity analysis and a novel step-wise Monte Carlo-based calibration of the subset of influential parameters. In the proposed procedure the complex calibration issue is tackled both by making a prior screening of the most influential model parameters and by simplifying the problem of finding the optimal parameter set by splitting the estimation task into steps. The key point of the proposed step-wise procedure is that calibration is undertaken for sub-groups of variables instead of solving a complex multi-objective function. Moreover, even with this step-wise approach parameter identifiability issues may occur, but this is dealt with by using the general likelihood uncertainty estimation (GLUE) method, that so far has rarely been used in the field of wastewater modelling. An example from a real case study illustrates the effectiveness of the proposed methodology. Particularly, a model was built for the simulation of the nutrient removal in a Bardenpho scheme plant. The model was successfully and efficiently calibrated to a large WWTP in Sicily.",
     "accessed": {
      "day": 5,
      "month": 9,
      "year": 2021
     },
     "author": [
      {
       "family": "Mannina",
       "given": "Giorgio"
      },
      {
       "family": "Cosenza",
       "given": "Alida"
      },
      {
       "family": "Vanrolleghem",
       "given": "Peter A."
      },
      {
       "family": "Viviani",
       "given": "Gaspare"
      }
     ],
     "container-title": "Journal of Hydroinformatics",
     "container-title-short": "Journal of Hydroinformatics",
     "id": "2754712/S5LTETKT",
     "issue": "4",
     "issued": {
      "day": 5,
      "month": 1,
      "year": 2011
     },
     "journalAbbreviation": "Journal of Hydroinformatics",
     "page": "575-595",
     "page-first": "575",
     "title": "A practical protocol for calibration of nutrient removal wastewater treatment models",
     "type": "article-journal",
     "volume": "13"
    },
    "2754712/SP36R7LH": {
     "DOI": "10.1371/journal.pone.0027755",
     "author": [
      {
       "family": "Chis",
       "given": "O.-T."
      },
      {
       "family": "Banga",
       "given": "J. R."
      },
      {
       "family": "Balsa-Canto",
       "given": "E."
      }
     ],
     "container-title": "PLoS ONE",
     "id": "2754712/SP36R7LH",
     "issue": "11",
     "issued": {
      "month": 11,
      "year": 2011
     },
     "note": "bibtex: ChisBan2011",
     "page": "e27755",
     "page-first": "e27755",
     "title": "Structural identifiability of systems biology models: A critical comparison of methods",
     "type": "article-journal",
     "volume": "6"
    },
    "2754712/URVR5RD5": {
     "DOI": "10.1016/j.ccr.2012.10.009",
     "URL": "https://www.ncbi.nlm.nih.gov/pmc/articles/PMC3713778/",
     "abstract": "BRAFV600E drives tumors by dysregulating ERK signaling. In these tumors, we show that high levels of ERK-dependent negative feedback potently suppress ligand-dependent mitogenic signaling and Ras function. BRAFV600E activation is Ras-independent and it signals as a RAF-inhibitor sensitive monomer. RAF inhibitors potently inhibit RAF monomers and ERK signaling, causing relief of ERK-dependent feedback, reactivation of ligand-dependent signal transduction, increased Ras-GTP and generation of RAF inhibitor-resistant RAF dimers. This results in a rebound in ERK activity and culminates in a new steady state, wherein ERK signaling is elevated compared to its initial nadir after RAF inhibition. In this state, ERK signaling is RAF inhibitor resistant, and MEK inhibitor sensitive, and combined inhibition results in enhancement of ERK-pathway inhibition and antitumor activity.",
     "accessed": {
      "day": 23,
      "month": 8,
      "year": 2018
     },
     "author": [
      {
       "family": "Lito",
       "given": "Piro"
      },
      {
       "family": "Pratilas",
       "given": "Christine A."
      },
      {
       "family": "Joseph",
       "given": "Eric W."
      },
      {
       "family": "Tadi",
       "given": "Madhavi"
      },
      {
       "family": "Halilovic",
       "given": "Ensar"
      },
      {
       "family": "Zubrowski",
       "given": "Matthew"
      },
      {
       "family": "Huang",
       "given": "Alan"
      },
      {
       "family": "Wong",
       "given": "Wai Lin"
      },
      {
       "family": "Callahan",
       "given": "Margaret K."
      },
      {
       "family": "Merghoub",
       "given": "Taha"
      },
      {
       "family": "Wolchok",
       "given": "Jedd D."
      },
      {
       "family": "de Stanchina",
       "given": "Elisa"
      },
      {
       "family": "Chandarlapaty",
       "given": "Sarat"
      },
      {
       "family": "Poulikakos",
       "given": "Poulikos I."
      },
      {
       "family": "Fagin",
       "given": "James A."
      },
      {
       "family": "Rosen",
       "given": "Neal"
      }
     ],
     "container-title": "Cancer cell",
     "container-title-short": "Cancer Cell",
     "id": "2754712/URVR5RD5",
     "issue": "5",
     "issued": {
      "day": 13,
      "month": 11,
      "year": 2012
     },
     "journalAbbreviation": "Cancer Cell",
     "note": "PMID: 23153539\nPMCID: PMC3713778",
     "page": "668-682",
     "page-first": "668",
     "title": "Relief of Profound Feedback Inhibition of Mitogenic Signaling by RAF Inhibitors Attenuates their Activity in BRAFV600E Melanomas",
     "type": "article-journal",
     "volume": "22"
    },
    "2754712/VAJ8A9TA": {
     "author": [
      {
       "family": "Wegscheider",
       "given": "Rud"
      }
     ],
     "container-title": "Monatshefte für Chemie und verwandte Teile anderer Wissenschaften",
     "id": "2754712/VAJ8A9TA",
     "issue": "8",
     "issued": {
      "year": 1911
     },
     "page": "849-906",
     "page-first": "849",
     "title": "Über simultane Gleichgewichte und die Beziehungen zwischen Thermodynamik und Reactionskinetik homogener Systeme",
     "type": "article-journal",
     "volume": "32"
    },
    "2754712/WCVMC7CZ": {
     "DOI": "10.1007/978-1-4939-7125-1_20",
     "abstract": "Transcriptional regulatory circuits are often complex, consisting of many components and regulatory interactions. Mathematical modeling is an important tool for understanding the behavior of these circuits, and identifying gaps in our understanding of gene regulation. Ordinary differential equations (ODEs) are a commonly used formalism for constructing mathematical models of complex regulatory networks. Here, I outline the steps involved in developing, parameterizing, and testing an ODE model of a gene regulatory network.",
     "author": [
      {
       "family": "Seaton",
       "given": "Daniel D."
      }
     ],
     "container-title": "Methods in Molecular Biology (Clifton, N.J.)",
     "container-title-short": "Methods Mol Biol",
     "id": "2754712/WCVMC7CZ",
     "issued": {
      "year": 2017
     },
     "journalAbbreviation": "Methods Mol Biol",
     "language": "eng",
     "note": "PMID: 28623594",
     "page": "317-330",
     "page-first": "317",
     "title": "ODE-Based Modeling of Complex Regulatory Circuits",
     "type": "article-journal",
     "volume": "1629"
    },
    "2754712/X784IDZJ": {
     "DOI": "10.1038/ncb1497",
     "author": [
      {
       "family": "Aldridge",
       "given": "B. B."
      },
      {
       "family": "Burke",
       "given": "J. M."
      },
      {
       "family": "Lauffenburger",
       "given": "D. A."
      },
      {
       "family": "Sorger",
       "given": "P. K."
      }
     ],
     "container-title": "Nature Cell Biology",
     "id": "2754712/X784IDZJ",
     "issue": "11",
     "issued": {
      "month": 11,
      "year": 2006
     },
     "note": "bibtex: AldridgeBur2006",
     "page": "1195-1203",
     "page-first": "1195",
     "title": "Physicochemical modelling of cell signalling pathways",
     "type": "article-journal",
     "volume": "8"
    },
    "2754712/Y2DU9IB4": {
     "DOI": "10.1002/wsbm.1482",
     "abstract": "Cardiac electrophysiology models are among the most mature and well-studied mathematical models of biological systems. This maturity is bringing new challenges as models are being used increasingly to make quantitative rather than qualitative predictions. As such, calibrating the parameters within ion current and action potential (AP) models to experimental data sets is a crucial step in constructing a predictive model. This review highlights some of the fundamental concepts in cardiac model calibration and is intended to be readily understood by computational and mathematical modelers working in other fields of biology. We discuss the classic and latest approaches to calibration in the electrophysiology field, at both the ion channel and cellular AP scales. We end with a discussion of the many challenges that work to date has raised and the need for reproducible descriptions of the calibration process to enable models to be recalibrated to new data sets and built upon for new studies. This article is categorized under: Analytical and Computational Methods > Computational Methods Physiology > Mammalian Physiology in Health and Disease Models of Systems Properties and Processes > Cellular Models.",
     "author": [
      {
       "family": "Whittaker",
       "given": "Dominic G."
      },
      {
       "family": "Clerx",
       "given": "Michael"
      },
      {
       "family": "Lei",
       "given": "Chon Lok"
      },
      {
       "family": "Christini",
       "given": "David J."
      },
      {
       "family": "Mirams",
       "given": "Gary R."
      }
     ],
     "container-title": "Wiley Interdisciplinary Reviews. Systems Biology and Medicine",
     "container-title-short": "Wiley Interdiscip Rev Syst Biol Med",
     "id": "2754712/Y2DU9IB4",
     "issue": "4",
     "issued": {
      "month": 7,
      "year": 2020
     },
     "journalAbbreviation": "Wiley Interdiscip Rev Syst Biol Med",
     "language": "eng",
     "note": "PMID: 32084308",
     "page": "e1482",
     "page-first": "e1482",
     "title": "Calibration of ionic and cellular cardiac electrophysiology models",
     "type": "article-journal",
     "volume": "12"
    },
    "2754712/Y3E9IYH8": {
     "URL": "https://www.biorxiv.org/content/10.1101/2022.02.17.480899v1",
     "abstract": "BRAFV600E is prototypical of oncogenic mutations that can be targeted therapeutically and treatment of BRAF-mutant melanomas with RAF and MEK inhibitors results in rapid tumor regression. However, drug-induced rewiring causes BRAFV600E melanoma cells to rapidly acquire a drug-adapted state. In patients this is thought to promote acquisition or selection for resistance mutations and disease recurrence. In this paper we use an energy-based implementation of ordinary differential equations in combination with proteomic, transcriptomic and imaging data from melanoma cells, to model the precise mechanisms responsible for adaptive rewiring. We demonstrate the presence of two parallel MAPK (RAF-MEK-ERK kinase) reaction channels in BRAFV600E melanoma cells that are differentially sensitive to RAF and MEK inhibitors. This arises from differences in protein oligomerization and allosteric regulation induced by oncogenic mutations and drug binding. As a result, the RAS-regulated MAPK channel can be active under conditions in which the BRAFV600E-driven channel is fully inhibited. Causal tracing demonstrates that this provides a sufficient quantitative explanation for initial and acquired responses to multiple different RAF and MEK inhibitors individually and in combination.\nHighlightsA thermodynamic framework enables structure-based description of allosteric interactions in the EGFR and MAPK pathwaysCausal decomposition of efficacy of targeted drugs elucidates rewiring of MAPK channelsModel-based extrapolation from type I½ RAF inhibitors to type II RAF inhibitorsA unified mechanistic explanation for adaptive and genetic resistance across BRAF-cancers",
     "accessed": {
      "day": 25,
      "month": 3,
      "year": 2022
     },
     "author": [
      {
       "family": "Fröhlich",
       "given": "Fabian"
      },
      {
       "family": "Gerosa",
       "given": "Luca"
      },
      {
       "family": "Muhlich",
       "given": "Jeremy"
      },
      {
       "family": "Sorger",
       "given": "Peter K."
      }
     ],
     "id": "2754712/Y3E9IYH8",
     "issued": {
      "day": 18,
      "month": 2,
      "year": 2022
     },
     "language": "en",
     "note": "DOI: 10.1101/2022.02.17.480899\nSection: New Results\nType: article",
     "page": "2022.02.17.480899",
     "page-first": "2022.02.17.480899",
     "publisher": "bioRxiv",
     "title": "Mechanistic model of MAPK signaling reveals how allostery and rewiring contribute to drug resistance",
     "type": "report"
    },
    "2754712/YDMLXLFR": {
     "DOI": "10.1145/1089014.1089020",
     "author": [
      {
       "family": "Hindmarsh",
       "given": "A. C."
      },
      {
       "family": "Brown",
       "given": "P. N."
      },
      {
       "family": "Grant",
       "given": "K. E."
      },
      {
       "family": "Lee",
       "given": "S. L."
      },
      {
       "family": "Serban",
       "given": "R."
      },
      {
       "family": "Shumaker",
       "given": "D. E."
      },
      {
       "family": "Woodward",
       "given": "C. S."
      }
     ],
     "container-title": "ACM Transaction Mathematical Software",
     "id": "2754712/YDMLXLFR",
     "issue": "3",
     "issued": {
      "month": 9,
      "year": 2005
     },
     "page": "363-396",
     "page-first": "363",
     "title": "SUNDIALS: Suite of Nonlinear and Differential/Algebraic Equation Solvers",
     "type": "article-journal",
     "volume": "31"
    },
    "2754712/YK9CS8BY": {
     "DOI": "10.1038/s41580-020-0255-7",
     "URL": "https://www-nature-com.ezp-prod1.hul.harvard.edu/articles/s41580-020-0255-7",
     "abstract": "Extracellular signal-regulated kinase 1 (ERK1) and ERK2 relay cell growth and mitogenic signals to multiple substrates, and thus control essential physiological processes. This Review discusses the regulation of ERKs, and their control of cell proliferation, cell survival, cell growth, cell metabolism, cell migration and cell differentiation.",
     "accessed": {
      "day": 7,
      "month": 12,
      "year": 2020
     },
     "author": [
      {
       "family": "Lavoie",
       "given": "Hugo"
      },
      {
       "family": "Gagnon",
       "given": "Jessica"
      },
      {
       "family": "Therrien",
       "given": "Marc"
      }
     ],
     "container-title": "Nature Reviews Molecular Cell Biology",
     "container-title-short": "Nat Rev Mol Cell Biol",
     "id": "2754712/YK9CS8BY",
     "issue": "10",
     "issued": {
      "month": 10,
      "year": 2020
     },
     "journalAbbreviation": "Nat Rev Mol Cell Biol",
     "language": "en",
     "note": "Number: 10\nPublisher: Nature Publishing Group",
     "page": "607-632",
     "page-first": "607",
     "shortTitle": "ERK signalling",
     "title": "ERK signalling: a master regulator of cell behaviour, life and fate",
     "title-short": "ERK signalling",
     "type": "article-journal",
     "volume": "21"
    },
    "undefined": {
     "DOI": "10.1371/journal.pcbi.1008646",
     "URL": "https://journals.plos.org/ploscompbiol/article?id=10.1371/journal.pcbi.1008646",
     "abstract": "Reproducibility and reusability of the results of data-based modeling studies are essential. Yet, there has been—so far—no broadly supported format for the specification of parameter estimation problems in systems biology. Here, we introduce PEtab, a format which facilitates the specification of parameter estimation problems using Systems Biology Markup Language (SBML) models and a set of tab-separated value files describing the observation model and experimental data as well as parameters to be estimated. We already implemented PEtab support into eight well-established model simulation and parameter estimation toolboxes with hundreds of users in total. We provide a Python library for validation and modification of a PEtab problem and currently 20 example parameter estimation problems based on recent studies.",
     "accessed": {
      "day": 13,
      "month": 4,
      "year": 2021
     },
     "author": [
      {
       "family": "Schmiester",
       "given": "Leonard"
      },
      {
       "family": "Schälte",
       "given": "Yannik"
      },
      {
       "family": "Bergmann",
       "given": "Frank T."
      },
      {
       "family": "Camba",
       "given": "Tacio"
      },
      {
       "family": "Dudkin",
       "given": "Erika"
      },
      {
       "family": "Egert",
       "given": "Janine"
      },
      {
       "family": "Fröhlich",
       "given": "Fabian"
      },
      {
       "family": "Fuhrmann",
       "given": "Lara"
      },
      {
       "family": "Hauber",
       "given": "Adrian L."
      },
      {
       "family": "Kemmer",
       "given": "Svenja"
      },
      {
       "family": "Lakrisenko",
       "given": "Polina"
      },
      {
       "family": "Loos",
       "given": "Carolin"
      },
      {
       "family": "Merkt",
       "given": "Simon"
      },
      {
       "family": "Müller",
       "given": "Wolfgang"
      },
      {
       "family": "Pathirana",
       "given": "Dilan"
      },
      {
       "family": "Raimúndez",
       "given": "Elba"
      },
      {
       "family": "Refisch",
       "given": "Lukas"
      },
      {
       "family": "Rosenblatt",
       "given": "Marcus"
      },
      {
       "family": "Stapor",
       "given": "Paul L."
      },
      {
       "family": "Städter",
       "given": "Philipp"
      },
      {
       "family": "Wang",
       "given": "Dantong"
      },
      {
       "family": "Wieland",
       "given": "Franz-Georg"
      },
      {
       "family": "Banga",
       "given": "Julio R."
      },
      {
       "family": "Timmer",
       "given": "Jens"
      },
      {
       "family": "Villaverde",
       "given": "Alejandro F."
      },
      {
       "family": "Sahle",
       "given": "Sven"
      },
      {
       "family": "Kreutz",
       "given": "Clemens"
      },
      {
       "family": "Hasenauer",
       "given": "Jan"
      },
      {
       "family": "Weindl",
       "given": "Daniel"
      }
     ],
     "container-title": "PLOS Computational Biology",
     "container-title-short": "PLOS Computational Biology",
     "id": "undefined",
     "issue": "1",
     "issued": {
      "day": 26,
      "month": 1,
      "year": 2021
     },
     "journalAbbreviation": "PLOS Computational Biology",
     "language": "en",
     "note": "Publisher: Public Library of Science",
     "page": "e1008646",
     "page-first": "e1008646",
     "title": "PEtab—Interoperable specification of parameter estimation problems in systems biology",
     "type": "article-journal",
     "volume": "17"
    }
   }
  },
  "kernelspec": {
   "display_name": "Python (ebng chapter)",
   "language": "python",
   "name": "python3_enbg"
  },
  "language_info": {
   "codemirror_mode": {
    "name": "ipython",
    "version": 3
   },
   "file_extension": ".py",
   "mimetype": "text/x-python",
   "name": "python",
   "nbconvert_exporter": "python",
   "pygments_lexer": "ipython3",
   "version": "3.9.13"
  },
  "latex_metadata": {
   "affiliation": "Department of Systems Biology, Harvard Medical School, Boston, MA 02115, USA",
   "author": "Fabian Föhlich",
   "title": "A Practical Guide for the Efficient Formulation and Calibration of Large, Energy Rule-Based Models of Cellular Signal Transduction"
  },
  "pycharm": {
   "stem_cell": {
    "cell_type": "raw",
    "metadata": {
     "collapsed": false
    },
    "source": []
   }
  }
 },
 "nbformat": 4,
 "nbformat_minor": 1
}
